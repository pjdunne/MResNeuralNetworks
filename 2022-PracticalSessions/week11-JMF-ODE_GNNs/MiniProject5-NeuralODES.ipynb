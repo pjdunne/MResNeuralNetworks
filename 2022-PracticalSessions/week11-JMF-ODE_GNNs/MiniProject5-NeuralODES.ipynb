{
 "cells": [
  {
   "cell_type": "markdown",
   "id": "983128f8",
   "metadata": {},
   "source": [
    "# Mini project 5 - Neural ODEs and Chaos\n",
    "\n",
    "In the classwork (Wednesday 15th December 2021) we studied the basic `pydiffeq` example of fitting an ordinary differential equation.\n",
    "\n",
    "In this project we are going to extend this to a more complicated differential equation - the Lorenz attractor. This is a three-dimensional ordinary differential equation, well known for being one of the most simple examples of a chaotic system. Edward Lorenz was a meteorologist, attempting to build a 2-dimensional model of the atmosphere, with heat transfer from below to above.\n",
    "\n",
    "The system is challenging to model on a computer as for a wide range of the parameter space it exhibits chaos - infinitesimal variations in the input parameters amplify during time integration into entirely different regions of the parameter space (the 'butterfly effect', and the reason we cannot predict weather more than a few days in advance).\n",
    "\n",
    "A small snippet of code implementing the Lorenz system is below. This should integrate with your Classwork notebook.\n",
    "Note that you will need to adjust other parameters, particularly take care that the correct number of parameters (the Lorenz system is three dimensional, in class we studied a two dimensional spiral ODE) are being propagated through.\n",
    "\n",
    "The 'Lorenz system' article on Wikipedia is actually quite detailed, for background and references to textbook solutions: https://en.wikipedia.org/wiki/Lorenz_system\n",
    "\n",
    "For a quick (re)introduction to the numerical solution of ODEs, chapter 17 in the online version of Numerical Recipes is a good starting point: http://numerical.recipes/book/book.html It also has a practical 'cookbook' description of adapting an arbitary differential equation to a set of coupled first-order differential equations."
   ]
  },
  {
   "cell_type": "code",
   "execution_count": null,
   "id": "99dfe4ea",
   "metadata": {},
   "outputs": [],
   "source": [
    "#  From https://scipython.com/blog/the-lorenz-attractor/\n",
    "# Lorenz parameters and initial conditions.\n",
    "sigma, beta, rho = 10, 2.667, 28\n",
    "true_y0 = torch.tensor([[0, 1, 1.05]]).to(device)     # starting vector for ODE\n",
    "\n",
    "class Lambda(nn.Module):\n",
    "    def forward(self, t, y):\n",
    "        \"\"\"The Lorenz equations.\"\"\"\n",
    "        u, v, w = y[0]\n",
    "        up = -sigma*(u - v)\n",
    "        vp = rho*u - v - u*w\n",
    "        wp = -beta*w + u*v\n",
    "        return torch.tensor([[up, vp, wp]]).to(device)"
   ]
  },
  {
   "cell_type": "markdown",
   "id": "cfeea0c6",
   "metadata": {},
   "source": [
    "Using the adjoint method might increase solution speed / allow you to look at a larger region of parameter space, but there are restrictions on where it can be used:\n",
    "    \n",
    "`from torchdiffeq import odeint_adjoint as odeint`"
   ]
  },
  {
   "cell_type": "markdown",
   "id": "b5aea9ef",
   "metadata": {},
   "source": [
    "# Tasks\n",
    "\n",
    "* Implement the Lorenz system in a Neural ODE. \n",
    "* Learn the internal parameters.\n",
    "* Attempt to predict the behaviour of the ODE beyond (in time) the training region.\n",
    "* Study (and prepare results on) how accurate these learnt parameters are. \n",
    " * Does the accuracy change when you operate the Lorenz system in a chaotic vs. trivial region of input parameters? (sigma, beta, rho in the function above)\n",
    " * Is it still accurate in a different region of phase space (i.e. changing the initial conditions for the ODE)?\n",
    "\n",
    "\n",
    "* Comparison to direct neural-network time-series solution\n",
    " * Model some time series data (perhaps it would be easier to choose a 1D example) using a multi layer perceptron, 1D CNN or other neural network setup\n",
    " * Model this same data with an Neural ODE\n",
    " * How do the solutions compare? What are the pros and cons of the two different methods\n",
    "\n",
    "\n",
    "* Look at other differential equations, such as the (chaotic) double pendulum, or the three-body gravitational problem discussed in the paper below.\n",
    "\n",
    "\n",
    "This task list is neither exhaustive, nor is it necessary to do everything! Please spend a reasonable amount of time on this. Due to the remote teaching in the last sessions of term, it is more difficult to get a feel for how much progress people are making. "
   ]
  },
  {
   "cell_type": "markdown",
   "id": "be000bb4",
   "metadata": {},
   "source": [
    "Some of the methods discussed in the paper below may be of use.\n",
    "\n",
    "https://arxiv.org/abs/1910.07291 \n",
    "    \n",
    "## Newton vs the machine: solving the chaotic three-body problem using deep neural networks\n",
    "*Philip G. Breen, Christopher N. Foley, Tjarda Boekholt, Simon Portegies Zwart*\n",
    ">Since its formulation by Sir Isaac Newton, the problem of solving the equations of motion for three bodies under their own gravitational force has remained practically unsolved. Currently, the solution for a given initialization can only be found by performing laborious iterative calculations that have unpredictable and potentially infinite computational cost, due to the system's chaotic nature. We show that an ensemble of solutions obtained using an arbitrarily precise numerical integrator can be used to train a deep artificial neural network (ANN) that, over a bounded time interval, provides accurate solutions at fixed computational cost and up to 100 million times faster than a state-of-the-art solver. Our results provide evidence that, for computationally challenging regions of phase-space, a trained ANN can replace existing numerical solvers, enabling fast and scalable simulations of many-body systems to shed light on outstanding phenomena such as the formation of black-hole binary systems or the origin of the core collapse in dense star clusters.\n"
   ]
  }
 ],
 "metadata": {
  "kernelspec": {
   "display_name": "MLBD-MRes",
   "language": "python",
   "name": "mlbd-mres"
  },
  "language_info": {
   "codemirror_mode": {
    "name": "ipython",
    "version": 3
   },
   "file_extension": ".py",
   "mimetype": "text/x-python",
   "name": "python",
   "nbconvert_exporter": "python",
   "pygments_lexer": "ipython3",
   "version": "3.9.7"
  }
 },
 "nbformat": 4,
 "nbformat_minor": 5
}
