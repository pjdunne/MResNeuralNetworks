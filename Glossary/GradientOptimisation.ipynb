{
 "cells": [
  {
   "cell_type": "markdown",
   "id": "ea3f99a6",
   "metadata": {},
   "source": [
    "# Gradient based Optimisation \n",
    "\n",
    "In Machine learning, often you will be optimising algorithms to improve the performance of the algorithm. In architechtures such as neural-networks, the weights of the network are *parameters* that can be varied in order to minimise some *loss* function. \n",
    "\n",
    "You will see many examples of optimisation and these days there are some extremely sophisticated methods for optimising complicated loss functions, however in this notebook we'll go over the most common starting point for these which is *gradient based optimisation*. \n",
    "\n",
    "In statistics, as we've seen in the lectures, the *likelihood* (or negative log-likelihood) function is our loss function and we often need to maximise (minimise) it with respect to one or more of its parameters. \n",
    "\n",
    "In general, this means we're looking for the set of parameter values ($\\theta$) for which, \n",
    "\n",
    "$$\n",
    "\\frac{\\partial q}{\\partial \\theta}= 0\n",
    "$$\n",
    "\n",
    "where $q = -\\log(L)$\n",
    "\n",
    "There are two algorithms that use the gradient of the likelihood to find the maximum point that we'll go over in this notebook. \n",
    "\n",
    "## Newton method\n",
    "\n",
    "You are probably very familar with the Newton method (from school even?), which relies on the gradient of the function to find roots (or zeros) of the function. In our setup, since we are trying to find the zeros of the gradient function, we'll also need to know the 2nd derivative. \n",
    "\n",
    "This method is very reliable for 1-dimensional problems (one parameter that is being maximised). The way this works is that from some initial starting point $\\theta_{0}$, the algorithm proposes the next step as, \n",
    "\n",
    "$$\n",
    "\\theta_{1} = \\theta_{0} - \\frac{q^{\\prime}(\\theta_{0})}{q^{\\prime\\prime}(\\theta_{0})}\n",
    "$$\n",
    "\n",
    "where $q^{\\prime} = \\frac{dq}{d\\theta}$, and $q^{\\prime\\prime} = \\frac{d^{2}q}{d\\theta^{2}}$.\n",
    "\n",
    "The algorithm continues until some tolerance is reached, $\\lvert q^{\\prime}\\rvert < \\delta$ where $\\delta$ is some small number greater than 0. \n",
    "\n",
    "We'll take a look at an example of this method where we have a unstable particle (let's say a muon) that decays after being produced in a particle collision. In these processes, the probability that the muon decays after a certain time depends on its lifetime ($\\tau$),  \n",
    "\n",
    "Suppose we had an experimental setup, capable of detecting when such decays were occuring and we marked down the times, after some $t_{0}$, that each decay occurs. The time of each decay will be a random variable and will be distributed according to an exponential decay function, \n",
    "\n",
    "$$\n",
    "p(t) = \\frac{1}{\\tau} e^{-t/\\tau}\n",
    "$$\n",
    "\n",
    "First, we'll grab some data to use for this. I've put some data in a `.csv` file. From this data, we want to find the value of $\\tau$ that minimises the negative log-likelihood for this data. "
   ]
  },
  {
   "cell_type": "code",
   "execution_count": 1,
   "id": "981ec944",
   "metadata": {},
   "outputs": [],
   "source": [
    "%matplotlib inline\n",
    "\n",
    "import math\n",
    "import numpy\n",
    "import matplotlib.pyplot as plt"
   ]
  },
  {
   "cell_type": "code",
   "execution_count": 2,
   "id": "08327280",
   "metadata": {},
   "outputs": [
    {
     "data": {
      "image/png": "[encoded data removed]",
      "text/plain": [
       "<Figure size 432x288 with 1 Axes>"
      ]
     },
     "metadata": {
      "needs_background": "light"
     },
     "output_type": "display_data"
    }
   ],
   "source": [
    "import pandas \n",
    "data_exp = pandas.read_csv(\"decay_data.csv\")\n",
    "\n",
    "plt.hist(data_exp[\"times\"],bins=100)\n",
    "plt.xlabel(\"$t - \\mu s$\")\n",
    "plt.show()\n",
    "\n",
    "data_exp = numpy.array(data_exp[\"times\"].to_list())"
   ]
  },
  {
   "cell_type": "markdown",
   "id": "941a51d2",
   "metadata": {},
   "source": [
    "The likelihood is just the product over all of the muon decay times, \n",
    "\n",
    "$$\n",
    "L(\\tau) = \\prod_{i} \\frac{1}{\\tau} e^{-t_{i}/\\tau}\n",
    "$$\n",
    "\n",
    "and the -ve log likelihood is, \n",
    "\n",
    "$$\n",
    "q = -\\ln(L) =  N\\ln (\\tau) + \\sum_{i}^{N} \\frac{t_{i}}{\\tau}  \n",
    "$$"
   ]
  },
  {
   "cell_type": "code",
   "execution_count": 3,
   "id": "48be8b8a",
   "metadata": {},
   "outputs": [],
   "source": [
    "# define -ve log-likelihood\n",
    "def q(data,tau):\n",
    " N = len(data)\n",
    " return N*math.log(tau) + sum(data)/tau"
   ]
  },
  {
   "cell_type": "markdown",
   "id": "62fc073a",
   "metadata": {},
   "source": [
    "Let's see how the value of $q(\\tau)$ changes as we change the value of $\\tau$. Use the slider to see how changing the slope of the curve (the parameter $\\tau$) changes the value of $q$. "
   ]
  },
  {
   "cell_type": "code",
   "execution_count": 4,
   "id": "c8951624",
   "metadata": {},
   "outputs": [
    {
     "data": {
      "application/vnd.jupyter.widget-view+json": {
       "model_id": "6f53eaeccf6745edb18fafe5baac5d2e",
       "version_major": 2,
       "version_minor": 0
      },
      "text/plain": [
       "interactive(children=(FloatSlider(value=2.0, description='tau', max=4.0), Output()), _dom_classes=('widget-int…"
      ]
     },
     "metadata": {},
     "output_type": "display_data"
    },
    {
     "data": {
      "text/plain": [
       "<function __main__.plot_likelihood(tau)>"
      ]
     },
     "execution_count": 4,
     "metadata": {},
     "output_type": "execute_result"
    }
   ],
   "source": [
    "import ipywidgets\n",
    "\n",
    "xrange = numpy.linspace(0,16,100)\n",
    "\n",
    "def pdf(x,tau):\n",
    "    return (1./tau)*numpy.exp(-x/tau)\n",
    "\n",
    "def plot_likelihood(tau):\n",
    "    fig, (ax1,ax2) = plt.subplots(1,2,figsize=(14,6))\n",
    "    ax1.hist(data_exp,bins=100,histtype='step',color='black',density='true')\n",
    "    ax1.plot(xrange,pdf(xrange,tau),color='red')\n",
    "    ax1.set_xlabel(\"$t - \\mu s$\")\n",
    "    ax1.set_ylim(0,0.6)\n",
    "    \n",
    "    ax2.plot([tau],[q(data_exp,tau)],color='red',marker='o')\n",
    "    ax2.set_ylim(1750,1900)\n",
    "    ax2.set_xlim(1,4)\n",
    "    ax2.set_xlabel(\"$\\\\tau$\")\n",
    "    ax2.set_ylabel(\"$q(\\\\tau)$\")\n",
    "    ax2.grid()\n",
    "\n",
    "ipywidgets.interact(plot_likelihood,tau=(0,4,0.1))\n"
   ]
  },
  {
   "cell_type": "markdown",
   "id": "36db6d05",
   "metadata": {},
   "source": [
    "We can make a simple static plot of this too"
   ]
  },
  {
   "cell_type": "code",
   "execution_count": 5,
   "id": "ce736b98",
   "metadata": {},
   "outputs": [
    {
     "data": {
      "image/png": "[encoded data removed]",
      "text/plain": [
       "<Figure size 432x288 with 1 Axes>"
      ]
     },
     "metadata": {
      "needs_background": "light"
     },
     "output_type": "display_data"
    }
   ],
   "source": [
    "x = numpy.arange(1,8,0.1)\n",
    "y = [q(data_exp,xx) for xx in x]\n",
    "\n",
    "plt.plot(x,y)\n",
    "plt.xlabel(\"$\\\\tau$\")\n",
    "plt.ylabel(\"q($\\\\tau$)\")\n",
    "plt.show()"
   ]
  },
  {
   "cell_type": "markdown",
   "id": "be7666ee",
   "metadata": {},
   "source": [
    "Now lets look for the minimum of this curve by finding value of $\\tau$ for which $q^{\\prime}=0$ using the Newton method. \n",
    "\n",
    "We need to write down the derivatives of $q$.\n",
    "\n",
    "$$\n",
    "q^{\\prime} = \\frac{N}{\\tau}  -\\frac{1}{\\tau^{2}}\\sum_{i}^{N} t_{i} \n",
    "$$\n",
    "\n",
    "$$\n",
    "q^{\\prime\\prime} = -\\frac{N}{\\tau^{2}} + \\frac{2}{\\tau^{3}}\\sum_{i}^{N} t_{i} \n",
    "$$"
   ]
  },
  {
   "cell_type": "code",
   "execution_count": 6,
   "id": "3cfad69e",
   "metadata": {},
   "outputs": [],
   "source": [
    "# define the derivative of the -ve log-likelihood\n",
    "def dq(data, tau):\n",
    " N = len(data)\n",
    " return N/tau - sum(data)/(tau*tau)\n",
    "\n",
    "# define thei second derivative of the -ve log-likelihood\n",
    "def d2q(data, tau):\n",
    " N = len(data)\n",
    " return -N/(tau*tau) + 2*sum(data)/(tau*tau*tau)"
   ]
  },
  {
   "cell_type": "markdown",
   "id": "638ca6f8",
   "metadata": {},
   "source": [
    "We start by initialising the algorithm and setting a tolerance for when to stop searching."
   ]
  },
  {
   "cell_type": "code",
   "execution_count": 7,
   "id": "7d09d880",
   "metadata": {},
   "outputs": [
    {
     "name": "stdout",
     "output_type": "stream",
     "text": [
      "minimum at tau =  2.222246828655853 microseconds\n",
      "took 7 steps\n"
     ]
    }
   ],
   "source": [
    "# numerical minimum\n",
    "tol = 0.01\n",
    "init_tau = 3\n",
    "eps = 100\n",
    "\n",
    "# keep a record of the steps\n",
    "steps = []\n",
    "\n",
    "while eps > tol:\n",
    " steps.append([init_tau,q(data_exp,init_tau)])\n",
    " qp = dq(data_exp,init_tau)\n",
    " eps = abs(qp)\n",
    " init_tau = init_tau - qp/d2q(data_exp,init_tau)\n",
    " if init_tau < 0 : init_tau = 0.1\n",
    " \n",
    "\n",
    "numerical_min = init_tau\n",
    "print(\"minimum at tau = \",numerical_min, \"microseconds\")\n",
    "print(\"took %d steps\"%len(steps))"
   ]
  },
  {
   "cell_type": "markdown",
   "id": "b59b25e7",
   "metadata": {},
   "source": [
    "![Optimise](explh.gif)"
   ]
  },
  {
   "cell_type": "markdown",
   "id": "5b0af704",
   "metadata": {},
   "source": [
    "The muon lifetime is known to be $\\sim 2.2 \\mu s$. This is actually an  example of a maximum likelihood estimate for the muon lifetime. "
   ]
  },
  {
   "cell_type": "markdown",
   "id": "d1cb6487",
   "metadata": {},
   "source": [
    "## Gradient descent \n",
    "\n",
    "For functions with more than one variable, we  can use a gradient descent algorithm to find minima and maxima. These methods only rely on the first derivative (the gradient) to find the best direction to step in to find the minimum (or maximum). They don't use the second derivative because for a large number of parameters $n$, the number of terms in the second derivative grows as $n^{2}$ so this can get quite costly. \n",
    "\n",
    "There are  a number of subtle different algorithms which rely on gradient descent but we'll go over a simple example. The  way this works is as follows. \n",
    "\n",
    "First, we initialise the algorithm at some set of values for the parameters $\\boldsymbol{\\theta}_{init}$. Then we calcualte the gradient of the negative log-likelihood - $\\nabla(q)\\rvert_{\\boldsymbol{\\theta}_{init}}$ - at that initial point. The gradient defines a direction in which the negative log-likelihood changes most rapidly - this makes this direction a good direction to search for a smaller value of $q$.\n",
    "\n",
    "$$\n",
    "\\begin{align}\n",
    "\\nabla(q)\\rvert_{\\boldsymbol{\\theta}_{init}} &=   \n",
    "        \\begin{bmatrix}\n",
    "           \\frac{\\partial q}{\\partial \\theta_{1}} \\\\\n",
    "           \\frac{\\partial q}{\\partial \\theta_{2}} \\\\\n",
    "           \\vdots \\\\\n",
    "           \\frac{\\partial q}{\\partial \\theta_{n}}\n",
    "        \\end{bmatrix}_{\\boldsymbol{\\theta}=\\boldsymbol{\\theta}_{init}}\n",
    "\\end{align}   \n",
    "$$\n",
    "\n",
    "Since we want to *decrease* $q$, we need to move against this gradient. We step along the negative gradient direction until we find a new minimum - i.e we pick a step size $h$ and keep adding it to the initial point until the value of $q$ stops decreasing, \n",
    "\n",
    "\n",
    "$$\n",
    "\\boldsymbol{\\theta}_{k} = k\\times h - \\nabla(q)\\rvert_{\\boldsymbol{\\theta}_{init}} \n",
    "$$\n",
    "\n",
    "At the value of $k$ such that we're no longer decreasing $q$ (lets call it $k*$), we recalculate the gradient and find a new direction to go in. \n",
    "\n",
    "$$\n",
    "\\nabla(q)\\rvert_{\\boldsymbol{\\theta}_{k*}}\n",
    "$$\n",
    "\n",
    "We keep repeating this process until the modulus of the gradient gets close enough to zero (say is smaller than some tolerance $\\epsilon$, that means we keep iterating until, \n",
    "\n",
    "$$\n",
    "\\lvert \\nabla(q)\\rvert_{\\boldsymbol{\\theta}} \\rvert = \\sqrt{\\left(\\frac{\\partial q}{\\partial \\theta_{1}}\\right)^{2} + \\left(\\frac{\\partial q}{\\partial \\theta_{2}}\\right)^{2}+...+\\left(\\frac{\\partial q}{\\partial \\theta_{n}}\\right)^{2}}< \\epsilon\n",
    "$$\n",
    "\n",
    "Let's look at an example where $n=2$ and the data is assumed to be distributed as a Gaussian with parameters $\\mu$ and $\\sigma$. We want to find the maximum likelihood estimates $\\hat{\\mu}$ and $\\hat{\\sigma}$. \n",
    "\n",
    "We'll read in some data from the file `data_grad_desc.csv`. "
   ]
  },
  {
   "cell_type": "code",
   "execution_count": 8,
   "id": "47e58d90",
   "metadata": {},
   "outputs": [
    {
     "data": {
      "image/png": "[encoded data removed]",
      "text/plain": [
       "<Figure size 432x288 with 1 Axes>"
      ]
     },
     "metadata": {
      "needs_background": "light"
     },
     "output_type": "display_data"
    }
   ],
   "source": [
    "import numpy,pandas\n",
    "import matplotlib.pyplot as plt\n",
    "plt.rcParams.update({'font.size': 12})\n",
    "\n",
    "from scipy.stats import norm\n",
    "data = pandas.read_csv(\"data_grad_desc.csv\")\n",
    "data = data['values'].to_numpy()\n",
    "plt.hist(data,bins=20,histtype='step')\n",
    "plt.show()"
   ]
  },
  {
   "cell_type": "markdown",
   "id": "36da3e98",
   "metadata": {},
   "source": [
    "Let's see how different values of the Gaussian parameters $\\mu$ and $\\sigma$ compare when plotted on top of the data, this timee as a histogram of the density."
   ]
  },
  {
   "cell_type": "code",
   "execution_count": 16,
   "id": "9212ccee",
   "metadata": {},
   "outputs": [
    {
     "data": {
      "application/vnd.jupyter.widget-view+json": {
       "model_id": "d669dfa1eb8d4363b269cf112c608ed8",
       "version_major": 2,
       "version_minor": 0
      },
      "text/plain": [
       "interactive(children=(FloatSlider(value=2.0, description='mu', max=3.0, min=1.0), FloatSlider(value=1.70000000…"
      ]
     },
     "metadata": {},
     "output_type": "display_data"
    },
    {
     "data": {
      "text/plain": [
       "<function __main__.plot_gaussian(mu, sigma)>"
      ]
     },
     "execution_count": 16,
     "metadata": {},
     "output_type": "execute_result"
    }
   ],
   "source": [
    "from scipy.stats import norm \n",
    "xrange = numpy.linspace(-2,6,100)\n",
    "\n",
    "def plot_gaussian(mu,sigma):\n",
    "    \n",
    "    plt.hist(data,bins=20,histtype='step',density=True)\n",
    "    plt.plot(xrange,norm.pdf(xrange,mu,sigma),color='red')\n",
    "    plt.xlabel(\"$X$\")\n",
    "    plt.ylim(0,0.4)\n",
    "\n",
    "\n",
    "ipywidgets.interact(plot_gaussian,mu=(1,3,0.1),sigma=(0.5,3,0.1))"
   ]
  },
  {
   "cell_type": "markdown",
   "id": "8762c2f3",
   "metadata": {},
   "source": [
    "Next we can define the negative log-likelihood and plot it as a function of $\\mu$ and $\\sigma$. Remember, the likelihood is just the product over the Gaussian probability density for each value in our dataset. \n",
    "\n",
    "The negative log-likelihood in this case is going to be (it's easy to show it) a sum over terms for all 101 points in our dataset. \n",
    "\n",
    "$$\n",
    "q(\\mu,\\sigma) = -\\ln(L(\\mu,\\sigma)) = \\sum_{i=1}^{101} \\left[ \\ln(\\sigma\\sqrt{2\\pi}) + \\frac{1}{2}\\frac{\\left(X_{i}-\\mu\\right)^{2}}{\\sigma^{2}} \\right]\n",
    "$$\n",
    "\n",
    "I've also subtracted the smallest value of the negative log-likelihood so that the numbers we have to deal with are more reasonable (of course this won't change where the minimum is). "
   ]
  },
  {
   "cell_type": "code",
   "execution_count": 9,
   "id": "097d08a0",
   "metadata": {},
   "outputs": [
    {
     "data": {
      "text/plain": [
       "Text(0, 0.5, '$\\\\sigma$')"
      ]
     },
     "execution_count": 9,
     "metadata": {},
     "output_type": "execute_result"
    },
    {
     "data": {
      "image/png": "[encoded data removed]",
      "text/plain": [
       "<Figure size 432x288 with 1 Axes>"
      ]
     },
     "metadata": {
      "needs_background": "light"
     },
     "output_type": "display_data"
    }
   ],
   "source": [
    "sqrt2pi = (2*numpy.pi)**0.5 \n",
    "\n",
    "def neg_log_likelihood(point):\n",
    "    mean=point[0]\n",
    "    sigma=point[1]\n",
    "    return sum([numpy.log(sqrt2pi*sigma) + 0.5*(x-mean)*(x-mean)/(sigma*sigma) for x in data])\n",
    "    \n",
    "def sum_neg_log_likelihood(mean,sigma):\n",
    "    return neg_log_likelihood([mean,sigma])\n",
    "\n",
    "mu    = numpy.linspace(1, 3, 70)\n",
    "sigma = numpy.linspace(0.5, 3, 70)\n",
    "\n",
    "X,Y = numpy.meshgrid(mu,sigma)\n",
    "\n",
    "logL = sum_neg_log_likelihood(X,Y)\n",
    "# These are large numbers so subtract the smallest one \n",
    "logL = logL-logL.min()\n",
    "\n",
    "contours = plt.contour(X, Y, logL, colors='black',levels=[0.1,0.5,2,4,8,10,20,30,50])\n",
    "plt.clabel(contours, inline=True, fontsize=8)\n",
    "plt.xlabel(\"$\\mu$\")\n",
    "plt.ylabel(\"$\\sigma$\")"
   ]
  },
  {
   "cell_type": "markdown",
   "id": "c400b33b",
   "metadata": {},
   "source": [
    "Next we define the gradient and run through our optimisation. Each step is given by the function `gradient_optimise_step` and it returns a new point and the magnitude of the gradient at that point. "
   ]
  },
  {
   "cell_type": "code",
   "execution_count": 10,
   "id": "f6e73982",
   "metadata": {},
   "outputs": [
    {
     "name": "stdout",
     "output_type": "stream",
     "text": [
      "Minimum found at -  [1.96835639 1.56718272]\n"
     ]
    }
   ],
   "source": [
    "def grad_nll(point):\n",
    "    mean = point[0]\n",
    "    sigma = point[1]\n",
    "    ddmu    = sum([mean/(sigma*sigma) - x/(sigma*sigma) for x in data])\n",
    "    ddsigma = sum([1./sigma - (1./(sigma*sigma*sigma))*(x-mean)*(x-mean) for x in data])\n",
    "    return numpy.array([ddmu,ddsigma])\n",
    "\n",
    "def modulus(point):\n",
    "    return (point[0]**2+point[1]**2)**0.5\n",
    "\n",
    "# inititial point -> mu=1.25, sigma=2.5\n",
    "init = numpy.array([1.25,2.5])\n",
    "grad_size = modulus(grad_nll(init))\n",
    "\n",
    "def gradient_optimise_step(init):\n",
    "\n",
    "  # 1. find the gradient at this point \n",
    "  vec = grad_nll(init)\n",
    "\n",
    "  # 2. Do a very quick line search to find where the minimum is along the line (pick step size of 0.001)\n",
    "  min_nll = neg_log_likelihood(init)\n",
    "  start = init  \n",
    "\n",
    "  for i in range(10):\n",
    "    new_point = start-0.001*vec\n",
    "    new_nll   = neg_log_likelihood(new_point)\n",
    "    if new_nll < min_nll:\n",
    "      min_nll =  new_nll\n",
    "      start = new_point\n",
    "      #print(\" line search -> \", new_point,new_nll)\n",
    "    else: break      \n",
    "  return new_point, modulus(grad_nll(new_point))\n",
    "\n",
    "step = []\n",
    "step.append(init)\n",
    "while grad_size > 1:\n",
    "  new,grad_size = gradient_optimise_step(init)\n",
    "  init = new \n",
    "  step.append(init)\n",
    "\n",
    "print(\"Minimum found at - \",init)"
   ]
  },
  {
   "cell_type": "markdown",
   "id": "7ad8f92e",
   "metadata": {},
   "source": [
    "![Grad](grad.gif)"
   ]
  },
  {
   "cell_type": "markdown",
   "id": "01f43e36",
   "metadata": {},
   "source": [
    "Of course, we don't need to write optimisation routines ourselves since there's many good packages out there that have done this for us. For the rest of this course, we'll use the `scipy` and `iminuit` packages for optimisation problems. "
   ]
  },
  {
   "cell_type": "code",
   "execution_count": null,
   "id": "0142a8ae-b1c3-4e0f-8e37-87b339750fcc",
   "metadata": {},
   "outputs": [],
   "source": []
  }
 ],
 "metadata": {
  "kernelspec": {
   "display_name": "Python 3 (ipykernel)",
   "language": "python",
   "name": "python3"
  },
  "language_info": {
   "codemirror_mode": {
    "name": "ipython",
    "version": 3
   },
   "file_extension": ".py",
   "mimetype": "text/x-python",
   "name": "python",
   "nbconvert_exporter": "python",
   "pygments_lexer": "ipython3",
   "version": "3.8.5"
  }
 },
 "nbformat": 4,
 "nbformat_minor": 5
}
