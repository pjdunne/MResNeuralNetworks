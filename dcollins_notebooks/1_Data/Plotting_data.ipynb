{
 "cells": [
  {
   "cell_type": "markdown",
   "metadata": {},
   "source": [
    "# Data #"
   ]
  },
  {
   "cell_type": "markdown",
   "metadata": {},
   "source": [
    "## Displaying Data ##\n",
    "\n",
    "The ability to display data is often an important first step in understanding them. Producing clear and understandable (appropriately labelled, legible etc) plots is an important part of communicating your results to others. You will predominently, although not exclusively, be using matplotib to produce plots. The aim of this section is to make sure that you are completely happy with the different ways of displaying data. Consider and run the  following very simple example."
   ]
  },
  {
   "cell_type": "code",
   "execution_count": null,
   "metadata": {},
   "outputs": [],
   "source": [
    "import numpy as np\n",
    "import pylab as pl # one of the several ways of importing matplotlib\n",
    "\n",
    "x= np.arange(-10,10,0.01)\n",
    "y=x*x\n",
    "\n",
    "pl.plot(x,y)\n",
    "pl.grid()\n",
    "pl.title(\"Simple plot\")\n",
    "pl.\n",
    "pl.show()"
   ]
  },
  {
   "cell_type": "markdown",
   "metadata": {},
   "source": [
    "### Exercise 1. ###\n",
    "\n",
    "The purpose of this exercise is to make sure that you are familiar with the display options in matplotlib and can make professional looking plots. You you perform the assignments at the end of two weeks this is one of the things that you will be judged upon. \n",
    "\n",
    "Create a graph of a $y=\\sin^2(x)$ going from $-2\\pi$ to $+2\\pi$ (and no further). Make sure that the axes are labelled as $x$ and $y$ and that the equation is written as legend on this graph. Change the $x-axis$ tick marks to be multiples of $\\frac{\\pi}{4}$ and labelled appropriately. Add a grid to this plot and finally add a graph of $y=\\cos^{100}(x)$ as a dotted red line with appropriate legend. Make sure that your plot is a decent size to be easily readable and save the complete plot to a file."
   ]
  },
  {
   "cell_type": "markdown",
   "metadata": {},
   "source": [
    "## Displaying multiple plots ##\n",
    "\n",
    "It is often useful to display multiple plots side by side or one above another. This can be done relatively simply in matplotlib consider the example below. "
   ]
  },
  {
   "cell_type": "code",
   "execution_count": null,
   "metadata": {},
   "outputs": [],
   "source": [
    "import numpy as np\n",
    "import pylab as pl\n",
    "\n",
    "pl.rcParams['figure.figsize'] = [10, 5] # setting a nice big figure size\n",
    "\n",
    "x=np.arange(-10,10,0.01)\n",
    "y1=x*x\n",
    "y2=x*x*np.sin(x)\n",
    "y3=x*x*x*np.sin(x)\n",
    "y4=np.sin(x)/x\n",
    "\n",
    "pl.subplot(2,2,1)\n",
    "pl.plot(x,y1)\n",
    "\n",
    "pl.subplot(2,2,2)\n",
    "pl.plot(x,y2)\n",
    "\n",
    "pl.subplot(2,2,3)\n",
    "pl.plot(x,y3)\n",
    "\n",
    "pl.subplot(2,2,4)\n",
    "pl.plot(x,y4)\n",
    "\n",
    "pl.show()\n",
    "\n",
    "\n"
   ]
  },
  {
   "cell_type": "markdown",
   "metadata": {},
   "source": [
    "However, while these defaults are useful they are not always ideal. Consider the example below where we have tried to put axis labels on the second plot. The $y$ label has overwritten the first plot (OK the font was chosen to be large to make this point) and the $x$ is completely lost under the 4th plot (if you want to check that it is actually there then comment out the commands that draw the 4th plot. i.e.\n",
    "\n",
    "```python\n",
    "#pl.subplot(2,2,4)\n",
    "#pl.plot(x,y4)\n",
    "```\n"
   ]
  },
  {
   "cell_type": "code",
   "execution_count": null,
   "metadata": {},
   "outputs": [],
   "source": [
    "import numpy as np\n",
    "import pylab as pl\n",
    "\n",
    "x=np.arange(-10,10,0.01)\n",
    "y1=x*x\n",
    "y2=x*x*np.sin(x)\n",
    "y3=x*x*x*np.sin(x)\n",
    "y4=np.sin(x)/x\n",
    "\n",
    "pl.subplot(2,2,1)\n",
    "pl.plot(x,y1)\n",
    "\n",
    "pl.subplot(2,2,2)\n",
    "pl.plot(x,y2)\n",
    "pl.xlabel(\"$x$\",fontsize=12)\n",
    "pl.ylabel(\"$y$\",fontsize=32)\n",
    "\n",
    "pl.subplot(2,2,3)\n",
    "pl.plot(x,y3)\n",
    "\n",
    "pl.subplot(2,2,4)\n",
    "pl.plot(x,y4)\n",
    "\n",
    "pl.show()\n",
    "\n",
    "\n"
   ]
  },
  {
   "cell_type": "markdown",
   "metadata": {},
   "source": [
    "While this particular problem is quite easy to fix then by itself it probably makes sense to learn a little more about how matplotlib works. The basis on which matplotlib draws id the figure -- this is the canvas on which you can draw. When you have multiple plots on the same figure it must be divided up into \"axes\".  Once you have a figure you can put an axis wherever you want for example:"
   ]
  },
  {
   "cell_type": "code",
   "execution_count": null,
   "metadata": {},
   "outputs": [],
   "source": [
    "import numpy as np\n",
    "import pylab as pl\n",
    "pl.rcParams['figure.figsize'] = [10, 5] \n",
    "\n",
    "x=np.arange(-10,10,0.01)\n",
    "y1=x*x\n",
    "y2=x*x*np.sin(x)\n",
    "y3=x*x*x*np.sin(x)\n",
    "y4=np.sin(x)/x\n",
    "\n",
    "fig=pl.figure(\"New Figure\")\n",
    "\n",
    "ax=fig.add_axes([0.1, 0.1, 0.5, 0.5]) # [x0,y0,width,height]\n",
    "ax.plot(x,y1)\n",
    "pl.xticks(fontsize=12)\n",
    "pl.yticks(fontsize=12)\n",
    "pl.grid()\n",
    "\n",
    "\n",
    "ax1=fig.add_axes([.6, .6, .4, 0.4]) # [x0,y0,width,height]\n",
    "ax1.plot(x,y2)\n",
    "pl.xticks(fontsize=12)\n",
    "pl.yticks(fontsize=12)\n",
    "pl.grid()\n",
    "\n",
    "\n",
    "\n",
    "pl.savefig(\"axes_plots.png\")\n",
    "\n",
    "pl.show()"
   ]
  },
  {
   "cell_type": "markdown",
   "metadata": {},
   "source": [
    "You will notice that the $x$ and $y$ tick labels lie outside of the axis area. Also if you look at axes_plots.png you will notice that the very right hand edge of the second plot is missing.\n",
    "\n",
    "This approach gives you complete flexibility as to where to place plots on your figures and can be very useful. For example it easily allows you to have plots inside each other perhaps showing detail. Consider the following:"
   ]
  },
  {
   "cell_type": "code",
   "execution_count": null,
   "metadata": {},
   "outputs": [],
   "source": [
    "import numpy as np\n",
    "import pylab as pl\n",
    "pl.rcParams['figure.figsize'] = [10, 5] \n",
    "\n",
    "x=np.arange(-500,500,0.001)\n",
    "\n",
    "y4=np.sin(x)**6/x\n",
    "\n",
    "fig=pl.figure(\"New Figure\")\n",
    "\n",
    "ax=fig.add_axes([0.05, 0.1, 0.8, 0.8]) # [x0,y0,width,height]\n",
    "ax.plot(x,y4)\n",
    "pl.xlabel(\"$x$\",fontsize=15)\n",
    "pl.ylabel(\"$y$\",fontsize=15)\n",
    "pl.xticks(fontsize=12)\n",
    "pl.yticks(fontsize=12)\n",
    "pl.text(220,0.45,\"(A)\", fontsize=15)\n",
    "pl.grid()\n",
    "\n",
    "\n",
    "ax1=fig.add_axes([.1, .55, .3, 0.3]) # [x0,y0,width,height]\n",
    "ax1.plot(x[480000:520000],y4[480000:520000]) # clearly there are more elogant ways of doing this\n",
    "pl.xticks(np.arange(-20,20,5),fontsize=10)\n",
    "pl.yticks(fontsize=10)\n",
    "pl.text(13,0.4,\"(B)\", fontsize=15)\n",
    "pl.grid()\n",
    "\n",
    "\n",
    "\n",
    "pl.savefig(\"inset_plots.png\")\n",
    "\n",
    "pl.show()"
   ]
  },
  {
   "cell_type": "markdown",
   "metadata": {},
   "source": [
    "As we have seen you can also use subplots, so another way to draw the four plots that we had earlier would be the following:"
   ]
  },
  {
   "cell_type": "code",
   "execution_count": null,
   "metadata": {},
   "outputs": [],
   "source": [
    "import numpy as np\n",
    "import pylab as pl\n",
    "\n",
    "x=np.arange(-10,10,0.01)\n",
    "y1=x*x\n",
    "y2=x*x*np.sin(x)\n",
    "y3=x*x*x*np.sin(x)\n",
    "y4=np.sin(x)/x\n",
    "\n",
    "#define the subplots\n",
    "fig, axes = pl.subplots(nrows=2, ncols=2)\n",
    "\n",
    "#now plot\n",
    "axes[0,0].plot(x,y1)\n",
    "axes[0,1].plot(x,y2)\n",
    "axes[1,0].plot(x,y3)\n",
    "axes[1,1].plot(x,y4)\n",
    "\n",
    "pl.subplot(2,2,2)\n",
    "pl.ylabel(\"$y$\", fontsize=32)\n",
    "pl.xlabel(\"$x$\",fontsize=\"12\")\n",
    "\n",
    "# but now can change the padding between the plots as we have the figure defined\n",
    "fig.tight_layout(pad=2.0)\n",
    "\n",
    "pl.show()\n"
   ]
  },
  {
   "cell_type": "markdown",
   "metadata": {},
   "source": [
    "Having the figure defined gives us more flexibilty. For example:"
   ]
  },
  {
   "cell_type": "code",
   "execution_count": null,
   "metadata": {},
   "outputs": [],
   "source": [
    "import numpy as np\n",
    "import pylab as pl\n",
    "\n",
    "x=np.arange(-10,10,0.01)\n",
    "y1=x*x\n",
    "y2=x*x*np.sin(x)\n",
    "y3=x*x*x*np.sin(x)\n",
    "y4=np.sin(x)/x\n",
    "\n",
    "fig=pl.figure()\n",
    "\n",
    "pl.subplot(2,2,1)\n",
    "pl.plot(x,y1)\n",
    "pl.xlabel(\"x\")\n",
    "pl.subplot(2,2,3)\n",
    "pl.plot(x,y2)\n",
    "pl.subplot(1,2,2)\n",
    "pl.plot(x,y4)\n",
    "\n",
    "ax=fig.add_axes([0.6,0.7,0.12,0.15])\n",
    "ax.plot(x,x*x-x+4)\n",
    "\n",
    "\n",
    "\n",
    "fig.tight_layout(pad=2.0) \n",
    "# this will generate a warning as the inset plot is not compatible with tight_layout but it will work \n",
    "#for the subplots.\n",
    "\n",
    "pl.show()\n",
    "\n"
   ]
  },
  {
   "cell_type": "markdown",
   "metadata": {},
   "source": [
    "### Exercise 2 ###\n",
    "\n",
    "The purpose of this exercise is to make sure that you are familiar with all these plotting options. Pick 6 different functions of x (the actual functions don't matter for this exercise). Plot them in different configurations, orientatios etc. Draw some so that they have a shared $x-axis$ and $y-axis$ for example. This exercise will seem trivial after reading through the examples above but do try to do a good and detailed job of it. Practise now will save you time later as you wont have to look it up later."
   ]
  },
  {
   "cell_type": "markdown",
   "metadata": {},
   "source": [
    "### Histogramming data\n",
    "\n",
    "When carrying out data science you will often need to histogram data. This is easy with matplotlib consider the following:"
   ]
  },
  {
   "cell_type": "code",
   "execution_count": 2,
   "metadata": {},
   "outputs": [
    {
     "data": {
      "image/png": "[encoded data removed]",
      "text/plain": [
       "<Figure size 432x288 with 1 Axes>"
      ]
     },
     "metadata": {
      "needs_background": "light"
     },
     "output_type": "display_data"
    }
   ],
   "source": [
    "import numpy as np\n",
    "import numpy.random as npr\n",
    "import pylab as pl\n",
    "\n",
    "\n",
    "x_data=npr.normal(loc=2,scale=1.5,size=10000) # this will generate a gaussian distribution - we will do more on these later.\n",
    "\n",
    "pl.hist(x_data) # this will draw a histogram with 10 bins covering the range of the data\n",
    "\n",
    "pl.show()"
   ]
  },
  {
   "cell_type": "code",
   "execution_count": null,
   "metadata": {},
   "outputs": [],
   "source": [
    "pl.hist(x_data,bins=100) # changes it to have 100bins\n",
    "pl.show()"
   ]
  },
  {
   "cell_type": "code",
   "execution_count": null,
   "metadata": {},
   "outputs": [],
   "source": [
    "x,bins,patches=pl.hist(x_data,bins=20) # you can extract the values and bin boundaries\n",
    "print(\"Entries \",x)\n",
    "print(\"Bins\",bins,len(bins)) # note that there are 21 entries because this is a \"fence post\" problem"
   ]
  },
  {
   "cell_type": "code",
   "execution_count": null,
   "metadata": {},
   "outputs": [],
   "source": [
    "bins=[-5,-4,0,4,6,8]\n",
    "x,bins,patches=pl.hist(x_data,bins=bins) # you can have any binning that you want\n",
    "print(\"Entries \",x)"
   ]
  },
  {
   "cell_type": "markdown",
   "metadata": {},
   "source": [
    "You plot two histograms on top of each other and change the transparency by changing \"alpha\""
   ]
  },
  {
   "cell_type": "code",
   "execution_count": 106,
   "metadata": {
    "scrolled": true
   },
   "outputs": [
    {
     "data": {
      "image/png": "[encoded data removed]",
      "text/plain": [
       "<Figure size 720x720 with 1 Axes>"
      ]
     },
     "metadata": {
      "needs_background": "light"
     },
     "output_type": "display_data"
    }
   ],
   "source": [
    "x_data2=npr.normal(loc=0.5,scale=1.5,size=10000)\n",
    "pl.hist(x_data,bins=100,alpha=0.5,label=\"Data\")\n",
    "pl.hist(x_data2,bins=100,alpha=0.5,label=\"Data 2\")\n",
    "pl.xlabel(\"Two histograms on top of each other\")\n",
    "pl.legend(loc=\"best\")\n",
    "pl.show()"
   ]
  },
  {
   "cell_type": "markdown",
   "metadata": {},
   "source": [
    "Numpy also has a histograming method, however these only produce the numbers and then have to added to matplotlib to be displayed"
   ]
  },
  {
   "cell_type": "code",
   "execution_count": 7,
   "metadata": {},
   "outputs": [
    {
     "data": {
      "image/png": "[encoded data removed]",
      "text/plain": [
       "<Figure size 432x288 with 1 Axes>"
      ]
     },
     "metadata": {
      "needs_background": "light"
     },
     "output_type": "display_data"
    }
   ],
   "source": [
    "import numpy as np\n",
    "import matplotlib.pyplot as pl\n",
    "\n",
    "n,bins=np.histogram(x_data,bins=20,range=[-3,7])\n",
    "x= 0.5 * (bins[1:] + bins[:-1])\n",
    "y_err=n**0.5 # Assume Poison distribution\n",
    "pl.errorbar(x,n,y_err,fmt=\"ok\");"
   ]
  },
  {
   "cell_type": "code",
   "execution_count": null,
   "metadata": {},
   "outputs": [],
   "source": []
  }
 ],
 "metadata": {
  "kernelspec": {
   "display_name": "Python 3",
   "language": "python",
   "name": "python3"
  },
  "language_info": {
   "codemirror_mode": {
    "name": "ipython",
    "version": 3
   },
   "file_extension": ".py",
   "mimetype": "text/x-python",
   "name": "python",
   "nbconvert_exporter": "python",
   "pygments_lexer": "ipython3",
   "version": "3.9.6"
  }
 },
 "nbformat": 4,
 "nbformat_minor": 4
}
