{
 "cells": [
  {
   "cell_type": "markdown",
   "id": "a7dd5e6e",
   "metadata": {},
   "source": [
    "# Week X - Unsupervised Learning"
   ]
  },
  {
   "cell_type": "markdown",
   "id": "82404b07",
   "metadata": {},
   "source": [
    "<hr style=\"border:2px solid gray\">\n",
    "\n",
    "# Index: <a id='index'></a>\n",
    "\n",
    "1. [Introduction to Unsupervised Learning](#intro)\n",
    "1. [K-Means](#KM)\n",
    "1. [DBSCAN](#DBSCAN)\n",
    "1. [Appendix](#appendix)\n",
    "    "
   ]
  },
  {
   "cell_type": "markdown",
   "id": "875d9b0d",
   "metadata": {},
   "source": [
    "<hr style=\"border:2px solid gray\">\n",
    "\n",
    "# Introduction to Unsupervised Learning [^](#index) <a id='intro'></a>\n",
    "\n",
    "_Previously, we have briefly discussed unsupervised learning in Week X - Basics of Machine Learning 1. We will reiterate many of the key points here._\n",
    "\n",
    "Unsupervised learning is when **we don't have the answer to what we are looking for** i.e. when we don't have the target (or our data is **unlabelled**). This means we are unable to train our favourite classifier. \n",
    "\n",
    "Instead, we need to be able to train a model to pick things that are \"**the same**\". For example, we could try to distinguish coins based on weight and diameter without know which coin is which. Note that any model that make use of **dimensionality reduction** will be a form of unsupervised learning since we consider the variance of the **data** rather than that of the **targets**.\n",
    "\n",
    "The most common form of unsupervised learning is **clustering**, and the most common form of clustering is **K-Means**. There are other common forms that will not be discussed in this notebook, such as fault detection and density estimation."
   ]
  },
  {
   "cell_type": "markdown",
   "id": "2ea75a29",
   "metadata": {},
   "source": [
    "<hr style=\"border:2px solid gray\">\n",
    "\n",
    "# K-Means [^](#index) <a id='KM'></a>\n",
    "\n",
    "K-means can take an unlabeled data set and group it into a set number (K) of clusters. \n",
    "\n",
    "To demonstrate this, let us generate some random data made up of clusters."
   ]
  },
  {
   "cell_type": "code",
   "execution_count": 12,
   "id": "737d1357",
   "metadata": {},
   "outputs": [],
   "source": [
    "import numpy as np\n",
    "import scipy as sp\n",
    "import sklearn as sk\n",
    "import matplotlib.pyplot as plt \n",
    "import matplotlib.cm as cm\n",
    "import seaborn as sns\n",
    "from sklearn.datasets import make_blobs"
   ]
  },
  {
   "cell_type": "code",
   "execution_count": null,
   "id": "49698f88",
   "metadata": {},
   "outputs": [],
   "source": [
    "from sklearn.datasets import make_blobs\n",
    "\n",
    "def setup():\n",
    "    blob_centers = np.array(\n",
    "        [[ 0.2,  2.3],\n",
    "         [-1.5 ,  2.3],\n",
    "         [-2.8,  1.8],\n",
    "         [-2.8,  2.8],\n",
    "         [-2.8,  1.3]])\n",
    "    blob_std = np.array([0.4, 0.3, 0.1, 0.1, 0.1])\n",
    "    X, y = make_blobs(n_samples=2000, centers=blob_centers,\n",
    "                  cluster_std=blob_std, random_state=7)\n",
    "    return (X, y)\n"
   ]
  },
  {
   "cell_type": "code",
   "execution_count": null,
   "id": "10882f81",
   "metadata": {},
   "outputs": [],
   "source": [
    "def plot_clusters(X, y=None):\n",
    "    plt.scatter(X[:, 0], X[:, 1], c=y, s=1)\n",
    "    plt.xlabel(\"$x_1$\", fontsize=14)\n",
    "    plt.ylabel(\"$x_2$\", fontsize=14, rotation=0)"
   ]
  },
  {
   "cell_type": "code",
   "execution_count": null,
   "id": "3be19ac9",
   "metadata": {},
   "outputs": [],
   "source": [
    "X, y= setup()\n",
    "plt.figure(figsize=(8, 4))\n",
    "plot_clusters(X)\n",
    "print(X)\n",
    "plt.show()"
   ]
  },
  {
   "cell_type": "markdown",
   "id": "919013e7",
   "metadata": {},
   "source": [
    "We have created five new blobs of data, however we need to make a model that can identify each blob. If we knew the centroids of each blob or the identity of each entry, this task would be easy. However, in unsupervised learning, we have neither of these.\n",
    "\n",
    "K-Means starts by randomly selecting centroids and classifying each instance based on its nearest centroid. It then updates the centroids using the associated data. This process continues iteratively, with instances being reclassified and centroids recalculated until the centroids no longer move. This is a simple, yet effective, approach. <a id='KM_explain'></a>\n",
    "\n",
    "However, a downside of K-means is you must define **how many clusters to look for**.\n",
    "\n",
    "A worked code example, with a more detailed explanation of the algorithm, is given in the Appendix Section [K-Means Worked Code](#K-means_app)\n",
    "\n",
    "Let's give it a try here:"
   ]
  },
  {
   "cell_type": "code",
   "execution_count": null,
   "id": "90d25ee7",
   "metadata": {},
   "outputs": [],
   "source": [
    "from sklearn.cluster import KMeans\n",
    "k = 5\n",
    "kmeans = KMeans(n_clusters=k, random_state=42)\n",
    "y_pred = kmeans.fit_predict(X)"
   ]
  },
  {
   "cell_type": "code",
   "execution_count": null,
   "id": "85390d4d",
   "metadata": {},
   "outputs": [],
   "source": [
    "print(y_pred[0:20])"
   ]
  },
  {
   "cell_type": "code",
   "execution_count": null,
   "id": "0cd04d7f",
   "metadata": {},
   "outputs": [],
   "source": [
    "kmeans.cluster_centers_ # to find the centres of the clusters"
   ]
  },
  {
   "cell_type": "markdown",
   "id": "24b91604",
   "metadata": {},
   "source": [
    "Let's look at how well it did:"
   ]
  },
  {
   "cell_type": "code",
   "execution_count": null,
   "id": "75aca516",
   "metadata": {},
   "outputs": [],
   "source": [
    "plt.figure(figsize=(8, 4))\n",
    "plot_clusters(X)\n",
    "#print(X)\n",
    "plt.plot(kmeans.cluster_centers_[:,0],kmeans.cluster_centers_[:,1],\"ro\")\n",
    "#print(kmeans.inertia_)\n",
    "plt.show() # pretty good"
   ]
  },
  {
   "cell_type": "markdown",
   "id": "7b92f8f0",
   "metadata": {},
   "source": [
    "We can then use the model to predict the labels for new data"
   ]
  },
  {
   "cell_type": "code",
   "execution_count": null,
   "id": "eaa8a5b1",
   "metadata": {},
   "outputs": [],
   "source": [
    "X_new = np.array([[0, 2], [3, 2], [-3, 3], [-3, 2.5]])\n",
    "#try adding some more data to see what happens\n",
    "\n",
    "kmeans.predict(X_new)"
   ]
  },
  {
   "cell_type": "markdown",
   "id": "c98ef3dc",
   "metadata": {},
   "source": [
    "We can plot the decision boundaries as a Voronoi plot (code taken straight from {homl}):"
   ]
  },
  {
   "cell_type": "code",
   "execution_count": null,
   "id": "e65096a1",
   "metadata": {},
   "outputs": [],
   "source": [
    "def plot_data(X):\n",
    "    # Plotting data points from input X\n",
    "    plt.plot(X[:, 0], X[:, 1], 'k.', markersize=2)  \n",
    "    \n",
    "\n",
    "def plot_centroids(centroids, weights=None, cross_color='r'):\n",
    "     \n",
    "    if weights is not None:\n",
    "        centroids = centroids[weights > weights.max() / 10]\n",
    "    \n",
    "    plt.scatter(centroids[:, 0], centroids[:, 1],  # Plot centroids\n",
    "                marker='x', s=10, linewidths=15,\n",
    "                color=cross_color, zorder=11, alpha=1)\n",
    "    \n",
    "\n",
    "def plot_decision_boundaries(clusterer, X, resolution=1000, show_centroids=True,\n",
    "                             show_xlabels=True, show_ylabels=True):\n",
    "    mins = X.min(axis=0) - 0.1 \n",
    "    maxs = X.max(axis=0) + 0.1\n",
    "    \n",
    "    # Generate grid of points in the defined limits\n",
    "    xx, yy = np.meshgrid(np.linspace(mins[0], maxs[0], resolution),  \n",
    "                         np.linspace(mins[1], maxs[1], resolution))\n",
    "    \n",
    "    \n",
    "    Z = clusterer.predict(np.c_[xx.ravel(), yy.ravel()])  # Perform clustering on the grid points\n",
    "    Z = Z.reshape(xx.shape)  # Reshape results to have same shape as the grid\n",
    "\n",
    "    plt.contourf(Z, extent=(mins[0], maxs[0], mins[1], maxs[1]),  # Plot the filled contours (decision boundaries)\n",
    "                cmap=\"Pastel2\")\n",
    "    plt.contour(Z, extent=(mins[0], maxs[0], mins[1], maxs[1]),  # Plot the contour lines\n",
    "                linewidths=1, colors='k')\n",
    "    \n",
    "    plot_data(X)  # Plot the original data\n",
    "    \n",
    "    if show_centroids:\n",
    "        # Plot the centroids if specified\n",
    "        plot_centroids(clusterer.cluster_centers_)  \n",
    "\n",
    "    if show_xlabels:\n",
    "        # Show x-axis label if specified\n",
    "        plt.xlabel(\"$x_1$\", fontsize=14)  \n",
    "    else:\n",
    "        # Hide x-axis labels\n",
    "        plt.tick_params(labelbottom=False)  \n",
    "        \n",
    "    if show_ylabels:\n",
    "        # Show y-axis label if specified\n",
    "        plt.ylabel(\"$x_2$\", fontsize=14, rotation=0)  \n",
    "    else:\n",
    "        # Hide y-axis labels\n",
    "        plt.tick_params(labelleft=False)  \n"
   ]
  },
  {
   "cell_type": "code",
   "execution_count": null,
   "id": "2b9d8e39",
   "metadata": {},
   "outputs": [],
   "source": [
    "plt.figure(figsize=(8, 4))\n",
    "plot_decision_boundaries(kmeans, X)\n",
    "plt.show()"
   ]
  },
  {
   "cell_type": "markdown",
   "id": "5307f00f",
   "metadata": {},
   "source": [
    "If we happen to have a vague idea of where the centroids are, we can give the model starting positions for the clusters:\n",
    "```python\n",
    "init_guess=np.array([-3,1.0],[-3,2],[-3,3],[-1,2],[0,2])\n",
    "kmeans=KMeans(n-cluster=5,init=init_guess,n_inits=5)\n",
    "```"
   ]
  },
  {
   "cell_type": "markdown",
   "id": "240431f3",
   "metadata": {},
   "source": [
    "### Inertia\n",
    "\n",
    "When the K-Means algorithm is called, it actually runs several times. The number of times it runs is given by ```n_inits``` and the default value is 10. K-Means then uses a performance algorithm to detemine which is the best run and keeps that one. The performance metric is called **inertia** and is defined as the mean squared distance between each centroid and the instances associated with it. \n",
    "\n",
    "kmeans can return this value if called:"
   ]
  },
  {
   "cell_type": "code",
   "execution_count": null,
   "id": "dedbba70",
   "metadata": {},
   "outputs": [],
   "source": [
    "kmeans.inertia_"
   ]
  },
  {
   "cell_type": "markdown",
   "id": "2e8fbe12",
   "metadata": {},
   "source": [
    "<div style=\"background-color:#C2F5DD\">\n",
    "\n",
    "### Exercise\n",
    "Plot what happens to the inertia score as you change the number of centroids in your algorithm. Can you use this to determine how many centroids you should have?"
   ]
  },
  {
   "cell_type": "markdown",
   "id": "778a4037",
   "metadata": {},
   "source": [
    "<div style=\"background-color:#C2F5DD\">\n",
    "\n",
    "### Exercise: K-Means with Iris Datatset <a id='K-means_iris'></a>\n",
    "    \n",
    "Below is the code to use the K-Means algorithm on the iris data (i.e. to separate the classes out without using labels). Even though we have only been using 2D to show plots, the algorithm will happily run in multiple dimensions.\n",
    "    \n",
    "Experiment with finding a method to measure the accuracy of this model. Note that the labels used my the iris dataset are not necessarily the same as the K-means cluster labelling.\n",
    "    \n",
    "Although the iris dataset only has three types of flower, try changing the number of clusters (and thus have multiple clusters for the same label). Does this improve accuracy?\n",
    "    \n",
    "_An example solution to this is given in Appendix Section [Exercise Solution: K-Means with Iris Dataset](#iris_ex_app)_"
   ]
  },
  {
   "cell_type": "code",
   "execution_count": null,
   "id": "733ef6a0",
   "metadata": {},
   "outputs": [],
   "source": [
    "import numpy as np\n",
    "import scipy as sp \n",
    "from sklearn.datasets import load_iris\n",
    "iris=load_iris()"
   ]
  },
  {
   "cell_type": "code",
   "execution_count": null,
   "id": "9a7bccbb",
   "metadata": {},
   "outputs": [],
   "source": [
    "from sklearn.model_selection import train_test_split\n",
    "X_train, X_test, y_train, y_test = train_test_split(iris['data'],iris['target'], test_size=0.2)\n",
    "\n",
    "\n",
    "# Try changing this value\n",
    "k = 3 #4\n",
    "\n",
    "\n",
    "kmeans = KMeans(n_clusters=k, random_state=42,n_init=10)\n",
    "y_pred = kmeans.fit_predict(X_train)"
   ]
  },
  {
   "cell_type": "code",
   "execution_count": null,
   "id": "43a8aea0",
   "metadata": {},
   "outputs": [],
   "source": [
    "yp=kmeans.predict(X_test)"
   ]
  },
  {
   "cell_type": "code",
   "execution_count": null,
   "id": "e0c7e5d8",
   "metadata": {},
   "outputs": [],
   "source": [
    "print(yp)\n",
    "print()\n",
    "print(y_test)\n",
    "# As predicted, the labels are not aligned\n",
    "# This must be resolved before the accuracy can be calculated"
   ]
  },
  {
   "cell_type": "markdown",
   "id": "36090c4e",
   "metadata": {},
   "source": [
    "<hr style=\"border:2px solid gray\">\n",
    "\n",
    "# DBSCAN [^](#index) <a id='DBSCAN'></a>\n",
    "\n",
    "**DBSCAN** stands for 'Density-Based Spatial Clustering of Applications with Noise'.\n",
    "\n",
    "DBSCAN is a popular clustering algorithm used in machine learning and data mining. Unlike K-Means, which requires specifying the number of clusters in advance, DBSCAN automatically determines the number of clusters based on the density of the data.\n",
    "\n",
    "DBSCAN operates by grouping together data points that are close to each other and lie in a dense region, while separating regions of lower density. The algorithm identifies **core points** which have a sufficient number of neighboring points within a specified distance ($\\epsilon$). It then expands clusters by including reachable points within this distance. Any points that are not part of a cluster are considered **outliers** or noise.\n",
    "\n",
    "Practical usage: In high-energy physics experiments, particle tracks are reconstructed from the signals recorded by particle detectors. DBSCAN can then be applied to identify and group together the recorded signals that belong to the same particle track. By clustering these signals based on their spatial proximity, DBSCAN helps to accurately restore the paths of the particles.\n",
    "\n",
    "A worked code example, with a more detailed explanation of DBSCAN, is given in the Appendix Section [DBSCAN Worked Code](#DBSCAN_app)\n"
   ]
  },
  {
   "cell_type": "markdown",
   "id": "d9f4053d",
   "metadata": {},
   "source": [
    "<div style=\"background-color: #FFF8C6\">\n",
    "\n",
    "### Optional Example\n",
    "\n",
    "We have a dataset of particles with two features: momentum and charge. The goal is to group these particles based on these two features.\n",
    "\n",
    "Here, we are simulating data from four types of particles, each with different distributions of momentum and charge:"
   ]
  },
  {
   "cell_type": "code",
   "execution_count": null,
   "id": "1820df24",
   "metadata": {},
   "outputs": [],
   "source": [
    "import numpy as np\n",
    "import matplotlib.pyplot as plt\n",
    "from sklearn.datasets import make_blobs\n",
    "\n",
    "np.random.seed(50)\n",
    "\n",
    "# Make up data for 4 different particles\n",
    "data, _ = make_blobs(n_samples=500, centers=4, cluster_std=1)\n",
    "\n",
    "# The first feature is momentum, the second is charge\n",
    "momentum = data[:, 0]\n",
    "charge = data[:, 1]\n",
    "\n",
    "plt.scatter(momentum, charge)\n",
    "plt.xlabel('Momentum')\n",
    "plt.ylabel('Charge')\n",
    "plt.title('Simulated Particle Data')\n",
    "plt.grid(True)\n",
    "plt.show()\n"
   ]
  },
  {
   "cell_type": "markdown",
   "id": "18558225",
   "metadata": {},
   "source": [
    "<div style=\"background-color: #FFF8C6\">\n",
    "\n",
    "We can now use DBSCAN to identify the particle types.\n",
    "\n",
    "DBSCAN takes two parameters: \n",
    "- ```eps``` : specifies the maximum distance between two samples for them to be considered as in the same neighborhood\n",
    "- ```min_samples``` : the number of samples in the neighborhood of a point for it to be considered a core point. \n",
    "    \n",
    "Try to alter these values in the code below to see how the plot changes."
   ]
  },
  {
   "cell_type": "code",
   "execution_count": null,
   "id": "e62960d2",
   "metadata": {},
   "outputs": [],
   "source": [
    "from sklearn.cluster import DBSCAN\n",
    "\n",
    "# Perform DBSCAN on data\n",
    "dbscan = DBSCAN(eps=0.7, min_samples=10)\n",
    "clusters = dbscan.fit_predict(data)\n",
    "cmap = cm.get_cmap('tab10')\n",
    "\n",
    "\n",
    "# Plot the clustered data\n",
    "# The colour of the points demonstrate how DBSCAN has separated the data\n",
    "\n",
    "plt.scatter(momentum, charge, color=cmap(clusters+1))\n",
    "plt.xlabel('Momentum')\n",
    "plt.ylabel('Charge')\n",
    "plt.title('DBSCAN Clustering of Particle Data')\n",
    "plt.grid(True)\n",
    "plt.show()\n"
   ]
  },
  {
   "cell_type": "markdown",
   "id": "00cec63a",
   "metadata": {},
   "source": [
    "<hr style=\"border:2px solid gray\">\n",
    "<hr style=\"border:2px solid gray\">\n",
    "\n",
    "<div style=\"background-color:#efdff2\">\n",
    "\n",
    "# Appendix <a id='appendix'></a>\n",
    "\n",
    "[Return to Index](#index)\n",
    "\n",
    "In this section, you will find longer pieces of mathematics and code which are **non-examinable**. Please read at your own discretion\n",
    "\n",
    "- A. [K-Means Worked Code](#K-means_app)\n",
    "- B. [Exercise Solution: K-Means with Iris Dataset](#iris_ex_app)\n",
    "- C. [DBSCAN Worked Code](#DBSCAN_app)"
   ]
  },
  {
   "cell_type": "markdown",
   "id": "96115bf4",
   "metadata": {},
   "source": [
    "<hr style=\"border:2px solid gray\">\n",
    "\n",
    "<div style=\"background-color:#efdff2\">\n",
    "\n",
    "## A. K-Means Worked Code [^^](#appendix) <a id='K-Means_app'></a>\n",
    "\n",
    "[Return to relevant section in notes](#KM_explain) \n",
    "    \n",
    "_References: [The Math behind K-Means Clustering](https://medium.com/@draj0718/the-math-behind-k-means-clustering-4aa85532085e)_\n",
    "    \n",
    "For this worked code example, we'll use the same clusters as seen previously. \n",
    "    \n",
    "Firstly, we randomly select K data points to be our predicted clump centres."
   ]
  },
  {
   "cell_type": "code",
   "execution_count": null,
   "id": "d1bcb623",
   "metadata": {},
   "outputs": [],
   "source": [
    "def setup():\n",
    "    blob_centers = np.array(\n",
    "        [[ 0.2,  2.3],\n",
    "         [-1.5 ,  2.3],\n",
    "         [-2.8,  1.8],\n",
    "         [-2.8,  2.8],\n",
    "         [-2.8,  1.3]])\n",
    "    blob_std = np.array([0.4, 0.3, 0.1, 0.1, 0.1])\n",
    "    X, y = make_blobs(n_samples=2000, centers=blob_centers,\n",
    "                  cluster_std=blob_std, random_state=7)\n",
    "    return (X, y)"
   ]
  },
  {
   "cell_type": "code",
   "execution_count": null,
   "id": "14aa30b4",
   "metadata": {},
   "outputs": [],
   "source": [
    "def initial_centroids(X, k=5, plot = False, set_rand=False):\n",
    "    \n",
    "    if set_rand:\n",
    "        np.random.seed(9001)\n",
    "        \n",
    "    length=len(X)\n",
    "\n",
    "    centroids_index=np.random.randint(0, high=length, size = k)\n",
    "    centroids=np.array([np.array(X[i]) for i in centroids_index])\n",
    "    \n",
    "    if plot:\n",
    "        plot_clusters(X)\n",
    "\n",
    "        plt.scatter(centroids[:, 0], centroids[:, 1], marker='x', s=10, linewidths=10, \n",
    "                    color='black', zorder=20, alpha=1)\n",
    "        plt.show()\n",
    "        \n",
    "    return (centroids)"
   ]
  },
  {
   "cell_type": "code",
   "execution_count": null,
   "id": "c69e1fd4",
   "metadata": {},
   "outputs": [],
   "source": [
    "X, _ = setup()\n",
    "centroids = initial_centroids(X, k=5, plot = True, set_rand = True)"
   ]
  },
  {
   "cell_type": "markdown",
   "id": "b8676add",
   "metadata": {},
   "source": [
    "<div style=\"background-color:#efdff2\">\n",
    "    \n",
    "We now group each point based on which centroid they are closest to (using the Euclidian distance). We can also choose to sum these distances to find the **inertia** (see below for its use)."
   ]
  },
  {
   "cell_type": "code",
   "execution_count": null,
   "id": "440a5f08",
   "metadata": {},
   "outputs": [],
   "source": [
    "def closest_centroid(X, centroids, contour=False):\n",
    "    \n",
    "    contour_arr=[]\n",
    "    cluster_list=[]\n",
    "    inertia=0\n",
    "    \n",
    "    for i in range(k):\n",
    "        cluster_list.append([])\n",
    "\n",
    "    for point in X:\n",
    "        min_dist_sq=np.inf\n",
    "        min_centroid_num=0\n",
    "\n",
    "        for num, centre in enumerate(centroids):           \n",
    "            dist_sq = (centre[0]-point[0])**2 + (centre[1]-point[1])**2\n",
    "            \n",
    "            if dist_sq< min_dist_sq:\n",
    "                min_dist_sq = dist_sq\n",
    "                min_centroid_num = num\n",
    "\n",
    "        cluster_list[min_centroid_num].append(point)\n",
    "        inertia += np.sqrt(min_dist_sq)\n",
    "            \n",
    "            \n",
    "        if contour:\n",
    "            contour_arr.append(min_centroid_num)\n",
    "    \n",
    "    cluster_arr=np.array([np.array(l) for l in cluster_list], dtype=object)\n",
    "    if contour:        \n",
    "        return np.array(contour_arr, dtype=object)\n",
    "\n",
    "    else:\n",
    "        return np.array(cluster_arr, dtype=object), inertia\n"
   ]
  },
  {
   "cell_type": "code",
   "execution_count": null,
   "id": "6928aaf6",
   "metadata": {},
   "outputs": [],
   "source": [
    "def plot_model(centroids, cluster_arr,  ax = 0, resolution = 500, colors= 'tab10'):\n",
    "    \n",
    "    if not ax:\n",
    "        ax= plt.subplot(111)\n",
    "    \n",
    "    cmap = cm.get_cmap(colors)\n",
    "            \n",
    "    mins = X.min(axis=0) - 0.1 \n",
    "    maxs = X.max(axis=0) + 0.1\n",
    "    \n",
    "    xx, yy = np.meshgrid(np.linspace(mins[0], maxs[0], resolution),  \n",
    "                         np.linspace(mins[1], maxs[1], resolution))\n",
    "\n",
    "    \n",
    "    Z = closest_centroid(np.c_[xx.ravel(), yy.ravel()], centroids, contour=True)\n",
    "    Z = np.array(Z).reshape(xx.shape) \n",
    "    \n",
    "    ax.contourf(Z, extent=(mins[0], maxs[0], mins[1], maxs[1]), cmap = cmap, alpha=0.3) \n",
    "    ax.contour(Z, extent=(mins[0], maxs[0], mins[1], maxs[1]), linewidths=1, colors='k')\n",
    "\n",
    "    for num, arr in enumerate(cluster_arr):\n",
    "        ax.scatter(arr[:,0], arr[:,1], s=1, color= cmap(num))\n",
    "        \n",
    "    ax.scatter(centroids[:, 0], centroids[:, 1], marker='x', s=10, linewidths=10, \n",
    "                color='black', zorder=20, alpha=1)\n"
   ]
  },
  {
   "cell_type": "code",
   "execution_count": null,
   "id": "6ba81185",
   "metadata": {
    "scrolled": false
   },
   "outputs": [],
   "source": [
    "cluster_arr, inertia  = closest_centroid(X, centroids)\n",
    "print ('Inertia: ', inertia)\n",
    "plot_model(centroids, cluster_arr)"
   ]
  },
  {
   "cell_type": "markdown",
   "id": "f59963f7",
   "metadata": {},
   "source": [
    "<div style=\"background-color:#efdff2\">\n",
    "\n",
    "The contour plot displays how our model is currently dividing the data. We can see that the contour line divisions do not match our clumps.\n",
    "\n",
    "To improve our model we must have an improved guess of the centroids position. We find this by finding the **average** position over all the points in each grouping. Note the decrease in inertia - this suggests points are now closer to their relevant centroid and hence the model is a better fit."
   ]
  },
  {
   "cell_type": "code",
   "execution_count": null,
   "id": "44a30511",
   "metadata": {},
   "outputs": [],
   "source": [
    "def find_centroids(cluster_arr):\n",
    "    new_centroids = []\n",
    "    for arr in cluster_arr:\n",
    "        x_avg = np.average(arr[:, 0])\n",
    "        y_avg = np.average(arr[:, 1])\n",
    "        new_centroids.append(np.array([x_avg, y_avg]))\n",
    "     \n",
    "    return np.array(new_centroids)"
   ]
  },
  {
   "cell_type": "code",
   "execution_count": null,
   "id": "265dd674",
   "metadata": {
    "scrolled": false
   },
   "outputs": [],
   "source": [
    "centroids = find_centroids(cluster_arr)\n",
    "\n",
    "cluster_arr, inertia  = closest_centroid(X, centroids)\n",
    "print ('Inertia: ', inertia)\n",
    "plot_model(centroids, cluster_arr)"
   ]
  },
  {
   "cell_type": "markdown",
   "id": "4b817d79",
   "metadata": {},
   "source": [
    "<div style=\"background-color:#efdff2\">\n",
    "\n",
    "We repeat this process of calculating centroids and reclassifying the points until one of the stopping conditions is met:\n",
    "- The centroid positions do not change between iterations\n",
    "- The maximum number of iterations are reached\n",
    "    \n",
    "We can combine our code so far to see a complete K-means algorithm."
   ]
  },
  {
   "cell_type": "code",
   "execution_count": null,
   "id": "bde03e12",
   "metadata": {},
   "outputs": [],
   "source": [
    "def kmeans_one(X, k=5, max_iter=45, plot_cont=False):\n",
    "    \n",
    "    centroids = initial_centroids(X, k=5, plot = False)\n",
    "    \n",
    "    if plot_cont:\n",
    "        plt.figure(figsize=(15, 12))\n",
    "    \n",
    "    for i in range(max_iter):\n",
    "\n",
    "        prev = centroids[:]\n",
    "        cluster_arr, inertia=closest_centroid(X, centroids)\n",
    "        \n",
    "        if plot_cont:\n",
    "            if i % 5 == 0:\n",
    "                ax = plt.subplot(3, 3, (i // 5 + 1))\n",
    "                \n",
    "                ax.set_title(str(i+1) + \" Iteration(s)\", fontsize=16)\n",
    "                plot_model(centroids, cluster_arr, ax=ax)\n",
    "                               \n",
    "        centroids = find_centroids(cluster_arr)\n",
    "                   \n",
    "        if np.array_equal(prev,centroids):\n",
    "            plt.show()\n",
    "            if plot_cont:\n",
    "                print ('Centroids are consistant after', i,'iterations')\n",
    "            break \n",
    "    \n",
    "    return centroids, cluster_arr, inertia\n",
    "          "
   ]
  },
  {
   "cell_type": "code",
   "execution_count": null,
   "id": "b254f096",
   "metadata": {
    "scrolled": false
   },
   "outputs": [],
   "source": [
    "X, _ = setup()\n",
    "\n",
    "centroids, cluster_arr, inertia = kmeans_one(X, k=5, max_iter=45, plot_cont=True)"
   ]
  },
  {
   "cell_type": "code",
   "execution_count": null,
   "id": "26a4d2fc",
   "metadata": {},
   "outputs": [],
   "source": [
    "plt.figure(figsize=(8, 5))\n",
    "plot_model(centroids, cluster_arr)\n",
    "plt.show()\n",
    "\n",
    "print ('Inertia: ', inertia)"
   ]
  },
  {
   "cell_type": "markdown",
   "id": "4aab2ba6",
   "metadata": {},
   "source": [
    "<div style=\"background-color:#efdff2\">\n",
    "\n",
    "Try running the cell above a few more times. As you can (probably) see from the output, the algorithm is heavily dependent on the random starting positions of the centroids. This is why we repeat the process a number of times with different random starting values, and choose the run which minimises **inertia**. **Inertia** is the some of the Euclidian distance between the points and the centroids."
   ]
  },
  {
   "cell_type": "code",
   "execution_count": null,
   "id": "90d06fbf",
   "metadata": {},
   "outputs": [],
   "source": [
    "def k_means(k=5, runs=9, max_iter=50):\n",
    "    X, _ = setup()\n",
    "    min_inertia = np.inf\n",
    "    centre_list=[]\n",
    "    cluster_list=[]\n",
    "    \n",
    "    for i in range(runs):\n",
    "        \n",
    "        centres, cluster_arr, inertia = kmeans_one(X, k=k, max_iter=max_iter, plot_cont=False)\n",
    "        \n",
    "        centre_list.append(centres)\n",
    "        cluster_list.append(cluster_arr)\n",
    "        \n",
    "        if inertia <  min_inertia:\n",
    "            min_inertia = inertia\n",
    "            min_centres = centres\n",
    "            min_cluster = cluster_arr\n",
    "            num =i+1\n",
    "        \n",
    "    plt.figure(figsize=(15, 12))\n",
    "    count=1\n",
    "    for centres, cluster_arr in zip (centre_list, cluster_list):\n",
    "        ax = plt.subplot(3, 3, (count))\n",
    "        ax.set_title(str(count) + \" run(s)\", fontsize=16)\n",
    "        plot_model(centres, cluster_arr, ax=ax)\n",
    "        count+=1\n",
    "             \n",
    "    plt.show()\n",
    "    \n",
    "    \n",
    "    plt.figure(figsize=(10, 7))\n",
    "    \n",
    "    print ('Final Plot with Minimum Inertia, run no.',num)        \n",
    "    plot_model(min_centres, min_cluster)\n",
    "    plt.show()\n",
    "    \n",
    "    return min_centres, min_inertia\n",
    " "
   ]
  },
  {
   "cell_type": "code",
   "execution_count": null,
   "id": "eb714312",
   "metadata": {
    "scrolled": false
   },
   "outputs": [],
   "source": [
    "min_centres, min_inertia = k_means()"
   ]
  },
  {
   "cell_type": "markdown",
   "id": "b645b9a0",
   "metadata": {},
   "source": [
    "<hr style=\"border:2px solid gray\">\n",
    "\n",
    "<div style=\"background-color:#efdff2\">\n",
    "\n",
    "## B. Exercise Solution: K-Means with Iris Dataset [^^](#appendix) <a id='iris_ex_app'></a>\n",
    "\n",
    "[Return to relevant section in notes](#K-means_iris) \n",
    "    \n",
    "Below is an example of a function which aligns the labels of the iris dataset to the cluster labels of the K-means model, including if the number of clusters and flower types differ. This is far from the only solution."
   ]
  },
  {
   "cell_type": "code",
   "execution_count": null,
   "id": "76f1bb0c",
   "metadata": {},
   "outputs": [],
   "source": [
    "def convert_pred(pred_array, length=50):\n",
    "\n",
    "    y_pred_check = y_pred[:length]\n",
    "    y_train_check = y_train[:length]\n",
    "\n",
    "    count_mat=np.zeros((k,3))\n",
    "\n",
    "    for i, j in zip(y_pred_check, y_train_check):\n",
    "\n",
    "        count_mat[i,j]+=1 \n",
    "        #i, the row, is the class given by the predictor\n",
    "        #j, the column, is the class given by the labels\n",
    "\n",
    "    conv=[]\n",
    "    for row in count_mat:\n",
    "        conv.append(np.argmax(row))\n",
    "\n",
    "    convert_arr =[]\n",
    "    for i in pred_array:\n",
    "        convert_arr.append(conv[i])\n",
    "        \n",
    "    return (np.array(convert_arr))"
   ]
  },
  {
   "cell_type": "code",
   "execution_count": null,
   "id": "9ee76ef4",
   "metadata": {},
   "outputs": [],
   "source": [
    "print(convert_pred(yp))      \n",
    "print()\n",
    "print(y_test)"
   ]
  },
  {
   "cell_type": "markdown",
   "id": "c30ca8b8",
   "metadata": {},
   "source": [
    "<hr style=\"border:2px solid gray\">\n",
    "\n",
    "<div style=\"background-color:#efdff2\">\n",
    "\n",
    "## C. DBSCAN Worked Code [^^](#appendix) <a id='DBSCAN_app'></a>\n",
    "\n",
    "[Return to relevant section in notes](#DBSCAN) \n",
    "    \n",
    "_References: [Medium: DBSCAN Clustering Algorithm with Maths](https://medium.com/@rdhawan201455/dbscan-clustering-algorithm-with-maths-c40dcee88281), [Jared Gerschler Blog](https://jaredgerschler.blog/2017/01/13/the-dbscan-algorithm-background-and-theory/)_\n",
    "    \n",
    "Once again, we will start by setting up the problem. DBSCAN will have to iterate over all the points, so we may wish to reduce the number of samples.\n",
    "    \n",
    "All points are initially unclssified, so we can also create a zeros array to store this information. Although not strictly necessary, I will also define a 'neighbourhood matrix' in this section to increase the algorithm's efficiency (more below)."
   ]
  },
  {
   "cell_type": "code",
   "execution_count": 1,
   "id": "131f89aa",
   "metadata": {},
   "outputs": [],
   "source": [
    "def setup(n_samples=2000):\n",
    "    blob_centers = np.array(\n",
    "        [[ 0.2,  2.3],\n",
    "         [-1.5 ,  2.3],\n",
    "         [-2.8,  2.0],\n",
    "         [-2.8,  2.8],\n",
    "         [-2.8,  1.3]])\n",
    "    blob_std = np.array([0.4, 0.3, 0.1, 0.1, 0.1])\n",
    "    X, y = make_blobs(n_samples=n_samples, centers=blob_centers,\n",
    "                  cluster_std=blob_std, random_state=7)\n",
    "    return (X, y)"
   ]
  },
  {
   "cell_type": "code",
   "execution_count": 2,
   "id": "3114acf2",
   "metadata": {},
   "outputs": [],
   "source": [
    "def DBSCAN_start(data):\n",
    "    \n",
    "    global cluster_arr\n",
    "    \n",
    "    length = len(data)\n",
    "    cluster_arr = np.zeros(length)\n",
    "    count=1\n",
    "    \n",
    "    neighbour_mat = np.zeros((length, length))\n",
    "    \n",
    "    return length, cluster_arr, neighbour_mat"
   ]
  },
  {
   "cell_type": "markdown",
   "id": "cb43fd95",
   "metadata": {},
   "source": [
    "<div style=\"background-color:#efdff2\">\n",
    "    \n",
    "We will now define some key terms we will need in order to understand DBSCAN.\n",
    "    \n",
    "The **neighbourhood** of points for some given point, $p$, contains all points that are less than a given Euclidian distance from $p$ (including $p$ itself). This distance is of great importance to DBSCAN and is given the notation $\\boldsymbol{\\epsilon}$. \n",
    "    \n",
    "Below, we define a function to check whether a point $q$ is in the neighbourhood of $p$. We will store our results in the neighbour_mat so that we do not repeat any calculations. The position within the array will represent the indices of the two points being checked."
   ]
  },
  {
   "cell_type": "code",
   "execution_count": 50,
   "id": "0ec7b38a",
   "metadata": {},
   "outputs": [],
   "source": [
    "def neighbour_check(p_index, q_index, data, eps, neighbour_mat):\n",
    "\n",
    "    p, q = data[p_index], data[q_index]\n",
    "    mat_index = np.sort([p_index, q_index]) # This ensures that the coords are always entered the same way\n",
    "    checked = neighbour_mat[mat_index[0], mat_index[1]]\n",
    "    \n",
    "    if checked == 0:    \n",
    "        total=0\n",
    "\n",
    "        for a,b in zip(p, q):\n",
    "            total += (a-b)**2\n",
    "\n",
    "        distance = np.sqrt(total)\n",
    "\n",
    "        if distance <= eps:\n",
    "            neighbour_mat[mat_index[0], mat_index[1]] = 1 \n",
    "            neighbour = True\n",
    "\n",
    "        else:\n",
    "            neighbour_mat[mat_index[0], mat_index[1]] = -1\n",
    "            neighbour = False\n",
    "        \n",
    "    elif checked == 1:\n",
    "        neighbour = True\n",
    "    else:\n",
    "        neighbour = False\n",
    "        \n",
    "    return neighbour, neighbour_mat"
   ]
  },
  {
   "cell_type": "markdown",
   "id": "7a473c8c",
   "metadata": {},
   "source": [
    "<div style=\"background-color:#efdff2\">\n",
    "\n",
    "Another important parameter for DBSCAN is **min samples** or **min points**. This is the minimum number of points in the neighbourhood of $p$ required to designate $p$ as a **core point**.\n",
    "\n",
    "A **core point** and its neighbourhood will be grouped in the same cluster. \n",
    "\n",
    "If a point $q$ is not a core point, but is in the neighbourhood of a core point, it is described as a **border point**.\n",
    "\n",
    "If a point is neither a core point or a border point, it is described as a **noise point**. These points do not belong in any cluster.\n",
    "    \n",
    "We will define a function to check whether a point is a **core point**. We will also record the index of any point in the neighbourhood."
   ]
  },
  {
   "cell_type": "code",
   "execution_count": 17,
   "id": "88418aaf",
   "metadata": {},
   "outputs": [],
   "source": [
    "def core_point(p_index, data, eps, min_points, neighbour_mat, length):\n",
    "    \n",
    "    neighbour_list = []\n",
    "    \n",
    "    for q_index in range(length):\n",
    "        \n",
    "        neighbour, neighbour_mat = neighbour_check(p_index, q_index, data, eps, neighbour_mat)\n",
    "        \n",
    "        if neighbour:\n",
    "            neighbour_list.append(q_index)\n",
    "            \n",
    "    if len(neighbour_list) >= min_points:\n",
    "        core = True\n",
    "    else: core = False\n",
    "        \n",
    "    return core, neighbour_list, neighbour_mat"
   ]
  },
  {
   "cell_type": "markdown",
   "id": "2c647166",
   "metadata": {},
   "source": [
    "<div style=\"background-color:#efdff2\">\n",
    "\n",
    "The core point and its neighbour should be classified as belonging to the same cluster. We also want this process to **continue recursively**. This means that we want to repeat the entire process for every point in the neighbourhood, and then for every point in that neighbourhood, and so on.\n",
    "    \n",
    "We describe points connected by these successive neighbourhoods as being **density connected**, with all density connected points belonging to the same cluster."
   ]
  },
  {
   "cell_type": "code",
   "execution_count": 20,
   "id": "9e263895",
   "metadata": {},
   "outputs": [],
   "source": [
    "def mark_cluster(p_index, data, cluster_arr, cluster_no, eps, min_points, neighbour_mat, length):  \n",
    "    \n",
    "    core, neighbour_list, neighbour_mat = core_point(p_index, data, eps, min_points, neighbour_mat, length)\n",
    "    \n",
    "    if core:\n",
    "        \n",
    "        for i in neighbour_list:\n",
    "            \n",
    "            if cluster_arr[i]: continue # If point already classified, we do not need to repeat the process\n",
    "                \n",
    "            cluster_arr[i] = cluster_no \n",
    "            mark_cluster(i, data, cluster_arr, cluster_no, eps, min_points, neighbour_mat, length)  \n",
    "            # The process continues recursively\n",
    "            \n",
    "    return cluster_arr, neighbour_mat\n",
    "    "
   ]
  },
  {
   "cell_type": "markdown",
   "id": "b843437c",
   "metadata": {},
   "source": [
    "<div style=\"background-color:#efdff2\">\n",
    "\n",
    "Finally, we will combine all our functions to create a DBSCAN algorithm. Each time we reach an unclassified point in data, we will change the cluster number and perform mark_cluster."
   ]
  },
  {
   "cell_type": "code",
   "execution_count": 29,
   "id": "978e2dce",
   "metadata": {},
   "outputs": [],
   "source": [
    "from copy import deepcopy\n",
    "\n",
    "def DBSCAN(data, eps, min_points):\n",
    "    \n",
    "    length, cluster_arr, neighbour_mat = DBSCAN_start(data)\n",
    "    \n",
    "    cluster_no = 1\n",
    "    \n",
    "    for i in range(length):\n",
    "        \n",
    "        if cluster_arr[i]: continue \n",
    "            \n",
    "        cluster_arr_copy = deepcopy(cluster_arr)\n",
    "        \n",
    "        cluster_arr, neighbour_mat =  mark_cluster(i, data, cluster_arr, cluster_no, eps, min_points, neighbour_mat, length)\n",
    "        \n",
    "        if not np.array_equal(cluster_arr,cluster_arr_copy):\n",
    "            # If there has been a change to cluster_arr, we want to change the cluster_no\n",
    "            cluster_no += 1\n",
    "            \n",
    "    return np.array(cluster_arr, dtype =int)\n",
    "        \n",
    "    "
   ]
  },
  {
   "cell_type": "markdown",
   "id": "ac039a88",
   "metadata": {},
   "source": [
    "<div style=\"background-color:#efdff2\">\n",
    "    \n",
    "Before we run our algorithm on our cluster data, we will run on a smaller set and visualise how DBSCAN behaves."
   ]
  },
  {
   "cell_type": "code",
   "execution_count": 32,
   "id": "700353a5",
   "metadata": {},
   "outputs": [],
   "source": [
    "def plot_circle(point, radius, color, zorder=0):\n",
    "    \n",
    "    no_points=50\n",
    "\n",
    "    angles = np.linspace(0, 2 * np.pi, no_points+1)\n",
    "\n",
    "    x_coord = radius * np.cos(angles) + point[0]\n",
    "    y_coord = radius * np.sin(angles) + point[1]\n",
    "    \n",
    "    plt.plot(x_coord, y_coord, c=color, zorder=zorder)"
   ]
  },
  {
   "cell_type": "code",
   "execution_count": 169,
   "id": "4e4a7339",
   "metadata": {},
   "outputs": [],
   "source": [
    "def plot_neighbour(p_index, data, eps, min_points, depth = 0, neighbour_mat=[], cluster_arr=[]):\n",
    "    \n",
    "    length = len(data)\n",
    "    \n",
    "    if len(neighbour_mat) == 0:\n",
    "        neighbour_mat = np.zeros((length, length))\n",
    "        cluster_arr = np.zeros(length)       \n",
    "    \n",
    "    p = data[p_index]\n",
    "    \n",
    "    plt.scatter(data[:, 0], data[:, 1], s=10, zorder=0)\n",
    "             \n",
    "    core, neighbour_list, neighbour_mat = core_point(p_index, data, eps, min_points, neighbour_mat, length)\n",
    "             \n",
    "    if core: #Core points in a cluster are shown in blue\n",
    "        c = 'blue'\n",
    "        points = np.array([data[i] for i in neighbour_list])\n",
    "        plt.scatter(points[:, 0], points[:, 1], color = c , marker='x', s=50)\n",
    "        \n",
    "    else: # Non-core points are shown in black\n",
    "        c = 'black'\n",
    "        depth = 0\n",
    "    \n",
    "    plt.scatter(p[0], p[1], color = c, marker='x', s=50)\n",
    "    plot_circle(p, eps, c)\n",
    "    \n",
    "    if depth != 0:\n",
    "        for q_index in neighbour_list:\n",
    "            q = data[q_index]\n",
    "            classified = cluster_arr[q_index]\n",
    "            \n",
    "            if classified: continue # So we don't repeat our plots\n",
    "            cluster_arr[q_index] = 1 \n",
    "            plot_neighbour(q_index, data, eps, min_points, depth = depth-1, neighbour_mat = neighbour_mat, cluster_arr= cluster_arr)\n",
    "            \n",
    "\n",
    "        "
   ]
  },
  {
   "cell_type": "markdown",
   "id": "f71a5c3a",
   "metadata": {},
   "source": [
    "<div style=\"background-color:#efdff2\">\n",
    "    \n",
    "In the code below, we simulate the start of the DBSCAN on some random data. We begin with a random point, and identify both its neighbourhood and whether it is a core point. This process repeats up to a maximum 'depth', rather than until the cluster is complete.\n",
    "    \n",
    "Experiment with the code, changing depth, eps and min_points to see how it effects the chosen cluster."
   ]
  },
  {
   "cell_type": "code",
   "execution_count": 170,
   "id": "36de91ed",
   "metadata": {},
   "outputs": [],
   "source": [
    "index = 0\n",
    "data = np.random.rand(300,2) * 3"
   ]
  },
  {
   "cell_type": "code",
   "execution_count": 171,
   "id": "30e6946c",
   "metadata": {},
   "outputs": [
    {
     "data": {
      "image/png": "[encoded data removed]",
      "text/plain": [
       "<Figure size 700x700 with 1 Axes>"
      ]
     },
     "metadata": {},
     "output_type": "display_data"
    }
   ],
   "source": [
    "plt.figure(figsize=(7, 7))\n",
    "plt.axis([0,3,0,3])\n",
    "plot_neighbour(index, data, eps=0.2, min_points = 4, depth = 2)\n",
    "\n",
    "plt.show()"
   ]
  },
  {
   "cell_type": "markdown",
   "id": "f8c540ed",
   "metadata": {},
   "source": [
    "<div style=\"background-color:#efdff2\">\n",
    "\n",
    "Now we will run our program for the cluster data."
   ]
  },
  {
   "cell_type": "code",
   "execution_count": 172,
   "id": "9671f01e",
   "metadata": {},
   "outputs": [],
   "source": [
    "X, _ = setup(n_samples=500)"
   ]
  },
  {
   "cell_type": "code",
   "execution_count": 173,
   "id": "5a73bc1e",
   "metadata": {},
   "outputs": [],
   "source": [
    "cluster_arr = DBSCAN(X, 0.18, 3)"
   ]
  },
  {
   "cell_type": "code",
   "execution_count": 174,
   "id": "efee121c",
   "metadata": {},
   "outputs": [
    {
     "data": {
      "image/png": "[encoded data removed]",
      "text/plain": [
       "<Figure size 640x480 with 1 Axes>"
      ]
     },
     "metadata": {},
     "output_type": "display_data"
    }
   ],
   "source": [
    "num_color = np.max(clump_arr)\n",
    "color_arr = sns.color_palette(\"hls\", num_color+1)\n",
    "for point, cluster in zip(X, clump_arr):\n",
    "    if not cluster:\n",
    "        plt.scatter(point[0], point[1], s=15, color = 'black', marker='.', zorder=0)\n",
    "    else:\n",
    "        plt.scatter(point[0], point[1], s=30, color = color_arr[cluster], marker='.', zorder=1)\n",
    "plt.grid()\n",
    "plt.show()"
   ]
  }
 ],
 "metadata": {
  "kernelspec": {
   "display_name": "Python 3 (ipykernel)",
   "language": "python",
   "name": "python3"
  },
  "language_info": {
   "codemirror_mode": {
    "name": "ipython",
    "version": 3
   },
   "file_extension": ".py",
   "mimetype": "text/x-python",
   "name": "python",
   "nbconvert_exporter": "python",
   "pygments_lexer": "ipython3",
   "version": "3.8.13"
  }
 },
 "nbformat": 4,
 "nbformat_minor": 5
}
