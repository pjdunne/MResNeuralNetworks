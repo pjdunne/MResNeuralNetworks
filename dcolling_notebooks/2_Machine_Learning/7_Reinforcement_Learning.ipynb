{
    "cells": [
        {
            "cell_type": "markdown",
            "metadata": {},
            "source": [
                "# Reinforcement Learning \n",
                "\n",
                "Reinforcement Learning is the cutting-edge approach in artificial intelligence that empowers machines to learn by interacting with their environment. Just like a skillful player mastering a game, this innovative technique enables AI to make smart decisions and improve performance through trial and error. By rewarding positive outcomes and penalising mistakes, Reinforcement Learning paves the way for autonomous agents that learn to navigate complex challenges and conquer the unknown."
            ]
        },
        {
            "cell_type": "markdown",
            "metadata": {},
            "source": [
                "<hr style=\"border:2px solid gray\">\n",
                "\n",
                "## Index: <a id='index'></a>\n",
                "1. [Reward System](#reward-system)\n",
                "1. [Reinforcement Learning in Action](#RL)\n",
                "1. [Q-Learn](#QL)\n",
                "1. [Q-Value and Hyper-Parameters](#QV)\n",
                "1. [Using Dictionary](#Dic)\n",
                "1. [Reinforcement Learning - \"a Game of Rock, Paper, Scissors\"](#Game)\n",
                "1. [Exercise: Write Your Own Game](#try)"
            ]
        },
        {
            "cell_type": "markdown",
            "metadata": {},
            "source": [
                "## Real life example:\n",
                "AlphaGo, the revolutionary AI developed by DeepMind, employs Reinforcement Learning as a crucial component of its strategy. Through a combination of supervised learning from human expert games and reinforcement learning by playing against itself, AlphaGo hones its skills and adapts its gameplay. This reinforcement learning process allows AlphaGo to refine its moves, prioritise winning strategies, and continuously evolve, eventually achieving superhuman proficiency in the intricate game of Go. The result is a monumental breakthrough in the world of AI and a testament to the power of Reinforcement Learning in conquering complex challenges. "
            ]
        },
        {
            "cell_type": "markdown",
            "metadata": {},
            "source": [
                "## In this notebook...\n",
                "\n",
                "we will go through a simple example of reinforcement learning.\n",
                "\n",
                "A game of rock paper scissors is designed, you may try to write your own example to implement a simple game.\n",
                "\n",
                "What we want is to let you the player choose an option and the computer to also do the same thing, then we decide if you or the player has won the game:"
            ]
        },
        {
            "cell_type": "markdown",
            "metadata": {},
            "source": [
                "<div style=\"background-color: #FFF8C6\">\n",
                "\n",
                "## Exercise: Write your version of this implementation..."
            ]
        },
        {
            "cell_type": "markdown",
            "metadata": {},
            "source": [
                "The set of code below is a version of implementation:"
            ]
        },
        {
            "cell_type": "code",
            "execution_count": 4,
            "metadata": {},
            "outputs": [
                {
                    "name": "stdout",
                    "output_type": "stream",
                    "text": [
                        "Let's play rock, paper, scissors\n",
                        "Your choice: rock\n",
                        "I will choose: scissors\n",
                        "user wins\n"
                    ]
                }
            ],
            "source": [
                "import random\n",
                "import numpy as np\n",
                "\n",
                "\n",
                "#### This is how a basic one to one game of rock paper and scissors work\n",
                "def users_choice():\n",
                "    print(\"Let's play rock, paper, scissors\")\n",
                "    while True:\n",
                "        choice = input(\"Enter your choice (rock, paper, or scissors): \")\n",
                "        if choice in [\"rock\", \"paper\", \"scissors\"]:\n",
                "            return choice\n",
                "        else:\n",
                "            print(\"Invalid choice. Try again.\")\n",
                "\n",
                "\n",
                "def comp_trial():\n",
                "    options = [\"rock\", \"paper\", \"scissors\"]\n",
                "    choice = random.choice(options)\n",
                "    return choice\n",
                "\n",
                "\n",
                "def rule(user_choice, comp_choice):\n",
                "    '''\n",
                "    This shows all the outcomes of the game,\n",
                "    the if statements can be shortened to three\n",
                "    '''\n",
                "    if user_choice == comp_choice:\n",
                "        return \"draw\"\n",
                "    elif user_choice == \"rock\" and comp_choice == \"scissors\":\n",
                "        return \"user wins\"\n",
                "    elif user_choice == \"scissors\" and comp_choice == \"rock\":\n",
                "        return \"computer wins\"\n",
                "    elif user_choice == \"paper\" and comp_choice == \"rock\":\n",
                "        return \"user wins\"\n",
                "    elif user_choice == \"rock\" and comp_choice == \"paper\":\n",
                "        return \"computer wins\"\n",
                "    elif user_choice == \"scissors\" and comp_choice == \"paper\":\n",
                "        return \"user wins\"\n",
                "    elif user_choice == \"paper\" and comp_choice == \"scissors\":\n",
                "        return \"computer wins\"\n",
                "\n",
                "\n",
                "comp_choice = comp_trial()\n",
                "user_choice = users_choice()\n",
                "\n",
                "\n",
                "print(\"Your choice:\", user_choice)\n",
                "print(\"I will choose:\", comp_choice)\n",
                "\n",
                "result = rule(user_choice, comp_choice)\n",
                "print(result)"
            ]
        },
        {
            "cell_type": "markdown",
            "metadata": {},
            "source": [
                "## Adding a Reward System  [^](#index)\n",
                "<a id='reward-system'></a>\n",
                "\n",
                "The idea of reinforcement learning is about letting the machine know what outcomes is the outcome that we want to see. To do this we can set up a reward system:\n",
                "\n",
                "Here I want the player to win the game and I will let the code know this by adding in a reward system. In this section we are implementing a reward system and the machine will append these values to be assessed.\n",
                "\n",
                "The game is still being played randomly. How should we then use the statistics to train the model to play the way we want. In this case, play to let the player win."
            ]
        },
        {
            "cell_type": "code",
            "execution_count": 2,
            "metadata": {},
            "outputs": [],
            "source": [
                "import random\n",
                "import numpy as np\n",
                "\n",
                "\n",
                "def users_choice():\n",
                "\n",
                "    print(\"Let's play rock, paper, scissors\")\n",
                "    while True:\n",
                "        choice = input(\"Enter your choice (rock, paper, or scissors): \")\n",
                "        if choice in [\"rock\", \"paper\", \"scissors\"]:\n",
                "            return choice\n",
                "        else:\n",
                "            print(\"Invalid choice. Try again.\")\n",
                "\n",
                "\n",
                "def comp_trial():\n",
                "    options = [\"rock\", \"paper\", \"scissors\"]\n",
                "    choice = random.choice(options)\n",
                "    return choice\n",
                "\n",
                "\n",
                "def get_reward(user_choice, comp_choice):\n",
                "    if user_choice == comp_choice:\n",
                "        return 0  # Draw\n",
                "    elif (\n",
                "        (user_choice == \"rock\" and comp_choice == \"scissors\")\n",
                "        or (user_choice == \"scissors\" and comp_choice == \"paper\")\n",
                "        or (user_choice == \"paper\" and comp_choice == \"rock\")\n",
                "    ):\n",
                "        return 1  # Win\n",
                "    else:\n",
                "        return -1  # Lose\n",
                "\n",
                "\n",
                "def play_game():\n",
                "    user_choice = users_choice()\n",
                "    comp_choice = comp_trial()\n",
                "\n",
                "    print(\"Your choice:\", user_choice)\n",
                "    print(\"I will choose:\", comp_choice)\n",
                "\n",
                "    reward = get_reward(user_choice, comp_choice)\n",
                "    return reward\n",
                "\n",
                "\n",
                "num_episodes = 15\n",
                "total_reward = 0\n",
                "\n",
                "for episode in range(num_episodes):\n",
                "    reward = play_game()\n",
                "    total_reward += reward\n",
                "\n",
                "# visualise reward, so far we are not using the reward yet\n",
                "average_reward = total_reward / num_episodes\n",
                "print(\"Average Reward over {} episodes: {}\".format(num_episodes, average_reward))"
            ]
        },
        {
            "cell_type": "markdown",
            "metadata": {},
            "source": [
                "# Reinforcement Learning in Action <a id='RL'></a>[^](#index)\n",
                "\n",
                "\n",
                "\n",
                "Let's discuss the concept of reinforcement learning further using this game.\n",
                "\n",
                "In this game, the game can be considered as the **environment**. The hand you choose to play: `input(\"Enter your choice (rock, paper, or scissors): \")` is the **state**.\n",
                "\n",
                "The computer who plays against you the player is the **agent** and the **state** represents the current situation or configuration of the **environment** that the **agent** observes. In the case of the rock-paper-scissors game, the state is not just the hand you choose to play `[\"rock, \"paper, \"scissors\"]`, but it also includes the computer's hand, as it influences the outcome of the game. So, the **state** is a combination of both your hand and the opponent's hand.\n",
                "\n",
                "After this transition, the **agent** receives a penalty or reward - with winning bringing a `+1` reward, losing bringing a `-1` penalty and drawing being a neutral action.\n",
                "\n",
                "The **policy** is then the strategy of choosing an action that gives better outcomes considering the reward system. It's a mapping from states to actions, indicating what action the agent should take in a given state. The policy can be deterministic, meaning it always chooses the same action in a specific state, or it can be stochastic, where it selects actions probabilistically. \n",
                "\n",
                "How willing the code is to selecting actions randomly/exploring different routes, would be determined by **Epsilon-Greedy exploration** - a technique used to balance exploration and exploitation during the agent's learning process. The agent uses an exploration rate (`epsilon`) to decide whether to explore a new action randomly or exploit the current best action according to the Q-values.\n",
                "\n",
                "<img src=\"https://www.learndatasci.com/documents/14/Reinforcement-Learning-Animation.gif\" alt=\"Reinforcement Learning Animation\">\n"
            ]
        },
        {
            "cell_type": "markdown",
            "metadata": {},
            "source": [
                "# Q-Learning [^](#index)\n",
                "<a id='QL'></a>\n"
            ]
        },
        {
            "cell_type": "markdown",
            "metadata": {},
            "source": [
                "\n",
                "Here, we implement Q-learning to enable the **agent (player)** to learn the best actions to take in different states. The agent uses the environment's rewards to update the Q-values over time.\n",
                "\n",
                "The Q-table is a dictionary that maps a `(state, action)` combination to the corresponding Q-value. Each Q-value represents the \"quality\" of the action taken from a specific state. Higher Q-values imply better chances of obtaining greater rewards from that action.\n",
                "\n",
                "For example, the Q-table will have entries like, with the reward system implemented:\n",
                "\n",
                "<center>\n",
                "\n",
                "|          State         |  Action  |  Q-Value  |\n",
                "|------------------------|----------|----------|\n",
                "|    Rock, Opponent=Rock  |  Rock    |   0.0    |\n",
                "|    Rock, Opponent=Rock  |  Paper   |  -1.0    |\n",
                "|    Rock, Opponent=Rock  | Scissors |   1.0    |\n",
                "|    Rock, Opponent=Paper |  Rock    |   1.0    |\n",
                "|    Rock, Opponent=Paper |  Paper   |   0.0    |\n",
                "|    Rock, Opponent=Paper | Scissors |  -1.0    |\n",
                "| Rock, Opponent=Scissors |  Rock    |  -1.0    |\n",
                "| Rock, Opponent=Scissors |  Paper   |   1.0    |\n",
                "| Rock, Opponent=Scissors | Scissors |   0.0    |\n",
                "|           ...          |   ...    |   ...    |\n",
                "\n",
                "</center>\n",
                "\n",
                "\n",
                "In this table, the rows represent different states (e.g., \"Rock, Opponent=Rock\" indicating that the agent chose Rock, and the opponent also chose Rock), the columns represent the available actions (Rock, Paper, Scissors), and the values represent the corresponding Q-values.\n",
                "\n",
                "As the agent explores and interacts with the environment, it updates the Q-values based on the rewards obtained, and future actions are influenced by these Q-values, guiding the agent towards making better decisions in the game.\n"
            ]
        },
        {
            "cell_type": "markdown",
            "metadata": {},
            "source": [
                "## Q-values are updated using the following equation: <a id='QV'></a>[^](#index)\n",
                "\n",
                "\n",
                "$$\n",
                "Q(s, a) = Q(s, a) + α * [R(s, a) + γ * max(Q(s', a')) - Q(s, a)]\n",
                "$$\n",
                "\n",
                "- `Q(s, a)` is the Q-value of the (state, action) pair.\n",
                "α (alpha) is the learning rate, controlling the impact of new information on the Q-value updates ($0≤α≤1$).\n",
                "- `R(s, a)` is the immediate reward obtained when taking action a in state s.\n",
                "- `γ (gamma)` is the discount factor, determining the importance of future rewards ($0≤γ≤1$).\n",
                "- `max(Q(s', a'))` is the maximum Q-value among all possible actions `a'` in the next state `s'`.\n",
                "- `s'` is the next state after taking action a in state `s`.\n",
                "\n",
                "This Q-value update equation is fundamental to the Q-learning algorithm, allowing the agent to iteratively adjust its Q-values based on the rewards received and the expected maximum future reward from the next state. As the agent explores and interacts with the environment, the Q-values converge to optimal values, guiding the agent towards making better decisions and maximizing cumulative rewards. The learning rate `(α)` and discount factor `(γ)` are hyper-parameters that can be tuned to control the learning process in different environments."
            ]
        },
        {
            "cell_type": "markdown",
            "metadata": {},
            "source": [
                "## Introduction to Dictionaries in Python <a id='Dic'></a>[^](#index)\n",
                "\n",
                "\n",
                "In Python, a dictionary is a powerful and flexible data structure that allows you to store key-value pairs. It is denoted by curly braces `{}` and consists of keys separated from their corresponding values by a colon `:`. Each key-value pair represents an item in the dictionary. Dictionaries are particularly useful when dealing with data that requires fast and efficient lookup based on unique keys.\n",
                "\n",
                "## Q-Table for the Rock-Paper-Scissors Game\n",
                "\n",
                "In Python dictionaries, including the Q-table, there is no inherent order to the keys. Dictionaries are implemented as hash tables, which are data structures optimised for fast lookup based on keys rather than maintaining a specific order.\n",
                "\n",
                "In the context of the Rock-Paper-Scissors game, we use a dictionary to represent the Q-table. The Q-table maps each `(state, action)` combination to its corresponding Q-value. Here's how we can create the Q-table using a dictionary:\n",
                "\n",
                "```python\n",
                "q_table = {\n",
                "    (state, action): q_value\n",
                "}\n",
                "```\n",
                "\n",
                "We can create the the Q_table into a class\n"
            ]
        },
        {
            "cell_type": "markdown",
            "metadata": {},
            "source": [
                "## Rock, Paper and Scissors<a id='game'></a> [^](#index)\n"
            ]
        },
        {
            "cell_type": "code",
            "execution_count": 17,
            "metadata": {},
            "outputs": [],
            "source": [
                "import random\n",
                "import numpy as np\n",
                "import matplotlib.pyplot as plt\n",
                "import pandas as pd"
            ]
        },
        {
            "cell_type": "code",
            "execution_count": 18,
            "metadata": {},
            "outputs": [],
            "source": [
                "class QTable:\n",
                "    def __init__(self, states, actions):\n",
                "        '''\n",
                "        This initialises the q_table as a 3*3 with all the states and actions\n",
                "        A Q-table is created as a dictionary with the key being the state and action and the value being the q_value\n",
                "        '''\n",
                "        self.states = states\n",
                "        self.actions = actions\n",
                "        self.q_table = {\n",
                "            (state, action): 0 for state in self.states for action in self.actions\n",
                "        }\n",
                "\n",
                "    def get_q_value(self, state, action):\n",
                "        '''\n",
                "        The `get_q_value` method is a function that takes in a state and an action as parameters and returns the \n",
                "        corresponding q-value from the q_table. If the q-value does not exist in the q_table, it returns 0 as a \n",
                "        default value.\n",
                "        '''\n",
                "        return self.q_table.get((state, action), 0)\n",
                "\n",
                "\n",
                "    def update_qvalue(self, state, action, reward, alpha, gamma):\n",
                "        '''\n",
                "        The `update_qvalue` method in the `QTable` class is used to update the Q-value in the Q-table based on the\n",
                "        given state, action, reward, learning rate (alpha), and discount factor (gamma).\n",
                "        '''\n",
                "        old_q_value = self.get_q_value(state, action) # access the old q_value\n",
                "        next_max = max(\n",
                "            [self.get_q_value(state, next_action) for next_action in self.actions]\n",
                "        ) # find the next max q_value - method to find the most optimal action\n",
                "        new_q_value = (1 - alpha) * old_q_value + alpha * (reward + gamma * next_max) # q-table update equation\n",
                "        self.q_table[(state, action)] = new_q_value\n",
                "\n",
                "\n",
                "states = [\"rock\", \"paper\", \"scissors\"]\n",
                "actions = [\"rock\", \"paper\", \"scissors\"]\n",
                "q_table = QTable(states, actions)\n",
                "num_episodes = int(1000) # loop the game 1000 times"
            ]
        },
        {
            "cell_type": "markdown",
            "metadata": {},
            "source": [
                "The user function plays the hand randomly, so we can train the computer to play for a large number episode."
            ]
        },
        {
            "cell_type": "code",
            "execution_count": 25,
            "metadata": {},
            "outputs": [],
            "source": [
                "def user_choice():\n",
                "    choice = random.choice(states)\n",
                "    return choice\n"
            ]
        },
        {
            "cell_type": "markdown",
            "metadata": {},
            "source": [
                "Here we introduce epsilon, and the epsilon greedy value.\n",
                "\n",
                "In the `comp_choice()` function, we access the hyperparameter `epsilon`. The first if statement generates a random number between 0 and 1, and if the value generated is below the epsilon value, we prompt the computer to make a random move so the q_table's q_value can explored further. Else, if the randomly generated number is greater than epsilon, the computer uses its learning outcome from the q_table and play the best possible hand."
            ]
        },
        {
            "cell_type": "code",
            "execution_count": 26,
            "metadata": {},
            "outputs": [],
            "source": [
                "def comp_choice(state, epsilon):\n",
                "    '''\n",
                "    This code is implementing the epsilon-greedy strategy for selecting an action.\n",
                "    '''\n",
                "    if random.uniform(0, 1) < epsilon:\n",
                "        action = random.choice(actions)\n",
                "    else:\n",
                "        q_values = [q_table.get_q_value(state, action) for action in actions]\n",
                "        action = actions[np.argmax(q_values)]\n",
                "    return action\n",
                "\n",
                "\n",
                "def get_state(user_choice, comp_choice):\n",
                "    return (user_choice, comp_choice)"
            ]
        },
        {
            "cell_type": "markdown",
            "metadata": {},
            "source": [
                "## Document Reward System\n",
                "\n",
                "Here, a dictionary is used to document successes and failures. "
            ]
        },
        {
            "cell_type": "code",
            "execution_count": 27,
            "metadata": {},
            "outputs": [],
            "source": [
                "results_dict = {\n",
                "    (\"rock\", \"rock\"): 0.0,\n",
                "    (\"rock\", \"paper\"): -1.0,\n",
                "    (\"rock\", \"scissors\"): 1.0,\n",
                "    (\"paper\", \"rock\"): 1.0,\n",
                "    (\"paper\", \"paper\"): 0.0,\n",
                "    (\"paper\", \"scissors\"): -1.0,\n",
                "    (\"scissors\", \"rock\"): -1.0,\n",
                "    (\"scissors\", \"paper\"): 1.0,\n",
                "    (\"scissors\", \"scissors\"): 0.0,\n",
                "}\n",
                "\n",
                "document_result = []\n",
                "\n",
                "\n",
                "def reward(user_choice, comp_choice):\n",
                "    result = results_dict[(user_choice, comp_choice)]\n",
                "    document_result.append(result)\n",
                "    return result"
            ]
        },
        {
            "cell_type": "markdown",
            "metadata": {},
            "source": [
                "Finally, we loop the game for the num_episodes to train the computer to let the player win the game."
            ]
        },
        {
            "cell_type": "code",
            "execution_count": 28,
            "metadata": {},
            "outputs": [],
            "source": [
                "list_of_user_input = []\n",
                "list_of_comp_input = []\n",
                "contin_reward = []\n",
                "\n",
                "\n",
                "def game_loop(alpha, gamma, epsilon, num_episodes):\n",
                "    total_reward = 0\n",
                "    for episode in range(num_episodes):\n",
                "        # Decay the hyperparameter(s)\n",
                "        epsilon *= np.exp(-e_decay_rate * episode)\n",
                "\n",
                "        state = user_choice()\n",
                "        action = comp_choice(state, epsilon)\n",
                "\n",
                "        # visualising results\n",
                "        list_of_user_input.append(state)\n",
                "        list_of_comp_input.append(action)\n",
                "        reward_val = reward(state, action)\n",
                "        total_reward += reward_val\n",
                "        contin_reward.append(total_reward)\n",
                "\n",
                "        q_table.update_qvalue(state, action, reward_val, alpha, gamma)\n",
                "    return contin_reward"
            ]
        },
        {
            "cell_type": "markdown",
            "metadata": {},
            "source": [
                "## Hyper-parameters\n",
                "\n",
                "Q_table usually takes 3 hyper-parameters: `alpha`, `gamma` and `epsilon`, as explained above. \n",
                "\n",
                "A decay factor is a simple way to change the hyperparameter according to the progress of learning. Here we start by making half of the computer's decisions random, by setting `epsilon = 0.5`, then by making the `epsilon` value decay to approach 0, the computer can minimise random decisions makings as the q_table updates.\n",
                "\n",
                "As the `e_decay_rate` decreases exponentially it can also be considered as a hyper-parameter (it's not a constant).\n"
            ]
        },
        {
            "cell_type": "code",
            "execution_count": 29,
            "metadata": {},
            "outputs": [],
            "source": [
                "alpha = 0.3  # learning rate\n",
                "gamma = 0.9  # discount factor\n",
                "epsilon = 0.5  # exploration rate\n",
                "\n",
                "e_decay_rate = 1 / num_episodes\n"
            ]
        },
        {
            "cell_type": "markdown",
            "metadata": {},
            "source": [
                "## Visualising Result\n",
                "\n",
                "Plotting diagrams and displaying tables can aid your understanding on how your code is performing."
            ]
        },
        {
            "cell_type": "code",
            "execution_count": 30,
            "metadata": {},
            "outputs": [
                {
                    "data": {
                        "image/png": "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",
                        "text/plain": [
                            "<Figure size 432x288 with 1 Axes>"
                        ]
                    },
                    "metadata": {
                        "needs_background": "light"
                    },
                    "output_type": "display_data"
                },
                {
                    "name": "stdout",
                    "output_type": "stream",
                    "text": [
                        "    Player's Choices Computer's Choices  Result\n",
                        "990            paper               rock     1.0\n",
                        "991            paper               rock     1.0\n",
                        "992             rock           scissors     1.0\n",
                        "993         scissors              paper     1.0\n",
                        "994             rock           scissors     1.0\n",
                        "995             rock           scissors     1.0\n",
                        "996             rock           scissors     1.0\n",
                        "997            paper               rock     1.0\n",
                        "998         scissors              paper     1.0\n",
                        "999            paper               rock     1.0\n"
                    ]
                }
            ],
            "source": [
                "game_loop(alpha, gamma, epsilon, num_episodes)\n",
                "\n",
                "# The code snippet is creating a plot to visualize the build-up of the reward score over the iterations of the game.\n",
                "x_var = np.linspace(0, num_episodes, num_episodes)\n",
                "plt.plot(x_var, contin_reward)\n",
                "plt.title(\"Reward Score Build-Up\")\n",
                "plt.xlabel(\"Number of Iterations\")\n",
                "plt.ylabel(\"Reward\")\n",
                "plt.show()\n",
                "\n",
                "record = pd.DataFrame(\n",
                "    {\n",
                "        \"Player's Choices\": list_of_user_input,\n",
                "        \"Computer's Choices\": list_of_comp_input,\n",
                "        \"Result\": document_result,\n",
                "    }\n",
                ")\n",
                "slice_result = record.iloc[-10:, :]\n",
                "print(slice_result) # print the last 10 results of the game\n"
            ]
        },
        {
            "cell_type": "markdown",
            "metadata": {},
            "source": [
                "<div style=\"background-color: #FFF8C6\">\n",
                "\n",
                "## Exercise: Tweak the Hyper-parameters and Decay_Rate\n",
                "\n"
            ]
        },
        {
            "cell_type": "markdown",
            "metadata": {},
            "source": [
                "<div style=\"background-color: #FFF8C6\">\n",
                "\n",
                "## Write Your Own Game:\n",
                "\n",
                "In real life scenarios, the reward system isn't always as obvious as a game of Rock, Paper and Scissors. Then you may need to put more considerations on how to implement the learning system.\n",
                "\n",
                "We can try to consider the code structure for a game of noughts and crosses, where the outcome of the game isn't instantly obvious.\n",
                "\n",
                "Try to keep the code as general as possible so it can easily be altered to accommodate for any scenario.\n",
                "\n",
                "<center>\n",
                "\n",
                "1|2|3\n",
                "---|---|---\n",
                "4|5|6\n",
                "7|8|9\n",
                "\n",
                "If I play in the top left corner, where can the computer go?\n",
                "\n",
                "X|2|3\n",
                "---|---|---\n",
                "4|5|6\n",
                "7|8|9\n",
                "\n",
                "The computer then can choose options = [2,3,4,5,6,7,9]\n",
                "</center>\n",
                "\n",
                "This is a suggestion, think about the most general way to achieve this, and consider the symmetry of the game."
            ]
        },
        {
            "cell_type": "code",
            "execution_count": null,
            "metadata": {},
            "outputs": [],
            "source": [
                "# How would you initialise the Q-table for a 3x3 grid \"Noughts and Crosses\"?\n",
                "class QTable:\n",
                "    def __init__(self, states, actions):\n",
                "        self.states = states\n",
                "        self.actions = actions\n",
                "        self.q_table = {\n",
                "            (state, action): 0 for state in self.states for action in self.actions\n",
                "        }\n",
                "\n",
                "    def get_q_value(self, state, action):\n",
                "        return self.q_table.get((state, action), 0)\n",
                "\n",
                "    def update_qvalue(self, state, action, reward, alpha, gamma):\n",
                "        ### START CODE HERE ###\n",
                "        # Access the old q_value\n",
                "        # Find the next max q_value\n",
                "        # Update the q_value"
            ]
        },
        {
            "cell_type": "code",
            "execution_count": 1,
            "metadata": {},
            "outputs": [
                {
                    "ename": "IndentationError",
                    "evalue": "expected an indented block (2006045135.py, line 28)",
                    "output_type": "error",
                    "traceback": [
                        "\u001b[0;36m  Input \u001b[0;32mIn [1]\u001b[0;36m\u001b[0m\n\u001b[0;31m    # if no one lines are made, return 0\u001b[0m\n\u001b[0m                                        ^\u001b[0m\n\u001b[0;31mIndentationError\u001b[0m\u001b[0;31m:\u001b[0m expected an indented block\n"
                    ]
                }
            ],
            "source": [
                "# suggestion for the structure of the game\n",
                "\n",
                "def user_choice():\n",
                "    # Ask the user where they want to play\n",
                "    return state\n",
                "\n",
                "\n",
                "def comp_choice(state, epsilon):\n",
                "    # Implement the epsilon-greedy strategy for selecting an action\n",
                "    return action\n",
                "\n",
                "\n",
                "def get_state(user_choice, comp_choice):\n",
                "    return (user_choice, comp_choice)\n",
                "\n",
                "\n",
                "def steps(action, state):\n",
                "    state = user_choice()\n",
                "    action = comp_choice(state, epsilon)\n",
                "    # What are the possible steps from the current state\n",
                "    # e.g. if I play in the top left corner, what are the possible next moves?\n",
                "    return status\n",
                "\n",
                "\n",
                "def result(action, state, status):\n",
                "    # Check if the action is a winning move\n",
                "    # if user/comp wins makes a line across the grid, return 1\n",
                "    # if no one lines are made, return 0"
            ]
        },
        {
            "cell_type": "code",
            "execution_count": null,
            "metadata": {},
            "outputs": [],
            "source": [
                "alpha = ##\n",
                "gamma = ##\n",
                "epsilon = ##\n",
                "num_episodes = ##\n",
                "\n",
                "def game_loop(state, action, alpha, gamma, epsilon, num_episodes):\n",
                "    # Loop through the game\n",
                "    # Decay the hyperparameter(s)\n",
                "    # Update the q_table\n",
                "    return results"
            ]
        }
    ],
    "metadata": {
        "kernelspec": {
            "display_name": "Python 3.9.12 ('base')",
            "language": "python",
            "name": "python3"
        },
        "language_info": {
            "codemirror_mode": {
                "name": "ipython",
                "version": 3
            },
            "file_extension": ".py",
            "mimetype": "text/x-python",
            "name": "python",
            "nbconvert_exporter": "python",
            "pygments_lexer": "ipython3",
            "version": "3.9.12"
        },
        "orig_nbformat": 4,
        "vscode": {
            "interpreter": {
                "hash": "9df1b77b0caf646f19509570eac5ef5a3592ebd6cb99175979cb74b7b24a8bf8"
            }
        }
    },
    {
     "ename": "KeyboardInterrupt",
     "evalue": "Interrupted by user",
     "output_type": "error",
     "traceback": [
      "\u001b[0;31m---------------------------------------------------------------------------\u001b[0m",
      "\u001b[0;31mKeyboardInterrupt\u001b[0m                         Traceback (most recent call last)",
      "Cell \u001b[0;32mIn[2], line 50\u001b[0m\n\u001b[1;32m     47\u001b[0m total_reward \u001b[38;5;241m=\u001b[39m \u001b[38;5;241m0\u001b[39m\n\u001b[1;32m     49\u001b[0m \u001b[38;5;28;01mfor\u001b[39;00m episode \u001b[38;5;129;01min\u001b[39;00m \u001b[38;5;28mrange\u001b[39m(num_episodes):\n\u001b[0;32m---> 50\u001b[0m     reward \u001b[38;5;241m=\u001b[39m \u001b[43mplay_game\u001b[49m\u001b[43m(\u001b[49m\u001b[43m)\u001b[49m\n\u001b[1;32m     51\u001b[0m     total_reward \u001b[38;5;241m+\u001b[39m\u001b[38;5;241m=\u001b[39m reward\n\u001b[1;32m     53\u001b[0m \u001b[38;5;66;03m# visualise reward, so far we are not using the reward yet\u001b[39;00m\n",
      "Cell \u001b[0;32mIn[2], line 36\u001b[0m, in \u001b[0;36mplay_game\u001b[0;34m()\u001b[0m\n\u001b[1;32m     35\u001b[0m \u001b[38;5;28;01mdef\u001b[39;00m \u001b[38;5;21mplay_game\u001b[39m():\n\u001b[0;32m---> 36\u001b[0m     user_choice \u001b[38;5;241m=\u001b[39m \u001b[43musers_choice\u001b[49m\u001b[43m(\u001b[49m\u001b[43m)\u001b[49m\n\u001b[1;32m     37\u001b[0m     comp_choice \u001b[38;5;241m=\u001b[39m comp_trial()\n\u001b[1;32m     39\u001b[0m     \u001b[38;5;28mprint\u001b[39m(\u001b[38;5;124m\"\u001b[39m\u001b[38;5;124mYour choice:\u001b[39m\u001b[38;5;124m\"\u001b[39m, user_choice)\n",
      "Cell \u001b[0;32mIn[2], line 9\u001b[0m, in \u001b[0;36musers_choice\u001b[0;34m()\u001b[0m\n\u001b[1;32m      7\u001b[0m \u001b[38;5;28mprint\u001b[39m(\u001b[38;5;124m\"\u001b[39m\u001b[38;5;124mLet\u001b[39m\u001b[38;5;124m'\u001b[39m\u001b[38;5;124ms play rock, paper, scissors\u001b[39m\u001b[38;5;124m\"\u001b[39m)\n\u001b[1;32m      8\u001b[0m \u001b[38;5;28;01mwhile\u001b[39;00m \u001b[38;5;28;01mTrue\u001b[39;00m:\n\u001b[0;32m----> 9\u001b[0m     choice \u001b[38;5;241m=\u001b[39m \u001b[38;5;28;43minput\u001b[39;49m\u001b[43m(\u001b[49m\u001b[38;5;124;43m\"\u001b[39;49m\u001b[38;5;124;43mEnter your choice (rock, paper, or scissors): \u001b[39;49m\u001b[38;5;124;43m\"\u001b[39;49m\u001b[43m)\u001b[49m\n\u001b[1;32m     10\u001b[0m     \u001b[38;5;28;01mif\u001b[39;00m choice \u001b[38;5;129;01min\u001b[39;00m [\u001b[38;5;124m\"\u001b[39m\u001b[38;5;124mrock\u001b[39m\u001b[38;5;124m\"\u001b[39m, \u001b[38;5;124m\"\u001b[39m\u001b[38;5;124mpaper\u001b[39m\u001b[38;5;124m\"\u001b[39m, \u001b[38;5;124m\"\u001b[39m\u001b[38;5;124mscissors\u001b[39m\u001b[38;5;124m\"\u001b[39m]:\n\u001b[1;32m     11\u001b[0m         \u001b[38;5;28;01mreturn\u001b[39;00m choice\n",
      "File \u001b[0;32m~/opt/anaconda3/envs/ML_env/lib/python3.9/site-packages/ipykernel/kernelbase.py:1202\u001b[0m, in \u001b[0;36mKernel.raw_input\u001b[0;34m(self, prompt)\u001b[0m\n\u001b[1;32m   1200\u001b[0m     msg \u001b[38;5;241m=\u001b[39m \u001b[38;5;124m\"\u001b[39m\u001b[38;5;124mraw_input was called, but this frontend does not support input requests.\u001b[39m\u001b[38;5;124m\"\u001b[39m\n\u001b[1;32m   1201\u001b[0m     \u001b[38;5;28;01mraise\u001b[39;00m StdinNotImplementedError(msg)\n\u001b[0;32m-> 1202\u001b[0m \u001b[38;5;28;01mreturn\u001b[39;00m \u001b[38;5;28;43mself\u001b[39;49m\u001b[38;5;241;43m.\u001b[39;49m\u001b[43m_input_request\u001b[49m\u001b[43m(\u001b[49m\n\u001b[1;32m   1203\u001b[0m \u001b[43m    \u001b[49m\u001b[38;5;28;43mstr\u001b[39;49m\u001b[43m(\u001b[49m\u001b[43mprompt\u001b[49m\u001b[43m)\u001b[49m\u001b[43m,\u001b[49m\n\u001b[1;32m   1204\u001b[0m \u001b[43m    \u001b[49m\u001b[38;5;28;43mself\u001b[39;49m\u001b[38;5;241;43m.\u001b[39;49m\u001b[43m_parent_ident\u001b[49m\u001b[43m[\u001b[49m\u001b[38;5;124;43m\"\u001b[39;49m\u001b[38;5;124;43mshell\u001b[39;49m\u001b[38;5;124;43m\"\u001b[39;49m\u001b[43m]\u001b[49m\u001b[43m,\u001b[49m\n\u001b[1;32m   1205\u001b[0m \u001b[43m    \u001b[49m\u001b[38;5;28;43mself\u001b[39;49m\u001b[38;5;241;43m.\u001b[39;49m\u001b[43mget_parent\u001b[49m\u001b[43m(\u001b[49m\u001b[38;5;124;43m\"\u001b[39;49m\u001b[38;5;124;43mshell\u001b[39;49m\u001b[38;5;124;43m\"\u001b[39;49m\u001b[43m)\u001b[49m\u001b[43m,\u001b[49m\n\u001b[1;32m   1206\u001b[0m \u001b[43m    \u001b[49m\u001b[43mpassword\u001b[49m\u001b[38;5;241;43m=\u001b[39;49m\u001b[38;5;28;43;01mFalse\u001b[39;49;00m\u001b[43m,\u001b[49m\n\u001b[1;32m   1207\u001b[0m \u001b[43m\u001b[49m\u001b[43m)\u001b[49m\n",
      "File \u001b[0;32m~/opt/anaconda3/envs/ML_env/lib/python3.9/site-packages/ipykernel/kernelbase.py:1245\u001b[0m, in \u001b[0;36mKernel._input_request\u001b[0;34m(self, prompt, ident, parent, password)\u001b[0m\n\u001b[1;32m   1242\u001b[0m \u001b[38;5;28;01mexcept\u001b[39;00m \u001b[38;5;167;01mKeyboardInterrupt\u001b[39;00m:\n\u001b[1;32m   1243\u001b[0m     \u001b[38;5;66;03m# re-raise KeyboardInterrupt, to truncate traceback\u001b[39;00m\n\u001b[1;32m   1244\u001b[0m     msg \u001b[38;5;241m=\u001b[39m \u001b[38;5;124m\"\u001b[39m\u001b[38;5;124mInterrupted by user\u001b[39m\u001b[38;5;124m\"\u001b[39m\n\u001b[0;32m-> 1245\u001b[0m     \u001b[38;5;28;01mraise\u001b[39;00m \u001b[38;5;167;01mKeyboardInterrupt\u001b[39;00m(msg) \u001b[38;5;28;01mfrom\u001b[39;00m \u001b[38;5;28mNone\u001b[39m\n\u001b[1;32m   1246\u001b[0m \u001b[38;5;28;01mexcept\u001b[39;00m \u001b[38;5;167;01mException\u001b[39;00m:\n\u001b[1;32m   1247\u001b[0m     \u001b[38;5;28mself\u001b[39m\u001b[38;5;241m.\u001b[39mlog\u001b[38;5;241m.\u001b[39mwarning(\u001b[38;5;124m\"\u001b[39m\u001b[38;5;124mInvalid Message:\u001b[39m\u001b[38;5;124m\"\u001b[39m, exc_info\u001b[38;5;241m=\u001b[39m\u001b[38;5;28;01mTrue\u001b[39;00m)\n",
      "\u001b[0;31mKeyboardInterrupt\u001b[0m: Interrupted by user"
     ]
    }
   ],
   "source": [
    "import random\n",
    "import numpy as np\n",
    "\n",
    "\n",
    "def users_choice():\n",
    "\n",
    "    print(\"Let's play rock, paper, scissors\")\n",
    "    while True:\n",
    "        choice = input(\"Enter your choice (rock, paper, or scissors): \")\n",
    "        if choice in [\"rock\", \"paper\", \"scissors\"]:\n",
    "            return choice\n",
    "        else:\n",
    "            print(\"Invalid choice. Try again.\")\n",
    "\n",
    "\n",
    "def comp_trial():\n",
    "    options = [\"rock\", \"paper\", \"scissors\"]\n",
    "    choice = random.choice(options)\n",
    "    return choice\n",
    "\n",
    "\n",
    "def get_reward(user_choice, comp_choice):\n",
    "    if user_choice == comp_choice:\n",
    "        return 0  # Draw\n",
    "    elif (\n",
    "        (user_choice == \"rock\" and comp_choice == \"scissors\")\n",
    "        or (user_choice == \"scissors\" and comp_choice == \"paper\")\n",
    "        or (user_choice == \"paper\" and comp_choice == \"rock\")\n",
    "    ):\n",
    "        return 1  # Win\n",
    "    else:\n",
    "        return -1  # Lose\n",
    "\n",
    "\n",
    "def play_game():\n",
    "    user_choice = users_choice()\n",
    "    comp_choice = comp_trial()\n",
    "\n",
    "    print(\"Your choice:\", user_choice)\n",
    "    print(\"I will choose:\", comp_choice)\n",
    "\n",
    "    reward = get_reward(user_choice, comp_choice)\n",
    "    return reward\n",
    "\n",
    "\n",
    "num_episodes = 15\n",
    "total_reward = 0\n",
    "\n",
    "for episode in range(num_episodes):\n",
    "    reward = play_game()\n",
    "    total_reward += reward\n",
    "\n",
    "# visualise reward, so far we are not using the reward yet\n",
    "average_reward = total_reward / num_episodes\n",
    "print(\"Average Reward over {} episodes: {}\".format(num_episodes, average_reward))"
   ]
  },
  {
   "cell_type": "markdown",
   "metadata": {},
   "source": [
    "# Reinforcement Learning in Action <a id='RL'></a>[^](#index)\n",
    "\n",
    "\n",
    "\n",
    "Let's discuss the concept of reinforcement learning further using this game.\n",
    "\n",
    "In this game, the game can be considered as the **environment**. The hand you choose to play: `input(\"Enter your choice (rock, paper, or scissors): \")` is the **state**.\n",
    "\n",
    "The computer who plays against you the player is the **agent** and the **state** represents the current situation or configuration of the **environment** that the **agent** observes. In the case of the rock-paper-scissors game, the state is not just the hand you choose to play `[\"rock, \"paper, \"scissors\"]`, but it also includes the computer's hand, as it influences the outcome of the game. So, the **state** is a combination of both your hand and the opponent's hand.\n",
    "\n",
    "After this transition, the **agent** receives a penalty or reward - with winning bringing a `+1` reward, losing bringing a `-1` penalty and drawing being a neutral action.\n",
    "\n",
    "The **policy** is then the strategy of choosing an action that gives better outcomes considering the reward system. It's a mapping from states to actions, indicating what action the agent should take in a given state. The policy can be deterministic, meaning it always chooses the same action in a specific state, or it can be stochastic, where it selects actions probabilistically. \n",
    "\n",
    "How willing the code is to selecting actions randomly/exploring different routes, would be determined by **Epsilon-Greedy exploration** - a technique used to balance exploration and exploitation during the agent's learning process. The agent uses an exploration rate (`epsilon`) to decide whether to explore a new action randomly or exploit the current best action according to the Q-values.\n",
    "\n",
    "<img src=\"https://www.learndatasci.com/documents/14/Reinforcement-Learning-Animation.gif\" alt=\"Reinforcement Learning Animation\">\n"
   ]
  },
  {
   "cell_type": "markdown",
   "metadata": {},
   "source": [
    "# Q-Learning [^](#index)\n",
    "<a id='QL'></a>\n"
   ]
  },
  {
   "cell_type": "markdown",
   "metadata": {},
   "source": [
    "\n",
    "Here, we implement Q-learning to enable the **agent (player)** to learn the best actions to take in different states. The agent uses the environment's rewards to update the Q-values over time.\n",
    "\n",
    "The Q-table is a dictionary that maps a `(state, action)` combination to the corresponding Q-value. Each Q-value represents the \"quality\" of the action taken from a specific state. Higher Q-values imply better chances of obtaining greater rewards from that action.\n",
    "\n",
    "For example, the Q-table will have entries like, with the reward system implemented:\n",
    "\n",
    "<center>\n",
    "\n",
    "|          State         |  Action  |  Q-Value  |\n",
    "|------------------------|----------|----------|\n",
    "|    Rock, Opponent=Rock  |  Rock    |   0.0    |\n",
    "|    Rock, Opponent=Rock  |  Paper   |  -1.0    |\n",
    "|    Rock, Opponent=Rock  | Scissors |   1.0    |\n",
    "|    Rock, Opponent=Paper |  Rock    |   1.0    |\n",
    "|    Rock, Opponent=Paper |  Paper   |   0.0    |\n",
    "|    Rock, Opponent=Paper | Scissors |  -1.0    |\n",
    "| Rock, Opponent=Scissors |  Rock    |  -1.0    |\n",
    "| Rock, Opponent=Scissors |  Paper   |   1.0    |\n",
    "| Rock, Opponent=Scissors | Scissors |   0.0    |\n",
    "|           ...          |   ...    |   ...    |\n",
    "\n",
    "</center>\n",
    "\n",
    "\n",
    "In this table, the rows represent different states (e.g., \"Rock, Opponent=Rock\" indicating that the agent chose Rock, and the opponent also chose Rock), the columns represent the available actions (Rock, Paper, Scissors), and the values represent the corresponding Q-values.\n",
    "\n",
    "As the agent explores and interacts with the environment, it updates the Q-values based on the rewards obtained, and future actions are influenced by these Q-values, guiding the agent towards making better decisions in the game.\n"
   ]
  },
  {
   "cell_type": "markdown",
   "metadata": {},
   "source": [
    "## Q-values are updated using the following equation: <a id='QV'></a>[^](#index)\n",
    "\n",
    "\n",
    "$$\n",
    "Q(s, a) = Q(s, a) + α * [R(s, a) + γ * max(Q(s', a')) - Q(s, a)]\n",
    "$$\n",
    "\n",
    "- `Q(s, a)` is the Q-value of the (state, action) pair.\n",
    "α (alpha) is the learning rate, controlling the impact of new information on the Q-value updates ($0≤α≤1$).\n",
    "- `R(s, a)` is the immediate reward obtained when taking action a in state s.\n",
    "- `γ (gamma)` is the discount factor, determining the importance of future rewards ($0≤γ≤1$).\n",
    "- `max(Q(s', a'))` is the maximum Q-value among all possible actions `a'` in the next state `s'`.\n",
    "- `s'` is the next state after taking action a in state `s`.\n",
    "\n",
    "This Q-value update equation is fundamental to the Q-learning algorithm, allowing the agent to iteratively adjust its Q-values based on the rewards received and the expected maximum future reward from the next state. As the agent explores and interacts with the environment, the Q-values converge to optimal values, guiding the agent towards making better decisions and maximizing cumulative rewards. The learning rate `(α)` and discount factor `(γ)` are hyper-parameters that can be tuned to control the learning process in different environments."
   ]
  },
  {
   "cell_type": "markdown",
   "metadata": {},
   "source": [
    "## Introduction to Dictionaries in Python <a id='Dic'></a>[^](#index)\n",
    "\n",
    "\n",
    "In Python, a dictionary is a powerful and flexible data structure that allows you to store key-value pairs. It is denoted by curly braces `{}` and consists of keys separated from their corresponding values by a colon `:`. Each key-value pair represents an item in the dictionary. Dictionaries are particularly useful when dealing with data that requires fast and efficient lookup based on unique keys.\n",
    "\n",
    "## Q-Table for the Rock-Paper-Scissors Game\n",
    "\n",
    "In Python dictionaries, including the Q-table, there is no inherent order to the keys. Dictionaries are implemented as hash tables, which are data structures optimised for fast lookup based on keys rather than maintaining a specific order.\n",
    "\n",
    "In the context of the Rock-Paper-Scissors game, we use a dictionary to represent the Q-table. The Q-table maps each `(state, action)` combination to its corresponding Q-value. Here's how we can create the Q-table using a dictionary:\n",
    "\n",
    "```python\n",
    "q_table = {\n",
    "    (state, action): q_value\n",
    "}\n",
    "```\n",
    "\n",
    "We can create the the Q_table into a class\n"
   ]
  },
  {
   "cell_type": "markdown",
   "metadata": {},
   "source": [
    "## Rock, Paper and Scissors<a id='game'></a> [^](#index)\n"
   ]
  },
  {
   "cell_type": "code",
   "execution_count": 3,
   "metadata": {},
   "outputs": [],
   "source": [
    "import random\n",
    "import numpy as np\n",
    "import matplotlib.pyplot as plt\n",
    "import pandas as pd"
   ]
  },
  {
   "cell_type": "code",
   "execution_count": 4,
   "metadata": {},
   "outputs": [],
   "source": [
    "class QTable:\n",
    "    def __init__(self, states, actions):\n",
    "        '''\n",
    "        This initialises the q_table as a 3*3 with all the states and actions\n",
    "        A Q-table is created as a dictionary with the key being the state and action and the value being the q_value\n",
    "        '''\n",
    "        self.states = states\n",
    "        self.actions = actions\n",
    "        self.q_table = {\n",
    "            (state, action): 0 for state in self.states for action in self.actions\n",
    "        }\n",
    "\n",
    "    def get_q_value(self, state, action):\n",
    "        '''\n",
    "        The `get_q_value` method is a function that takes in a state and an action as parameters and returns the \n",
    "        corresponding q-value from the q_table. If the q-value does not exist in the q_table, it returns 0 as a \n",
    "        default value.\n",
    "        '''\n",
    "        return self.q_table.get((state, action), 0)\n",
    "\n",
    "\n",
    "    def update_qvalue(self, state, action, reward, alpha, gamma):\n",
    "        '''\n",
    "        The `update_qvalue` method in the `QTable` class is used to update the Q-value in the Q-table based on the\n",
    "        given state, action, reward, learning rate (alpha), and discount factor (gamma).\n",
    "        '''\n",
    "        old_q_value = self.get_q_value(state, action) # access the old q_value\n",
    "        next_max = max(\n",
    "            [self.get_q_value(state, next_action) for next_action in self.actions]\n",
    "        ) # find the next max q_value - method to find the most optimal action\n",
    "        new_q_value = (1 - alpha) * old_q_value + alpha * (reward + gamma * next_max) # q-table update equation\n",
    "        self.q_table[(state, action)] = new_q_value\n",
    "\n",
    "\n",
    "states = [\"rock\", \"paper\", \"scissors\"]\n",
    "actions = [\"rock\", \"paper\", \"scissors\"]\n",
    "q_table = QTable(states, actions)\n",
    "num_episodes = int(1000) # loop the game 1000 times"
   ]
  },
  {
   "cell_type": "markdown",
   "metadata": {},
   "source": [
    "The user function plays the hand randomly, so we can train the computer to play for a large number episode."
   ]
  },
  {
   "cell_type": "code",
   "execution_count": 5,
   "metadata": {},
   "outputs": [],
   "source": [
    "def user_choice():\n",
    "    choice = random.choice(states)\n",
    "    return choice\n"
   ]
  },
  {
   "cell_type": "markdown",
   "metadata": {},
   "source": [
    "Here we introduce epsilon, and the epsilon greedy value.\n",
    "\n",
    "In the `comp_choice()` function, we access the hyperparameter `epsilon`. The first if statement generates a random number between 0 and 1, and if the value generated is below the epsilon value, we prompt the computer to make a random move so the q_table's q_value can explored further. Else, if the randomly generated number is greater than epsilon, the computer uses its learning outcome from the q_table and play the best possible hand."
   ]
  },
  {
   "cell_type": "code",
   "execution_count": 6,
   "metadata": {},
   "outputs": [],
   "source": [
    "def comp_choice(state, epsilon):\n",
    "    '''\n",
    "    This code is implementing the epsilon-greedy strategy for selecting an action.\n",
    "    '''\n",
    "    if random.uniform(0, 1) < epsilon:\n",
    "        action = random.choice(actions)\n",
    "    else:\n",
    "        q_values = [q_table.get_q_value(state, action) for action in actions]\n",
    "        action = actions[np.argmax(q_values)]\n",
    "    return action\n",
    "\n",
    "\n",
    "def get_state(user_choice, comp_choice):\n",
    "    return (user_choice, comp_choice)"
   ]
  },
  {
   "cell_type": "markdown",
   "metadata": {},
   "source": [
    "## Document Reward System\n",
    "\n",
    "Here, a dictionary is used to document successes and failures. "
   ]
  },
  {
   "cell_type": "code",
   "execution_count": 7,
   "metadata": {},
   "outputs": [],
   "source": [
    "results_dict = {\n",
    "    (\"rock\", \"rock\"): 0.0,\n",
    "    (\"rock\", \"paper\"): -1.0,\n",
    "    (\"rock\", \"scissors\"): 1.0,\n",
    "    (\"paper\", \"rock\"): 1.0,\n",
    "    (\"paper\", \"paper\"): 0.0,\n",
    "    (\"paper\", \"scissors\"): -1.0,\n",
    "    (\"scissors\", \"rock\"): -1.0,\n",
    "    (\"scissors\", \"paper\"): 1.0,\n",
    "    (\"scissors\", \"scissors\"): 0.0,\n",
    "}\n",
    "\n",
    "document_result = []\n",
    "\n",
    "\n",
    "def reward(user_choice, comp_choice):\n",
    "    result = results_dict[(user_choice, comp_choice)]\n",
    "    document_result.append(result)\n",
    "    return result"
   ]
  },
  {
   "cell_type": "markdown",
   "metadata": {},
   "source": [
    "Finally, we loop the game for the num_episodes to train the computer to let the player win the game."
   ]
  },
  {
   "cell_type": "code",
   "execution_count": 8,
   "metadata": {},
   "outputs": [],
   "source": [
    "list_of_user_input = []\n",
    "list_of_comp_input = []\n",
    "contin_reward = []\n",
    "\n",
    "\n",
    "def game_loop(alpha, gamma, epsilon, num_episodes):\n",
    "    total_reward = 0\n",
    "    for episode in range(num_episodes):\n",
    "        # Decay the hyperparameter(s)\n",
    "        epsilon *= np.exp(-e_decay_rate * episode)\n",
    "\n",
    "        state = user_choice()\n",
    "        action = comp_choice(state, epsilon)\n",
    "\n",
    "        # visualising results\n",
    "        list_of_user_input.append(state)\n",
    "        list_of_comp_input.append(action)\n",
    "        reward_val = reward(state, action)\n",
    "        total_reward += reward_val\n",
    "        contin_reward.append(total_reward)\n",
    "\n",
    "        q_table.update_qvalue(state, action, reward_val, alpha, gamma)\n",
    "    return contin_reward"
   ]
  },
  {
   "cell_type": "markdown",
   "metadata": {},
   "source": [
    "## Hyper-parameters\n",
    "\n",
    "Q_table usually takes 3 hyper-parameters: `alpha`, `gamma` and `epsilon`, as explained above. \n",
    "\n",
    "A decay factor is a simple way to change the hyperparameter according to the progress of learning. Here we start by making half of the computer's decisions random, by setting `epsilon = 0.5`, then by making the `epsilon` value decay to approach 0, the computer can minimise random decisions makings as the q_table updates.\n",
    "\n",
    "As the `e_decay_rate` decreases exponentially it can also be considered as a hyper-parameter (it's not a constant).\n"
   ]
  },
  {
   "cell_type": "code",
   "execution_count": 9,
   "metadata": {},
   "outputs": [],
   "source": [
    "alpha = 0.3  # learning rate\n",
    "gamma = 0.9  # discount factor\n",
    "epsilon = 0.5  # exploration rate\n",
    "\n",
    "e_decay_rate = 1 / num_episodes\n"
   ]
  },
  {
   "cell_type": "markdown",
   "metadata": {},
   "source": [
    "## Visualising Result\n",
    "\n",
    "Plotting diagrams and displaying tables can aid your understanding on how your code is performing."
   ]
  },
  {
   "cell_type": "code",
   "execution_count": 10,
   "metadata": {},
   "outputs": [
    {
     "data": {
      "image/png": "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",
      "text/plain": [
       "<Figure size 640x480 with 1 Axes>"
      ]
     },
     "metadata": {},
     "output_type": "display_data"
    },
    {
     "name": "stdout",
     "output_type": "stream",
     "text": [
      "    Player's Choices Computer's Choices  Result\n",
      "990             rock           scissors     1.0\n",
      "991             rock           scissors     1.0\n",
      "992             rock           scissors     1.0\n",
      "993         scissors              paper     1.0\n",
      "994            paper               rock     1.0\n",
      "995         scissors              paper     1.0\n",
      "996         scissors              paper     1.0\n",
      "997             rock           scissors     1.0\n",
      "998             rock           scissors     1.0\n",
      "999            paper               rock     1.0\n"
     ]
    }
   ],
   "source": [
    "game_loop(alpha, gamma, epsilon, num_episodes)\n",
    "\n",
    "# The code snippet is creating a plot to visualize the build-up of the reward score over the iterations of the game.\n",
    "x_var = np.linspace(0, num_episodes, num_episodes)\n",
    "plt.plot(x_var, contin_reward)\n",
    "plt.title(\"Reward Score Build-Up\")\n",
    "plt.xlabel(\"Number of Iterations\")\n",
    "plt.ylabel(\"Reward\")\n",
    "plt.show()\n",
    "\n",
    "record = pd.DataFrame(\n",
    "    {\n",
    "        \"Player's Choices\": list_of_user_input,\n",
    "        \"Computer's Choices\": list_of_comp_input,\n",
    "        \"Result\": document_result,\n",
    "    }\n",
    ")\n",
    "slice_result = record.iloc[-10:, :]\n",
    "print(slice_result) # print the last 10 results of the game\n"
   ]
  },
  {
   "cell_type": "markdown",
   "metadata": {},
   "source": [
    "<div style=\"background-color: #FFF8C6\">\n",
    "\n",
    "## Exercise: Tweak the Hyper-parameters and Decay_Rate\n",
    "\n"
   ]
  },
  {
   "cell_type": "markdown",
   "metadata": {},
   "source": [
    "<div style=\"background-color: #FFF8C6\">\n",
    "\n",
    "## Write Your Own Game:\n",
    "\n",
    "In real life scenarios, the reward system isn't always as obvious as a game of Rock, Paper and Scissors. Then you may need to put more considerations on how to implement the learning system.\n",
    "\n",
    "We can try to consider the code structure for a game of noughts and crosses, where the outcome of the game isn't instantly obvious.\n",
    "\n",
    "Try to keep the code as general as possible so it can easily be altered to accommodate for any scenario.\n",
    "\n",
    "<center>\n",
    "\n",
    "1|2|3\n",
    "---|---|---\n",
    "4|5|6\n",
    "7|8|9\n",
    "\n",
    "If I play in the top left corner, where can the computer go?\n",
    "\n",
    "X|2|3\n",
    "---|---|---\n",
    "4|5|6\n",
    "7|8|9\n",
    "\n",
    "The computer then can choose options = [2,3,4,5,6,7,9]\n",
    "</center>\n",
    "\n",
    "This is a suggestion, think about the most general way to achieve this, and consider the symmetry of the game."
   ]
  },
  {
   "cell_type": "code",
   "execution_count": 11,
   "metadata": {},
   "outputs": [
    {
     "ename": "IndentationError",
     "evalue": "expected an indented block (2739470377.py, line 17)",
     "output_type": "error",
     "traceback": [
      "\u001b[0;36m  Cell \u001b[0;32mIn[11], line 17\u001b[0;36m\u001b[0m\n\u001b[0;31m    # Update the q_value\u001b[0m\n\u001b[0m                        ^\u001b[0m\n\u001b[0;31mIndentationError\u001b[0m\u001b[0;31m:\u001b[0m expected an indented block\n"
     ]
    }
   ],
   "source": [
    "# How would you initialise the Q-table for a 3x3 grid \"Noughts and Crosses\"?\n",
    "class QTable:\n",
    "    def __init__(self, states, actions):\n",
    "        self.states = states\n",
    "        self.actions = actions\n",
    "        self.q_table = {\n",
    "            (state, action): 0 for state in self.states for action in self.actions\n",
    "        }\n",
    "\n",
    "    def get_q_value(self, state, action):\n",
    "        return self.q_table.get((state, action), 0)\n",
    "\n",
    "    def update_qvalue(self, state, action, reward, alpha, gamma):\n",
    "        ### START CODE HERE ###\n",
    "        # Access the old q_value\n",
    "        # Find the next max q_value\n",
    "        # Update the q_value"
   ]
  },
  {
   "cell_type": "code",
   "execution_count": 12,
   "metadata": {},
   "outputs": [
    {
     "ename": "IndentationError",
     "evalue": "expected an indented block (2006045135.py, line 28)",
     "output_type": "error",
     "traceback": [
      "\u001b[0;36m  Cell \u001b[0;32mIn[12], line 28\u001b[0;36m\u001b[0m\n\u001b[0;31m    # if no one lines are made, return 0\u001b[0m\n\u001b[0m                                        ^\u001b[0m\n\u001b[0;31mIndentationError\u001b[0m\u001b[0;31m:\u001b[0m expected an indented block\n"
     ]
    }
   ],
   "source": [
    "# suggestion for the structure of the game\n",
    "\n",
    "def user_choice():\n",
    "    # Ask the user where they want to play\n",
    "    return state\n",
    "\n",
    "\n",
    "def comp_choice(state, epsilon):\n",
    "    # Implement the epsilon-greedy strategy for selecting an action\n",
    "    return action\n",
    "\n",
    "\n",
    "def get_state(user_choice, comp_choice):\n",
    "    return (user_choice, comp_choice)\n",
    "\n",
    "\n",
    "def steps(action, state):\n",
    "    state = user_choice()\n",
    "    action = comp_choice(state, epsilon)\n",
    "    # What are the possible steps from the current state\n",
    "    # e.g. if I play in the top left corner, what are the possible next moves?\n",
    "    return status\n",
    "\n",
    "\n",
    "def result(action, state, status):\n",
    "    # Check if the action is a winning move\n",
    "    # if user/comp wins makes a line across the grid, return 1\n",
    "    # if no one lines are made, return 0"
   ]
  },
  {
   "cell_type": "code",
   "execution_count": null,
   "metadata": {},
   "outputs": [],
   "source": [
    "alpha = ##\n",
    "gamma = ##\n",
    "epsilon = ##\n",
    "num_episodes = ##\n",
    "\n",
    "def game_loop(state, action, alpha, gamma, epsilon, num_episodes):\n",
    "    # Loop through the game\n",
    "    # Decay the hyperparameter(s)\n",
    "    # Update the q_table\n",
    "    return results"
   ]
  }
 ],
 "metadata": {
  "kernelspec": {
   "display_name": "Python 3 (ipykernel)",
   "language": "python",
   "name": "python3"
  },
  "language_info": {
   "codemirror_mode": {
    "name": "ipython",
    "version": 3
   },
   "file_extension": ".py",
   "mimetype": "text/x-python",
   "name": "python",
   "nbconvert_exporter": "python",
   "pygments_lexer": "ipython3",
   "version": "3.9.17"
  },
  "vscode": {
   "interpreter": {
    "hash": "9df1b77b0caf646f19509570eac5ef5a3592ebd6cb99175979cb74b7b24a8bf8"
   }
  }
 },
 "nbformat": 4,
 "nbformat_minor": 2
}
