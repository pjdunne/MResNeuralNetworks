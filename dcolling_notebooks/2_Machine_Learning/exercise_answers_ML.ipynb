{
 "cells": [
  {
   "cell_type": "markdown",
   "id": "d5b1e56f",
   "metadata": {},
   "source": [
    "# Answers to Exercises - ML"
   ]
  },
  {
   "cell_type": "markdown",
   "id": "a44c897b",
   "metadata": {},
   "source": [
    "This notebook contains solutions to some exercises. Exploratory exercises, for example observing the effect of changing hyperparameters, will not have solutions included here."
   ]
  },
  {
   "cell_type": "markdown",
   "id": "55d9ba8c",
   "metadata": {},
   "source": [
    "<hr style=\"border:2px solid gray\">\n",
    "\n",
    "## Index: <a id='index'></a>\n",
    "\n",
    "[This must be reordered when we know the weeks]\n",
    "\n",
    "Week A - [Basics of Machine Learning Part 1](#ml1)\n",
    "1. Exercise [A.1.](#A1)\n"
   ]
  },
  {
   "cell_type": "markdown",
   "id": "5ac7cef1",
   "metadata": {},
   "source": [
    "## Week A - Basics of Machine Learning Part 1"
   ]
  },
  {
   "cell_type": "code",
   "execution_count": null,
   "id": "3c118988",
   "metadata": {},
   "outputs": [],
   "source": []
  }
 ],
 "metadata": {
  "kernelspec": {
   "display_name": "Python 3 (ipykernel)",
   "language": "python",
   "name": "python3"
  },
  "language_info": {
   "codemirror_mode": {
    "name": "ipython",
    "version": 3
   },
   "file_extension": ".py",
   "mimetype": "text/x-python",
   "name": "python",
   "nbconvert_exporter": "python",
   "pygments_lexer": "ipython3",
   "version": "3.9.12"
  }
 },
 "nbformat": 4,
 "nbformat_minor": 5
}
