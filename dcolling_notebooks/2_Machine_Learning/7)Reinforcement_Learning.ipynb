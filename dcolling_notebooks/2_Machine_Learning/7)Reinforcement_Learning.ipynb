{
 "cells": [
  {
   "cell_type": "markdown",
   "metadata": {},
   "source": [
    "# Reinforcement Learning \n",
    "\n",
    "Reinforcement Learning is the cutting-edge approach in artificial intelligence that empowers machines to learn by interacting with their environment. Just like a skillful player mastering a game, this innovative technique enables AI to make smart decisions and improve performance through trial and error. By rewarding positive outcomes and penalising mistakes, Reinforcement Learning paves the way for autonomous agents that learn to navigate complex challenges and conquer the unknown."
   ]
  },
  {
   "cell_type": "markdown",
   "metadata": {},
   "source": [
    "## Real life example:\n",
    "AlphaGo, the revolutionary AI developed by DeepMind, employs Reinforcement Learning as a crucial component of its strategy. Through a combination of supervised learning from human expert games and reinforcement learning by playing against itself, AlphaGo hones its skills and adapts its gameplay. This reinforcement learning process allows AlphaGo to refine its moves, prioritise winning strategies, and continuously evolve, eventually achieving superhuman proficiency in the intricate game of Go. The result is a monumental breakthrough in the world of AI and a testament to the power of Reinforcement Learning in conquering complex challenges. "
   ]
  },
  {
   "cell_type": "markdown",
   "metadata": {},
   "source": [
    "In this notebook we will go through a simple example of reinforcement learning.\n",
    "\n",
    "A game of rock paper scissors is designed, you may try to write your own example to implement a simple game.\n",
    "\n",
    "What we want is to let you the player choose an option and the computer to also do the same thing, then we decide if you or the player has won the game:"
   ]
  },
  {
   "cell_type": "markdown",
   "metadata": {},
   "source": [
    "<div style=\"background-color:#C2F5DD\">\n",
    "\n",
    "## Exercise: Write your version of this implementation..."
   ]
  },
  {
   "cell_type": "markdown",
   "metadata": {},
   "source": [
    "The set of code below is a version of implementation:"
   ]
  },
  {
   "cell_type": "code",
   "execution_count": 4,
   "metadata": {},
   "outputs": [
    {
     "name": "stdout",
     "output_type": "stream",
     "text": [
      "Let's play rock, paper, scissors\n",
      "Your choice: rock\n",
      "I will choose: scissors\n",
      "user wins\n"
     ]
    }
   ],
   "source": [
    "import random\n",
    "import numpy as np\n",
    "\n",
    "\n",
    "#### This is how a basic one to one game of rock paper and scissors work\n",
    "def users_choice():\n",
    "    print(\"Let's play rock, paper, scissors\")\n",
    "    while True:\n",
    "        choice = input(\"Enter your choice (rock, paper, or scissors): \")\n",
    "        if choice in [\"rock\", \"paper\", \"scissors\"]:\n",
    "            return choice\n",
    "        else:\n",
    "            print(\"Invalid choice. Try again.\")\n",
    "\n",
    "\n",
    "def comp_trial():\n",
    "    options = [\"rock\", \"paper\", \"scissors\"]\n",
    "    choice = random.choice(options)\n",
    "    return choice\n",
    "\n",
    "\n",
    "def rule(user_choice, comp_choice):\n",
    "    '''\n",
    "    This shows all the outcomes of the game,\n",
    "    the if statements can be shortened to three\n",
    "    '''\n",
    "    if user_choice == comp_choice:\n",
    "        return \"draw\"\n",
    "    elif user_choice == \"rock\" and comp_choice == \"scissors\":\n",
    "        return \"user wins\"\n",
    "    elif user_choice == \"scissors\" and comp_choice == \"rock\":\n",
    "        return \"computer wins\"\n",
    "    elif user_choice == \"paper\" and comp_choice == \"rock\":\n",
    "        return \"user wins\"\n",
    "    elif user_choice == \"rock\" and comp_choice == \"paper\":\n",
    "        return \"computer wins\"\n",
    "    elif user_choice == \"scissors\" and comp_choice == \"paper\":\n",
    "        return \"user wins\"\n",
    "    elif user_choice == \"paper\" and comp_choice == \"scissors\":\n",
    "        return \"computer wins\"\n",
    "\n",
    "\n",
    "comp_choice = comp_trial()\n",
    "user_choice = users_choice()\n",
    "\n",
    "\n",
    "print(\"Your choice:\", user_choice)\n",
    "print(\"I will choose:\", comp_choice)\n",
    "\n",
    "result = rule(user_choice, comp_choice)\n",
    "print(result)"
   ]
  },
  {
   "cell_type": "markdown",
   "metadata": {},
   "source": [
    "## Adding a reward system\n",
    "\n",
    "The idea of reinforcement learning is about letting the machine know what outcomes is the outcome that we want to see. To do this we can set up a reward system:\n",
    "\n",
    "Here I want the player to win the game and I will let the code know this by adding in a reward system. In this section we are implementing a reward system and the machine will append these values to be assessed."
   ]
  },
  {
   "cell_type": "code",
   "execution_count": 2,
   "metadata": {},
   "outputs": [],
   "source": [
    "import random\n",
    "import numpy as np\n",
    "\n",
    "\n",
    "def users_choice():\n",
    "\n",
    "    print(\"Let's play rock, paper, scissors\")\n",
    "    while True:\n",
    "        choice = input(\"Enter your choice (rock, paper, or scissors): \")\n",
    "        if choice in [\"rock\", \"paper\", \"scissors\"]:\n",
    "            return choice\n",
    "        else:\n",
    "            print(\"Invalid choice. Try again.\")\n",
    "\n",
    "\n",
    "def comp_trial():\n",
    "    options = [\"rock\", \"paper\", \"scissors\"]\n",
    "    choice = random.choice(options)\n",
    "    return choice\n",
    "\n",
    "\n",
    "def get_reward(user_choice, comp_choice):\n",
    "    if user_choice == comp_choice:\n",
    "        return 0  # Draw\n",
    "    elif (\n",
    "        (user_choice == \"rock\" and comp_choice == \"scissors\")\n",
    "        or (user_choice == \"scissors\" and comp_choice == \"paper\")\n",
    "        or (user_choice == \"paper\" and comp_choice == \"rock\")\n",
    "    ):\n",
    "        return 1  # Win\n",
    "    else:\n",
    "        return -1  # Lose\n",
    "\n",
    "\n",
    "def play_game():\n",
    "    user_choice = users_choice()\n",
    "    comp_choice = comp_trial()\n",
    "\n",
    "    print(\"Your choice:\", user_choice)\n",
    "    print(\"I will choose:\", comp_choice)\n",
    "\n",
    "    reward = get_reward(user_choice, comp_choice)\n",
    "    return reward\n",
    "\n",
    "\n",
    "num_episodes = 15\n",
    "total_reward = 0\n",
    "\n",
    "for episode in range(num_episodes):\n",
    "    reward = play_game()\n",
    "    total_reward += reward\n",
    "\n",
    "# visualise reward, so far we are not using the reward yet\n",
    "average_reward = total_reward / num_episodes\n",
    "print(\"Average Reward over {} episodes: {}\".format(num_episodes, average_reward))"
   ]
  }
 ],
 "metadata": {
  "kernelspec": {
   "display_name": "Python 3.9.12 ('base')",
   "language": "python",
   "name": "python3"
  },
  "language_info": {
   "codemirror_mode": {
    "name": "ipython",
    "version": 3
   },
   "file_extension": ".py",
   "mimetype": "text/x-python",
   "name": "python",
   "nbconvert_exporter": "python",
   "pygments_lexer": "ipython3",
   "version": "3.9.12"
  },
  "orig_nbformat": 4,
  "vscode": {
   "interpreter": {
    "hash": "9df1b77b0caf646f19509570eac5ef5a3592ebd6cb99175979cb74b7b24a8bf8"
   }
  }
 },
 "nbformat": 4,
 "nbformat_minor": 2
}
