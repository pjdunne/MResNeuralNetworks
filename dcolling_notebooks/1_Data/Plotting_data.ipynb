{
 "cells": [
  {
   "cell_type": "markdown",
   "metadata": {},
   "source": [
    "# Week X - Plotting Data"
   ]
  },
  {
   "cell_type": "markdown",
   "metadata": {},
   "source": [
    "<hr style=\"border:2px solid gray\">\n",
    "\n",
    "## Index: <a id='index'></a>\n",
    "1. [Displaying Data](#display)\n",
    "1. [Displaying Multiple Plots](#subplots)\n",
    "1. [Histograms](#histograms)\n"
   ]
  },
  {
   "cell_type": "markdown",
   "metadata": {},
   "source": [
    "<hr style=\"border:2px solid gray\">\n",
    "\n",
    "## Displaying Data [^](#index) <a id='display'></a>\n",
    "\n",
    "The ability to display data is often an important first step in understanding the information. Producing clear and understandable (appropriately labelled, legible etc) plots is an important part of communicating your results to others. The purpose of this section is to make sure that you are familiar with the display options in matplotlib and can make professional looking plots. In the assignments you perform at the end of two weeks, this is one aspect that you will be judged upon. \n",
    "\n",
    "Consider and run the following (very simple) example."
   ]
  },
  {
   "cell_type": "code",
   "execution_count": null,
   "metadata": {},
   "outputs": [],
   "source": [
    "import numpy as np\n",
    "import pylab as pl # one of the several ways of importing matplotlib\n",
    "\n",
    "x= np.arange(-10,10,0.01)\n",
    "y=x*x\n",
    "\n",
    "pl.plot(x,y)\n",
    "pl.grid()\n",
    "pl.title(\"Simple plot\")\n",
    "pl.show()"
   ]
  },
  {
   "cell_type": "markdown",
   "metadata": {},
   "source": [
    "<div style=\"background-color:#C2F5DD\">\n",
    "\n",
    "### Exercise\n",
    "\n",
    "Create a graph of a $y=\\sin^2(x)$ going from $-2\\pi$ to $+2\\pi$ (and no further). Make sure that the axes are labelled as $x$ and $y$ and that the equation is written as legend on this graph. Change the $x-axis$ tick marks to be multiples of $\\frac{\\pi}{4}$ and labelled appropriately. Add a grid to this plot, and finally add a graph of $y=\\cos^{100}(x)$ as a dotted red line with appropriate legend. Make sure that your plot is a decent size to be easily readable and save the complete plot to a file."
   ]
  },
  {
   "cell_type": "code",
   "execution_count": null,
   "metadata": {},
   "outputs": [],
   "source": []
  },
  {
   "cell_type": "markdown",
   "metadata": {},
   "source": [
    "<hr style=\"border:2px solid gray\">\n",
    "\n",
    "## Displaying Multiple Plots [^](#index) <a id='subplots'></a>\n",
    "\n",
    "It is often useful to display multiple plots side by side, or one above another. This can be done relatively simply in matplotlib using  the <span style=\"color:blue\">plt.subplot()</span> function. This function presents the plots in a grid structure that contains $n \\times m$ plots, where $n$ is the number of rows and $m$ is the number of columns. You call the <span style=\"color:blue\">plt.subplot()</span> function like this:\n",
    "\n",
    "```python\n",
    "plt.subplot(n,m,k)\n",
    "```\n",
    "\n",
    "where n is the number of rows you want, m is the number of columns and k is the number of the plot you are creating at this moment in time.\n",
    "\n",
    "Consider the example below:"
   ]
  },
  {
   "cell_type": "code",
   "execution_count": null,
   "metadata": {},
   "outputs": [],
   "source": [
    "import numpy as np\n",
    "import pylab as pl\n",
    "\n",
    "pl.rcParams['figure.figsize'] = [10, 5] # setting a nice big figure size\n",
    "\n",
    "x=np.arange(-10,10,0.01)\n",
    "y1=x*x\n",
    "y2=x*x*np.sin(x)\n",
    "y3=x*x*x*np.sin(x)\n",
    "y4=np.sin(x)/x\n",
    "\n",
    "pl.subplot(2,2,1) #2 rows, 2 columns and the 1st plot\n",
    "pl.plot(x,y1)\n",
    "\n",
    "pl.subplot(2,2,2)\n",
    "pl.plot(x,y2)\n",
    "\n",
    "pl.subplot(2,2,3)\n",
    "pl.plot(x,y3)\n",
    "\n",
    "pl.subplot(2,2,4)\n",
    "pl.plot(x,y4)\n",
    "\n",
    "pl.show()"
   ]
  },
  {
   "cell_type": "markdown",
   "metadata": {},
   "source": [
    "While these defaults are useful, they are not always ideal. Consider the example below where we have tried to put axes labels on the second plot. The $y$ label has overwritten the first plot (the font was made to be large to demonstrate this) and the $x$ is completely lost under the 4th plot.\n",
    "\n",
    "(If you want to check that it is actually there, comment out the commands that draw the 4th plot)"
   ]
  },
  {
   "cell_type": "code",
   "execution_count": null,
   "metadata": {},
   "outputs": [],
   "source": [
    "import numpy as np\n",
    "import pylab as pl\n",
    "\n",
    "x=np.arange(-10,10,0.01)\n",
    "y1=x*x\n",
    "y2=x*x*np.sin(x)\n",
    "y3=x*x*x*np.sin(x)\n",
    "y4=np.sin(x)/x\n",
    "\n",
    "pl.subplot(2,2,1)\n",
    "pl.plot(x,y1)\n",
    "\n",
    "pl.subplot(2,2,2)\n",
    "pl.plot(x,y2)\n",
    "pl.xlabel(\"$x$\",fontsize=12)\n",
    "pl.ylabel(\"$y$\",fontsize=32)\n",
    "\n",
    "pl.subplot(2,2,3)\n",
    "pl.plot(x,y3)\n",
    "\n",
    "pl.subplot(2,2,4)\n",
    "pl.plot(x,y4)\n",
    "\n",
    "pl.show()"
   ]
  },
  {
   "cell_type": "markdown",
   "metadata": {},
   "source": [
    "This particular problem is quite easy to fix and can be useful to understand how matplotlib works. The basis on which matplotlib draws is the **figure** -- this is the canvas on which you can draw. When you have multiple plots on the same figure, it must be divided up into \"axes\".  Once you have a figure, you can put an axis on it wherever you want. For example:"
   ]
  },
  {
   "cell_type": "code",
   "execution_count": null,
   "metadata": {},
   "outputs": [],
   "source": [
    "import numpy as np\n",
    "import pylab as pl\n",
    "pl.rcParams['figure.figsize'] = [10, 5] \n",
    "\n",
    "x=np.arange(-10,10,0.01)\n",
    "y1=x*x\n",
    "y2=x*x*np.sin(x)\n",
    "y3=x*x*x*np.sin(x)\n",
    "y4=np.sin(x)/x\n",
    "\n",
    "fig=pl.figure(\"New Figure\")\n",
    "\n",
    "ax0=fig.add_axes([0.1, 0.1, 0.5, 0.5]) # [x0,y0,width,height]\n",
    "ax0.plot(x,y1)\n",
    "pl.xticks(fontsize=12)\n",
    "pl.yticks(fontsize=12)\n",
    "pl.grid()\n",
    "\n",
    "\n",
    "ax1=fig.add_axes([.6, .6, .4, 0.4]) # [x0,y0,width,height]\n",
    "ax1.plot(x,y2)\n",
    "pl.xticks(fontsize=12)\n",
    "pl.yticks(fontsize=12)\n",
    "pl.grid()\n",
    "\n",
    "pl.savefig(\"axes_plots.png\")\n",
    "\n",
    "pl.show()"
   ]
  },
  {
   "cell_type": "markdown",
   "metadata": {},
   "source": [
    "You will notice that the $x$ and $y$ tick labels lie outside of the axis area. If you look at axes_plots.png, you will also notice that the very right hand edge of the second plot is missing.\n",
    "\n",
    "This approach gives you complete flexibility as to where to place plots on your figures and can be very useful. For example, it easily allows you to have graph insets. Below is an example of this:"
   ]
  },
  {
   "cell_type": "code",
   "execution_count": null,
   "metadata": {},
   "outputs": [],
   "source": [
    "import numpy as np\n",
    "import pylab as pl\n",
    "pl.rcParams['figure.figsize'] = [10, 5] \n",
    "\n",
    "x=np.arange(-500,500,0.001)\n",
    "\n",
    "y4=np.sin(x)**6/x\n",
    "\n",
    "fig=pl.figure(\"New Figure\")\n",
    "\n",
    "ax=fig.add_axes([0.05, 0.1, 0.8, 0.8]) # [x0,y0,width,height]\n",
    "ax.plot(x,y4)\n",
    "pl.xlabel(\"$x$\",fontsize=15)\n",
    "pl.ylabel(\"$y$\",fontsize=15)\n",
    "pl.xticks(fontsize=12)\n",
    "pl.yticks(fontsize=12)\n",
    "pl.text(220,0.45,\"(A)\", fontsize=15)\n",
    "pl.grid()\n",
    "\n",
    "\n",
    "ax1=fig.add_axes([.1, .55, .3, 0.3]) # [x0,y0,width,height]\n",
    "ax1.plot(x[480000:520000],y4[480000:520000]) # clearly there are more elegant ways of doing this\n",
    "pl.xticks(np.arange(-20,20,5),fontsize=10)\n",
    "pl.yticks(fontsize=10)\n",
    "pl.text(13,0.4,\"(B)\", fontsize=15)\n",
    "pl.grid()\n",
    "\n",
    "\n",
    "pl.savefig(\"inset_plots.png\")\n",
    "\n",
    "pl.show()"
   ]
  },
  {
   "cell_type": "markdown",
   "metadata": {},
   "source": [
    "Using this method, there is an alternate way to draw the four plots we had earlier with the following code:"
   ]
  },
  {
   "cell_type": "code",
   "execution_count": null,
   "metadata": {},
   "outputs": [],
   "source": [
    "import numpy as np\n",
    "import pylab as pl\n",
    "\n",
    "x=np.arange(-10,10,0.01)\n",
    "y1=x*x\n",
    "y2=x*x*np.sin(x)\n",
    "y3=x*x*x*np.sin(x)\n",
    "y4=np.sin(x)/x\n",
    "\n",
    "#define the subplots\n",
    "fig, axes = pl.subplots(nrows=2, ncols=2)\n",
    "\n",
    "#now plot\n",
    "axes[0,0].plot(x,y1)\n",
    "axes[0,1].plot(x,y2)\n",
    "axes[1,0].plot(x,y3)\n",
    "axes[1,1].plot(x,y4)\n",
    "\n",
    "pl.subplot(2,2,2)\n",
    "pl.ylabel(\"$y$\", fontsize=32)\n",
    "pl.xlabel(\"$x$\",fontsize=\"12\")\n",
    "\n",
    "# But now can change the padding between the plots as we have the figure defined\n",
    "\n",
    "fig.tight_layout(pad=2.0)\n",
    "\n",
    "pl.show()\n"
   ]
  },
  {
   "cell_type": "markdown",
   "metadata": {},
   "source": [
    "Having the figure defined gives us more flexibilty. For example:"
   ]
  },
  {
   "cell_type": "code",
   "execution_count": null,
   "metadata": {},
   "outputs": [],
   "source": [
    "import numpy as np\n",
    "import pylab as pl\n",
    "\n",
    "x=np.arange(-10,10,0.01)\n",
    "y1=x*x\n",
    "y2=x*x*np.sin(x)\n",
    "y3=x*x*x*np.sin(x)\n",
    "y4=np.sin(x)/x\n",
    "\n",
    "fig=pl.figure()\n",
    "\n",
    "pl.subplot(2,2,1)\n",
    "pl.plot(x,y1)\n",
    "pl.xlabel(\"x\")\n",
    "pl.subplot(2,2,3)\n",
    "pl.plot(x,y2)\n",
    "pl.subplot(1,2,2)\n",
    "pl.plot(x,y4)\n",
    "\n",
    "ax=fig.add_axes([0.6,0.7,0.12,0.15])\n",
    "ax.plot(x,x*x-x+4)\n",
    "\n",
    "\n",
    "\n",
    "fig.tight_layout(pad=2.0) \n",
    "# this will generate a warning as the inset plot is not compatible with tight_layout but it will work \n",
    "#for the subplots.\n",
    "\n",
    "pl.show()\n",
    "\n"
   ]
  },
  {
   "cell_type": "markdown",
   "metadata": {},
   "source": [
    "<div style=\"background-color:#C2F5DD\">\n",
    "\n",
    "### Exercise\n",
    "\n",
    "Pick 6 different functions of x (the actual functions don't matter for this exercise), and plot them in different configurations, orientations etc. A good example could be drawing some graphs so that they have a shared $x$-axis and $y$-axis. This exercise may seem trivial after reading through the examples above, but do try to do a good and detailed job of it. Practise now will reduce the time spent looking it up later."
   ]
  },
  {
   "cell_type": "markdown",
   "metadata": {},
   "source": [
    "<hr style=\"border:2px solid gray\">\n",
    "\n",
    "## Histograms [^](#index) <a id='histograms'></a>\n",
    "\n",
    "When carrying out data science, you will often need to histogram data. This can be done easily with matplotlib using the following:"
   ]
  },
  {
   "cell_type": "code",
   "execution_count": null,
   "metadata": {},
   "outputs": [],
   "source": [
    "import numpy as np\n",
    "import numpy.random as npr\n",
    "import pylab as pl\n",
    "\n",
    "x_data=npr.normal(loc=2,scale=1.5,size=10000)\n",
    "# this will generate a Gaussian distribution - we will look more at these later.\n",
    "\n",
    "pl.hist(x_data) # this will draw a histogram with 10 bins covering the range of the data\n",
    "\n",
    "pl.show()"
   ]
  },
  {
   "cell_type": "code",
   "execution_count": null,
   "metadata": {},
   "outputs": [],
   "source": [
    "pl.hist(x_data,bins=100) # changes it to have 100 bins\n",
    "pl.show()"
   ]
  },
  {
   "cell_type": "code",
   "execution_count": null,
   "metadata": {},
   "outputs": [],
   "source": [
    "x,bins,patches=pl.hist(x_data,bins=20) # you can extract the values and bin boundaries\n",
    "print(\"Entries \",x)\n",
    "print(\"Bins\",bins,len(bins)) # note that there are 21 entries because this is a \"fence post\" problem"
   ]
  },
  {
   "cell_type": "code",
   "execution_count": null,
   "metadata": {},
   "outputs": [],
   "source": [
    "bins=[-5,-4,0,4,6,8]\n",
    "x,bins,patches=pl.hist(x_data,bins=bins) # you can have any binning that you want\n",
    "print(\"Entries \",x)"
   ]
  },
  {
   "cell_type": "markdown",
   "metadata": {},
   "source": [
    "You can plot two histograms on top of each other and then change the transparency by changing \"alpha\""
   ]
  },
  {
   "cell_type": "code",
   "execution_count": null,
   "metadata": {
    "scrolled": true
   },
   "outputs": [],
   "source": [
    "x_data2=npr.normal(loc=0.5,scale=1.5,size=10000)\n",
    "pl.hist(x_data,bins=100,alpha=0.5,label=\"Data\")\n",
    "pl.hist(x_data2,bins=100,alpha=0.5,label=\"Data 2\")\n",
    "pl.xlabel(\"Two histograms on top of each other\")\n",
    "pl.legend(loc=\"best\")\n",
    "pl.show()"
   ]
  },
  {
   "cell_type": "markdown",
   "metadata": {},
   "source": [
    "Numpy also has a histograming method, however these only produce the numbers and then have to added to matplotlib to be displayed"
   ]
  },
  {
   "cell_type": "code",
   "execution_count": null,
   "metadata": {},
   "outputs": [],
   "source": [
    "import numpy as np\n",
    "import matplotlib.pyplot as pl\n",
    "\n",
    "n,bins=np.histogram(x_data,bins=20,range=[-3,7])\n",
    "x= 0.5 * (bins[1:] + bins[:-1])\n",
    "y_err=n**0.5 # Assume Poison distribution\n",
    "pl.errorbar(x,n,y_err,fmt=\"ok\");"
   ]
  },
  {
   "cell_type": "code",
   "execution_count": null,
   "metadata": {},
   "outputs": [],
   "source": []
  }
 ],
 "metadata": {
  "kernelspec": {
   "display_name": "Python 3 (ipykernel)",
   "language": "python",
   "name": "python3"
  },
  "language_info": {
   "codemirror_mode": {
    "name": "ipython",
    "version": 3
   },
   "file_extension": ".py",
   "mimetype": "text/x-python",
   "name": "python",
   "nbconvert_exporter": "python",
   "pygments_lexer": "ipython3",
   "version": "3.9.16"
  }
 },
 "nbformat": 4,
 "nbformat_minor": 4
}
