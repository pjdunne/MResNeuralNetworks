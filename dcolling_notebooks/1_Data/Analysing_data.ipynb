{
 "cells": [
  {
   "cell_type": "markdown",
   "metadata": {},
   "source": [
    "# Analysing Data"
   ]
  },
  {
   "cell_type": "markdown",
   "metadata": {},
   "source": [
    "<hr style=\"border:2px solid gray\">\n",
    "\n",
    "## Index: <a id='index'></a>\n",
    "\n",
    "1. [Interpolation](#i)\n",
    "    1. [Linear Interpolation](#li)\n",
    "    1. [Cubic Spline](#cs)\n",
    "1. [iminuit](#im)\n",
    "1. [Using iminuit](#ui)\n",
    "    1. [The Basics](#tb)\n",
    "    1. [Gradient Descent](#gd)\n",
    "    1. [The Minuit object](#tmo)\n",
    "    1. [Parameter Uncertainties, Covariances, and Confidence Intervals](#pucaci)\n",
    "    1. [Maximum-likelihood fits](#mlf)"
   ]
  },
  {
   "cell_type": "code",
   "execution_count": null,
   "metadata": {
    "vscode": {
     "languageId": "plaintext"
    }
   },
   "outputs": [],
   "source": []
  }
 ],
 "metadata": {
  "language_info": {
   "name": "python"
  },
  "orig_nbformat": 4
 },
 "nbformat": 4,
 "nbformat_minor": 2
}
