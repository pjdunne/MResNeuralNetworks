{
 "cells": [
  {
   "cell_type": "markdown",
   "metadata": {},
   "source": [
    "# Analysing Time Series Data"
   ]
  },
  {
   "cell_type": "markdown",
   "metadata": {},
   "source": [
    "**Time series analysis** refers to the method of breaking down the original dataset into four parts - trends, cycles, periods, and unstable factors - which we adopt to propose forecasts to predict future trends.\n",
    "\n",
    "Time series analysis is one of the **quantitative prediction methods**. It includes general statistical analysis, data filtering, and predicting statistical models. Classical statistical analysis assumes that data sequences are independent of each other, while time series analysis focuses on studying the interdependence of data sequences. The latter is actually a statistical analysis of stochastic processes with discrete indicators, so it can also be seen as a component of stochastic process statistics. For example, by recording the rainfall of the first month, second month,..., and nth month in a certain region, time series analysis methods can be used to predict the future rainfall for each month.\n",
    "\n",
    "In this section of the course, we will see how time series analysis can be applied to moniter the sun's magnetic field. You do not need to understand what the data repersents in-depth, we focus on understandings on how we present, analyse and smooth data in the industry."
   ]
  },
  {
   "cell_type": "markdown",
   "metadata": {},
   "source": [
    "<hr style=\"border:2px solid gray\">\n",
    "\n",
    "## Index: <a id='index'></a>\n"
   ]
  },
  {
   "cell_type": "code",
   "execution_count": 1,
   "metadata": {
    "vscode": {
     "languageId": "plaintext"
    }
   },
   "outputs": [
    {
     "name": "stderr",
     "output_type": "stream",
     "text": [
      "WARNING: SunpyDeprecationWarning: The `sunpy.io.cdf` module is deprecated, as it was designed for internal use. [sunpy.io.cdf]\n"
     ]
    }
   ],
   "source": [
    "# Loading Data\n",
    "from sunpy.net import Fido, attrs as a\n",
    "import sunpy.io.cdf as cdf\n",
    "from sunpy.timeseries import GenericTimeSeries\n",
    "import sunpy_soar\n",
    "import numpy as np\n",
    "\n",
    "\n",
    "# This is py file located in the same directory as this notebook, refer to the OOP \n",
    "# section fo the bootcamp for more information on importing modules\n",
    "import analysis_helpers as h "
   ]
  },
  {
   "cell_type": "code",
   "execution_count": 2,
   "metadata": {},
   "outputs": [
    {
     "name": "stdout",
     "output_type": "stream",
     "text": [
      "Results from 1 Provider:\n",
      "\n",
      "25 Results from the SOARClient:\n",
      "\n",
      "Instrument       Data product      Level ...         End time        Filesize\n",
      "                                         ...                          Mbyte  \n",
      "---------- ----------------------- ----- ... ----------------------- --------\n",
      "       MAG MAG-RTN-NORMAL-1-MINUTE    L2 ... 2022-03-06 00:00:00.000    0.031\n",
      "       MAG MAG-RTN-NORMAL-1-MINUTE    L2 ... 2022-03-05 00:00:00.000    0.031\n",
      "       MAG MAG-RTN-NORMAL-1-MINUTE    L2 ... 2022-03-04 00:00:00.000    0.033\n",
      "       MAG MAG-RTN-NORMAL-1-MINUTE    L2 ... 2022-03-03 00:00:00.000    0.032\n",
      "       MAG MAG-RTN-NORMAL-1-MINUTE    L2 ... 2022-03-02 00:00:00.000    0.033\n",
      "       MAG MAG-RTN-NORMAL-1-MINUTE    L2 ... 2022-03-01 00:00:00.000    0.033\n",
      "       ...                     ...   ... ...                     ...      ...\n",
      "       MAG MAG-RTN-NORMAL-1-MINUTE    L2 ... 2022-02-15 00:00:00.000    0.028\n",
      "       MAG MAG-RTN-NORMAL-1-MINUTE    L2 ... 2022-02-14 00:00:00.000    0.029\n",
      "       MAG MAG-RTN-NORMAL-1-MINUTE    L2 ... 2022-02-13 00:00:00.000    0.033\n",
      "       MAG MAG-RTN-NORMAL-1-MINUTE    L2 ... 2022-02-12 00:00:00.000    0.033\n",
      "       MAG MAG-RTN-NORMAL-1-MINUTE    L2 ... 2022-02-11 00:00:00.000     0.02\n",
      "       MAG MAG-RTN-NORMAL-1-MINUTE    L2 ... 2022-02-10 00:00:00.000    0.032\n",
      "       MAG MAG-RTN-NORMAL-1-MINUTE    L2 ... 2022-02-09 00:00:00.000     0.03\n",
      "Length = 25 rows\n",
      "\n",
      " <class 'sunpy.net.fido_factory.UnifiedResponse'>\n"
     ]
    }
   ],
   "source": [
    "# Create search attributes\n",
    "instrument = a.Instrument('MAG')\n",
    "time = a.Time('2022-02-08', '2022-03-05')\n",
    "level = a.Level(2)\n",
    "product = a.soar.Product('MAG-RTN-NORMAL-1-MINUTE')\n",
    "\n",
    "# Do search\n",
    "result = Fido.search(time & level & product)\n",
    "# print(result, type(result))\n"
   ]
  },
  {
   "cell_type": "code",
   "execution_count": 3,
   "metadata": {},
   "outputs": [
    {
     "data": {
      "application/json": {
       "ascii": false,
       "bar_format": null,
       "colour": null,
       "elapsed": 0.016210317611694336,
       "initial": 0,
       "n": 0,
       "ncols": null,
       "nrows": 24,
       "postfix": null,
       "prefix": "Files Downloaded",
       "rate": null,
       "total": 25,
       "unit": "file",
       "unit_divisor": 1000,
       "unit_scale": false
      },
      "application/vnd.jupyter.widget-view+json": {
       "model_id": "c35b8f5a77604692925f578c49ab634d",
       "version_major": 2,
       "version_minor": 0
      },
      "text/plain": [
       "Files Downloaded:   0%|          | 0/25 [00:00<?, ?file/s]"
      ]
     },
     "metadata": {},
     "output_type": "display_data"
    },
    {
     "data": {
      "application/json": {
       "ascii": false,
       "bar_format": null,
       "colour": null,
       "elapsed": 0.006832122802734375,
       "initial": 0,
       "n": 0,
       "ncols": null,
       "nrows": 24,
       "postfix": null,
       "prefix": "solo_L2_mag-rtn-normal-1-minute_20220301_V01.cdf",
       "rate": null,
       "total": 32549,
       "unit": "B",
       "unit_divisor": 1000,
       "unit_scale": true
      },
      "application/vnd.jupyter.widget-view+json": {
       "model_id": "",
       "version_major": 2,
       "version_minor": 0
      },
      "text/plain": [
       "solo_L2_mag-rtn-normal-1-minute_20220301_V01.cdf:   0%|          | 0.00/32.5k [00:00<?, ?B/s]"
      ]
     },
     "metadata": {},
     "output_type": "display_data"
    },
    {
     "data": {
      "application/json": {
       "ascii": false,
       "bar_format": null,
       "colour": null,
       "elapsed": 0.006059169769287109,
       "initial": 0,
       "n": 0,
       "ncols": null,
       "nrows": 24,
       "postfix": null,
       "prefix": "solo_L2_mag-rtn-normal-1-minute_20220302_V01.cdf",
       "rate": null,
       "total": 32432,
       "unit": "B",
       "unit_divisor": 1000,
       "unit_scale": true
      },
      "application/vnd.jupyter.widget-view+json": {
       "model_id": "",
       "version_major": 2,
       "version_minor": 0
      },
      "text/plain": [
       "solo_L2_mag-rtn-normal-1-minute_20220302_V01.cdf:   0%|          | 0.00/32.4k [00:00<?, ?B/s]"
      ]
     },
     "metadata": {},
     "output_type": "display_data"
    },
    {
     "data": {
      "application/json": {
       "ascii": false,
       "bar_format": null,
       "colour": null,
       "elapsed": 0.0023272037506103516,
       "initial": 0,
       "n": 0,
       "ncols": null,
       "nrows": 24,
       "postfix": null,
       "prefix": "solo_L2_mag-rtn-normal-1-minute_20220303_V01.cdf",
       "rate": null,
       "total": 32675,
       "unit": "B",
       "unit_divisor": 1000,
       "unit_scale": true
      },
      "application/vnd.jupyter.widget-view+json": {
       "model_id": "",
       "version_major": 2,
       "version_minor": 0
      },
      "text/plain": [
       "solo_L2_mag-rtn-normal-1-minute_20220303_V01.cdf:   0%|          | 0.00/32.7k [00:00<?, ?B/s]"
      ]
     },
     "metadata": {},
     "output_type": "display_data"
    },
    {
     "data": {
      "application/json": {
       "ascii": false,
       "bar_format": null,
       "colour": null,
       "elapsed": 0.0024869441986083984,
       "initial": 0,
       "n": 0,
       "ncols": null,
       "nrows": 24,
       "postfix": null,
       "prefix": "solo_L2_mag-rtn-normal-1-minute_20220304_V01.cdf",
       "rate": null,
       "total": 31153,
       "unit": "B",
       "unit_divisor": 1000,
       "unit_scale": true
      },
      "application/vnd.jupyter.widget-view+json": {
       "model_id": "",
       "version_major": 2,
       "version_minor": 0
      },
      "text/plain": [
       "solo_L2_mag-rtn-normal-1-minute_20220304_V01.cdf:   0%|          | 0.00/31.2k [00:00<?, ?B/s]"
      ]
     },
     "metadata": {},
     "output_type": "display_data"
    },
    {
     "data": {
      "application/json": {
       "ascii": false,
       "bar_format": null,
       "colour": null,
       "elapsed": 0.008462905883789062,
       "initial": 0,
       "n": 0,
       "ncols": null,
       "nrows": 24,
       "postfix": null,
       "prefix": "solo_L2_mag-rtn-normal-1-minute_20220305_V01.cdf",
       "rate": null,
       "total": 30754,
       "unit": "B",
       "unit_divisor": 1000,
       "unit_scale": true
      },
      "application/vnd.jupyter.widget-view+json": {
       "model_id": "",
       "version_major": 2,
       "version_minor": 0
      },
      "text/plain": [
       "solo_L2_mag-rtn-normal-1-minute_20220305_V01.cdf:   0%|          | 0.00/30.8k [00:00<?, ?B/s]"
      ]
     },
     "metadata": {},
     "output_type": "display_data"
    },
    {
     "data": {
      "application/json": {
       "ascii": false,
       "bar_format": null,
       "colour": null,
       "elapsed": 0.006013154983520508,
       "initial": 0,
       "n": 0,
       "ncols": null,
       "nrows": 24,
       "postfix": null,
       "prefix": "solo_L2_mag-rtn-normal-1-minute_20220226_V01.cdf",
       "rate": null,
       "total": 32649,
       "unit": "B",
       "unit_divisor": 1000,
       "unit_scale": true
      },
      "application/vnd.jupyter.widget-view+json": {
       "model_id": "",
       "version_major": 2,
       "version_minor": 0
      },
      "text/plain": [
       "solo_L2_mag-rtn-normal-1-minute_20220226_V01.cdf:   0%|          | 0.00/32.6k [00:00<?, ?B/s]"
      ]
     },
     "metadata": {},
     "output_type": "display_data"
    },
    {
     "data": {
      "application/json": {
       "ascii": false,
       "bar_format": null,
       "colour": null,
       "elapsed": 0.005279064178466797,
       "initial": 0,
       "n": 0,
       "ncols": null,
       "nrows": 24,
       "postfix": null,
       "prefix": "solo_L2_mag-rtn-normal-1-minute_20220227_V01.cdf",
       "rate": null,
       "total": 32661,
       "unit": "B",
       "unit_divisor": 1000,
       "unit_scale": true
      },
      "application/vnd.jupyter.widget-view+json": {
       "model_id": "",
       "version_major": 2,
       "version_minor": 0
      },
      "text/plain": [
       "solo_L2_mag-rtn-normal-1-minute_20220227_V01.cdf:   0%|          | 0.00/32.7k [00:00<?, ?B/s]"
      ]
     },
     "metadata": {},
     "output_type": "display_data"
    },
    {
     "data": {
      "application/json": {
       "ascii": false,
       "bar_format": null,
       "colour": null,
       "elapsed": 0.0021309852600097656,
       "initial": 0,
       "n": 0,
       "ncols": null,
       "nrows": 24,
       "postfix": null,
       "prefix": "solo_L2_mag-rtn-normal-1-minute_20220228_V01.cdf",
       "rate": null,
       "total": 32639,
       "unit": "B",
       "unit_divisor": 1000,
       "unit_scale": true
      },
      "application/vnd.jupyter.widget-view+json": {
       "model_id": "",
       "version_major": 2,
       "version_minor": 0
      },
      "text/plain": [
       "solo_L2_mag-rtn-normal-1-minute_20220228_V01.cdf:   0%|          | 0.00/32.6k [00:00<?, ?B/s]"
      ]
     },
     "metadata": {},
     "output_type": "display_data"
    },
    {
     "data": {
      "application/json": {
       "ascii": false,
       "bar_format": null,
       "colour": null,
       "elapsed": 0.0074329376220703125,
       "initial": 0,
       "n": 0,
       "ncols": null,
       "nrows": 24,
       "postfix": null,
       "prefix": "solo_L2_mag-rtn-normal-1-minute_20220225_V01.cdf",
       "rate": null,
       "total": 32641,
       "unit": "B",
       "unit_divisor": 1000,
       "unit_scale": true
      },
      "application/vnd.jupyter.widget-view+json": {
       "model_id": "",
       "version_major": 2,
       "version_minor": 0
      },
      "text/plain": [
       "solo_L2_mag-rtn-normal-1-minute_20220225_V01.cdf:   0%|          | 0.00/32.6k [00:00<?, ?B/s]"
      ]
     },
     "metadata": {},
     "output_type": "display_data"
    },
    {
     "data": {
      "application/json": {
       "ascii": false,
       "bar_format": null,
       "colour": null,
       "elapsed": 0.008989810943603516,
       "initial": 0,
       "n": 0,
       "ncols": null,
       "nrows": 24,
       "postfix": null,
       "prefix": "solo_L2_mag-rtn-normal-1-minute_20220224_V01.cdf",
       "rate": null,
       "total": 18328,
       "unit": "B",
       "unit_divisor": 1000,
       "unit_scale": true
      },
      "application/vnd.jupyter.widget-view+json": {
       "model_id": "",
       "version_major": 2,
       "version_minor": 0
      },
      "text/plain": [
       "solo_L2_mag-rtn-normal-1-minute_20220224_V01.cdf:   0%|          | 0.00/18.3k [00:00<?, ?B/s]"
      ]
     },
     "metadata": {},
     "output_type": "display_data"
    },
    {
     "data": {
      "application/json": {
       "ascii": false,
       "bar_format": null,
       "colour": null,
       "elapsed": 0.009036779403686523,
       "initial": 0,
       "n": 0,
       "ncols": null,
       "nrows": 24,
       "postfix": null,
       "prefix": "solo_L2_mag-rtn-normal-1-minute_20220222_V01.cdf",
       "rate": null,
       "total": 20331,
       "unit": "B",
       "unit_divisor": 1000,
       "unit_scale": true
      },
      "application/vnd.jupyter.widget-view+json": {
       "model_id": "",
       "version_major": 2,
       "version_minor": 0
      },
      "text/plain": [
       "solo_L2_mag-rtn-normal-1-minute_20220222_V01.cdf:   0%|          | 0.00/20.3k [00:00<?, ?B/s]"
      ]
     },
     "metadata": {},
     "output_type": "display_data"
    },
    {
     "data": {
      "application/json": {
       "ascii": false,
       "bar_format": null,
       "colour": null,
       "elapsed": 0.0053980350494384766,
       "initial": 0,
       "n": 0,
       "ncols": null,
       "nrows": 24,
       "postfix": null,
       "prefix": "solo_L2_mag-rtn-normal-1-minute_20220221_V01.cdf",
       "rate": null,
       "total": 32745,
       "unit": "B",
       "unit_divisor": 1000,
       "unit_scale": true
      },
      "application/vnd.jupyter.widget-view+json": {
       "model_id": "",
       "version_major": 2,
       "version_minor": 0
      },
      "text/plain": [
       "solo_L2_mag-rtn-normal-1-minute_20220221_V01.cdf:   0%|          | 0.00/32.7k [00:00<?, ?B/s]"
      ]
     },
     "metadata": {},
     "output_type": "display_data"
    },
    {
     "data": {
      "application/json": {
       "ascii": false,
       "bar_format": null,
       "colour": null,
       "elapsed": 0.010913848876953125,
       "initial": 0,
       "n": 0,
       "ncols": null,
       "nrows": 24,
       "postfix": null,
       "prefix": "solo_L2_mag-rtn-normal-1-minute_20220220_V01.cdf",
       "rate": null,
       "total": 32610,
       "unit": "B",
       "unit_divisor": 1000,
       "unit_scale": true
      },
      "application/vnd.jupyter.widget-view+json": {
       "model_id": "",
       "version_major": 2,
       "version_minor": 0
      },
      "text/plain": [
       "solo_L2_mag-rtn-normal-1-minute_20220220_V01.cdf:   0%|          | 0.00/32.6k [00:00<?, ?B/s]"
      ]
     },
     "metadata": {},
     "output_type": "display_data"
    },
    {
     "data": {
      "application/json": {
       "ascii": false,
       "bar_format": null,
       "colour": null,
       "elapsed": 0.013798952102661133,
       "initial": 0,
       "n": 0,
       "ncols": null,
       "nrows": 24,
       "postfix": null,
       "prefix": "solo_L2_mag-rtn-normal-1-minute_20220219_V01.cdf",
       "rate": null,
       "total": 27177,
       "unit": "B",
       "unit_divisor": 1000,
       "unit_scale": true
      },
      "application/vnd.jupyter.widget-view+json": {
       "model_id": "",
       "version_major": 2,
       "version_minor": 0
      },
      "text/plain": [
       "solo_L2_mag-rtn-normal-1-minute_20220219_V01.cdf:   0%|          | 0.00/27.2k [00:00<?, ?B/s]"
      ]
     },
     "metadata": {},
     "output_type": "display_data"
    },
    {
     "data": {
      "application/json": {
       "ascii": false,
       "bar_format": null,
       "colour": null,
       "elapsed": 0.005390167236328125,
       "initial": 0,
       "n": 0,
       "ncols": null,
       "nrows": 24,
       "postfix": null,
       "prefix": "solo_L2_mag-rtn-normal-1-minute_20220218_V01.cdf",
       "rate": null,
       "total": 19993,
       "unit": "B",
       "unit_divisor": 1000,
       "unit_scale": true
      },
      "application/vnd.jupyter.widget-view+json": {
       "model_id": "",
       "version_major": 2,
       "version_minor": 0
      },
      "text/plain": [
       "solo_L2_mag-rtn-normal-1-minute_20220218_V01.cdf:   0%|          | 0.00/20.0k [00:00<?, ?B/s]"
      ]
     },
     "metadata": {},
     "output_type": "display_data"
    },
    {
     "data": {
      "application/json": {
       "ascii": false,
       "bar_format": null,
       "colour": null,
       "elapsed": 0.007952213287353516,
       "initial": 0,
       "n": 0,
       "ncols": null,
       "nrows": 24,
       "postfix": null,
       "prefix": "solo_L2_mag-rtn-normal-1-minute_20220217_V01.cdf",
       "rate": null,
       "total": 24289,
       "unit": "B",
       "unit_divisor": 1000,
       "unit_scale": true
      },
      "application/vnd.jupyter.widget-view+json": {
       "model_id": "",
       "version_major": 2,
       "version_minor": 0
      },
      "text/plain": [
       "solo_L2_mag-rtn-normal-1-minute_20220217_V01.cdf:   0%|          | 0.00/24.3k [00:00<?, ?B/s]"
      ]
     },
     "metadata": {},
     "output_type": "display_data"
    },
    {
     "data": {
      "application/json": {
       "ascii": false,
       "bar_format": null,
       "colour": null,
       "elapsed": 0.011240005493164062,
       "initial": 0,
       "n": 0,
       "ncols": null,
       "nrows": 24,
       "postfix": null,
       "prefix": "solo_L2_mag-rtn-normal-1-minute_20220216_V01.cdf",
       "rate": null,
       "total": 32218,
       "unit": "B",
       "unit_divisor": 1000,
       "unit_scale": true
      },
      "application/vnd.jupyter.widget-view+json": {
       "model_id": "",
       "version_major": 2,
       "version_minor": 0
      },
      "text/plain": [
       "solo_L2_mag-rtn-normal-1-minute_20220216_V01.cdf:   0%|          | 0.00/32.2k [00:00<?, ?B/s]"
      ]
     },
     "metadata": {},
     "output_type": "display_data"
    },
    {
     "data": {
      "application/json": {
       "ascii": false,
       "bar_format": null,
       "colour": null,
       "elapsed": 0.00857686996459961,
       "initial": 0,
       "n": 0,
       "ncols": null,
       "nrows": 24,
       "postfix": null,
       "prefix": "solo_L2_mag-rtn-normal-1-minute_20220215_V01.cdf",
       "rate": null,
       "total": 32831,
       "unit": "B",
       "unit_divisor": 1000,
       "unit_scale": true
      },
      "application/vnd.jupyter.widget-view+json": {
       "model_id": "",
       "version_major": 2,
       "version_minor": 0
      },
      "text/plain": [
       "solo_L2_mag-rtn-normal-1-minute_20220215_V01.cdf:   0%|          | 0.00/32.8k [00:00<?, ?B/s]"
      ]
     },
     "metadata": {},
     "output_type": "display_data"
    },
    {
     "data": {
      "application/json": {
       "ascii": false,
       "bar_format": null,
       "colour": null,
       "elapsed": 0.008517980575561523,
       "initial": 0,
       "n": 0,
       "ncols": null,
       "nrows": 24,
       "postfix": null,
       "prefix": "solo_L2_mag-rtn-normal-1-minute_20220214_V01.cdf",
       "rate": null,
       "total": 27808,
       "unit": "B",
       "unit_divisor": 1000,
       "unit_scale": true
      },
      "application/vnd.jupyter.widget-view+json": {
       "model_id": "",
       "version_major": 2,
       "version_minor": 0
      },
      "text/plain": [
       "solo_L2_mag-rtn-normal-1-minute_20220214_V01.cdf:   0%|          | 0.00/27.8k [00:00<?, ?B/s]"
      ]
     },
     "metadata": {},
     "output_type": "display_data"
    },
    {
     "data": {
      "application/json": {
       "ascii": false,
       "bar_format": null,
       "colour": null,
       "elapsed": 0.007266998291015625,
       "initial": 0,
       "n": 0,
       "ncols": null,
       "nrows": 24,
       "postfix": null,
       "prefix": "solo_L2_mag-rtn-normal-1-minute_20220213_V01.cdf",
       "rate": null,
       "total": 28501,
       "unit": "B",
       "unit_divisor": 1000,
       "unit_scale": true
      },
      "application/vnd.jupyter.widget-view+json": {
       "model_id": "",
       "version_major": 2,
       "version_minor": 0
      },
      "text/plain": [
       "solo_L2_mag-rtn-normal-1-minute_20220213_V01.cdf:   0%|          | 0.00/28.5k [00:00<?, ?B/s]"
      ]
     },
     "metadata": {},
     "output_type": "display_data"
    },
    {
     "data": {
      "application/json": {
       "ascii": false,
       "bar_format": null,
       "colour": null,
       "elapsed": 0.005800962448120117,
       "initial": 0,
       "n": 0,
       "ncols": null,
       "nrows": 24,
       "postfix": null,
       "prefix": "solo_L2_mag-rtn-normal-1-minute_20220212_V01.cdf",
       "rate": null,
       "total": 32844,
       "unit": "B",
       "unit_divisor": 1000,
       "unit_scale": true
      },
      "application/vnd.jupyter.widget-view+json": {
       "model_id": "",
       "version_major": 2,
       "version_minor": 0
      },
      "text/plain": [
       "solo_L2_mag-rtn-normal-1-minute_20220212_V01.cdf:   0%|          | 0.00/32.8k [00:00<?, ?B/s]"
      ]
     },
     "metadata": {},
     "output_type": "display_data"
    },
    {
     "data": {
      "application/json": {
       "ascii": false,
       "bar_format": null,
       "colour": null,
       "elapsed": 0.011046886444091797,
       "initial": 0,
       "n": 0,
       "ncols": null,
       "nrows": 24,
       "postfix": null,
       "prefix": "solo_L2_mag-rtn-normal-1-minute_20220211_V01.cdf",
       "rate": null,
       "total": 32681,
       "unit": "B",
       "unit_divisor": 1000,
       "unit_scale": true
      },
      "application/vnd.jupyter.widget-view+json": {
       "model_id": "",
       "version_major": 2,
       "version_minor": 0
      },
      "text/plain": [
       "solo_L2_mag-rtn-normal-1-minute_20220211_V01.cdf:   0%|          | 0.00/32.7k [00:00<?, ?B/s]"
      ]
     },
     "metadata": {},
     "output_type": "display_data"
    },
    {
     "data": {
      "application/json": {
       "ascii": false,
       "bar_format": null,
       "colour": null,
       "elapsed": 0.00654911994934082,
       "initial": 0,
       "n": 0,
       "ncols": null,
       "nrows": 24,
       "postfix": null,
       "prefix": "solo_L2_mag-rtn-normal-1-minute_20220210_V01.cdf",
       "rate": null,
       "total": 19948,
       "unit": "B",
       "unit_divisor": 1000,
       "unit_scale": true
      },
      "application/vnd.jupyter.widget-view+json": {
       "model_id": "",
       "version_major": 2,
       "version_minor": 0
      },
      "text/plain": [
       "solo_L2_mag-rtn-normal-1-minute_20220210_V01.cdf:   0%|          | 0.00/19.9k [00:00<?, ?B/s]"
      ]
     },
     "metadata": {},
     "output_type": "display_data"
    },
    {
     "data": {
      "application/json": {
       "ascii": false,
       "bar_format": null,
       "colour": null,
       "elapsed": 0.01046609878540039,
       "initial": 0,
       "n": 0,
       "ncols": null,
       "nrows": 24,
       "postfix": null,
       "prefix": "solo_L2_mag-rtn-normal-1-minute_20220209_V01.cdf",
       "rate": null,
       "total": 32115,
       "unit": "B",
       "unit_divisor": 1000,
       "unit_scale": true
      },
      "application/vnd.jupyter.widget-view+json": {
       "model_id": "",
       "version_major": 2,
       "version_minor": 0
      },
      "text/plain": [
       "solo_L2_mag-rtn-normal-1-minute_20220209_V01.cdf:   0%|          | 0.00/32.1k [00:00<?, ?B/s]"
      ]
     },
     "metadata": {},
     "output_type": "display_data"
    },
    {
     "data": {
      "application/json": {
       "ascii": false,
       "bar_format": null,
       "colour": null,
       "elapsed": 0.010876178741455078,
       "initial": 0,
       "n": 0,
       "ncols": null,
       "nrows": 24,
       "postfix": null,
       "prefix": "solo_L2_mag-rtn-normal-1-minute_20220208_V01.cdf",
       "rate": null,
       "total": 29751,
       "unit": "B",
       "unit_divisor": 1000,
       "unit_scale": true
      },
      "application/vnd.jupyter.widget-view+json": {
       "model_id": "",
       "version_major": 2,
       "version_minor": 0
      },
      "text/plain": [
       "solo_L2_mag-rtn-normal-1-minute_20220208_V01.cdf:   0%|          | 0.00/29.8k [00:00<?, ?B/s]"
      ]
     },
     "metadata": {},
     "output_type": "display_data"
    }
   ],
   "source": [
    "# Download files\n",
    "files = Fido.fetch(result)"
   ]
  },
  {
   "cell_type": "code",
   "execution_count": 4,
   "metadata": {},
   "outputs": [],
   "source": [
    "import cdflib\n",
    "import pandas as pd\n",
    "\n",
    "data = pd.DataFrame()\n",
    "\n",
    "for file in files:\n",
    "    temp_df = h.cdf2df(file)\n",
    "    data = pd.concat([data, temp_df])\n",
    "    data.sort_index(inplace=True)"
   ]
  },
  {
   "cell_type": "code",
   "execution_count": null,
   "metadata": {},
   "outputs": [],
   "source": []
  }
 ],
 "metadata": {
  "kernelspec": {
   "display_name": "Python 3 (ipykernel)",
   "language": "python",
   "name": "python3"
  },
  "language_info": {
   "codemirror_mode": {
    "name": "ipython",
    "version": 3
   },
   "file_extension": ".py",
   "mimetype": "text/x-python",
   "name": "python",
   "nbconvert_exporter": "python",
   "pygments_lexer": "ipython3",
   "version": "3.9.17"
  }
 },
 "nbformat": 4,
 "nbformat_minor": 4
}
