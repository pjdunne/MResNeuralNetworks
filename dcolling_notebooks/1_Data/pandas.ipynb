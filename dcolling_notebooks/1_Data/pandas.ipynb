{
 "cells": [
  {
   "cell_type": "markdown",
   "metadata": {},
   "source": [
    "# Pandas DataFrames\n",
    "\n",
    "Pandas is a Python library for data manipulation, analysis and display. Pandas is a very useful package and many things interface to it.  Pandas has two data formats the *Series* and the *DataFrame*. Being honest I (very) rarely use the series, but do use the data frame quite a lot. This is just a brief introduction to them.\n",
    "\n",
    "DataFrames are a tabular form are a bit like Excel spreadsheets (and you can read/write spreadsheets to/from pandas DataFrames). \n",
    "\n",
    "There are many online teaching materials for pandas for example the [w3resources]( https://www.w3resource.com/python-exercises/pandas/index.php) and so this is only to give you a taste.\n",
    "\n",
    "Lets create a simple DataFrame:\n",
    "\n"
   ]
  },
  {
   "cell_type": "code",
   "execution_count": null,
   "metadata": {},
   "outputs": [],
   "source": [
    "import pandas as pd\n",
    "# set data as dictionary structure\n",
    "data={'Name':[\"Rex\",\"Bruno\",\"Biffa\",\"Queeny\",\"Sheiba\",\"Crusoe\"],\n",
    "     'Breed':[\"bulldog\",\"labrador\",\"doberman\",\"poodle\",\"labrador\",\"scotty\"],\n",
    "     'Age':[2,4,12,0.5,10,7]}\n",
    "\n",
    "dogs=pd.DataFrame(data)\n",
    "\n",
    "display(dogs)\n",
    "\n"
   ]
  },
  {
   "cell_type": "markdown",
   "metadata": {},
   "source": [
    "You should note that first column is an index and you can use this to display the ones that you want."
   ]
  },
  {
   "cell_type": "code",
   "execution_count": null,
   "metadata": {},
   "outputs": [],
   "source": [
    "display(dogs[2:4])"
   ]
  },
  {
   "cell_type": "markdown",
   "metadata": {},
   "source": [
    "If you like you can change this index to something more meaningful (not thatthis is a good example of this)"
   ]
  },
  {
   "cell_type": "code",
   "execution_count": null,
   "metadata": {},
   "outputs": [],
   "source": [
    "dogs=pd.DataFrame(data,index=[\"a\",\"b\",\"c\",\"d\",\"e\",\"f\"])\n",
    "display(dogs[\"b\":\"d\"])"
   ]
  },
  {
   "cell_type": "markdown",
   "metadata": {},
   "source": [
    "Note that in ths case it displays both the first and the last."
   ]
  },
  {
   "cell_type": "markdown",
   "metadata": {},
   "source": [
    "You insert a new column:"
   ]
  },
  {
   "cell_type": "code",
   "execution_count": null,
   "metadata": {},
   "outputs": [],
   "source": [
    "dogs[\"Length\"]=[50,100,105,85,100,80]\n",
    "display(dogs)"
   ]
  },
  {
   "cell_type": "markdown",
   "metadata": {},
   "source": [
    "You can select only entries with a given attribute ... say old dogs."
   ]
  },
  {
   "cell_type": "code",
   "execution_count": null,
   "metadata": {},
   "outputs": [],
   "source": [
    "display(dogs[dogs.Age > 6])"
   ]
  },
  {
   "cell_type": "markdown",
   "metadata": {},
   "source": [
    "You can even columns that are functions of other columns and pandas does this really quickly. "
   ]
  },
  {
   "cell_type": "code",
   "execution_count": null,
   "metadata": {},
   "outputs": [],
   "source": [
    "dogs[\"combination\"]=dogs.Age*dogs.Length\n",
    "display(dogs)"
   ]
  },
  {
   "cell_type": "markdown",
   "metadata": {},
   "source": [
    "You can calculate things like the correlation and covariance matrices"
   ]
  },
  {
   "cell_type": "code",
   "execution_count": null,
   "metadata": {},
   "outputs": [],
   "source": [
    "display(dogs.corr())\n",
    "display(dogs.cov())"
   ]
  },
  {
   "cell_type": "markdown",
   "metadata": {},
   "source": [
    "## Displaying data\n"
   ]
  },
  {
   "cell_type": "markdown",
   "metadata": {},
   "source": [
    "It is possible to display your DataFrame content quite easily"
   ]
  },
  {
   "cell_type": "code",
   "execution_count": null,
   "metadata": {},
   "outputs": [],
   "source": [
    "import numpy as np\n",
    "import scipy as sp\n",
    "import pylab as pl\n",
    "\n",
    "histogram=dogs.hist()\n"
   ]
  },
  {
   "cell_type": "code",
   "execution_count": null,
   "metadata": {},
   "outputs": [],
   "source": [
    "h1=dogs.hist(column=\"Length\")"
   ]
  },
  {
   "cell_type": "code",
   "execution_count": null,
   "metadata": {},
   "outputs": [],
   "source": [
    "dogs[dogs.Age>6].hist(column=\"Length\")"
   ]
  },
  {
   "cell_type": "markdown",
   "metadata": {},
   "source": [
    "One particularly useful way is as a scatter plot"
   ]
  },
  {
   "cell_type": "code",
   "execution_count": null,
   "metadata": {},
   "outputs": [],
   "source": [
    "dogs.plot(kind=\"scatter\",x=\"Age\",y=\"Length\")\n",
    "#dogs.plot(kind=\"scatter\",x=\"Age\",y=\"Length\",alpha=0.05) if you have larger numbers then having a value for alpha can make it easier to see."
   ]
  },
  {
   "cell_type": "code",
   "execution_count": null,
   "metadata": {},
   "outputs": [],
   "source": [
    "import pandas.plotting as pdp\n",
    "pdp.scatter_matrix(dogs)"
   ]
  },
  {
   "cell_type": "code",
   "execution_count": null,
   "metadata": {},
   "outputs": [],
   "source": [
    "pdp.scatter_matrix(dogs[dogs.Age>6])"
   ]
  },
  {
   "cell_type": "markdown",
   "metadata": {},
   "source": [
    "## Exercise\n",
    "\n",
    "The purpose of this exercise is to get you to play around with pandas DataFrame and to consolidate the knowledge that you already have. \n",
    "\n",
    "* Generate 5 samples 100,000 correlated (you can choose whatever covariance matrix that you like) random numbers distributed according to Gaussian distributions. \n",
    "\n",
    "* Read these into a DataFrame\n",
    "\n",
    "* Creat a 6 column in your DataFrame that the second column plus the 4th column\n",
    "\n",
    "* Verify that the covariance (and correlation) matrices are what you would expect \n",
    "\n",
    "* Display your data"
   ]
  },
  {
   "cell_type": "markdown",
   "metadata": {},
   "source": [
    "## Reading data from files\n",
    "\n",
    "You can read data from all sorts of files (csv, excel, ...). Sometimes (especially with csv) you have to be careful with the separator"
   ]
  },
  {
   "cell_type": "code",
   "execution_count": null,
   "metadata": {},
   "outputs": [],
   "source": [
    "students=pd.read_excel(r'student-por.xlsx')"
   ]
  },
  {
   "cell_type": "code",
   "execution_count": null,
   "metadata": {},
   "outputs": [],
   "source": [
    "display(students)"
   ]
  },
  {
   "cell_type": "markdown",
   "metadata": {},
   "source": [
    "## Exercise \n",
    "\n",
    "These data are taken from [UCI Machine Learning Repository](https://archive.ics.uci.edu/ml/datasets/Student+Performance#)\n",
    "\n",
    "Read the description of student data, read in the data set. Then work together as a group to analyse these data. What are the most important factors that determine a students scores? What are the least important? What other correlations do you see here (look at hings that aren't simply numerical as well as those that are). "
   ]
  },
  {
   "cell_type": "code",
   "execution_count": null,
   "metadata": {},
   "outputs": [],
   "source": []
  }
 ],
 "metadata": {
  "kernelspec": {
   "display_name": "Python 3",
   "language": "python",
   "name": "python3"
  },
  "language_info": {
   "codemirror_mode": {
    "name": "ipython",
    "version": 3
   },
   "file_extension": ".py",
   "mimetype": "text/x-python",
   "name": "python",
   "nbconvert_exporter": "python",
   "pygments_lexer": "ipython3",
   "version": "3.9.7"
  }
 },
 "nbformat": 4,
 "nbformat_minor": 4
}
