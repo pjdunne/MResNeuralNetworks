{
 "cells": [
  {
   "cell_type": "markdown",
   "metadata": {},
   "source": [
    "# Week X - Pandas DataFrames"
   ]
  },
  {
   "cell_type": "markdown",
   "metadata": {},
   "source": [
    "<hr style=\"border:2px solid gray\">\n",
    "\n",
    "# Index: <a id='index'></a>\n",
    "1. [Introduction to Pandas](#pandas)\n",
    "1. [Creating a DataFrame](#create)\n",
    "1. [Manipulating DataFrames](#manipulate)\n",
    "1. [Displaying Data](#display)\n",
    "1. [Reading Data from Files](#files)\n",
    "1. [Worked Example](#worked)"
   ]
  },
  {
   "cell_type": "code",
   "execution_count": null,
   "metadata": {},
   "outputs": [],
   "source": []
  },
  {
   "cell_type": "markdown",
   "metadata": {},
   "source": [
    "<hr style=\"border:2px solid gray\">\n",
    "\n",
    "# Section One: Introduction to Pandas  [^](#index) <a id='pandas'></a>\n",
    "\n",
    "**Pandas** is a Python library for data manipulation, analysis and display. Pandas has two data formats: the **Series** and the **DataFrame**, however it is the DataFrame that is most commonly used and thus what we will focus on today.\n",
    "\n",
    "DataFrames are a tabular data structure, a bit like Excel spreadsheets (and you can read and write spreadsheets to and from pandas DataFrames). \n",
    "\n",
    "There are many online resources for pandas to inprove your fluency, such as [w3schools](https://www.w3schools.com/python/pandas/pandas_dataframes.asp). This worksheet aims to give a simple and brief overview."
   ]
  },
  {
   "cell_type": "markdown",
   "metadata": {},
   "source": [
    "<hr style=\"border:2px solid gray\">\n",
    "\n",
    "## Section Two: Creating a DataFrame  [^](#index) <a id='create'></a>\n",
    "\n",
    "A DataFrame is a 2D data structure that is composed of the following components:\n",
    "- The data\n",
    "- The index - This is the row number of the DataFrame\n",
    "- The columns - These are labelled with headers\n",
    "\n",
    "The information at the 'top' of the DataFrame contains are known as **headers**. These allow you to access your data without needing to use indices. The cell below shows two equivalent ways to create a DataFrame."
   ]
  },
  {
   "cell_type": "code",
   "execution_count": null,
   "metadata": {},
   "outputs": [],
   "source": [
    "import pandas as pd\n",
    "\n",
    "# Method 1: Set data as dictionary structure. Data formatted in columns\n",
    "\n",
    "data={'Name':[\"Rex\",\"Bruno\",\"Biffa\",\"Queeny\", \"Bob\"],\n",
    "     'Breed':[\"bulldog\",\"labrador\",\"doberman\",\"poodle\", \"pug\"],\n",
    "     'Age':[2,4,12,0.5, 7]}\n",
    "\n",
    "dogs=pd.DataFrame(data)\n",
    "\n",
    "display(dogs)\n",
    "\n",
    "# Method 2: Splitting Headers and data. Data formatted in rows\n",
    "\n",
    "d=[[\"Rex\",\"bulldog\",2],\n",
    "    [\"Bruno\",\"labrador\",4],\n",
    "    [\"Biffa\", \"doberman\", 12],\n",
    "    [\"Queeny\",\"poodle\", 0.5],\n",
    "    [\"Bob\", \"pug\", 7]]\n",
    "\n",
    "Headers=['Name', 'Breed', 'Age']\n",
    "\n",
    "dogs2=pd.DataFrame(data=d,columns=Headers)\n",
    "\n",
    "display(dogs2)"
   ]
  },
  {
   "cell_type": "markdown",
   "metadata": {},
   "source": [
    "The first column is the **index**, and you can be used to specify which rows of data you want to display. \n",
    "\n",
    "Using ```display``` rather than ```print``` results in nicer formatting."
   ]
  },
  {
   "cell_type": "code",
   "execution_count": null,
   "metadata": {},
   "outputs": [],
   "source": [
    "display(dogs[2:4])\n",
    "print(dogs[2:4])\n",
    "print ()\n",
    "print(type(dogs[2:4]))"
   ]
  },
  {
   "cell_type": "markdown",
   "metadata": {},
   "source": [
    "An alternative way to access a row of data is through the `df.loc` method (loc stands for location), where df is replaced by th DataFrame of interest. Note that in the first example, the printed data is stored in a pandas Series."
   ]
  },
  {
   "cell_type": "code",
   "execution_count": null,
   "metadata": {
    "scrolled": true
   },
   "outputs": [],
   "source": [
    "display(dogs.loc[0]) \n",
    "print()\n",
    "print(type(dogs.loc[0]))\n",
    "print()\n",
    "display(dogs.loc[[0,1]]) \n",
    "print()\n",
    "print(type(dogs.loc[[0,1]]))"
   ]
  },
  {
   "cell_type": "markdown",
   "metadata": {},
   "source": [
    "We can use the names of the headers to display particular columns. If the name is a simple string, we can use the `df.header` method, else we can use square brackets."
   ]
  },
  {
   "cell_type": "code",
   "execution_count": null,
   "metadata": {},
   "outputs": [],
   "source": [
    "display(dogs.Name)\n",
    "display(dogs[['Breed', 'Age']])"
   ]
  },
  {
   "cell_type": "markdown",
   "metadata": {},
   "source": [
    "It is possible to change the index to something more relevant, although our example DataFrame does not lend itself well to this.\n",
    "\n",
    "Note that in this example, the data is displayed up to and including 'b' and 'd' (unlike in the celle above, where only two rows were displayed).\n",
    "\n",
    "We can also use loc to access a particular row based on the index. If we want to access a row based on its position (such as how the data was indexed before), we can use the `iloc` argument. This stands for **integer location**."
   ]
  },
  {
   "cell_type": "code",
   "execution_count": null,
   "metadata": {},
   "outputs": [],
   "source": [
    "dogs=pd.DataFrame(data,index=[\"a\",\"b\",\"c\",\"d\", \"e\"])\n",
    "display(dogs[\"b\":\"d\"]) \n",
    "display(dogs.loc[\"b\":\"d\"])\n",
    "display(dogs.iloc[2:4]) # Does not include index 4 row\n"
   ]
  },
  {
   "cell_type": "markdown",
   "metadata": {},
   "source": [
    "To insert a new column into the DataFrame, simply perform:"
   ]
  },
  {
   "cell_type": "code",
   "execution_count": null,
   "metadata": {},
   "outputs": [],
   "source": [
    "dogs[\"Length\"]=[50,100,105,85, 40]\n",
    "display(dogs)"
   ]
  },
  {
   "cell_type": "markdown",
   "metadata": {},
   "source": [
    "You can even create columns that are functions of other columns. Pandas performs this very quickly. "
   ]
  },
  {
   "cell_type": "code",
   "execution_count": null,
   "metadata": {},
   "outputs": [],
   "source": [
    "dogs[\"combination\"]=dogs.Age*dogs.Length\n",
    "display(dogs)"
   ]
  },
  {
   "cell_type": "markdown",
   "metadata": {},
   "source": [
    "<hr style=\"border:2px solid gray\">\n",
    "\n",
    "# Section Three: Manipulating DataFrames  [^](#index) <a id='manipulate'></a>"
   ]
  },
  {
   "cell_type": "markdown",
   "metadata": {},
   "source": [
    "### Filtering DataFrames\n",
    "Here we are choosing to display all dogs above a given age."
   ]
  },
  {
   "cell_type": "code",
   "execution_count": null,
   "metadata": {},
   "outputs": [],
   "source": [
    "display(dogs[dogs.Age > 6])"
   ]
  },
  {
   "cell_type": "markdown",
   "metadata": {},
   "source": [
    "### Statistical Analysis\n",
    "You can calculate things like the correlation and covariance matrices. Note that the keyword 'numeric_only' will only work if you are running pandas 1.5.0 or higher"
   ]
  },
  {
   "cell_type": "code",
   "execution_count": null,
   "metadata": {},
   "outputs": [],
   "source": [
    "display(dogs.corr(numeric_only = True))\n",
    "display(dogs.cov(numeric_only = True))"
   ]
  },
  {
   "cell_type": "markdown",
   "metadata": {},
   "source": [
    "<hr style=\"border:2px solid gray\">\n",
    "\n",
    "# Section Four: Displaying Data  [^](#index) <a id='display'></a>\n"
   ]
  },
  {
   "cell_type": "markdown",
   "metadata": {},
   "source": [
    "It is possible to display your DataFrame content quite easily. Here we will cover a few common examples.\n",
    "\n",
    "### Basic plotting\n",
    "\n",
    "Two display a basic plot of our data, we can use:\n",
    "```python\n",
    "df['column name'].plot()\n",
    "```\n",
    "\n",
    "or:\n",
    "\n",
    "```python\n",
    "df.plot('x column name','y column name')\n",
    "```\n",
    "Wee only need to reference the name of the column, we don't need to know its index. For the first method we didn't set an x-axis; with that plotting nomenclature Pandas will use whatever the index is as an x-axis. \n",
    "\n",
    "<div style=\"background-color:#C2F5DD\">\n",
    "\n",
    "## Exercise\n",
    "Experiment with these methods of data plotting using our 'dogs' DataFrame.\n"
   ]
  },
  {
   "cell_type": "code",
   "execution_count": null,
   "metadata": {},
   "outputs": [],
   "source": []
  },
  {
   "cell_type": "markdown",
   "metadata": {},
   "source": [
    "Other useful data visualisation:\n",
    "### Histograms"
   ]
  },
  {
   "cell_type": "code",
   "execution_count": null,
   "metadata": {},
   "outputs": [],
   "source": [
    "import numpy as np\n",
    "import scipy as sp\n",
    "import pylab as pl\n",
    "\n",
    "histogram=dogs.hist()"
   ]
  },
  {
   "cell_type": "code",
   "execution_count": null,
   "metadata": {},
   "outputs": [],
   "source": [
    "dogs['Length'].plot()\n",
    "pl.show()"
   ]
  },
  {
   "cell_type": "code",
   "execution_count": null,
   "metadata": {},
   "outputs": [],
   "source": [
    "h1=dogs.hist(column=\"Length\")"
   ]
  },
  {
   "cell_type": "code",
   "execution_count": null,
   "metadata": {},
   "outputs": [],
   "source": [
    "dogs[dogs.Age>6].hist(column=\"Length\")\n",
    "pl.show()"
   ]
  },
  {
   "cell_type": "markdown",
   "metadata": {},
   "source": [
    "### Scatter Plots"
   ]
  },
  {
   "cell_type": "code",
   "execution_count": null,
   "metadata": {},
   "outputs": [],
   "source": [
    "dogs.plot(kind=\"scatter\",x=\"Age\",y=\"Length\",alpha=1) \n",
    "pl.show()\n",
    "\n",
    "#alpha controls the opacity of data points. \n",
    "#For larger amounts of data, setting alpha to a lower value can make the plot easier to interpret"
   ]
  },
  {
   "cell_type": "markdown",
   "metadata": {},
   "source": [
    "A **scatter_matrix** displays all possible combinations of the scatter plots, as well as the various histograms. Run the cell below to see what this looks like for our data. Just like with any pandas plot, this can also be filtered."
   ]
  },
  {
   "cell_type": "code",
   "execution_count": null,
   "metadata": {},
   "outputs": [],
   "source": [
    "import pandas.plotting as pdp\n",
    "pdp.scatter_matrix(dogs)\n",
    "pl.show()"
   ]
  },
  {
   "cell_type": "code",
   "execution_count": null,
   "metadata": {},
   "outputs": [],
   "source": [
    "pdp.scatter_matrix(dogs[dogs.Age>3])\n",
    "pl.show()"
   ]
  },
  {
   "cell_type": "markdown",
   "metadata": {},
   "source": [
    "Further example of plots can be found [here](https://pandas.pydata.org/docs/user_guide/visualization.html)\n",
    "\n",
    "<div style=\"background-color:#C2F5DD\">\n",
    "\n",
    "### Exercise\n",
    "\n",
    "The purpose of this exercise is to get you to play around with pandas DataFrame and to consolidate the knowledge that you already have. \n",
    "\n",
    "* Generate 5 samples with 100,000 correlated random numbers distributed according to Gaussian distributions (you can choose whatever covariance matrix that you like). See worksheet [] if you require a refresher.\n",
    "\n",
    "* Read these into a DataFrame\n",
    "\n",
    "* Create a 6th column in your DataFrame: the values should be the second column plus the fourth column\n",
    "\n",
    "* Verify that the covariance (and correlation) matrices are what you would expect \n",
    "\n",
    "* Display your data"
   ]
  },
  {
   "cell_type": "code",
   "execution_count": null,
   "metadata": {},
   "outputs": [],
   "source": []
  },
  {
   "cell_type": "markdown",
   "metadata": {},
   "source": [
    "<hr style=\"border:2px solid gray\">\n",
    "\n",
    "# Section Five: Reading Data from Files  [^](#index) <a id='files'></a>\n",
    "\n",
    "You can read data from all sorts of files (csv, excel, etc) into a DataFrames. Sometimes, especially with a csv file, you have to be careful with the separator."
   ]
  },
  {
   "cell_type": "code",
   "execution_count": null,
   "metadata": {},
   "outputs": [],
   "source": [
    "file_path= r'data_1_DC/'\n",
    "students=pd.read_excel(file_path + r'student-por.xlsx')\n",
    "#'r' refers to raw string, it is required to read in the file with no bugs"
   ]
  },
  {
   "cell_type": "code",
   "execution_count": null,
   "metadata": {},
   "outputs": [],
   "source": [
    "display(students)"
   ]
  },
  {
   "cell_type": "markdown",
   "metadata": {},
   "source": [
    "This will display a lot of information. We can reduce this display and make the data easier to interpret at a glance using the `head()` and `tail()` methods. To get a top level summary of the data, we can use the `info()` method. For example:"
   ]
  },
  {
   "cell_type": "code",
   "execution_count": null,
   "metadata": {},
   "outputs": [],
   "source": [
    "display(students.head())\n",
    "\n",
    "print ('\\n And the summary of the data: \\n')\n",
    "\n",
    "display(students.info())"
   ]
  },
  {
   "cell_type": "markdown",
   "metadata": {},
   "source": [
    "## Worked Example [^](#index)  <a id='worked'></a>\n",
    "\n",
    "Below we will work through an example, working with a larger dataset. In this case, we are looking at different characteristics of concrete, using the file: concrete_data.csv"
   ]
  },
  {
   "cell_type": "code",
   "execution_count": null,
   "metadata": {},
   "outputs": [],
   "source": [
    "import pandas as pd"
   ]
  },
  {
   "cell_type": "markdown",
   "metadata": {},
   "source": [
    "Firstly, we read in the data, and inspect the first and final 5 rows."
   ]
  },
  {
   "cell_type": "code",
   "execution_count": null,
   "metadata": {},
   "outputs": [],
   "source": [
    "concrete = pd.read_csv('concrete_data.csv')\n",
    "concrete"
   ]
  },
  {
   "cell_type": "markdown",
   "metadata": {},
   "source": [
    "Often we will have to deal with missing data, also known as null values. Missing values show up as NaN in our DataFrame, which stands for \"not a number\". We can check whether any of our columns have missing data using the `isnull()` method and the `any()` method. Below, we firstly perform `isnan()` on our dataset which turns every entry in the DataFrame to a boolean: `True` if the entry is \"NaN\""
   ]
  },
  {
   "cell_type": "code",
   "execution_count": null,
   "metadata": {},
   "outputs": [],
   "source": [
    "import numpy as np"
   ]
  },
  {
   "cell_type": "code",
   "execution_count": null,
   "metadata": {},
   "outputs": [],
   "source": [
    "concrete.isnull().any()"
   ]
  },
  {
   "cell_type": "markdown",
   "metadata": {},
   "source": [
    "<div style=\"background-color:#C2F5DD\">\n",
    "\n",
    "## Quick Exercise\n",
    "\n",
    "Luckily, we can see that our dataset does not have any null values. For the sake of practice, we will insert some into the DataFrame.\n",
    "\n",
    "Use the `np.nan` object to set a few of the entries in `concrete` to NaN and run `concrete.isnull.any()` again to inspect.\n",
    "Then, read the documentation on the `pd.DataFrame.dropna()` method, and remove the rows containing a null datapoints."
   ]
  },
  {
   "cell_type": "code",
   "execution_count": null,
   "metadata": {},
   "outputs": [],
   "source": []
  },
  {
   "cell_type": "code",
   "execution_count": null,
   "metadata": {},
   "outputs": [],
   "source": []
  },
  {
   "cell_type": "markdown",
   "metadata": {},
   "source": [
    "We see that instances of data have a 'Fly Ash' value of zero. Let's say we only want cement with a non-zero value for 'Fly Ash':"
   ]
  },
  {
   "cell_type": "code",
   "execution_count": null,
   "metadata": {},
   "outputs": [],
   "source": [
    "concrete[concrete['Fly Ash']==0].shape"
   ]
  },
  {
   "cell_type": "markdown",
   "metadata": {},
   "source": [
    "So we see that 566 rows have a value of 0 for 'Fly Ash'. Let's now get rid of these rows."
   ]
  },
  {
   "cell_type": "code",
   "execution_count": null,
   "metadata": {},
   "outputs": [],
   "source": [
    "concrete = concrete[concrete['Fly Ash']>0]\n",
    "concrete"
   ]
  },
  {
   "cell_type": "markdown",
   "metadata": {},
   "source": [
    "If we weren't worried about the age of the concrete, we could drop the age column, like so:"
   ]
  },
  {
   "cell_type": "code",
   "execution_count": null,
   "metadata": {},
   "outputs": [],
   "source": [
    "concrete = concrete.drop(columns='Age')"
   ]
  },
  {
   "cell_type": "markdown",
   "metadata": {},
   "source": [
    "We can get a fairly comprehensive summary of our data using the `describe()` method."
   ]
  },
  {
   "cell_type": "code",
   "execution_count": null,
   "metadata": {},
   "outputs": [],
   "source": [
    "concrete.describe()"
   ]
  },
  {
   "cell_type": "markdown",
   "metadata": {},
   "source": [
    "We see that each feature of the data has different mean and standard deviation. Many machine learning algorithms you will use require data to be standardized - with a mean of 0 and variance (and hence standard deviation) of 1. So we'll do this below."
   ]
  },
  {
   "cell_type": "code",
   "execution_count": null,
   "metadata": {
    "scrolled": false
   },
   "outputs": [],
   "source": [
    "for column in concrete.columns:\n",
    "    concrete[column] = (concrete[column] -\n",
    "                           concrete[column].mean()) / concrete[column].std()\n",
    "concrete"
   ]
  },
  {
   "cell_type": "markdown",
   "metadata": {},
   "source": [
    "<div style=\"background-color:#C2F5DD\">\n",
    "\n",
    "## Quick exercise\n",
    "\n",
    "Using the `to_csv` method, export the preprocessed data as a csv."
   ]
  },
  {
   "cell_type": "markdown",
   "metadata": {},
   "source": [
    "Finally, say we want to use our data to build a regression model, to predict the strength of a piece of concrete, given its characteristics. We can split our data into 'predictors' and 'outcomes'."
   ]
  },
  {
   "cell_type": "code",
   "execution_count": null,
   "metadata": {},
   "outputs": [],
   "source": [
    "predictors = concrete.drop(columns='Strength')\n",
    "outcomes = concrete['Strength']"
   ]
  },
  {
   "cell_type": "code",
   "execution_count": null,
   "metadata": {},
   "outputs": [],
   "source": [
    "predictors.head()"
   ]
  },
  {
   "cell_type": "code",
   "execution_count": null,
   "metadata": {},
   "outputs": [],
   "source": [
    "outcomes.head()"
   ]
  },
  {
   "cell_type": "markdown",
   "metadata": {},
   "source": [
    "<div style=\"background-color:#C2F5DD\">\n",
    "\n",
    "## Exercise \n",
    "\n",
    "These data are taken from [UCI Machine Learning Repository](https://archive.ics.uci.edu/ml/datasets/Student+Performance#)\n",
    "\n",
    "Read the description of student data and then read in the data set to analyse this data. What are the most important factors that determine a student's scores? What are the least important? What other correlations do you see here (look at data values that aren't simply numerical as well as those that are). "
   ]
  },
  {
   "cell_type": "code",
   "execution_count": null,
   "metadata": {},
   "outputs": [],
   "source": []
  }
 ],
 "metadata": {
  "kernelspec": {
   "display_name": "Python 3 (ipykernel)",
   "language": "python",
   "name": "python3"
  },
  "language_info": {
   "codemirror_mode": {
    "name": "ipython",
    "version": 3
   },
   "file_extension": ".py",
   "mimetype": "text/x-python",
   "name": "python",
   "nbconvert_exporter": "python",
   "pygments_lexer": "ipython3",
   "version": "3.9.17"
  },
  "vscode": {
   "interpreter": {
    "hash": "9df1b77b0caf646f19509570eac5ef5a3592ebd6cb99175979cb74b7b24a8bf8"
   }
  }
 },
 "nbformat": 4,
 "nbformat_minor": 4
}
