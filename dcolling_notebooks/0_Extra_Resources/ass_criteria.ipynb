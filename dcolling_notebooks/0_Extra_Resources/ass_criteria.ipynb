{
 "cells": [
  {
   "cell_type": "markdown",
   "metadata": {},
   "source": [
    "## Assessment Criteria\n",
    "\n",
    "You will submit a jupyter-notebook that is both a record of your analysis (so that we can run your code to verify your findings) and a description of what you have found out. \n",
    "You have an overall mark out of 20 that will have two components (each out of 10). These are:\n",
    "\n",
    "### Technical achievement\n",
    "This will be a judge of: how well you have modelled the situation and the techiques that you have used, the quality of your code, how well you have analysed the data etc. More specifically:\n",
    "\n",
    "* Correct application of the algorithm (this will constitute 50% of the marks)\n",
    "\n",
    "* Coding standards e.g.\n",
    "> * Reuse of code\n",
    "> * Docstrings, comments etc\n",
    "\n",
    "* Using your knowledge to go further and try out different options to see if they are an improvement or not.\n",
    "\n",
    "### Communicating your results\n",
    "This will be a judge of: how well you have understood what you have seen, how well you have communicated your understanding (this includes clarity of explanation and presentational aspects of the plots) etc. Specifically what we are looking for is:\n",
    "\n",
    "* Evidence that you have thought about the problem not just turned the handle\n",
    "\n",
    "* Evidence that you have considered different options and the reasons why you have made the decisions that you did.\n",
    "\n",
    "* Presentation of conclusions\n",
    ">* Clarity and depth of explanation hence showing understanding of the problem.\n",
    ">* Quality of graphs (should be near publication quality) and general conclusion\n"
   ]
  },
  {
   "cell_type": "code",
   "execution_count": null,
   "metadata": {},
   "outputs": [],
   "source": []
  }
 ],
 "metadata": {
  "kernelspec": {
   "display_name": "Python 3 (ipykernel)",
   "language": "python",
   "name": "python3"
  },
  "language_info": {
   "codemirror_mode": {
    "name": "ipython",
    "version": 3
   },
   "file_extension": ".py",
   "mimetype": "text/x-python",
   "name": "python",
   "nbconvert_exporter": "python",
   "pygments_lexer": "ipython3",
   "version": "3.9.7"
  }
 },
 "nbformat": 4,
 "nbformat_minor": 4
}
