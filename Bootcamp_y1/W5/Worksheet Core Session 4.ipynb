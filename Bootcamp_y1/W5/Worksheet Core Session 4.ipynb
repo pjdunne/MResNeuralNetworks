{
 "cells": [
  {
   "cell_type": "markdown",
   "metadata": {},
   "source": [
    "# Session 4"
   ]
  },
  {
   "cell_type": "markdown",
   "metadata": {
    "collapsed": true
   },
   "source": [
    "## Index \n",
    "1. Intended learning outcomes\n",
    "2. Algorithms\n",
    "3. Roots of polynomials\n",
    "4. Numerical equation solving\n",
    "5. Optimisation\n",
    "6. Integration and differentiaton\n",
    "7. Optional: non-analytic integration and differentiation"
   ]
  },
  {
   "cell_type": "markdown",
   "metadata": {},
   "source": [
    "## 1. Intended learning outcomes<a id=\"outcomes\"></a>\n",
    "After this session, you should be able to:\n",
    "- use Python to find the roots of polynomials\n",
    "- solve equations numerically\n",
    "- be able to choose a sensible initial guess to achieve the desired computed solution to equations\n",
    "- find the location of the minimum of a function, including using a sensible initial guess\n",
    "- numerically integrate and differentiate functions"
   ]
  },
  {
   "cell_type": "markdown",
   "metadata": {},
   "source": [
    "### Note\n",
    "\n",
    "This session looks at some numerical analysis techniques that you can use to get the most out of your data. The field of numerical analysis is vast and cannot be contained within one worksheet. This session should therefore serve as a taster for what we consider the more valuable analysis tools that you will need for your future programming practice. The advanced worksheet will take you through the procedure to solve ordinary differential equations, and focusses on Physics examples such as solving the equation of motion for various scenarios. You can work through this session's advanced worksheet without having gone through the previous sessions' advanced worksheets."
   ]
  },
  {
   "cell_type": "markdown",
   "metadata": {},
   "source": [
    "## 2. Algorithms<a id=\"critical\"></a>\n",
    "\n",
    "### Note: The exercises in section 2 are merely meant to make you think about how to tackle problems. There are easier in-built Python solutions that will accomplish the same task.\n",
    "\n",
    "Before we move onto using the numerical analysis techniques already present in Python, we will first attempt to code up some common functionality already present. Although this may feel redundant, the thought process and code structure required to solve these issues are an invaluable learning task. This will also allow you to practise the concepts introduced in session 3."
   ]
  },
  {
   "cell_type": "markdown",
   "metadata": {},
   "source": [
    "<div style=\"background-color: #00FF00\">\n",
    "    \n",
    "**Exercise: One common matrix operation is to calculate its transpose. This works by replacing its row values with column values. Take the follow matrix:**\n",
    "\n",
    "\\begin{equation}\n",
    "\\begin{bmatrix}\n",
    "    1 & 2 & 3 \\\\\n",
    "    4 & 5 & 6 \\\\\n",
    "    7 & 8 & 9\n",
    "\\end{bmatrix}\n",
    "\\end{equation}\n",
    "\n",
    "**And calculate its transpose.**"
   ]
  },
  {
   "cell_type": "markdown",
   "metadata": {},
   "source": [
    "<div style=\"background-color: #00FF00\">\n",
    "    \n",
    "**Exercise: One common function of a Python list is the sort command, which takes an unordered sequence of numbers and returns an ordered list like:** \n",
    "\n",
    "$$ list1=[2,4,3,6,8,7,9,5] --> list2=[2,3,4,5,6,7,8,9] $$\n",
    "\n",
    "**Take list1 and write an algorithm that will return the ordered list2. This is a non-trivial task and there are multiple ways that the problem can be attempted**\n",
    "\n",
    "**Hint: Ordering the list will involve comparing values, so a double for loop will be required. To start with, write a single loop that will go through the list and identify which elements need to be swapped. Remember, you can assign multiple variables in a single line of python with code like:**\n",
    "\n",
    "$$b,a=a,b$$\n",
    "\n",
    "**This will swap the values of b and a.**"
   ]
  },
  {
   "cell_type": "markdown",
   "metadata": {},
   "source": [
    "## 3. Roots of polynomials<a id=\"polynomials\"></a>\n",
    "In session 2 we worked with polynomial functions to fit data. In numerical modelling, we can encounter problems where we will need to solve polynomials. To this end, Numpy includes the function <span style=\"color:blue\">roots()</span> which finds solutions to polynomials very quickly. The only calling argument for <span style=\"color:blue\">roots()</span> is an array containing the coefficient in front of each polynomial term; e.g. array $P$ where the array elements represent the following:\n",
    "\n",
    "$$ f(x) = P[3] + P[2]x + P[1]x^2 + P[0]x^3$$\n",
    "\n",
    "The function uses the size of the list to know what order of polynomial you are using. The output is an array with the solutions.\n",
    "\n",
    "Below is an example to solve $x^2-2=0$:"
   ]
  },
  {
   "cell_type": "code",
   "execution_count": 3,
   "metadata": {},
   "outputs": [],
   "source": [
    "import numpy as np\n",
    "import matplotlib.pyplot as plt # For later use"
   ]
  },
  {
   "cell_type": "code",
   "execution_count": null,
   "metadata": {},
   "outputs": [],
   "source": [
    "a=[1,0,-2]\n",
    "result = np.roots(a)\n",
    "print(result)"
   ]
  },
  {
   "cell_type": "markdown",
   "metadata": {},
   "source": [
    "<div style=\"background-color: #00FF00\">\n",
    "    \n",
    "**Exercise 1: Find the roots of $2x^5+3x^2=1$. Check that the roots are valid solutions (i.e. the value of the polynomial is zero at these points). Can you plot the poynomial and include an <span style=\"color:blue\">if</span> statement that checks whether each solution is real, and if so overplot that solution on your graph? For this, the NumPy function <span style=\"color:blue\">isreal()</span> is useful to determine if a number is real or complex.**\n",
    "\n",
    "**Hint: the NumPy function <span style=\"color:blue\">polyval()</span> calculates the y-values of a polynomial with given coefficients and x-values - this can be helpful to check if the solutions are valid**.\n",
    "\n"
   ]
  },
  {
   "cell_type": "markdown",
   "metadata": {},
   "source": [
    "Note that the lab script for this session no longer includes empty run cells for you to insert your code. We recommend that you use the Spyder IDE to write your code, so you can get used to using the Spyder environment routinely. Of course you can still add code cells to your lab script to try out snippets of code or to help you create a narrative for later reference."
   ]
  },
  {
   "cell_type": "markdown",
   "metadata": {},
   "source": [
    "<div style=\"background-color: #FFF8C6\">\n",
    "Below is a more complicated example for you to attempt.\n",
    "<p>\n",
    "    \n",
    "**Exercise: use a random number generator to generate a 50th-order polynomial with integer coefficients between -5 and 5. Find the roots, print all valid solutions, and indicate them on a plot of the polynomial.**"
   ]
  },
  {
   "cell_type": "markdown",
   "metadata": {},
   "source": [
    "## 4. Numerical equation solving<a id=\"solving\"></a>\n",
    "There are some equations which you cannot solve analytically. These include so called transcendental equations such as $x=\\cos{x}$. Fortunately there are graphical and numerical approaches to solving such equations.\n",
    "\n",
    "<div style=\"background-color: #00FF00\">\n",
    "    \n",
    "**Exercise 2: Create a plot of $f_1(x) = x$ and $f_2(x) = \\cos{x}$ in the same graph. Repeatedly zoom in on the intersection point of the two functions to find an approximate solution to $x=\\cos{x}$ to 5 significant figures. You can do this by setting the axes limits using the matplotlib functions <span style=\"color:blue\">xlim()</span> and <span style=\"color:blue\">ylim()</span>. What limits the resolution of your solution?**"
   ]
  },
  {
   "cell_type": "markdown",
   "metadata": {},
   "source": [
    "There are various methods for solving equations numerically. Often these methods require you to make an initial guess as to what the solution of the equation might be. They then iterate to a better solution. One very famous method for iteratively solving equations is the Newton-Raphson method which dates back to the 17th century. This uses the value and gradient of the function at the current guess to generate an improved estimate of where a function crosses the x-axis. This is shown in the animation below:\n",
    "\n",
    "![NewtonIteration_Animation](https://cclewley.github.io/ComputingYr1/Images4/NewtonIteration_Animation.gif)\n",
    "\n",
    "(Image from Wikipedia (which is why the labels are in German): <http://en.wikipedia.org/wiki/File:NewtonIteration_Ani.gif>) [downloaded September 2017].\n",
    "\n",
    "At each iteration, the estimate of the solution, $x_n$ is replace by $x_{n+1}=x_n - \\frac{f(x=x_n)}{f'(x=x_n)}$.\n",
    "\n",
    "Below you can find an example block of code that solves $x=\\cos{x}$ iteratively using this method. Note that in this case, the function needs to be defined as $f(x) = x - \\cos{x}$ so that we can use the Newton-Raphson method to find $x - \\cos{x} = 0$."
   ]
  },
  {
   "cell_type": "code",
   "execution_count": null,
   "metadata": {},
   "outputs": [],
   "source": [
    "# Function that calculates the new estimate for x of intersection point\n",
    "def update(x):\n",
    "    return  x - ((np.cos(x)-x)/(-np.sin(x)-1))# Note that the derivative of cos(x) - x is -sin(x) - 1\n",
    "\n",
    "x=0.5 # First guess of x-coordinate of intersection point\n",
    "dx=x # dx is the change in x at each iteration. dx = x is the starting condition.\n",
    "\n",
    "# Stop the while loop when dx is sufficiently small (i.e. accuracy of solution is sufficiently high)\n",
    "while dx > 0.000000001 :\n",
    "    xnew = update(x)# next estimate for x\n",
    "    dx   = np.absolute(x-xnew)# the change in x\n",
    "    x    = xnew # update x to the new estimate for x\n",
    "    \n",
    "print(x)# the solution of the x of the intersection point\n",
    "print(np.cos(x)-x)# this should be zero if the solution is correct"
   ]
  },
  {
   "cell_type": "markdown",
   "metadata": {},
   "source": [
    "<div style=\"background-color: #00FF00\">\n",
    "\n",
    "**Exercise 3: Run the code above and pay attention to how quickly it converges. Now amend the code to show how many iterations the algorithm needs to find the solution. How robust is this algorithm (i.e. if you start it a long way from the solution does it still find the correct solution)?**"
   ]
  },
  {
   "cell_type": "markdown",
   "metadata": {},
   "source": [
    "Note that creating our own iterative programme for the example above was quite easy as we could differentiate the function $f(x) = x - \\cos{x}$ analytically. For more complicated examples, SciPy’s optimize package has several equation solvers, including one called <span style=\"color:blue\">newton()</span> which uses the Newton-Raphson method. You can choose which algorithm to use for a particular problem, however initially, you are probably best advised to stick to the default equation solver called <span style=\"color:blue\">fsolve()</span> which will be adequate for many problems.\n",
    "\n",
    "<div style=\"background-color: #00FF00\">\n",
    "    \n",
    "**Exercise 4: In the cell below is a simple example, which solves $-x^2+1 = 0$. Note that you are required to give an initial guess. Run this code and see how the answer changes with the initial guess. What happens if you try an initial guess of 0 and why?**"
   ]
  },
  {
   "cell_type": "code",
   "execution_count": null,
   "metadata": {},
   "outputs": [],
   "source": [
    "import scipy.optimize as op\n",
    "\n",
    "#Our function to solve f(x) = 0\n",
    "def func(x):\n",
    "  return -x**2+1\n",
    "\n",
    "initial_guess=0.5\n",
    "\n",
    "# solve the function\n",
    "solution = op.fsolve(func,initial_guess)\n",
    "print(solution)\n",
    "\n",
    "#now plot the curves to be sure\n",
    "x=np.arange(-10,10,0.01)\n",
    "y=func(x)\n",
    "\n",
    "plt.plot(x,y)\n",
    "plt.plot(solution,func(solution),'o')# Overplot the solution found\n",
    "plt.grid()\n",
    "plt.xlabel('x')\n",
    "plt.ylabel('f(x)')\n",
    "plt.show()"
   ]
  },
  {
   "cell_type": "markdown",
   "metadata": {},
   "source": [
    "<div style=\"background-color: #FFF8C6\">\n",
    "    \n",
    "### Solving functions of multiple variables\n",
    "The function <span style=\"color:blue\">fsolve()</span> can be used to solve sets of non-linear equations with multiple variables. So for example if you wished to solve the set of equations:</b>\n",
    "\n",
    "$$x+y=y\\cos{y} \\\\ x^2+y^2=3$$\n",
    "\n",
    "you can do so with the script below:"
   ]
  },
  {
   "cell_type": "code",
   "execution_count": null,
   "metadata": {},
   "outputs": [],
   "source": [
    "# Define the function - note that there are now 2 variables, given in 1 array argument\n",
    "def two_equations(variables):\n",
    "    #print(variables)# If you print variables, you will see which values the algorithm tries for x and y\n",
    "    x,y = variables[0],variables[1]\n",
    "    output = [x+y-y*np.cos(y),x*x+y*y-3]# The function returns an array: 1 element per equation\n",
    "    return output\n",
    "\n",
    "initial_guess=[1,2]\n",
    "\n",
    "solution = op.fsolve(two_equations,initial_guess)\n",
    "print(\"Solution:\", solution)\n",
    "print(\"Checking the solution:\", two_equations(solution))\n"
   ]
  },
  {
   "cell_type": "markdown",
   "metadata": {},
   "source": [
    "<div style=\"background-color: #FFF8C6\">\n",
    "By printing the output of the function when called with the numerical solution you can see how close the numerical solution actually is to the true solution. If you uncomment the print statement in the function you can see how quickly the algorithm converges.\n",
    "<p>\n",
    "It is important to understand if the solution makes sense and if it is the only solution. The first solution to which <span style=\"color:blue\">fsolve()</span> iterates may be mathematically sound but might not be the solution that represents the physical situation you are modelling. Often graphing the solution can help (especially if you are only working in 2 variables). Below is a graph showing the two functions that we have been looking at and you can see that the solution found is only one of two possible solutions. \n",
    "\n",
    "![simultaneous_equations](https://cclewley.github.io/ComputingYr1/Images4/simultaneous_equations.png)\n",
    "<p>\n",
    "    \n",
    "**Exercise: can you alter the example code above to find the other solution?**"
   ]
  },
  {
   "cell_type": "markdown",
   "metadata": {},
   "source": [
    "<div style=\"background-color: #FFF8C6\">\n",
    "    \n",
    "**Exercise: use <span style=\"color:blue\">fsolve()</span> to solve the simultaneous equations:**\n",
    "\n",
    "$$e^{-x}-y=0 \\\\ \\sin{x}-y=0$$\n",
    "\n",
    "**Is your solution unique? Plot both curves as well as your solution to check.**"
   ]
  },
  {
   "cell_type": "markdown",
   "metadata": {},
   "source": [
    "<div style=\"background-color: cyan\"> \n",
    "\n",
    "**Discuss your work on polynomial roots and equation solving with a demonstrator.**"
   ]
  },
  {
   "cell_type": "markdown",
   "metadata": {},
   "source": [
    "## 5. Optimisation<a id=\"optimisation\"></a>\n",
    "\n",
    "You know how to minimise and maximise analytical functions that you can (doubly) differentiate; however you will often encounter complex systems that cannot be differentiated analytically. For these you need numerical techniques. Numerical techniques for optimization in practice (almost always) mean numerical techniques for minimisation. If your problem requires you to maximise a function then, in general, you redefine the problem so that you end up minimising something else. \n",
    "\n",
    "Numerical optimisation is an interesting and complicated area. SciPy has an optimize module that contains a plethora of different methods. However, until you become an expert, we suggest that you only use some of the main functions. A basic minimization function is <span style=\"color:blue\">fmin()</span>. It does not use derivatives so can be used in cases where you don’t know the analytical function or its derivate. The numerical optimization starts at an initial guess and then iterates to a minimum. A simple 1-dimensional example illustrates this. The code below minimises the function $f(x) = x^2 + x$. Run the code cell - does it give the answer you would expect?"
   ]
  },
  {
   "cell_type": "code",
   "execution_count": null,
   "metadata": {},
   "outputs": [],
   "source": [
    "#define the function to be minimised\n",
    "\n",
    "def func1(x):\n",
    "     return x**2+x\n",
    "\n",
    "#now minimise with a starting guess of 1\n",
    "initial_guess = 1\n",
    "x=op.fmin(func1, initial_guess)\n",
    "\n",
    "print(x)"
   ]
  },
  {
   "cell_type": "markdown",
   "metadata": {},
   "source": [
    "You may have noticed that the <span style=\"color:blue\">fmin()</span> works along similar lines as <span style=\"color:blue\">fsolve()</span>.\n",
    "<div style=\"background-color: #00FF00\">\n",
    "    \n",
    "**Exercise 5: modify <span style=\"color:blue\">func1</span> in the code above so that it also prints out the value x that it is called with and run the optimization again.** "
   ]
  },
  {
   "cell_type": "markdown",
   "metadata": {},
   "source": [
    "The exercise above should give you insight into how <span style=\"color:blue\">fmin()</span> finds the minimum. For further details of how <span style=\"color:blue\">fmin()</span> works use <span style=\"color:blue\">help(op.fmin)</span>."
   ]
  },
  {
   "cell_type": "markdown",
   "metadata": {},
   "source": [
    "<div style=\"background-color: #00FF00\">\n",
    "    \n",
    "**Exercise 6: now write a programme to minimise the function  $x^4−5x^3−20x^2+50x$ with an initial guess of -4. Try the same process with an initial guess of 3. Plot the function and mark on it the initial guess and the minimum found in each case. Explain what has happened. What conclusions can you draw about how to use <span style=\"color:blue\">fmin()</span>?**"
   ]
  },
  {
   "cell_type": "markdown",
   "metadata": {},
   "source": [
    "<div style=\"background-color: #FFF8C6\">\n",
    "You can also minimise functions of multiple parameters by passing an array to <span style=\"color:blue\">fmin()</span>, just like we did for <span style=\"color:blue\">fsolve()</span>.  \n",
    "\n",
    "**Exercise: find the *maximum* of the 2-D function: $f(x,y) = \\sin(xy+y)\\,e^{−(x^2+y^2)}$**"
   ]
  },
  {
   "cell_type": "markdown",
   "metadata": {},
   "source": [
    "<div style=\"background-color: #FFF8C6\">\n",
    "So far we have used <span style=\"color:blue\">fmin()</span> only to minimise (or optionally, maximise) given functions. Let's now apply it to a hypothetical problem.\n",
    "\n",
    "**Exercise: a cyclist is biking along a path when she witnesses a child falling into the river. At this moment, the cyclist is at point $A$ and the child at point $B$, as shown in the picture below. The cyclist's maximum speed is 30 km/h on the path, but only 15 km/h on the grass separating the path from the river. At which point should the cyclist cross the grass to reach the child in the shortest time? How long does it take the cyclist to get to the child?**\n",
    "\n",
    "![cyclist](https://cclewley.github.io/ComputingYr1/Images4/cyclist.jpg)"
   ]
  },
  {
   "cell_type": "markdown",
   "metadata": {},
   "source": [
    "<div style=\"background-color: cyan\"> \n",
    "\n",
    "**Discuss your work on optimisation with a demonstrator.**"
   ]
  },
  {
   "cell_type": "markdown",
   "metadata": {},
   "source": [
    "## 6. Integration and Differentiation<a id=\"integration\"></a>\n",
    "After working through numerical optimisation, you may be wondering how differentiation and integration work in Python. One of the most important tools in a physicist's toolkit is the ability to integrate and differentiate data, whether with analytic functions or with data that cannot be described by an equation. The SciPy package has a wealth of ways with which to accomplish this, but we will only focus on a select few to introduce you to important concepts.\n",
    "\n",
    "### Numerical integration of functions\n",
    "\n",
    "There are many integrals that turn out to be very difficult and tedious to integrate analytically and many that are simply impossible. For these SciPy has a range of numerical integrators; the default is a function called <span style=\"color:blue\">quad()</span> which is part of the <span style=\"color:blue\">scipy.integrate</span> set of functions (if you want to know how it works, do a web search for QUADPACK on which it is based). The first calling argument is the function to be integrated and the second and third arguments are the limits of integration. What is returned is a tuple which has the value of the integration as its first element and an upper bound on the error as the second. The example below calculates the integral $ \\int_0^{\\frac{\\pi}{2}}{\\sin{(x)}}dx $:"
   ]
  },
  {
   "cell_type": "code",
   "execution_count": null,
   "metadata": {},
   "outputs": [],
   "source": [
    "import scipy.integrate as spi\n",
    "\n",
    "results=spi.quad(np.sin,0.,0.5*np.pi)# Integrate sin(x) from 0 to 0.5 pi\n",
    "print(results)"
   ]
  },
  {
   "cell_type": "markdown",
   "metadata": {},
   "source": [
    "You can of course supply your own function to integrate. If the function you want to integrate takes more than one argument, it is integrated along the axis of the first argument. You should use the keyword argument <span style=\"color:blue\">args</span> to specify the values of the other arguments to the integrand. For example, the code below solves the following integral for $n = 2$ and $c = 3$:\n",
    "\n",
    "$$ \\int_0^1({-nx^2+c})dx $$"
   ]
  },
  {
   "cell_type": "code",
   "execution_count": null,
   "metadata": {},
   "outputs": [],
   "source": [
    "# Define the function to be integrated\n",
    "def my_func(x,n,c):\n",
    "   # print(x,n,c)\n",
    "   return -n*x*x+c\n",
    "\n",
    "result=spi.quad(my_func,0,1,args=(2,3))# Integrate the pre-defined function from 0 to 1 pi\n",
    "print(result)"
   ]
  },
  {
   "cell_type": "markdown",
   "metadata": {},
   "source": [
    "Note: if you add a print statement inside the function being integrated you can see the values with which it is being called. If you include the variable over which you are integrating you can begin to see how the algorithm actually works.\n",
    "<p>\n",
    "<div style=\"background-color: #00FF00\">\n",
    "\n",
    "**Exercise 7: use <span style=\"color:blue\">quad()</span> to integrate the following functions:**\n",
    "\n",
    "**1. $\\frac{1}{x}$, with different sets of integration limits [1,10], [0,1]**\n",
    "\n",
    "**2. $\\frac{1}{x^2}$, [1,$\\infty$], (Hint: read the help for <span style=\"color:blue\">quad()</span> to find out how to deal with the limit of $\\infty$; remember that NumPy routines are also present in the Scipy package)**\n",
    "\n",
    "**3. $\\frac{1}{x^2}$, [-1,1]**\n",
    "\n",
    "**4. $\\tan(x)$, with different limits: [0,1], [1, $\\pi \\over 2$], [0,$\\pi$]**\n",
    "\n",
    "**Compare your results with what you would expect. Do you encounter any problems with any of these integrals? What are your conclusions about how and when to use <span style=\"color:blue\">quad()</span>?**"
   ]
  },
  {
   "cell_type": "markdown",
   "metadata": {},
   "source": [
    "<div style=\"background-color: #FFF8C6\">\n",
    "\n",
    "To perform double integrals, we need to use the <span style=\"color:blue\">dblquad()</span> function in the SciPy Integrate package.\n",
    "\n",
    "**Exercise: use <span style=\"color:blue\">dblquad()</span> to perform the following double integral:**\n",
    "\n",
    "$$\\int_0^1 \\int_0^1 \\cos(x^2+y^3)dxdy$$\n",
    "\n",
    "**Hint: you may want to look up how to use lambda functions in Python.**"
   ]
  },
  {
   "cell_type": "markdown",
   "metadata": {},
   "source": [
    "### Numerical differentation: the finite difference method\n",
    "\n",
    "In contrast to integration, Scipy does not provide general functionality to compute derivatives. The simplest method to compute derivatives computationally is by employing a finite difference method. You may recall that the formal definition of the derivative of a function $f(x)$ is:\n",
    "\n",
    "$$f^\\prime(x) = \\lim_{h\\to 0} \\frac{f(x+h)-f(x)}{h}$$\n",
    "\n",
    "The forward finite difference method approximates the derivative at $f(x)$ by using the formula above with a suitably small value of $h$. The code below is an example of how to use this method to numerically differentiate $f(x) = x^3$.\n"
   ]
  },
  {
   "cell_type": "code",
   "execution_count": null,
   "metadata": {},
   "outputs": [],
   "source": [
    "# Function for the forward finite difference method which returns the derivative of an array \n",
    "# Input paramaters: fx, the array of function vallues; h, the step size\n",
    "def forward_finite(fx,h):\n",
    "    Delta_fx = fx[1:]-fx[0:-1]\n",
    "    return Delta_fx/h# Note that the returned array is 1 element shorter than the original array\n",
    "\n",
    "h = 0.1 # Define the step size\n",
    "x = np.arange(0,10,h) # create an array of x-values between x = 0 and x = 10\n",
    "\n",
    "# Calculate the function values (f(x) = x^3)\n",
    "y = x**3\n",
    "\n",
    "# Calculate the numerical derivative\n",
    "dy = forward_finite(y,h)\n",
    "\n",
    "# Plot the result (excluding the final element in x)\n",
    "plt.plot(x[:-1],dy,'.')\n",
    "plt.xlabel('x')\n",
    "plt.ylabel('df/dx')\n",
    "plt.show()"
   ]
  },
  {
   "cell_type": "markdown",
   "metadata": {},
   "source": [
    "<div style=\"background-color: #00FF00\">\n",
    "    \n",
    "**Exercise 8: run the code cell above and extend the code to calculate the analytic derivative of $f(x) = x^3$ and plot it in the same plot as the numerical derivative. Next, calculate the error in the numerical derivative (i.e. the difference between the analytic and numerical derivative) and plot it in a separate plot. What happens to the error when you change the value of the step size $h$?**"
   ]
  },
  {
   "cell_type": "markdown",
   "metadata": {},
   "source": [
    "<div style=\"background-color: #FFF8C6\">\n",
    "    \n",
    "Let's inspect how well our method works for a couple of other functions.\n",
    "<p>\n",
    "    \n",
    "**Exercise: use the forward finite difference method to calculate the derivative of:**\n",
    "\n",
    "**1. $f(x) = \\sin(x)$**\n",
    "\n",
    "**2. $f(x) = 1/x$**\n",
    "\n",
    "**on the interval $[0,10]$ with $h=0.01$.**\n",
    "\n",
    "**For both of these functions, create a plot of your numerical derivative and the analytic derivative, as well as a plot of the error in your numerical derivative. What happens to the error when you reduce $h$?**"
   ]
  },
  {
   "cell_type": "markdown",
   "metadata": {},
   "source": [
    "<div style=\"background-color: #FFF8C6\"> \n",
    "A somewhat more sophisticated version of the finite difference method is the central finite difference method. This is calculated using the function value on both sides of $x$:\n",
    "\n",
    "$$ f^\\prime(x) = \\lim_{h\\to 0}\\frac{f(x+\\frac{1}{2}h)-f(x-\\frac{1}{2}h)}{h}$$\n",
    "\n",
    "**Exercise: write a new function that calculates the numerical derivative according to the central finite difference method. Using this method, calculate the numerical derivative of the same three equations as above and compare its output with the forward finite difference method.**"
   ]
  },
  {
   "cell_type": "markdown",
   "metadata": {},
   "source": [
    "<div style=\"background-color: cyan\"> \n",
    "    \n",
    "**Discuss your work on integration and differentiation with a demonstrator.**"
   ]
  },
  {
   "cell_type": "markdown",
   "metadata": {},
   "source": [
    "<div style=\"background-color: #FFF8C6\">\n",
    "    \n",
    "## 7. Optional: non-analytic integration and differentiation<a id=\"non_analytic\"></a>\n",
    "\n",
    "Data you will work with as a physicist may not be well described by an analytic form. This may be due to noise  making the data very hard to fit or your data isn't represented by an equation. In these circumstances we need to return to the fundamentals of what an integral or derivative actually means if we want to calculate one.\n",
    "\n",
    "### Integration of non-analytic data\n",
    "\n",
    "When you integrate a function, you are calculating the area under some curve that the function defines. Calculating areas leads to some basic methods for non-analytic integration. As an example, we have collected data points that describe the velocity of a car driving on the motorway. These are shown in the graph below:\n",
    "\n",
    "![diff_example](https://cclewley.github.io/ComputingYr1/Images4/Car_velocity.png)\n",
    "\n",
    "\n",
    "We want to calculate the total distance that the car travelled. Looking at the data, we can see that it is not well described by an analytic function. We will therefore need to tackle this challenge using some numerical methods.\n",
    "\n",
    "#### Rectangle Rule\n",
    "\n",
    "One of the simplest approximations we can make with our data set is that the velocity is constant at the observed values and changes instantaneously at some point between the measurements. Intuitively this is a non-physical scenario, but the underlying maths provides a useful tool. Graphically, this approximation would look like:\n",
    "\n",
    "![rectangle_rule](https://cclewley.github.io/ComputingYr1/Images4/Rectangle_integration.png)\n",
    "\n",
    "Notice that we have centred our observations such that they are in the middle of our boxes. The integral of dataset therefore becomes\n",
    "\n",
    "\n",
    "$$\\int_a^b f(x)dx = \\sum_{x=c_i}^{c_n}f(x_i)dx_i=\\Delta x \\times \\sum_{x=c_i}^{c_n}f(x_i)$$\n",
    " \n",
    " \n",
    "under the assumption of constant spacing $\\Delta x$ between the data points. The integral is then approximated the sum of these rectangles. This method is therefore called the rectangle rule. With that in mind, let's integrate our data set.\n",
    "<p>\n",
    " \n",
    "**Exercise: load in the velocity data from the file [car_velocity.txt](https://cclewley.github.io/ComputingYr1/Data4/car_velocity.txt) (which is in this session's 'Data' folder). Plot the data and reproduce the figure shown above. Calculate the interval at which the measurements were taken and hence integrate the data.**\n",
    "\n",
    "**Note: The rectangle rule assumes constant spacing around a point, but we have a point that is defined at t=0 and t=end. How do you handle the boundaries?**\n"
   ]
  },
  {
   "cell_type": "markdown",
   "metadata": {},
   "source": [
    "<div style=\"background-color: #FFF8C6\">\n",
    "    \n",
    "#### Trapezoidal (or Trapezium) Rule \n",
    "\n",
    "Above we made the approximation that our data was constant in between observation points. This is a obviously a big approximation and as physicists we can do better! The next level of approximation we can make is a linear variation of the data in between observations. Graphically this looks like:\n",
    "\n",
    "![trap_int](https://cclewley.github.io/ComputingYr1/Images4/Trap_integration.png)\n",
    "\n",
    "Looking at the graph, this seems to be a much more accurate representation of our data. We are again calculating the area underneath the graph, now with the integral approximated by:\n",
    "\n",
    "$$\\int_a^b f(x)dx = 0.5\\times\\sum_{x=c_i}^{c_{n-1}} (c_{i+1}-c_i)\\times(f(c_{i+1})+f(c_{i})) $$\n",
    "\n",
    "**Exercise: using the data from [car_velocity.txt](https://cclewley.github.io/ComputingYr1/Data4/car_velocity.txt) (which is in this session's 'Data' folder), apply the trapezoidal rule to integrate the data and calculate the total distance travelled by the car.**\n",
    "\n",
    "Calculating the above integrals, we are left with a just a single number: the total area under the curve (in our case the total distance travelled). Sometimes however we want to know the running total of the integral as more points are integrated.\n",
    "\n",
    "**Exercise: use the trapezoidal rule to calculate the distance travelled as a function of time. At what time has the car travelled half the total distance?**"
   ]
  },
  {
   "cell_type": "markdown",
   "metadata": {},
   "source": [
    "<div style=\"background-color: #FFF8C6\">\n",
    "    \n",
    "### Differentiaton of non-analytic data\n",
    "\n",
    "In the above data set we recorded the speed of a car as it travelled along the motorway and calculated the distance it had travelled. This time we do the opposite: we have taken measurements of the distance travelled by a car and want to calculate the speed it was travelling. The data looks like:\n",
    "\n",
    "![distance2](https://cclewley.github.io/ComputingYr1/Images4/Car_distance2.png)\n",
    "\n",
    "We know that:\n",
    "\n",
    "$$v=\\frac{dx}{dt}$$\n",
    "\n",
    "for an infinitesimal change in position and time. However we have real data and can represent this exact differential as:\n",
    "\n",
    "$$v=\\frac{dx}{dt}=\\frac{\\Delta x}{\\Delta t} = \\frac{x_{i+1}-x_{i}}{t_{i+1}-t_{i}}$$\n",
    "\n",
    "for our data points $x_i$ and $t_i$. Note that when we represent the derivative this way, we are calculating a value that is defined in the centre of the time interval.\n",
    "\n",
    "**Exercise: load in the dataset [car_distance.txt](https://cclewley.github.io/ComputingYr1/Data4/car_distance.txt) (which is in this session's 'Data' folder). Plot the data, remembering to label to axes, and then differentiate this data. Plot the resulting velocity, remembering to create a new time array that is defined on the half intervals.**\n",
    "\n",
    "You may have noticed that if your data is spaced at regular intervals, $t_{i+1}-t_{i} = h$, the above method works in the same way as the finite difference method we used to differentiate analytic functions! The only difference is that here we are using data points instead of function values, and for our analytic function we can reduce the numerical error by making $h$ arbitrarily small, whereas here we are required to use the interval at which our measurements are taken."
   ]
  },
  {
   "cell_type": "markdown",
   "metadata": {},
   "source": [
    "## Please complete the [Mentimeter Poll](https://www.menti.com/2pvqcvehrv) for this session "
   ]
  },
  {
   "attachments": {},
   "cell_type": "markdown",
   "metadata": {},
   "source": [
    "## PyProblems Book\n",
    "\n",
    "Members of the Physics Department have been developing resources to help students develop their Python and problem-solving skills. This is extra-curricular (it is not part of this course) but could be both interesting and useful for you to study in your own time. The resource can be found at [pyproblems.github.io/book](https://pyproblems.github.io/book/intro.html) and an introductory video is on [youtube](https://www.youtube.com/watch?v=0sWDM7R_5XA&feature=youtu.be)."
   ]
  },
  {
   "cell_type": "code",
   "execution_count": null,
   "metadata": {},
   "outputs": [],
   "source": []
  }
 ],
 "metadata": {
  "kernelspec": {
   "display_name": "Python 3",
   "language": "python",
   "name": "python3"
  },
  "language_info": {
   "codemirror_mode": {
    "name": "ipython",
    "version": 3
   },
   "file_extension": ".py",
   "mimetype": "text/x-python",
   "name": "python",
   "nbconvert_exporter": "python",
   "pygments_lexer": "ipython3",
   "version": "3.7.6"
  }
 },
 "nbformat": 4,
 "nbformat_minor": 2
}
