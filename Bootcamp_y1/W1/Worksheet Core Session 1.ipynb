{
 "cells": [
  {
   "cell_type": "markdown",
   "metadata": {},
   "source": [
    "# Session 1"
   ]
  },
  {
   "cell_type": "markdown",
   "metadata": {},
   "source": [
    "## Index \n",
    "\n",
    "1. Intended learning outcomes\n",
    "2. Using Jupyter Notebooks\n",
    "3. Literals, operators, and data types\n",
    "4. Variables and keywords\n",
    "5. NumPy, SciPy and arrays\n",
    "6. Basic statistics with arrays\n",
    "7. Reading and writing files\n",
    "8. Matplotlib: plotting data\n",
    "9. Optional: Log plots\n",
    "10. Coding practices\n"
   ]
  },
  {
   "cell_type": "markdown",
   "metadata": {},
   "source": [
    "## 1. Intended learning outcomes<a id=\"outcomes\"></a>\n",
    "After this session, you should be able to:\n",
    "- create variables and carry out arithmetic operations on them;\n",
    "- import the NumPy and Matplotlib packages;\n",
    "- create and manipulate arrays, and do basic statistics on them;\n",
    "- read in a data file and save your data to an output file;\n",
    "- create line plots and scatter plots;\n",
    "- amend the plot format to create a figure of a publishable standard.\n",
    "- be able to comment your code."
   ]
  },
  {
   "cell_type": "markdown",
   "metadata": {},
   "source": [
    "## 2. Using Jupyter Notebooks<a id=\"notebooks\"></a>\n",
    "Throughout your 4 computing sessions we will be using Jupyter Notebooks as interactive lab scripts. These notebooks include both text and code. Once you have saved a copy on your own hard drive, you can type code in the code cells (the cells preceded by \"In [ ]:\" and execute it either by pressing shift+enter or by pressing the 'run cell' button (play symbol) in the toolbar above. You can add more code cells by pressing the 'insert cell below' button (plus symbol). By default any new cells you add are code cells; however you can change these to Markdown  in the drop-down list in the toolbar to allow you to make your own notes in the lab scripts. For a cheat sheet on Markdown, see [here](http://assemble.io/docs/Cheatsheet-Markdown.html).\n",
    "\n",
    "Make sure you add new code cells every time you want to try out something new, instead of editing your previous code. This way you have a record of everything you have done, which both you and your demonstrator can refer to. Save your work regularly - sometimes you may be forced to close and reopen your file, and you don't want to lose any of your work!\n",
    "\n",
    "A couple of notes on usage: when you run a cell, the notebook will automatically scroll to the next cell. Note however that you must first click the next cell to explicitly highlight it before you start typing (otherwise unexpected things will happen!). \n",
    "\n",
    "### If you double-click on a Markdown cell it will change into edit mode. Press shift+enter to run the cell and turn it back into markdown.\n",
    "\n",
    "**Exercise 1: Try double-clicking this markdown block. To revert to the normal view you can run the cell in the same way as you would run a code cell by pressing shift+enter.**\n",
    "\n",
    "The lab scripts use various colour-coded cells:"
   ]
  },
  {
   "cell_type": "markdown",
   "metadata": {},
   "source": [
    "<div style=\"background-color: #00FF00\">\n",
    "This is a core exercise cell. These are the most important exercises you will encounter in these notebooks and  cover all of the intended learning outcomes. You should complete these first, before moving on to the non-core exercises. "
   ]
  },
  {
   "cell_type": "markdown",
   "metadata": {},
   "source": [
    "<div style=\"background-color: #FFF8C6\">\n",
    "\n",
    "This is a non-core cell, which includes additional information or extra exercises. The extra exercises are relevant to the intended learning outcomes and are meant to enhance your understanding; however you should only attempt these if you are clearly ahead in time, or have extra time to spend on this at home. Your first priority should be to complete the entire core lab script for each session before the next session begins."
   ]
  },
  {
   "cell_type": "markdown",
   "metadata": {},
   "source": [
    "<div style=\"background-color: cyan\"> These cells indicate locations where it is good to pause, review your work and discuss your findings. Do you understand what you have done? Do you have any questions to ask the demonstrators or to discuss with your colleagues?"
   ]
  },
  {
   "cell_type": "markdown",
   "metadata": {},
   "source": [
    "Every now and then the lab script will remind you to make notes of what you have learnt in your lab book. Your computing lab book should be a running commentary of your work: for example, answers to questions posed in the lab script, new functions you have found, salient points you have learnt, etc. Later on it should also include block diagrams of the programmes you write, and solutions to common bugs you encounter. You should be making notes in your computing lab book not only when you encounter a reminder, but continuously as you go along."
   ]
  },
  {
   "cell_type": "markdown",
   "metadata": {},
   "source": [
    "When you finish working on each worksheet, please make sure to fill out the (anonymous) Mentimeter Poll! The link to the poll is given at the end of each worksheet. Whether or not you finished the work, we want to know how it went - this is vital information for us to ensure we are providing a high-standard course for all of our students. "
   ]
  },
  {
   "cell_type": "markdown",
   "metadata": {},
   "source": [
    "## 3. Literals, operators, and data types<a id=\"operators\"></a>"
   ]
  },
  {
   "cell_type": "markdown",
   "metadata": {},
   "source": [
    "On a very basic level, Python can be used as a calculator. \n",
    "<div style=\"background-color: #00FF00\">\n",
    "    \n",
    "**Exercise 2: in the cell below, type:**\n",
    "\n",
    "<span style=\"color:blue\">8 + 2</span>\n",
    "\n",
    "**Now run the cell by pressing shift+enter or by clicking the 'run cell button' (play symbol) in the toolbar at the top of this notebook.**"
   ]
  },
  {
   "cell_type": "code",
   "execution_count": null,
   "metadata": {
    "collapsed": true
   },
   "outputs": [],
   "source": []
  },
  {
   "cell_type": "markdown",
   "metadata": {},
   "source": [
    "The numbers <span style=\"color:blue\">8</span> and <span style=\"color:blue\">2</span> you typed above are called literals. Literals are data inserted directly into your code. Here, we have used integer literals (e.g. 1, 2, -3, ... ), but more frequently we will use float literals (numbers with decimal points or given in scientific notation, even if they represent integers: 1.3, 10.0, 1e10, ...). These numbers are called “floating point” because of the manner in which they are encoded in the computer’s binary memory. "
   ]
  },
  {
   "cell_type": "markdown",
   "metadata": {},
   "source": [
    "The <span style=\"color:blue\">+</span> symbol in first code cell is called an *operator*. Operators operate on the code on either side of them (called the operands), and produce some sort of result (e.g. the integer 10 in your code above). Other examples of arithmetic operators are:\n",
    "\n",
    "- <span style=\"color:blue\">\\- </span>for subtraction\n",
    "- <span style=\"color:blue\">\\*</span> for multiplication\n",
    "- <span style=\"color:blue\">/</span> for division\n",
    "- <span style=\"color:blue\">\\*\\*</span> for exponent\n",
    "- <span style=\"color:blue\">%</span> for modulus (returns the remainder of a division)\n",
    "- <span style=\"color:blue\">//</span> for floor division (returns the result of the division rounded down to an integer). \n",
    "\n",
    "Some operators treat the values on either side of them the same way, e.g. <span style=\"color:blue\">8 + 2</span> gives the same result as <span style=\"color:blue\">2 + 8</span>. Others however are directional, for example the result of <span style=\"color:blue\">3\\*\\*2</span> is different from <span style=\"color:blue\">2\\*\\*3</span>. \n",
    "<div style=\"background-color: #00FF00\">\n",
    "    \n",
    "**Exercise 3: in the cells below, try out each of the operators given above - use one cell for each arithmetic statement. You can add as many cells as you like by using the 'insert cell below' (plus symbol) button. Make sure you understand how each operator works (if not, do ask one of your demonstrators - they will be happy to explain). What happens if you mix the data types of the operands in your calculation, for example add an integer to a float?**"
   ]
  },
  {
   "cell_type": "code",
   "execution_count": null,
   "metadata": {
    "collapsed": true
   },
   "outputs": [],
   "source": []
  },
  {
   "cell_type": "code",
   "execution_count": null,
   "metadata": {
    "collapsed": true
   },
   "outputs": [],
   "source": []
  },
  {
   "cell_type": "code",
   "execution_count": null,
   "metadata": {
    "collapsed": true
   },
   "outputs": [],
   "source": []
  },
  {
   "cell_type": "code",
   "execution_count": null,
   "metadata": {
    "collapsed": true
   },
   "outputs": [],
   "source": []
  },
  {
   "cell_type": "code",
   "execution_count": null,
   "metadata": {
    "collapsed": true
   },
   "outputs": [],
   "source": []
  },
  {
   "cell_type": "markdown",
   "metadata": {},
   "source": [
    "The order of operations is as usual, i.e. multiplication and division before addition and subtraction. For operations on the same level, Python reads code from left to right, i.e. <span style=\"color:blue\">20/5\\*2</span> will give 8.0. To change the order, or make the order explicit (and hence code more readable) use round brackets, for example <span style=\"color:blue\">20/(5\\*2)</span> to give 2.0. The shorthand for scientific notation is  <span style=\"color:blue\">1.234e5</span>, which means $1.234\\times10^5$."
   ]
  },
  {
   "cell_type": "markdown",
   "metadata": {},
   "source": [
    "So far we have encountered integer and float data types - another type of literal is a string literal, which is a piece of text that does not constitute any code. You specify a string literal by surrounding it in matched single or double quotation marks, e.g:"
   ]
  },
  {
   "cell_type": "code",
   "execution_count": null,
   "metadata": {
    "collapsed": true
   },
   "outputs": [],
   "source": [
    "\"This is a string\""
   ]
  },
  {
   "cell_type": "markdown",
   "metadata": {},
   "source": [
    "You can find out the data type of any literal by using the <span style=\"color:blue\">type()</span> command. \n",
    "\n",
    "<div style=\"background-color: #00FF00\">\n",
    "    \n",
    "**Exercise 4: run the examples in the following code cells:**"
   ]
  },
  {
   "cell_type": "code",
   "execution_count": null,
   "metadata": {
    "collapsed": true
   },
   "outputs": [],
   "source": [
    "type(1)"
   ]
  },
  {
   "cell_type": "code",
   "execution_count": null,
   "metadata": {
    "collapsed": true
   },
   "outputs": [],
   "source": [
    "type(1.0)"
   ]
  },
  {
   "cell_type": "code",
   "execution_count": null,
   "metadata": {
    "collapsed": true
   },
   "outputs": [],
   "source": [
    "type(\"1\")"
   ]
  },
  {
   "cell_type": "code",
   "execution_count": null,
   "metadata": {
    "collapsed": true
   },
   "outputs": [],
   "source": [
    "type(1+1j)"
   ]
  },
  {
   "cell_type": "code",
   "execution_count": null,
   "metadata": {
    "collapsed": true
   },
   "outputs": [],
   "source": [
    "type([1,2])"
   ]
  },
  {
   "cell_type": "markdown",
   "metadata": {},
   "source": [
    "The cells above illustrate some of the most common data types in Python. For a bit more information on lists and some other data types, have a look at the optional part at the end of the next section.\n",
    "\n",
    "It is now almost time to combine what we have learned so far and put it into action. Before we do that however, a note about errors. When you are coding, it is common to make errors, for example a typo or trying to do something that Python can't do. When this happens, Python will throw up an error message. These error messages can be very difficult to understand owing to their technical nature. Here are two hints to help you interpret error messages:\n",
    "1. Start at the bottom of the error message: it normally give a one-line summary of the problem. If you can't immediately solve it, read the text above it to find out where in your code the error occurred.\n",
    "2. If the one-line summary doesn't make sense, copy and paste it into Google. Chances are many people have encountered it before and will have asked a question about it!\n",
    "\n",
    "<div style=\"background-color: #00FF00\">\n",
    "    \n",
    "**Exercise 5: In order to get used to error messages, run the following cell, and read the error message *before* correcting the code. The cell is supposed to output the number 20!**"
   ]
  },
  {
   "cell_type": "code",
   "execution_count": null,
   "metadata": {
    "collapsed": true
   },
   "outputs": [],
   "source": [
    "10 + 1o"
   ]
  },
  {
   "cell_type": "markdown",
   "metadata": {},
   "source": [
    "The other main type of mistake is more pernicious: you may write some code that is perfectly valid, but doesn't do what you actually want it to do. The only way of catching this, is by paying very careful attention to the output at all times, and checking it makes sense. We will discuss this further in Session 3 - however it is important to foster the habit of checking your output from the very start of your coding career."
   ]
  },
  {
   "cell_type": "markdown",
   "metadata": {},
   "source": [
    "**A final important note**: it is expected that you will cause your system to grind down to a halt when you do calculations with extremely large numbers. This also occasionally happens due to coding errors. Don't worry - this is not a problem! If your system becomes unresponsive, restart your kernel by clicking 'Kernel'  --> 'Restart' in the menu bar at the top of the page. Make sure to change any offending code cells to markdown so that they won't be executed again, click on the next code cell, and choose 'Cell' --> 'Run all above' to re-run all your coding cells so far. \n",
    "\n",
    "Let's move on! Experiment with operators, brackets, scientific notation, and different data types in the code cell below. From now on, the notebook will only display one code cell when it is time for you to try your coding skills; it is up to you to add as many cells as you need. It is strongly recommended you don't delete any of your code but keep as many examples in different cells as possible so both you and your demonstrator can easily refer back to what you have tried.\n",
    "<p>\n",
    "<div style=\"background-color: #00FF00\">\n",
    "\n",
    "**Exercise 6: coding has many quirks that you will get used to with practice. Try and answer the following questions for yourself whilst experimenting with arithmetic operators:**\n",
    "\n",
    "- **Do all answers make sense?**\n",
    "- **Can you use numbers as big as you like? Is there an upper limit to the exponent in scientific notation?**\n",
    "- **Can you use numbers as small as you like? Is there a lower limit to the exponent?**\n",
    "- **Can numbers be as precise as you like? How many zeros do you need before 1.00000000000000000001 gets truncated?**\n",
    "- **What happens if you don’t balance your brackets?**\n",
    "- **Can you apply arithmetic operators to strings? If so, which, and what is the result?**\n",
    "\n",
    "**Make sure to note down the answers (along with anything interesting or unexpected you find out) in your lab book!**"
   ]
  },
  {
   "cell_type": "code",
   "execution_count": null,
   "metadata": {
    "collapsed": true
   },
   "outputs": [],
   "source": []
  },
  {
   "cell_type": "markdown",
   "metadata": {},
   "source": [
    "<div style=\"background-color: #FFF8C6\">\n",
    "You may have noticed floats do not have unlimited accuracy. This is an important feature of computer programming, not just a bug in Python. To read more about why this happens, have a look at [this tutorial.](https://docs.python.org/3/tutorial/floatingpoint.html) \n",
    "\n",
    "#### Converting between data types\n",
    "\n",
    "In the above we defined variables to be different types of data, whether that be an int, float or string. Variables however don't have to remain the same type throughout, they can be changed. For example, below we convert an integer to a float, and a string consisting of a number to an integer."
   ]
  },
  {
   "cell_type": "code",
   "execution_count": null,
   "metadata": {
    "collapsed": true
   },
   "outputs": [],
   "source": [
    "a = 2\n",
    "b = float(a)\n",
    "print(a,b)\n",
    "\n",
    "c = '69'\n",
    "d = int(c)\n",
    "print(c,d)"
   ]
  },
  {
   "cell_type": "markdown",
   "metadata": {},
   "source": [
    "<div style=\"background-color: #FFF8C6\">\n",
    "Can you see the difference between the value of variable c and variable d when they are printed in the example above? How can you check which variable is of which type?\n",
    "<p>\n",
    "    \n",
    "**Exercise: try converting different types of data below. Answer the following questions:**\n",
    "- **Can you turn a string of letters into a float or integer?**\n",
    "- **What happens when you convert a float with non-zero decimal points into an integer? Make sure to try different values of decimals!**\n",
    "- **Can you turn a complex number into a string, float, or integer?**"
   ]
  },
  {
   "cell_type": "code",
   "execution_count": null,
   "metadata": {
    "collapsed": true
   },
   "outputs": [],
   "source": []
  },
  {
   "cell_type": "markdown",
   "metadata": {},
   "source": [
    "## 4. Variables and keywords<a id=\"variables\"></a>"
   ]
  },
  {
   "cell_type": "markdown",
   "metadata": {},
   "source": [
    "The <span style=\"color:blue\">=</span> operator (sometimes called the assignment operator) allows you to store data in a *variable*. Variables are ubiquitous in computer programming, and are much like variables in maths. For example, if we want to create a variable x which has the value 4 we can simply write <span style=\"color:blue\">x = 4</span>. Note that, unlike in algebra, the operator <span style=\"color:blue\">=</span> is directional: the variable on the left of the <span style=\"color:blue\">=</span> is always assigned the value of what is on the right of the <span style=\"color:blue\">=</span>, not the other way around.  \n",
    "\n",
    "<div style=\"background-color: #00FF00\">\n",
    "    \n",
    "**Exercise 7: run the cells below and see what happens:**"
   ]
  },
  {
   "cell_type": "code",
   "execution_count": null,
   "metadata": {
    "collapsed": true
   },
   "outputs": [],
   "source": [
    "x = 4\n",
    "print(x)"
   ]
  },
  {
   "cell_type": "code",
   "execution_count": null,
   "metadata": {
    "collapsed": true
   },
   "outputs": [],
   "source": [
    "x + 2"
   ]
  },
  {
   "cell_type": "code",
   "execution_count": null,
   "metadata": {
    "collapsed": true
   },
   "outputs": [],
   "source": [
    "y = x + 2\n",
    "print(y)"
   ]
  },
  {
   "cell_type": "markdown",
   "metadata": {},
   "source": [
    "Note that in the code above we used the <span style=\"color:blue\">print()</span> command to print the value of the variables to screen. In Python, you can also simply type the name of a variable to do this. However, this should be used with caution as this only works properly when a cell has only one output. \n",
    "\n",
    "<div style=\"background-color: #00FF00\">\n",
    "    \n",
    "**Exercise 8: to illustrate this, try running the  code cells below and pay careful attention to the output of each cell.**"
   ]
  },
  {
   "cell_type": "code",
   "execution_count": null,
   "metadata": {
    "collapsed": true
   },
   "outputs": [],
   "source": [
    "a = 1\n",
    "b = 2\n",
    "a"
   ]
  },
  {
   "cell_type": "code",
   "execution_count": null,
   "metadata": {
    "collapsed": true
   },
   "outputs": [],
   "source": [
    "a\n",
    "b"
   ]
  },
  {
   "cell_type": "code",
   "execution_count": null,
   "metadata": {
    "collapsed": true
   },
   "outputs": [],
   "source": [
    "print(a)\n",
    "print(b)"
   ]
  },
  {
   "cell_type": "markdown",
   "metadata": {},
   "source": [
    "So far, we have used single letters to name variables. This is usually not good practice - if you simply assigned every variable a letter of the alphabet, it would be very hard to decipher your code at a later date and understand what each variable stands for. It is therefore important to chose your variable names carefully. \n",
    "<p>\n",
    "<div style=\"background-color: #00FF00\">\n",
    "\n",
    "**Exercise 9: below, assign variable names to data provided by literals, or to the results of computation using operators. Try and find out the answers to the following questions:**\n",
    "\n",
    "- **Can you identify the rules that govern the possible names? Some names to try: my_glorious_variable_3, True, 1value, my favourite value, A#B...**\n",
    "- **Are the values case sensitive, i.e., is 'name' the same as 'naMe'?**\n",
    "- **What happens when you give the same name to two different values?**\n",
    "- **What happens when you give two different names to the same value?**\n",
    "- **What happens if you store the result of a calculation involving a particular variable as that very variable?**"
   ]
  },
  {
   "cell_type": "code",
   "execution_count": null,
   "metadata": {
    "collapsed": true
   },
   "outputs": [],
   "source": []
  },
  {
   "cell_type": "markdown",
   "metadata": {},
   "source": [
    "The reason why <span style=\"color:blue\">A#B</span> didn’t work as a name was that <span style=\"color:blue\">#</span> is Python’s comment character, which means “Ignore everything after this character until the end of the line”. Comments are used to annotate  code to make it more human-readable, for example to describe in natural language what a complicated line of code does, to make it easier to understand.\n",
    "\n",
    "The reason why <span style=\"color:blue\">True</span> didn’t work as a variable name is because it is a Python keyword, one of the few words that has a special meaning to the language. A list of keywords is:\n",
    "```python \n",
    "and        def       for      is      return\n",
    "as         del       from     lambda  try\n",
    "assert     elif      global   not     while\n",
    "break      else      if       or      with\n",
    "class      except    import   pass    yield\n",
    "continue   finally   in       raise\n",
    "```\n",
    "\n",
    "Note that this list changes with different versions of Python. Jupyter Notebooks helpfully change the colour of a keyword to bold green, so you will immediately notice it if you use a keyword inadvertently. We will cover some of these keywords in this course, but not all of them."
   ]
  },
  {
   "cell_type": "markdown",
   "metadata": {},
   "source": [
    "<div style=\"background-color: cyan\">Now that we've covered the very basics of coding in Python, pause and discuss your findings with your colleagues or a demonstrator."
   ]
  },
  {
   "cell_type": "markdown",
   "metadata": {},
   "source": [
    "# 5. NumPy, SciPy and arrays<a id=\"arrays\"></a>"
   ]
  },
  {
   "cell_type": "markdown",
   "metadata": {},
   "source": [
    "Everything we have covered so far has been part of the core Python programming language. However, the core Python programming language does not include many mathematical functions that you might expect to use. So, for example, if you needed to use trigonometric functions such as sin, cos, etc, you would have to write your own code using to implement these. If you wanted to do numerical integration you would have to write the code. If you wanted to display results as plots, you would have to write (quite a lot of) code to do it, and so on. This would be tiresome and very time consuming. Fortunately, there are libraries of code that provide for most of these common requirements, and much more!\n",
    "\n",
    "NumPy and SciPy are large collections of open-source libraries and tools brought together to give a powerful high-level environment for mathematical and scientific computing. NumPy provides functions for basic mathematical operations (sin, cos, tan, etc.) as well as functions which handle arrays, vectors, matrices and operations upon them. SciPy provides more specialised functions that are useful for scientific programmings, such as special functions, integration, ordinary differential equation (ODE) solvers, gradient optimization, parallel programming tools, an expression-to-C++ compiler for fast execution, and others.\n",
    "\n",
    "In this session we will use functions from NumPy. To be able to use it, you first need to import the package as follows: "
   ]
  },
  {
   "cell_type": "code",
   "execution_count": 1,
   "metadata": {},
   "outputs": [],
   "source": [
    "import numpy as np"
   ]
  },
  {
   "cell_type": "markdown",
   "metadata": {},
   "source": [
    "Generally you will need to include this line at the top of your code or notebook (and make sure to run the cell). Be careful: when you reopen your notebook at a later time to continue or review your work, you will have to run the cell above again to be able to use NumPy's functions again. A good way of resuming work is to select the \"Run All Above\" option from the Cell menu, to ensure all previous cells have been executed before you carry on.  \n",
    "\n",
    "You can now use all of NumPy's routines by calling them by their name preceded by <span style=\"color:blue\">np.</span> - for example to create an array A comprising the numbers 10 to 100 in steps of 10:"
   ]
  },
  {
   "cell_type": "code",
   "execution_count": null,
   "metadata": {
    "collapsed": true
   },
   "outputs": [],
   "source": [
    "A = np.array([10,20,30,40,50,60,70,80,90,100])"
   ]
  },
  {
   "cell_type": "markdown",
   "metadata": {},
   "source": [
    "As you can see, an array is a series of objects of the same type (integers in the example above). Each individual object in the array is called an element. You can access individual elements of an array by specifying the index of the element in the array within square brackets. For example, the cell below first prints the entire array A and subsequently only the element with index 1:"
   ]
  },
  {
   "cell_type": "code",
   "execution_count": null,
   "metadata": {
    "collapsed": true
   },
   "outputs": [],
   "source": [
    "print(A)\n",
    "print(A[1])"
   ]
  },
  {
   "cell_type": "markdown",
   "metadata": {},
   "source": [
    "When you run the above cell, the second output line might not be what you expected! This is because indices start from 0, so the first element has index 0, the second element index 1, and so forth. You can access any selection of elements from an array using indices; this is called slicing. \n",
    "\n",
    "<div style=\"background-color: #00FF00\">\n",
    "    \n",
    "**Exercise 10: look at the following list - can you predict what the result will be before running these statements? Pay careful attention to which elements are included in the slices.**\n",
    "- <span style=\"color:blue\">A[9]</span>\n",
    "- <span style=\"color:blue\">A[10]</span>\n",
    "- <span style=\"color:blue\">A[-1]</span>\n",
    "- <span style=\"color:blue\">A[1:3]</span>\n",
    "- <span style=\"color:blue\">A[1:]</span>\n",
    "- <span style=\"color:blue\">A[:5]</span>\n",
    "- <span style=\"color:blue\">A[0:6:2]</span>\n",
    "- <span style=\"color:blue\">A[::2]</span>\n",
    "\n",
    "**Slicing is a very important concept in programming, so take some time experimenting with this in the cell below (again, add as many cells as you like in the notebook). Can you figure out the rules of slicing? Challenge: use slice notation to reverse array A in one line.**"
   ]
  },
  {
   "cell_type": "code",
   "execution_count": null,
   "metadata": {
    "collapsed": true
   },
   "outputs": [],
   "source": []
  },
  {
   "cell_type": "markdown",
   "metadata": {},
   "source": [
    "You can even create 2D (or higher-dimensional) arrays, by nesting several 1D arrays within one array: one for each row. This is a very useful data structure - it can for example represent data tables or even images. Run the following cell to see an example:"
   ]
  },
  {
   "cell_type": "code",
   "execution_count": null,
   "metadata": {
    "collapsed": true
   },
   "outputs": [],
   "source": [
    "twoDarray=np.array([[1,2],[10,20],[100,200]])\n",
    "print(twoDarray)"
   ]
  },
  {
   "cell_type": "markdown",
   "metadata": {},
   "source": [
    "We can now access individual cells by taking the slice [row_index,column_index]. For example, the command below will print the element that is in the third row and second column of the 2D array above:"
   ]
  },
  {
   "cell_type": "code",
   "execution_count": null,
   "metadata": {
    "collapsed": true
   },
   "outputs": [],
   "source": [
    "print(twoDarray[2,1])"
   ]
  },
  {
   "cell_type": "markdown",
   "metadata": {},
   "source": [
    "<div style=\"background-color: #FFF8C6\">\n",
    "Arrays can be extended to an arbitrary number of dimensions. Implementing them in the above manner however would become very tedious, especially  trying to keep track of all of the square brackets you would need. Numpy has the np.zeros command, that allows you generate an arbitrary array of zeros in any dimensions:\n",
    "\n",
    "```python\n",
    "Arbitrary_array=np.zeros((dim1,dim2,dim3,.......,dimn))\n",
    "```\n",
    "\n",
    "Note the double set of brackets within the zeros, this is because for the zeros function, it is the first argument that sets the number of dimensions. "
   ]
  },
  {
   "cell_type": "markdown",
   "metadata": {},
   "source": [
    "<div style=\"background-color: #FFF8C6\">\n",
    "**Exercise: experiment with taking slices out of a 2D array - these can be 2D arrays, 1D arrays, or single elements. Can you take it a step further and create a 3D array (i.e. a data cube) and take slices from it?**"
   ]
  },
  {
   "cell_type": "markdown",
   "metadata": {},
   "source": [
    "The <span style=\"color:blue\">np.array()</span> method works fine for short arrays, or to input a small number of measurement data points by hand, but would become tedious for creating longer arrays. A quicker way of defining arrays with a fixed increment is using <span style=\"color:blue\">np.arange()</span> or <span style=\"color:blue\">np.linspace()</span>. \n",
    "\n",
    "<div style=\"background-color: #00FF00\">\n",
    "    \n",
    "**Exercise 11: use Google or the help documentation on these two functions (by running e.g. <span style=\"color:blue\">help(np.arange)</span>) to find out how they work. Subsequently create an array which includes the numbers 0 - 100 (make sure to store your array in a variable). Next, try and create an array consisting of the numbers 100 - 200 in steps of 0.01. What is the difference between using <span style=\"color:blue\">np.arange()</span> and <span style=\"color:blue\">np.linspace()</span>?**"
   ]
  },
  {
   "cell_type": "code",
   "execution_count": null,
   "metadata": {
    "collapsed": true
   },
   "outputs": [],
   "source": []
  },
  {
   "cell_type": "markdown",
   "metadata": {},
   "source": [
    "Arrays are very useful data structures, which we will use throughout this course. When you analyse the data you take in lab with Python, you should always store your data in arrays. One reason arrays are so powerful within Python is because you can do arithmetic operations on them. For example, to multiply every element of array A by two, simply run the following:"
   ]
  },
  {
   "cell_type": "code",
   "execution_count": null,
   "metadata": {
    "collapsed": true
   },
   "outputs": [],
   "source": [
    "2*A"
   ]
  },
  {
   "cell_type": "markdown",
   "metadata": {},
   "source": [
    "You can even multiply two arrays, for example:"
   ]
  },
  {
   "cell_type": "code",
   "execution_count": null,
   "metadata": {
    "collapsed": true
   },
   "outputs": [],
   "source": [
    "A*A"
   ]
  },
  {
   "cell_type": "markdown",
   "metadata": {},
   "source": [
    "<div style=\"background-color: #00FF00\">\n",
    "    \n",
    "**Exercise 12: refer back to section 3 and experiment using the various arithmetic operators on arrays, both with scalar values and arrays. For example, try:**\n",
    "- <span style=\"color:blue\">A + 10</span>\n",
    "- <span style=\"color:blue\">A + A</span>\n",
    "- <span style=\"color:blue\">A**3</span>\n",
    "\n",
    "**Can you use all arithmetic operators on arrays, both with scalar values and two arrays? What happens if you try and apply an operator to two arrays of different lengths (i.e. a different number of elements)?**"
   ]
  },
  {
   "cell_type": "code",
   "execution_count": null,
   "metadata": {
    "collapsed": true
   },
   "outputs": [],
   "source": []
  },
  {
   "cell_type": "markdown",
   "metadata": {},
   "source": [
    "<div style=\"background-color: cyan\"> Take a moment to discuss the rules of slicing and array arithmetics.</div>"
   ]
  },
  {
   "cell_type": "markdown",
   "metadata": {},
   "source": [
    "## 6. Statistics with arrays<a id=\"stats\"></a>"
   ]
  },
  {
   "cell_type": "markdown",
   "metadata": {},
   "source": [
    "Here is a set of values obtained for the wave length of a sound wave.\n",
    "\n",
    "* 0.76 m\n",
    "* 0.79 m\n",
    "* 0.84 m\n",
    "* 0.75 m\n",
    "* 0.80 m\n",
    "* 0.79 m\n",
    "\n",
    "We can now calculate the mean of these data with a simple set of commands:"
   ]
  },
  {
   "cell_type": "code",
   "execution_count": null,
   "metadata": {
    "collapsed": true
   },
   "outputs": [],
   "source": [
    "x=np.array([0.76,0.79,0.84,0.75,0.80,0.79])\n",
    "mean_value=np.mean(x)\n",
    "print('The mean value is:', mean_value, 'm')"
   ]
  },
  {
   "cell_type": "markdown",
   "metadata": {},
   "source": [
    "Note that when writing a lab report, you would not simply copy this value into your report. You would need to choose the correct number of significant numbers to quote! \n",
    "\n",
    "Similarly, we can calculate the standard deviation of the sample by calling the function <span style=\"color:blue\">np.std()</span>. This function calculates the sample standard deviation $s$ using the following formula:\n",
    "\n",
    "$$s^2 = \\frac{1}{n-1}\\sum_{i=1}^n(x_i-\\overline{x})^2$$ \n",
    "\n",
    "Here $x_i$ are the individual data points, $\\overline{x}$ is the mean value of the data set, and $n$ is the number of data points.\n",
    "\n",
    "<div style=\"background-color: #00FF00\">\n",
    "    \n",
    "**Exercise 13: below, calculate the standard deviation of our data set using the <span style=\"color:blue\">std()</span> function which is in the NumPy package - i.e. call the function by typing <span style=\"color:blue\">np.std()</span>. Once again, use the inbuilt help or Google to help you on your way. Help files are always a long read -  in this case focus on the keyword <span style=\"color:blue\">ddof</span> to ensure you use the *sample* standard deviation. You will need to set this to <span style=\"color:blue\">ddof=1</span> when you call the <span style=\"color:blue\">np.std()</span> function. This ensures the denominator in the equation above is set to $n-1$ rather than $n$.**"
   ]
  },
  {
   "cell_type": "code",
   "execution_count": null,
   "metadata": {
    "collapsed": true
   },
   "outputs": [],
   "source": []
  },
  {
   "cell_type": "markdown",
   "metadata": {},
   "source": [
    "We have calculated the mean $\\overline{x}$ which is an estimate of the true value of the quantity we are measuring.  How accurate is this estimate?  The sample standard deviation $s$ is *not* a measure of the error in this estimate.  We need the standard error of the mean, written as $\\sigma_m$, which tells you the accuracy with which the mean of the data points gives the *true* value of the quantity you are measuring. The standard error of the mean reduces with the number of data points taken, and is given by:\n",
    "\n",
    "$$\\sigma_m=\\frac{s}{\\sqrt{n}}$$\n",
    "\n",
    "To calculate $\\sigma_m$ with Python you need to know how many data points there are in our array which\n",
    "you can get using the Python function <span style=\"color:blue\">len()</span>. You also need to use the <span style=\"color:blue\">sqrt()</span> function which is in the NumPy package. \n",
    "\n",
    "<div style=\"background-color: #00FF00\">\n",
    "    \n",
    "**Exercise 14: calculate the standard error of the mean for data set $x$.**"
   ]
  },
  {
   "cell_type": "code",
   "execution_count": null,
   "metadata": {
    "collapsed": true
   },
   "outputs": [],
   "source": []
  },
  {
   "cell_type": "markdown",
   "metadata": {},
   "source": [
    "## 7. Reading and writing files<a id=\"files\"></a>"
   ]
  },
  {
   "cell_type": "markdown",
   "metadata": {},
   "source": [
    "In the previous section you have seen that Python is a powerful tool for statistics, once you have stored your measurement data in arrays - particularly because you can execute the same block of code to calculate the mean, standard deviation, and standard error of the mean on any data set you take in your different labs. However, you won't usually *record* your data directly in Python. Normally, you will save your data in a file, which you can read in using your Python code.\n",
    "\n",
    "There are numerous ways in Python to read in data from files, each with their own pros and cons. For now, we will use the <span style=\"color:blue\">loadtxt()</span> function, which is included in the NumPy package. It offers a straightforward way of reading in data sets which consist of columns of measurement points. \n",
    "<div style=\"background-color: #00FF00\">\n",
    "    \n",
    "**Exercise 15: to try this out, open the file [Resistivity.txt]( \n",
    "https://cclewley.github.io/ComputingYr1/Data1/Resistivity.txt\n",
    ") . This file (as well as all other data files) are stored in the 'Data' folder that you have downloaded from Blackboard for this session. Click on the link to inspect this data file within your browser: you will see it includes 3 columns, separated by spaces. The first column is temperature, the second the measured resistivity of copper, and the third that of aluminium. You may recognise these from your Measurements & Uncertainties tutorial if you have already done this! To read in this data file and print the data, run the following cell:**"
   ]
  },
  {
   "cell_type": "code",
   "execution_count": null,
   "metadata": {
    "collapsed": true
   },
   "outputs": [],
   "source": [
    "data=np.loadtxt(\"Data/Resistivity.txt\")\n",
    "print(data)"
   ]
  },
  {
   "cell_type": "markdown",
   "metadata": {},
   "source": [
    "Note that to read the file, we have to include the subfolder name in the file name, i.e. <span style=\"color:blue\">\"Data/Resistivity.txt\"</span>. If we do not include the subfolder name, the computer would look for the file in the same folder as where the script for this code is stored (i.e. this Jupyter Notebook). Since usually you would have your data stored in a different place than your programming scripts, it is good to get used to specifiying folders (or 'path names') right from the start. <p>\n",
    "You will see that the data has been read into a 2D array. If we wish, we can now slice the 2D array to create three 1D arrays, each representing a separate physical quantity (T for temperature, R_Cu for the copper resistivity, and R_Al for the aluminum resistivity):"
   ]
  },
  {
   "cell_type": "code",
   "execution_count": null,
   "metadata": {
    "collapsed": true
   },
   "outputs": [],
   "source": [
    "T = data[:,0]\n",
    "R_Cu = data[:,1]\n",
    "R_Al = data[:,2]\n",
    "print('Temperature:', T)\n",
    "print('Copper resistivity', R_Cu)\n",
    "print('Aluminium resistivity', R_Al)"
   ]
  },
  {
   "cell_type": "markdown",
   "metadata": {},
   "source": [
    "<div style=\"background-color: #FFF8C6\">\n",
    "The <span style=\"color:blue\">loadtxt()</span> function incorporates more features: it can also skip header rows and deal with different types of delimiters (how the data is separated). As an example, look at the file [Resistivity.csv](https://cclewley.github.io/ComputingYr1/Data1/Resistivity.csv), which is a csv (comma separated variable) file of the same data. You will need to download this file and open it in Excel to be able to inspect it. Note that now the data is delimited by commas, and includes two header rows. Now run the cell below:"
   ]
  },
  {
   "cell_type": "code",
   "execution_count": null,
   "metadata": {
    "collapsed": true
   },
   "outputs": [],
   "source": [
    "T, R_Cu, R_Al = np.loadtxt(\"Data/Resistivity.csv\", skiprows=2, delimiter=',', unpack=True)\n",
    "print('Temperature:', T)\n",
    "print('Copper resistivity', R_Cu)\n",
    "print('Aluminium resistivity', R_Al)"
   ]
  },
  {
   "cell_type": "markdown",
   "metadata": {},
   "source": [
    "<div style=\"background-color: #FFF8C6\">\n",
    "We have changed three things: we use the <span style=\"color:blue\">skiprows</span> keyword to skip the first two header rows, we use the <span style=\"color:blue\">delimiter</span> keyword to set the delimiter to comma (a tab would be <span style=\"color:blue\">delimiter='\\t'</span>), and we have used the <span style=\"color:blue\">unpack</span> keyword to store each column of the data in a separate array (T, R_Cu, and R_Al in this case).\n",
    "\n",
    "**Exercise: try reading [Resistivity.txt](https://cclewley.github.io/ComputingYr1/Data1/Resistivity.txt) with the keyword <span style=\"color:blue\">delimiter=','</span> and see what happens. Next try it with  <span style=\"color:blue\">delimiter=' '</span>. Finally, try reading [Resistivity.csv](https://cclewley.github.io/ComputingYr1/Data1/Resistivity.csv) without the <span style=\"color:blue\">skiprows</span> keyword. Open up the .csv file in a text editor such as WordPad and look at how the data are stored.**\n",
    "\n",
    "When reading in more complex data, the function <span style=\"color:blue\">genfromtxt()</span> in the NumPy package can be more appropriate. It incorporates more flexibility, such as dealing with missing data."
   ]
  },
  {
   "cell_type": "markdown",
   "metadata": {},
   "source": [
    "Conversely, at some point you will want to write data to an output file. To do this, we can use the <span style=\"color:blue\">savetxt()</span> function included in NumPy. Below is a simple example of how to use this. \n",
    "\n",
    "<div style=\"background-color: #00FF00\">\n",
    "    \n",
    "**Exercise 16: run the cell below and have a look at the resulting file.**\n",
    "\n",
    "**Tip: to do this, you need to make an 'Output' folder in the folder where this worksheet is located, and click on the newly created file to see a preview in your browser window.**"
   ]
  },
  {
   "cell_type": "code",
   "execution_count": null,
   "metadata": {
    "collapsed": true
   },
   "outputs": [],
   "source": [
    "np.savetxt('Output/Test_outputfile1.txt',data)"
   ]
  },
  {
   "cell_type": "markdown",
   "metadata": {},
   "source": [
    "Note that this time we specified the output file to be saved to the subfolder 'Output', which is a pre-existing folder. It is good practice to keep your files organised in a sensible folder structure, instead of dumping all output in the same folder as your script."
   ]
  },
  {
   "cell_type": "markdown",
   "metadata": {},
   "source": [
    "<div style=\"background-color: #FFF8C6\">\n",
    "Note that <span style=\"color:blue\">savetxt()</span> only takes one argument for the data to be printed, so if you want to print various 1D arrays (instead of the single 2D array in the example above), you need to combine them into a single 2D array. To do this successfully, you will need to use the NumPy <span style=\"color:blue\">column_stack()</span> function. \n",
    "\n",
    "**Exercise: the two examples below illustrate this - extend the code to print out the two arrays and have a look at the result.**"
   ]
  },
  {
   "cell_type": "code",
   "execution_count": null,
   "metadata": {
    "collapsed": true
   },
   "outputs": [],
   "source": [
    "combined_1 = [T,R_Cu,R_Al]\n",
    "combined_2 = np.column_stack([T,R_Cu,R_Al])"
   ]
  },
  {
   "cell_type": "markdown",
   "metadata": {},
   "source": [
    "<div style=\"background-color: #00FF00\">\n",
    "    \n",
    "**Exercise 17: in the cell below, find the mean of the resistivity of copper and subtract it from the copper resistivity data set, so you are left with the residuals. Do the same for aluminium. Now save your new data set (which includes temperature, copper resistivity residuals, and aluminium resistivity residuals) to a file. Make sure to choose a sensible name for your output file! Use the <span style=\"color:blue\">help()</span> function to find out what arguments and keywords the <span style=\"color:blue\">savetxt()</span> function takes. Can you include a header line with the column names and space the columns with tabs?**"
   ]
  },
  {
   "cell_type": "code",
   "execution_count": null,
   "metadata": {
    "collapsed": true
   },
   "outputs": [],
   "source": []
  },
  {
   "cell_type": "markdown",
   "metadata": {},
   "source": [
    "## 8. Plotting data<a id=\"plotting\"></a>"
   ]
  },
  {
   "cell_type": "markdown",
   "metadata": {},
   "source": [
    "When you take measurements in lab, you will want to create a graph of your data. Python has a package that specialises in plotting: <span style=\"color:blue\">matplotlib</span>. To use the plotting routines of this package, we only need to import the <span style=\"color:blue\">pyplot</span> part of the matplotlib package. "
   ]
  },
  {
   "cell_type": "code",
   "execution_count": null,
   "metadata": {
    "collapsed": true
   },
   "outputs": [],
   "source": [
    "import matplotlib.pyplot as plt"
   ]
  },
  {
   "cell_type": "markdown",
   "metadata": {},
   "source": [
    "Within Jupyter Notebooks the plots are created within the notebook itself. In most other environments (such as the Spyder IDE which you will use in Session 3) plots will be created in a separate window.\n",
    "\n",
    "We can now use the <span style=\"color:blue\">plot()</span> function to create a plot of our resistivity data:"
   ]
  },
  {
   "cell_type": "code",
   "execution_count": null,
   "metadata": {
    "collapsed": true
   },
   "outputs": [],
   "source": [
    "plt.plot(T,R_Cu)\n",
    "plt.show()"
   ]
  },
  {
   "cell_type": "markdown",
   "metadata": {},
   "source": [
    "In essence the first line in the cell above creates a plot object, and the second line shows the plot (akin to creating a variable and printing it to screen with the the <span style=\"color:blue\">print()</span> command). To be able to use a figure in your report, you will want to save it as an image or pdf file. To do this, instead of the <span style=\"color:blue\">plt.show()</span> command, use the <span style=\"color:blue\">plt.savefig()</span> command.\n",
    "\n",
    "Looking at the plot above, you may guess that the resistivity increases linearly with time, but there is some scatter in the data. A line plot is therefore not the most suitable graph; instead we want to use a scatter plot. In fact, even if the data did follow a perfect line, we would still want to plot the data points themselves as well - otherwise we would not be able to tell if the graph is the result of two datapoints or two hundred! We can do that by specifying a plotting symbol as a third argument in the <span style=\"color:blue\">plot()</span> function. Below we plot the resistivity for both copper and aluminium using different plotting symbols. We also save the image as a png file in the subfolder 'Output' (check this for yourself!)."
   ]
  },
  {
   "cell_type": "code",
   "execution_count": null,
   "metadata": {
    "collapsed": true
   },
   "outputs": [],
   "source": [
    "plt.plot(T,R_Cu,'x')\n",
    "plt.plot(T,R_Al,'+')\n",
    "plt.savefig(\"Output/Resistivity_plot.png\")\n",
    "plt.show()"
   ]
  },
  {
   "cell_type": "markdown",
   "metadata": {},
   "source": [
    "**Important note:** Make sure you put the <span style=\"color:blue\">plt.show()</span> command *after* the <span style=\"color:blue\">plt.savefig()</span> command. If you save the figure after showing it on screen, it will create an empty file!\n",
    "\n",
    "In general, when you create plots they can have three different functions:\n",
    "1. A quick look at your data or model in the middle of your work to see what it looks like (i.e. work in progress).\n",
    "2. A graph that you can show to someone else or save for later use.\n",
    "3. A graph that you can use in a presentation, report, or publication.\n",
    "\n",
    "For point 1, the above graph we created might suffice - it's a 'quick and dirty' plot that shows your data but doesn't include any information. For point 2, you would need to include at the very least enough information so that someone else (or yourself at a later point) can make sense of it. For example, the plot below includes axis titles and a legend to this purpose.\n",
    "\n",
    "![Resistivity_plot_example](https://cclewley.github.io/ComputingYr1/Images1/Resistivity_plot.png)\n",
    "\n",
    "For point 3, the layout of your graphs is incredibly important: they are the main showcase of your results! In your lab reports, you will need to create figures to a publishable standard (following the IEEE guidelines). In presentations, you may want to create bigger images with oversized fonts and thick markers of contrasting colours so that they will be projected legibly. An example of an improved Resistivity figure for this purpose is below. \n",
    "\n",
    "![Resistivity_plot](https://cclewley.github.io/ComputingYr1/Images1/Resistivity_plot_improved_final.png)\n",
    "\n",
    "<div style=\"background-color: #00FF00\">\n",
    "\n",
    "**Exercise 18: take some time to try and recreate the figure above as exactly as possible. To get you started, some code is given below to change the size of the plotting symbols, the various text elements, and the figure itself. Experiment with changing each of the values in turn. Next, add lines of code to add the title, axes labels, legend, and grid lines to the plot. Tip: use the following functions from the matplotlib library: <span style=\"color:blue\">title()</span>, <span style=\"color:blue\">xlabel()</span>, <span style=\"color:blue\">ylabel()</span>, <span style=\"color:blue\">legend()</span>, and <span style=\"color:blue\">grid()</span>.**"
   ]
  },
  {
   "cell_type": "code",
   "execution_count": null,
   "metadata": {
    "collapsed": true
   },
   "outputs": [],
   "source": [
    "# Plot parameters: experiment with different values\n",
    "params = {\n",
    "   'axes.labelsize': 8,\n",
    "   'font.size': 8,\n",
    "   'legend.fontsize': 8,\n",
    "   'xtick.labelsize': 8,\n",
    "   'ytick.labelsize': 8,\n",
    "   'figure.figsize': [6, 4]\n",
    "   } \n",
    "plt.rcParams.update(params)\n",
    "\n",
    "# Try and find out what happens when you vary the value for the mew and ms keyword\n",
    "plt.plot(T,R_Cu, 'x', mew=1, ms=5, color='red') \n",
    "plt.plot(T,R_Al, '+', mew=1, ms=5, color='blue')\n",
    "#plt.savefig(\"Output/Resistivity_plot_improved.png\")\n"
   ]
  },
  {
   "cell_type": "markdown",
   "metadata": {},
   "source": [
    "<div style=\"background-color: #FFF8C6\">\n",
    "There are many more features you can change if you have time to research them. For example, you may have noticed that the 'tick marks' on the x-axis (i.e. where the vertical grid lines are placed) in the example plot are different from the default values. \n",
    "<p>\n",
    "    \n",
    "**Exercise: can you find out how to change your tick marks accordingly? Another thing to try is changing the font to Arial using the <span style=\"color:blue\">rcParams</span> data structure.**"
   ]
  },
  {
   "cell_type": "markdown",
   "metadata": {},
   "source": [
    "For your lab report, a useful way of proceeding is to first determine the size your figure will be in your report (e.g. width of one column) and then creating a figure of exactly that size in your code, using the same font size and type as the rest of your report. This ensures that you will not need to rescale your figure, which can lead to undesirable results. \n",
    "\n",
    "Note that once you have run <span style=\"color:blue\">plt.rcParams.update(params)</span>, your subsequent plots will retain the same parameters. You can reset the plotting style in your notebook by running the following:"
   ]
  },
  {
   "cell_type": "code",
   "execution_count": null,
   "metadata": {
    "collapsed": true
   },
   "outputs": [],
   "source": [
    "plt.style.use(\"default\")"
   ]
  },
  {
   "cell_type": "markdown",
   "metadata": {},
   "source": [
    "<div style=\"background-color: #FFF8C6\">\n",
    "The <span style=\"color:blue\">plt.style.use(\"default\")</span> function loads the default style sheet. There are other pre-defined style sheets that change the look of your plots. To list all available style sheets, run: \n",
    "\n",
    "```python\n",
    "print(plt.style.available)\n",
    "```\n",
    "\n",
    "**Exercise: experiment with a few different style sheets. You can even create your own style sheet and load it in this way!**"
   ]
  },
  {
   "cell_type": "markdown",
   "metadata": {},
   "source": [
    "<div style=\"background-color: cyan\"> Do you have any questions about making figures, array statistics and reading / writing files?"
   ]
  },
  {
   "cell_type": "markdown",
   "metadata": {},
   "source": [
    "The next section looks at creating plots with logarithmic scales. This is optional, and if you have less than 20 minutes left we recommend you skip straight to section 10: Coding Practices."
   ]
  },
  {
   "cell_type": "markdown",
   "metadata": {},
   "source": [
    "<div style=\"background-color: #FFF8C6\">\n",
    "    \n",
    "## 9. Optional:  Log plots<a id=\"logplots\"></a>\n",
    "\n",
    "Two other types of plots you will need to create frequently are logarithmic plots and histograms. Logarithmic plots are particularly good at highlighting different types of relationships between two parameters. Three examples are:\n",
    "1. Sound intensity $\\beta$ in dB: $$\\beta = 10 \\log{\\frac{I}{I_0}},$$ where $I$ is the intensity in $\\rm W\\,m^{-2}$ and $I_0 = 1.00\\times10^{-12}\\rm W\\,m^{-2}$ for air.\n",
    "<p>\n",
    "2. Radioactive decay: $$N = N_0 e^{-t/\\tau},$$ \n",
    "<p>where $N$ is the number of particles in the sample, $N_0$ is the initial number of particles, and $\\tau$ is the lifetime of the particles.\n",
    "<p>\n",
    "3. The period of oscillation $T$ of a pendulum (for small amplitudes): $$T = 2\\pi \\sqrt{\\frac{L}{g}}.$$ Here $L$ is the length of the pendulum and $g$ is the gravitational constant.\n",
    "\n",
    "Below is the code to create a plot for example 1. "
   ]
  },
  {
   "cell_type": "code",
   "execution_count": null,
   "metadata": {
    "collapsed": true
   },
   "outputs": [],
   "source": [
    "I_0 = 1e-12\n",
    "I = np.linspace(0.1,10,20)# Array with 20 intensity spanning 0.1 - 10 Wm^-2 \n",
    "beta = 10*np.log(I/I_0)# The sound intensity in dB\n",
    "plt.plot(I,beta)\n",
    "plt.plot(I,beta,'x')\n",
    "plt.xlabel(\"Intensity (W/m^2)\")\n",
    "plt.ylabel(\"Sound intensity beta (dB)\")\n",
    "plt.xscale('log')\n",
    "plt.show()"
   ]
  },
  {
   "cell_type": "markdown",
   "metadata": {},
   "source": [
    "<div style=\"background-color: #FFF8C6\">\n",
    "When you run the cell above, you will notice that the x-axis is scaled to logarithmically to allow the relationship between $\\beta$ and $I$ to be displayed as a straight line. This is done using the <span style=\"color:blue\">xscale('log')</span> command from the pyplot package. The sound intensity is plotted both as a line and as crosses. You will see that the data points are all clustered in the top right of the graph. This is because we have spaced the intensity linearly. It would be better to space the datapoints evenly in log space: to do this we can use the <span style=\"color:blue\">logspace()</span> function that is included in NumPy. \n",
    "\n",
    "**Exercise: below, recreate the above plot but with data points evenly spaced in log space.**"
   ]
  },
  {
   "cell_type": "code",
   "execution_count": null,
   "metadata": {
    "collapsed": true
   },
   "outputs": [],
   "source": []
  },
  {
   "cell_type": "markdown",
   "metadata": {},
   "source": [
    "<div style=\"background-color: #FFF8C6\">\n",
    "For examples 2 and 3 we need two different types of logarithmic plots in order to display the relationships as a straight line. \n",
    "<p>\n",
    "    \n",
    "**Exercise: create both plots yourself below.**"
   ]
  },
  {
   "cell_type": "code",
   "execution_count": null,
   "metadata": {
    "collapsed": true
   },
   "outputs": [],
   "source": []
  },
  {
   "cell_type": "code",
   "execution_count": null,
   "metadata": {
    "collapsed": true
   },
   "outputs": [],
   "source": []
  },
  {
   "cell_type": "markdown",
   "metadata": {},
   "source": [
    "<div style=\"background-color: #FFF8C6\">\n",
    "Often in axis labels you might want to use greek symbols or superscript (e.g. m$^2$). This can be achieved by using LaTeX's math text commands. For a simple example, replace the label commands of the first example plot in this section (sound intensity $\\beta$ versus $I$) with:\n",
    "\n",
    "```python\n",
    "plt.xlabel(r\"Intensity (W/m$^2$)\")\n",
    "plt.ylabel(r\"Sound intensity $\\beta$ (dB)\")\n",
    "\n",
    "```\n",
    "Note the insertion of the 'r' in front of the label string, and the dollar signs around the parts that of the string that use math text commands. For a more comprehensive introduction, take a look at [this guide](https://matplotlib.org/users/mathtext.html)."
   ]
  },
  {
   "cell_type": "markdown",
   "metadata": {},
   "source": [
    "## 10. Coding practices<a id=\"codingpractices\"></a>\n",
    "\n",
    "In the previous sections we have written brief snippets of Python code to achieve a specific task, i.e. defining a variable or data structure and printing out the values of these, or creating a plot from existing data. However from the next session we will start to write longer pieces of code, and there are some best practices that should be used to keep your code and results legible.\n",
    "\n",
    "#### Comments\n",
    "\n",
    "In this course, your experimental labs and your time as a physicist, you will be working on projects that can span days, weeks or even months. There may be substantial time between when you first write the code and when you next look at it. Additionally, you may want to send this code to a collaborator to work on, and they may not understand all of the steps you have taken (it is notoriously hard to read and interpret someone else's code). To that end, Python (and all programming languages) allow you to comment your code, which will allow you to write reminders and any important information that is needed when running your code. As we've already seen, comments use the following syntax:\n",
    "\n",
    "```python\n",
    "# This is a python comment\n",
    "```\n",
    "\n",
    "Any line that begins with the <span style=\"color:blue\">#</span> symbol is not executed as a piece of python code and is purely for human benefit. **You should *always* comment your code extensively**. Comments don't have to be incredibly detailed but should give a brief description of what you are doing. Consider a snippet of code that calculates the hypotenuse of a right-angled triangle:"
   ]
  },
  {
   "cell_type": "code",
   "execution_count": null,
   "metadata": {
    "collapsed": true
   },
   "outputs": [],
   "source": [
    "#This snippet of code calculates the hypotenuse of a triangle, given the height and width\n",
    "a=3 #Height in cm\n",
    "b=4 #Width in cm\n",
    "c=np.sqrt(a**2+b**2)\n",
    "print(c) #Print the result"
   ]
  },
  {
   "cell_type": "markdown",
   "metadata": {},
   "source": [
    "The comments are short but clearly describe what is happening in the code. As your work becomes more complicated, the use of comments will save a lot of hassle in the future. When you write full programmes, you may want to include comments at the top with your name and data, to act as a fossil record of when work was implemented, and what the purpose is of your programme.\n",
    "\n",
    "\n",
    "#### Print statements and formatting\n",
    "\n",
    "When printing variables to the screen thus far, we  sometimes only printed the variables themselves, with no further information about what they are respresenting physically. Like the idea of comments above, adding extra text will make it easier to keep track of what is going on when you return to work at a later date. Consider the following example:"
   ]
  },
  {
   "cell_type": "code",
   "execution_count": null,
   "metadata": {
    "collapsed": true
   },
   "outputs": [],
   "source": [
    "#This snippet of code calculates the hypotenuse of a triangle,given the height and width\n",
    "a=3 #Height in cm\n",
    "b=4 #Width in cm\n",
    "c=np.sqrt(a**2+b**2)\n",
    "print(c) #Just printing the number\n",
    "#Isn't the output of the statement below much more useful?\n",
    "print(\"The hypotenuse of a triangle with width \", a, \" cm and height \", b, \" cm is \", c, \" cm \") "
   ]
  },
  {
   "cell_type": "markdown",
   "metadata": {},
   "source": [
    "Looking at the above outputs, which one is more descriptive and will be useful when you return to the code later on? Note the use of comments to help you understand what the code is trying to achieve. Also take note of including units in your print statement, this will help to improve legibility.\n",
    "\n",
    "<div style=\"background-color: #FFF8C6\">\n",
    "Having control of how you present your results is also very important. As scientists we should only quote results to the relevant number of significant figures. Look at the following code:"
   ]
  },
  {
   "cell_type": "code",
   "execution_count": null,
   "metadata": {
    "collapsed": true
   },
   "outputs": [],
   "source": [
    "#This snippet of code calculates the hypotenuse of a triangle,given the height and width\n",
    "a=1 #Height in cm\n",
    "b=2 #Width in cm\n",
    "c=np.sqrt(a**2+b**2)\n",
    "print(\"The hypotenuse of a triangle with width \", a, \"cm and height \", b, \" cm is \", c,\" cm \")"
   ]
  },
  {
   "cell_type": "markdown",
   "metadata": {},
   "source": [
    "<div style=\"background-color: #FFF8C6\">\n",
    "Here we have taken the the above hypotenuse code but this time given it inputs that do not give an integer output. As scientists when we take measurements, we are unlikely to be able to quote to the precision that Python gives us by default. When presenting our work we therefore need to put in an appropriate format that reflects our confidence in the result. To do this, when we print our results to an output, we can use format statements. Run the code cell below and look at the output of the revised print statement."
   ]
  },
  {
   "cell_type": "code",
   "execution_count": null,
   "metadata": {
    "collapsed": true
   },
   "outputs": [],
   "source": [
    "print(\"The hypotenuse of a triangle with width %d cm and height %d cm is %.2f cm\" % (a,b,c))"
   ]
  },
  {
   "cell_type": "markdown",
   "metadata": {},
   "source": [
    "<div style=\"background-color: #FFF8C6\">\n",
    "This method of creating a print statement may look more complicated, but it gives you greater control on your outputs. Let's break down what is used in this statement. Firstly, in between the print brackets we have replaced:\n",
    "```python \n",
    ", a,\n",
    ", b,\n",
    ", c,\n",
    "``` \n",
    "with the commands:\n",
    "```python\n",
    "\"%d\"\n",
    "\"%d\"\n",
    "\"%.2f\"\n",
    "```\n",
    "within the string itself. The % symbol here acts as a place holder: it reads as \"insert variable value here\". The 'd' means that the variable should be printed as an integer. The '.2f statement means that the variable should be printed as a float with two decimal point.\n",
    "\n",
    "Now we need to specify which variables should be printed. To do this, we add the command:\n",
    "\n",
    "```python\n",
    "% (a,b,c)\n",
    "```\n",
    "\n",
    "after the string. Note that the variables need to be given in the order of which they should appear in the text.\n",
    "\n",
    "**Exercise: look at the code below that calculates the area and volume for a sphere for a variable radius which is in units of meters. Interpret this code, and make it code legible by including comments, string outputs and format statements.**"
   ]
  },
  {
   "cell_type": "code",
   "execution_count": null,
   "metadata": {
    "collapsed": true
   },
   "outputs": [],
   "source": [
    "r=1\n",
    "a=4*np.pi*r**2\n",
    "v=4*np.pi/3*r**3\n",
    "print(r,a,v)"
   ]
  },
  {
   "cell_type": "markdown",
   "metadata": {},
   "source": [
    "<div style=\"background-color: #FFF8C6\">\n",
    "    \n",
    "#### Formatting file output\n",
    "Open the file you created in Exercise 17. You may notice that the formatting of your file may not be exactly to your liking. For example, the header names might not line up with your data columns, and the data may have too many decimal places. All this can be fixed by changing the formatting of the output that is written to file. For example, we can force the number of decimal places in the three columns of data by setting the following keyword in the <span style=\"color:blue\">savetxt()</span> function: <span style=\"color:blue\">fmt=\"%.d %.2e %.2e\"</span>.\n",
    "This ensures the first column is printed as an integer, and the other two columns are printed using scientific notation with two decimal places. If you have time, experiment with changing the format of the data in your output file. \n",
    "\n",
    "For a more comprehensive guide on formatting output, have a look at [this tutorial](https://www.python-course.eu/python3_formatted_output.php). Knowing how to format Python output appropriately will come in very handy in the future."
   ]
  },
  {
   "cell_type": "markdown",
   "metadata": {},
   "source": [
    "### How to tackle coding problems\n",
    "\n",
    "In general when faced with a coding problem, writing code right away sometimes isn't the most efficient route. Taking the time to think about and prepare yourself is key to getting your code running as quickly as possible. This can come in may forms, but some of the most important methods are:\n",
    "\n",
    "- Writing Flow Diagrams\n",
    "- Writing Pseudo-code\n",
    "- Rubber Duck Programming (i.e. say what you see)\n",
    "\n",
    "**Writing flow diagrams** is useful when you are planning how the workflow of your program will progress. This will become crucial when we look at concepts such as for loops and if/while statements in session 3, but a basic flow diagram can help you think about how you want your code to be structure.\n",
    " "
   ]
  },
  {
   "cell_type": "markdown",
   "metadata": {},
   "source": [
    "![flow_diagram](https://cclewley.github.io/ComputingYr1/Images1/flow-diagram.PNG)"
   ]
  },
  {
   "cell_type": "markdown",
   "metadata": {},
   "source": [
    "The above flow diagram is very general and lays out how most coding will be tackled. In reality, your flow diagrams will be centred around the 'perform calculation' section.\n",
    "\n",
    "\n",
    "**Pseudo-code** is a collection of code snippets and plain text thatare  meant to describe *how* you will implement code. It comes after designing the structure of your code with a flow diagram, and is not meant to be executable code; rather it will help clarify your thoughts and give you a methodology with which to build your code. Look at the pseudo-code below of the triangle example we have used previously."
   ]
  },
  {
   "cell_type": "code",
   "execution_count": null,
   "metadata": {
    "collapsed": true
   },
   "outputs": [],
   "source": [
    "import numpy as sp\n",
    "\n",
    "Define length and height of triangle\n",
    "\n",
    "calculate hypotenuse - sqrt(length**2 + height**2)\n",
    "\n",
    "Print out results"
   ]
  },
  {
   "cell_type": "markdown",
   "metadata": {},
   "source": [
    "Finally if you are having issues with the execution of your code, sometimes it is worth talking about it. **Rubber duck programming** is an affectionate term for talking through your code line by line. You will find that demonstrators often ask you for a rubber duck explanation when you have a problem with your code (although they won't usually use this term)! The idea is that you describe exactly what each line of your code is supposed to do. By saying out loud what the code is *meant* to do, and really focussing on what you have actually *written*, it will be easier to identify issues with your code."
   ]
  },
  {
   "cell_type": "markdown",
   "metadata": {},
   "source": [
    "You have now finished the core material of this session. If you have time left, and have not yet attempted the optional material in yellow, this is a good moment to go back and look at it. There are many tips and exercises in there that will be useful to your coding in the future. Alternatively, if you have already completed *all* the material in this work sheet, you may want to attempt the advanced work sheet. This deals with different data types and introduces you to the pandas package, which is designed for the analysis of large data sets.\n",
    "## Please complete the [Mentimeter Poll](https://www.menti.com/jpihm6f36h) for this session! "
   ]
  },
  {
   "cell_type": "code",
   "execution_count": null,
   "metadata": {
    "collapsed": true
   },
   "outputs": [],
   "source": []
  }
 ],
 "metadata": {
  "kernelspec": {
   "display_name": "Python 3 (ipykernel)",
   "language": "python",
   "name": "python3"
  },
  "language_info": {
   "codemirror_mode": {
    "name": "ipython",
    "version": 3
   },
   "file_extension": ".py",
   "mimetype": "text/x-python",
   "name": "python",
   "nbconvert_exporter": "python",
   "pygments_lexer": "ipython3",
   "version": "3.8.13"
  }
 },
 "nbformat": 4,
 "nbformat_minor": 2
}
