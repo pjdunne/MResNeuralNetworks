{
 "cells": [
  {
   "cell_type": "markdown",
   "metadata": {},
   "source": [
    "# Session 1 example solutions"
   ]
  },
  {
   "cell_type": "markdown",
   "metadata": {},
   "source": [
    "**These are example solutions for Session 1. Please note that there are always many different ways in coding to approach a problem - the code below shows one way of solving the exercises, but this certainly won't be the only way. You may well have found an alternative (or even better) solution yourself!**"
   ]
  },
  {
   "cell_type": "markdown",
   "metadata": {},
   "source": [
    "## 3. Literals, operators, and data types<a id=\"operators\"></a>"
   ]
  },
  {
   "cell_type": "markdown",
   "metadata": {},
   "source": [
    "**Exercise 2: in the cell below, try typing:**\n",
    "\n",
    "<span style=\"color:blue\">8 + 2</span>\n",
    "\n",
    "**Now run the cell by pressing shift+enter or by clicking the 'run cell button' (play symbol) in the toolbar at the top of this notebook.**"
   ]
  },
  {
   "cell_type": "code",
   "execution_count": 55,
   "metadata": {},
   "outputs": [
    {
     "data": {
      "text/plain": [
       "10"
      ]
     },
     "execution_count": 55,
     "metadata": {},
     "output_type": "execute_result"
    }
   ],
   "source": [
    "8+2"
   ]
  },
  {
   "cell_type": "markdown",
   "metadata": {},
   "source": [
    "**Exercise 3: in the cells below, try out each of the operators given above - use one cell for each arithmetic statement. You can add as many cells as you like by using the 'insert cell below' (plus symbol) button. Make sure you understand how each operator works (if not, do ask one of your demonstrators - they will be happy to explain). What happens if you mix the data types of the operands in your calculation, for example add an integer to a float?**"
   ]
  },
  {
   "cell_type": "code",
   "execution_count": 4,
   "metadata": {},
   "outputs": [
    {
     "name": "stdout",
     "output_type": "stream",
     "text": [
      "5\n",
      "-1\n",
      "6\n",
      "0\n",
      "0.666666666667\n",
      "0\n"
     ]
    }
   ],
   "source": [
    "print(2+3)\n",
    "print(2-3)\n",
    "print(2*3)\n",
    "print(2/3)\n",
    "print(2./3.)\n",
    "print(2//3)"
   ]
  },
  {
   "cell_type": "markdown",
   "metadata": {
    "collapsed": true
   },
   "source": [
    "You should have found that the operators mostly work like you would expect them to intuitively. Note that how divisions of integers work compared to floats. Pay attention to the modulus and the floor division:"
   ]
  },
  {
   "cell_type": "code",
   "execution_count": 56,
   "metadata": {},
   "outputs": [
    {
     "name": "stdout",
     "output_type": "stream",
     "text": [
      "1\n",
      "3\n",
      "10\n"
     ]
    }
   ],
   "source": [
    "print(10%3)\n",
    "print(10//3)\n",
    "print(10%3 + 3*(10//3))"
   ]
  },
  {
   "cell_type": "markdown",
   "metadata": {},
   "source": [
    "**Exercise 4: run the examples in the following code cells:**"
   ]
  },
  {
   "cell_type": "code",
   "execution_count": 57,
   "metadata": {},
   "outputs": [
    {
     "data": {
      "text/plain": [
       "int"
      ]
     },
     "execution_count": 57,
     "metadata": {},
     "output_type": "execute_result"
    }
   ],
   "source": [
    "type(1)"
   ]
  },
  {
   "cell_type": "code",
   "execution_count": 58,
   "metadata": {},
   "outputs": [
    {
     "data": {
      "text/plain": [
       "float"
      ]
     },
     "execution_count": 58,
     "metadata": {},
     "output_type": "execute_result"
    }
   ],
   "source": [
    "type(1.0)"
   ]
  },
  {
   "cell_type": "code",
   "execution_count": 59,
   "metadata": {},
   "outputs": [
    {
     "data": {
      "text/plain": [
       "str"
      ]
     },
     "execution_count": 59,
     "metadata": {},
     "output_type": "execute_result"
    }
   ],
   "source": [
    "type(\"1\")"
   ]
  },
  {
   "cell_type": "code",
   "execution_count": 60,
   "metadata": {},
   "outputs": [
    {
     "data": {
      "text/plain": [
       "complex"
      ]
     },
     "execution_count": 60,
     "metadata": {},
     "output_type": "execute_result"
    }
   ],
   "source": [
    "type(1+1j)"
   ]
  },
  {
   "cell_type": "code",
   "execution_count": 61,
   "metadata": {},
   "outputs": [
    {
     "data": {
      "text/plain": [
       "list"
      ]
     },
     "execution_count": 61,
     "metadata": {},
     "output_type": "execute_result"
    }
   ],
   "source": [
    "type([1,2])"
   ]
  },
  {
   "cell_type": "markdown",
   "metadata": {},
   "source": [
    "**Exercise 5: In order to get used to error messages, run the following cell, and read the error message *before* correcting the code. The cell is supposed to output the number 20! **"
   ]
  },
  {
   "cell_type": "code",
   "execution_count": 5,
   "metadata": {},
   "outputs": [
    {
     "ename": "SyntaxError",
     "evalue": "invalid syntax (<ipython-input-5-ec5347ddc2f1>, line 1)",
     "output_type": "error",
     "traceback": [
      "\u001b[1;36m  File \u001b[1;32m\"<ipython-input-5-ec5347ddc2f1>\"\u001b[1;36m, line \u001b[1;32m1\u001b[0m\n\u001b[1;33m    10 + 1o\u001b[0m\n\u001b[1;37m          ^\u001b[0m\n\u001b[1;31mSyntaxError\u001b[0m\u001b[1;31m:\u001b[0m invalid syntax\n"
     ]
    }
   ],
   "source": [
    "10 + 1o"
   ]
  },
  {
   "cell_type": "code",
   "execution_count": 6,
   "metadata": {},
   "outputs": [
    {
     "data": {
      "text/plain": [
       "20"
      ]
     },
     "execution_count": 6,
     "metadata": {},
     "output_type": "execute_result"
    }
   ],
   "source": [
    "10+10"
   ]
  },
  {
   "cell_type": "markdown",
   "metadata": {},
   "source": [
    "Pay careful attention to syntax of your expressions, and be sure to look at the errors you encounter."
   ]
  },
  {
   "cell_type": "markdown",
   "metadata": {},
   "source": [
    "** Exercise 6: coding has many quirks that you will get used to with practice. Try and answer the following questions for yourself whilst experimenting with arithmetic operators:**\n",
    "\n",
    "- **Do all answers make sense?**\n",
    "- **Can you use numbers as big as you like? Is there an upper limit to the exponent in scientific notation?**\n",
    "- **Can you use numbers as small as you like? Is there a lower limit to the exponent?**\n",
    "- **Can numbers be as precise as you like? How many zeros do you need before 1.00000000000000000001 gets truncated? **\n",
    "- **What happens if you don’t balance your brackets?**\n",
    "- **Can you apply arithmetic operators to strings? If so, which, and what is the result?**\n",
    "\n",
    "**Make sure to note down the answers (along with anything interesting or unexpected you find out) in your lab book!**"
   ]
  },
  {
   "cell_type": "code",
   "execution_count": 27,
   "metadata": {},
   "outputs": [
    {
     "ename": "SyntaxError",
     "evalue": "unexpected EOF while parsing (<ipython-input-27-3b1ae9ddf6ba>, line 1)",
     "output_type": "error",
     "traceback": [
      "\u001b[1;36m  File \u001b[1;32m\"<ipython-input-27-3b1ae9ddf6ba>\"\u001b[1;36m, line \u001b[1;32m1\u001b[0m\n\u001b[1;33m    (10*(8+2)**2 # this will give a 'syntax error' as the brackets are unbalanced\u001b[0m\n\u001b[1;37m                                                                                 ^\u001b[0m\n\u001b[1;31mSyntaxError\u001b[0m\u001b[1;31m:\u001b[0m unexpected EOF while parsing\n"
     ]
    }
   ],
   "source": [
    " (10*(8+2)**2 # this will give a 'syntax error' as the brackets are unbalanced"
   ]
  },
  {
   "cell_type": "code",
   "execution_count": 36,
   "metadata": {},
   "outputs": [
    {
     "name": "stdout",
     "output_type": "stream",
     "text": [
      "1e+308\n",
      "inf\n",
      "9.88131291682e-324\n",
      "0.0\n",
      "1.00000000001\n",
      "1.0\n",
      "(11.0, 10.0, 1.0)\n"
     ]
    }
   ],
   "source": [
    "print(1.0e308)# maximum exponent on my system\n",
    "print(1.0e309)# This gives inf on my system\n",
    "print(1.0e-323)#small exponent on my system - Note the roundoff error\n",
    "print(1.0e-324)# This gives 0 on my system\n",
    "print(1.00000000001)# This is printed fully on my system (10 zeros)\n",
    "print(1.000000000001)# This gets truncated to 1.0 on my system, i.e. floats have accuracy of the order of 1e-12 \n",
    "print(1+10.0, 1*10.0, 1**2.0)# Mixing integers and floats gives float results"
   ]
  },
  {
   "cell_type": "markdown",
   "metadata": {},
   "source": [
    "To understand the capabilities of your sytem, you can import the system library and get information on how it handles floats."
   ]
  },
  {
   "cell_type": "code",
   "execution_count": 37,
   "metadata": {},
   "outputs": [
    {
     "name": "stdout",
     "output_type": "stream",
     "text": [
      "sys.float_info(max=1.7976931348623157e+308, max_exp=1024, max_10_exp=308, min=2.2250738585072014e-308, min_exp=-1021, min_10_exp=-307, dig=15, mant_dig=53, epsilon=2.220446049250313e-16, radix=2, rounds=1)\n"
     ]
    }
   ],
   "source": [
    "import sys as sys\n",
    "print(sys.float_info) # This gives info on your system's maximum float exponent and accuracy (epsilon)"
   ]
  },
  {
   "cell_type": "code",
   "execution_count": 65,
   "metadata": {},
   "outputs": [
    {
     "name": "stdout",
     "output_type": "stream",
     "text": [
      "hello and bye bye\n",
      "hello hello hello \n"
     ]
    }
   ],
   "source": [
    "print(\"hello\"+\" and bye bye\")# You can add strings together\n",
    "print(3*\"hello \")# You can even multiply strings with integers\n",
    "#print(1+\"hello\") # You can't add an integer to a string ('unsupported operand type' error), nor divide, nor use a power"
   ]
  },
  {
   "cell_type": "markdown",
   "metadata": {},
   "source": [
    "<div style=\"background-color: #FFF8C6\">\n",
    "You may have noticed floats do not have unlimited accuracy. This is an important feature of computer programming, not just a bug in Python. To read more about why this happens, have a look at [this tutorial.](https://docs.python.org/3/tutorial/floatingpoint.html) "
   ]
  },
  {
   "cell_type": "markdown",
   "metadata": {},
   "source": [
    "<div style=\"background-color: #FFF8C6\">\n",
    "** Exercise: try converting different types of data below. Answer the following questions:**\n",
    "- **Can you turn a string of letters into a float or integer?**\n",
    "- **What happens when you convert a float with non-zero decimal points into an integer? Make sure to try different values of decimals!**\n",
    "- **Can you turn a complex number into a string, float, or integer?**"
   ]
  },
  {
   "cell_type": "code",
   "execution_count": 44,
   "metadata": {},
   "outputs": [],
   "source": [
    "my_string_1='string'\n",
    "my_string_2='66'\n",
    "my_float_1=12.4\n",
    "my_float_2=12.6\n",
    "my_complex=2+3j"
   ]
  },
  {
   "cell_type": "code",
   "execution_count": 49,
   "metadata": {},
   "outputs": [
    {
     "ename": "ValueError",
     "evalue": "could not convert string to float: string",
     "output_type": "error",
     "traceback": [
      "\u001b[1;31m---------------------------------------------------------------------------\u001b[0m",
      "\u001b[1;31mValueError\u001b[0m                                Traceback (most recent call last)",
      "\u001b[1;32m<ipython-input-49-936eaa303339>\u001b[0m in \u001b[0;36m<module>\u001b[1;34m()\u001b[0m\n\u001b[1;32m----> 1\u001b[1;33m \u001b[0mstring_float_1\u001b[0m\u001b[1;33m=\u001b[0m\u001b[0mfloat\u001b[0m\u001b[1;33m(\u001b[0m\u001b[0mmy_string_1\u001b[0m\u001b[1;33m)\u001b[0m\u001b[1;33m\u001b[0m\u001b[0m\n\u001b[0m",
      "\u001b[1;31mValueError\u001b[0m: could not convert string to float: string"
     ]
    }
   ],
   "source": [
    "string_float_1=float(my_string_1)"
   ]
  },
  {
   "cell_type": "code",
   "execution_count": 50,
   "metadata": {},
   "outputs": [
    {
     "name": "stdout",
     "output_type": "stream",
     "text": [
      "66.0\n"
     ]
    }
   ],
   "source": [
    "string_float_2=float(my_string_2)\n",
    "print(string_float_2)"
   ]
  },
  {
   "cell_type": "code",
   "execution_count": 47,
   "metadata": {},
   "outputs": [
    {
     "name": "stdout",
     "output_type": "stream",
     "text": [
      "12\n"
     ]
    }
   ],
   "source": [
    "float_int_1=int(my_float_1)\n",
    "print(float_int_1)"
   ]
  },
  {
   "cell_type": "code",
   "execution_count": 48,
   "metadata": {},
   "outputs": [
    {
     "name": "stdout",
     "output_type": "stream",
     "text": [
      "12\n"
     ]
    }
   ],
   "source": [
    "float_int_2=int(my_float_2)\n",
    "print(float_int_2)"
   ]
  },
  {
   "cell_type": "code",
   "execution_count": 52,
   "metadata": {},
   "outputs": [
    {
     "name": "stdout",
     "output_type": "stream",
     "text": [
      "(2+3j)\n"
     ]
    }
   ],
   "source": [
    "complex_string=str(my_complex)\n",
    "print(complex_string)"
   ]
  },
  {
   "cell_type": "code",
   "execution_count": 53,
   "metadata": {},
   "outputs": [
    {
     "ename": "TypeError",
     "evalue": "can't convert complex to float",
     "output_type": "error",
     "traceback": [
      "\u001b[1;31m---------------------------------------------------------------------------\u001b[0m",
      "\u001b[1;31mTypeError\u001b[0m                                 Traceback (most recent call last)",
      "\u001b[1;32m<ipython-input-53-cb5ea390a3bd>\u001b[0m in \u001b[0;36m<module>\u001b[1;34m()\u001b[0m\n\u001b[1;32m----> 1\u001b[1;33m \u001b[0mcomplex_float\u001b[0m\u001b[1;33m=\u001b[0m\u001b[0mfloat\u001b[0m\u001b[1;33m(\u001b[0m\u001b[0mmy_complex\u001b[0m\u001b[1;33m)\u001b[0m\u001b[1;33m\u001b[0m\u001b[0m\n\u001b[0m",
      "\u001b[1;31mTypeError\u001b[0m: can't convert complex to float"
     ]
    }
   ],
   "source": [
    "complex_float=float(my_complex)"
   ]
  },
  {
   "cell_type": "markdown",
   "metadata": {},
   "source": [
    "- Character strings cannot be converted into floats, but float strings can.\n",
    "- Using int will discard the remaineder of a float.\n",
    "- You cannot directly turn an complex number into an integer"
   ]
  },
  {
   "cell_type": "markdown",
   "metadata": {},
   "source": [
    "## 4. Variables and keywords<a id=\"variables\"></a>"
   ]
  },
  {
   "cell_type": "markdown",
   "metadata": {},
   "source": [
    "**Exercise 7: run the cells below and see what happens:**"
   ]
  },
  {
   "cell_type": "code",
   "execution_count": 66,
   "metadata": {},
   "outputs": [
    {
     "name": "stdout",
     "output_type": "stream",
     "text": [
      "4\n"
     ]
    }
   ],
   "source": [
    "x = 4\n",
    "print(x)"
   ]
  },
  {
   "cell_type": "code",
   "execution_count": 67,
   "metadata": {},
   "outputs": [
    {
     "data": {
      "text/plain": [
       "6"
      ]
     },
     "execution_count": 67,
     "metadata": {},
     "output_type": "execute_result"
    }
   ],
   "source": [
    "x + 2"
   ]
  },
  {
   "cell_type": "code",
   "execution_count": 68,
   "metadata": {},
   "outputs": [
    {
     "name": "stdout",
     "output_type": "stream",
     "text": [
      "6\n"
     ]
    }
   ],
   "source": [
    "y = x + 2\n",
    "print(y)"
   ]
  },
  {
   "cell_type": "markdown",
   "metadata": {},
   "source": [
    "**Exercise 8: to illustrate this, try running the  code cells below and pay careful attention to the output of each cell.**"
   ]
  },
  {
   "cell_type": "code",
   "execution_count": 69,
   "metadata": {},
   "outputs": [
    {
     "data": {
      "text/plain": [
       "1"
      ]
     },
     "execution_count": 69,
     "metadata": {},
     "output_type": "execute_result"
    }
   ],
   "source": [
    "a = 1\n",
    "b = 2\n",
    "a"
   ]
  },
  {
   "cell_type": "code",
   "execution_count": 70,
   "metadata": {},
   "outputs": [
    {
     "data": {
      "text/plain": [
       "2"
      ]
     },
     "execution_count": 70,
     "metadata": {},
     "output_type": "execute_result"
    }
   ],
   "source": [
    "a\n",
    "b"
   ]
  },
  {
   "cell_type": "code",
   "execution_count": 71,
   "metadata": {},
   "outputs": [
    {
     "name": "stdout",
     "output_type": "stream",
     "text": [
      "1\n",
      "2\n"
     ]
    }
   ],
   "source": [
    "print(a)\n",
    "print(b)"
   ]
  },
  {
   "cell_type": "markdown",
   "metadata": {},
   "source": [
    "**Exercise 9: below, assign variable names to data provided by literals, or to the results of computation using operators. Try and find out the answers to the following questions:**\n",
    "\n",
    "- **Can you identify the rules that govern the possible names? Some names to try: my_glorious_variable_3, True, 1value, my favourite value, A#B...**\n",
    "- **Are the values case sensitive, i.e., is 'name' the same as 'naMe'?**\n",
    "- **What happens when you give the same name to two different values?**\n",
    "- **What happens when you give two different names to the same value?**\n",
    "- **What happens if you store the result of a calculation involving a particular variable as that very variable?**"
   ]
  },
  {
   "cell_type": "markdown",
   "metadata": {
    "collapsed": true
   },
   "source": [
    "- Variable names can't have spaces and cannot start with a number. \n",
    "- If you inadvertently choose a keyword as a variable name it will give an error. \n",
    "- Most symbols can't be used because e.g. they are operands. \n",
    "- You can't have spaces in variable names\n",
    "- Variable names are case sensitive. "
   ]
  },
  {
   "cell_type": "code",
   "execution_count": 72,
   "metadata": {},
   "outputs": [
    {
     "name": "stdout",
     "output_type": "stream",
     "text": [
      "10\n",
      "20\n"
     ]
    }
   ],
   "source": [
    "# Assigning the same name to two values simply overwrites the variable's value:\n",
    "x = 10\n",
    "print(x)\n",
    "x = 20\n",
    "print(x)"
   ]
  },
  {
   "cell_type": "code",
   "execution_count": 73,
   "metadata": {},
   "outputs": [
    {
     "name": "stdout",
     "output_type": "stream",
     "text": [
      "10 10\n",
      "20 10\n"
     ]
    }
   ],
   "source": [
    "# Assign the same value to two different variables:\n",
    "variable1 = 10\n",
    "variable2 = 10\n",
    "print(variable1,variable2)\n",
    "\n",
    "# Now change the first variable\n",
    "variable1 = 20\n",
    "print(variable1,variable2)# the second variable is unchanged"
   ]
  },
  {
   "cell_type": "code",
   "execution_count": 74,
   "metadata": {},
   "outputs": [
    {
     "name": "stdout",
     "output_type": "stream",
     "text": [
      "5\n"
     ]
    }
   ],
   "source": [
    "# This works fine:\n",
    "x = 3\n",
    "x = x + 2 # x is now its previous value (i.e. 3) plus 2\n",
    "print(x)"
   ]
  },
  {
   "cell_type": "markdown",
   "metadata": {},
   "source": [
    "# 5. NumPy and arrays<a id=\"arrays\"></a>"
   ]
  },
  {
   "cell_type": "code",
   "execution_count": 3,
   "metadata": {},
   "outputs": [],
   "source": [
    "import numpy as np"
   ]
  },
  {
   "cell_type": "code",
   "execution_count": 4,
   "metadata": {},
   "outputs": [],
   "source": [
    "A = np.array([10,20,30,40,50,60,70,80,90,100])"
   ]
  },
  {
   "cell_type": "code",
   "execution_count": 5,
   "metadata": {},
   "outputs": [
    {
     "name": "stdout",
     "output_type": "stream",
     "text": [
      "[100  90  80  70  60  50  40  30  20  10]\n"
     ]
    }
   ],
   "source": [
    "\n",
    "B = A[::-1]\n",
    "print(B)"
   ]
  },
  {
   "cell_type": "markdown",
   "metadata": {},
   "source": [
    "**Exercise 10: look at the following list - can you predict what the result will be before running these statements? Pay careful attention to which elements are included in the slices. **\n",
    "\n",
    "- <span style=\"color:blue\">A[9]</span> this gives element 9 so the 10th element in the array (i.e. 100)\n",
    "- <span style=\"color:blue\">A[10]</span> this gives an error ('index 10 is out of bounds') as the array only has 10 elements.\n",
    "- <span style=\"color:blue\">A[-1]</span> this gives the last element (i.e. 100)\n",
    "- <span style=\"color:blue\">A[1:3]</span> this gives elements 1 and 2 (i.e. 20 and 30) - note it does not include element 3!\n",
    "- <span style=\"color:blue\">A[1:]</span> this gives all elements starting from element 1\n",
    "- <span style=\"color:blue\">A[:5]</span> this gives all elements up to and excluding element 5\n",
    "- <span style=\"color:blue\">A[:]</span> this gives all elements\n",
    "- <span style=\"color:blue\">A[0:6:2]</span> this gives element 0 up to and excluding element 6 in steps of 2 (i.e. element 0, element 2, and element 4)\n",
    "- <span style=\"color:blue\">A[::2]</span> this gives all elements in steps of 2 (i.e. element 0, 2, 4, 6, and 8)\n",
    "\n",
    "**Slicing is a very important concept in programming, so take some time experimenting with this in the cell below (again, add as many cells as you like in the notebook). Can you figure out the rules of slicing? Challenge: use slice notation to reverse array A in one line.**"
   ]
  },
  {
   "cell_type": "code",
   "execution_count": 6,
   "metadata": {},
   "outputs": [
    {
     "name": "stdout",
     "output_type": "stream",
     "text": [
      "100\n",
      "100\n",
      "[20 30]\n",
      "[ 20  30  40  50  60  70  80  90 100]\n",
      "[10 20 30 40 50]\n",
      "[ 10  20  30  40  50  60  70  80  90 100]\n",
      "[10 30 50]\n",
      "[10 30 50 70 90]\n"
     ]
    }
   ],
   "source": [
    "print(A[9])\n",
    "#print(A[10])\n",
    "print(A[-1])\n",
    "print(A[1:3])\n",
    "print(A[1:])\n",
    "print(A[:5])\n",
    "print(A[:])\n",
    "print(A[0:6:2])\n",
    "print(A[::2])"
   ]
  },
  {
   "cell_type": "code",
   "execution_count": 7,
   "metadata": {},
   "outputs": [
    {
     "name": "stdout",
     "output_type": "stream",
     "text": [
      "[100  90  80  70  60  50  40  30  20  10]\n"
     ]
    }
   ],
   "source": [
    "# Reversing array A in one line: take all elements but step down in reverse order (i.e. steps of -1)\n",
    "A = A[::-1]\n",
    "print(A)"
   ]
  },
  {
   "cell_type": "markdown",
   "metadata": {},
   "source": [
    "<div style=\"background-color: #FFF8C6\"> Experiment with taking slices out of a 2D array - these can be 2D arrays, 1D arrays, or single elements. Can you take it a step further and create a 3D array (i.e. a data cube) and take slices from it?"
   ]
  },
  {
   "cell_type": "code",
   "execution_count": 8,
   "metadata": {},
   "outputs": [
    {
     "name": "stdout",
     "output_type": "stream",
     "text": [
      "[[  1   2   3]\n",
      " [ 10  20  30]\n",
      " [100 200 300]]\n",
      "200\n",
      "[  2  20 200]\n",
      "[1 2 3]\n",
      "[[ 2  3]\n",
      " [20 30]]\n"
     ]
    }
   ],
   "source": [
    "# Experimenting with 2D slicing:\n",
    "twoDarray=np.array([[1,2,3],[10,20,30],[100,200,300]])# Create 2D array\n",
    "print(twoDarray)\n",
    "print(twoDarray[2,1])# Take 1 element: third row, second column\n",
    "print(twoDarray[:,1])# Print the entire second column\n",
    "print(twoDarray[0,:])# Print the entire first row\n",
    "print(twoDarray[0:2,1:])# Print a 2D array: first and second rows, second and third columns"
   ]
  },
  {
   "cell_type": "code",
   "execution_count": 9,
   "metadata": {},
   "outputs": [
    {
     "name": "stdout",
     "output_type": "stream",
     "text": [
      "(2, 3, 2)\n",
      "[[[  1   2]\n",
      "  [ 10  20]\n",
      "  [100 200]]\n",
      "\n",
      " [[  1   2]\n",
      "  [ 10  20]\n",
      "  [100 200]]]\n"
     ]
    }
   ],
   "source": [
    "# Example: create a 3D array (imagine a data cube). Each layer of the cube is specified as a 2D array.\n",
    "import numpy as np\n",
    "# Note a 3D array starts and ends with 3 square brackets\n",
    "threeD = np.array([[[1,2],[10,20],[100,200]],[[1,2],[10,20],[100,200]]])\n",
    "print(np.shape(threeD))\n",
    "print(threeD)"
   ]
  },
  {
   "cell_type": "markdown",
   "metadata": {},
   "source": [
    "**Exercise 11: use Google or the help documentation on these two functions (by running e.g. <span style=\"color:blue\">help(sp.arange)</span>) to find out how they work. Subsequently create an array which includes the numbers 0 - 100 (make sure to store your array in a variable). Next, try and create an array consisting of the numbers 100 - 200 in steps of 0.01. What is the difference between using <span style=\"color:blue\">sp.arange()</span> and <span style=\"color:blue\">sp.linspace()</span>?**"
   ]
  },
  {
   "cell_type": "code",
   "execution_count": 10,
   "metadata": {
    "scrolled": true
   },
   "outputs": [
    {
     "name": "stdout",
     "output_type": "stream",
     "text": [
      "[  0   1   2   3   4   5   6   7   8   9  10  11  12  13  14  15  16  17\n",
      "  18  19  20  21  22  23  24  25  26  27  28  29  30  31  32  33  34  35\n",
      "  36  37  38  39  40  41  42  43  44  45  46  47  48  49  50  51  52  53\n",
      "  54  55  56  57  58  59  60  61  62  63  64  65  66  67  68  69  70  71\n",
      "  72  73  74  75  76  77  78  79  80  81  82  83  84  85  86  87  88  89\n",
      "  90  91  92  93  94  95  96  97  98  99 100]\n",
      "[  0.   1.   2.   3.   4.   5.   6.   7.   8.   9.  10.  11.  12.  13.\n",
      "  14.  15.  16.  17.  18.  19.  20.  21.  22.  23.  24.  25.  26.  27.\n",
      "  28.  29.  30.  31.  32.  33.  34.  35.  36.  37.  38.  39.  40.  41.\n",
      "  42.  43.  44.  45.  46.  47.  48.  49.  50.  51.  52.  53.  54.  55.\n",
      "  56.  57.  58.  59.  60.  61.  62.  63.  64.  65.  66.  67.  68.  69.\n",
      "  70.  71.  72.  73.  74.  75.  76.  77.  78.  79.  80.  81.  82.  83.\n",
      "  84.  85.  86.  87.  88.  89.  90.  91.  92.  93.  94.  95.  96.  97.\n",
      "  98.  99. 100.]\n",
      "[100.   100.01 100.02 ... 199.98 199.99 200.  ]\n",
      "[100.  100.1 100.2 ... 199.8 199.9 200. ]\n"
     ]
    }
   ],
   "source": [
    "Array1A = np.arange(101)\n",
    "print(Array1A)\n",
    "Array1B = np.linspace(0,100,101)\n",
    "print(Array1B)\n",
    "Array2A = np.arange(100,200.01,0.01)\n",
    "print(Array2A)\n",
    "Array2B = np.linspace(100,200,1001)\n",
    "print(Array2B)"
   ]
  },
  {
   "cell_type": "markdown",
   "metadata": {},
   "source": [
    "Linspace() is handy for when you want to specify the number of steps, whereas arange() is better when you know the increment size. Note that linspace includes the final number and arange doesn't, which can be awkward when the step size is not an integer. "
   ]
  },
  {
   "cell_type": "markdown",
   "metadata": {},
   "source": [
    "**Exercise 12: refer back to section 3 and experiment using the various arithmetic operators on arrays, both with scalar values and arrays. For example, try:**\n",
    "- <span style=\"color:blue\">A + 10</span>\n",
    "- <span style=\"color:blue\">A + A</span>\n",
    "- <span style=\"color:blue\">A**3</span>\n",
    "\n",
    "**Can you use all arithmetic operators on arrays, both with scalar values and two arrays? What happens if you try and apply an operator to two arrays of different lengths (i.e. a different number of elements)?**"
   ]
  },
  {
   "cell_type": "code",
   "execution_count": 11,
   "metadata": {},
   "outputs": [
    {
     "name": "stdout",
     "output_type": "stream",
     "text": [
      "[ 20  30  40  50  60  70  80  90 100 110]\n",
      "[ 20  40  60  80 100 120 140 160 180 200]\n",
      "[  100   400   900  1600  2500  3600  4900  6400  8100 10000]\n",
      "[   1000    8000   27000   64000  125000  216000  343000  512000  729000\n",
      " 1000000]\n"
     ]
    }
   ],
   "source": [
    "A = np.array([10,20,30,40,50,60,70,80,90,100])\n",
    "print(A+10)\n",
    "print(A+A)\n",
    "print(A*A)\n",
    "print(A**3)"
   ]
  },
  {
   "cell_type": "code",
   "execution_count": 12,
   "metadata": {},
   "outputs": [
    {
     "name": "stdout",
     "output_type": "stream",
     "text": [
      "[ 30  60  90 120 150 180 210 240 270 300]\n"
     ]
    }
   ],
   "source": [
    "print(A*3)# triples each element of A\n",
    "B = np.array([1,2])# create a new array with 2 elements"
   ]
  },
  {
   "cell_type": "code",
   "execution_count": 14,
   "metadata": {},
   "outputs": [
    {
     "ename": "ValueError",
     "evalue": "operands could not be broadcast together with shapes (10,) (2,) ",
     "output_type": "error",
     "traceback": [
      "\u001b[1;31m---------------------------------------------------------------------------\u001b[0m",
      "\u001b[1;31mValueError\u001b[0m                                Traceback (most recent call last)",
      "\u001b[1;32m<ipython-input-14-b9da7e2efcc4>\u001b[0m in \u001b[0;36m<module>\u001b[1;34m\u001b[0m\n\u001b[1;32m----> 1\u001b[1;33m \u001b[0mprint\u001b[0m\u001b[1;33m(\u001b[0m\u001b[0mA\u001b[0m\u001b[1;33m*\u001b[0m\u001b[0mB\u001b[0m\u001b[1;33m)\u001b[0m \u001b[1;31m# this doesn't work as A and B have a different length ('operands could not be broadcast together' error)\u001b[0m\u001b[1;33m\u001b[0m\u001b[1;33m\u001b[0m\u001b[0m\n\u001b[0m",
      "\u001b[1;31mValueError\u001b[0m: operands could not be broadcast together with shapes (10,) (2,) "
     ]
    }
   ],
   "source": [
    "print(A*B) # this doesn't work as A and B have a different length ('operands could not be broadcast together' error)"
   ]
  },
  {
   "cell_type": "code",
   "execution_count": 15,
   "metadata": {},
   "outputs": [
    {
     "ename": "ValueError",
     "evalue": "operands could not be broadcast together with shapes (10,) (2,) ",
     "output_type": "error",
     "traceback": [
      "\u001b[1;31m---------------------------------------------------------------------------\u001b[0m",
      "\u001b[1;31mValueError\u001b[0m                                Traceback (most recent call last)",
      "\u001b[1;32m<ipython-input-15-ced495f15345>\u001b[0m in \u001b[0;36m<module>\u001b[1;34m\u001b[0m\n\u001b[1;32m----> 1\u001b[1;33m \u001b[0mprint\u001b[0m\u001b[1;33m(\u001b[0m\u001b[0mA\u001b[0m\u001b[1;33m+\u001b[0m\u001b[0mB\u001b[0m\u001b[1;33m)\u001b[0m \u001b[1;31m# this doesn't work as A and B have a different length ('operands could not be broadcast together' error)\u001b[0m\u001b[1;33m\u001b[0m\u001b[1;33m\u001b[0m\u001b[0m\n\u001b[0m",
      "\u001b[1;31mValueError\u001b[0m: operands could not be broadcast together with shapes (10,) (2,) "
     ]
    }
   ],
   "source": [
    "print(A+B) # this doesn't work as A and B have a different length ('operands could not be broadcast together' error)"
   ]
  },
  {
   "cell_type": "markdown",
   "metadata": {},
   "source": [
    "You can use the maths operators either mixing scalars and arrays, or two arrays as long as the arrays are of the same length! Python will execute the operator on each element of the array."
   ]
  },
  {
   "cell_type": "markdown",
   "metadata": {},
   "source": [
    "## 6. Statistics with arrays<a id=\"stats\"></a>"
   ]
  },
  {
   "cell_type": "code",
   "execution_count": 17,
   "metadata": {},
   "outputs": [
    {
     "name": "stdout",
     "output_type": "stream",
     "text": [
      "The mean value is 0.7883333333333334\n"
     ]
    }
   ],
   "source": [
    "x=(0.76,0.79,0.84,0.75,0.80,0.79)\n",
    "mean_value=np.mean(x)\n",
    "print('The mean value is', mean_value)"
   ]
  },
  {
   "cell_type": "markdown",
   "metadata": {},
   "source": [
    "**Exercise 13: below, calculate the standard deviation of our data set using the <span style=\"color:blue\">std()</span> function which is in the SciPy package - i.e. call the function by typing <span style=\"color:blue\">sp.std()</span>. Once again, use the inbuilt help or Google to help you on your way. Help files are always a long read -  in this case focus on the keyword <span style=\"color:blue\">ddof</span> to ensure you use the *sample* standard deviation. You will need to set this to <span style=\"color:blue\">ddof=1</span> when you call the <span style=\"color:blue\">sp.std()</span> function. This ensures the denominator in the equation above is set to $n-1$ rather than $n$.**"
   ]
  },
  {
   "cell_type": "code",
   "execution_count": 18,
   "metadata": {},
   "outputs": [
    {
     "name": "stdout",
     "output_type": "stream",
     "text": [
      "The standard deviation is 0.03188521078284831\n"
     ]
    }
   ],
   "source": [
    "std = np.std(x,ddof=1)# Note that i have to set ddof=1 to get the sample standard deviation!\n",
    "print('The standard deviation is', std)"
   ]
  },
  {
   "cell_type": "markdown",
   "metadata": {},
   "source": [
    "**Exercise 14: calculate the standard error of the mean for data set $x$.**"
   ]
  },
  {
   "cell_type": "code",
   "execution_count": 19,
   "metadata": {},
   "outputs": [
    {
     "name": "stdout",
     "output_type": "stream",
     "text": [
      "The standard error is 0.013017082793177755\n"
     ]
    }
   ],
   "source": [
    "sig = std/np.sqrt(len(x))\n",
    "print('The standard error is',sig)"
   ]
  },
  {
   "cell_type": "markdown",
   "metadata": {},
   "source": [
    "## 7. Reading and writing files<a id=\"files\"></a>"
   ]
  },
  {
   "cell_type": "markdown",
   "metadata": {},
   "source": [
    "**Exercise 15: to try this out, open the file [Resistivity.txt](https://cclewley.github.io/ComputingYr1/Data1/Resistivity.txt). This file (as well as all other data files) are stored in the subfolder 'Data' in this session's Azure library. Click on the link to inspect this data file within your browser: you will see it includes 3 columns, separated by spaces. The first column is temperature, the second the measured resistivity of copper, and the third that of aluminium. You may recognise these from your Measurements & Uncertainties tutorial if you have already done this! To read in this data file and print the data, run the following cell:**"
   ]
  },
  {
   "cell_type": "code",
   "execution_count": 21,
   "metadata": {},
   "outputs": [
    {
     "name": "stdout",
     "output_type": "stream",
     "text": [
      "[[2.00e+02 1.12e-08 1.76e-08]\n",
      " [2.20e+02 1.18e-08 2.02e-08]\n",
      " [2.40e+02 1.37e-08 2.18e-08]\n",
      " [2.60e+02 1.52e-08 2.30e-08]\n",
      " [2.80e+02 1.55e-08 2.68e-08]\n",
      " [3.00e+02 1.73e-08 2.86e-08]\n",
      " [3.20e+02 1.92e-08 3.05e-08]\n",
      " [3.40e+02 1.99e-08 3.33e-08]\n",
      " [3.60e+02 2.16e-08 3.49e-08]]\n"
     ]
    }
   ],
   "source": [
    "data=np.loadtxt(\"Data/Resistivity.txt\")\n",
    "print(data)"
   ]
  },
  {
   "cell_type": "markdown",
   "metadata": {},
   "source": [
    "**You will see that the data has been read into a 2D array. The <span style=\"color:blue\">loadtxt()</span> function incorporates more features: it can also skip header rows and deal with different types of delimiters. As an example, look at the file [Resistivity.csv](Resistivity.csv), which is a csv file of the same data. Note that now the data is delimited by commas, and includes two header rows. Now run the cell below:**"
   ]
  },
  {
   "cell_type": "code",
   "execution_count": 23,
   "metadata": {},
   "outputs": [
    {
     "name": "stdout",
     "output_type": "stream",
     "text": [
      "[200. 220. 240. 260. 280. 300. 320. 340. 360.]\n",
      "[1.12e-08 1.18e-08 1.37e-08 1.52e-08 1.55e-08 1.73e-08 1.92e-08 1.99e-08\n",
      " 2.16e-08]\n",
      "[1.76e-08 2.02e-08 2.18e-08 2.30e-08 2.68e-08 2.86e-08 3.05e-08 3.33e-08\n",
      " 3.49e-08]\n"
     ]
    }
   ],
   "source": [
    "T, R_Cu, R_Al = np.loadtxt(\"Data/Resistivity.csv\", skiprows=2, delimiter=',', unpack=True)\n",
    "print(T)\n",
    "print(R_Cu)\n",
    "print(R_Al)"
   ]
  },
  {
   "cell_type": "markdown",
   "metadata": {},
   "source": [
    "<div style=\"background-color: #FFF8C6\">\n",
    "**Exercise: try reading [Resistivity.txt](https://cclewley.github.io/ComputingYr1/Data1/Resistivity.txt) with the keyword <span style=\"color:blue\">delimiter=','</span> and see what happens. Next try it with <span style=\"color:blue\">delimiter=' '</span>. Finally, try reading [Resistivity.csv](https://cclewley.github.io/ComputingYr1/Data1/Resistivity.csv) without the <span style=\"color:blue\">skiprows</span> keyword. Open up the .csv file in a text editor such as WordPad and look at how the data are stored.** "
   ]
  },
  {
   "cell_type": "code",
   "execution_count": 24,
   "metadata": {},
   "outputs": [
    {
     "ename": "ValueError",
     "evalue": "could not convert string to float: '200,1.12E-08,1.76E-08'",
     "output_type": "error",
     "traceback": [
      "\u001b[1;31m---------------------------------------------------------------------------\u001b[0m",
      "\u001b[1;31mValueError\u001b[0m                                Traceback (most recent call last)",
      "\u001b[1;32m<ipython-input-24-ea0baf954182>\u001b[0m in \u001b[0;36m<module>\u001b[1;34m\u001b[0m\n\u001b[1;32m----> 1\u001b[1;33m \u001b[0mT\u001b[0m\u001b[1;33m,\u001b[0m \u001b[0mR_Cu\u001b[0m\u001b[1;33m,\u001b[0m \u001b[0mR_Al\u001b[0m \u001b[1;33m=\u001b[0m \u001b[0mnp\u001b[0m\u001b[1;33m.\u001b[0m\u001b[0mloadtxt\u001b[0m\u001b[1;33m(\u001b[0m\u001b[1;34m\"Data/Resistivity.csv\"\u001b[0m\u001b[1;33m,\u001b[0m \u001b[0mskiprows\u001b[0m\u001b[1;33m=\u001b[0m\u001b[1;36m2\u001b[0m\u001b[1;33m,\u001b[0m \u001b[0mdelimiter\u001b[0m\u001b[1;33m=\u001b[0m\u001b[1;34m' '\u001b[0m\u001b[1;33m,\u001b[0m \u001b[0munpack\u001b[0m\u001b[1;33m=\u001b[0m\u001b[1;32mTrue\u001b[0m\u001b[1;33m)\u001b[0m\u001b[1;33m\u001b[0m\u001b[1;33m\u001b[0m\u001b[0m\n\u001b[0m",
      "\u001b[1;32mC:\\ProgramData\\Anaconda3\\lib\\site-packages\\numpy\\lib\\npyio.py\u001b[0m in \u001b[0;36mloadtxt\u001b[1;34m(fname, dtype, comments, delimiter, converters, skiprows, usecols, unpack, ndmin, encoding, max_rows)\u001b[0m\n\u001b[0;32m   1157\u001b[0m         \u001b[1;31m# converting the data\u001b[0m\u001b[1;33m\u001b[0m\u001b[1;33m\u001b[0m\u001b[1;33m\u001b[0m\u001b[0m\n\u001b[0;32m   1158\u001b[0m         \u001b[0mX\u001b[0m \u001b[1;33m=\u001b[0m \u001b[1;32mNone\u001b[0m\u001b[1;33m\u001b[0m\u001b[1;33m\u001b[0m\u001b[0m\n\u001b[1;32m-> 1159\u001b[1;33m         \u001b[1;32mfor\u001b[0m \u001b[0mx\u001b[0m \u001b[1;32min\u001b[0m \u001b[0mread_data\u001b[0m\u001b[1;33m(\u001b[0m\u001b[0m_loadtxt_chunksize\u001b[0m\u001b[1;33m)\u001b[0m\u001b[1;33m:\u001b[0m\u001b[1;33m\u001b[0m\u001b[1;33m\u001b[0m\u001b[0m\n\u001b[0m\u001b[0;32m   1160\u001b[0m             \u001b[1;32mif\u001b[0m \u001b[0mX\u001b[0m \u001b[1;32mis\u001b[0m \u001b[1;32mNone\u001b[0m\u001b[1;33m:\u001b[0m\u001b[1;33m\u001b[0m\u001b[1;33m\u001b[0m\u001b[0m\n\u001b[0;32m   1161\u001b[0m                 \u001b[0mX\u001b[0m \u001b[1;33m=\u001b[0m \u001b[0mnp\u001b[0m\u001b[1;33m.\u001b[0m\u001b[0marray\u001b[0m\u001b[1;33m(\u001b[0m\u001b[0mx\u001b[0m\u001b[1;33m,\u001b[0m \u001b[0mdtype\u001b[0m\u001b[1;33m)\u001b[0m\u001b[1;33m\u001b[0m\u001b[1;33m\u001b[0m\u001b[0m\n",
      "\u001b[1;32mC:\\ProgramData\\Anaconda3\\lib\\site-packages\\numpy\\lib\\npyio.py\u001b[0m in \u001b[0;36mread_data\u001b[1;34m(chunk_size)\u001b[0m\n\u001b[0;32m   1085\u001b[0m \u001b[1;33m\u001b[0m\u001b[0m\n\u001b[0;32m   1086\u001b[0m             \u001b[1;31m# Convert each value according to its column and store\u001b[0m\u001b[1;33m\u001b[0m\u001b[1;33m\u001b[0m\u001b[1;33m\u001b[0m\u001b[0m\n\u001b[1;32m-> 1087\u001b[1;33m             \u001b[0mitems\u001b[0m \u001b[1;33m=\u001b[0m \u001b[1;33m[\u001b[0m\u001b[0mconv\u001b[0m\u001b[1;33m(\u001b[0m\u001b[0mval\u001b[0m\u001b[1;33m)\u001b[0m \u001b[1;32mfor\u001b[0m \u001b[1;33m(\u001b[0m\u001b[0mconv\u001b[0m\u001b[1;33m,\u001b[0m \u001b[0mval\u001b[0m\u001b[1;33m)\u001b[0m \u001b[1;32min\u001b[0m \u001b[0mzip\u001b[0m\u001b[1;33m(\u001b[0m\u001b[0mconverters\u001b[0m\u001b[1;33m,\u001b[0m \u001b[0mvals\u001b[0m\u001b[1;33m)\u001b[0m\u001b[1;33m]\u001b[0m\u001b[1;33m\u001b[0m\u001b[1;33m\u001b[0m\u001b[0m\n\u001b[0m\u001b[0;32m   1088\u001b[0m \u001b[1;33m\u001b[0m\u001b[0m\n\u001b[0;32m   1089\u001b[0m             \u001b[1;31m# Then pack it according to the dtype's nesting\u001b[0m\u001b[1;33m\u001b[0m\u001b[1;33m\u001b[0m\u001b[1;33m\u001b[0m\u001b[0m\n",
      "\u001b[1;32mC:\\ProgramData\\Anaconda3\\lib\\site-packages\\numpy\\lib\\npyio.py\u001b[0m in \u001b[0;36m<listcomp>\u001b[1;34m(.0)\u001b[0m\n\u001b[0;32m   1085\u001b[0m \u001b[1;33m\u001b[0m\u001b[0m\n\u001b[0;32m   1086\u001b[0m             \u001b[1;31m# Convert each value according to its column and store\u001b[0m\u001b[1;33m\u001b[0m\u001b[1;33m\u001b[0m\u001b[1;33m\u001b[0m\u001b[0m\n\u001b[1;32m-> 1087\u001b[1;33m             \u001b[0mitems\u001b[0m \u001b[1;33m=\u001b[0m \u001b[1;33m[\u001b[0m\u001b[0mconv\u001b[0m\u001b[1;33m(\u001b[0m\u001b[0mval\u001b[0m\u001b[1;33m)\u001b[0m \u001b[1;32mfor\u001b[0m \u001b[1;33m(\u001b[0m\u001b[0mconv\u001b[0m\u001b[1;33m,\u001b[0m \u001b[0mval\u001b[0m\u001b[1;33m)\u001b[0m \u001b[1;32min\u001b[0m \u001b[0mzip\u001b[0m\u001b[1;33m(\u001b[0m\u001b[0mconverters\u001b[0m\u001b[1;33m,\u001b[0m \u001b[0mvals\u001b[0m\u001b[1;33m)\u001b[0m\u001b[1;33m]\u001b[0m\u001b[1;33m\u001b[0m\u001b[1;33m\u001b[0m\u001b[0m\n\u001b[0m\u001b[0;32m   1088\u001b[0m \u001b[1;33m\u001b[0m\u001b[0m\n\u001b[0;32m   1089\u001b[0m             \u001b[1;31m# Then pack it according to the dtype's nesting\u001b[0m\u001b[1;33m\u001b[0m\u001b[1;33m\u001b[0m\u001b[1;33m\u001b[0m\u001b[0m\n",
      "\u001b[1;32mC:\\ProgramData\\Anaconda3\\lib\\site-packages\\numpy\\lib\\npyio.py\u001b[0m in \u001b[0;36mfloatconv\u001b[1;34m(x)\u001b[0m\n\u001b[0;32m    792\u001b[0m         \u001b[1;32mif\u001b[0m \u001b[1;34m'0x'\u001b[0m \u001b[1;32min\u001b[0m \u001b[0mx\u001b[0m\u001b[1;33m:\u001b[0m\u001b[1;33m\u001b[0m\u001b[1;33m\u001b[0m\u001b[0m\n\u001b[0;32m    793\u001b[0m             \u001b[1;32mreturn\u001b[0m \u001b[0mfloat\u001b[0m\u001b[1;33m.\u001b[0m\u001b[0mfromhex\u001b[0m\u001b[1;33m(\u001b[0m\u001b[0mx\u001b[0m\u001b[1;33m)\u001b[0m\u001b[1;33m\u001b[0m\u001b[1;33m\u001b[0m\u001b[0m\n\u001b[1;32m--> 794\u001b[1;33m         \u001b[1;32mreturn\u001b[0m \u001b[0mfloat\u001b[0m\u001b[1;33m(\u001b[0m\u001b[0mx\u001b[0m\u001b[1;33m)\u001b[0m\u001b[1;33m\u001b[0m\u001b[1;33m\u001b[0m\u001b[0m\n\u001b[0m\u001b[0;32m    795\u001b[0m \u001b[1;33m\u001b[0m\u001b[0m\n\u001b[0;32m    796\u001b[0m     \u001b[0mtyp\u001b[0m \u001b[1;33m=\u001b[0m \u001b[0mdtype\u001b[0m\u001b[1;33m.\u001b[0m\u001b[0mtype\u001b[0m\u001b[1;33m\u001b[0m\u001b[1;33m\u001b[0m\u001b[0m\n",
      "\u001b[1;31mValueError\u001b[0m: could not convert string to float: '200,1.12E-08,1.76E-08'"
     ]
    }
   ],
   "source": [
    "T, R_Cu, R_Al = np.loadtxt(\"Data/Resistivity.csv\", skiprows=2, delimiter=' ', unpack=True)"
   ]
  },
  {
   "cell_type": "code",
   "execution_count": 26,
   "metadata": {},
   "outputs": [
    {
     "ename": "ValueError",
     "evalue": "could not convert string to float: 'K'",
     "output_type": "error",
     "traceback": [
      "\u001b[1;31m---------------------------------------------------------------------------\u001b[0m",
      "\u001b[1;31mValueError\u001b[0m                                Traceback (most recent call last)",
      "\u001b[1;32m<ipython-input-26-cdbc3b9a98ab>\u001b[0m in \u001b[0;36m<module>\u001b[1;34m\u001b[0m\n\u001b[1;32m----> 1\u001b[1;33m \u001b[0mT\u001b[0m\u001b[1;33m,\u001b[0m \u001b[0mR_Cu\u001b[0m\u001b[1;33m,\u001b[0m \u001b[0mR_Al\u001b[0m \u001b[1;33m=\u001b[0m \u001b[0mnp\u001b[0m\u001b[1;33m.\u001b[0m\u001b[0mloadtxt\u001b[0m\u001b[1;33m(\u001b[0m\u001b[1;34m\"Data/Resistivity.csv\"\u001b[0m\u001b[1;33m,\u001b[0m \u001b[0mskiprows\u001b[0m\u001b[1;33m=\u001b[0m\u001b[1;36m1\u001b[0m\u001b[1;33m,\u001b[0m \u001b[0mdelimiter\u001b[0m\u001b[1;33m=\u001b[0m\u001b[1;34m','\u001b[0m\u001b[1;33m,\u001b[0m \u001b[0munpack\u001b[0m\u001b[1;33m=\u001b[0m\u001b[1;32mTrue\u001b[0m\u001b[1;33m)\u001b[0m\u001b[1;33m\u001b[0m\u001b[1;33m\u001b[0m\u001b[0m\n\u001b[0m",
      "\u001b[1;32mC:\\ProgramData\\Anaconda3\\lib\\site-packages\\numpy\\lib\\npyio.py\u001b[0m in \u001b[0;36mloadtxt\u001b[1;34m(fname, dtype, comments, delimiter, converters, skiprows, usecols, unpack, ndmin, encoding, max_rows)\u001b[0m\n\u001b[0;32m   1157\u001b[0m         \u001b[1;31m# converting the data\u001b[0m\u001b[1;33m\u001b[0m\u001b[1;33m\u001b[0m\u001b[1;33m\u001b[0m\u001b[0m\n\u001b[0;32m   1158\u001b[0m         \u001b[0mX\u001b[0m \u001b[1;33m=\u001b[0m \u001b[1;32mNone\u001b[0m\u001b[1;33m\u001b[0m\u001b[1;33m\u001b[0m\u001b[0m\n\u001b[1;32m-> 1159\u001b[1;33m         \u001b[1;32mfor\u001b[0m \u001b[0mx\u001b[0m \u001b[1;32min\u001b[0m \u001b[0mread_data\u001b[0m\u001b[1;33m(\u001b[0m\u001b[0m_loadtxt_chunksize\u001b[0m\u001b[1;33m)\u001b[0m\u001b[1;33m:\u001b[0m\u001b[1;33m\u001b[0m\u001b[1;33m\u001b[0m\u001b[0m\n\u001b[0m\u001b[0;32m   1160\u001b[0m             \u001b[1;32mif\u001b[0m \u001b[0mX\u001b[0m \u001b[1;32mis\u001b[0m \u001b[1;32mNone\u001b[0m\u001b[1;33m:\u001b[0m\u001b[1;33m\u001b[0m\u001b[1;33m\u001b[0m\u001b[0m\n\u001b[0;32m   1161\u001b[0m                 \u001b[0mX\u001b[0m \u001b[1;33m=\u001b[0m \u001b[0mnp\u001b[0m\u001b[1;33m.\u001b[0m\u001b[0marray\u001b[0m\u001b[1;33m(\u001b[0m\u001b[0mx\u001b[0m\u001b[1;33m,\u001b[0m \u001b[0mdtype\u001b[0m\u001b[1;33m)\u001b[0m\u001b[1;33m\u001b[0m\u001b[1;33m\u001b[0m\u001b[0m\n",
      "\u001b[1;32mC:\\ProgramData\\Anaconda3\\lib\\site-packages\\numpy\\lib\\npyio.py\u001b[0m in \u001b[0;36mread_data\u001b[1;34m(chunk_size)\u001b[0m\n\u001b[0;32m   1085\u001b[0m \u001b[1;33m\u001b[0m\u001b[0m\n\u001b[0;32m   1086\u001b[0m             \u001b[1;31m# Convert each value according to its column and store\u001b[0m\u001b[1;33m\u001b[0m\u001b[1;33m\u001b[0m\u001b[1;33m\u001b[0m\u001b[0m\n\u001b[1;32m-> 1087\u001b[1;33m             \u001b[0mitems\u001b[0m \u001b[1;33m=\u001b[0m \u001b[1;33m[\u001b[0m\u001b[0mconv\u001b[0m\u001b[1;33m(\u001b[0m\u001b[0mval\u001b[0m\u001b[1;33m)\u001b[0m \u001b[1;32mfor\u001b[0m \u001b[1;33m(\u001b[0m\u001b[0mconv\u001b[0m\u001b[1;33m,\u001b[0m \u001b[0mval\u001b[0m\u001b[1;33m)\u001b[0m \u001b[1;32min\u001b[0m \u001b[0mzip\u001b[0m\u001b[1;33m(\u001b[0m\u001b[0mconverters\u001b[0m\u001b[1;33m,\u001b[0m \u001b[0mvals\u001b[0m\u001b[1;33m)\u001b[0m\u001b[1;33m]\u001b[0m\u001b[1;33m\u001b[0m\u001b[1;33m\u001b[0m\u001b[0m\n\u001b[0m\u001b[0;32m   1088\u001b[0m \u001b[1;33m\u001b[0m\u001b[0m\n\u001b[0;32m   1089\u001b[0m             \u001b[1;31m# Then pack it according to the dtype's nesting\u001b[0m\u001b[1;33m\u001b[0m\u001b[1;33m\u001b[0m\u001b[1;33m\u001b[0m\u001b[0m\n",
      "\u001b[1;32mC:\\ProgramData\\Anaconda3\\lib\\site-packages\\numpy\\lib\\npyio.py\u001b[0m in \u001b[0;36m<listcomp>\u001b[1;34m(.0)\u001b[0m\n\u001b[0;32m   1085\u001b[0m \u001b[1;33m\u001b[0m\u001b[0m\n\u001b[0;32m   1086\u001b[0m             \u001b[1;31m# Convert each value according to its column and store\u001b[0m\u001b[1;33m\u001b[0m\u001b[1;33m\u001b[0m\u001b[1;33m\u001b[0m\u001b[0m\n\u001b[1;32m-> 1087\u001b[1;33m             \u001b[0mitems\u001b[0m \u001b[1;33m=\u001b[0m \u001b[1;33m[\u001b[0m\u001b[0mconv\u001b[0m\u001b[1;33m(\u001b[0m\u001b[0mval\u001b[0m\u001b[1;33m)\u001b[0m \u001b[1;32mfor\u001b[0m \u001b[1;33m(\u001b[0m\u001b[0mconv\u001b[0m\u001b[1;33m,\u001b[0m \u001b[0mval\u001b[0m\u001b[1;33m)\u001b[0m \u001b[1;32min\u001b[0m \u001b[0mzip\u001b[0m\u001b[1;33m(\u001b[0m\u001b[0mconverters\u001b[0m\u001b[1;33m,\u001b[0m \u001b[0mvals\u001b[0m\u001b[1;33m)\u001b[0m\u001b[1;33m]\u001b[0m\u001b[1;33m\u001b[0m\u001b[1;33m\u001b[0m\u001b[0m\n\u001b[0m\u001b[0;32m   1088\u001b[0m \u001b[1;33m\u001b[0m\u001b[0m\n\u001b[0;32m   1089\u001b[0m             \u001b[1;31m# Then pack it according to the dtype's nesting\u001b[0m\u001b[1;33m\u001b[0m\u001b[1;33m\u001b[0m\u001b[1;33m\u001b[0m\u001b[0m\n",
      "\u001b[1;32mC:\\ProgramData\\Anaconda3\\lib\\site-packages\\numpy\\lib\\npyio.py\u001b[0m in \u001b[0;36mfloatconv\u001b[1;34m(x)\u001b[0m\n\u001b[0;32m    792\u001b[0m         \u001b[1;32mif\u001b[0m \u001b[1;34m'0x'\u001b[0m \u001b[1;32min\u001b[0m \u001b[0mx\u001b[0m\u001b[1;33m:\u001b[0m\u001b[1;33m\u001b[0m\u001b[1;33m\u001b[0m\u001b[0m\n\u001b[0;32m    793\u001b[0m             \u001b[1;32mreturn\u001b[0m \u001b[0mfloat\u001b[0m\u001b[1;33m.\u001b[0m\u001b[0mfromhex\u001b[0m\u001b[1;33m(\u001b[0m\u001b[0mx\u001b[0m\u001b[1;33m)\u001b[0m\u001b[1;33m\u001b[0m\u001b[1;33m\u001b[0m\u001b[0m\n\u001b[1;32m--> 794\u001b[1;33m         \u001b[1;32mreturn\u001b[0m \u001b[0mfloat\u001b[0m\u001b[1;33m(\u001b[0m\u001b[0mx\u001b[0m\u001b[1;33m)\u001b[0m\u001b[1;33m\u001b[0m\u001b[1;33m\u001b[0m\u001b[0m\n\u001b[0m\u001b[0;32m    795\u001b[0m \u001b[1;33m\u001b[0m\u001b[0m\n\u001b[0;32m    796\u001b[0m     \u001b[0mtyp\u001b[0m \u001b[1;33m=\u001b[0m \u001b[0mdtype\u001b[0m\u001b[1;33m.\u001b[0m\u001b[0mtype\u001b[0m\u001b[1;33m\u001b[0m\u001b[1;33m\u001b[0m\u001b[0m\n",
      "\u001b[1;31mValueError\u001b[0m: could not convert string to float: 'K'"
     ]
    }
   ],
   "source": [
    "T, R_Cu, R_Al = np.loadtxt(\"Data/Resistivity.csv\", skiprows=1, delimiter=',', unpack=True)"
   ]
  },
  {
   "cell_type": "markdown",
   "metadata": {},
   "source": [
    "For both these cases python throws an error message. The one of has said invalid literal for float(): 200,1.12E-08,1.76E-08\n",
    "which happens because we gave it the wrong delimiter. The second error message occurs because the loadtxt file was expecting all of our data to be numbers and not strings. Be very careful when using function keyword arguements and pay attention to the error messages !"
   ]
  },
  {
   "cell_type": "markdown",
   "metadata": {},
   "source": [
    "**Exercise 16: run the cell below and have a look at the resulting file. **\n",
    "\n",
    "**Tip: to do this, you need to find the 'Output' folder in your Azure library, and click on the newly created file to see a preview in your browser window.**"
   ]
  },
  {
   "cell_type": "code",
   "execution_count": 27,
   "metadata": {},
   "outputs": [],
   "source": [
    "np.savetxt('Output/Test_outputfile1.txt',data)"
   ]
  },
  {
   "cell_type": "markdown",
   "metadata": {},
   "source": [
    "<div style=\"background-color: #FFF8C6\">\n",
    "**Exercise: the two examples below illustrate this - extend the code to print out the two arrays and have a look at the result.**"
   ]
  },
  {
   "cell_type": "code",
   "execution_count": 28,
   "metadata": {},
   "outputs": [
    {
     "name": "stdout",
     "output_type": "stream",
     "text": [
      "combined 1:\n",
      "[array([200., 220., 240., 260., 280., 300., 320., 340., 360.]), array([1.12e-08, 1.18e-08, 1.37e-08, 1.52e-08, 1.55e-08, 1.73e-08,\n",
      "       1.92e-08, 1.99e-08, 2.16e-08]), array([1.76e-08, 2.02e-08, 2.18e-08, 2.30e-08, 2.68e-08, 2.86e-08,\n",
      "       3.05e-08, 3.33e-08, 3.49e-08])]\n",
      "combined 2:\n",
      "[[2.00e+02 1.12e-08 1.76e-08]\n",
      " [2.20e+02 1.18e-08 2.02e-08]\n",
      " [2.40e+02 1.37e-08 2.18e-08]\n",
      " [2.60e+02 1.52e-08 2.30e-08]\n",
      " [2.80e+02 1.55e-08 2.68e-08]\n",
      " [3.00e+02 1.73e-08 2.86e-08]\n",
      " [3.20e+02 1.92e-08 3.05e-08]\n",
      " [3.40e+02 1.99e-08 3.33e-08]\n",
      " [3.60e+02 2.16e-08 3.49e-08]]\n"
     ]
    }
   ],
   "source": [
    "combined_1 = [T,R_Cu,R_Al]\n",
    "combined_2 = np.column_stack([T,R_Cu,R_Al])\n",
    "\n",
    "print('combined 1:')\n",
    "print(combined_1)\n",
    "print('combined 2:')\n",
    "print(combined_2)"
   ]
  },
  {
   "cell_type": "markdown",
   "metadata": {},
   "source": [
    "**Exercise 17: in the cell below, find the mean of the resistivity of copper and subtract it from the copper resistivity data set, so you are left with the residuals. Do the same for aluminium. Now save your new data set (which includes temperature, copper resistivity residuals, and aluminium resistivity residuals) to a file. Make sure to choose a sensible name for your output file! Use the <span style=\"color:blue\">help()</span> function to find out what arguments and keywords the <span style=\"color:blue\">savetxt()</span> function takes. Can you include a header line with the column names and space the columns with tabs?**"
   ]
  },
  {
   "cell_type": "code",
   "execution_count": 29,
   "metadata": {},
   "outputs": [],
   "source": [
    "Cu_mean = np.mean(R_Cu)\n",
    "Al_mean = np.mean(R_Al)\n",
    "\n",
    "residuals = np.copy(data)# Note that if you don't use the copy function, data changes as residuals array changes!\n",
    "residuals[:,1] = data[:,1]-Cu_mean\n",
    "residuals[:,2] = data[:,2]-Al_mean\n",
    "\n",
    "column_names = 'T   Resistivity Cu   Resistivity Al'\n",
    "np.savetxt('Residuals.txt',residuals,delimiter='\\t',header=column_names)"
   ]
  },
  {
   "cell_type": "markdown",
   "metadata": {},
   "source": [
    "<div style=\"background-color: #FFF8C6\">\n",
    "\n",
    "You may have noticed that the formatting of your file may not be exactly to your liking. For example, the header names might not line up with your data columns, and the data may have too many decimal places. All this can by changing the formatting of the output that is written to file. For example, we can force the number of decimal places in the data by setting the following keyword in the <span style=\"color:blue\">savetxt()</span> function: <span style=\"color:blue\">fmt=\"%.i %.2e %.2e\"</span>.\n",
    "This ensures the first column is printed as an integer, and the other two columns are printed using scientific notation with two decimal places. If you have time, experiment with changing the format of the data in your output file. \n",
    "\n",
    "For a more comprehensive guide on formatting output, have a look at [this tutorial](https://www.python-course.eu/python3_formatted_output.php). Knowing how to format Python output appropriately will come in very handy in the future."
   ]
  },
  {
   "cell_type": "code",
   "execution_count": 30,
   "metadata": {},
   "outputs": [],
   "source": [
    "Cu_mean = np.mean(R_Cu)\n",
    "Al_mean = np.mean(R_Al)\n",
    "\n",
    "residuals = np.copy(data)# Note that if you don't use the copy function, data changes as residuals array changes!\n",
    "residuals[:,1] = data[:,1]-Cu_mean\n",
    "residuals[:,2] = data[:,2]-Al_mean\n",
    "\n",
    "column_names = 'T\\tResistivity Cu\\tResistivity Al'\n",
    "# Note that in the command below, the fmt keyword specifies the format of each column,\n",
    "# and that they are separated by tabs.\n",
    "np.savetxt('Residuals.txt',residuals,header=column_names,fmt=\"%.i\\t%.2e\\t%.2e\")\n"
   ]
  },
  {
   "cell_type": "markdown",
   "metadata": {},
   "source": [
    "<div style=\"background-color: #FFF8C6\">\n",
    "\n",
    "A very powerful data package that can handle excel files is pandas. You can import pandas and read your data using \n",
    "\n",
    "```python\n",
    "import pandas as pd\n",
    "df=pd.read_csv('Resistivity.csv')\n",
    "```\n",
    "\n",
    "This stores the data in a data frame, which has many plotting and statistical functions attached to it. For those of you who already have a lot of Python programming experience, it is worth exploring the pandas package further."
   ]
  },
  {
   "cell_type": "markdown",
   "metadata": {},
   "source": [
    "## 8. Plotting data<a id=\"plotting\"></a>"
   ]
  },
  {
   "cell_type": "code",
   "execution_count": 31,
   "metadata": {},
   "outputs": [],
   "source": [
    "import matplotlib.pyplot as plt\n",
    "%matplotlib inline"
   ]
  },
  {
   "cell_type": "code",
   "execution_count": 32,
   "metadata": {},
   "outputs": [
    {
     "data": {
      "image/png": "[encoded data removed]",
      "text/plain": [
       "<Figure size 432x288 with 1 Axes>"
      ]
     },
     "metadata": {
      "needs_background": "light"
     },
     "output_type": "display_data"
    }
   ],
   "source": [
    "plt.plot(T,R_Cu)\n",
    "plt.show()"
   ]
  },
  {
   "cell_type": "code",
   "execution_count": 96,
   "metadata": {},
   "outputs": [
    {
     "data": {
      "image/png": "[encoded data removed]",
      "text/plain": [
       "<matplotlib.figure.Figure at 0x11a6b7ac8>"
      ]
     },
     "metadata": {},
     "output_type": "display_data"
    }
   ],
   "source": [
    "plt.plot(T,R_Cu,'x')\n",
    "plt.plot(T,R_Al,'+')\n",
    "plt.savefig(\"Resistivity_plot.png\")"
   ]
  },
  {
   "cell_type": "markdown",
   "metadata": {},
   "source": [
    "**Exercise 18: take some time to try and recreate the figure above as exactly as possible. To get you started, some code is given below to change the size of the plotting symbols, the various text elements, and the figure itself. Experiment with changing each of the values in turn. Next, add lines of code to add the title, axes labels, legend, and grid lines to the plot. Tip: use the following functions from the matplotlib library: <span style=\"color:blue\">title()</span>, <span style=\"color:blue\">xlabel()</span>, <span style=\"color:blue\">ylabel()</span>, <span style=\"color:blue\">legend()</span>, and <span style=\"color:blue\">grid()</span>.**"
   ]
  },
  {
   "cell_type": "code",
   "execution_count": 97,
   "metadata": {},
   "outputs": [
    {
     "data": {
      "image/png": "[encoded data removed]",
      "text/plain": [
       "<matplotlib.figure.Figure at 0x11a4276d8>"
      ]
     },
     "metadata": {},
     "output_type": "display_data"
    }
   ],
   "source": [
    "params = {\n",
    "   'axes.labelsize': 18,\n",
    "   'font.size': 18,\n",
    "   'font.family': 'sans-serif', # Optionally change the font family to sans-serif\n",
    "   'font.serif': 'Arial', # Optionally change the font to Arial\n",
    "   'legend.fontsize': 18,\n",
    "   'xtick.labelsize': 16,\n",
    "   'ytick.labelsize': 16, \n",
    "   'figure.figsize': [8.8, 8.8/1.618] # Using the golden ratio and standard column width of a journal\n",
    "} \n",
    "plt.rcParams.update(params)\n",
    "plt.grid() # Show grid lines\n",
    "plt.plot(T,R_Cu, 'x', mew=2, ms=10, color='red') # mew sets the thickness, and ms the size of the plotting symbol\n",
    "plt.plot(T,R_Al, '+', mew=2, ms=10, color='blue')\n",
    "# Be very careful not use the = symbol in the commands below (e.g. plt.xlabel=\"Temperature (K)\")\n",
    "# If you do this, the plt.xlabel() function won't work anymore. \n",
    "# In this case, you have to interrupt your kernel to start with a clean slate!\n",
    "plt.xlabel(\"Temperature (K)\") # Create the x-axis label\n",
    "plt.ylabel(\"Resistivity (Ohm m)\") # Create the y-axis label\n",
    "plt.title(\"Resistivity Plot\") # Set the title of the plot\n",
    "\n",
    "plt.legend([\"Copper\", \"Aluminium\"]); # Create a legend\n",
    "\n",
    "plt.xticks(sp.arange(200, 400, 50)) # Set the ticks on the x-axis to range between 200 and 400 in steps of 50\n",
    "plt.savefig(\"Resistivity_plot_improved.png\")# Save the file - do this before plt.show() otherwise you get an empty file!\n",
    "plt.show()\n"
   ]
  },
  {
   "cell_type": "markdown",
   "metadata": {},
   "source": [
    "For your lab report, a useful way of proceeding is to first determine the size your figure will be in your report (e.g. width of one column) and then creating a figure of exactly that size in your code, using the same font size and type as the rest of your report. This ensures that you will not need to rescale your figure, which can lead to undesirable results. \n",
    "\n",
    "Note that once you have run <span style=\"color:blue\">plt.rcParams.update(params)</span>, your subsequent plots will retain the same parameters. You can reset the plotting style in your notebook by running the following:"
   ]
  },
  {
   "cell_type": "code",
   "execution_count": 98,
   "metadata": {
    "collapsed": true
   },
   "outputs": [],
   "source": [
    "plt.style.use(\"default\")\n",
    "%matplotlib inline"
   ]
  },
  {
   "cell_type": "markdown",
   "metadata": {},
   "source": [
    "## 9. Log plots"
   ]
  },
  {
   "cell_type": "markdown",
   "metadata": {},
   "source": [
    "1. Sound intensity $\\beta$ in dB: $$\\beta = 10 \\log{\\frac{I}{I_0}},$$ where $I$ is the intensity in $\\rm W\\,m^{-2}$ and $I_0 = 1.00\\times10^{-12}\\rm W\\,m^{-2}$ for air."
   ]
  },
  {
   "cell_type": "code",
   "execution_count": 99,
   "metadata": {},
   "outputs": [
    {
     "data": {
      "image/png": "[encoded data removed]",
      "text/plain": [
       "<matplotlib.figure.Figure at 0x11a694a20>"
      ]
     },
     "metadata": {},
     "output_type": "display_data"
    }
   ],
   "source": [
    "I_0 = 1e-12\n",
    "I = np.linspace(0.1,10,20)# Array with 20 intensity spanning 0.1 - 10 Wm^-2 \n",
    "beta = 10*np.log(I/I_0)# The sound intensity in dB\n",
    "plt.plot(I,beta)\n",
    "plt.plot(I,beta,'x')\n",
    "plt.xlabel(\"Intensity (W/m^2)\")\n",
    "plt.ylabel(\"Sound intensity beta (dB)\")\n",
    "plt.xscale('log')\n",
    "plt.show()"
   ]
  },
  {
   "cell_type": "markdown",
   "metadata": {},
   "source": [
    "**And now in logspace:**"
   ]
  },
  {
   "cell_type": "code",
   "execution_count": 33,
   "metadata": {},
   "outputs": [
    {
     "data": {
      "image/png": "[encoded data removed]",
      "text/plain": [
       "<Figure size 432x288 with 1 Axes>"
      ]
     },
     "metadata": {
      "needs_background": "light"
     },
     "output_type": "display_data"
    }
   ],
   "source": [
    "I_0 = 1e-12\n",
    "I = np.logspace(0.1,10,20)# Array with 20 intensity spanning 0.1 - 10 Wm^-2 evenly in log space\n",
    "beta = 10*np.log(I/I_0)# The sound intensity in dB\n",
    "plt.plot(I,beta)\n",
    "plt.plot(I,beta,'x')\n",
    "plt.xlabel(\"Intensity (W/m^2)\")\n",
    "plt.ylabel(\"Sound intensity beta (dB)\")\n",
    "plt.xscale('log')\n",
    "plt.show()"
   ]
  },
  {
   "cell_type": "markdown",
   "metadata": {},
   "source": [
    "**Exercise 20: create both plots yourself below.**"
   ]
  },
  {
   "cell_type": "markdown",
   "metadata": {},
   "source": [
    "2. Radioactive decay: $$N = N_0 e^{-t/\\tau},$$ \n",
    "<p>where $N$ is the number of particles in the sample, $N_0$ is the initial number of particles, and $\\tau$ is the lifetime of the particles."
   ]
  },
  {
   "cell_type": "code",
   "execution_count": 101,
   "metadata": {},
   "outputs": [
    {
     "data": {
      "image/png": "[encoded data removed]",
      "text/plain": [
       "<matplotlib.figure.Figure at 0x11a1f30f0>"
      ]
     },
     "metadata": {},
     "output_type": "display_data"
    }
   ],
   "source": [
    "tau = 1# Lifetime of the particle\n",
    "t = np.linspace(0,10,20)# Array with 20 timesteps spanning 0 - 10 years \n",
    "N = 1000*np.exp(-1*t/tau)# The number of particles as a function of time\n",
    "plt.plot(t,N)\n",
    "plt.plot(t,N,'x')\n",
    "plt.xlabel(\"Time (s)\")\n",
    "plt.ylabel(\"Number of particles\")\n",
    "plt.yscale('log')"
   ]
  },
  {
   "cell_type": "markdown",
   "metadata": {},
   "source": [
    "3. The period of oscillation $T$ of a pendulum (for small amplitudes): $$T = 2\\pi \\sqrt{\\frac{L}{g}}.$$ Here $L$ is the length of the pendulum and $g$ is the gravitational constant."
   ]
  },
  {
   "cell_type": "code",
   "execution_count": 35,
   "metadata": {},
   "outputs": [
    {
     "data": {
      "image/png": "[encoded data removed]",
      "text/plain": [
       "<Figure size 432x288 with 1 Axes>"
      ]
     },
     "metadata": {
      "needs_background": "light"
     },
     "output_type": "display_data"
    }
   ],
   "source": [
    "g = 9.8# gravitational acceleration \n",
    "L = np.logspace(0,10,20)\n",
    "T = 2*np.pi*np.sqrt(L/g)\n",
    "plt.plot(L,T)\n",
    "plt.plot(L,T,'x')\n",
    "plt.xlabel(\"Length (m)\")\n",
    "plt.ylabel(\"Period (s)\")\n",
    "plt.yscale('log')\n",
    "plt.xscale('log')"
   ]
  },
  {
   "cell_type": "markdown",
   "metadata": {},
   "source": [
    "<div style=\"background-color: #FFF8C6\">\n",
    "Often in axis labels you might want to use greek symbols or superscript (e.g. m$^2$). This can be achieved by using LaTeX's math text commands. For a simple example, replace the label commands of the first example plot in this section (sound intensity $\\beta$ versus $I$) with:\n",
    "\n",
    "```python\n",
    "plt.xlabel(r\"Intensity (W/m$^2$)\")\n",
    "plt.ylabel(r\"Sound intensity $\\beta$ (dB)\")\n",
    "\n",
    "```\n",
    "Note the insertion of the 'r' in front of the label string, and the dollar signs around the parts that of the string that use math text commands. For a more comprehensive introduction, take a look at [this guide](https://matplotlib.org/users/mathtext.html)."
   ]
  },
  {
   "cell_type": "code",
   "execution_count": 36,
   "metadata": {},
   "outputs": [
    {
     "data": {
      "image/png": "[encoded data removed]",
      "text/plain": [
       "<Figure size 432x288 with 1 Axes>"
      ]
     },
     "metadata": {
      "needs_background": "light"
     },
     "output_type": "display_data"
    }
   ],
   "source": [
    "I_0 = 1e-12\n",
    "I = np.logspace(0.1,10,20)# Array with 20 intensity spanning 0.1 - 10 Wm^-2 evenly in log space\n",
    "beta = 10*np.log(I/I_0)# The sound intensity in dB\n",
    "plt.plot(I,beta)\n",
    "plt.plot(I,beta,'x')\n",
    "plt.xlabel(r\"Intensity (W/m$^2$)\")\n",
    "plt.ylabel(r\"Sound intensity $\\beta$ (dB)\")\n",
    "plt.xscale('log')\n",
    "plt.show()"
   ]
  },
  {
   "cell_type": "code",
   "execution_count": null,
   "metadata": {},
   "outputs": [],
   "source": []
  }
 ],
 "metadata": {
  "kernelspec": {
   "display_name": "Python 3",
   "language": "python",
   "name": "python3"
  },
  "language_info": {
   "codemirror_mode": {
    "name": "ipython",
    "version": 3
   },
   "file_extension": ".py",
   "mimetype": "text/x-python",
   "name": "python",
   "nbconvert_exporter": "python",
   "pygments_lexer": "ipython3",
   "version": "3.7.6"
  }
 },
 "nbformat": 4,
 "nbformat_minor": 2
}
