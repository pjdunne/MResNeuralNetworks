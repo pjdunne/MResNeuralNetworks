{
 "cells": [
  {
   "cell_type": "markdown",
   "metadata": {},
   "source": [
    "# Advanced Error Handling"
   ]
  },
  {
   "cell_type": "markdown",
   "metadata": {},
   "source": [
    "When using functions from the numpy, scipy and matplotlib libraries, if you use them improperly by using the wrong arguements or passing it the wrong data type, they would crash and raise an error, letting you know that something has gone wrong. All of the functions we have written in session 3 do not have such a feature, and therefore may be used improperly without letting you know. The process of writing your function to be able to handle these types of errors is known an error handling or execption catching. There are 3 classes of errors that occur in python:\n",
    "\n",
    "- Syntax Error\n",
    "- Logic Error\n",
    "- Exceptions\n",
    "\n",
    "Syntax errors are the most basic errors and are the easist to detect. These occur when python cannot interpret a line of code, and are most likely down to human error. For example, run the following cell:"
   ]
  },
  {
   "cell_type": "code",
   "execution_count": 2,
   "metadata": {},
   "outputs": [
    {
     "ename": "SyntaxError",
     "evalue": "invalid syntax (<ipython-input-2-dcf3d76a4e10>, line 1)",
     "output_type": "error",
     "traceback": [
      "\u001b[0;36m  File \u001b[0;32m\"<ipython-input-2-dcf3d76a4e10>\"\u001b[0;36m, line \u001b[0;32m1\u001b[0m\n\u001b[0;31m    whille x >2:\u001b[0m\n\u001b[0m           ^\u001b[0m\n\u001b[0;31mSyntaxError\u001b[0m\u001b[0;31m:\u001b[0m invalid syntax\n"
     ]
    }
   ],
   "source": [
    "whille x >2:"
   ]
  },
  {
   "cell_type": "markdown",
   "metadata": {},
   "source": [
    "What has happened here is that we have mispelled while, causing python to crash. Logic errors are when the program returns an erronous result owing to something unexpected happening in the code, which does not by itself create any explicit errors. These are the hardest to catch and will be covered in section 3. For now we will focus on Exceptions, which occur when python encounters an error or an unusual condition."
   ]
  },
  {
   "cell_type": "markdown",
   "metadata": {},
   "source": [
    "### Exception Handling\n",
    "\n",
    " As an example, run this square root function and the cells below."
   ]
  },
  {
   "cell_type": "code",
   "execution_count": 2,
   "metadata": {
    "collapsed": true
   },
   "outputs": [],
   "source": [
    "def square_root(x):\n",
    "    return x ** 0.5"
   ]
  },
  {
   "cell_type": "code",
   "execution_count": 3,
   "metadata": {},
   "outputs": [
    {
     "data": {
      "text/plain": [
       "2.0"
      ]
     },
     "execution_count": 3,
     "metadata": {},
     "output_type": "execute_result"
    }
   ],
   "source": [
    "square_root(4)"
   ]
  },
  {
   "cell_type": "code",
   "execution_count": 4,
   "metadata": {},
   "outputs": [
    {
     "data": {
      "text/plain": [
       "3.0"
      ]
     },
     "execution_count": 4,
     "metadata": {},
     "output_type": "execute_result"
    }
   ],
   "source": [
    "square_root(9.0)"
   ]
  },
  {
   "cell_type": "code",
   "execution_count": 5,
   "metadata": {},
   "outputs": [
    {
     "ename": "TypeError",
     "evalue": "unsupported operand type(s) for ** or pow(): 'str' and 'float'",
     "output_type": "error",
     "traceback": [
      "\u001b[0;31m---------------------------------------------------------------------------\u001b[0m",
      "\u001b[0;31mTypeError\u001b[0m                                 Traceback (most recent call last)",
      "\u001b[0;32m<ipython-input-5-5cd60780ef13>\u001b[0m in \u001b[0;36m<module>\u001b[0;34m()\u001b[0m\n\u001b[0;32m----> 1\u001b[0;31m \u001b[0msquare_root\u001b[0m\u001b[0;34m(\u001b[0m\u001b[0;34m'hello'\u001b[0m\u001b[0;34m)\u001b[0m\u001b[0;34m\u001b[0m\u001b[0m\n\u001b[0m",
      "\u001b[0;32m<ipython-input-2-c93c522f1345>\u001b[0m in \u001b[0;36msquare_root\u001b[0;34m(x)\u001b[0m\n\u001b[1;32m      1\u001b[0m \u001b[0;32mdef\u001b[0m \u001b[0msquare_root\u001b[0m\u001b[0;34m(\u001b[0m\u001b[0mx\u001b[0m\u001b[0;34m)\u001b[0m\u001b[0;34m:\u001b[0m\u001b[0;34m\u001b[0m\u001b[0m\n\u001b[0;32m----> 2\u001b[0;31m     \u001b[0;32mreturn\u001b[0m \u001b[0mx\u001b[0m \u001b[0;34m**\u001b[0m \u001b[0;36m0.5\u001b[0m\u001b[0;34m\u001b[0m\u001b[0m\n\u001b[0m",
      "\u001b[0;31mTypeError\u001b[0m: unsupported operand type(s) for ** or pow(): 'str' and 'float'"
     ]
    }
   ],
   "source": [
    "square_root('hello')"
   ]
  },
  {
   "cell_type": "markdown",
   "metadata": {},
   "source": [
    "Looking at the above 3 calls to the code, notice that the function handled ints and floats just fine. However when it was passed a string, it crashed and gave a TypeError, which is related to the type of data that it recieved. In this case the ** operator works on floats and ints, but not on strings. We can rewrite our code to handle these sorts of errors by using the try-except framework that exists in python. This works by first trying to execute the code block, and if it fails it will default to the except clause. To try this out, we can rewrite our code as:"
   ]
  },
  {
   "cell_type": "code",
   "execution_count": 6,
   "metadata": {
    "collapsed": true
   },
   "outputs": [],
   "source": [
    "def square_root_error(x):\n",
    "    try:\n",
    "        return x ** 0.5\n",
    "    except:\n",
    "        print(\"The value given must be an int or float\")"
   ]
  },
  {
   "cell_type": "code",
   "execution_count": 7,
   "metadata": {},
   "outputs": [
    {
     "data": {
      "text/plain": [
       "2.0"
      ]
     },
     "execution_count": 7,
     "metadata": {},
     "output_type": "execute_result"
    }
   ],
   "source": [
    "square_root_error(4)"
   ]
  },
  {
   "cell_type": "code",
   "execution_count": 8,
   "metadata": {},
   "outputs": [
    {
     "data": {
      "text/plain": [
       "3.0"
      ]
     },
     "execution_count": 8,
     "metadata": {},
     "output_type": "execute_result"
    }
   ],
   "source": [
    "square_root_error(9.0)"
   ]
  },
  {
   "cell_type": "code",
   "execution_count": 9,
   "metadata": {},
   "outputs": [
    {
     "name": "stdout",
     "output_type": "stream",
     "text": [
      "The value given must be an int or float\n"
     ]
    }
   ],
   "source": [
    "square_root_error(\"Hello\")"
   ]
  },
  {
   "cell_type": "markdown",
   "metadata": {},
   "source": [
    "Notice how instead of returning the TypeError exception, it instead printed the except statement. Having these except statements in our functions will allow us to catch these errors and then provide an error message that is informative."
   ]
  },
  {
   "cell_type": "markdown",
   "metadata": {},
   "source": [
    "<div style=\"background-color: #00FF00\">\n",
    "\n",
    "**Exercise - Modify the gravitational force function in exercise 2 with the try-except statements to ensure that the function will only accept ints and floats as its inputs.**"
   ]
  },
  {
   "cell_type": "markdown",
   "metadata": {},
   "source": [
    "While the try-except clauses are useful for general error handling, there are some times where you want to catch a specific clause that will not necessarily raise an exception. For example, say that we want our square root function to only return a value if its an integer (ie the number is a perfect square). We can do this by using the raise command to tell python to stop execution and return an exception."
   ]
  },
  {
   "cell_type": "code",
   "execution_count": 10,
   "metadata": {
    "collapsed": true
   },
   "outputs": [],
   "source": [
    "def square_root_error_int(x):\n",
    "    try:\n",
    "        if((x ** 0.5)%1 != 0.0 ):\n",
    "            raise ValueError(\"Number provided must be a perfect square\")\n",
    "        return x ** 0.5\n",
    "    except:\n",
    "        raise TypeError(\"The value given must be an int or float\")"
   ]
  },
  {
   "cell_type": "code",
   "execution_count": 11,
   "metadata": {},
   "outputs": [
    {
     "data": {
      "text/plain": [
       "2.0"
      ]
     },
     "execution_count": 11,
     "metadata": {},
     "output_type": "execute_result"
    }
   ],
   "source": [
    "square_root_error_int(4.0)"
   ]
  },
  {
   "cell_type": "code",
   "execution_count": 12,
   "metadata": {},
   "outputs": [
    {
     "ename": "TypeError",
     "evalue": "The value given must be an int or float",
     "output_type": "error",
     "traceback": [
      "\u001b[0;31m---------------------------------------------------------------------------\u001b[0m",
      "\u001b[0;31mValueError\u001b[0m                                Traceback (most recent call last)",
      "\u001b[0;32m<ipython-input-10-8564b854489a>\u001b[0m in \u001b[0;36msquare_root_error_int\u001b[0;34m(x)\u001b[0m\n\u001b[1;32m      3\u001b[0m         \u001b[0;32mif\u001b[0m\u001b[0;34m(\u001b[0m\u001b[0;34m(\u001b[0m\u001b[0mx\u001b[0m \u001b[0;34m**\u001b[0m \u001b[0;36m0.5\u001b[0m\u001b[0;34m)\u001b[0m\u001b[0;34m%\u001b[0m\u001b[0;36m1\u001b[0m \u001b[0;34m!=\u001b[0m \u001b[0;36m0.0\u001b[0m \u001b[0;34m)\u001b[0m\u001b[0;34m:\u001b[0m\u001b[0;34m\u001b[0m\u001b[0m\n\u001b[0;32m----> 4\u001b[0;31m             \u001b[0;32mraise\u001b[0m \u001b[0mValueError\u001b[0m\u001b[0;34m(\u001b[0m\u001b[0;34m\"Number provided must be a perfect square\"\u001b[0m\u001b[0;34m)\u001b[0m\u001b[0;34m\u001b[0m\u001b[0m\n\u001b[0m\u001b[1;32m      5\u001b[0m         \u001b[0;32mreturn\u001b[0m \u001b[0mx\u001b[0m \u001b[0;34m**\u001b[0m \u001b[0;36m0.5\u001b[0m\u001b[0;34m\u001b[0m\u001b[0m\n",
      "\u001b[0;31mValueError\u001b[0m: Number provided must be a perfect square",
      "\nDuring handling of the above exception, another exception occurred:\n",
      "\u001b[0;31mTypeError\u001b[0m                                 Traceback (most recent call last)",
      "\u001b[0;32m<ipython-input-12-a4412a6933e0>\u001b[0m in \u001b[0;36m<module>\u001b[0;34m()\u001b[0m\n\u001b[0;32m----> 1\u001b[0;31m \u001b[0msquare_root_error_int\u001b[0m\u001b[0;34m(\u001b[0m\u001b[0;36m5.0\u001b[0m\u001b[0;34m)\u001b[0m\u001b[0;34m\u001b[0m\u001b[0m\n\u001b[0m",
      "\u001b[0;32m<ipython-input-10-8564b854489a>\u001b[0m in \u001b[0;36msquare_root_error_int\u001b[0;34m(x)\u001b[0m\n\u001b[1;32m      5\u001b[0m         \u001b[0;32mreturn\u001b[0m \u001b[0mx\u001b[0m \u001b[0;34m**\u001b[0m \u001b[0;36m0.5\u001b[0m\u001b[0;34m\u001b[0m\u001b[0m\n\u001b[1;32m      6\u001b[0m     \u001b[0;32mexcept\u001b[0m\u001b[0;34m:\u001b[0m\u001b[0;34m\u001b[0m\u001b[0m\n\u001b[0;32m----> 7\u001b[0;31m         \u001b[0;32mraise\u001b[0m \u001b[0mTypeError\u001b[0m\u001b[0;34m(\u001b[0m\u001b[0;34m\"The value given must be an int or float\"\u001b[0m\u001b[0;34m)\u001b[0m\u001b[0;34m\u001b[0m\u001b[0m\n\u001b[0m",
      "\u001b[0;31mTypeError\u001b[0m: The value given must be an int or float"
     ]
    }
   ],
   "source": [
    "square_root_error_int(5.0)"
   ]
  },
  {
   "cell_type": "markdown",
   "metadata": {},
   "source": [
    "<div style=\"background-color: #00FF00\">\n",
    "\n",
    "**Exercise - Further modify your gravitational force function to raise an exception if that masses are at the same positions (this will stop your function from calculating infinity).**"
   ]
  },
  {
   "cell_type": "markdown",
   "metadata": {},
   "source": [
    "When thinking about error handling we need to ask ourselves the following questions: \n",
    "\n",
    "- What are our input and output data types? \n",
    "\n",
    "- Are there any cases where we can do erroneous arithmetic? \n",
    "\n",
    "- Are we trying to access any variables or array that we shouldn't?"
   ]
  },
  {
   "cell_type": "markdown",
   "metadata": {},
   "source": [
    "<div style=\"background-color: #00FF00\">\n",
    "\n",
    "**Exercise - Modify exercise 3 to only accept ints or floats and then raise an exception if the discriminant $(b^2-4ac)$ would return a complex number.**"
   ]
  },
  {
   "cell_type": "markdown",
   "metadata": {},
   "source": [
    "### Catching Logical Errors - debugging your code<a id=\"debugging\"></a>\n",
    "\n",
    "We are now beginning to develop more sophisticated pieces of code capable of performing advanced operations. As the level of sophistication increases, so does the chance for something to go wrong which doesn't necessarily raise an exception within the codes execution. When this type of logical error occurs we need a systematic way to proceed; this is where the concept of debugging becomes incredibly useful. Fortunately for us, Spyder has a comprehensive debugging toolkit.\n",
    "\n",
    "The debugger is initiated by pressing the Debug file on the toolbar or by pressing ctrl+f5."
   ]
  },
  {
   "cell_type": "markdown",
   "metadata": {},
   "source": [
    "![debugger-annotated](https://cclewley.github.io/ComputingYr1/Images3/debugger-annotated.PNG)"
   ]
  },
  {
   "cell_type": "markdown",
   "metadata": {},
   "source": [
    "The red highlighted box encloses the debugging commands available in the Spyder IDE. In order from left to right, the following buttons within the debugging toolbar are:\n",
    "\n",
    "- Orange: Debug file.\n",
    "- Yellow: Run Current Line.\n",
    "- Green: Step into function or method of current line.\n",
    "- Blue: Run until current function or method returns.\n",
    "- Blue: Continue execution until next breakpoint.\n",
    "- Purple: Stop debugging.\n",
    "\n",
    "Once debugging had been initiated, the Ipython console on the bottom right will look like:"
   ]
  },
  {
   "cell_type": "markdown",
   "metadata": {},
   "source": [
    "![debugging-console](Images/debugging-console.png)"
   ]
  },
  {
   "cell_type": "markdown",
   "metadata": {},
   "source": [
    "Notice it now reads ipdb in the ipython console and not a command line like previously; this shows that Ipython has entered into debugging mode. \n",
    "\n",
    "\n",
    "**Sometimes there are issues when debugging within the Ipython console; if your machine is experiencing issues while debugging then a solution is to switch tabs over to the Python console. Everything that will be described below is equally valid in this console.**\n",
    "\n",
    "One of the most powerful parts of debugging are the use of break points, these are user-defined points in the code that the program will stop at when encountered. To insert a break point into a code, double-click in the grey column next to the lie numbers in the script environment. Note that breakpoints can only be placed on rows that have executable python code on them (so not comments)."
   ]
  },
  {
   "cell_type": "markdown",
   "metadata": {},
   "source": [
    "![debugging-breakpoints.PNG](https://cclewley.github.io/ComputingYr1/Images3/debugging-breakpoints.PNG)"
   ]
  },
  {
   "cell_type": "markdown",
   "metadata": {},
   "source": [
    "Breakpoints are used to see how the progress of a code execution: this is very different behaviour from previously where we would run a whole section of code and wait for an output. This will allow us to move between different parts of the code.\n",
    "\n",
    "**Before we begin, open and save a new .py file that will be used for debugging.**\n",
    "\n",
    "We will look at some code that you wrote in session 2 that loaded in Resistivity data and calculated a line fit to the data."
   ]
  },
  {
   "cell_type": "code",
   "execution_count": 15,
   "metadata": {},
   "outputs": [
    {
     "name": "stdout",
     "output_type": "stream",
     "text": [
      "Aluminium fit coefficients\n",
      "[  1.08753758e-10  -4.17527741e-09]\n",
      "covariance matrix\n",
      "[[  1.89709698e-23  -4.88426494e-21]\n",
      " [ -4.88426494e-21   1.30359255e-18]]\n",
      "Slope = 1.088e-10 +/- 4.356e-12\n",
      "Intercept = -4.175e-09 +/- 1.142e-09\n"
     ]
    }
   ],
   "source": [
    "import numpy as np\n",
    "import matplotlib.pyplot as plt\n",
    "\n",
    "T,R_Cu,R_Al = np.loadtxt('Data/Resistivity.txt',unpack=True)# Read in the data\n",
    "errors_Al = 0.05*R_Al# Calculate 5% errors\n",
    "errors_Cu = 0.05*R_Cu\n",
    "\n",
    "# The line below stores the fit coefficients in the fit_Al variable, and the covariance matrix in the cov_Al variable.\n",
    "# Note that the input arguments for polyfit() below are:\n",
    "# (1) the independent variable (T)\n",
    "# (2) the dependent variable (R_Al)\n",
    "# (3) the order of the polynomial to be fitted (1)\n",
    "# (4) the weights of each data point (w = 1/errors_Al)\n",
    "# (5) whether or not to return the covariance matrix (cov = True)\n",
    "fit_Al,cov_Al = np.polyfit(T,R_Al,1,w=1/errors_Al,cov=True)\n",
    "print('Aluminium fit coefficients')\n",
    "print(fit_Al)\n",
    "print('covariance matrix')\n",
    "print(cov_Al)\n",
    "\n",
    "sig_0 = np.sqrt(cov_Al[0,0]) #The uncertainty in the slope\n",
    "sig_1 = np.sqrt(cov_Al[1,1]) #The uncertainty in the intercept\n",
    "\n",
    "print('Slope = %.3e +/- %.3e' %(fit_Al[0],sig_0))# Note the %.3e forces the values to be printed in scientific notation with 3 decimal places.\n",
    "print('Intercept = %.3e +/- %.3e' %(fit_Al[1],sig_1))"
   ]
  },
  {
   "cell_type": "markdown",
   "metadata": {},
   "source": [
    "<div style=\"background-color: #00FF00\">\n",
    "    \n",
    "**Copy this data into your empty .py file.**"
   ]
  },
  {
   "cell_type": "markdown",
   "metadata": {},
   "source": [
    "**To ensure that all variables have been cleared from your Spyder session, run the following commands in the ipython terminal:**\n",
    "\n",
    "```python\n",
    "%reset\n",
    "%clear\n",
    "```\n",
    "\n",
    "This will clear all the current variables stored within Spyder. Your Spyder editor should now look like this."
   ]
  },
  {
   "cell_type": "markdown",
   "metadata": {},
   "source": [
    "![debugging-setup.PNG](https://cclewley.github.io/ComputingYr1/Images3/debugging-setup.PNG)"
   ]
  },
  {
   "cell_type": "markdown",
   "metadata": {},
   "source": [
    "<div style=\"background-color: #00FF00\">\n",
    "    \n",
    "**Set your breakpoints to the same location as the image above, enter debug mode and then move to the first breakpoint. The code will acknowledge this by printing the following in the ipython command terminal:**"
   ]
  },
  {
   "cell_type": "markdown",
   "metadata": {},
   "source": [
    "![breakpoint-1.PNG](https://cclewley.github.io/ComputingYr1/Images3/breakpoint-1.PNG)"
   ]
  },
  {
   "cell_type": "markdown",
   "metadata": {
    "slideshow": {
     "slide_type": "subslide"
    }
   },
   "source": [
    "(Of course it will quote the folder you saved your own script in rather than the one in the example above!)"
   ]
  },
  {
   "cell_type": "markdown",
   "metadata": {},
   "source": [
    "Check the variable explorer window, and see if anything has been defined yet. Nothing should have been which is an important part about breakpoints. **Breakpoints take you to a certain line but they do not execute it!** This is especially import when you suspect you have a bug in a particular line of code.\n",
    "\n",
    "<div style=\"background-color: #00FF00\">\n",
    "    \n",
    "**Now move onto the second breakpoint.**"
   ]
  },
  {
   "cell_type": "markdown",
   "metadata": {},
   "source": [
    "The arrays T, R_Cu and R_Al been loaded in from the Resistivity.txt file and the arrays errors_Al and errors_Cu have been derived from them. These should be visible in your variable explorer window.\n",
    "\n",
    "<div style=\"background-color: #00FF00\">\n",
    "    \n",
    "**Now move onto the final breakpoint and see how more variables have been created.**"
   ]
  },
  {
   "cell_type": "markdown",
   "metadata": {},
   "source": [
    "There will be instances where you want to step through your code line by line and therefore putting a breakpoint on every line is inefficient. To do this, type the <span style=\"color:blue\">n</span> command into the console window while in debug mode; this will execute the current line of code and move onto the next one. Once this command has been entered, to execute it again simple hit return with the console terminal. To try this out, re-enter debug mode and move to the first breakpoint. After this use <span style=\"color:blue\">n</span> to step through the code line by line."
   ]
  },
  {
   "cell_type": "markdown",
   "metadata": {},
   "source": [
    "Debugging code becomes particularly useful when you have loops and functions which can alter the logical flow of your program, making it hard to track by eye.\n",
    "\n",
    "Two useful commands while in debug mode are the <span style=\"color:blue\">pp locals()</span> and the <span style=\"color:blue\">pp globals</span> commands; pp stands for pretty print and will cause Python to print out text in a legible manner. These commands will list the local and global variables respectively, which is useful for keeping track of what is defined a function and what isn't."
   ]
  },
  {
   "cell_type": "code",
   "execution_count": null,
   "metadata": {
    "collapsed": true
   },
   "outputs": [],
   "source": []
  }
 ],
 "metadata": {
  "kernelspec": {
   "display_name": "Python 3",
   "language": "python",
   "name": "python3"
  },
  "language_info": {
   "codemirror_mode": {
    "name": "ipython",
    "version": 3
   },
   "file_extension": ".py",
   "mimetype": "text/x-python",
   "name": "python",
   "nbconvert_exporter": "python",
   "pygments_lexer": "ipython3",
   "version": "3.7.6"
  }
 },
 "nbformat": 4,
 "nbformat_minor": 2
}
