{
 "cells": [
  {
   "cell_type": "markdown",
   "metadata": {},
   "source": [
    "# Session 3"
   ]
  },
  {
   "cell_type": "markdown",
   "metadata": {},
   "source": [
    "## Index of Session 3\n",
    "\n",
    "1. Intended learning outcomes\n",
    "2. The Spyder IDE environment\n",
    "3. General coding practices\n",
    "4. Functions\n",
    "5. For loops\n",
    "6. Mathematical inequalities and Boolean logic\n",
    "7. If statements\n",
    "8. While loops\n",
    "10. Further examples"
   ]
  },
  {
   "cell_type": "markdown",
   "metadata": {},
   "source": [
    "## 1. Intended learning outcomes <a id=\"outcomes\"></a>\n",
    "\n",
    "After this session, you should be able to:\n",
    "\n",
    "- navigate the Spyder IDE environment,\n",
    "- use the Python script editor to create code blocks,\n",
    "- write custom functions,\n",
    "- employ the for, if, and while commands to manipulate program flow,\n",
    "- utilise break and continue statements to manipulate for, if and while loops,\n",
    "- write longer programs to execute a specific task."
   ]
  },
  {
   "cell_type": "markdown",
   "metadata": {},
   "source": [
    "## 4. Functions <a id=\"functions\"></a>"
   ]
  },
  {
   "cell_type": "markdown",
   "metadata": {},
   "source": [
    "**Remember:** To get any output from the function, it is not enough to just define the function itself. We need to call the function and then assign it to a variable, and then print that variable to display it.\n",
    "\n",
    "<div style=\"background-color: #FFF8C6\"> \n",
    "### Global vs Local Extent\n",
    "Take the <span style=\"color:blue\">square_two_numbers</span> function above and copy it into the Spyder Python script environment. Call this function within the script environment for different input and output variable names, but not the variable name <span style=\"color:blue\">z</span>. Looking at the variable explorer, notice how the variable <span style=\"color:blue\">z</span> doesn't appear, even though it was defined within the function. Variables that are defined within a function are known as *local* variables, and only exist within the function itself. This means that once the function has completed and the program returns to the main program, any variable that is not explicitly returned via the <span style=\"color:blue\">return</span> statement is forgotten. This should be remembered when thinking about what variables need to be passed out of a function.\n",
    "<p>\n",
    "**Exercise: **\n",
    "- **Create a new function <span style=\"color:blue\">square_two_numbers_add_w</span>, Add the variable <span style=\"color:blue\">w=5</span> to your .py file, *outside of the function but earlier in the code than the function call*, and modify the <span style=\"color:blue\">square_two_numbers</span> function to return $(x+y)^2+w$, instead of just $(x+y)^2$. What value does your function return?**\n",
    " <p>\n",
    "- **Now further modify the <span style=\"color:blue\">square_two_numbers_add_w</span> function by including the line <span style=\"color:blue\">w=2</span> *within the function* and run the script again. Look at the variable explorer for the value of $w$. What do you notice about the output and the values in your variable explorer?**"
   ]
  },
  {
   "cell_type": "markdown",
   "metadata": {},
   "source": [
    "In the variable explorer, w will still equal 5, even though it used w=2 within the function."
   ]
  },
  {
   "cell_type": "markdown",
   "metadata": {},
   "source": [
    "<div style=\"background-color: #00FF00\">\n",
    "\n",
    "**Exercise 2: Newton's Law of Gravitation states that the force, $F$, felt between two objects is proportional to their masses, $m_1, m_2 $, and inversely proportional to the square of their displacement, $r$. In 1D, the magnitude of this force is written as (replacing r with $x_2 - x_1$): **\n",
    "\n",
    "$$F=\\frac{Gm_1m_2}{(x_2 - x_1)^2}$$\n",
    "\n",
    "** Where $G=6.67x10^{-11}m^{3}kg^{-1}s^{-2}$ is the gravitational constant. Write a function that calculates and returns the force felt by masses of 1kg at arbitrary positions (i.e. $x_1$ and $x_2$ should be your input parameters). Remember to think about code layout with regards to constants, and in particular what type of variables (integers or floats) everything should be. Try this for different distances. What happens if the masses are in the same position? We will return to this later. **\n",
    "\n",
    "** Hint: You might want to change the value of $m_1$ or $m_2$, therefore these should be variables that are passed to the function. **\n",
    " \n"
   ]
  },
  {
   "cell_type": "code",
   "execution_count": 5,
   "metadata": {},
   "outputs": [
    {
     "name": "stdout",
     "output_type": "stream",
     "text": [
      "Force between two objects is 1.6675e-11\n"
     ]
    }
   ],
   "source": [
    "G=6.67e-11 #Gravitational constant\n",
    "m1=1. # mass 1\n",
    "m2=1. # mass 2\n",
    "\n",
    "def grav_attraction(x1,x2):\n",
    "    force=G*m1*m2/(x2-x1)**2\n",
    "    return force\n",
    "\n",
    "x1=1. # position 1\n",
    "x2=3. # position 2\n",
    "attraction=grav_attraction(x1,x2)\n",
    "print(\"Force between two objects is \" + str(attraction))"
   ]
  },
  {
   "cell_type": "markdown",
   "metadata": {},
   "source": [
    "\n",
    "<div style=\"background-color: #00FF00\">\n",
    "\n",
    "** Exercise 3: in algebra, the quadratic formula calculates the roots of a quadratic function, $ax^2+bx+c$, as: **\n",
    "\n",
    "$$x=\\frac{-b\\pm\\sqrt{(b^2-4ac)}}{2a}$$\n",
    "\n",
    "** Write a function that returns both roots. Think of how you will make a function return multiple outputs. Consider how you can verify that your function is working as intended, possibly by doing a test case by hand and comparing to the function output **\n"
   ]
  },
  {
   "cell_type": "code",
   "execution_count": 3,
   "metadata": {},
   "outputs": [
    {
     "name": "stdout",
     "output_type": "stream",
     "text": [
      "(-0.20204102886728847, -19.79795897113271)\n",
      "-0.20204102886728847 -19.79795897113271\n"
     ]
    }
   ],
   "source": [
    "import scipy as sp\n",
    "\n",
    "def quadratic_root(a,b,c):\n",
    "    root1=(-b+sp.sqrt(b**2-4*a*c))/2*a\n",
    "    root2=(-b-sp.sqrt(b**2-4*a*c))/2*a\n",
    "    return root1, root2\n",
    "\n",
    "roots=quadratic_root(1,20,4)\n",
    "print(roots)\n",
    "\n",
    "# Or call the function as:\n",
    "root1, root2 = quadratic_root(1,20,4)\n",
    "print(root1,root2)"
   ]
  },
  {
   "cell_type": "markdown",
   "metadata": {},
   "source": [
    "\n",
    "<div style=\"background-color: #FFF8C6\">\n",
    "\n",
    "** Exercise: as physicists, you will often have to work in different coordinate systems. For an input Cartesian variables $x$ and $y$, the coordinate transformation to $r$ & $\\theta$ is given as: **\n",
    "\n",
    "$$r=\\sqrt{x^2+y^2}$$\n",
    "$$\\theta=\\arctan{(y/x)}$$\n",
    "\n",
    "** Write a function that carries out this coordinate transformation, and returns $\\theta$ in degrees. **\n",
    "\n",
    "** Note: In Scipy, there are two arctan functions, <span style=\"color:blue\">sp.arctan()</span> and <span style=\"color:blue\">sp.arctan2()</span>. Each returns different angles depending on the sign of your input variables. Look at the documentation to see the difference in their execution.**"
   ]
  },
  {
   "cell_type": "code",
   "execution_count": 4,
   "metadata": {},
   "outputs": [
    {
     "name": "stdout",
     "output_type": "stream",
     "text": [
      "(1.4142135623730951, 45.0)\n",
      "1.4142135623730951 45.0\n"
     ]
    }
   ],
   "source": [
    "import scipy as sp\n",
    "\n",
    "def cart_to_polar(x,y):\n",
    "    r=sp.sqrt(x**2+y**2)\n",
    "    theta=sp.arctan(y/x)*180/sp.pi\n",
    "    return r, theta\n",
    "\n",
    "transform=cart_to_polar(1,1)\n",
    "print(transform)\n",
    "\n",
    "r,theta=cart_to_polar(1,1)\n",
    "print(r,theta)"
   ]
  },
  {
   "cell_type": "markdown",
   "metadata": {},
   "source": [
    "<div style=\"background-color: #FFF8C6\"> \n",
    "#### Optional Keywords \n",
    "\n",
    "Functions in Python can be created with default arguments; this means that unless specified they will assume a value that is set in the function definition itself. Notation wise, the function would look like:\n",
    "\n",
    "```python\n",
    "def add_two_number(x,y=5):\n",
    "    z=x+y\n",
    "    return z\n",
    "```\n",
    "Copy this function into Spyder, and run it with one and two inputs. With this is mind, try the following:\n",
    "\n",
    "** Exercise: modify the <span style=\"color:blue\">square_two_numbers</span> function to return the expression $(x+y)^n$, with the default exponent $n$ being 2. **\n",
    " "
   ]
  },
  {
   "cell_type": "code",
   "execution_count": 5,
   "metadata": {},
   "outputs": [
    {
     "name": "stdout",
     "output_type": "stream",
     "text": [
      "125\n"
     ]
    }
   ],
   "source": [
    "def add_and_exponent(x,y,power=2):\n",
    "    return (x+y)**power\n",
    "\n",
    "a=2\n",
    "b=3\n",
    "y=add_and_exponent(a,b)\n",
    "z=add_and_exponent(a,b,3)\n",
    "print(z)\n"
   ]
  },
  {
   "cell_type": "markdown",
   "metadata": {},
   "source": [
    "## 5. For loops <a id=\"forloops\"></a>\n",
    "\n",
    "When writing programs, it is often required to repeat a code block multiple times within the execution of your Python script. The <span style=\"color:blue\">for</span> loop allows you to execute the same line of code a fixed number of times, and is laid out like this:"
   ]
  },
  {
   "cell_type": "markdown",
   "metadata": {},
   "source": [
    "With this in mind, attempt the following examples:\n",
    "<p>\n",
    "<div style=\"background-color: #00FF00\">\n",
    "\n",
    "** Exercise 4: the following list contains the names of the Fellowship of the Ring:**\n",
    "```python\n",
    "Fellowship=[\"Gandalf\",\"Aragorn\",\"Boromir\",\"Legolas\",\"Gimli\",\"Merry\",\"Pippin\",\"Samwise\",\"Frodo\"]\n",
    "```\n",
    "** Write a for loop that greets each member with the following message: **\n",
    "```python\n",
    "Hello [Fellowship], welcome to the Fellowship of the Ring!\n",
    "```\n",
    "** Note: you can query the array itself directly or access the array using its index. **"
   ]
  },
  {
   "cell_type": "code",
   "execution_count": 10,
   "metadata": {},
   "outputs": [
    {
     "name": "stdout",
     "output_type": "stream",
     "text": [
      "Hello Gandalf, welcome to the Fellowship of the Ring!\n",
      "Hello Aragorn, welcome to the Fellowship of the Ring!\n",
      "Hello Boromir, welcome to the Fellowship of the Ring!\n",
      "Hello Legolas, welcome to the Fellowship of the Ring!\n",
      "Hello Gimli, welcome to the Fellowship of the Ring!\n",
      "Hello Merry, welcome to the Fellowship of the Ring!\n",
      "Hello Pippin, welcome to the Fellowship of the Ring!\n",
      "Hello Samwise, welcome to the Fellowship of the Ring!\n",
      "Hello Frodo, welcome to the Fellowship of the Ring!\n"
     ]
    }
   ],
   "source": [
    "Fellowship=[\"Gandalf\",\"Aragorn\",\"Boromir\",\"Legolas\",\"Gimli\",\"Merry\",\"Pippin\",\"Samwise\",\"Frodo\"]\n",
    "\n",
    "for i in Fellowship: \n",
    "    print(\"Hello \"+i+\", welcome to the Fellowship of the Ring!\")"
   ]
  },
  {
   "cell_type": "markdown",
   "metadata": {},
   "source": [
    "Now onto a numerical example:"
   ]
  },
  {
   "cell_type": "markdown",
   "metadata": {},
   "source": [
    "<div style=\"background-color: #00FF00\">\n",
    "** Exercise 5: The file [Matrix_data.txt](https://cclewley.github.io/ComputingYr1/Data3/Matrix_data.txt) (in the 'Data' folder of this session) contains a list of positions for two objects of mass 1kg.\n",
    "Load this file into a 2D array (note that file names are case sensitive). Next, create a for loop to calculate the gravitational force between these two objects, using the function you wrote in exercise 2. In order to do this, \n",
    "iterate over the rows of the 2D array in the for loop, and call the function using each pair of variables as the input parameters.**\n",
    "\n",
    "**Hint:**\n",
    "\n",
    "**Imagine the input data as an array of the following dimensions:**\n",
    "\n",
    "\\begin{equation}\n",
    "\\begin{bmatrix}\n",
    "    x_1 & y_1 \\\\\n",
    "    x_2 & y_2 \\\\\n",
    "    \\vdots & \\vdots \\\\\n",
    "    x_n & y_n\n",
    "\\end{bmatrix}\n",
    "\\end{equation}\n",
    "\n",
    "**We want to use each $x$, $y$ pair as an input to our function.**\n"
   ]
  },
  {
   "cell_type": "code",
   "execution_count": 11,
   "metadata": {},
   "outputs": [
    {
     "name": "stdout",
     "output_type": "stream",
     "text": [
      "[4.16875e-12, 6.67e-11, 6.67e-11, 6.67e-11, 1.0421875e-12, 1.3612244897959184e-12, 6.67e-11, 7.411111111111112e-12, 1.6675e-11, 4.16875e-12]\n"
     ]
    }
   ],
   "source": [
    "import scipy as sp\n",
    "\n",
    "data=sp.loadtxt(\"Data/Matrix_data.txt\")\n",
    "output=[]\n",
    "\n",
    "for i in sp.arange(0,len(data)):\n",
    "    result=grav_attraction(data[i,0],data[i,1])\n",
    "    output.append(result)\n",
    "\n",
    "print(output)"
   ]
  },
  {
   "cell_type": "markdown",
   "metadata": {},
   "source": [
    "<div style=\"background-color: #FFF8C6\"> \n",
    "** Exercise: using the same 2D array as in the exercise above, write a code block that loops over every combination of two numbers possible in the array, using them as inputs for the functions created in exercise 2. **"
   ]
  },
  {
   "cell_type": "code",
   "execution_count": 12,
   "metadata": {},
   "outputs": [
    {
     "name": "stdout",
     "output_type": "stream",
     "text": [
      "[4.16875e-12, 7.411111111111112e-12, 1.852777777777778e-12, 1.3612244897959184e-12, inf, 1.0421875e-12, 4.16875e-12, 7.411111111111112e-12, 6.67e-11, 2.668e-12, 1.6675e-11, 6.67e-11, 4.16875e-12, 2.668e-12, 1.6675e-11, 1.852777777777778e-12, 1.6675e-11, 6.67e-11, 6.67e-11, 7.411111111111112e-12, 6.67e-11, 1.6675e-11, 6.67e-11, 1.6675e-11, 2.668e-12, 7.411111111111112e-12, 6.67e-11, 1.6675e-11, 4.16875e-12, inf, 1.6675e-11, 7.411111111111112e-12, inf, 6.67e-11, 1.852777777777778e-12, 1.6675e-11, 1.6675e-11, 7.411111111111112e-12, 2.668e-12, 6.67e-11, 4.16875e-12, 2.668e-12, 1.6675e-11, 6.67e-11, 1.0421875e-12, inf, 4.16875e-12, 2.668e-12, 1.3612244897959184e-12, 7.411111111111112e-12, 7.411111111111112e-12, 1.6675e-11, 2.668e-12, 1.852777777777778e-12, 6.67e-11, 1.3612244897959184e-12, 7.411111111111112e-12, 1.6675e-11, inf, 4.16875e-12, 6.67e-11, inf, 7.411111111111112e-12, 4.16875e-12, 7.411111111111112e-12, 2.668e-12, 6.67e-11, inf, 1.6675e-11, 1.6675e-11, 1.6675e-11, 7.411111111111112e-12, inf, 6.67e-11, 1.852777777777778e-12, 1.6675e-11, 1.6675e-11, 7.411111111111112e-12, 2.668e-12, 6.67e-11, 2.668e-12, 4.16875e-12, 1.3612244897959184e-12, 1.0421875e-12, 6.67e-11, 8.234567901234568e-13, 2.668e-12, 4.16875e-12, 1.6675e-11, 1.852777777777778e-12, 7.411111111111112e-12, 1.6675e-11, 2.668e-12, 1.852777777777778e-12, 6.67e-11, 1.3612244897959184e-12, 7.411111111111112e-12, 1.6675e-11, inf, 4.16875e-12]\n"
     ]
    },
    {
     "name": "stderr",
     "output_type": "stream",
     "text": [
      "/home/nbuser/anaconda3_420/lib/python3.5/site-packages/ipykernel/__main__.py:6: RuntimeWarning: divide by zero encountered in double_scalars\n"
     ]
    }
   ],
   "source": [
    "output2=[]\n",
    "\n",
    "for i in sp.arange(0,len(data)):\n",
    "    for j in sp.arange(0,len(data)):\n",
    "        result=grav_attraction(data[i,0],data[j,1])\n",
    "        output2.append(result)\n",
    "\n",
    "print(output2)"
   ]
  },
  {
   "cell_type": "markdown",
   "metadata": {},
   "source": [
    "<div style=\"background-color: #FFF8C6\"> \n",
    "\n",
    "#### Enumerate\n",
    "When writing a for loop, you can access the elements of a list directly or using an index. There are situations when you want to do both. To accomplish this, Python has the enumerate keyword, which is included in a for loop as:\n",
    "\n",
    "```python\n",
    "for number,value in enumerate(list):\n",
    "    ---Write some code---\n",
    "```\n",
    "\n",
    "**Exercise: modify exercise 4 to print the following: **\n",
    "\n",
    "```python\n",
    "Hello [value], you are Fellowship member number [number]!\n",
    "```\n",
    "\n",
    "** Where 'value' is the name in the Fellowship list. **"
   ]
  },
  {
   "cell_type": "code",
   "execution_count": 13,
   "metadata": {},
   "outputs": [
    {
     "name": "stdout",
     "output_type": "stream",
     "text": [
      "Hello Gandalf, you are Fellowship member number 1\n",
      "Hello Aragorn, you are Fellowship member number 2\n",
      "Hello Boromir, you are Fellowship member number 3\n",
      "Hello Legolas, you are Fellowship member number 4\n",
      "Hello Gimli, you are Fellowship member number 5\n",
      "Hello Merry, you are Fellowship member number 6\n",
      "Hello Pippin, you are Fellowship member number 7\n",
      "Hello Samwise, you are Fellowship member number 8\n",
      "Hello Frodo, you are Fellowship member number 9\n"
     ]
    }
   ],
   "source": [
    "Fellowship=[\"Gandalf\",\"Aragorn\",\"Boromir\",\"Legolas\",\"Gimli\",\"Merry\",\"Pippin\",\"Samwise\",\"Frodo\"]\n",
    "\n",
    "for number,value in enumerate(Fellowship):\n",
    "    print(\"Hello \"+value+\", you are Fellowship member number\",number+1)"
   ]
  },
  {
   "cell_type": "markdown",
   "metadata": {},
   "source": [
    "## 7. If statements<a id=\"ifstatements\"></a>"
   ]
  },
  {
   "cell_type": "markdown",
   "metadata": {},
   "source": [
    "\n",
    "<div style=\"background-color: #00FF00\">\n",
    "** Exercise 6: the array from exercise 4 is extended to include other characters from the Lord of the Rings franchise. together with a 'yes' or 'no' indicating whether the character is part of the fellowship: **\n",
    "\n",
    "```python\n",
    "Fellowship=[[\"Gandalf\",\"Yes\"],[\"Theoden\",\"No\"],[\"Aragorn\",\"Yes\"],[\"Boromir\",\"Yes\"],[\"Galadriel\",\"No\"],[\"Arwen\",\"No\"],[\"Legolas\",\"Yes\"],[\"Gimli\",\"Yes\"],[\"Merry\",\"Yes\"],[\"Pippin\",\"Yes\"],[\"Samwise\",\"Yes\"],[\"Frodo\",\"Yes\"]]\n",
    "```\n",
    "\n",
    "** Once again use the for loop to print the hello statement as in exercise 4 for all characters that are part of the fellowship. For those that are *not* part of the fellowship, print the following statement for members not part of the fellowship:**\n",
    "\n",
    "```python\n",
    "Sorry [Member], you are not part of the fellowship. Have a good day.\n",
    "```\n",
    "**Note that in order to do this you will need to include an if statement in your for loop.**"
   ]
  },
  {
   "cell_type": "code",
   "execution_count": 8,
   "metadata": {},
   "outputs": [
    {
     "name": "stdout",
     "output_type": "stream",
     "text": [
      "Hello Gandalf, welcome to the Fellowship of the Ring!\n",
      "Sorry Theoden, you are not part of the fellowship. Have a good day.\n",
      "Hello Aragorn, welcome to the Fellowship of the Ring!\n",
      "Hello Boromir, welcome to the Fellowship of the Ring!\n",
      "Sorry Galadriel, you are not part of the fellowship. Have a good day.\n",
      "Sorry Arwen, you are not part of the fellowship. Have a good day.\n",
      "Hello Legolas, welcome to the Fellowship of the Ring!\n",
      "Hello Gimli, welcome to the Fellowship of the Ring!\n",
      "Hello Merry, welcome to the Fellowship of the Ring!\n",
      "Hello Pippin, welcome to the Fellowship of the Ring!\n",
      "Hello Samwise, welcome to the Fellowship of the Ring!\n",
      "Hello Frodo, welcome to the Fellowship of the Ring!\n"
     ]
    }
   ],
   "source": [
    "Fellowship=[[\"Gandalf\",\"Yes\"],[\"Theoden\",\"No\"],[\"Aragorn\",\"Yes\"],[\"Boromir\",\"Yes\"],[\"Galadriel\",\"No\"],[\"Arwen\",\"No\"],[\"Legolas\",\"Yes\"],[\"Gimli\",\"Yes\"],[\"Merry\",\"Yes\"],[\"Pippin\",\"Yes\"],[\"Samwise\",\"Yes\"],[\"Frodo\",\"Yes\"]]\n",
    "\n",
    "for element in Fellowship: \n",
    "    if element[1] == \"Yes\":\n",
    "        print(\"Hello \"+element[0]+\", welcome to the Fellowship of the Ring!\")\n",
    "    else:\n",
    "        print(\"Sorry \"+element[0]+\", you are not part of the fellowship. Have a good day.\")"
   ]
  },
  {
   "cell_type": "markdown",
   "metadata": {},
   "source": [
    "<div style=\"background-color: #FFF8C6\">\n",
    "** Exercise: the flip of a coin can have two results: heads or tails. If the coin was fair, then you would expect an equal number of heads and tails to appear over a large sample size. Test out whether or not a computer makes a fair coin tosser by writing a code block that flips a coin 10000 times.**\n",
    "\n",
    "** Hint: Assign heads a value of 1 and tails a value of 0. Then use the sp.random.randint(2) function to get either a 0 or a 1 randomly**"
   ]
  },
  {
   "cell_type": "code",
   "execution_count": 9,
   "metadata": {},
   "outputs": [
    {
     "name": "stdout",
     "output_type": "stream",
     "text": [
      "[4983 5017]\n"
     ]
    }
   ],
   "source": [
    "import scipy as sp\n",
    "\n",
    "def coin_flip(number_of_iterations):\n",
    "    coin_outcome=sp.array([0,0])\n",
    "    for i in sp.arange(1,number_of_iterations+1):\n",
    "        flip=sp.random.randint(0,2)\n",
    "        if(flip == 1):\n",
    "            coin_outcome[1]+=1\n",
    "        else:\n",
    "            coin_outcome[0]+=1\n",
    "    return coin_outcome\n",
    "\n",
    "fairness=coin_flip(10000)\n",
    "print(fairness)\n",
    "\n"
   ]
  },
  {
   "cell_type": "markdown",
   "metadata": {},
   "source": [
    "<div style=\"background-color: #FFF8C6\">\n",
    "\n",
    "** Exercise: write a function that compares your input to the roll of a six-sided dice, containing the integers 1-6, and tells you whether or not you guessed correctly.**\n",
    "\n",
    "** Hint: Use the sp.random.randint(1,7) function to generate the integers 1-6 randomly**"
   ]
  },
  {
   "cell_type": "code",
   "execution_count": 11,
   "metadata": {},
   "outputs": [
    {
     "name": "stdout",
     "output_type": "stream",
     "text": [
      "('Your guess was', 1, '. Sorry, you guessed wrong, the dice value was', 3)\n"
     ]
    }
   ],
   "source": [
    "import scipy as sp\n",
    "\n",
    "def dice_roll(my_guess):\n",
    "    dice_value=sp.random.randint(1,7)\n",
    "    if(my_guess == dice_value):\n",
    "        print(\"Your guess was\",my_guess,\". Congratulations, you correctly guess the dice number of\",dice_value)\n",
    "    else:\n",
    "        print(\"Your guess was\",my_guess,\". Sorry, you guessed wrong, the dice value was\",dice_value)\n",
    "        \n",
    "attempt=dice_roll(1)\n"
   ]
  },
  {
   "cell_type": "markdown",
   "metadata": {},
   "source": [
    "<div style=\"background-color: #FFF8C6\"> \n",
    "** Exercise: generate a 2D array of random integers between 1 - 3 using the command: **\n",
    "\n",
    "```python\n",
    "sp.random.randint(1,4,size=[n,m])\n",
    "```\n",
    "** Here n and m are the dimensions of the array. Write a code block that will loop over this 2D array and count the number of distinct integers it contains. Separately, produce a histogram of the distribution of the numbers in the 2D array. What are some checks that can be included to ensure every value has been counted (are the number of counts in your histogram equal to the number of elements in your array)? **"
   ]
  },
  {
   "cell_type": "code",
   "execution_count": 12,
   "metadata": {},
   "outputs": [
    {
     "data": {
      "text/plain": [
       "<matplotlib.figure.Figure at 0x69a79e8>"
      ]
     },
     "metadata": {},
     "output_type": "display_data"
    },
    {
     "name": "stdout",
     "output_type": "stream",
     "text": [
      "[ 9 10  6]\n"
     ]
    }
   ],
   "source": [
    "import scipy as sp\n",
    "import matplotlib.pyplot as plt\n",
    "\n",
    "count=sp.array([0,0,0])\n",
    "random_array=sp.random.randint(1,4,size=[5,5])\n",
    "\n",
    "for integer in range(1,4):\n",
    "    for dim1 in range(0,len(random_array)):\n",
    "        for dim2 in range(0,len(random_array)):\n",
    "            if(integer == random_array[dim1,dim2]):\n",
    "                count[integer-1]+=1\n",
    "                \n",
    "plt.hist(sp.ndarray.flatten(random_array),bins=[0.5,1.5,2.5,3.5])\n",
    "plt.show()\n",
    "print(count)"
   ]
  },
  {
   "cell_type": "markdown",
   "metadata": {},
   "source": [
    "<div style=\"background-color: #FFF8C6\"> \n",
    "** Exercise: the Rydberg formula, which gives the wavelength of an atom's spectral lines is given as: **\n",
    "\n",
    "$$\\frac{1}{\\lambda}=R_{D}\\big(\\frac{1}{n_{1}^2}-\\frac{1}{n_{2}^2})$$\n",
    "\n",
    " ** Where $\\lambda$ is the wavelength, $R_{D}=1.097x10^7\\rm\\,m^{-1}$ is the Rydberg constant and $n_{1} < n_{2}$ are the integer energy levels that exist within an atom. Using the formula, calculate the wavelength of the first 5 transitions to the ground state of the atom (i.e. $n_2 = 2 \\rightarrow n_{1}=1$, $n_2 = 3 \\rightarrow n_{1}=1$ etc, known as the Lyman series) and the first 4 transitions to the 1st excited state $n_{1}=2$ (i.e. $n_2 = 3 \\rightarrow n_{1}=2$, $n_2 = 4 \\rightarrow n_{1}=2$ etc, known as the Balmer series). For the ground state, what happens as $n_{2}\\rightarrow\\infty$?**"
   ]
  },
  {
   "cell_type": "code",
   "execution_count": 13,
   "metadata": {},
   "outputs": [
    {
     "name": "stdout",
     "output_type": "stream",
     "text": [
      "[1.215436037678517e-07, 1.0255241567912489e-07, 9.723488301428137e-08, 9.495594044363416e-08]\n",
      "[6.563354603463993e-07, 4.861744150714068e-07, 4.3408429917089897e-07]\n"
     ]
    }
   ],
   "source": [
    "import scipy as sp\n",
    "\n",
    "R=1.097e7\n",
    "\n",
    "def Rydberg_formula(n1,n2):\n",
    "    if(n1 > n2):\n",
    "        print(\"Invalid Transition, n2 must greater than n1.\")\n",
    "        return\n",
    "    wavelength=1/(R*((1./n1)**2-(1./n2)**2))\n",
    "    return wavelength\n",
    "\n",
    "Lyman=[]\n",
    "Balmer=[]\n",
    "for n2 in sp.arange(1,6):\n",
    "    if(n2 > 1):\n",
    "         Transition=Rydberg_formula(1.,float(n2))\n",
    "         Lyman.append(Transition)\n",
    "         \n",
    "for n2 in sp.arange(1,6):\n",
    "    if(n2 > 2):\n",
    "         Transition=Rydberg_formula(2.,float(n2))\n",
    "         Balmer.append(Transition)\n",
    "print(Lyman)\n",
    "print(Balmer)"
   ]
  },
  {
   "cell_type": "markdown",
   "metadata": {},
   "source": [
    "## 8. While loops<a id=\"whileloops\"></a>"
   ]
  },
  {
   "cell_type": "markdown",
   "metadata": {},
   "source": [
    "<div style=\"background-color: #00FF00\">\n",
    "** Exercise 7: create a function that calculates the factorial of a positive integer. The factorial function is defined as: ** \n",
    "\n",
    " $$n!=n*(n-1)! $$\n",
    " \n",
    " ** with the end conditions $1!=1$ and $0!=1$. **\n",
    "\n",
    "** Hint: Use a while loop with the condition that the integer n remains greater than 0.**"
   ]
  },
  {
   "cell_type": "code",
   "execution_count": 17,
   "metadata": {},
   "outputs": [
    {
     "name": "stdout",
     "output_type": "stream",
     "text": [
      "2\n"
     ]
    }
   ],
   "source": [
    "def factorial(n):\n",
    "    if(n==1 or n==0): return 1\n",
    "    factorial=n\n",
    "    while(n > 1):\n",
    "        factorial*=(n-1)\n",
    "        n-=1\n",
    "    return factorial\n",
    "\n",
    "\n",
    "test=factorial(2)\n",
    "print(test)"
   ]
  },
  {
   "cell_type": "markdown",
   "metadata": {},
   "source": [
    "<div style=\"background-color: #FFF8C6\">\n",
    "** Example: create a function that generates the first n fibonacci numbers. The fibonacci sequence is defined as: **\n",
    "\n",
    "$$f(n)=f(n-1)+f(n-2)$$\n",
    "\n",
    "** with the initial conditions $f(0)=0$ and $f(1)=1$. **\n",
    "\n",
    "** Hint: You will need if statements to catch special cases. What are they? **\n",
    "\n",
    "Think carefully of the input and how to handle any exceptions that may arise, for example what if a negative number is used? For a greater challenge, try and calculate the fibonnaci sequence via recursion, which means that a function is called from within the function itself."
   ]
  },
  {
   "cell_type": "code",
   "execution_count": 24,
   "metadata": {},
   "outputs": [
    {
     "name": "stdout",
     "output_type": "stream",
     "text": [
      "[0, 1, 1, 2, 3, 5, 8, 13, 21, 34]\n"
     ]
    }
   ],
   "source": [
    "def fibonnaci(n):\n",
    "    a,b=0,1\n",
    "    fib=[a,b]\n",
    "    i=2\n",
    "    if(n == 0): return 0\n",
    "    if(n == 1): return 1\n",
    "    while(i < n):   \n",
    "        a,b=b,b+a\n",
    "        i+=1\n",
    "        fib.append(b)\n",
    "    return fib\n",
    "\n",
    "def fibonnaci_recursive(n):\n",
    "    if(n==0): return 0\n",
    "    elif(n==1): return 1\n",
    "    else: return fibonnaci_recursive(n-1)+fibonnaci_recursive(n-2)  \n",
    "    \n",
    "    \n",
    "test=fibonnaci(10)\n",
    "print(test)\n"
   ]
  },
  {
   "cell_type": "markdown",
   "metadata": {},
   "source": [
    "\n",
    "### Break and Continue Statements"
   ]
  },
  {
   "cell_type": "markdown",
   "metadata": {},
   "source": [
    "<div style=\"background-color: #00FF00\">\n",
    "** Exercise 8: write a code block that uses a continue statement to only print the odd numbers from 1-30. **"
   ]
  },
  {
   "cell_type": "code",
   "execution_count": 18,
   "metadata": {},
   "outputs": [
    {
     "name": "stdout",
     "output_type": "stream",
     "text": [
      "1\n",
      "3\n",
      "5\n",
      "7\n",
      "9\n",
      "11\n",
      "13\n",
      "15\n",
      "17\n",
      "19\n",
      "21\n",
      "23\n",
      "25\n",
      "27\n",
      "29\n"
     ]
    }
   ],
   "source": [
    "for i in sp.arange(1,31):\n",
    "    if(i%2 !=1):\n",
    "        continue\n",
    "    else:\n",
    "        print(i)\n"
   ]
  },
  {
   "cell_type": "markdown",
   "metadata": {},
   "source": [
    "<div style=\"background-color: #FFF8C6\"> \n",
    "## 10. Further examples<a id=\"examples\"></a>\n",
    "\n",
    "Now that we are familiar with the basics of workflow in codes, the time has come to combine that knowledge towards building complete all-inclusive programs that accomplish a set task. These will incorporate aspects of all 3 sessions and will test your skills. \n",
    "\n",
    "** Exercise: imagine a circle of radius $r=$1m enclosed within a square of length 2m such that the circle tangentially touches the square. The area of the circle is $\\pi r^2$ whereas the square has area $4r^2$. The ratio of these areas therefore give an estimate of $\\pi$. For $N_{\\rm tot}$ points evenly distributed within the square, $N_{\\rm inner}$ will fall within the circle, with the ratio of those quantities giving an approximation of the area and therefore pi: **\n",
    " \n",
    " $$\\frac{N_{\\rm inner}}{N_{\\rm tot}}=\\frac{\\pi}{4}$$\n",
    " \n",
    "** Write a program that will approximate $\\pi$ via this method.  How does the accuracy of your answer change as you increase the number of points? Represent this convergence graphically (i.e. plot your value of $\\pi$ as a function of $N_{\\rm tot}$). **\n"
   ]
  },
  {
   "cell_type": "code",
   "execution_count": 5,
   "metadata": {},
   "outputs": [
    {
     "name": "stderr",
     "output_type": "stream",
     "text": [
      "/home/nbuser/anaconda3_420/lib/python3.5/site-packages/matplotlib/font_manager.py:281: UserWarning: Matplotlib is building the font cache using fc-list. This may take a moment.\n",
      "  'Matplotlib is building the font cache using fc-list. '\n"
     ]
    },
    {
     "data": {
      "text/plain": [
       "<matplotlib.figure.Figure at 0x7fad5216c080>"
      ]
     },
     "metadata": {},
     "output_type": "display_data"
    },
    {
     "name": "stdout",
     "output_type": "stream",
     "text": [
      "3.129271292712927\n"
     ]
    }
   ],
   "source": [
    "import scipy as sp\n",
    "import matplotlib.pyplot as plt\n",
    "\n",
    "def pi_estimator(n):\n",
    "    counter=0.0\n",
    "    counter_in=0.0\n",
    "    for i in sp.arange(1,n):\n",
    "        counter+=1\n",
    "        x_centre=1.\n",
    "        x1=sp.random.random()*2\n",
    "        y_centre=1.\n",
    "        y1=sp.random.random()*2\n",
    "        if(sp.sqrt((x1-x_centre)**2+(y1-y_centre)**2) < 1.0):\n",
    "            counter_in+=1\n",
    "            \n",
    "    pi_estimate=4*counter_in/counter\n",
    "    return pi_estimate\n",
    "\n",
    "conv=[]\n",
    "no_of_iterations=sp.array([10.,100.,1000.,10000.,100000.,200000.,300000])\n",
    "for iterations in no_of_iterations:\n",
    "    attempt=pi_estimator(iterations)\n",
    "    conv.append(attempt)\n",
    "    \n",
    "conv_array = sp.asarray(conv)\n",
    "conv_array-=sp.pi\n",
    "plt.plot(no_of_iterations,conv)\n",
    "plt.show()\n",
    "print(pi_estimator(100000))"
   ]
  },
  {
   "cell_type": "markdown",
   "metadata": {},
   "source": [
    "<div style=\"background-color: #FFF8C6\"> \n",
    "** Exercise: the Maclaurin expansion of an exponential function $e^x$ is given as: **\n",
    "\n",
    "$$e^x = \\sum\\limits_{n=0}^\\infty \\frac{x^n}{n!}=1+x+\\frac{x^2}{2}+\\frac{x^3}{6}+... $$\n",
    "\n",
    "** The number of terms that are kept in the expansion therefore determine the accuracy of the resulting expression. Write a program that will plot $f(x) = e^x$ directly, and then plot the Maclaurin expansion over the top for an increasing number of terms retained. How many terms are required to accurately model the function? **"
   ]
  },
  {
   "cell_type": "code",
   "execution_count": 28,
   "metadata": {},
   "outputs": [
    {
     "data": {
      "image/png": "[encoded data removed]",
      "text/plain": [
       "<matplotlib.figure.Figure at 0x7f92b36c0f60>"
      ]
     },
     "metadata": {},
     "output_type": "display_data"
    }
   ],
   "source": [
    "import scipy as sp\n",
    "\n",
    "def factorial(n):\n",
    "    if(not isinstance(n,int)):\n",
    "        print(\"input must be an integer\")\n",
    "        return\n",
    "    if(n < 0):\n",
    "        print(\"Input must be a positive integer\")\n",
    "    factorial=n\n",
    "    while(n > 1):\n",
    "        factorial*=(n-1)\n",
    "        n-=1\n",
    "    return factorial\n",
    "\n",
    "x=sp.arange(1.,101.)\n",
    "x=x/100\n",
    "n=6\n",
    "test=sp.zeros((n,len(x)))\n",
    "        \n",
    "def taylor_exp_expansion(n):\n",
    "\n",
    "    coeff=sp.zeros(n+1)\n",
    "    exp_approx=sp.zeros((n,len(x)))\n",
    "    coeff[0]=1\n",
    "    for order in sp.arange(1,n+1):\n",
    "        y=[]\n",
    "        \n",
    "        for i in sp.arange(0,len(x)):\n",
    "            val=coeff[0]*1+coeff[1]*x[i]**1+coeff[2]*x[i]**2+coeff[3]*x[i]**3+coeff[4]*x[i]**4+coeff[5]*x[i]**5\n",
    "            y.append(val)\n",
    "        exp_approx[order-1,:]=y\n",
    "        coeff[order]=1./float(factorial(int(order)))\n",
    "    return exp_approx\n",
    "        \n",
    "test=taylor_exp_expansion(n)\n",
    "\n",
    "real=sp.exp(x)\n",
    "\n",
    "plt.plot(x,real,label='Real')\n",
    "\n",
    "for i in range(1,n):\n",
    "    plt.plot(x,test[i-1,:],label='n='+str(i))\n",
    "\n",
    "    plt.legend()\n",
    "plt.show()"
   ]
  }
 ],
 "metadata": {
  "kernelspec": {
   "display_name": "Python 2",
   "language": "python",
   "name": "python2"
  },
  "language_info": {
   "codemirror_mode": {
    "name": "ipython",
    "version": 2
   },
   "file_extension": ".py",
   "mimetype": "text/x-python",
   "name": "python",
   "nbconvert_exporter": "python",
   "pygments_lexer": "ipython2",
   "version": "2.7.14"
  }
 },
 "nbformat": 4,
 "nbformat_minor": 2
}
