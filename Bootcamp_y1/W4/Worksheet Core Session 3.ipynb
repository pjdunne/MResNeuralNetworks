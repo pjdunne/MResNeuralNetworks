{
 "cells": [
  {
   "cell_type": "markdown",
   "metadata": {},
   "source": [
    "# Session 3"
   ]
  },
  {
   "cell_type": "markdown",
   "metadata": {},
   "source": [
    "## Index of Session 3\n",
    "\n",
    "1. Intended learning outcomes\n",
    "2. The Spyder IDE environment\n",
    "3. General coding practices\n",
    "4. Functions\n",
    "5. For loops\n",
    "6. Mathematical inequalities and Boolean logic\n",
    "7. If statements\n",
    "8. While loops\n",
    "10. Further examples"
   ]
  },
  {
   "cell_type": "markdown",
   "metadata": {},
   "source": [
    "## 1. Intended learning outcomes <a id=\"outcomes\"></a>\n",
    "\n",
    "After this session, you should be able to:\n",
    "\n",
    "- navigate the Spyder IDE environment\n",
    "- use the Python script editor to create code blocks\n",
    "- write custom functions\n",
    "- employ the for, if, and while commands to manipulate program flow\n",
    "- utilise break and continue statements to manipulate for, if and while loops\n",
    "- write longer programs to execute a specific task"
   ]
  },
  {
   "cell_type": "markdown",
   "metadata": {},
   "source": [
    "<div style=\"background-color: cyan\"> Do you have any questions about the last Computing session? This is a good moment to talk with your demonstrator if you are still unsure about any of the concepts.</div>"
   ]
  },
  {
   "cell_type": "markdown",
   "metadata": {},
   "source": [
    "## 2. The Spyder IDE environment<a id=\"spyder\"></a>"
   ]
  },
  {
   "cell_type": "markdown",
   "metadata": {},
   "source": [
    "In the previous two lab sessions, all the coding was carried out within the Jupyter Notebook environment. Notebooks are useful when executing small blocks of code for quick analysis, and using them as a record of results is highly recommended. However there will come a time when you are required to write larger blocks of code that become increasingly complicated, making notebooks not as immediately helpful. A common method of handling larger coding projects is through using an Integrated Development Environment, or an IDE. An IDE provides a platform with which to develop and execute code, similar to Jupyter Notebooks. There are however some key differences that make an IDE an attractive way to code.\n",
    "\n",
    "For using Python, Anaconda comes with its own IDE application, known as Spyder. When opened, the Spyder environment should look like this:"
   ]
  },
  {
   "cell_type": "markdown",
   "metadata": {},
   "source": [
    "![spyder_environment.PNG](https://cclewley.github.io/ComputingYr1/Images3/spyder_environment.PNG)"
   ]
  },
  {
   "cell_type": "markdown",
   "metadata": {},
   "source": [
    "The Spyder environement is split into 3 main windows:\n",
    "\n",
    "- A Python input console on the bottom right.\n",
    "- A multi-tabbed window in the upper right-hand side.\n",
    "- A Python script environment on the left-hand side.\n",
    "\n",
    "\n",
    "The input console is a line command terminal that will accept Python commands exactly like Jupyter Notebooks, for example <span style=\"color:blue\">x=1</span> or  <span style=\"color:blue\">print(x)</span>. Try typing some basic commands into the terminal and look at the result.  \n",
    "\n",
    "<div style=\"background-color: #FFF8C6\">\n",
    "Note that the input console tab is called Ipython. Throughout your Physics career, you will frequently hear Python and Ipython used interchangeably, but in actual fact there are differences between the two. At its most basic, Ipython is a command line shell used for Python programming; this is what powers the Jupyter Notebooks that are used extensively in this course. However, Ipython also provides other useful functionality over Python such as:\n",
    "\n",
    "- Support for interactive data visualization and use of GUI toolkits.\n",
    "\n",
    "- Easy to use, high performance tools for parallel computing."
   ]
  },
  {
   "cell_type": "markdown",
   "metadata": {},
   "source": [
    "The window on the upper right-hand side has multiple tabs associated with it, however we will primarily use the first three. The first open tab is the help tab, which can give you more information about functions. Now change the tab to the variable explorer window. You will notice that some of the variables you have typed into the console have appeared in the variable explorer tab. This keeps a record of every variable defined while the Spyder session is open; this is very useful as it will allow us to keep track of how variables change as a program is executed. \n",
    "\n",
    "To clear the current variable explorer tab, using the Ipython magic command <span style=\"color:blue\">%reset</span>. As before, type some basic commands into the Ipython console and look at how they appear on the variable explorer. Pay particular attention to capitalisation of variables, and how <span style=\"color:blue\">x=1</span> and <span style=\"color:blue\">X=1</span> will produce two different variables, x & X. \n",
    "\n",
    "The variable explorer window is broken down into 4 parts: The variable name, the variable type, the variable size and the variable value, as shown in the image below."
   ]
  },
  {
   "cell_type": "markdown",
   "metadata": {},
   "source": [
    "![variable_explorer.PNG](https://cclewley.github.io/ComputingYr1/Images3/variable_explorer.PNG)"
   ]
  },
  {
   "cell_type": "markdown",
   "metadata": {},
   "source": [
    "The next tab to look at is the file explorer; this is a way to navigate through the disk space on your computer to find Python scripts in other directories. Your current work directory is shown in the address bar just above the multi-tabbed window. \n",
    "\n",
    "## Setting your working directory\n",
    "\n",
    "When you open up the Spyder program, its filepath (i.e. where the program will attempt to read or write data from) will be pointing to where Spyder was installed on the computer. This is not the same place that you will be saving files and data to, as you should always save these to your 'Computing' folder (or on your personal H drive if using an Imperial College computer).\n",
    "<p>\n",
    "<div style=\"background-color: #00FF00\">\n",
    "\n",
    "**Before we go any further, set your working directory in Spyder to your 'Computing' folder. Your file path is in the top right hand-corner of the Spyder IDE and looks like the image below. Click on the folder icon to bring up the directory navigator and change it the correct folder.**"
   ]
  },
  {
   "cell_type": "markdown",
   "metadata": {},
   "source": [
    "![filepath.png](https://cclewley.github.io/ComputingYr1/Images3/filepath.PNG)"
   ]
  },
  {
   "cell_type": "markdown",
   "metadata": {},
   "source": [
    "### Python script environment"
   ]
  },
  {
   "cell_type": "markdown",
   "metadata": {},
   "source": [
    "#### Saving and Naming of Files\n",
    "\n",
    "When saving files, images or Python scripts, take care to name them in a descriptive manner and save them in a sensible location (i.e. your 'Computing' folder, or your H drive if you are using a college computer). Some naming conventions that are useful include:\n",
    "\n",
    "- Including the date in the form YYMMDD i.e 221005.\n",
    "- Using '_' to separate words instead of whitespace i.e my_file and not my file.\n",
    "- Being brief but descriptive in your title i.e. Session3 instead of Python_programming_Session3.\n",
    "\n",
    "So a good name for your Python script today could be Session3_221005.py (or whichever date you are completing this worksheet on!)."
   ]
  },
  {
   "cell_type": "markdown",
   "metadata": {},
   "source": [
    "<div style=\"background-color: #00FF00\">\n",
    "    \n",
    "**Before we start coding, the first thing you should do now is open up a new .py file by clicking on the the create file icon in the top left hand corner. Do not write any code in the temp.py file! Next save this file in your dedicated Computing folder.**"
   ]
  },
  {
   "cell_type": "markdown",
   "metadata": {},
   "source": [
    "The whole left-hand side of the Spyder IDE is reserved for the script environment, which is where you will write the majority of Python programs. These scripts have the extension .py, the native file type for Python to interpret. Unlike the input console which accepts commands line by line, you can code multiple lines of Python and then run them at once here just like the code blocks you wrote in Jupyter. You can save these .py files to look at and run at a later date.\n",
    "\n",
    "In a lot of exercises to follow you will be writing a number of unconnected functions and running them. It is not a good idea to run the whole script when new unrelated code is added, due to variable name conflicts and an increasing run time. Just like Jupyter Notebooks, there is a way to segment your code into blocks and only run that block. This is done through the following command:\n",
    "\n",
    " - **#%%**\n",
    " \n",
    "and is highlighted below:"
   ]
  },
  {
   "cell_type": "markdown",
   "metadata": {},
   "source": [
    "![code_block.PNG](https://cclewley.github.io/ComputingYr1/Images3/code_block.PNG)"
   ]
  },
  {
   "cell_type": "markdown",
   "metadata": {},
   "source": [
    "To execute code from the Python script, there are two buttons that are available: the execute file button, which runs the whole script, and the execute code block button. There are show below:\n",
    "\n",
    "![executing-code.PNG](https://cclewley.github.io/ComputingYr1/Images3/executing-code.PNG)"
   ]
  },
  {
   "cell_type": "markdown",
   "metadata": {},
   "source": [
    "## 3. Some good coding practices<a id=\"codingpractices\"></a>\n",
    "\n",
    "In session 1 we already discussed some basic coding practices. In general you will produce multiple .py scripts throughout your degree that will contain a variety of functions and associated code. With this in mind there are some more general guidelines that should be considered when producing any piece of code.\n",
    "\n",
    "#### Comment Header\n",
    "Despite a descriptive name it can be unclear to know exactly what a file will contain and what it sets out to accomplish. Comments at the beginning of a file (or 'head', hence the name header) that describe the problem will let the reader know what to expect. Including your name (this is your work and should be recognised as such) is also recommended. \n",
    "\n",
    "\n",
    "#### Where to Code\n",
    "\n",
    "In the Spyder environment we have two locations where code can be entered: the input console and the script environment. The input console is useful for quickly testing some commands to ensure you understand their functionality but is unsuited for any significant code development. It is recommended that you code primarily in the script environment as this is saved to a file and will serve as a record of your work.\n",
    "\n",
    "#### Naming of functions, variables, and loops\n",
    "\n",
    "A lot of the work to come below will involve creating functions, variables, arrays and flow control structures and appropriately naming them will improve code legibility. Some physical examples include naming velocity variables **v** or **vel** and an array that holds the x-position of particles **x** or **xpos**. Don't be afraid to be descriptive in your names but also keep them as short as possible. A good practice would be to create a key in the comment header that describes the variables and arrays you have used. \n",
    "\n",
    "#### Layout of code\n",
    "\n",
    "When you move onto developing larger programs, you will begin to develop multiple functions and code blocks. Therefore it is important to have a structure with how this should be laid out to increase visibility. The following structural layout is recommended:\n",
    "\n",
    "- Import necessary libraries.\n",
    "- Define any constants.\n",
    "- Define functions that your code will need.\n",
    "- Main body of code.\n",
    "\n",
    "The grouping of similar objects cuts down on clutter. \n",
    "\n",
    "#### Formally Exiting a Program\n",
    "\n",
    "Although it is not strictly required, it is good practice to formally end your code with the exit or quit command. This makes sure there are no background memory issues."
   ]
  },
  {
   "cell_type": "markdown",
   "metadata": {},
   "source": [
    "## 4. Functions <a id=\"functions\"></a>"
   ]
  },
  {
   "cell_type": "markdown",
   "metadata": {},
   "source": [
    "Functions are fundamental in producing a program and are where you will spend most of your time when coding in Python. As we've seen before, functions are pieces of code that accept one or more inputs and return an output. Functions that you have encountered already are for example the trigonometric functions such as <span style=\"color:blue\">cos(x)</span> or the functions you had to create when using <span style=\"color:blue\">curve_fit</span>. \n",
    "\n",
    "When you create a new function in Python, it should be laid out like this:"
   ]
  },
  {
   "cell_type": "markdown",
   "metadata": {
    "collapsed": true
   },
   "source": [
    "```python\n",
    "def function_name(input_arguments):\n",
    "    \"Your code here\"\n",
    "    return [expression] \n",
    "    ```"
   ]
  },
  {
   "cell_type": "markdown",
   "metadata": {},
   "source": [
    "The first line defines the function: it specifies the name and the input parameters the function will accept. Below that is any number of lines of code that 'do the work' of the function. The final line is the return statement: if your function needs to return information to the main program, these will be entered here after the <span style=\"color:green\">**return**</span>.\n",
    "\n",
    "Two important things of note when writing a function are the indentation of code that follows the <span style=\"color:blue\">def</span> keyword and the colon at the end of the def statement. A common mistake of first-time programmers are to forget these key features. Code written without indentations will not be part of the function. \n",
    "\n",
    "An example function is shown below:"
   ]
  },
  {
   "cell_type": "code",
   "execution_count": 1,
   "metadata": {},
   "outputs": [
    {
     "name": "stdout",
     "output_type": "stream",
     "text": [
      "4\n",
      "42.25\n",
      "234.09000000000003\n"
     ]
    }
   ],
   "source": [
    "# An example function, that takes two inputs variables x, y, adds them together and then\n",
    "# squares their sum. \n",
    "# Different ways the function can be called and how arguements are passed to it are shown.\n",
    "\n",
    "# Define the function here:\n",
    "def square_two_numbers(x,y):\n",
    "    z=(x+y)**2 # This is the arithmetic calculation\n",
    "    return z # The value of z is returned to the main program\n",
    "\n",
    "# Below this is the main program.\n",
    "\n",
    "# One way of calling the function is with two integers.\n",
    "# Note: the result of the function (i.e. the value of z) is stored in the variable result_ints.\n",
    "result_ints=square_two_numbers(1,1) \n",
    "print(result_ints)\n",
    "\n",
    "# Now we call the function with two floats. \n",
    "result_floats=square_two_numbers(4.2,2.3)\n",
    "print(result_floats)\n",
    "\n",
    "# This time we create two variables, one a float and the other an integer.\n",
    "num1=5.3\n",
    "num2=10\n",
    "# We call the function using the variables we created, instead of using literals. \n",
    "result_mixed=square_two_numbers(num1,num2)\n",
    "print(result_mixed)\n"
   ]
  },
  {
   "cell_type": "markdown",
   "metadata": {},
   "source": [
    "Notice that although the function was defined using input variables x and y, you can put any variables or numerical data types within this function and it will perform the same operation. Pay particular attention to the variable types of the result when we call the function with integers, floats, or mixed variable types! \n",
    "\n",
    "We could have have also chosen any name for this function, <span style=\"color:blue\">square_two_numbers</span> is not a special name. \n",
    "<p>\n",
    "<div style=\"background-color: #00FF00\">\n",
    "\n",
    "**Exercise 1: copy the above function into the Spyder script environment, change the name of the function and execute it for different inputs. Is there any limitation as to what variables you can pass to the function?** \n",
    "\n",
    "**Remember to also change the name of the function when calling it!**"
   ]
  },
  {
   "cell_type": "markdown",
   "metadata": {},
   "source": [
    "**Remember:** To get any output from the function, it is not enough to just define the function itself. We need to call the function and then assign it to a variable, and then print that variable to display it.\n",
    "\n",
    "<div style=\"background-color: #FFF8C6\"> \n",
    "    \n",
    "### Global vs Local Extent\n",
    "Take the <span style=\"color:blue\">square_two_numbers</span> function above and copy it into the Spyder Python script environment. Call this function within the script environment for different input and output variable names, but not the variable name <span style=\"color:blue\">z</span>. Looking at the variable explorer, notice how the variable <span style=\"color:blue\">z</span> doesn't appear, even though it was defined within the function. Variables that are defined within a function are known as *local* variables, and only exist within the function itself. This means that once the function has completed and the program returns to the main program, any variable that is not explicitly returned via the <span style=\"color:blue\">return</span> statement is forgotten. This should be remembered when thinking about what variables need to be passed out of a function.\n",
    "<p>\n",
    "    \n",
    "**Exercise:**\n",
    "- **Create a new function <span style=\"color:blue\">square_two_numbers_add_w</span>, Add the variable <span style=\"color:blue\">w=5</span> to your .py file, *outside of the function but earlier in the code than the function call*, and modify the <span style=\"color:blue\">square_two_numbers</span> function to return $(x+y)^2+w$, instead of just $(x+y)^2$. What value does your function return?**\n",
    " <p>\n",
    "    \n",
    "- **Now further modify the <span style=\"color:blue\">square_two_numbers_add_w</span> function by including the line <span style=\"color:blue\">w=2</span> *within the function* and run the script again. Look at the variable explorer for the value of $w$. What do you notice about the output and the values in your variable explorer?**"
   ]
  },
  {
   "cell_type": "markdown",
   "metadata": {},
   "source": [
    "Now that we have seen how functions work, let's start creating our own! Remember to use the Spyder IDE for these exercises (creating new code blocks for each exercise)."
   ]
  },
  {
   "cell_type": "markdown",
   "metadata": {},
   "source": [
    "<div style=\"background-color: #00FF00\">\n",
    "\n",
    "**Exercise 2: Newton's Law of Gravitation states that the force, $F$, felt between two objects is proportional to their masses, $m_1, m_2 $, and inversely proportional to the square of their displacement, $r$. In 1D, the magnitude of this force is written as (replacing r with $x_2 - x_1$):**\n",
    "\n",
    "$$F=\\frac{Gm_1m_2}{(x_2 - x_1)^2}$$\n",
    "\n",
    "**Where $G=6.67x10^{-11}m^{3}kg^{-1}s^{-2}$ is the gravitational constant. Write a function that calculates and returns the force felt by masses of 1kg at arbitrary positions (i.e. $x_1$ and $x_2$ should be your input parameters). Remember to think about code layout with regards to constants, and in particular what type of variables (integers or floats) everything should be. Try this for different distances. What happens if the masses are in the same position? We will return to this later.**\n",
    "\n",
    "**Hint: You might want to change the value of $m_1$ or $m_2$, therefore these should be variables that are passed to the function.**\n",
    " \n"
   ]
  },
  {
   "cell_type": "markdown",
   "metadata": {},
   "source": [
    "<div style=\"background-color: cyan\"> Take a moment to discuss your function with your demonstrator, it is very important you are comfortable with how functions are defined. </div>"
   ]
  },
  {
   "cell_type": "markdown",
   "metadata": {},
   "source": [
    "The exercises below are for further practice."
   ]
  },
  {
   "cell_type": "markdown",
   "metadata": {},
   "source": [
    "\n",
    "<div style=\"background-color: #00FF00\">\n",
    "\n",
    "**Exercise 3: in algebra, the quadratic formula calculates the roots of a quadratic function, $ax^2+bx+c$, as:**\n",
    "\n",
    "$$x=\\frac{-b\\pm\\sqrt{(b^2-4ac)}}{2a}$$\n",
    "\n",
    "**Write a function that returns both roots. Think of how you will make a function return multiple outputs. Consider how you can verify that your function is working as intended, possibly by doing a test case by hand and comparing to the function output.**\n"
   ]
  },
  {
   "cell_type": "markdown",
   "metadata": {},
   "source": [
    "\n",
    "<div style=\"background-color: #FFF8C6\">\n",
    "\n",
    "**Exercise: as physicists, you will often have to work in different coordinate systems. For an input Cartesian variables $x$ and $y$, the coordinate transformation to $r$ & $\\theta$ is given as:**\n",
    "\n",
    "$$r=\\sqrt{x^2+y^2}$$\n",
    "$$\\theta=\\arctan{(y/x)}$$\n",
    "\n",
    "**Write a function that carries out this coordinate transformation, and returns $\\theta$ in degrees.**\n",
    "\n",
    "**Note: In Numpy, there are two arctan functions, <span style=\"color:blue\">np.arctan()</span> and <span style=\"color:blue\">np.arctan2()</span>. Each returns different angles depending on the sign of your input variables. Look at the documentation to see the difference in their execution.**"
   ]
  },
  {
   "cell_type": "markdown",
   "metadata": {},
   "source": [
    "<div style=\"background-color: #FFF8C6\"> \n",
    "    \n",
    "#### Optional Keywords \n",
    "\n",
    "Functions in Python can be created with default arguments; this means that unless specified they will assume a value that is set in the function definition itself. Notation wise, the function would look like:\n",
    "\n",
    "```python\n",
    "def add_two_number(x,y=5):\n",
    "    z=x+y\n",
    "    return z\n",
    "```\n",
    "Copy this function into Spyder, and run it with one and two inputs. With this is mind, try the following:\n",
    "\n",
    "**Exercise: modify the <span style=\"color:blue\">square_two_numbers</span> function to return the expression $(x+y)^n$, with the default exponent $n$ being 2.**\n",
    " "
   ]
  },
  {
   "cell_type": "markdown",
   "metadata": {},
   "source": [
    "<span style=\"color:red\">**IMPORTANT NOTE**</span>\n",
    "\n",
    "In the above example, we modified an existing piece of code to give it extra functionality. This is a common occurence that will happen through your coding career as you improve upon and expand written code. However there exists the possibility that while doing this you introduce errors into your code and find yourself in a position where you now have a broken code. Therefore it is advantageous to have a way to roll back your code to its simpler functionality; this is the concept of source control. One simple but effective way of ensuring this, is to simply make a copy of your .py script and stash it somewhere safe before attempting modifications. Therefore if you break your current code beyond repair you can simply delete the file and load the older one. For more sophisticated versions of source control there are programs such as *git* which handle these scenarios. These will not be looked at in this course but the reader is encouraged to look at this at their leisure."
   ]
  },
  {
   "cell_type": "markdown",
   "metadata": {},
   "source": [
    "## 5. For loops <a id=\"forloops\"></a>\n",
    "\n",
    "When writing programs, it is often required to repeat a code block multiple times within the execution of your Python script. The <span style=\"color:blue\">for</span> loop allows you to execute the same line of code a fixed number of times, and is laid out like this:"
   ]
  },
  {
   "cell_type": "markdown",
   "metadata": {
    "collapsed": true
   },
   "source": [
    "```python\n",
    "for [variable] in [range of variables]:\n",
    "    [Execute code]\n",
    "    ```"
   ]
  },
  {
   "cell_type": "markdown",
   "metadata": {},
   "source": [
    "Notice the similarities in layout between a <span style=\"color:blue\">for</span> loop and the functions we saw earlier, with the indents and the colon. Since we execute the for loop within the main body of code, there is no need for a return statement to return any results. The same rule for indents applies to loops as to functions: any code not indented is not part of the loop. Below you will find a simple example of a <span style=\"color:blue\">for</span> loop:"
   ]
  },
  {
   "cell_type": "code",
   "execution_count": 128,
   "metadata": {},
   "outputs": [
    {
     "name": "stdout",
     "output_type": "stream",
     "text": [
      "Hello World\n",
      "Hello World\n",
      "Hello World\n",
      "Hello World\n",
      "Hello World\n"
     ]
    }
   ],
   "source": [
    "for i in range(0,5):\n",
    "    print(\"Hello World\")"
   ]
  },
  {
   "cell_type": "markdown",
   "metadata": {},
   "source": [
    "<div style=\"background-color: #00FF00\">\n",
    "    \n",
    "**Copy the above code block into Spyder and execute it.**"
   ]
  },
  {
   "cell_type": "markdown",
   "metadata": {},
   "source": [
    "If we wanted to get an equivalent output without the <span style=\"color:blue\">for</span> loop, we would have to write the print statement 5 times. Therefore <span style=\"color:blue\">for</span> loops provide a way to significantly cut down on the amount of code you need to write. Note that functions can just as easily be called within a <span style=\"color:blue\">for</span> loop, or <span style=\"color:blue\">for</span> loops within a function.\n",
    "\n",
    "In practical applications involving a <span style=\"color:blue\">for</span> loop, you may be operating over an array of values. To accommodate this, Python allows multiple ways to interface <span style=\"color:blue\">for</span> loops with arrays in the following manner:"
   ]
  },
  {
   "cell_type": "code",
   "execution_count": 2,
   "metadata": {},
   "outputs": [
    {
     "name": "stdout",
     "output_type": "stream",
     "text": [
      "One\n",
      "Two\n",
      "Three\n",
      "Four\n",
      "Five\n",
      "One\n",
      "Two\n",
      "Three\n",
      "Four\n",
      "Five\n"
     ]
    }
   ],
   "source": [
    "y=['One','Two','Three','Four','Five']\n",
    "\n",
    "#This for loop loops over the indices of elements of array y\n",
    "for i in range(0,5):\n",
    "    print (y[i])\n",
    "\n",
    "print #Whitespace to separate code executions\n",
    "\n",
    "#This for loop queries array y directly\n",
    "for x in y:\n",
    "    print(x)\n"
   ]
  },
  {
   "cell_type": "markdown",
   "metadata": {},
   "source": [
    "<div style=\"background-color: #00FF00\">\n",
    "    \n",
    "**Copy the above code block into Spyder and execute it.**"
   ]
  },
  {
   "cell_type": "markdown",
   "metadata": {},
   "source": [
    "In the first example we iterate over indices and then assign those indices to the array we want. Here i is a counter that starts off with value 0 and finishes at value 4, as defined by the range(0,5) command. The counter can then be used to specify which element of the array should be printed.\n",
    "\n",
    "In the second example we query the array directly. This means that x takes the value of each element of array y in turn.\n",
    "\n",
    "You should recognise from session 1 the square brackets are used both when creating the y array and when calling an index of y. \n",
    "\n",
    "Notice that while both of these methods are equivalent, there may be situations where using either nomenclature is more beneficial, such as if you need to access the indices of multiple arrays. Which method you should use is entirely situation dependent.\n",
    "\n",
    "Loops can also be nested one inside another as follows:"
   ]
  },
  {
   "cell_type": "code",
   "execution_count": 130,
   "metadata": {},
   "outputs": [
    {
     "name": "stdout",
     "output_type": "stream",
     "text": [
      "i index = 0 j index = 0\n",
      "i index = 0 j index = 1\n",
      "i index = 1 j index = 0\n",
      "i index = 1 j index = 1\n"
     ]
    }
   ],
   "source": [
    "for i in range(0,2):\n",
    "    for j in range(0,2):\n",
    "        print(\"i index =\",i,\"j index =\",j,)"
   ]
  },
  {
   "cell_type": "markdown",
   "metadata": {},
   "source": [
    "In a lot of situations, you will want to save the results of each <span style=\"color:blue\">for</span> loop iteration. One way to do this is through the <span style=\"color:blue\">append</span> method of lists, which adds an element onto the end of a list. An example of this is:"
   ]
  },
  {
   "cell_type": "code",
   "execution_count": 131,
   "metadata": {},
   "outputs": [
    {
     "name": "stdout",
     "output_type": "stream",
     "text": [
      "[0]\n",
      "[0, 1]\n",
      "[0, 1, 2]\n",
      "[0, 1, 2, 3]\n",
      "[0, 1, 2, 3, 4]\n"
     ]
    }
   ],
   "source": [
    "my_list=[]\n",
    "\n",
    "for i in range(0,5):\n",
    "    my_list.append(i)\n",
    "    print(my_list)\n",
    "    "
   ]
  },
  {
   "cell_type": "markdown",
   "metadata": {},
   "source": [
    "With this in mind, attempt the following examples:\n",
    "<p>\n",
    "<div style=\"background-color: #00FF00\">\n",
    "\n",
    "**Exercise 4: the following array contains the names of the Fellowship of the Ring:**\n",
    "```python\n",
    "Fellowship=[\"Gandalf\",\"Aragorn\",\"Boromir\",\"Legolas\",\"Gimli\",\"Merry\",\"Pippin\",\"Samwise\",\"Frodo\"]\n",
    "```\n",
    "**Write a for loop that greets each member with the following message:**\n",
    "```python\n",
    "Hello [Fellowship], welcome to the Fellowship of the Ring!\n",
    "```\n",
    "**Note: you can query the array itself directly or access the array using its index.**"
   ]
  },
  {
   "cell_type": "markdown",
   "metadata": {},
   "source": [
    "Now onto a numerical example:"
   ]
  },
  {
   "cell_type": "markdown",
   "metadata": {},
   "source": [
    "<div style=\"background-color: #00FF00\">\n",
    "    \n",
    "**Exercise 5: The file \"Matrix_data.txt\" (in the 'Data' folder of this session) contains a list of positions for two objects of mass 1kg.\n",
    "Load this file into a 2D array (note that file names are case sensitive). Next, create a for loop to calculate the gravitational force between these two objects, using the function you wrote in exercise 2. In order to do this, \n",
    "iterate over the rows of the 2D array in the for loop, and call the function using each pair of variables as the input parameters.**\n",
    "\n",
    "**Hint:**\n",
    "\n",
    "**Imagine the input data as an array of the following dimensions:**\n",
    "\n",
    "\\begin{equation}\n",
    "\\begin{bmatrix}\n",
    "    x_1 & y_1 \\\\\n",
    "    x_2 & y_2 \\\\\n",
    "    \\vdots & \\vdots \\\\\n",
    "    x_n & y_n\n",
    "\\end{bmatrix}\n",
    "\\end{equation}\n",
    "\n",
    "**We want to use each $x$, $y$ pair as an input to our function.**\n"
   ]
  },
  {
   "cell_type": "markdown",
   "metadata": {},
   "source": [
    "<div style=\"background-color: #FFF8C6\"> \n",
    "    \n",
    "**Exercise: using the same 2D array as in the exercise above, write a code block that loops over every combination of two numbers possible in the array, using them as inputs for the functions created in exercise 2.**"
   ]
  },
  {
   "cell_type": "markdown",
   "metadata": {},
   "source": [
    "<div style=\"background-color: #FFF8C6\"> \n",
    "\n",
    "#### Enumerate\n",
    "When writing a for loop, you can access the elements of a list directly or using an index. There are situations when you want to do both. To accomplish this, Python has the enumerate keyword, which is included in a for loop as:\n",
    "\n",
    "```python\n",
    "for number,value in enumerate(list):\n",
    "    ---Write some code---\n",
    "```\n",
    "\n",
    "**Exercise: modify exercise 4 to print the following:**\n",
    "\n",
    "```python\n",
    "Hello [value], you are Fellowship member number [number]!\n",
    "```\n",
    "\n",
    "**Where 'value' is the name in the Fellowship list.**"
   ]
  },
  {
   "cell_type": "markdown",
   "metadata": {},
   "source": [
    "<div style=\"background-color: cyan\"> Discuss your for loops with a demonstrator."
   ]
  },
  {
   "cell_type": "markdown",
   "metadata": {},
   "source": [
    "## 6. Mathematical inequalities and Boolean logic<a id=\"inequalities\"></a>\n",
    "\n",
    "In the sections to follow, we will develop the methodology to execute code only if a certain criterion is met. This criterion is given as a condition which is either <span style=\"color:red\">TRUE</span> or <span style=\"color:red\">FALSE</span>. These <span style=\"color:red\">TRUE</span> or <span style=\"color:red\">FALSE</span> outcomes will usually be formed by comparing two quantities; this is done through mathematical inequalities. The types of mathematical inequality operators are:\n",
    "\n",
    "- ==      equal to\n",
    "- <       less then\n",
    "- \\>      greater than\n",
    "- <=      less than or equal to\n",
    "- \\>=      greater than or equal to\n",
    "- !=       not equal to"
   ]
  },
  {
   "cell_type": "markdown",
   "metadata": {},
   "source": [
    "Inequality statements are therefore formed by comparing quantities with these operators, such as:\n",
    "\n",
    "<span style=\"color:blue\">1 == 1</span>\n",
    "\n",
    "<span style=\"color:blue\">5 < 3</span>\n",
    "\n",
    "<span style=\"color:blue\">2 != 2</span>\n",
    "\n",
    "<div style=\"background-color: #00FF00\">\n",
    "    \n",
    "**In the Spyder input console, try each of these inequality operators.**\n",
    "\n"
   ]
  },
  {
   "cell_type": "markdown",
   "metadata": {},
   "source": [
    "Try assigning them to variables and look at their type in the variable explorer window; these type of variables are known as <span style=\"color:blue\">Boolean</span> variables and are a critical part of program flow. Boolean operators can be formed out of more than one comparison of values if a more complex situation needs to be evaluated. This is done by using the boolean operators\n",
    "\n",
    "- <span style=\"color:blue\">and</span>\n",
    "- <span style=\"color:blue\">or</span>\n",
    "- <span style=\"color:blue\">not</span>"
   ]
  },
  {
   "cell_type": "markdown",
   "metadata": {},
   "source": [
    "An example of this would be:\n",
    "\n",
    "<span style=\"color:blue\">2 < 3 and 5 > 3</span>\n",
    "\n",
    "<span style=\"color:blue\">20 == 20 or 20 <= 25</span> \n",
    "\n",
    "Although these examples were done for numbers directly, they are exactly the same when comparing variable values. Try out more complex mathematical inequality statements in the Spyder command terminal. The <span style=\"color:blue\">not</span> command word is unique in that it reverses the condition that is to be satisfied, for example the following two are equivalent:\n",
    "\n",
    "- <span style=\"color:blue\">not 5 == 3 </span>  and <span style=\"color:blue\">5 !=3</span>\n",
    "\n",
    "<span style=\"color:red\">**IMPORTANT NOTE**</span>\n",
    "\n",
    "One very important point of note is the difference between = and ==. This is a very common error first-time programmers make and is frequently the reason why codes do not work as intended. The first usage is merely a way to set a variable equal to a value, whereas the second usage compares two variables in a Boolean manner.\n",
    "\n"
   ]
  },
  {
   "cell_type": "markdown",
   "metadata": {},
   "source": [
    "## 7. If statements<a id=\"ifstatements\"></a>\n",
    "\n",
    "In the mathematical inequalities section seen above, you can form Boolean variables by comparing the values of numerical variables. These become useful when combined with a conditional clause to modify the behaviour of the code: the <span style=\"color:blue\">if</span> statement. An <span style=\"color:blue\">if</span> statement will only trigger when the argument it is evaluating returns <span style=\"color:red\">TRUE</span> (or <span style=\"color:red\">FALSE</span> if accompanied with a <span style=\"color:blue\">not</span> statement) and is written in a similar fashion to a <span style=\"color:blue\">for</span> loop:"
   ]
  },
  {
   "cell_type": "markdown",
   "metadata": {
    "collapsed": true
   },
   "source": [
    "```python \n",
    "if [STATEMENT RETURNS TRUE]:\n",
    "    Execute code\n",
    "    ```"
   ]
  },
  {
   "cell_type": "markdown",
   "metadata": {},
   "source": [
    "A simple example of an <span style=\"color:blue\">if</span> statement would look like:"
   ]
  },
  {
   "cell_type": "code",
   "execution_count": 134,
   "metadata": {},
   "outputs": [
    {
     "name": "stdout",
     "output_type": "stream",
     "text": [
      "5 is greater than 3\n"
     ]
    }
   ],
   "source": [
    "x=5\n",
    "if x > 3:\n",
    "    print(x, \"is greater than 3\")"
   ]
  },
  {
   "cell_type": "markdown",
   "metadata": {},
   "source": [
    "<div style=\"background-color: #00FF00\">\n",
    "    \n",
    "**Copy the above code into the Spyder script environment and execute it for different values of x.** "
   ]
  },
  {
   "cell_type": "markdown",
   "metadata": {},
   "source": [
    "Just like with <span style=\"color:blue\">for</span> loop, functions can be included as part of an <span style=\"color:blue\">if</span> statement.\n",
    "\n",
    "Related to the <span style=\"color:blue\">if</span> statements are the <span style=\"color:blue\">else</span> and <span style=\"color:blue\">elif</span> (short for else if) statements. These extend the original <span style=\"color:blue\">if</span> statement to return different results depending on whether the boolean being evaluated returns <span style=\"color:red\">TRUE</span> or <span style=\"color:red\">FALSE</span>. An extension of the above code to include these extra statements would be:"
   ]
  },
  {
   "cell_type": "code",
   "execution_count": 136,
   "metadata": {},
   "outputs": [
    {
     "name": "stdout",
     "output_type": "stream",
     "text": [
      "5 is greater than 3\n"
     ]
    }
   ],
   "source": [
    "x=5\n",
    "if x > 3:\n",
    "    print(x, \"is greater than 3\")\n",
    "elif x < 3:\n",
    "    print(x, \"is less than 3\")\n",
    "else:\n",
    "    print(x, \"is equal to 3\")"
   ]
  },
  {
   "cell_type": "markdown",
   "metadata": {},
   "source": [
    "<div style=\"background-color: #00FF00\">\n",
    "    \n",
    "**Copy the above code into the Spyder script Environment and execute it for different values of x.** "
   ]
  },
  {
   "cell_type": "markdown",
   "metadata": {},
   "source": [
    "\n",
    "Notice that the <span style=\"color:blue\">elif</span> statement requires an additional expression to evaluate whereas the <span style=\"color:blue\">else</span> statement does not. In the above we could have used the expressions <span style=\"color:blue\">elif x == 3</span>. It would then be good practice to use the <span style=\"color:blue\">else</span> statement for any other possibility we might not have thought of (e.g., what if x is a string instead of an integer?). These set of expressions can be powerful modifiers in the behaviour and flow of a code. Just as <span style=\"color:blue\">if</span> statements can be used in a block of standalone code, they can just as easily be integrated into functions and <span style=\"color:blue\">for</span> loops."
   ]
  },
  {
   "cell_type": "markdown",
   "metadata": {},
   "source": [
    "\n",
    "<div style=\"background-color: #00FF00\">\n",
    "    \n",
    "**Exercise 6: the array from exercise 4 is extended to include other characters from the Lord of the Rings franchise. together with a 'yes' or 'no' indicating whether the character is part of the fellowship:**\n",
    "\n",
    "```python\n",
    "Fellowship=[[\"Gandalf\",\"Yes\"],[\"Theoden\",\"No\"],[\"Aragorn\",\"Yes\"],[\"Boromir\",\"Yes\"],[\"Galadriel\",\"No\"],[\"Arwen\",\"No\"],[\"Legolas\",\"Yes\"],[\"Gimli\",\"Yes\"],[\"Merry\",\"Yes\"],[\"Pippin\",\"Yes\"],[\"Samwise\",\"Yes\"],[\"Frodo\",\"Yes\"]]\n",
    "```\n",
    "\n",
    "**Once again use the for loop to print the hello statement as in exercise 4 for all characters that are part of the fellowship. For those that are *not* part of the fellowship, print the following statement for members not part of the fellowship:**\n",
    "\n",
    "```python\n",
    "Sorry [Member], you are not part of the fellowship. Have a good day.\n",
    "```\n",
    "**Note that in order to do this you will need to include an if statement in your for loop.**"
   ]
  },
  {
   "cell_type": "markdown",
   "metadata": {},
   "source": [
    "Below are further exercises to practise for loops and if statements, together with the use of random number generators. Attempt these if you have time left over before the next computing session."
   ]
  },
  {
   "cell_type": "markdown",
   "metadata": {},
   "source": [
    "<div style=\"background-color: #FFF8C6\">\n",
    "    \n",
    "**Exercise: the flip of a coin can have two results: heads or tails. If the coin was fair, then you would expect an equal number of heads and tails to appear over a large sample size. Test out whether or not a computer makes a fair coin tosser by writing a code block that flips a coin 10000 times.**\n",
    "\n",
    "**Hint: Assign heads a value of 1 and tails a value of 0. Then use the np.random.randint(2) function to get either a 0 or a 1 randomly**"
   ]
  },
  {
   "cell_type": "markdown",
   "metadata": {},
   "source": [
    "<div style=\"background-color: #FFF8C6\">\n",
    "\n",
    "**Exercise: write a function that compares your input to the roll of a six-sided dice, containing the integers 1-6, and tells you whether or not you guessed correctly.**\n",
    "\n",
    "**Hint: Use the np.random.randint(1,7) function to generate the integers 1-6 randomly**"
   ]
  },
  {
   "cell_type": "markdown",
   "metadata": {},
   "source": [
    "<div style=\"background-color: #FFF8C6\"> \n",
    "\n",
    "**Exercise: generate a 2D array of random integers between 1 - 3 using the command:**\n",
    "\n",
    "```python\n",
    "np.random.randint(1,4,size=[n,m])\n",
    "```\n",
    "**Here n and m are the dimensions of the array. Write a code block that will loop over this 2D array and count the number of distinct integers it contains. Separately, produce a histogram of the distribution of the numbers in the 2D array. What are some checks that can be included to ensure every value has been counted (are the number of counts in your histogram equal to the number of elements in your array)?**"
   ]
  },
  {
   "cell_type": "markdown",
   "metadata": {},
   "source": [
    "<div style=\"background-color: #FFF8C6\"> \n",
    "    \n",
    "**Exercise: the Rydberg formula, which gives the wavelength of an atom's spectral lines is given as:**\n",
    "\n",
    "$$\\frac{1}{\\lambda}=R_{D}\\big(\\frac{1}{n_{1}^2}-\\frac{1}{n_{2}^2})$$\n",
    "\n",
    "**Where $\\lambda$ is the wavelength, $R_{D}=1.097x10^7\\rm\\,m^{-1}$ is the Rydberg constant and $n_{1} < n_{2}$ are the integer energy levels that exist within an atom. Using the formula, calculate the wavelength of the first 5 transitions to the ground state of the atom (i.e. $n_2 = 2 \\rightarrow n_{1}=1$, $n_2 = 3 \\rightarrow n_{1}=1$ etc, known as the Lyman series) and the first 4 transitions to the 1st excited state $n_{1}=2$ (i.e. $n_2 = 3 \\rightarrow n_{1}=2$, $n_2 = 4 \\rightarrow n_{1}=2$ etc, known as the Balmer series). For the ground state, what happens as $n_{2}\\rightarrow\\infty$?**"
   ]
  },
  {
   "cell_type": "markdown",
   "metadata": {},
   "source": [
    "<div style=\"background-color: cyan\"> Take a moment to discuss your work in this section with your demonstrator.</div>"
   ]
  },
  {
   "cell_type": "markdown",
   "metadata": {},
   "source": [
    "## 8. While loops<a id=\"whileloops\"></a>\n",
    "\n",
    "The final loop that will modify the flow of a code execution will be the <span style=\"color:blue\">while</span> loop. This will execute code as long as the prescribed condition returns <span style=\"color:red\">TRUE</span>. The <span style=\"color:blue\">while</span> loop follows the same nomenclature as the <span style=\"color:blue\">if</span> loop:"
   ]
  },
  {
   "cell_type": "markdown",
   "metadata": {},
   "source": [
    "```python\n",
    "while [STATEMENT RETURNS TRUE]:\n",
    "    Execute code\n",
    "    ```"
   ]
  },
  {
   "cell_type": "markdown",
   "metadata": {},
   "source": [
    "Two simple examples of this are below:"
   ]
  },
  {
   "cell_type": "code",
   "execution_count": 142,
   "metadata": {},
   "outputs": [
    {
     "name": "stdout",
     "output_type": "stream",
     "text": [
      "1\n",
      "2\n",
      "3\n",
      "4\n",
      "5\n",
      "6\n",
      "7\n",
      "8\n",
      "9\n"
     ]
    }
   ],
   "source": [
    "# Declare two variables\n",
    "x=1\n",
    "y=10\n",
    "# Start the while loop: compare the values of x and y\n",
    "while x < y:\n",
    "    print(x)# while x is smaller than y, print its value\n",
    "    x+=1# increment the value of x by 1 "
   ]
  },
  {
   "cell_type": "code",
   "execution_count": 2,
   "metadata": {},
   "outputs": [
    {
     "name": "stdout",
     "output_type": "stream",
     "text": [
      "6\n",
      "5\n",
      "4\n",
      "3\n",
      "2\n",
      "1\n",
      "0\n"
     ]
    }
   ],
   "source": [
    "x=6\n",
    "while x >= 0:\n",
    "    print(x)\n",
    "    x-=1"
   ]
  },
  {
   "cell_type": "markdown",
   "metadata": {},
   "source": [
    "Run the code blocks above for different values of x and y. Note that care must be taken when using a <span style=\"color:blue\">while</span> loop. There exists the possibility for your code to become locked if it is given a condition that can never be false. In the above example remove the x+=1 statement and rerun the code. What happens? If you ever find your code is locked in a situation like this while running Spyder, use the ctrl+c command in the console window to kill the execution. Unlike the <span style=\"color:blue\">if</span> statement, there are no additional keywords associated with the <span style=\"color:blue\">while</span> loop. "
   ]
  },
  {
   "cell_type": "markdown",
   "metadata": {},
   "source": [
    "Notice in the above example the command <span style=\"color:blue\">x+=1</span>. In Python this is a shorthand representation of <span style=\"color:blue\">x = x + 1</span>. The full list of like-minded shorthand commands are:\n",
    "\n",
    " - x+=dx is equivalent to x=x+dx\n",
    " - x-=dx is equivalent to x=x-dx\n",
    " - x\\*=dx is equivalent to x=x\\*dx\n",
    " - x/=dx is equivalent to x=x/dx\n",
    " \n",
    "This type of statement  may seem confusing to first-time programmers; how can x be equal to itself plus an additional amount? Remember the discussion in session 1 which explained the difference between the <span style=\"color:blue\">=</span> operator in coding and the $=$ sign in Maths. In a computer programme, the computer first evaluates the section of code on the right-hand side of the <span style=\"color:blue\">=</span> operator and then assigns it to the variable on the left-hand side. The fact that the same variable appears on both sides does not impact on its working."
   ]
  },
  {
   "cell_type": "markdown",
   "metadata": {},
   "source": [
    "With these tools at out disposal, we can use them to create more complicated functions.\n",
    "\n",
    "<span style=\"color:red\">**IMPORTANT NOTE**</span>\n",
    "\n",
    "In the following three excercises, the difficulty increases. Before continuining it is strongly recommended you re-read the session 1 section Coding practices that outlines the methodology of tackling problems."
   ]
  },
  {
   "cell_type": "markdown",
   "metadata": {},
   "source": [
    "<div style=\"background-color: #00FF00\">\n",
    "    \n",
    "**Exercise 7: create a function that calculates the factorial of a positive integer. The factorial function is defined as:** \n",
    "\n",
    " $$n!=n*(n-1)! $$\n",
    " \n",
    "**with the end conditions $1!=1$ and $0!=1$.**\n",
    "\n",
    "**Hint: Use a while loop with the condition that the integer n remains greater than 0.**"
   ]
  },
  {
   "cell_type": "markdown",
   "metadata": {},
   "source": [
    "<div style=\"background-color: #FFF8C6\">\n",
    "    \n",
    "**Example: create a function that generates the first n fibonacci numbers. The fibonacci sequence is defined as:**\n",
    "\n",
    "$$f(n)=f(n-1)+f(n-2)$$\n",
    "\n",
    "**with the initial conditions $f(0)=0$ and $f(1)=1$.**\n",
    "\n",
    "**Hint: You will need if statements to catch special cases. What are they?**\n",
    "\n",
    "Think carefully of the input and how to handle any exceptions that may arise, for example what if a negative number is used? For a greater challenge, try and calculate the fibonnaci sequence via recursion, which means that a function is called from within the function itself."
   ]
  },
  {
   "cell_type": "markdown",
   "metadata": {},
   "source": [
    "\n",
    "### Break and Continue Statements\n",
    "\n",
    "Sometimes when in a loop you may want to exit it prematurely. This is handled by using the <span style=\"color:blue\">break</span> statement. This exits the loop at that point and does not execute any further code that was indented with it. The example below shows an example. The code creates an array of numbers spanning from 1-100. It then adds the elements of the array together, beginning with the smallest. The loop is exited once the total has exceeded 100. Run the code to see at which index in the array this happens."
   ]
  },
  {
   "cell_type": "code",
   "execution_count": 4,
   "metadata": {},
   "outputs": [
    {
     "name": "stdout",
     "output_type": "stream",
     "text": [
      "13\n"
     ]
    }
   ],
   "source": [
    "numbers=np.array(np.arange(1,101))# create the array\n",
    "\n",
    "cumulative=0# This will be the cumulative value of the summed array\n",
    "for i in np.arange(1,len(numbers)): # start the for-loop\n",
    "    cumulative+=numbers[i]# calculate the cumulative value so far\n",
    "    if(cumulative > 100): break # stop the for loop when the cumulative value exceeds 100\n",
    "\n",
    "print(i)# print the index\n"
   ]
  },
  {
   "cell_type": "markdown",
   "metadata": {},
   "source": [
    "As you can see when you run the code cell above, the cumulative value is reached very soon. This means the for loop does not unnecessarily run over the entire array, using excessive computing power. Note that the above example could have also been solved by using a while loop. This highlights there are multiple ways to achieve the same result when coding up problems, and the implementation depends on the problem at hand.\n",
    "\n",
    "The <span style=\"color:blue\">continue</span> statement serves a similar function to the break statement, in that when called whatever code is below in the loop is not executed. One major difference is that instead of breaking from the loop entirely, it returns to the top of loop and starts the next iteration.\n",
    "<div style=\"background-color: #00FF00\">\n",
    "    \n",
    "**Exercise 8: write a code block that uses a continue statement to only print the odd numbers from 1-30.**"
   ]
  },
  {
   "cell_type": "markdown",
   "metadata": {},
   "source": [
    "<div style=\"background-color: cyan\"> Dicuss while loops and break and continue statements with your demonstrator.</div>"
   ]
  },
  {
   "cell_type": "markdown",
   "metadata": {},
   "source": [
    "<div style=\"background-color: #FFF8C6\"> \n",
    "    \n",
    "## 10. Further examples<a id=\"examples\"></a>\n",
    "\n",
    "Now that we are familiar with the basics of workflow in codes, the time has come to combine that knowledge towards building complete all-inclusive programs that accomplish a set task. These will incorporate aspects of all 3 sessions and will test your skills. \n",
    "\n",
    "**Exercise: imagine a circle of radius $r=$1m enclosed within a square of length 2m such that the circle tangentially touches the square. The area of the circle is $\\pi r^2$ whereas the square has area $4r^2$. The ratio of these areas therefore give an estimate of $\\pi$. For $N_{\\rm tot}$ points evenly distributed within the square, $N_{\\rm inner}$ will fall within the circle, with the ratio of those quantities giving an approximation of the area and therefore pi:**\n",
    " \n",
    " $$\\frac{N_{\\rm inner}}{N_{\\rm tot}}=\\frac{\\pi}{4}$$\n",
    " \n",
    "**Write a program that will approximate $\\pi$ via this method.  How does the accuracy of your answer change as you increase the number of points? Represent this convergence graphically (i.e. plot your value of $\\pi$ as a function of $N_{\\rm tot}$).**\n"
   ]
  },
  {
   "cell_type": "markdown",
   "metadata": {},
   "source": [
    "<div style=\"background-color: #FFF8C6\"> \n",
    "    \n",
    "**Exercise: the Maclaurin expansion of an exponential function $e^x$ is given as:**\n",
    "\n",
    "$$e^x = \\sum\\limits_{n=0}^\\infty \\frac{x^n}{n!}=1+x+\\frac{x^2}{2}+\\frac{x^3}{6}+... $$\n",
    "\n",
    "**The number of terms that are kept in the expansion therefore determine the accuracy of the resulting expression. Write a program that will plot $f(x) = e^x$ directly, and then plot the Maclaurin expansion over the top for an increasing number of terms retained. How many terms are required to accurately model the function?**"
   ]
  },
  {
   "cell_type": "markdown",
   "metadata": {},
   "source": [
    "## Please complete the [Mentimeter Poll](https://www.menti.com/64yo5m7e63) for this session "
   ]
  }
 ],
 "metadata": {
  "kernelspec": {
   "display_name": "Python 3",
   "language": "python",
   "name": "python3"
  },
  "language_info": {
   "codemirror_mode": {
    "name": "ipython",
    "version": 3
   },
   "file_extension": ".py",
   "mimetype": "text/x-python",
   "name": "python",
   "nbconvert_exporter": "python",
   "pygments_lexer": "ipython3",
   "version": "3.7.6"
  }
 },
 "nbformat": 4,
 "nbformat_minor": 2
}
