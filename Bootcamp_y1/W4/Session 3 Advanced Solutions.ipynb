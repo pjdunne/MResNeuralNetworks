{
 "cells": [
  {
   "cell_type": "markdown",
   "metadata": {},
   "source": [
    "# Advanced Error Handling"
   ]
  },
  {
   "cell_type": "markdown",
   "metadata": {},
   "source": [
    "<div style=\"background-color: #00FF00\">\n",
    "\n",
    "** Exercise - Modify the gravitational force function in exercise 2 with the try-except statements to ensure that the function will only except ints and floats as its inputs. **"
   ]
  },
  {
   "cell_type": "code",
   "execution_count": 17,
   "metadata": {},
   "outputs": [],
   "source": [
    "def grav_attraction(x1,x2,m1,m2):\n",
    "    try:\n",
    "        force=G*m1*m2/(x2-x1)**2\n",
    "        print(force)\n",
    "        return force\n",
    "    except:\n",
    "        print('Please input an int or a float')"
   ]
  },
  {
   "cell_type": "code",
   "execution_count": 24,
   "metadata": {},
   "outputs": [
    {
     "name": "stdout",
     "output_type": "stream",
     "text": [
      "6.67e-11\n"
     ]
    }
   ],
   "source": [
    "m1=1.\n",
    "m2=1.\n",
    "G=6.67e-11\n",
    "test=grav_attraction(1.,2.,1.,1.)"
   ]
  },
  {
   "cell_type": "code",
   "execution_count": 25,
   "metadata": {},
   "outputs": [
    {
     "name": "stdout",
     "output_type": "stream",
     "text": [
      "Please input an int or a float\n"
     ]
    }
   ],
   "source": [
    "m1=1.\n",
    "m2=1.\n",
    "G=6.67e-11\n",
    "test=grav_attraction(1.,2.,\"1.\",1.)"
   ]
  },
  {
   "cell_type": "code",
   "execution_count": 34,
   "metadata": {},
   "outputs": [],
   "source": [
    "def square_root_error_int(x):\n",
    "    if(x ** 0.5%1 != 0.0 ):\n",
    "        raise ValueError(\"Number provided must be a perfect square\")\n",
    "    try:\n",
    "        return x ** 0.5\n",
    "    except:\n",
    "        raise TypeError(\"The value given must be an int or float\")\n",
    "    return x ** 0.5"
   ]
  },
  {
   "cell_type": "code",
   "execution_count": 35,
   "metadata": {},
   "outputs": [
    {
     "data": {
      "text/plain": [
       "2.0"
      ]
     },
     "execution_count": 35,
     "metadata": {},
     "output_type": "execute_result"
    }
   ],
   "source": [
    "square_root_error_int(4.0)"
   ]
  },
  {
   "cell_type": "code",
   "execution_count": 36,
   "metadata": {},
   "outputs": [
    {
     "ename": "ValueError",
     "evalue": "Number provided must be a perfect square",
     "output_type": "error",
     "traceback": [
      "\u001b[1;31m---------------------------------------------------------------------------\u001b[0m",
      "\u001b[1;31mValueError\u001b[0m                                Traceback (most recent call last)",
      "\u001b[1;32m<ipython-input-36-a5aa6dd84937>\u001b[0m in \u001b[0;36m<module>\u001b[1;34m()\u001b[0m\n\u001b[1;32m----> 1\u001b[1;33m \u001b[0msquare_root_error_int\u001b[0m\u001b[1;33m(\u001b[0m\u001b[1;36m5.0\u001b[0m\u001b[1;33m)\u001b[0m\u001b[1;33m\u001b[0m\u001b[0m\n\u001b[0m",
      "\u001b[1;32m<ipython-input-34-e16c88673104>\u001b[0m in \u001b[0;36msquare_root_error_int\u001b[1;34m(x)\u001b[0m\n\u001b[0;32m      1\u001b[0m \u001b[1;32mdef\u001b[0m \u001b[0msquare_root_error_int\u001b[0m\u001b[1;33m(\u001b[0m\u001b[0mx\u001b[0m\u001b[1;33m)\u001b[0m\u001b[1;33m:\u001b[0m\u001b[1;33m\u001b[0m\u001b[0m\n\u001b[0;32m      2\u001b[0m     \u001b[1;32mif\u001b[0m\u001b[1;33m(\u001b[0m\u001b[0mx\u001b[0m \u001b[1;33m**\u001b[0m \u001b[1;36m0.5\u001b[0m\u001b[1;33m%\u001b[0m\u001b[1;36m1\u001b[0m \u001b[1;33m!=\u001b[0m \u001b[1;36m0.0\u001b[0m \u001b[1;33m)\u001b[0m\u001b[1;33m:\u001b[0m\u001b[1;33m\u001b[0m\u001b[0m\n\u001b[1;32m----> 3\u001b[1;33m         \u001b[1;32mraise\u001b[0m \u001b[0mValueError\u001b[0m\u001b[1;33m(\u001b[0m\u001b[1;34m\"Number provided must be a perfect square\"\u001b[0m\u001b[1;33m)\u001b[0m\u001b[1;33m\u001b[0m\u001b[0m\n\u001b[0m\u001b[0;32m      4\u001b[0m     \u001b[1;32mtry\u001b[0m\u001b[1;33m:\u001b[0m\u001b[1;33m\u001b[0m\u001b[0m\n\u001b[0;32m      5\u001b[0m         \u001b[1;32mreturn\u001b[0m \u001b[0mx\u001b[0m \u001b[1;33m**\u001b[0m \u001b[1;36m0.5\u001b[0m\u001b[1;33m\u001b[0m\u001b[0m\n",
      "\u001b[1;31mValueError\u001b[0m: Number provided must be a perfect square"
     ]
    }
   ],
   "source": [
    "square_root_error_int(5.0)"
   ]
  },
  {
   "cell_type": "markdown",
   "metadata": {},
   "source": [
    "<div style=\"background-color: #00FF00\">\n",
    "\n",
    "** Exercise - Further modify your gravitational force function to raise an exception if that masses are at the same positions (this will stop your function from calculating infinity). **"
   ]
  },
  {
   "cell_type": "code",
   "execution_count": 40,
   "metadata": {},
   "outputs": [],
   "source": [
    "def grav_attraction(x1,x2,m1,m2):\n",
    "    if(x1 == x2):\n",
    "        raise ValueError(\"Masses cannot be the same position\")\n",
    "    try:\n",
    "        force=G*m1*m2/(x2-x1)**2\n",
    "        print(force)\n",
    "        return force\n",
    "    except:\n",
    "        print('Please input an int or a float')"
   ]
  },
  {
   "cell_type": "code",
   "execution_count": 41,
   "metadata": {},
   "outputs": [
    {
     "ename": "ValueError",
     "evalue": "Masses cannot be the same position",
     "output_type": "error",
     "traceback": [
      "\u001b[1;31m---------------------------------------------------------------------------\u001b[0m",
      "\u001b[1;31mValueError\u001b[0m                                Traceback (most recent call last)",
      "\u001b[1;32m<ipython-input-41-cd6c1de460eb>\u001b[0m in \u001b[0;36m<module>\u001b[1;34m()\u001b[0m\n\u001b[1;32m----> 1\u001b[1;33m \u001b[0mtest3\u001b[0m\u001b[1;33m=\u001b[0m\u001b[0mgrav_attraction\u001b[0m\u001b[1;33m(\u001b[0m\u001b[1;36m1\u001b[0m\u001b[1;33m,\u001b[0m\u001b[1;36m1\u001b[0m\u001b[1;33m,\u001b[0m\u001b[1;36m1.\u001b[0m\u001b[1;33m,\u001b[0m\u001b[1;36m1.\u001b[0m\u001b[1;33m)\u001b[0m\u001b[1;33m\u001b[0m\u001b[0m\n\u001b[0m",
      "\u001b[1;32m<ipython-input-40-8c60c2dc8832>\u001b[0m in \u001b[0;36mgrav_attraction\u001b[1;34m(x1, x2, m1, m2)\u001b[0m\n\u001b[0;32m      1\u001b[0m \u001b[1;32mdef\u001b[0m \u001b[0mgrav_attraction\u001b[0m\u001b[1;33m(\u001b[0m\u001b[0mx1\u001b[0m\u001b[1;33m,\u001b[0m\u001b[0mx2\u001b[0m\u001b[1;33m,\u001b[0m\u001b[0mm1\u001b[0m\u001b[1;33m,\u001b[0m\u001b[0mm2\u001b[0m\u001b[1;33m)\u001b[0m\u001b[1;33m:\u001b[0m\u001b[1;33m\u001b[0m\u001b[0m\n\u001b[0;32m      2\u001b[0m     \u001b[1;32mif\u001b[0m\u001b[1;33m(\u001b[0m\u001b[0mx1\u001b[0m \u001b[1;33m==\u001b[0m \u001b[0mx2\u001b[0m\u001b[1;33m)\u001b[0m\u001b[1;33m:\u001b[0m\u001b[1;33m\u001b[0m\u001b[0m\n\u001b[1;32m----> 3\u001b[1;33m         \u001b[1;32mraise\u001b[0m \u001b[0mValueError\u001b[0m\u001b[1;33m(\u001b[0m\u001b[1;34m\"Masses cannot be the same position\"\u001b[0m\u001b[1;33m)\u001b[0m\u001b[1;33m\u001b[0m\u001b[0m\n\u001b[0m\u001b[0;32m      4\u001b[0m     \u001b[1;32mtry\u001b[0m\u001b[1;33m:\u001b[0m\u001b[1;33m\u001b[0m\u001b[0m\n\u001b[0;32m      5\u001b[0m         \u001b[0mforce\u001b[0m\u001b[1;33m=\u001b[0m\u001b[0mG\u001b[0m\u001b[1;33m*\u001b[0m\u001b[0mm1\u001b[0m\u001b[1;33m*\u001b[0m\u001b[0mm2\u001b[0m\u001b[1;33m/\u001b[0m\u001b[1;33m(\u001b[0m\u001b[0mx2\u001b[0m\u001b[1;33m-\u001b[0m\u001b[0mx1\u001b[0m\u001b[1;33m)\u001b[0m\u001b[1;33m**\u001b[0m\u001b[1;36m2\u001b[0m\u001b[1;33m\u001b[0m\u001b[0m\n",
      "\u001b[1;31mValueError\u001b[0m: Masses cannot be the same position"
     ]
    }
   ],
   "source": [
    "test3=grav_attraction(1,1,1.,1.)"
   ]
  },
  {
   "cell_type": "markdown",
   "metadata": {},
   "source": [
    "<div style=\"background-color: #00FF00\">\n",
    "\n",
    "** Exercise - Modify exercise 3 to only accept ints or floats and then raise an exception if the discriminant $(b^2-4ac)$ would return a complex number. **"
   ]
  },
  {
   "cell_type": "code",
   "execution_count": 50,
   "metadata": {},
   "outputs": [],
   "source": [
    "import scipy as sp\n",
    "def quadratic_root(a,b,c):\n",
    "    if((b**2-4*a*c) < 0.0):\n",
    "        raise ValueError(\"Imaginary roots are not allowed!\")\n",
    "    try:\n",
    "        root1=(-b+sp.sqrt(b**2-4*a*c))/2*a\n",
    "        root2=(-b-sp.sqrt(b**2-4*a*c))/2*a\n",
    "        return root1, root2\n",
    "    except:\n",
    "        print(\"Input values must be ints or floats\")\n",
    "    "
   ]
  },
  {
   "cell_type": "code",
   "execution_count": 54,
   "metadata": {},
   "outputs": [
    {
     "ename": "ValueError",
     "evalue": "Imaginary roots are not allowed!",
     "output_type": "error",
     "traceback": [
      "\u001b[1;31m---------------------------------------------------------------------------\u001b[0m",
      "\u001b[1;31mValueError\u001b[0m                                Traceback (most recent call last)",
      "\u001b[1;32m<ipython-input-54-2ac2e0e78c6c>\u001b[0m in \u001b[0;36m<module>\u001b[1;34m()\u001b[0m\n\u001b[0;32m      2\u001b[0m \u001b[0mb\u001b[0m\u001b[1;33m=\u001b[0m\u001b[1;36m1\u001b[0m\u001b[1;33m\u001b[0m\u001b[0m\n\u001b[0;32m      3\u001b[0m \u001b[0mc\u001b[0m\u001b[1;33m=\u001b[0m\u001b[1;36m1\u001b[0m\u001b[1;33m\u001b[0m\u001b[0m\n\u001b[1;32m----> 4\u001b[1;33m \u001b[0mroots\u001b[0m\u001b[1;33m=\u001b[0m\u001b[0mquadratic_root\u001b[0m\u001b[1;33m(\u001b[0m\u001b[0ma\u001b[0m\u001b[1;33m,\u001b[0m\u001b[0mb\u001b[0m\u001b[1;33m,\u001b[0m\u001b[0mc\u001b[0m\u001b[1;33m)\u001b[0m\u001b[1;33m\u001b[0m\u001b[0m\n\u001b[0m\u001b[0;32m      5\u001b[0m \u001b[1;32mprint\u001b[0m\u001b[1;33m(\u001b[0m\u001b[0mroots\u001b[0m\u001b[1;33m)\u001b[0m\u001b[1;33m\u001b[0m\u001b[0m\n",
      "\u001b[1;32m<ipython-input-50-daf50412bea5>\u001b[0m in \u001b[0;36mquadratic_root\u001b[1;34m(a, b, c)\u001b[0m\n\u001b[0;32m      2\u001b[0m \u001b[1;32mdef\u001b[0m \u001b[0mquadratic_root\u001b[0m\u001b[1;33m(\u001b[0m\u001b[0ma\u001b[0m\u001b[1;33m,\u001b[0m\u001b[0mb\u001b[0m\u001b[1;33m,\u001b[0m\u001b[0mc\u001b[0m\u001b[1;33m)\u001b[0m\u001b[1;33m:\u001b[0m\u001b[1;33m\u001b[0m\u001b[0m\n\u001b[0;32m      3\u001b[0m     \u001b[1;32mif\u001b[0m\u001b[1;33m(\u001b[0m\u001b[1;33m(\u001b[0m\u001b[0mb\u001b[0m\u001b[1;33m**\u001b[0m\u001b[1;36m2\u001b[0m\u001b[1;33m-\u001b[0m\u001b[1;36m4\u001b[0m\u001b[1;33m*\u001b[0m\u001b[0ma\u001b[0m\u001b[1;33m*\u001b[0m\u001b[0mc\u001b[0m\u001b[1;33m)\u001b[0m \u001b[1;33m<\u001b[0m \u001b[1;36m0.0\u001b[0m\u001b[1;33m)\u001b[0m\u001b[1;33m:\u001b[0m\u001b[1;33m\u001b[0m\u001b[0m\n\u001b[1;32m----> 4\u001b[1;33m         \u001b[1;32mraise\u001b[0m \u001b[0mValueError\u001b[0m\u001b[1;33m(\u001b[0m\u001b[1;34m\"Imaginary roots are not allowed!\"\u001b[0m\u001b[1;33m)\u001b[0m\u001b[1;33m\u001b[0m\u001b[0m\n\u001b[0m\u001b[0;32m      5\u001b[0m     \u001b[1;32mtry\u001b[0m\u001b[1;33m:\u001b[0m\u001b[1;33m\u001b[0m\u001b[0m\n\u001b[0;32m      6\u001b[0m         \u001b[0mroot1\u001b[0m\u001b[1;33m=\u001b[0m\u001b[1;33m(\u001b[0m\u001b[1;33m-\u001b[0m\u001b[0mb\u001b[0m\u001b[1;33m+\u001b[0m\u001b[0msp\u001b[0m\u001b[1;33m.\u001b[0m\u001b[0msqrt\u001b[0m\u001b[1;33m(\u001b[0m\u001b[0mb\u001b[0m\u001b[1;33m**\u001b[0m\u001b[1;36m2\u001b[0m\u001b[1;33m-\u001b[0m\u001b[1;36m4\u001b[0m\u001b[1;33m*\u001b[0m\u001b[0ma\u001b[0m\u001b[1;33m*\u001b[0m\u001b[0mc\u001b[0m\u001b[1;33m)\u001b[0m\u001b[1;33m)\u001b[0m\u001b[1;33m/\u001b[0m\u001b[1;36m2\u001b[0m\u001b[1;33m*\u001b[0m\u001b[0ma\u001b[0m\u001b[1;33m\u001b[0m\u001b[0m\n",
      "\u001b[1;31mValueError\u001b[0m: Imaginary roots are not allowed!"
     ]
    }
   ],
   "source": [
    "a=1\n",
    "b=1\n",
    "c=1\n",
    "roots=quadratic_root(a,b,c)\n",
    "print(roots)"
   ]
  },
  {
   "cell_type": "code",
   "execution_count": null,
   "metadata": {},
   "outputs": [],
   "source": []
  },
  {
   "cell_type": "markdown",
   "metadata": {},
   "source": [
    "### Catching Logical Errors - debugging your code<a id=\"debugging\"></a>\n",
    "\n",
    "We are now beginning to develop more sophisticated pieces of code capable of performing advanced operations. As the level of sophistication increases, so does the chance for something to go wrong which doesn't necessarily raise an exception within the codes execution. When this type of logical error occurs we need a systematic way to proceed; this is where the concept of debugging becomes incredibly useful. Fortunately for us,Spyder has a comprehensive debugging toolkit at our disposable.\n",
    "\n",
    "The debugger is initiated by pressing the Debug file on the toolbar or by pressing ctrl+f5."
   ]
  },
  {
   "cell_type": "markdown",
   "metadata": {},
   "source": [
    "![debugger-annotated](https://cclewley.github.io/ComputingYr1/Images3/debugger-annotated.PNG)"
   ]
  },
  {
   "cell_type": "markdown",
   "metadata": {},
   "source": [
    "The red highlighted box encloses the debugging commands available in the Spyder IDE. In order from left to right, the following buttons within the debugging toolbar are:\n",
    "\n",
    "- Orange: Debug file.\n",
    "- Yellow: Run Current Line.\n",
    "- Green: Step into function or method of current line.\n",
    "- Blue: Run until current function or method returns.\n",
    "- Blue: Continue execution until next breakpoint.\n",
    "- Purple: Stop debugging.\n",
    "\n",
    "Once debugging had been initiated, the Ipython console on the bottom right will look like:"
   ]
  },
  {
   "cell_type": "markdown",
   "metadata": {},
   "source": [
    "![debugging-console](Images/debugging-console.png)"
   ]
  },
  {
   "cell_type": "markdown",
   "metadata": {},
   "source": [
    "Notice it now reads ipdb in the ipython console and not a command line like previously; this shows that Ipython has entered into debugging mode. \n",
    "\n",
    "\n",
    "** Sometimes there are issues when debugging within the Ipython console; if your machine is experiencing issues while debugging then a solution is to switch tabs over to the Python console. Everything that will be described below is equally valid in this console. **\n",
    "\n",
    "One of the most powerful parts of debugging are the use of break points, these are user-defined points in the code that the program will stop at when encountered. To insert a break point into a code, double-click in the grey column next to the lie numbers in the script environment. Note that breakpoints can only be placed on rows that have executable python code on them (so not comments)."
   ]
  },
  {
   "cell_type": "markdown",
   "metadata": {},
   "source": [
    "![debugging-breakpoints.PNG](https://cclewley.github.io/ComputingYr1/Images3/debugging-breakpoints.PNG)"
   ]
  },
  {
   "cell_type": "markdown",
   "metadata": {},
   "source": [
    "Breakpoints are used to see how the progress of a code execution: this is very different behaviour from previously where we would run a whole section of code and wait for an output. This will allow us to move between different parts of the code.\n",
    "\n",
    "** Before we begin, open and save a new .py file that will be used for debugging. **\n",
    "\n",
    "We will look at some code that you wrote in session 2 that loaded in Resistivity data and calculated a line fit to the data."
   ]
  },
  {
   "cell_type": "code",
   "execution_count": 15,
   "metadata": {},
   "outputs": [
    {
     "name": "stdout",
     "output_type": "stream",
     "text": [
      "Aluminium fit coefficients\n",
      "[  1.08753758e-10  -4.17527741e-09]\n",
      "covariance matrix\n",
      "[[  1.89709698e-23  -4.88426494e-21]\n",
      " [ -4.88426494e-21   1.30359255e-18]]\n",
      "Slope = 1.088e-10 +/- 4.356e-12\n",
      "Intercept = -4.175e-09 +/- 1.142e-09\n"
     ]
    }
   ],
   "source": [
    "import scipy as sp\n",
    "import matplotlib.pyplot as plt\n",
    "\n",
    "T,R_Cu,R_Al = sp.loadtxt('Data/Resistivity.txt',unpack=True)# Read in the data\n",
    "errors_Al = 0.05*R_Al# Calculate 5% errors\n",
    "errors_Cu = 0.05*R_Cu\n",
    "\n",
    "# The line below stores the fit coefficients in the fit_Al variable, and the covariance matrix in the cov_Al variable.\n",
    "# Note that the input arguments for polyfit() below are:\n",
    "# (1) the independent variable (T)\n",
    "# (2) the dependent variable (R_Al)\n",
    "# (3) the order of the polynomial to be fitted (1)\n",
    "# (4) the weights of each data point (w = 1/errors_Al)\n",
    "# (5) whether or not to return the covariance matrix (cov = True)\n",
    "fit_Al,cov_Al = sp.polyfit(T,R_Al,1,w=1/errors_Al,cov=True)\n",
    "print('Aluminium fit coefficients')\n",
    "print(fit_Al)\n",
    "print('covariance matrix')\n",
    "print(cov_Al)\n",
    "\n",
    "sig_0 = sp.sqrt(cov_Al[0,0]) #The uncertainty in the slope\n",
    "sig_1 = sp.sqrt(cov_Al[1,1]) #The uncertainty in the intercept\n",
    "\n",
    "print('Slope = %.3e +/- %.3e' %(fit_Al[0],sig_0))# Note the %.3e forces the values to be printed in scientific notation with 3 decimal places.\n",
    "print('Intercept = %.3e +/- %.3e' %(fit_Al[1],sig_1))"
   ]
  },
  {
   "cell_type": "markdown",
   "metadata": {},
   "source": [
    "<div style=\"background-color: #00FF00\">\n",
    "** Copy this data into your empty .py file. **"
   ]
  },
  {
   "cell_type": "markdown",
   "metadata": {},
   "source": [
    "** To ensure that all variables have been cleared from your Spyder session, run the following commands in the ipython terminal: **\n",
    "\n",
    "```python\n",
    "%reset\n",
    "%clear\n",
    "```\n",
    "\n",
    "This will clear all the current variables stored within Spyder. Your Spyder editor should now look like this."
   ]
  },
  {
   "cell_type": "markdown",
   "metadata": {},
   "source": [
    "![debugging-setup.PNG](https://cclewley.github.io/ComputingYr1/Images3/debugging-setup.PNG)"
   ]
  },
  {
   "cell_type": "markdown",
   "metadata": {},
   "source": [
    "<div style=\"background-color: #00FF00\">\n",
    "** Set your breakpoints to the same location as the image above, enter debug mode and then move to the first breakpoint. The code will acknowledge this by printing the following in the ipython command terminal: **"
   ]
  },
  {
   "cell_type": "markdown",
   "metadata": {},
   "source": [
    "![breakpoint-1.PNG](https://cclewley.github.io/ComputingYr1/Images3/breakpoint-1.PNG)"
   ]
  },
  {
   "cell_type": "markdown",
   "metadata": {
    "slideshow": {
     "slide_type": "subslide"
    }
   },
   "source": [
    "(Of course it will quote the folder you saved your own script in rather than the one in the example above!)"
   ]
  },
  {
   "cell_type": "markdown",
   "metadata": {},
   "source": [
    "Check the variable explorer window, and see if anything has been defined yet. Nothing should have been which is an important part about breakpoints. ** Breakpoints take you to a certain line but they do not execute it! ** This is especially import when you suspect you have a bug in a particular line of code.\n",
    "\n",
    "<div style=\"background-color: #00FF00\">\n",
    "** Now move onto the second breakpoint . **"
   ]
  },
  {
   "cell_type": "markdown",
   "metadata": {},
   "source": [
    "The arrays T, R_Cu and R_Al been loaded in from the Resistivity.txt file and the arrays errors_Al and errors_Cu have been derived from them. These should be visible in your variable explorer window.\n",
    "\n",
    "<div style=\"background-color: #00FF00\">\n",
    "** Now move onto the final breakpoint and see how more variables have been created. **"
   ]
  },
  {
   "cell_type": "markdown",
   "metadata": {},
   "source": [
    "There will be instances where you want to step through your code line by line and therefore putting a breakpoint on every line is inefficient. To do this, type the <span style=\"color:blue\">n</span> command into the console window while in debug mode; this will execute the current line of code and move onto the next one. Once this command has been entered, to execute it again simple hit return with the console terminal. To try this out, re-enter debug mode and move to the first breakpoint. After this use <span style=\"color:blue\">n</span> to step through the code line by line."
   ]
  },
  {
   "cell_type": "markdown",
   "metadata": {},
   "source": [
    "Debugging code becomes particularly useful when you have loops and functions which can alter the logical flow of your program, making it hard to track by eye.\n",
    "\n",
    "Two useful commands while in debug mode are the <span style=\"color:blue\">pp locals()</span> and the <span style=\"color:blue\">pp globals</span> commands; pp stands for pretty print and will cause Python to print out text in a legible manner. These commands will list the local and global variables respectively, which is useful for keeping track of what is defined a function and what isn't."
   ]
  },
  {
   "cell_type": "code",
   "execution_count": null,
   "metadata": {
    "collapsed": true
   },
   "outputs": [],
   "source": []
  }
 ],
 "metadata": {
  "kernelspec": {
   "display_name": "Python 2",
   "language": "python",
   "name": "python2"
  },
  "language_info": {
   "codemirror_mode": {
    "name": "ipython",
    "version": 2
   },
   "file_extension": ".py",
   "mimetype": "text/x-python",
   "name": "python",
   "nbconvert_exporter": "python",
   "pygments_lexer": "ipython2",
   "version": "2.7.14"
  }
 },
 "nbformat": 4,
 "nbformat_minor": 2
}
