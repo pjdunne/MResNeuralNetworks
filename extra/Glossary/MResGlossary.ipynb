{
 "cells": [
  {
   "cell_type": "markdown",
   "id": "cac4c803",
   "metadata": {},
   "source": [
    "<div style=\"background-color: #FFFACD; padding: 10px;\">\n",
    "\n",
    "# Machine Learning MRes Glossary"
   ]
  },
  {
   "cell_type": "markdown",
   "id": "25c02f25",
   "metadata": {},
   "source": [
    "<div style=\"background-color: #FFFACD; padding: 10px;\">\n",
    "\n",
    "## Index:\n",
    "\n",
    "</div>\n",
    "\n",
    "\n",
    "- [Types of Machine Learning](#types-of-machine-learning)\n",
    "- [Regression](#regression)\n",
    "- [Cost Function](#cost-function)\n",
    "- [Loss Function](#loss-function)\n",
    "- [Least Squares](#least-squares)\n",
    "- [Classification](#classification)\n",
    "- [Gradient-Based Optimization](#gradient-based-optimization)\n",
    "- [Gradient Descent](#gradient-descent)\n",
    "- [Dimensionality Reduction](#dimensionality-reduction)\n",
    "- [SVD Visualisation](#svd-visualisation)\n",
    "- [KNN](#KNN)\n",
    "- [Instance-Based Learning](#Instance-Based-Learning)\n",
    "- [Model-Based Learning](#Model-Based-Learning)\n",
    "\n",
    "\n",
    "*Refer to HOML for additional information*\n",
    "\n",
    "\n",
    "\n",
    "\n"
   ]
  },
  {
   "cell_type": "markdown",
   "id": "fa433bc3",
   "metadata": {},
   "source": [
    "This is a notebook that groups important concepts included within the ML course. Keywords are included within the index list (open the sections for interactive code).\n",
    "\n",
    "Run the cells below:"
   ]
  },
  {
   "cell_type": "code",
   "execution_count": 6,
   "id": "9c68ced6",
   "metadata": {},
   "outputs": [
    {
     "name": "stdout",
     "output_type": "stream",
     "text": [
      "Requirement already satisfied: ipywidgets in /Users/jingchaoyi/opt/anaconda3/lib/python3.9/site-packages (7.6.5)\n",
      "Requirement already satisfied: ipykernel>=4.5.1 in /Users/jingchaoyi/opt/anaconda3/lib/python3.9/site-packages (from ipywidgets) (6.9.1)\n",
      "Requirement already satisfied: ipython-genutils~=0.2.0 in /Users/jingchaoyi/opt/anaconda3/lib/python3.9/site-packages (from ipywidgets) (0.2.0)\n",
      "Requirement already satisfied: traitlets>=4.3.1 in /Users/jingchaoyi/opt/anaconda3/lib/python3.9/site-packages (from ipywidgets) (5.1.1)\n",
      "Requirement already satisfied: nbformat>=4.2.0 in /Users/jingchaoyi/opt/anaconda3/lib/python3.9/site-packages (from ipywidgets) (5.3.0)\n",
      "Requirement already satisfied: widgetsnbextension~=3.5.0 in /Users/jingchaoyi/opt/anaconda3/lib/python3.9/site-packages (from ipywidgets) (3.5.2)\n",
      "Requirement already satisfied: ipython>=4.0.0 in /Users/jingchaoyi/opt/anaconda3/lib/python3.9/site-packages (from ipywidgets) (8.2.0)\n",
      "Requirement already satisfied: jupyterlab-widgets>=1.0.0 in /Users/jingchaoyi/opt/anaconda3/lib/python3.9/site-packages (from ipywidgets) (1.0.0)\n",
      "Requirement already satisfied: debugpy<2.0,>=1.0.0 in /Users/jingchaoyi/opt/anaconda3/lib/python3.9/site-packages (from ipykernel>=4.5.1->ipywidgets) (1.5.1)\n",
      "Requirement already satisfied: jupyter-client<8.0 in /Users/jingchaoyi/opt/anaconda3/lib/python3.9/site-packages (from ipykernel>=4.5.1->ipywidgets) (6.1.12)\n",
      "Requirement already satisfied: tornado<7.0,>=4.2 in /Users/jingchaoyi/opt/anaconda3/lib/python3.9/site-packages (from ipykernel>=4.5.1->ipywidgets) (6.1)\n",
      "Requirement already satisfied: matplotlib-inline<0.2.0,>=0.1.0 in /Users/jingchaoyi/opt/anaconda3/lib/python3.9/site-packages (from ipykernel>=4.5.1->ipywidgets) (0.1.2)\n",
      "Requirement already satisfied: nest-asyncio in /Users/jingchaoyi/opt/anaconda3/lib/python3.9/site-packages (from ipykernel>=4.5.1->ipywidgets) (1.5.5)\n",
      "Requirement already satisfied: appnope in /Users/jingchaoyi/opt/anaconda3/lib/python3.9/site-packages (from ipykernel>=4.5.1->ipywidgets) (0.1.2)\n",
      "Requirement already satisfied: backcall in /Users/jingchaoyi/opt/anaconda3/lib/python3.9/site-packages (from ipython>=4.0.0->ipywidgets) (0.2.0)\n",
      "Requirement already satisfied: decorator in /Users/jingchaoyi/opt/anaconda3/lib/python3.9/site-packages (from ipython>=4.0.0->ipywidgets) (5.1.1)\n",
      "Requirement already satisfied: jedi>=0.16 in /Users/jingchaoyi/opt/anaconda3/lib/python3.9/site-packages (from ipython>=4.0.0->ipywidgets) (0.18.1)\n",
      "Requirement already satisfied: pickleshare in /Users/jingchaoyi/opt/anaconda3/lib/python3.9/site-packages (from ipython>=4.0.0->ipywidgets) (0.7.5)\n",
      "Requirement already satisfied: prompt-toolkit!=3.0.0,!=3.0.1,<3.1.0,>=2.0.0 in /Users/jingchaoyi/opt/anaconda3/lib/python3.9/site-packages (from ipython>=4.0.0->ipywidgets) (3.0.20)\n",
      "Requirement already satisfied: pygments>=2.4.0 in /Users/jingchaoyi/opt/anaconda3/lib/python3.9/site-packages (from ipython>=4.0.0->ipywidgets) (2.11.2)\n",
      "Requirement already satisfied: setuptools>=18.5 in /Users/jingchaoyi/opt/anaconda3/lib/python3.9/site-packages (from ipython>=4.0.0->ipywidgets) (61.2.0)\n",
      "Requirement already satisfied: stack-data in /Users/jingchaoyi/opt/anaconda3/lib/python3.9/site-packages (from ipython>=4.0.0->ipywidgets) (0.2.0)\n",
      "Requirement already satisfied: pexpect>4.3 in /Users/jingchaoyi/opt/anaconda3/lib/python3.9/site-packages (from ipython>=4.0.0->ipywidgets) (4.8.0)\n",
      "Requirement already satisfied: jsonschema>=2.6 in /Users/jingchaoyi/opt/anaconda3/lib/python3.9/site-packages (from nbformat>=4.2.0->ipywidgets) (4.4.0)\n",
      "Requirement already satisfied: jupyter-core in /Users/jingchaoyi/opt/anaconda3/lib/python3.9/site-packages (from nbformat>=4.2.0->ipywidgets) (4.9.2)\n",
      "Requirement already satisfied: fastjsonschema in /Users/jingchaoyi/opt/anaconda3/lib/python3.9/site-packages (from nbformat>=4.2.0->ipywidgets) (2.15.1)\n",
      "Requirement already satisfied: notebook>=4.4.1 in /Users/jingchaoyi/opt/anaconda3/lib/python3.9/site-packages (from widgetsnbextension~=3.5.0->ipywidgets) (6.4.8)\n",
      "Requirement already satisfied: parso<0.9.0,>=0.8.0 in /Users/jingchaoyi/opt/anaconda3/lib/python3.9/site-packages (from jedi>=0.16->ipython>=4.0.0->ipywidgets) (0.8.3)\n",
      "Requirement already satisfied: attrs>=17.4.0 in /Users/jingchaoyi/opt/anaconda3/lib/python3.9/site-packages (from jsonschema>=2.6->nbformat>=4.2.0->ipywidgets) (21.4.0)\n",
      "Requirement already satisfied: pyrsistent!=0.17.0,!=0.17.1,!=0.17.2,>=0.14.0 in /Users/jingchaoyi/opt/anaconda3/lib/python3.9/site-packages (from jsonschema>=2.6->nbformat>=4.2.0->ipywidgets) (0.18.0)\n",
      "Requirement already satisfied: pyzmq>=13 in /Users/jingchaoyi/opt/anaconda3/lib/python3.9/site-packages (from jupyter-client<8.0->ipykernel>=4.5.1->ipywidgets) (22.3.0)\n",
      "Requirement already satisfied: python-dateutil>=2.1 in /Users/jingchaoyi/opt/anaconda3/lib/python3.9/site-packages (from jupyter-client<8.0->ipykernel>=4.5.1->ipywidgets) (2.8.2)\n",
      "Requirement already satisfied: jinja2 in /Users/jingchaoyi/opt/anaconda3/lib/python3.9/site-packages (from notebook>=4.4.1->widgetsnbextension~=3.5.0->ipywidgets) (2.11.3)\n",
      "Requirement already satisfied: argon2-cffi in /Users/jingchaoyi/opt/anaconda3/lib/python3.9/site-packages (from notebook>=4.4.1->widgetsnbextension~=3.5.0->ipywidgets) (21.3.0)\n",
      "Requirement already satisfied: nbconvert in /Users/jingchaoyi/opt/anaconda3/lib/python3.9/site-packages (from notebook>=4.4.1->widgetsnbextension~=3.5.0->ipywidgets) (6.4.4)\n",
      "Requirement already satisfied: Send2Trash>=1.8.0 in /Users/jingchaoyi/opt/anaconda3/lib/python3.9/site-packages (from notebook>=4.4.1->widgetsnbextension~=3.5.0->ipywidgets) (1.8.0)\n",
      "Requirement already satisfied: terminado>=0.8.3 in /Users/jingchaoyi/opt/anaconda3/lib/python3.9/site-packages (from notebook>=4.4.1->widgetsnbextension~=3.5.0->ipywidgets) (0.13.1)\n",
      "Requirement already satisfied: prometheus-client in /Users/jingchaoyi/opt/anaconda3/lib/python3.9/site-packages (from notebook>=4.4.1->widgetsnbextension~=3.5.0->ipywidgets) (0.13.1)\n",
      "Requirement already satisfied: ptyprocess>=0.5 in /Users/jingchaoyi/opt/anaconda3/lib/python3.9/site-packages (from pexpect>4.3->ipython>=4.0.0->ipywidgets) (0.7.0)\n",
      "Requirement already satisfied: wcwidth in /Users/jingchaoyi/opt/anaconda3/lib/python3.9/site-packages (from prompt-toolkit!=3.0.0,!=3.0.1,<3.1.0,>=2.0.0->ipython>=4.0.0->ipywidgets) (0.2.5)\n",
      "Requirement already satisfied: executing in /Users/jingchaoyi/opt/anaconda3/lib/python3.9/site-packages (from stack-data->ipython>=4.0.0->ipywidgets) (0.8.3)\n",
      "Requirement already satisfied: asttokens in /Users/jingchaoyi/opt/anaconda3/lib/python3.9/site-packages (from stack-data->ipython>=4.0.0->ipywidgets) (2.0.5)\n",
      "Requirement already satisfied: pure-eval in /Users/jingchaoyi/opt/anaconda3/lib/python3.9/site-packages (from stack-data->ipython>=4.0.0->ipywidgets) (0.2.2)\n",
      "Requirement already satisfied: six>=1.5 in /Users/jingchaoyi/opt/anaconda3/lib/python3.9/site-packages (from python-dateutil>=2.1->jupyter-client<8.0->ipykernel>=4.5.1->ipywidgets) (1.16.0)\n",
      "Requirement already satisfied: argon2-cffi-bindings in /Users/jingchaoyi/opt/anaconda3/lib/python3.9/site-packages (from argon2-cffi->notebook>=4.4.1->widgetsnbextension~=3.5.0->ipywidgets) (21.2.0)\n",
      "Requirement already satisfied: MarkupSafe>=0.23 in /Users/jingchaoyi/opt/anaconda3/lib/python3.9/site-packages (from jinja2->notebook>=4.4.1->widgetsnbextension~=3.5.0->ipywidgets) (2.0.1)\n",
      "Requirement already satisfied: mistune<2,>=0.8.1 in /Users/jingchaoyi/opt/anaconda3/lib/python3.9/site-packages (from nbconvert->notebook>=4.4.1->widgetsnbextension~=3.5.0->ipywidgets) (0.8.4)\n",
      "Requirement already satisfied: jupyterlab-pygments in /Users/jingchaoyi/opt/anaconda3/lib/python3.9/site-packages (from nbconvert->notebook>=4.4.1->widgetsnbextension~=3.5.0->ipywidgets) (0.1.2)\n",
      "Requirement already satisfied: entrypoints>=0.2.2 in /Users/jingchaoyi/opt/anaconda3/lib/python3.9/site-packages (from nbconvert->notebook>=4.4.1->widgetsnbextension~=3.5.0->ipywidgets) (0.4)\n",
      "Requirement already satisfied: bleach in /Users/jingchaoyi/opt/anaconda3/lib/python3.9/site-packages (from nbconvert->notebook>=4.4.1->widgetsnbextension~=3.5.0->ipywidgets) (4.1.0)\n",
      "Requirement already satisfied: pandocfilters>=1.4.1 in /Users/jingchaoyi/opt/anaconda3/lib/python3.9/site-packages (from nbconvert->notebook>=4.4.1->widgetsnbextension~=3.5.0->ipywidgets) (1.5.0)\n",
      "Requirement already satisfied: testpath in /Users/jingchaoyi/opt/anaconda3/lib/python3.9/site-packages (from nbconvert->notebook>=4.4.1->widgetsnbextension~=3.5.0->ipywidgets) (0.5.0)\n",
      "Requirement already satisfied: defusedxml in /Users/jingchaoyi/opt/anaconda3/lib/python3.9/site-packages (from nbconvert->notebook>=4.4.1->widgetsnbextension~=3.5.0->ipywidgets) (0.7.1)\n",
      "Requirement already satisfied: beautifulsoup4 in /Users/jingchaoyi/opt/anaconda3/lib/python3.9/site-packages (from nbconvert->notebook>=4.4.1->widgetsnbextension~=3.5.0->ipywidgets) (4.11.1)\n",
      "Requirement already satisfied: nbclient<0.6.0,>=0.5.0 in /Users/jingchaoyi/opt/anaconda3/lib/python3.9/site-packages (from nbconvert->notebook>=4.4.1->widgetsnbextension~=3.5.0->ipywidgets) (0.5.13)\n",
      "Requirement already satisfied: cffi>=1.0.1 in /Users/jingchaoyi/opt/anaconda3/lib/python3.9/site-packages (from argon2-cffi-bindings->argon2-cffi->notebook>=4.4.1->widgetsnbextension~=3.5.0->ipywidgets) (1.15.0)\n",
      "Requirement already satisfied: soupsieve>1.2 in /Users/jingchaoyi/opt/anaconda3/lib/python3.9/site-packages (from beautifulsoup4->nbconvert->notebook>=4.4.1->widgetsnbextension~=3.5.0->ipywidgets) (2.3.1)\n",
      "Requirement already satisfied: packaging in /Users/jingchaoyi/opt/anaconda3/lib/python3.9/site-packages (from bleach->nbconvert->notebook>=4.4.1->widgetsnbextension~=3.5.0->ipywidgets) (21.3)\n",
      "Requirement already satisfied: webencodings in /Users/jingchaoyi/opt/anaconda3/lib/python3.9/site-packages (from bleach->nbconvert->notebook>=4.4.1->widgetsnbextension~=3.5.0->ipywidgets) (0.5.1)\n",
      "Requirement already satisfied: pycparser in /Users/jingchaoyi/opt/anaconda3/lib/python3.9/site-packages (from cffi>=1.0.1->argon2-cffi-bindings->argon2-cffi->notebook>=4.4.1->widgetsnbextension~=3.5.0->ipywidgets) (2.21)\n",
      "Requirement already satisfied: pyparsing!=3.0.5,>=2.0.2 in /Users/jingchaoyi/opt/anaconda3/lib/python3.9/site-packages (from packaging->bleach->nbconvert->notebook>=4.4.1->widgetsnbextension~=3.5.0->ipywidgets) (3.0.4)\n",
      "Note: you may need to restart the kernel to use updated packages.\n"
     ]
    }
   ],
   "source": [
    "pip install ipywidgets"
   ]
  },
  {
   "cell_type": "markdown",
   "id": "9afab7ba",
   "metadata": {},
   "source": [
    "<div style=\"background-color: #FFFACD; padding: 10px;\">\n",
    "\n",
    "# Types of Machine Learning Systems\n",
    "\n",
    "There are so many different types of Machine Learning systems that it is useful to classify them in broad categories based on:\n",
    "• Whether or not they are trained with human supervision (supervised, unsuper‐ vised, semisupervised, and Reinforcement Learning)\n",
    "• Whether or not they can learn incrementally on the fly (online versus batch learning)\n",
    "• Whether they work by simply comparing new data points to known data points, or instead detect patterns in the training data and build a predictive model, much like scientists do (instance-based versus model-based learning)\n",
    "These criteria are not exclusive; you can combine them in any way you like. For example, a state-of-the-art spam filter may learn on the fly using a deep neural net‐ work model trained using examples of spam and ham; this makes it an online, model- based, supervised learning system.\n",
    "\n",
    "Refer to pg 36 onwards in HOML"
   ]
  },
  {
   "cell_type": "markdown",
   "id": "449af0d5",
   "metadata": {},
   "source": [
    "<div style=\"background-color: #FFFACD; padding: 10px;\">\n",
    "\n",
    "# Regression\n",
    "</div>\n",
    "\n",
    "**Linear Regression** - The process of linear regression attempts to fit a straight line to a set of data, as well as possible. For this we require a metric known as the cost function (defined below), which essentially describes how poorly the line fits the data - this is to be minimised, corresponding to the best-fitting line. The aim of a linear regression model is to be able to accurately predict a continuous outcome given a set of predictors. This differs from classification, where the set of all outcomes is a finite number of categories."
   ]
  },
  {
   "cell_type": "markdown",
   "id": "773df1bd",
   "metadata": {},
   "source": [
    "The code performs linear regression using gradient descent to find the best-fit line for a given set of random data points (**x** and **y**). It iteratively updates the parameters (**theta**) based on the gradients of the cost function, aiming to minimize the mean squared error between the predicted values and the actual target values. The code then prints the final parameter values and visualizes the data points along with the learned linear regression line."
   ]
  },
  {
   "cell_type": "code",
   "execution_count": 7,
   "id": "406eafe8",
   "metadata": {},
   "outputs": [
    {
     "name": "stdout",
     "output_type": "stream",
     "text": [
      "Iteration 0: Cost = 23.16269063840338\n",
      "Iteration 100: Cost = 2.3960304799611474\n",
      "Iteration 200: Cost = 2.0512085196160754\n",
      "Iteration 300: Cost = 2.2546506740724785\n",
      "Iteration 400: Cost = 2.3221404544880913\n",
      "Iteration 500: Cost = 2.3397982017050603\n",
      "Iteration 600: Cost = 2.3442057969839536\n",
      "Iteration 700: Cost = 2.3452939087910947\n",
      "Iteration 800: Cost = 2.345561812749283\n",
      "Iteration 900: Cost = 2.3456277299335\n",
      "Final parameters:\n",
      "theta_0 = 3.1299230096458617\n",
      "theta_1 = 2.10896562748133\n"
     ]
    },
    {
     "data": {
      "image/png": "[encoded data removed]",
      "text/plain": [
       "<Figure size 432x288 with 1 Axes>"
      ]
     },
     "metadata": {
      "needs_background": "light"
     },
     "output_type": "display_data"
    }
   ],
   "source": [
    "import numpy as np\n",
    "import matplotlib.pyplot as plt\n",
    "\n",
    "# Generate some random data\n",
    "np.random.seed(0)\n",
    "x = np.random.rand(100, 1)\n",
    "y = 2 + 3 * x + np.random.randn(100, 1)\n",
    "\n",
    "# Initialize parameters\n",
    "theta = np.random.randn(2, 1)\n",
    "learning_rate = 0.01\n",
    "num_iterations = 1000\n",
    "\n",
    "# Perform gradient descent\n",
    "for iteration in range(num_iterations):\n",
    "    # Compute predictions\n",
    "    y_pred = x.dot(theta[1]) + theta[0]\n",
    "    \n",
    "    # Compute gradients\n",
    "    gradients = 2 / len(x) * x.T.dot(y_pred - y)\n",
    "    \n",
    "    # Reshape gradients to match theta shape\n",
    "    gradients = gradients.mean(axis=1, keepdims=True)\n",
    "    \n",
    "    # Update parameters\n",
    "    theta -= learning_rate * gradients\n",
    "    \n",
    "    # Compute cost, this is an example of a cost function\n",
    "    cost = np.mean((y_pred - y) ** 2)\n",
    "    \n",
    "    # Print cost every 100 iterations\n",
    "    if iteration % 100 == 0:\n",
    "        print(f\"Iteration {iteration}: Cost = {cost}\")\n",
    "\n",
    "# Print final parameters\n",
    "print(\"Final parameters:\")\n",
    "print(f\"theta_0 = {theta[0][0]}\")\n",
    "print(f\"theta_1 = {theta[1][0]}\")\n",
    "\n",
    "# Plot the data points and the linear regression line\n",
    "plt.scatter(x, y, label='Data Points')\n",
    "plt.plot(x, x.dot(theta[1]) + theta[0], color='red', label='Linear Regression')\n",
    "plt.xlabel('X')\n",
    "plt.ylabel('y')\n",
    "plt.title('Linear Regression')\n",
    "plt.legend()\n",
    "plt.show()\n",
    "\n"
   ]
  },
  {
   "cell_type": "markdown",
   "id": "cb5e30fe",
   "metadata": {},
   "source": [
    "<div style=\"background-color: #FFFACD; padding: 10px;\">\n",
    "\n",
    "# Cost Function\n",
    "\n",
    "</div>"
   ]
  },
  {
   "cell_type": "markdown",
   "id": "98af7982",
   "metadata": {},
   "source": [
    "The formula used to compute the cost is given by:\n",
    "\n",
    "$\n",
    "J(\\theta) = \\frac{1}{2} \\sum_{i=1}^{m} (h_\\theta(x^{(i)}) - y^{(i)})^2\n",
    "$\n",
    "\n",
    "Where:\n",
    "- $J(\\theta)$ represents the cost function.\n",
    "- $m$ is the number of training examples.\n",
    "- $h_\\theta(x^{(i)})$ represents the predicted value for the $i$ th training example, obtained by multiplying the input features ($x^{(i)}$) with the parameters ($\\theta$).\n",
    "- $y^{(i)}$ represents the actual target value for the $i$ th training example.\n",
    "\n",
    "The aim of linear regression is to find the optimal set of parameters ($c$, $\\theta_1$, $\\theta_2$, ...) that minimises the cost function. This involves finding the global minimum of the cost function on a multi-dimensional hypersurface in parameter-space- by executing the code and providing sample values for the input features (X), target values (y), and parameters (theta), you can compute the cost using the compute_cost function.\n",
    "\n",
    "\n",
    "The aim of linear regression in the example above, is to find the optimal set of parameters ($c$, $\\theta_1$, $\\theta_2$, ...) that minimises the cost function. This involves finding the global minimum of the cost function on a multi-dimensional hypersurface in parameter-space.\n",
    "\n",
    "\n"
   ]
  },
  {
   "cell_type": "code",
   "execution_count": 8,
   "id": "c976fe8b",
   "metadata": {},
   "outputs": [
    {
     "name": "stdout",
     "output_type": "stream",
     "text": [
      "Cost: 0.0\n"
     ]
    }
   ],
   "source": [
    "import numpy as np\n",
    "\n",
    "def compute_cost(X, y, theta):\n",
    "    m = len(y)  # Number of training examples\n",
    "    y_pred = X.dot(theta)  # Compute predictions\n",
    "    cost = np.sum((y_pred - y) ** 2) / (2 * m)  # Compute cost\n",
    "    return cost\n",
    "\n",
    "# Example usage:\n",
    "X = np.array([[1, 1], [1, 2], [1, 3]])  # Input features\n",
    "y = np.array([[1], [2], [3]])  # Target values\n",
    "theta = np.array([[0], [1]])  # Parameters\n",
    "\n",
    "cost = compute_cost(X, y, theta)\n",
    "print(f\"Cost: {cost}\")\n",
    "\n",
    "# We provide sample values for the input features (X), target values (y), \n",
    "# and parameters (theta). We call the compute_cost function with these values \n",
    "# and print the resulting cost."
   ]
  },
  {
   "cell_type": "markdown",
   "id": "bea9b32f",
   "metadata": {},
   "source": [
    "<div style=\"background-color: #FFFACD; padding: 10px;\">\n",
    "\n",
    "# Loss Function\n",
    "\n",
    "</div>\n",
    "\n",
    "The terms \"cost function\" and \"loss function\" in machine learning are often used interchangeably, but they technically do have different meanings, especially when dealing with complex models or problems.\n",
    "\n",
    "Loss Function: A loss function, or error function, quantifies how well a single sample of data meets the learning task objectives. It measures the discrepancy between the prediction of the machine learning model and the actual output for that sample. For instance, in a regression problem, Mean Squared Error (MSE) could be used as a loss function, where it measures the squared difference between the actual and predicted values for a particular data point.\n",
    "\n",
    "Cost Function: A cost function is the average of the loss functions for all individual data samples in a dataset. It represents the overall 'cost' of the performance of a machine learning model on the entire training dataset. In other words, the cost function is a type of loss function, but it is computed as the aggregate of losses across the set of examples, such as all training samples."
   ]
  },
  {
   "cell_type": "code",
   "execution_count": 9,
   "id": "8d8a46ad",
   "metadata": {},
   "outputs": [
    {
     "data": {
      "image/png": "[encoded data removed]",
      "text/plain": [
       "<Figure size 432x288 with 1 Axes>"
      ]
     },
     "metadata": {
      "needs_background": "light"
     },
     "output_type": "display_data"
    }
   ],
   "source": [
    "import numpy as np\n",
    "import matplotlib.pyplot as plt\n",
    "\n",
    "# Generating random predictions and actuals\n",
    "np.random.seed(0)\n",
    "predictions = np.random.rand(10)\n",
    "actuals = np.random.rand(10)\n",
    "\n",
    "# Calculating individual losses (Mean Squared Error for simplicity)\n",
    "individual_losses = (predictions - actuals) ** 2\n",
    "\n",
    "# Calculating cost (mean of individual losses)\n",
    "cost = np.mean(individual_losses)\n",
    "\n",
    "# Creating a scatter plot for individual losses\n",
    "plt.scatter(range(len(individual_losses)), individual_losses, label='Individual Losses')\n",
    "\n",
    "# Creating a horizontal line representing cost\n",
    "plt.axhline(y=cost, color='r', linestyle='-', label='Cost (Average Loss)')\n",
    "\n",
    "plt.title('Difference between Loss Function and Cost Function')\n",
    "plt.xlabel('Sample')\n",
    "plt.ylabel('Loss/Cost')\n",
    "plt.legend()\n",
    "\n",
    "plt.show()\n"
   ]
  },
  {
   "cell_type": "markdown",
   "id": "8e70343f",
   "metadata": {},
   "source": [
    "<div style=\"background-color: #FFFACD; padding: 10px;\">\n",
    "\n",
    "# Least Squares\n",
    "\n",
    "</div>\n",
    "\n",
    "The least squares method is a form of mathematical regression analysis that seeks to find the line of best fit for a set of data points. It is often used as a loss function in Machine Learning, particularly for regression problems. The objective is to minimise the sum of the squared differences between the predicted output and the actual output.\n",
    "\n",
    "Given a set of $n$ points $(x_1, y_1), (x_2, y_2), ..., (x_n, y_n)$, the least squares loss function is defined as:\n",
    "\n",
    "$$\n",
    "L = \\sum_{i=1}^{n} (y_i - \\hat{y}_i)^2\n",
    "$$\n",
    "\n",
    "Here, $y_i$ represents the actual output and $\\hat{y}_i$ is the predicted output, defined as $\\hat{y}_i = f(x_i)$, where $f$ is our model's function.\n",
    "\n",
    "For a simple linear regression model defined by $\\hat{y} = \\theta_0 + \\theta_1x$, where $\\theta$ represents the parameters $(\\theta_0, \\theta_1)$, the least squares loss function becomes:\n",
    "\n",
    "$$\n",
    "L(\\theta) = \\sum_{i=1}^{n} (y_i - (\\theta_0 + \\theta_1x_i))^2\n",
    "$$\n",
    "\n",
    "In matrix notation, if we have $m$ examples and $n$ features, and we define $X$ as the $m \\times n$ input matrix (with a column of ones for the bias term), $y$ as the $m$-dimensional output vector, and $\\theta$ as the parameter vector, the least squares loss function is:\n",
    "\n",
    "$$\n",
    "L(\\theta) = (X\\theta - y)^T(X\\theta - y)\n",
    "$$\n",
    "\n",
    "The optimal solution for the parameters can be found by setting the gradient of $L$ with respect to $\\theta$ to zero, and solving for $\\theta$. For linear regression models, this can be done analytically using the normal equation:\n",
    "\n",
    "$$\n",
    "\\theta = (X^TX)^{-1}X^Ty\n",
    "$$\n",
    "\n",
    "However, for more complex models or when $X^TX$ is not invertible, iterative optimisation algorithms such as gradient descent are typically used to minimise the loss function.\n"
   ]
  },
  {
   "cell_type": "markdown",
   "id": "865a275f",
   "metadata": {},
   "source": [
    "<div style=\"background-color: #FFFACD; padding: 10px;\">\n",
    "\n",
    "# Classification\n",
    "\n",
    "</div>\n",
    "\n",
    "Classification is a type of supervised learning approach in machine learning where the computer program learns from the input data provided to it and then uses this learning to classify new observations into one of the several classes or categories. \n",
    "\n",
    "A classification problem is demonstrated below using Scikit-learn."
   ]
  },
  {
   "cell_type": "code",
   "execution_count": 10,
   "id": "e724045c",
   "metadata": {},
   "outputs": [
    {
     "name": "stdout",
     "output_type": "stream",
     "text": [
      "Accuracy of the model: 100.00%\n"
     ]
    }
   ],
   "source": [
    "from sklearn import datasets\n",
    "from sklearn.model_selection import train_test_split\n",
    "from sklearn.preprocessing import StandardScaler\n",
    "from sklearn.linear_model import LogisticRegression\n",
    "from sklearn.metrics import accuracy_score\n",
    "\n",
    "# Load Iris dataset\n",
    "iris = datasets.load_iris()\n",
    "\n",
    "# We only take the first two features and two classes (Iris-setosa and others)\n",
    "X = iris.data[:100, :2]\n",
    "y = iris.target[:100]\n",
    "\n",
    "# Standardising the features\n",
    "sc = StandardScaler()\n",
    "X = sc.fit_transform(X)\n",
    "\n",
    "# Split the data into training set and test set\n",
    "X_train, X_test, y_train, y_test = train_test_split(X, y, test_size=0.2, random_state=42)\n",
    "\n",
    "# Initialise the model\n",
    "model = LogisticRegression()\n",
    "\n",
    "# Fit the model with training data\n",
    "model.fit(X_train, y_train)\n",
    "\n",
    "# Predict the test data\n",
    "y_pred = model.predict(X_test)\n",
    "\n",
    "# Calculate the accuracy\n",
    "accuracy = accuracy_score(y_test, y_pred)\n",
    "\n",
    "print(f'Accuracy of the model: {accuracy*100:.2f}%')\n"
   ]
  },
  {
   "cell_type": "markdown",
   "id": "86fff9ef",
   "metadata": {},
   "source": [
    "<div style=\"background-color: #FFFACD; padding: 10px;\">\n",
    "\n",
    "# Forward Propagation\n",
    "</div>\n",
    "Where input data is fed through a network, in a forward direction, to generate an output. The data is accepted by hidden layers and processed, as per the activation\n",
    "function, and moves to the successive layer. The forward flow of data is designed to avoid data moving in a circular motion, which does not generate an output.\n"
   ]
  },
  {
   "cell_type": "markdown",
   "id": "ea3f99a6",
   "metadata": {},
   "source": [
    "<div style=\"background-color: #FFFACD; padding: 10px;\">\n",
    "\n",
    "# Gradient-Based Optimisation (from the Statistics Course)\n",
    "\n",
    "</div>\n",
    "\n",
    "In Machine learning, often you will be optimising algorithms to improve the performance of the algorithm. In architechtures such as neural-networks, the weights of the network are *parameters* that can be varied in order to minimise some *loss* function. \n",
    "\n",
    "You will see many examples of optimisation and these days there are some extremely sophisticated methods for optimising complicated loss functions, however in this notebook we'll go over the most common starting point for these which is *gradient based optimisation*. \n",
    "\n",
    "In statistics, as we've seen in the lectures, the *likelihood* (or negative log-likelihood) function is our loss function and we often need to maximise (minimise) it with respect to one or more of its parameters. \n",
    "\n",
    "In general, this means we're looking for the set of parameter values ($\\theta$) for which, \n",
    "\n",
    "$$\n",
    "\\frac{\\partial q}{\\partial \\theta}= 0\n",
    "$$\n",
    "\n",
    "where $q = -\\log(L)$\n",
    "\n",
    "There are two algorithms that use the gradient of the likelihood to find the maximum point that we'll go over in this notebook. \n",
    "\n",
    "<div style=\"background-color: #FFFACD; padding: 10px;\">\n",
    "\n",
    "## Newton method\n",
    "\n",
    "</div>\n",
    "\n",
    "You are probably very familar with the Newton method (from school even?), which relies on the gradient of the function to find roots (or zeros) of the function. In our setup, since we are trying to find the zeros of the gradient function, we'll also need to know the 2nd derivative. \n",
    "\n",
    "This method is very reliable for 1-dimensional problems (one parameter that is being maximised). The way this works is that from some initial starting point $\\theta_{0}$, the algorithm proposes the next step as, \n",
    "\n",
    "$$\n",
    "\\theta_{1} = \\theta_{0} - \\frac{q^{\\prime}(\\theta_{0})}{q^{\\prime\\prime}(\\theta_{0})}\n",
    "$$\n",
    "\n",
    "where $q^{\\prime} = \\frac{dq}{d\\theta}$, and $q^{\\prime\\prime} = \\frac{d^{2}q}{d\\theta^{2}}$.\n",
    "\n",
    "The algorithm continues until some tolerance is reached, $\\lvert q^{\\prime}\\rvert < \\delta$ where $\\delta$ is some small number greater than 0. \n",
    "\n",
    "We'll take a look at an example of this method where we have a unstable particle (let's say a muon) that decays after being produced in a particle collision. In these processes, the probability that the muon decays after a certain time depends on its lifetime ($\\tau$),  \n",
    "\n",
    "Suppose we had an experimental setup, capable of detecting when such decays were occuring and we marked down the times, after some $t_{0}$, that each decay occurs. The time of each decay will be a random variable and will be distributed according to an exponential decay function, \n",
    "\n",
    "$$\n",
    "p(t) = \\frac{1}{\\tau} e^{-t/\\tau}\n",
    "$$\n",
    "\n",
    "First, we'll grab some data to use for this. I've put some data in a `.csv` file. From this data, we want to find the value of $\\tau$ that minimises the negative log-likelihood for this data. "
   ]
  },
  {
   "cell_type": "code",
   "execution_count": 1,
   "id": "981ec944",
   "metadata": {},
   "outputs": [
    {
     "data": {
      "image/png": "[encoded data removed]",
      "text/plain": [
       "<Figure size 432x288 with 1 Axes>"
      ]
     },
     "metadata": {
      "needs_background": "light"
     },
     "output_type": "display_data"
    }
   ],
   "source": [
    "%matplotlib inline\n",
    "\n",
    "import math\n",
    "import numpy\n",
    "import matplotlib.pyplot as plt\n",
    "import pandas \n",
    "\n",
    "\n",
    "data_exp = pandas.read_csv(\"decay_data.csv\")\n",
    "\n",
    "plt.hist(data_exp[\"times\"],bins=100)\n",
    "plt.xlabel(\"$t - \\mu s$\")\n",
    "plt.show()\n",
    "\n",
    "data_exp = numpy.array(data_exp[\"times\"].to_list())"
   ]
  },
  {
   "cell_type": "markdown",
   "id": "941a51d2",
   "metadata": {},
   "source": [
    "The likelihood is just the product over all of the muon decay times, \n",
    "\n",
    "$$\n",
    "L(\\tau) = \\prod_{i} \\frac{1}{\\tau} e^{-t_{i}/\\tau}\n",
    "$$\n",
    "\n",
    "and the -ve log likelihood is, \n",
    "\n",
    "$$\n",
    "q = -\\ln(L) =  N\\ln (\\tau) + \\sum_{i}^{N} \\frac{t_{i}}{\\tau}  \n",
    "$$"
   ]
  },
  {
   "cell_type": "code",
   "execution_count": 13,
   "id": "48be8b8a",
   "metadata": {},
   "outputs": [],
   "source": [
    "# define -ve log-likelihood\n",
    "def q(data,tau):\n",
    " N = len(data)\n",
    " return N*math.log(tau) + sum(data)/tau"
   ]
  },
  {
   "cell_type": "markdown",
   "id": "62fc073a",
   "metadata": {},
   "source": [
    "Let's see how the value of $q(\\tau)$ changes as we change the value of $\\tau$. Use the slider to see how changing the slope of the curve (the parameter $\\tau$) changes the value of $q$. "
   ]
  },
  {
   "cell_type": "code",
   "execution_count": 14,
   "id": "c8951624",
   "metadata": {},
   "outputs": [
    {
     "data": {
      "application/vnd.jupyter.widget-view+json": {
       "model_id": "a9730980d106427c936bb40def976a74",
       "version_major": 2,
       "version_minor": 0
      },
      "text/plain": [
       "interactive(children=(FloatSlider(value=2.0, description='tau', max=4.0), Output()), _dom_classes=('widget-int…"
      ]
     },
     "metadata": {},
     "output_type": "display_data"
    },
    {
     "data": {
      "text/plain": [
       "<function __main__.plot_likelihood(tau)>"
      ]
     },
     "execution_count": 14,
     "metadata": {},
     "output_type": "execute_result"
    }
   ],
   "source": [
    "import ipywidgets\n",
    "\n",
    "xrange = numpy.linspace(0,16,100)\n",
    "\n",
    "def pdf(x,tau):\n",
    "    return (1./tau)*numpy.exp(-x/tau)\n",
    "\n",
    "def plot_likelihood(tau):\n",
    "    fig, (ax1,ax2) = plt.subplots(1,2,figsize=(14,6))\n",
    "    ax1.hist(data_exp,bins=100,histtype='step',color='black',density='true')\n",
    "    ax1.plot(xrange,pdf(xrange,tau),color='red')\n",
    "    ax1.set_xlabel(\"$t - \\mu s$\")\n",
    "    ax1.set_ylim(0,0.6)\n",
    "    \n",
    "    ax2.plot([tau],[q(data_exp,tau)],color='red',marker='o')\n",
    "    ax2.set_ylim(1750,1900)\n",
    "    ax2.set_xlim(1,4)\n",
    "    ax2.set_xlabel(\"$\\\\tau$\")\n",
    "    ax2.set_ylabel(\"$q(\\\\tau)$\")\n",
    "    ax2.grid()\n",
    "\n",
    "ipywidgets.interact(plot_likelihood,tau=(0,4,0.1))\n"
   ]
  },
  {
   "cell_type": "markdown",
   "id": "36db6d05",
   "metadata": {},
   "source": [
    "We can make a simple static plot of this too"
   ]
  },
  {
   "cell_type": "code",
   "execution_count": 15,
   "id": "ce736b98",
   "metadata": {},
   "outputs": [
    {
     "data": {
      "image/png": "[encoded data removed]",
      "text/plain": [
       "<Figure size 432x288 with 1 Axes>"
      ]
     },
     "metadata": {
      "needs_background": "light"
     },
     "output_type": "display_data"
    }
   ],
   "source": [
    "x = numpy.arange(1,8,0.1)\n",
    "y = [q(data_exp,xx) for xx in x]\n",
    "\n",
    "plt.plot(x,y)\n",
    "plt.xlabel(\"$\\\\tau$\")\n",
    "plt.ylabel(\"q($\\\\tau$)\")\n",
    "plt.show()"
   ]
  },
  {
   "cell_type": "markdown",
   "id": "be7666ee",
   "metadata": {},
   "source": [
    "Now lets look for the minimum of this curve by finding value of $\\tau$ for which $q^{\\prime}=0$ using the Newton method. \n",
    "\n",
    "We need to write down the derivatives of $q$.\n",
    "\n",
    "$$\n",
    "q^{\\prime} = \\frac{N}{\\tau}  -\\frac{1}{\\tau^{2}}\\sum_{i}^{N} t_{i} \n",
    "$$\n",
    "\n",
    "$$\n",
    "q^{\\prime\\prime} = -\\frac{N}{\\tau^{2}} + \\frac{2}{\\tau^{3}}\\sum_{i}^{N} t_{i} \n",
    "$$"
   ]
  },
  {
   "cell_type": "code",
   "execution_count": 16,
   "id": "3cfad69e",
   "metadata": {},
   "outputs": [],
   "source": [
    "# define the derivative of the -ve log-likelihood\n",
    "def dq(data, tau):\n",
    " N = len(data)\n",
    " return N/tau - sum(data)/(tau*tau)\n",
    "\n",
    "# define thei second derivative of the -ve log-likelihood\n",
    "def d2q(data, tau):\n",
    " N = len(data)\n",
    " return -N/(tau*tau) + 2*sum(data)/(tau*tau*tau)"
   ]
  },
  {
   "cell_type": "markdown",
   "id": "638ca6f8",
   "metadata": {},
   "source": [
    "We start by initialising the algorithm and setting a tolerance for when to stop searching."
   ]
  },
  {
   "cell_type": "code",
   "execution_count": 17,
   "id": "7d09d880",
   "metadata": {},
   "outputs": [
    {
     "name": "stdout",
     "output_type": "stream",
     "text": [
      "minimum at tau =  2.222246828655853 microseconds\n",
      "took 7 steps\n"
     ]
    }
   ],
   "source": [
    "# numerical minimum\n",
    "tol = 0.01\n",
    "init_tau = 3\n",
    "eps = 100\n",
    "\n",
    "# keep a record of the steps\n",
    "steps = []\n",
    "\n",
    "while eps > tol:\n",
    " steps.append([init_tau,q(data_exp,init_tau)])\n",
    " qp = dq(data_exp,init_tau)\n",
    " eps = abs(qp)\n",
    " init_tau = init_tau - qp/d2q(data_exp,init_tau)\n",
    " if init_tau < 0 : init_tau = 0.1\n",
    " \n",
    "\n",
    "numerical_min = init_tau\n",
    "print(\"minimum at tau = \",numerical_min, \"microseconds\")\n",
    "print(\"took %d steps\"%len(steps))"
   ]
  },
  {
   "cell_type": "markdown",
   "id": "b59b25e7",
   "metadata": {},
   "source": [
    "![Optimise](explh.gif)"
   ]
  },
  {
   "cell_type": "markdown",
   "id": "5b0af704",
   "metadata": {},
   "source": [
    "The muon lifetime is known to be $\\sim 2.2 \\mu s$. This is actually an  example of a maximum likelihood estimate for the muon lifetime. "
   ]
  },
  {
   "cell_type": "markdown",
   "id": "d1cb6487",
   "metadata": {},
   "source": [
    "<div style=\"background-color: #FFFACD; padding: 10px;\">\n",
    "\n",
    "## Gradient Descent \n",
    "\n",
    "</div>\n",
    "\n",
    "For functions with more than one variable, we  can use a gradient descent algorithm to find minima and maxima. These methods only rely on the first derivative (the gradient) to find the best direction to step in to find the minimum (or maximum). They don't use the second derivative because for a large number of parameters $n$, the number of terms in the second derivative grows as $n^{2}$ so this can get quite costly. \n",
    "\n",
    "There are  a number of subtle different algorithms which rely on gradient descent but we'll go over a simple example. The  way this works is as follows. \n",
    "\n",
    "First, we initialise the algorithm at some set of values for the parameters $\\boldsymbol{\\theta}_{init}$. Then we calcualte the gradient of the negative log-likelihood - $\\nabla(q)\\rvert_{\\boldsymbol{\\theta}_{init}}$ - at that initial point. The gradient defines a direction in which the negative log-likelihood changes most rapidly - this makes this direction a good direction to search for a smaller value of $q$.\n",
    "\n",
    "$$\n",
    "\\begin{align}\n",
    "\\nabla(q)\\rvert_{\\boldsymbol{\\theta}_{init}} &=   \n",
    "        \\begin{bmatrix}\n",
    "           \\frac{\\partial q}{\\partial \\theta_{1}} \\\\\n",
    "           \\frac{\\partial q}{\\partial \\theta_{2}} \\\\\n",
    "           \\vdots \\\\\n",
    "           \\frac{\\partial q}{\\partial \\theta_{n}}\n",
    "        \\end{bmatrix}_{\\boldsymbol{\\theta}=\\boldsymbol{\\theta}_{init}}\n",
    "\\end{align}   \n",
    "$$\n",
    "\n",
    "Since we want to *decrease* $q$, we need to move against this gradient. We step along the negative gradient direction until we find a new minimum - i.e we pick a step size $h$ and keep adding it to the initial point until the value of $q$ stops decreasing, \n",
    "\n",
    "\n",
    "$$\n",
    "\\boldsymbol{\\theta}_{k} = k\\times h - \\nabla(q)\\rvert_{\\boldsymbol{\\theta}_{init}} \n",
    "$$\n",
    "\n",
    "At the value of $k$ such that we're no longer decreasing $q$ (lets call it $k*$), we recalculate the gradient and find a new direction to go in. \n",
    "\n",
    "$$\n",
    "\\nabla(q)\\rvert_{\\boldsymbol{\\theta}_{k*}}\n",
    "$$\n",
    "\n",
    "We keep repeating this process until the modulus of the gradient gets close enough to zero (say is smaller than some tolerance $\\epsilon$, that means we keep iterating until, \n",
    "\n",
    "$$\n",
    "\\lvert \\nabla(q)\\rvert_{\\boldsymbol{\\theta}} \\rvert = \\sqrt{\\left(\\frac{\\partial q}{\\partial \\theta_{1}}\\right)^{2} + \\left(\\frac{\\partial q}{\\partial \\theta_{2}}\\right)^{2}+...+\\left(\\frac{\\partial q}{\\partial \\theta_{n}}\\right)^{2}}< \\epsilon\n",
    "$$\n",
    "\n",
    "Let's look at an example where $n=2$ and the data is assumed to be distributed as a Gaussian with parameters $\\mu$ and $\\sigma$. We want to find the maximum likelihood estimates $\\hat{\\mu}$ and $\\hat{\\sigma}$. \n",
    "\n",
    "We'll read in some data from the file `data_grad_desc.csv`. "
   ]
  },
  {
   "cell_type": "code",
   "execution_count": 18,
   "id": "47e58d90",
   "metadata": {},
   "outputs": [
    {
     "data": {
      "image/png": "[encoded data removed]",
      "text/plain": [
       "<Figure size 432x288 with 1 Axes>"
      ]
     },
     "metadata": {
      "needs_background": "light"
     },
     "output_type": "display_data"
    }
   ],
   "source": [
    "import numpy,pandas\n",
    "import matplotlib.pyplot as plt\n",
    "plt.rcParams.update({'font.size': 12})\n",
    "\n",
    "from scipy.stats import norm\n",
    "data = pandas.read_csv(\"data_grad_desc.csv\")\n",
    "data = data['values'].to_numpy()\n",
    "plt.hist(data,bins=20,histtype='step')\n",
    "plt.show()"
   ]
  },
  {
   "cell_type": "markdown",
   "id": "36da3e98",
   "metadata": {},
   "source": [
    "Let's see how different values of the Gaussian parameters $\\mu$ and $\\sigma$ compare when plotted on top of the data, this timee as a histogram of the density."
   ]
  },
  {
   "cell_type": "code",
   "execution_count": 19,
   "id": "9212ccee",
   "metadata": {},
   "outputs": [
    {
     "data": {
      "application/vnd.jupyter.widget-view+json": {
       "model_id": "985ebd9a96dd4a6ca664f0eaaab63a3e",
       "version_major": 2,
       "version_minor": 0
      },
      "text/plain": [
       "interactive(children=(FloatSlider(value=2.0, description='mu', max=3.0, min=1.0), FloatSlider(value=1.70000000…"
      ]
     },
     "metadata": {},
     "output_type": "display_data"
    },
    {
     "data": {
      "text/plain": [
       "<function __main__.plot_gaussian(mu, sigma)>"
      ]
     },
     "execution_count": 19,
     "metadata": {},
     "output_type": "execute_result"
    }
   ],
   "source": [
    "from scipy.stats import norm \n",
    "xrange = numpy.linspace(-2,6,100)\n",
    "\n",
    "def plot_gaussian(mu,sigma):\n",
    "    \n",
    "    plt.hist(data,bins=20,histtype='step',density=True)\n",
    "    plt.plot(xrange,norm.pdf(xrange,mu,sigma),color='red')\n",
    "    plt.xlabel(\"$X$\")\n",
    "    plt.ylim(0,0.4)\n",
    "\n",
    "\n",
    "ipywidgets.interact(plot_gaussian,mu=(1,3,0.1),sigma=(0.5,3,0.1))"
   ]
  },
  {
   "cell_type": "markdown",
   "id": "8762c2f3",
   "metadata": {},
   "source": [
    "Next we can define the negative log-likelihood and plot it as a function of $\\mu$ and $\\sigma$. Remember, the likelihood is just the product over the Gaussian probability density for each value in our dataset. \n",
    "\n",
    "The negative log-likelihood in this case is going to be (it's easy to show it) a sum over terms for all 101 points in our dataset. \n",
    "\n",
    "$$\n",
    "q(\\mu,\\sigma) = -\\ln(L(\\mu,\\sigma)) = \\sum_{i=1}^{101} \\left[ \\ln(\\sigma\\sqrt{2\\pi}) + \\frac{1}{2}\\frac{\\left(X_{i}-\\mu\\right)^{2}}{\\sigma^{2}} \\right]\n",
    "$$\n",
    "\n",
    "I've also subtracted the smallest value of the negative log-likelihood so that the numbers we have to deal with are more reasonable (of course this won't change where the minimum is). "
   ]
  },
  {
   "cell_type": "code",
   "execution_count": 20,
   "id": "097d08a0",
   "metadata": {},
   "outputs": [
    {
     "data": {
      "text/plain": [
       "Text(0, 0.5, '$\\\\sigma$')"
      ]
     },
     "execution_count": 20,
     "metadata": {},
     "output_type": "execute_result"
    },
    {
     "data": {
      "image/png": "[encoded data removed]",
      "text/plain": [
       "<Figure size 432x288 with 1 Axes>"
      ]
     },
     "metadata": {
      "needs_background": "light"
     },
     "output_type": "display_data"
    }
   ],
   "source": [
    "sqrt2pi = (2*numpy.pi)**0.5 \n",
    "\n",
    "def neg_log_likelihood(point):\n",
    "    mean=point[0]\n",
    "    sigma=point[1]\n",
    "    return sum([numpy.log(sqrt2pi*sigma) + 0.5*(x-mean)*(x-mean)/(sigma*sigma) for x in data])\n",
    "    \n",
    "def sum_neg_log_likelihood(mean,sigma):\n",
    "    return neg_log_likelihood([mean,sigma])\n",
    "\n",
    "mu    = numpy.linspace(1, 3, 70)\n",
    "sigma = numpy.linspace(0.5, 3, 70)\n",
    "\n",
    "X,Y = numpy.meshgrid(mu,sigma)\n",
    "\n",
    "logL = sum_neg_log_likelihood(X,Y)\n",
    "# These are large numbers so subtract the smallest one \n",
    "logL = logL-logL.min()\n",
    "\n",
    "contours = plt.contour(X, Y, logL, colors='black',levels=[0.1,0.5,2,4,8,10,20,30,50])\n",
    "plt.clabel(contours, inline=True, fontsize=8)\n",
    "plt.xlabel(\"$\\mu$\")\n",
    "plt.ylabel(\"$\\sigma$\")"
   ]
  },
  {
   "cell_type": "markdown",
   "id": "c400b33b",
   "metadata": {},
   "source": [
    "Next we define the gradient and run through our optimisation. Each step is given by the function `gradient_optimise_step` and it returns a new point and the magnitude of the gradient at that point. "
   ]
  },
  {
   "cell_type": "code",
   "execution_count": 21,
   "id": "f6e73982",
   "metadata": {},
   "outputs": [
    {
     "name": "stdout",
     "output_type": "stream",
     "text": [
      "Minimum found at -  [1.96835639 1.56718272]\n"
     ]
    }
   ],
   "source": [
    "def grad_nll(point):\n",
    "    mean = point[0]\n",
    "    sigma = point[1]\n",
    "    ddmu    = sum([mean/(sigma*sigma) - x/(sigma*sigma) for x in data])\n",
    "    ddsigma = sum([1./sigma - (1./(sigma*sigma*sigma))*(x-mean)*(x-mean) for x in data])\n",
    "    return numpy.array([ddmu,ddsigma])\n",
    "\n",
    "def modulus(point):\n",
    "    return (point[0]**2+point[1]**2)**0.5\n",
    "\n",
    "# inititial point -> mu=1.25, sigma=2.5\n",
    "init = numpy.array([1.25,2.5])\n",
    "grad_size = modulus(grad_nll(init))\n",
    "\n",
    "def gradient_optimise_step(init):\n",
    "\n",
    "  # 1. find the gradient at this point \n",
    "  vec = grad_nll(init)\n",
    "\n",
    "  # 2. Do a very quick line search to find where the minimum is along the line (pick step size of 0.001)\n",
    "  min_nll = neg_log_likelihood(init)\n",
    "  start = init  \n",
    "\n",
    "  for i in range(10):\n",
    "    new_point = start-0.001*vec\n",
    "    new_nll   = neg_log_likelihood(new_point)\n",
    "    if new_nll < min_nll:\n",
    "      min_nll =  new_nll\n",
    "      start = new_point\n",
    "      #print(\" line search -> \", new_point,new_nll)\n",
    "    else: break      \n",
    "  return new_point, modulus(grad_nll(new_point))\n",
    "\n",
    "step = []\n",
    "step.append(init)\n",
    "while grad_size > 1:\n",
    "  new,grad_size = gradient_optimise_step(init)\n",
    "  init = new \n",
    "  step.append(init)\n",
    "\n",
    "print(\"Minimum found at - \",init)"
   ]
  },
  {
   "cell_type": "markdown",
   "id": "7ad8f92e",
   "metadata": {},
   "source": [
    "![Grad](grad.gif)"
   ]
  },
  {
   "cell_type": "markdown",
   "id": "01f43e36",
   "metadata": {},
   "source": [
    "Of course, we don't need to write optimisation routines ourselves since there's many good packages out there that have done this for us. For the rest of this course, we'll use the `scipy` and `iminuit` packages for optimisation problems. "
   ]
  },
  {
   "cell_type": "markdown",
   "id": "505f4baa",
   "metadata": {},
   "source": [
    "<div style=\"background-color: #FFFACD; padding: 10px;\">\n",
    "\n",
    "# Dimensionality Reduction\n",
    "</div>\n",
    "Dimension reduction is a fundamental step in many data analysis and machine learning tasks. It involves reducing the number of input variables in a dataset. When dealing with high dimensional data, you might want to reduce the dimensionality to simplify the model, reduce the computation time, or remove multicollinearity.\n",
    "\n",
    "One common technique for dimension reduction is Principal Component Analysis (PCA), PCA is a technique used to emphasize variation and bring out strong patterns in a dataset. It's often used to make data easy to explore and visualize.\n",
    "\n",
    "Here's a simple example of how to perform PCA using Python's Scikit-learn:\n"
   ]
  },
  {
   "cell_type": "code",
   "execution_count": 22,
   "id": "0142a8ae-b1c3-4e0f-8e37-87b339750fcc",
   "metadata": {},
   "outputs": [
    {
     "name": "stdout",
     "output_type": "stream",
     "text": [
      "Original number of features: 4\n",
      "Reduced number of features: 3\n"
     ]
    },
    {
     "data": {
      "image/png": "[encoded data removed]",
      "text/plain": [
       "<Figure size 432x288 with 1 Axes>"
      ]
     },
     "metadata": {
      "needs_background": "light"
     },
     "output_type": "display_data"
    }
   ],
   "source": [
    "from sklearn.decomposition import PCA\n",
    "from sklearn import datasets\n",
    "import matplotlib.pyplot as plt\n",
    "\n",
    "# Load the iris dataset\n",
    "iris = datasets.load_iris()\n",
    "X = iris.data\n",
    "y = iris.target\n",
    "\n",
    "# Create a PCA that will retain 99% of variance\n",
    "pca = PCA(n_components=0.99, whiten=True)\n",
    "\n",
    "# Conduct PCA\n",
    "X_pca = pca.fit_transform(X)\n",
    "\n",
    "# Show results\n",
    "print('Original number of features:', X.shape[1])\n",
    "print('Reduced number of features:', X_pca.shape[1])\n",
    "\n",
    "# Visualise the data in the two-dimensional space\n",
    "plt.figure(figsize=(6, 4))\n",
    "plt.scatter(X_pca[:, 0], X_pca[:, 1], c=y)\n",
    "plt.xlabel('First Principal Component')\n",
    "plt.ylabel('Second Principal Component')\n",
    "plt.show()\n"
   ]
  },
  {
   "cell_type": "markdown",
   "id": "20cc8a8b",
   "metadata": {},
   "source": [
    "In the code above, we first import the necessary libraries and load the iris dataset. We then create a PCA object that will retain **99% of the variance** (Remind yourself of why retaining variance is important in performing dimension reduction). We fit and transform the data using this PCA object. Finally, we print the original and reduced number of features and visualize the data in the two-dimensional space.\n",
    "\n",
    "For more information about PCA and other dimension reduction techniques, you can refer to the Scikit-learn documentation: Scikit-learn: [PCA](https://scikit-learn.org/stable/modules/generated/sklearn.decomposition.PCA.html).\n",
    "\n",
    "\n"
   ]
  },
  {
   "cell_type": "markdown",
   "id": "673f32ea",
   "metadata": {},
   "source": [
    "<div style=\"background-color: #FFFACD; padding: 10px;\">\n",
    "\n",
    "# SVD Visualisation\n",
    "</div>\n",
    "\n",
    "$A = USV^T$ is the original matrix\n",
    "\n",
    "\n",
    "$U$ is a matrix whose columns are the left singular vectors of $A$.\n",
    "$S$ (often depicted as Σ) is a diagonal matrix containing the singular values of $A$.\n",
    "$V^T$ is the transpose of a matrix whose columns are the right singular vectors of $A$.\n",
    "\n",
    "The singular values in $S$ are the square roots of the eigenvalues of the original matrix $A$. The singular vectors are a set of orthogonal vectors in the domain and range of the original matrix $A$.\n"
   ]
  },
  {
   "cell_type": "code",
   "execution_count": 23,
   "id": "80044923",
   "metadata": {},
   "outputs": [
    {
     "data": {
      "application/vnd.jupyter.widget-view+json": {
       "model_id": "22b608ac4ed14b78b6f50c717baa628d",
       "version_major": 2,
       "version_minor": 0
      },
      "text/plain": [
       "interactive(children=(IntSlider(value=5, description='num_singular_values', max=10, min=1), Output()), _dom_cl…"
      ]
     },
     "metadata": {},
     "output_type": "display_data"
    }
   ],
   "source": [
    "import numpy as np\n",
    "import matplotlib.pyplot as plt\n",
    "from ipywidgets import interact, IntSlider\n",
    "from scipy.linalg import svd\n",
    "\n",
    "np.random.seed(0)  # For reproducible results\n",
    "\n",
    "A = np.random.rand(10, 10)\n",
    "\n",
    "U, s, Vt = svd(A)\n",
    "\n",
    "\n",
    "def plot_svd(num_singular_values):\n",
    "    S = np.zeros((10, 10))\n",
    "    S[:num_singular_values, :num_singular_values] = np.diag(s[:num_singular_values])\n",
    "    \n",
    "    A_approx = U @ S @ Vt  # Compute approximation of A using reduced singular values\n",
    "\n",
    "    fig, axs = plt.subplots(1, 2, figsize=(10, 5))\n",
    "\n",
    "    axs[0].imshow(A, cmap='viridis')\n",
    "    axs[0].set_title('Original Matrix')\n",
    "\n",
    "    axs[1].imshow(A_approx, cmap='viridis')\n",
    "    axs[1].set_title(f'Approximation using {num_singular_values} singular values')\n",
    "\n",
    "    for ax in axs:\n",
    "        ax.set_xticks([])\n",
    "        ax.set_yticks([])\n",
    "\n",
    "    plt.show()\n",
    "\n",
    "\n",
    "interact(plot_svd, num_singular_values=IntSlider(min=1, max=10, step=1, value=5));\n"
   ]
  },
  {
   "cell_type": "markdown",
   "id": "5b07bc0d",
   "metadata": {},
   "source": [
    "<div style=\"background-color: #FFFACD; padding: 10px;\">\n",
    "\n",
    "# K-Nearest Neighbours (k-NN)\n",
    "\n",
    "</div>\n",
    "\n",
    "The k-NN algorithm can be used for both classification and regression. It starts with calculating the distance of a new point $x$ to all other points in the data-set. It then finds the $k$ nearest points closest to $x$ and for:\n",
    "\n",
    "* **classification** we assign the new data point $x$ to the majority class of its $k$-nearest neighbours. For example, if our goal is to classify cats or dogs and the three nearest data-points ($k=3$) to $x$ are classified as cat, cat, dog, then our new point $x$ would be classified as cat. However, if look at the 10 nearest data points ($k=10$) to $x$ and we find now that 4 are cat and 6 are dog, $x$ would be classified as dog.\n",
    "\n",
    "* **regression** we see labels as continuous variables and assign the label of data point $x$ as the mean of the labels of its k-nearest neighbours.\n",
    "\n",
    "A commonly used distance is the (classic) Euclidean distance\n",
    "\\begin{equation}\n",
    "d(\\bold{p},\\bold{q})=\\sqrt{\\sum_{i=1}^{D}\\left(q_{i}-p_{i}\\right)^{2}},\n",
    "\\end{equation}\n",
    "where $\\bold{p}$ and $\\bold{q}$ are two points in our $D$-dimensional Euclidean space. Other distances can be chosen interchangably, depending on the problem at hand. \n",
    "\n",
    "A helpful resource for the different types of distances and situations where they are used can be found [here](https://www.ibm.com/topics/knn#:~:text=The%20k%2Dnearest%20neighbors%20algorithm%2C%20also%20known%20as%20KNN%20or,of%20an%20individual%20data%20point.)."
   ]
  },
  {
   "cell_type": "markdown",
   "id": "03f31876",
   "metadata": {},
   "source": [
    "# [Instance-Based Learning](https://vitalflux.com/instance-based-learning-model-based-learning-differences/#:~:text=Instance%2Dbased%20learning%20(also%20known,easy%20to%20implement%20and%20understand.))\n",
    "\n",
    "**Instance-based learning** (also known as memory-based learning or lazy learning) involves memorising training data in order to make predictions about future data points. This approach doesn’t require any prior knowledge or assumptions about the data, which makes it easy to implement and understand. \n",
    "\n",
    "In instance-based learning, the system learns the training data by heart. At the time of making prediction, the system uses similarity measure and compare the new cases with the learned data. K-nearest neighbors (KNN) is an algorithm that belongs to the instance-based learning class of algorithms.\n",
    "\n",
    "![KNN - img from homl](instance-based.jpg)\n",
    "\n",
    "In addition to providing accurate predictions, one major advantage of using KNN over other forms of supervised learning algorithms is its versatility; KNN can be used with both numeric datasets – such as when predicting house prices – and categorical datasets – such as when predicting whether a website visitor will purchase a product or not.\n"
   ]
  },
  {
   "cell_type": "markdown",
   "id": "1f019978",
   "metadata": {},
   "source": [
    "# [Model-Based Learning](https://vitalflux.com/instance-based-learning-model-based-learning-differences/#:~:text=Instance%2Dbased%20learning%20(also%20known,easy%20to%20implement%20and%20understand.))\n",
    "\n",
    "Model-based learning (also known as structure-based or eager learning) takes a different approach by constructing models from the training data that can generalize better than instance-based methods. This involves using algorithms like linear regression, logistic regression, random forest, etc. trees to create an underlying model from which predictions can be made for new data points. The picture below represents how the prediction about the class is decided based on boundary learned from training data rather than comparing with learned data set based on similarity measures.\n",
    "\n",
    "![model-based - img from homl](model-based.png)"
   ]
  },
  {
   "cell_type": "markdown",
   "id": "078208d9",
   "metadata": {},
   "source": []
  }
 ],
 "metadata": {
  "kernelspec": {
   "display_name": "Python 3.9.12 ('base')",
   "language": "python",
   "name": "python3"
  },
  "language_info": {
   "codemirror_mode": {
    "name": "ipython",
    "version": 3
   },
   "file_extension": ".py",
   "mimetype": "text/x-python",
   "name": "python",
   "nbconvert_exporter": "python",
   "pygments_lexer": "ipython3",
   "version": "3.9.12"
  },
  "vscode": {
   "interpreter": {
    "hash": "9df1b77b0caf646f19509570eac5ef5a3592ebd6cb99175979cb74b7b24a8bf8"
   }
  }
 },
 "nbformat": 4,
 "nbformat_minor": 5
}
