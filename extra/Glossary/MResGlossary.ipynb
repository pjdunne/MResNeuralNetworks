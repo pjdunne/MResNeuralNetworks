{
 "cells": [
  {
   "cell_type": "markdown",
   "id": "cac4c803",
   "metadata": {},
   "source": [
    "<div style=\"background-color: #FFFACD; padding: 10px;\">\n",
    "\n",
    "# Machine Learning MRes Glossary"
   ]
  },
  {
   "cell_type": "markdown",
   "id": "25c02f25",
   "metadata": {},
   "source": [
    "<div style=\"background-color: #FFFACD; padding: 10px;\">\n",
    "\n",
    "## Index:\n",
    "\n",
    "</div>\n",
    "\n",
    "*Optional knowledge to the course are labeled with a star(\\*)* \n",
    "\n",
    "- [Types of Machine Learning](#types-of-machine-learning)\n",
    "- [Hyperparameters](#Hyperparameters)\n",
    "- [Overfitting & Underfitting ](U&O)\n",
    "- [Bias vs. Variance](#B&V)\n",
    "- [Bias and Error](#B&E)\n",
    "- [Regression](#regression)\n",
    "- [Cost Function](#cost-function)\n",
    "- [Loss Function](#loss-function)\n",
    "- [Least Squares](#least-squares)\n",
    "- [Classification](#classification)\n",
    "- [Gradient-Based Optimisation](#gradient-based-optimisation)\n",
    "    - [Newton Method](#Newton-Method)\n",
    "    - [Gradient Descent](#gradient-descent)\n",
    "- [Dimensionality Reduction](#dimensionality-reduction)\n",
    "- [SVD Visualisation](#svd-visualisation)\n",
    "- [KNN](#KNN)\n",
    "- [Instance-Based Learning](#Instance-Based-Learning)\n",
    "- [Model-Based Learning](#Model-Based-Learning)\n",
    "- [Activation Function](#Activation-Function)\n",
    "    - [Activation Function Overview](#Activation-Function-Overview)\n",
    "- [Neural Network](#NN)\n",
    "    - [Forward and Backward Propagation](#FBP)\n",
    "    - [Weight](#Weight)\n",
    "    - [Learning rate](#Learning-rate)\n",
    "- [Types of Neural Networks](#TNN)\n",
    "    - [ANN](#ANN)\n",
    "    - [CNN](#CNN)\n",
    "    - [GNN*](#GNN)\n",
    "    - [RNN*](#RNN)\n",
    "\n",
    "\n",
    "*Refer to HOML for additional information*"
   ]
  },
  {
   "cell_type": "markdown",
   "id": "fa433bc3",
   "metadata": {},
   "source": [
    "This is a notebook that groups important concepts included within the ML course. Keywords are included within the index list (open the sections for interactive code).\n",
    "\n",
    "Run the cells below:"
   ]
  },
  {
   "cell_type": "code",
   "execution_count": 1,
   "id": "756290d2",
   "metadata": {},
   "outputs": [
    {
     "name": "stdout",
     "output_type": "stream",
     "text": [
      "Requirement already satisfied: ipywidgets in /Users/jingchaoyi/opt/anaconda3/lib/python3.9/site-packages (7.6.5)\n",
      "Requirement already satisfied: ipykernel>=4.5.1 in /Users/jingchaoyi/opt/anaconda3/lib/python3.9/site-packages (from ipywidgets) (6.9.1)\n",
      "Requirement already satisfied: ipython-genutils~=0.2.0 in /Users/jingchaoyi/opt/anaconda3/lib/python3.9/site-packages (from ipywidgets) (0.2.0)\n",
      "Requirement already satisfied: traitlets>=4.3.1 in /Users/jingchaoyi/opt/anaconda3/lib/python3.9/site-packages (from ipywidgets) (5.1.1)\n",
      "Requirement already satisfied: nbformat>=4.2.0 in /Users/jingchaoyi/opt/anaconda3/lib/python3.9/site-packages (from ipywidgets) (5.3.0)\n",
      "Requirement already satisfied: widgetsnbextension~=3.5.0 in /Users/jingchaoyi/opt/anaconda3/lib/python3.9/site-packages (from ipywidgets) (3.5.2)\n",
      "Requirement already satisfied: ipython>=4.0.0 in /Users/jingchaoyi/opt/anaconda3/lib/python3.9/site-packages (from ipywidgets) (8.2.0)\n",
      "Requirement already satisfied: jupyterlab-widgets>=1.0.0 in /Users/jingchaoyi/opt/anaconda3/lib/python3.9/site-packages (from ipywidgets) (1.0.0)\n",
      "Requirement already satisfied: debugpy<2.0,>=1.0.0 in /Users/jingchaoyi/opt/anaconda3/lib/python3.9/site-packages (from ipykernel>=4.5.1->ipywidgets) (1.5.1)\n",
      "Requirement already satisfied: jupyter-client<8.0 in /Users/jingchaoyi/opt/anaconda3/lib/python3.9/site-packages (from ipykernel>=4.5.1->ipywidgets) (6.1.12)\n",
      "Requirement already satisfied: tornado<7.0,>=4.2 in /Users/jingchaoyi/opt/anaconda3/lib/python3.9/site-packages (from ipykernel>=4.5.1->ipywidgets) (6.1)\n",
      "Requirement already satisfied: matplotlib-inline<0.2.0,>=0.1.0 in /Users/jingchaoyi/opt/anaconda3/lib/python3.9/site-packages (from ipykernel>=4.5.1->ipywidgets) (0.1.2)\n",
      "Requirement already satisfied: nest-asyncio in /Users/jingchaoyi/opt/anaconda3/lib/python3.9/site-packages (from ipykernel>=4.5.1->ipywidgets) (1.5.5)\n",
      "Requirement already satisfied: appnope in /Users/jingchaoyi/opt/anaconda3/lib/python3.9/site-packages (from ipykernel>=4.5.1->ipywidgets) (0.1.2)\n",
      "Requirement already satisfied: backcall in /Users/jingchaoyi/opt/anaconda3/lib/python3.9/site-packages (from ipython>=4.0.0->ipywidgets) (0.2.0)\n",
      "Requirement already satisfied: decorator in /Users/jingchaoyi/opt/anaconda3/lib/python3.9/site-packages (from ipython>=4.0.0->ipywidgets) (5.1.1)\n",
      "Requirement already satisfied: jedi>=0.16 in /Users/jingchaoyi/opt/anaconda3/lib/python3.9/site-packages (from ipython>=4.0.0->ipywidgets) (0.18.1)\n",
      "Requirement already satisfied: pickleshare in /Users/jingchaoyi/opt/anaconda3/lib/python3.9/site-packages (from ipython>=4.0.0->ipywidgets) (0.7.5)\n",
      "Requirement already satisfied: prompt-toolkit!=3.0.0,!=3.0.1,<3.1.0,>=2.0.0 in /Users/jingchaoyi/opt/anaconda3/lib/python3.9/site-packages (from ipython>=4.0.0->ipywidgets) (3.0.20)\n",
      "Requirement already satisfied: pygments>=2.4.0 in /Users/jingchaoyi/opt/anaconda3/lib/python3.9/site-packages (from ipython>=4.0.0->ipywidgets) (2.11.2)\n",
      "Requirement already satisfied: setuptools>=18.5 in /Users/jingchaoyi/opt/anaconda3/lib/python3.9/site-packages (from ipython>=4.0.0->ipywidgets) (61.2.0)\n",
      "Requirement already satisfied: stack-data in /Users/jingchaoyi/opt/anaconda3/lib/python3.9/site-packages (from ipython>=4.0.0->ipywidgets) (0.2.0)\n",
      "Requirement already satisfied: pexpect>4.3 in /Users/jingchaoyi/opt/anaconda3/lib/python3.9/site-packages (from ipython>=4.0.0->ipywidgets) (4.8.0)\n",
      "Requirement already satisfied: jsonschema>=2.6 in /Users/jingchaoyi/opt/anaconda3/lib/python3.9/site-packages (from nbformat>=4.2.0->ipywidgets) (4.4.0)\n",
      "Requirement already satisfied: jupyter-core in /Users/jingchaoyi/opt/anaconda3/lib/python3.9/site-packages (from nbformat>=4.2.0->ipywidgets) (4.9.2)\n",
      "Requirement already satisfied: fastjsonschema in /Users/jingchaoyi/opt/anaconda3/lib/python3.9/site-packages (from nbformat>=4.2.0->ipywidgets) (2.15.1)\n",
      "Requirement already satisfied: notebook>=4.4.1 in /Users/jingchaoyi/opt/anaconda3/lib/python3.9/site-packages (from widgetsnbextension~=3.5.0->ipywidgets) (6.4.8)\n",
      "Requirement already satisfied: parso<0.9.0,>=0.8.0 in /Users/jingchaoyi/opt/anaconda3/lib/python3.9/site-packages (from jedi>=0.16->ipython>=4.0.0->ipywidgets) (0.8.3)\n",
      "Requirement already satisfied: attrs>=17.4.0 in /Users/jingchaoyi/opt/anaconda3/lib/python3.9/site-packages (from jsonschema>=2.6->nbformat>=4.2.0->ipywidgets) (21.4.0)\n",
      "Requirement already satisfied: pyrsistent!=0.17.0,!=0.17.1,!=0.17.2,>=0.14.0 in /Users/jingchaoyi/opt/anaconda3/lib/python3.9/site-packages (from jsonschema>=2.6->nbformat>=4.2.0->ipywidgets) (0.18.0)\n",
      "Requirement already satisfied: pyzmq>=13 in /Users/jingchaoyi/opt/anaconda3/lib/python3.9/site-packages (from jupyter-client<8.0->ipykernel>=4.5.1->ipywidgets) (22.3.0)\n",
      "Requirement already satisfied: python-dateutil>=2.1 in /Users/jingchaoyi/opt/anaconda3/lib/python3.9/site-packages (from jupyter-client<8.0->ipykernel>=4.5.1->ipywidgets) (2.8.2)\n",
      "Requirement already satisfied: jinja2 in /Users/jingchaoyi/opt/anaconda3/lib/python3.9/site-packages (from notebook>=4.4.1->widgetsnbextension~=3.5.0->ipywidgets) (2.11.3)\n",
      "Requirement already satisfied: argon2-cffi in /Users/jingchaoyi/opt/anaconda3/lib/python3.9/site-packages (from notebook>=4.4.1->widgetsnbextension~=3.5.0->ipywidgets) (21.3.0)\n",
      "Requirement already satisfied: nbconvert in /Users/jingchaoyi/opt/anaconda3/lib/python3.9/site-packages (from notebook>=4.4.1->widgetsnbextension~=3.5.0->ipywidgets) (6.4.4)\n",
      "Requirement already satisfied: Send2Trash>=1.8.0 in /Users/jingchaoyi/opt/anaconda3/lib/python3.9/site-packages (from notebook>=4.4.1->widgetsnbextension~=3.5.0->ipywidgets) (1.8.0)\n",
      "Requirement already satisfied: terminado>=0.8.3 in /Users/jingchaoyi/opt/anaconda3/lib/python3.9/site-packages (from notebook>=4.4.1->widgetsnbextension~=3.5.0->ipywidgets) (0.13.1)\n",
      "Requirement already satisfied: prometheus-client in /Users/jingchaoyi/opt/anaconda3/lib/python3.9/site-packages (from notebook>=4.4.1->widgetsnbextension~=3.5.0->ipywidgets) (0.13.1)\n",
      "Requirement already satisfied: ptyprocess>=0.5 in /Users/jingchaoyi/opt/anaconda3/lib/python3.9/site-packages (from pexpect>4.3->ipython>=4.0.0->ipywidgets) (0.7.0)\n",
      "Requirement already satisfied: wcwidth in /Users/jingchaoyi/opt/anaconda3/lib/python3.9/site-packages (from prompt-toolkit!=3.0.0,!=3.0.1,<3.1.0,>=2.0.0->ipython>=4.0.0->ipywidgets) (0.2.5)\n",
      "Requirement already satisfied: executing in /Users/jingchaoyi/opt/anaconda3/lib/python3.9/site-packages (from stack-data->ipython>=4.0.0->ipywidgets) (0.8.3)\n",
      "Requirement already satisfied: asttokens in /Users/jingchaoyi/opt/anaconda3/lib/python3.9/site-packages (from stack-data->ipython>=4.0.0->ipywidgets) (2.0.5)\n",
      "Requirement already satisfied: pure-eval in /Users/jingchaoyi/opt/anaconda3/lib/python3.9/site-packages (from stack-data->ipython>=4.0.0->ipywidgets) (0.2.2)\n",
      "Requirement already satisfied: six>=1.5 in /Users/jingchaoyi/opt/anaconda3/lib/python3.9/site-packages (from python-dateutil>=2.1->jupyter-client<8.0->ipykernel>=4.5.1->ipywidgets) (1.16.0)\n",
      "Requirement already satisfied: argon2-cffi-bindings in /Users/jingchaoyi/opt/anaconda3/lib/python3.9/site-packages (from argon2-cffi->notebook>=4.4.1->widgetsnbextension~=3.5.0->ipywidgets) (21.2.0)\n",
      "Requirement already satisfied: MarkupSafe>=0.23 in /Users/jingchaoyi/opt/anaconda3/lib/python3.9/site-packages (from jinja2->notebook>=4.4.1->widgetsnbextension~=3.5.0->ipywidgets) (2.0.1)\n",
      "Requirement already satisfied: mistune<2,>=0.8.1 in /Users/jingchaoyi/opt/anaconda3/lib/python3.9/site-packages (from nbconvert->notebook>=4.4.1->widgetsnbextension~=3.5.0->ipywidgets) (0.8.4)\n",
      "Requirement already satisfied: jupyterlab-pygments in /Users/jingchaoyi/opt/anaconda3/lib/python3.9/site-packages (from nbconvert->notebook>=4.4.1->widgetsnbextension~=3.5.0->ipywidgets) (0.1.2)\n",
      "Requirement already satisfied: entrypoints>=0.2.2 in /Users/jingchaoyi/opt/anaconda3/lib/python3.9/site-packages (from nbconvert->notebook>=4.4.1->widgetsnbextension~=3.5.0->ipywidgets) (0.4)\n",
      "Requirement already satisfied: bleach in /Users/jingchaoyi/opt/anaconda3/lib/python3.9/site-packages (from nbconvert->notebook>=4.4.1->widgetsnbextension~=3.5.0->ipywidgets) (4.1.0)\n",
      "Requirement already satisfied: pandocfilters>=1.4.1 in /Users/jingchaoyi/opt/anaconda3/lib/python3.9/site-packages (from nbconvert->notebook>=4.4.1->widgetsnbextension~=3.5.0->ipywidgets) (1.5.0)\n",
      "Requirement already satisfied: testpath in /Users/jingchaoyi/opt/anaconda3/lib/python3.9/site-packages (from nbconvert->notebook>=4.4.1->widgetsnbextension~=3.5.0->ipywidgets) (0.5.0)\n",
      "Requirement already satisfied: defusedxml in /Users/jingchaoyi/opt/anaconda3/lib/python3.9/site-packages (from nbconvert->notebook>=4.4.1->widgetsnbextension~=3.5.0->ipywidgets) (0.7.1)\n",
      "Requirement already satisfied: beautifulsoup4 in /Users/jingchaoyi/opt/anaconda3/lib/python3.9/site-packages (from nbconvert->notebook>=4.4.1->widgetsnbextension~=3.5.0->ipywidgets) (4.11.1)\n",
      "Requirement already satisfied: nbclient<0.6.0,>=0.5.0 in /Users/jingchaoyi/opt/anaconda3/lib/python3.9/site-packages (from nbconvert->notebook>=4.4.1->widgetsnbextension~=3.5.0->ipywidgets) (0.5.13)\n",
      "Requirement already satisfied: cffi>=1.0.1 in /Users/jingchaoyi/opt/anaconda3/lib/python3.9/site-packages (from argon2-cffi-bindings->argon2-cffi->notebook>=4.4.1->widgetsnbextension~=3.5.0->ipywidgets) (1.15.0)\n",
      "Requirement already satisfied: soupsieve>1.2 in /Users/jingchaoyi/opt/anaconda3/lib/python3.9/site-packages (from beautifulsoup4->nbconvert->notebook>=4.4.1->widgetsnbextension~=3.5.0->ipywidgets) (2.3.1)\n",
      "Requirement already satisfied: packaging in /Users/jingchaoyi/opt/anaconda3/lib/python3.9/site-packages (from bleach->nbconvert->notebook>=4.4.1->widgetsnbextension~=3.5.0->ipywidgets) (21.3)\n",
      "Requirement already satisfied: webencodings in /Users/jingchaoyi/opt/anaconda3/lib/python3.9/site-packages (from bleach->nbconvert->notebook>=4.4.1->widgetsnbextension~=3.5.0->ipywidgets) (0.5.1)\n",
      "Requirement already satisfied: pycparser in /Users/jingchaoyi/opt/anaconda3/lib/python3.9/site-packages (from cffi>=1.0.1->argon2-cffi-bindings->argon2-cffi->notebook>=4.4.1->widgetsnbextension~=3.5.0->ipywidgets) (2.21)\n",
      "Requirement already satisfied: pyparsing!=3.0.5,>=2.0.2 in /Users/jingchaoyi/opt/anaconda3/lib/python3.9/site-packages (from packaging->bleach->nbconvert->notebook>=4.4.1->widgetsnbextension~=3.5.0->ipywidgets) (3.0.4)\n",
      "Note: you may need to restart the kernel to use updated packages.\n"
     ]
    }
   ],
   "source": [
    "pip install ipywidgets"
   ]
  },
  {
   "cell_type": "markdown",
   "id": "9afab7ba",
   "metadata": {},
   "source": [
    "<div style=\"background-color: #FFFACD; padding: 10px;\">\n",
    "\n",
    "# Types of Machine Learning Systems\n",
    "\n",
    "There are so many different types of Machine Learning systems that it is useful to classify them in broad categories based on:\n",
    "• Whether or not they are trained with human supervision (supervised, unsuper‐ vised, semisupervised, and Reinforcement Learning)\n",
    "• Whether or not they can learn incrementally on the fly (online versus batch learning)\n",
    "• Whether they work by simply comparing new data points to known data points, or instead detect patterns in the training data and build a predictive model, much like scientists do (instance-based versus model-based learning)\n",
    "These criteria are not exclusive; you can combine them in any way you like. For example, a state-of-the-art spam filter may learn on the fly using a deep neural net‐ work model trained using examples of spam and ham; this makes it an online, model- based, supervised learning system.\n",
    "\n",
    "Refer to pg 36 onwards in HOML"
   ]
  },
  {
   "cell_type": "markdown",
   "id": "be193c27",
   "metadata": {},
   "source": [
    "<div style=\"background-color: #FFFACD; padding: 10px;\">\n",
    "\n",
    "# Hyperparameters\n",
    "\n",
    "</div>\n",
    "\n",
    "Hyperparameters are parameters whose values control the learning process and determine the values of model parameters that a learning algorithm ends up learning. The prefix **‘hyper_’** suggests that they are **‘top-level’** parameters that control the learning process and the model parameters that result from it.\n",
    "\n",
    "In this example:\n",
    "```python \n",
    "# Creating a Random Forest Classifier object\n",
    "rf = RandomForestClassifier(n_estimators=100, max_depth=10)\n",
    "\n",
    "# n_estimators and max_depth are hyperparameters\n",
    "\n",
    "# Training the model on the training data\n",
    "rf.fit(X_train, y_train)\n",
    "\n",
    "# Predicting on the test data\n",
    "y_pred = rf.predict(X_test)\n",
    "```\n",
    "In this example, `n_estimators` and `max_depth` are hyperparameters of the Random Forest Classifier. They are set before training the model and determine the number of decision trees to be used (n_estimators) and the maximum depth of each tree (max_depth)."
   ]
  },
  {
   "cell_type": "markdown",
   "id": "5f9a6b7d",
   "metadata": {},
   "source": [
    "<div style=\"background-color: #FFFACD; padding: 10px;\">\n",
    "\n",
    "# Overfitting and Underfitting (homl) \n",
    "\n",
    "</div>\n",
    "\n",
    "**Overfitting** happens when the model is too complex relative to the amount and noisiness of the training data. The possible solutions are:\n",
    "- To simplify the model by selecting one with fewer parameters (e.g., a linear model rather than a high-degree polynomial model), by reducing the number of attributes in the training data or by constraining the model\n",
    "- To gather more training data\n",
    "- To reduce the noise in the training data (e.g., fix data errors and remove outliers)\n",
    "\n",
    "Constraining a model to make it simpler and reduce the risk of overfitting is called regularisation. For example, the linear model we defined earlier has two parameters, $θ_0$ and $θ_1$. This gives the learning algorithm two degrees of freedom to adapt the model to the training data: it can tweak both the height ($θ_0$) and the slope ($θ_1$) of the line. If we forced $θ_1 = 0$, the algorithm would have only one degree of freedom and would have a much harder time fitting the data properly: all it could do is move the line up or down to get as close as possible to the training instances, so it would end up around the mean. A very simple model indeed! If we allow the algorithm to modify $θ_1$ but we force it to keep it small, then the learning algorithm will effectively have some‐ where in between one and two degrees of freedom. It will produce a simpler model than with two degrees of freedom, but more complex than with just one. You want to find the right balance between fitting the training data perfectly and keeping the model simple enough to ensure that it will generalise well.\n",
    "\n",
    "As you might guess, **underfitting** is the opposite of **overfitting**: it occurs when your model is too simple to learn the underlying structure of the data. For example, a lin‐ ear model of life satisfaction is prone to underfit; reality is just more complex than the model, so its predictions are bound to be inaccurate, even on the training examples.\n",
    "The main options to fix this problem are:\n",
    "• Selecting a more powerful model, with more parameters\n",
    "• Feeding better features to the learning algorithm (feature engineering)\n",
    "• Reducing the constraints on the model (e.g., reducing the regularisation hyper‐ parameter)\n",
    "\n",
    "In this code, 30 samples were generated from a sine function with some added noise. Then a polynomial features and a linear regression model are created for three different degrees: 1 (underfitting), 4 (good fit), and 15 (overfitting). The graph will show the samples, the true function, and the predicted function for each model. It will also display the mean squared error (MSE) for each model as the title, which indicates how well the model fits the data."
   ]
  },
  {
   "cell_type": "code",
   "execution_count": 2,
   "id": "2ff48ec8",
   "metadata": {},
   "outputs": [
    {
     "data": {
      "image/png": "[encoded data removed]",
      "text/plain": [
       "<Figure size 1008x360 with 3 Axes>"
      ]
     },
     "metadata": {},
     "output_type": "display_data"
    }
   ],
   "source": [
    "# visual repersentation of over and underfitting\n",
    "import numpy as np\n",
    "import matplotlib.pyplot as plt\n",
    "from sklearn.pipeline import Pipeline\n",
    "from sklearn.preprocessing import PolynomialFeatures\n",
    "from sklearn.linear_model import LinearRegression\n",
    "from sklearn.model_selection import cross_val_score\n",
    "\n",
    "def true_fun(X):\n",
    "    return np.sin(1.5 * np.pi * X)\n",
    "\n",
    "np.random.seed(42)\n",
    "\n",
    "n_samples = 30\n",
    "degrees = [1, 4, 42]\n",
    "\n",
    "X = np.sort(np.random.rand(n_samples))\n",
    "y = true_fun(X) + np.random.randn(n_samples) * 0.1\n",
    "\n",
    "plt.figure(figsise=(14, 5))\n",
    "\n",
    "for i in range(len(degrees)):\n",
    "    ax = plt.subplot(1, len(degrees), i + 1)\n",
    "    plt.setp(ax, xticks=(), yticks=())\n",
    "\n",
    "    polynomial_features = PolynomialFeatures(degree=degrees[i],\n",
    "                                             include_bias=False)\n",
    "    linear_regression = LinearRegression()\n",
    "    pipeline = Pipeline([(\"polynomial_features\", polynomial_features),\n",
    "                         (\"linear_regression\", linear_regression)])\n",
    "    pipeline.fit(X[:, np.newaxis], y)\n",
    "\n",
    "    # Evaluate the models using crossvalidation\n",
    "    scores = cross_val_score(pipeline, X[:, np.newaxis], y,\n",
    "                             scoring=\"neg_mean_squared_error\", cv=10)\n",
    "\n",
    "    X_test = np.linspace(0, 1, 100)\n",
    "    \n",
    "    plt.plot(X_test, pipeline.predict(X_test[:, np.newaxis]), label=\"Model\")\n",
    "    plt.plot(X_test, true_fun(X_test), label=\"True function\")\n",
    "    plt.scatter(X, y, edgecolor='b', s=20, label=\"Samples\")\n",
    "    plt.xlabel(\"x\")\n",
    "    plt.ylabel(\"y\")\n",
    "    plt.xlim((0, 1))\n",
    "    plt.ylim((-2, 2))\n",
    "    plt.legend(loc=\"best\")\n",
    "    plt.title(\"Degree {}\\nMSE = {:.2e}(+/- {:.2e})\".format(\n",
    "        degrees[i], -scores.mean(), scores.std()))\n",
    "plt.show()\n"
   ]
  },
  {
   "cell_type": "markdown",
   "id": "9334c34b",
   "metadata": {},
   "source": [
    "<div style=\"background-color: #FFFACD; padding: 10px;\">\n",
    "\n",
    "# Bias vs. Variance\n",
    "\n",
    "</div>\n",
    "\n",
    "Here, we will describe what is sometimes known in Machine Learning as the *no-free-lunch theorem*. It describes the fact that an unbiased model will generally have high variance and, conversely, reducing the variance will increase the bias. Therefore, both aspects need to be balanced to achieve models whose predictions are as close as possible to the true value (‘accurate’) with as reduced variability as possible.\n",
    "\n",
    "Here, we mention a few aspects related to this issue. In statistics, one calls an ‘estimator’ a rule to estimate a given quantity based on observed data. Let $\\beta$ be the true parameters of the problem to be estimated and $\\beta^*$ the least-squares estimate, and $\\mathbb{E}$ is the expected value. First, we define two measures: \n",
    "\n",
    "$$Bias: ||\\mathbb{E}[\\beta^*] − \\beta||$$\n",
    "$$Variance: \\mathbb{E}[(\\beta−\\beta^*)(\\beta−\\beta^*)^T]$$"
   ]
  },
  {
   "cell_type": "markdown",
   "id": "627e0173",
   "metadata": {},
   "source": [
    "The model formulation for the linear regression, ε is the residual term:\n",
    "\n",
    "$$y=X\\beta+ε$$ \n",
    "$$ε∼\\mathcal{N}(0,σ^2)$$\n",
    "\n",
    "\n",
    "We can then compute the expectation of our estimated parameters:\n",
    "\n",
    "\n",
    "\\begin{align*}\n",
    "\\mathbb{E}[\\beta^*] &= \\mathbb{E}[((X^TX)^{-1}X^Ty)] \\\\\n",
    "&= \\beta + \\mathbb{E}[((X^TX)^{-1}X^Tε)] \\\\\n",
    "&= \\beta\n",
    "\\end{align*}\n",
    "\n",
    "We see that this particular estimator $(\\beta^*)$ is unbiased, i.e. $||\\mathbb{E}[\\beta^*] − \\beta||$ = 0. That is if we obtain an estimate for a new set of samples drawn from the same data source, then we will always expect to get the right $\\beta$ on average.\n",
    "\n",
    "However, this is not the whole story. On average, we will get the correct estimate, but what about the variance of our estimator? This can also obtained easily from our expressions above as follows:\n",
    "\n",
    "Here is the aligned version of the equations with equal signs properly aligned:\n",
    "\n",
    "\\begin{align*}\n",
    "\\mathbb{E}[(\\beta - \\beta^*)(\\beta - \\beta^*)^T] &= \\mathbb{E}[(X^T X)^{-1}X^T \\epsilon \\epsilon^T X(X^T X)^{-1}] \\\\\n",
    "&= (X^T X)^{-1} \\sigma^2\n",
    "\\end{align*}\n",
    "\n",
    "In this aligned representation, the equal signs are aligned vertically, making it easier to see the logical flow and relationships between the equations.\n",
    "\n",
    "$$ \\epsilon \\epsilon^T = \\sigma^2I$$\n",
    "\n",
    "where $I$ is the identity matrix."
   ]
  },
  {
   "cell_type": "markdown",
   "id": "2244d705",
   "metadata": {},
   "source": [
    "Note that $σ^2$ is the variance of the noise in the observations, which we can estimate from the data. In statistical terms, the estimator for $σ^2$ is:\n",
    "\n",
    "$$\n",
    "\\hat{\\sigma}^2 = \\frac{1}{N-(p+1)} (y-\\hat{y})^T(y-\\hat{y})\n",
    "$$\n",
    "\n",
    "where we use the symbol $\\hat{.}$ to denote quantities estimated from data. Hence, the variance of our estimated parameters depends on the observed variance of the data and on the properties of $(X^T X)^{-1}$. However, $(X^T X)$ might be badly conditioned. \n",
    "\n",
    "The above arguments tell us that although LS is unbiased (good!), it can have high variance in the estimated parameters (depending on properties of the data matrix X). One could think that perhaps we could do better than LS. However, there is a general result (that follows from the Gauss-Markov theorem) that tells us that if we restrict ourselves to a linear unbiased estimator, we cannot do better than LS. We only sketch briefly the arguments here (see Hastie, Tibshirani, Friedman, \"The Elements of Statistical Learning,\" Chap. 3, for more details).\n",
    "\n",
    "In general, for an estimator $\\theta^*$ of the true value $\\theta$, we always have that:\n",
    "\n",
    "\n",
    "\\begin{align*}\n",
    "\\mathbb{E}[(\\theta - \\theta^*)^2] &= \\mathbb{E}[\\theta^2] + \\mathbb{E}[\\theta^{*2}] - 2\\mathbb{E}[\\theta\\theta^*] \\\\\n",
    "&= \\theta^2 + \\text{var}(\\theta^*) + \\mathbb{E}[\\theta^*]^2 - 2\\theta\\mathbb{E}(\\theta^*) \\\\\n",
    "&= \\text{var}(\\theta^*) + (\\theta - \\mathbb{E}[\\theta^*])^2\n",
    "\\end{align*}\n",
    "\n",
    "where we have used the fact that $\\theta$ is the true value to be estimated, i.e., not a random variable.\n",
    "\n",
    "Let $\\beta^*_{LS}$ define the LS estimator such that $\\hat{f}_{LS}(x_0) = x^T \\beta^*_{LS}$, which is unbiased:\n",
    "\n",
    "$$\n",
    "\\mathbb{E}[\\hat{f}(x_0)] = x_0^T \\beta\n",
    "$$\n",
    "\n",
    "where $\\beta$ is the true value. Then we have:\n",
    "\n",
    "$$\n",
    "\\text{MSE} = \\mathbb{E}[(\\hat{f}-y)^2] = \\text{var}(\\hat{f}) + (\\hat{y} - \\mathbb{E}[\\hat{f}])^2 = \\text{Variance} + \\text{Bias}^2\n",
    "$$\n",
    "\n",
    "This simple expression already highlights the main issue, i.e., that by minimising the MSE we could face a compromise between variance and bias.\n"
   ]
  },
  {
   "cell_type": "markdown",
   "id": "44bbf90a",
   "metadata": {},
   "source": [
    "Let $\\hat{\\hat{f}}$ be another unbiased linear estimator different to LS. Recall that, according to the Gauss-Markov theorem, the least squares estimator is the best unbiased linear estimator (see Hastie, Tibshirani, Friedman, The Elements of Statistical Learning, Chap. 3, section 3.2.2 for more details). Hence we know that:\n",
    "\n",
    "$$var(\\hat{f}_{LS}(x_0)) ≤ var(\\hat{\\hat{f}}(x_0))$$\n",
    "\n",
    "Since we have\n",
    "$$MSE=\\mathbb{E}|(\\hat{f}−y)^2|=var(f)+(y−\\mathbb{E}|f|)^2$$\n",
    "then it follows directly that LS has the lowest MSE of all linear unbiased estimators.\n",
    "\n",
    "The consequence is clear: if we want to stick with a linear model and we want it to be unbiased, we cannot do better than least-squares. On the other hand, as we can see in the image below, least-squares can have large variance.\n",
    "\n",
    "If we want to remain within linear methods, either we do something about $X^TX$ (see img below), or we go for linear methods with a bias. That is the topic of the next section.\n",
    "It is probably good to end with a visual representation of this discussion. Effectively, how good an estimator is depends on a combination of as low a bias and as low a variance as possible. You can see an illustration of this idea, and how in some cases we might be better off with an estimator that has some bias (i.e., it is a bit inaccurate) but has reduced variability (i.e., it is more reliable).\n",
    "\n",
    "![Bias](bias.png)\n",
    "\n",
    "\n",
    " Overview of the trade-off between bias and variance. Each black dot represents an estimate $\\beta^*$ of the true $\\beta$ (in green). In case a), we have an almost ideal case, with zero bias and small variance, which is rarely achievable in reality. Case b) shows the worse case scenario: having large bias and low variance will lead to a badly fit model. Case c) will be a somewhat good model, but with a large variance. Note that the least squares method has this issue. Finally, case d) shows the other side of the trade-off, where a small variance was achieved by introducing some small bias. In reality, one must often choose between c) and d).\n",
    "\n",
    "\n",
    "<div style=\"background-color: #FFFACD; padding: 10px;\">\n",
    "\n",
    " #### **Search for methods to reduce variance if you are interested...**\n",
    "\n",
    "</div>\n"
   ]
  },
  {
   "cell_type": "markdown",
   "id": "3c9effcd",
   "metadata": {},
   "source": [
    "<div style=\"background-color: #FFFACD; padding: 10px;\">\n",
    "\n",
    "# Bias and Error\n",
    "</div>\n",
    "\n",
    "Bias refers to the systematic deviation or error between the expected or average prediction of a model and the true or target value in the data. It measures how far, on average, the predicted values are from the actual values. Bias can arise from assumptions or simplifications made by the model that do not capture the true underlying relationship.\n",
    "\n",
    "Error, on the other hand, is a broader term that encompasses both bias and other sources of discrepancy between predicted and actual values. Error includes both systematic deviations (bias) and random fluctuations or noise in the data."
   ]
  },
  {
   "cell_type": "markdown",
   "id": "449af0d5",
   "metadata": {},
   "source": [
    "<div style=\"background-color: #FFFACD; padding: 10px;\">\n",
    "\n",
    "# Regression\n",
    "</div>\n",
    "\n",
    "**Linear Regression** - The process of linear regression attempts to fit a straight line to a set of data, as well as possible. For this we require a metric known as the cost function (defined below), which essentially describes how poorly the line fits the data - this is to be minimised, corresponding to the best-fitting line. The aim of a linear regression model is to be able to accurately predict a continuous outcome given a set of predictors. This differs from classification, where the set of all outcomes is a finite number of categories."
   ]
  },
  {
   "cell_type": "markdown",
   "id": "773df1bd",
   "metadata": {},
   "source": [
    "The code performs linear regression using gradient descent to find the best-fit line for a given set of random data points (**x** and **y**). It iteratively updates the parameters (**ε**) based on the gradients of the cost function, aiming to minimise the mean squared error between the predicted values and the actual target values. The code then prints the final parameter values and visualises the data points along with the learned linear regression line.\n",
    "\n",
    "Let the linear regression model be:\n",
    "$$\n",
    "y=Xβ+ε\n",
    "$$"
   ]
  },
  {
   "cell_type": "code",
   "execution_count": 19,
   "id": "406eafe8",
   "metadata": {},
   "outputs": [
    {
     "name": "stdout",
     "output_type": "stream",
     "text": [
      "Iteration 0: Cost = 23.16269063840338\n",
      "Iteration 100: Cost = 2.3960304799611474\n",
      "Iteration 200: Cost = 2.0512085196160754\n",
      "Iteration 300: Cost = 2.2546506740724785\n",
      "Iteration 400: Cost = 2.3221404544880913\n",
      "Iteration 500: Cost = 2.3397982017050603\n",
      "Iteration 600: Cost = 2.3442057969839536\n",
      "Iteration 700: Cost = 2.3452939087910947\n",
      "Iteration 800: Cost = 2.345561812749283\n",
      "Iteration 900: Cost = 2.3456277299335\n",
      "Final parameters:\n",
      "theta_0 = 3.1299230096458617\n",
      "theta_1 = 2.10896562748133\n"
     ]
    },
    {
     "data": {
      "image/png": "[encoded data removed]",
      "text/plain": [
       "<Figure size 432x288 with 1 Axes>"
      ]
     },
     "metadata": {
      "needs_background": "light"
     },
     "output_type": "display_data"
    }
   ],
   "source": [
    "import numpy as np\n",
    "import matplotlib.pyplot as plt\n",
    "\n",
    "# Generate some random data\n",
    "np.random.seed(0)\n",
    "x = np.random.rand(100, 1)\n",
    "y = 2 + 3 * x + np.random.randn(100, 1)\n",
    "\n",
    "# Initialise parameters\n",
    "eta = np.random.randn(2, 1)\n",
    "learning_rate = 0.01\n",
    "num_iterations = 1000\n",
    "\n",
    "# Perform gradient descent\n",
    "for iteration in range(num_iterations):\n",
    "    # Compute predictions\n",
    "    y_pred = x.dot(eta[1]) + eta[0]\n",
    "    \n",
    "    # Compute gradients\n",
    "    gradients = 2 / len(x) * x.T.dot(y_pred - y)\n",
    "    \n",
    "    # Reshape gradients to match theta shape\n",
    "    gradients = gradients.mean(axis=1, keepdims=True)\n",
    "    \n",
    "    # Update parameters\n",
    "    eta -= learning_rate * gradients\n",
    "    \n",
    "    # Compute cost, this is an example of a cost function\n",
    "    cost = np.mean((y_pred - y) ** 2)\n",
    "    \n",
    "    # Print cost every 100 iterations\n",
    "    if iteration % 100 == 0:\n",
    "        print(f\"Iteration {iteration}: Cost = {cost}\")\n",
    "\n",
    "# Print final parameters\n",
    "print(\"Final parameters:\")\n",
    "print(f\"theta_0 = {eta[0][0]}\")\n",
    "print(f\"theta_1 = {eta[1][0]}\")\n",
    "\n",
    "# Plot the data points and the linear regression line\n",
    "plt.scatter(x, y, label='Data Points')\n",
    "plt.plot(x, x.dot(eta[1]) + eta[0], color='red', label='Linear Regression')\n",
    "plt.xlabel('X')\n",
    "plt.ylabel('y')\n",
    "plt.title('Linear Regression')\n",
    "plt.legend()\n",
    "plt.show()\n",
    "\n"
   ]
  },
  {
   "cell_type": "markdown",
   "id": "cb5e30fe",
   "metadata": {},
   "source": [
    "<div style=\"background-color: #FFFACD; padding: 10px;\">\n",
    "\n",
    "# Cost Function\n",
    "\n",
    "</div>\n",
    "\n",
    "The formula used to compute the cost is given by:\n",
    "\n",
    "$\n",
    "J(\\theta) = \\frac{1}{2} \\sum_{i=1}^{m} (h_\\theta(x^{(i)}) - y^{(i)})^2\n",
    "$\n",
    "\n",
    "Where:\n",
    "- $J(\\theta)$ represents the cost function.\n",
    "- $m$ is the number of training examples.\n",
    "- $h_\\theta(x^{(i)})$ represents the predicted value for the $i$ th training example, obtained by multiplying the input features ($x^{(i)}$) with the parameters ($\\theta$).\n",
    "- $y^{(i)}$ represents the actual target value for the $i$ th training example.\n",
    "\n",
    "The aim of linear regression is to find the optimal set of parameters ($c$, $\\theta_1$, $\\theta_2$, ...) that minimises the cost function. This involves finding the global minimum of the cost function on a multi-dimensional hypersurface in parameter-space- by executing the code and providing sample values for the input features (X), target values (y), and parameters (theta), you can compute the cost using the compute_cost function.\n",
    "\n",
    "\n",
    "The aim of linear regression in the example above, is to find the optimal set of parameters ($c$, $\\theta_1$, $\\theta_2$, ...) that minimises the cost function. This involves finding the global minimum of the cost function on a multi-dimensional hypersurface in parameter-space."
   ]
  },
  {
   "cell_type": "code",
   "execution_count": 4,
   "id": "c976fe8b",
   "metadata": {},
   "outputs": [
    {
     "name": "stdout",
     "output_type": "stream",
     "text": [
      "Cost: 0.0\n"
     ]
    }
   ],
   "source": [
    "import numpy as np\n",
    "\n",
    "def compute_cost(X, y, theta):\n",
    "    m = len(y)  # Number of training examples\n",
    "    y_pred = X.dot(theta)  # Compute predictions\n",
    "    cost = np.sum((y_pred - y) ** 2) / (2 * m)  # Compute cost\n",
    "    return cost\n",
    "\n",
    "# Example usage:\n",
    "X = np.array([[1, 1], [1, 2], [1, 3]])  # Input features\n",
    "y = np.array([[1], [2], [3]])  # Target values\n",
    "theta = np.array([[0], [1]])  # Parameters\n",
    "\n",
    "cost = compute_cost(X, y, theta)\n",
    "print(f\"Cost: {cost}\")\n",
    "\n",
    "# We provide sample values for the input features (X), target values (y), \n",
    "# and parameters (theta). We call the compute_cost function with these values \n",
    "# and print the resulting cost."
   ]
  },
  {
   "cell_type": "markdown",
   "id": "bea9b32f",
   "metadata": {},
   "source": [
    "<div style=\"background-color: #FFFACD; padding: 10px;\">\n",
    "\n",
    "# Loss Function\n",
    "\n",
    "</div>\n",
    "\n",
    "The terms \"cost function\" and \"loss function\" in machine learning are often used interchangeably, but they technically do have different meanings, especially when dealing with complex models or problems.\n",
    "\n",
    "Loss Function: A loss function, or error function, quantifies how well a single sample of data meets the learning task objectives. It measures the discrepancy between the prediction of the machine learning model and the actual output for that sample. For instance, in a regression problem, Mean Squared Error (MSE) could be used as a loss function, where it measures the squared difference between the actual and predicted values for a particular data point.\n",
    "\n",
    "Cost Function: A cost function is the average of the loss functions for all individual data samples in a dataset. It represents the overall 'cost' of the performance of a machine learning model on the entire training dataset. In other words, the cost function is a type of loss function, but it is computed as the aggregate of losses across the set of examples, such as all training samples."
   ]
  },
  {
   "cell_type": "code",
   "execution_count": 5,
   "id": "8d8a46ad",
   "metadata": {},
   "outputs": [
    {
     "data": {
      "image/png": "[encoded data removed]",
      "text/plain": [
       "<Figure size 432x288 with 1 Axes>"
      ]
     },
     "metadata": {
      "needs_background": "light"
     },
     "output_type": "display_data"
    }
   ],
   "source": [
    "import numpy as np\n",
    "import matplotlib.pyplot as plt\n",
    "\n",
    "# Generating random predictions and actuals\n",
    "np.random.seed(0)\n",
    "predictions = np.random.rand(10)\n",
    "actuals = np.random.rand(10)\n",
    "\n",
    "# Calculating individual losses (Mean Squared Error for simplicity)\n",
    "individual_losses = (predictions - actuals) ** 2\n",
    "\n",
    "# Calculating cost (mean of individual losses)\n",
    "cost = np.mean(individual_losses)\n",
    "\n",
    "# Creating a scatter plot for individual losses\n",
    "plt.scatter(range(len(individual_losses)), individual_losses, label='Individual Losses')\n",
    "\n",
    "# Creating a horisontal line representing cost\n",
    "plt.axhline(y=cost, color='r', linestyle='-', label='Cost (Average Loss)')\n",
    "\n",
    "plt.title('Difference between Loss Function and Cost Function')\n",
    "plt.xlabel('Sample')\n",
    "plt.ylabel('Loss/Cost')\n",
    "plt.legend()\n",
    "\n",
    "plt.show()\n"
   ]
  },
  {
   "cell_type": "markdown",
   "id": "8e70343f",
   "metadata": {},
   "source": [
    "<div style=\"background-color: #FFFACD; padding: 10px;\">\n",
    "\n",
    "# Least Squares\n",
    "\n",
    "</div>\n",
    "\n",
    "The least squares method is a form of mathematical regression analysis that seeks to find the line of best fit for a set of data points. It is often used as a loss function in Machine Learning, particularly for regression problems. The objective is to minimise the sum of the squared differences between the predicted output and the actual output.\n",
    "\n",
    "Given a set of $n$ points $(x_1, y_1), (x_2, y_2), ..., (x_n, y_n)$, the least squares loss function is defined as:\n",
    "\n",
    "$$\n",
    "L = \\sum_{i=1}^{n} (y_i - \\hat{y}_i)^2\n",
    "$$\n",
    "\n",
    "Here, $y_i$ represents the actual output and $\\hat{y}_i$ is the predicted output, defined as $\\hat{y}_i = f(x_i)$, where $f$ is our model's function.\n",
    "\n",
    "\n",
    "For a simple linear regression model defined by $\\hat{y} = \\theta_0 + \\theta_1x$, where $\\theta$ represents the parameters $(\\theta_0, \\theta_1)$, the least squares loss function becomes:\n",
    "$$\n",
    "L(\\theta) = \\sum_{i=1}^{n} (y_i - (\\theta_0 + \\theta_1x_i))^2\n",
    "$$\n",
    "\n",
    "In matrix notation, if we have $m$ examples and $n$ features, and we define $X$ as the $m \\times n$ input matrix (with a column of ones for the bias term), $y$ as the $m$-dimensional output vector, and $\\theta$ as the parameter vector, the least squares loss function is:\n",
    "\n",
    "$$\n",
    "L(\\theta) = (X\\theta - y)^T(X\\theta - y)\n",
    "$$\n",
    "\n",
    "The optimal solution for the parameters can be found by setting the gradient of $L$ with respect to $\\theta$ to sero, and solving for $\\theta$. For linear regression models, this can be done analytically using the normal equation:\n",
    "\n",
    "$$\n",
    "\\theta = (X^TX)^{-1}X^Ty\n",
    "$$\n",
    "\n",
    "However, for more complex models or when $X^TX$ is not invertible, iterative optimisation algorithms such as gradient descent are typically used to minimise the loss function.\n"
   ]
  },
  {
   "cell_type": "markdown",
   "id": "865a275f",
   "metadata": {},
   "source": [
    "<div style=\"background-color: #FFFACD; padding: 10px;\">\n",
    "\n",
    "# Classification\n",
    "\n",
    "</div>\n",
    "\n",
    "Classification is a type of supervised learning approach in machine learning where the computer program learns from the input data provided to it and then uses this learning to classify new observations into one of the several classes or categories. \n",
    "\n",
    "A classification problem is demonstrated below using Scikit-learn."
   ]
  },
  {
   "cell_type": "code",
   "execution_count": 6,
   "id": "e724045c",
   "metadata": {},
   "outputs": [
    {
     "name": "stdout",
     "output_type": "stream",
     "text": [
      "Accuracy of the model: 100.00%\n"
     ]
    }
   ],
   "source": [
    "from sklearn import datasets\n",
    "from sklearn.model_selection import train_test_split\n",
    "from sklearn.preprocessing import StandardScaler\n",
    "from sklearn.linear_model import LogisticRegression\n",
    "from sklearn.metrics import accuracy_score\n",
    "\n",
    "# Load Iris dataset\n",
    "iris = datasets.load_iris()\n",
    "\n",
    "# We only take the first two features and two classes (Iris-setosa and others)\n",
    "X = iris.data[:100, :2]\n",
    "y = iris.target[:100]\n",
    "\n",
    "# Standardising the features\n",
    "sc = StandardScaler()\n",
    "X = sc.fit_transform(X)\n",
    "\n",
    "# Split the data into training set and test set\n",
    "X_train, X_test, y_train, y_test = train_test_split(X, y, test_sise=0.2, random_state=42)\n",
    "\n",
    "# Initialise the model\n",
    "model = LogisticRegression()\n",
    "\n",
    "# Fit the model with training data\n",
    "model.fit(X_train, y_train)\n",
    "\n",
    "# Predict the test data\n",
    "y_pred = model.predict(X_test)\n",
    "\n",
    "# Calculate the accuracy\n",
    "accuracy = accuracy_score(y_test, y_pred)\n",
    "\n",
    "print(f'Accuracy of the model: {accuracy*100:.2f}%')\n"
   ]
  },
  {
   "cell_type": "markdown",
   "id": "ea3f99a6",
   "metadata": {},
   "source": [
    "<div style=\"background-color: #FFFACD; padding: 10px;\">\n",
    "\n",
    "# Gradient-Based Optimisation (from the Statistics Course)\n",
    "\n",
    "</div>\n",
    "\n",
    "In Machine learning, often you will be optimising algorithms to improve the performance of the algorithm. In architechtures such as neural-networks, the weights of the network are *parameters* that can be varied in order to minimise some *loss* function. \n",
    "\n",
    "You will see many examples of optimisation and these days there are some extremely sophisticated methods for optimising complicated loss functions, however in this notebook we'll go over the most common starting point for these which is *gradient based optimisation*. \n",
    "\n",
    "In statistics, as we've seen in the lectures, the *likelihood* (or negative log-likelihood) function is our loss function and we often need to maximise (minimise) it with respect to one or more of its parameters. \n",
    "\n",
    "In general, this means we're looking for the set of parameter values ($\\theta$) for which, \n",
    "\n",
    "$$\n",
    "\\frac{\\partial q}{\\partial \\theta}= 0\n",
    "$$\n",
    "\n",
    "where $q = -\\log(L)$\n",
    "\n",
    "There are two algorithms that use the gradient of the likelihood to find the maximum point that we'll go over in this notebook. \n",
    "\n",
    "<div style=\"background-color: #FFFACD; padding: 10px;\">\n",
    "\n",
    "## Newton method\n",
    "\n",
    "</div>\n",
    "\n",
    "You are probably very familar with the Newton method (from school even?), which relies on the gradient of the function to find roots (or seros) of the function. In our setup, since we are trying to find the seros of the gradient function, we'll also need to know the 2nd derivative. \n",
    "\n",
    "This method is very reliable for 1-dimensional problems (one parameter that is being maximised). The way this works is that from some initial starting point $\\theta_{0}$, the algorithm proposes the next step as, \n",
    "\n",
    "$$\n",
    "\\theta_{1} = \\theta_{0} - \\frac{q^{\\prime}(\\theta_{0})}{q^{\\prime\\prime}(\\theta_{0})}\n",
    "$$\n",
    "\n",
    "where $q^{\\prime} = \\frac{dq}{d\\theta}$, and $q^{\\prime\\prime} = \\frac{d^{2}q}{d\\theta^{2}}$.\n",
    "\n",
    "The algorithm continues until some tolerance is reached, $\\lvert q^{\\prime}\\rvert < \\delta$ where $\\delta$ is some small number greater than 0. \n",
    "\n",
    "We'll take a look at an example of this method where we have a unstable particle (let's say a muon) that decays after being produced in a particle collision. In these processes, the probability that the muon decays after a certain time depends on its lifetime ($\\tau$),  \n",
    "\n",
    "Suppose we had an experimental setup, capable of detecting when such decays were occuring and we marked down the times, after some $t_{0}$, that each decay occurs. The time of each decay will be a random variable and will be distributed according to an exponential decay function, \n",
    "\n",
    "$$\n",
    "p(t) = \\frac{1}{\\tau} e^{-t/\\tau}\n",
    "$$\n",
    "\n",
    "First, we'll grab some data to use for this. I've put some data in a `.csv` file. From this data, we want to find the value of $\\tau$ that minimises the negative log-likelihood for this data. "
   ]
  },
  {
   "cell_type": "code",
   "execution_count": 7,
   "id": "981ec944",
   "metadata": {},
   "outputs": [
    {
     "data": {
      "image/png": "[encoded data removed]",
      "text/plain": [
       "<Figure size 432x288 with 1 Axes>"
      ]
     },
     "metadata": {
      "needs_background": "light"
     },
     "output_type": "display_data"
    }
   ],
   "source": [
    "%matplotlib inline\n",
    "\n",
    "import math\n",
    "import numpy\n",
    "import matplotlib.pyplot as plt\n",
    "import pandas \n",
    "\n",
    "\n",
    "data_exp = pandas.read_csv(\"decay_data.csv\")\n",
    "\n",
    "plt.hist(data_exp[\"times\"],bins=100)\n",
    "plt.xlabel(\"$t - \\mu s$\")\n",
    "plt.show()\n",
    "\n",
    "data_exp = numpy.array(data_exp[\"times\"].to_list())"
   ]
  },
  {
   "cell_type": "markdown",
   "id": "941a51d2",
   "metadata": {},
   "source": [
    "The likelihood is just the product over all of the muon decay times, \n",
    "\n",
    "$$\n",
    "L(\\tau) = \\prod_{i} \\frac{1}{\\tau} e^{-t_{i}/\\tau}\n",
    "$$\n",
    "\n",
    "and the -ve log likelihood is, \n",
    "\n",
    "$$\n",
    "q = -\\ln(L) =  N\\ln (\\tau) + \\sum_{i}^{N} \\frac{t_{i}}{\\tau}  \n",
    "$$"
   ]
  },
  {
   "cell_type": "code",
   "execution_count": 8,
   "id": "48be8b8a",
   "metadata": {},
   "outputs": [],
   "source": [
    "# define -ve log-likelihood\n",
    "def q(data,tau):\n",
    " N = len(data)\n",
    " return N*math.log(tau) + sum(data)/tau"
   ]
  },
  {
   "cell_type": "markdown",
   "id": "62fc073a",
   "metadata": {},
   "source": [
    "Let's see how the value of $q(\\tau)$ changes as we change the value of $\\tau$. Use the slider to see how changing the slope of the curve (the parameter $\\tau$) changes the value of $q$. "
   ]
  },
  {
   "cell_type": "code",
   "execution_count": 9,
   "id": "c8951624",
   "metadata": {},
   "outputs": [
    {
     "data": {
      "application/vnd.jupyter.widget-view+json": {
       "model_id": "6a0e20cd42bb416fa483f3eec24f65ba",
       "version_major": 2,
       "version_minor": 0
      },
      "text/plain": [
       "interactive(children=(FloatSlider(value=2.0, description='tau', max=4.0), Output()), _dom_classes=('widget-int…"
      ]
     },
     "metadata": {},
     "output_type": "display_data"
    },
    {
     "data": {
      "text/plain": [
       "<function __main__.plot_likelihood(tau)>"
      ]
     },
     "execution_count": 9,
     "metadata": {},
     "output_type": "execute_result"
    }
   ],
   "source": [
    "import ipywidgets\n",
    "\n",
    "xrange = numpy.linspace(0,16,100)\n",
    "\n",
    "def pdf(x,tau):\n",
    "    return (1./tau)*numpy.exp(-x/tau)\n",
    "\n",
    "def plot_likelihood(tau):\n",
    "    fig, (ax1,ax2) = plt.subplots(1,2,figsise=(14,6))\n",
    "    ax1.hist(data_exp,bins=100,histtype='step',color='black',density='true')\n",
    "    ax1.plot(xrange,pdf(xrange,tau),color='red')\n",
    "    ax1.set_xlabel(\"$t - \\mu s$\")\n",
    "    ax1.set_ylim(0,0.6)\n",
    "    \n",
    "    ax2.plot([tau],[q(data_exp,tau)],color='red',marker='o')\n",
    "    ax2.set_ylim(1750,1900)\n",
    "    ax2.set_xlim(1,4)\n",
    "    ax2.set_xlabel(\"$\\\\tau$\")\n",
    "    ax2.set_ylabel(\"$q(\\\\tau)$\")\n",
    "    ax2.grid()\n",
    "\n",
    "ipywidgets.interact(plot_likelihood,tau=(0,4,0.1))\n"
   ]
  },
  {
   "cell_type": "markdown",
   "id": "36db6d05",
   "metadata": {},
   "source": [
    "We can make a simple static plot of this too"
   ]
  },
  {
   "cell_type": "code",
   "execution_count": 10,
   "id": "ce736b98",
   "metadata": {},
   "outputs": [
    {
     "data": {
      "image/png": "[encoded data removed]",
      "text/plain": [
       "<Figure size 432x288 with 1 Axes>"
      ]
     },
     "metadata": {
      "needs_background": "light"
     },
     "output_type": "display_data"
    }
   ],
   "source": [
    "x = numpy.arange(1,8,0.1)\n",
    "y = [q(data_exp,xx) for xx in x]\n",
    "\n",
    "plt.plot(x,y)\n",
    "plt.xlabel(\"$\\\\tau$\")\n",
    "plt.ylabel(\"q($\\\\tau$)\")\n",
    "plt.show()"
   ]
  },
  {
   "cell_type": "markdown",
   "id": "be7666ee",
   "metadata": {},
   "source": [
    "Now lets look for the minimum of this curve by finding value of $\\tau$ for which $q^{\\prime}=0$ using the Newton method. \n",
    "\n",
    "We need to write down the derivatives of $q$.\n",
    "\n",
    "$$\n",
    "q^{\\prime} = \\frac{N}{\\tau}  -\\frac{1}{\\tau^{2}}\\sum_{i}^{N} t_{i} \n",
    "$$\n",
    "\n",
    "$$\n",
    "q^{\\prime\\prime} = -\\frac{N}{\\tau^{2}} + \\frac{2}{\\tau^{3}}\\sum_{i}^{N} t_{i} \n",
    "$$"
   ]
  },
  {
   "cell_type": "code",
   "execution_count": 11,
   "id": "3cfad69e",
   "metadata": {},
   "outputs": [],
   "source": [
    "# define the derivative of the -ve log-likelihood\n",
    "def dq(data, tau):\n",
    " N = len(data)\n",
    " return N/tau - sum(data)/(tau*tau)\n",
    "\n",
    "# define thei second derivative of the -ve log-likelihood\n",
    "def d2q(data, tau):\n",
    " N = len(data)\n",
    " return -N/(tau*tau) + 2*sum(data)/(tau*tau*tau)"
   ]
  },
  {
   "cell_type": "markdown",
   "id": "638ca6f8",
   "metadata": {},
   "source": [
    "We start by initialising the algorithm and setting a tolerance for when to stop searching."
   ]
  },
  {
   "cell_type": "code",
   "execution_count": 12,
   "id": "7d09d880",
   "metadata": {},
   "outputs": [
    {
     "name": "stdout",
     "output_type": "stream",
     "text": [
      "minimum at tau =  2.222246828655853 microseconds\n",
      "took 7 steps\n"
     ]
    }
   ],
   "source": [
    "# numerical minimum\n",
    "tol = 0.01\n",
    "init_tau = 3\n",
    "eps = 100\n",
    "\n",
    "# keep a record of the steps\n",
    "steps = []\n",
    "\n",
    "while eps > tol:\n",
    " steps.append([init_tau,q(data_exp,init_tau)])\n",
    " qp = dq(data_exp,init_tau)\n",
    " eps = abs(qp)\n",
    " init_tau = init_tau - qp/d2q(data_exp,init_tau)\n",
    " if init_tau < 0 : init_tau = 0.1\n",
    " \n",
    "\n",
    "numerical_min = init_tau\n",
    "print(\"minimum at tau = \",numerical_min, \"microseconds\")\n",
    "print(\"took %d steps\"%len(steps))"
   ]
  },
  {
   "cell_type": "markdown",
   "id": "b59b25e7",
   "metadata": {},
   "source": [
    "![Optimise](explh.gif)"
   ]
  },
  {
   "cell_type": "markdown",
   "id": "5b0af704",
   "metadata": {},
   "source": [
    "The muon lifetime is known to be $\\sim 2.2 \\mu s$. This is actually an  example of a maximum likelihood estimate for the muon lifetime. "
   ]
  },
  {
   "cell_type": "markdown",
   "id": "d1cb6487",
   "metadata": {},
   "source": [
    "<div style=\"background-color: #FFFACD; padding: 10px;\">\n",
    "\n",
    "## Gradient Descent \n",
    "\n",
    "</div>\n",
    "\n",
    "For functions with more than one variable, we  can use a gradient descent algorithm to find minima and maxima. These methods only rely on the first derivative (the gradient) to find the best direction to step in to find the minimum (or maximum). They don't use the second derivative because for a large number of parameters $n$, the number of terms in the second derivative grows as $n^{2}$ so this can get quite costly. \n",
    "\n",
    "There are  a number of subtle different algorithms which rely on gradient descent but we'll go over a simple example. The  way this works is as follows. \n",
    "\n",
    "First, we initialise the algorithm at some set of values for the parameters $\\boldsymbol{\\theta}_{init}$. Then we calcualte the gradient of the negative log-likelihood - $\\nabla(q)\\rvert_{\\boldsymbol{\\theta}_{init}}$ - at that initial point. The gradient defines a direction in which the negative log-likelihood changes most rapidly - this makes this direction a good direction to search for a smaller value of $q$.\n",
    "\n",
    "$$\n",
    "\\begin{align}\n",
    "\\nabla(q)\\rvert_{\\boldsymbol{\\theta}_{init}} &=   \n",
    "        \\begin{bmatrix}\n",
    "           \\frac{\\partial q}{\\partial \\theta_{1}} \\\\\n",
    "           \\frac{\\partial q}{\\partial \\theta_{2}} \\\\\n",
    "           \\vdots \\\\\n",
    "           \\frac{\\partial q}{\\partial \\theta_{n}}\n",
    "        \\end{bmatrix}_{\\boldsymbol{\\theta}=\\boldsymbol{\\theta}_{init}}\n",
    "\\end{align}   \n",
    "$$\n",
    "\n",
    "Since we want to *decrease* $q$, we need to move against this gradient. We step along the negative gradient direction until we find a new minimum - i.e we pick a step sise $h$ and keep adding it to the initial point until the value of $q$ stops decreasing, \n",
    "\n",
    "\n",
    "$$\n",
    "\\boldsymbol{\\theta}_{k} = k\\times h - \\nabla(q)\\rvert_{\\boldsymbol{\\theta}_{init}} \n",
    "$$\n",
    "\n",
    "At the value of $k$ such that we're no longer decreasing $q$ (lets call it $k*$), we recalculate the gradient and find a new direction to go in. \n",
    "\n",
    "$$\n",
    "\\nabla(q)\\rvert_{\\boldsymbol{\\theta}_{k*}}\n",
    "$$\n",
    "\n",
    "We keep repeating this process until the modulus of the gradient gets close enough to sero (say is smaller than some tolerance $\\epsilon$, that means we keep iterating until, \n",
    "\n",
    "$$\n",
    "\\lvert \\nabla(q)\\rvert_{\\boldsymbol{\\theta}} \\rvert = \\sqrt{\\left(\\frac{\\partial q}{\\partial \\theta_{1}}\\right)^{2} + \\left(\\frac{\\partial q}{\\partial \\theta_{2}}\\right)^{2}+...+\\left(\\frac{\\partial q}{\\partial \\theta_{n}}\\right)^{2}}< \\epsilon\n",
    "$$\n",
    "\n",
    "Let's look at an example where $n=2$ and the data is assumed to be distributed as a Gaussian with parameters $\\mu$ and $\\sigma$. We want to find the maximum likelihood estimates $\\hat{\\mu}$ and $\\hat{\\sigma}$. \n",
    "\n",
    "We'll read in some data from the file `data_grad_desc.csv`. "
   ]
  },
  {
   "cell_type": "code",
   "execution_count": 13,
   "id": "47e58d90",
   "metadata": {},
   "outputs": [
    {
     "data": {
      "image/png": "[encoded data removed]",
      "text/plain": [
       "<Figure size 432x288 with 1 Axes>"
      ]
     },
     "metadata": {
      "needs_background": "light"
     },
     "output_type": "display_data"
    }
   ],
   "source": [
    "import numpy,pandas\n",
    "import matplotlib.pyplot as plt\n",
    "plt.rcParams.update({'font.sise': 12})\n",
    "\n",
    "from scipy.stats import norm\n",
    "data = pandas.read_csv(\"data_grad_desc.csv\")\n",
    "data = data['values'].to_numpy()\n",
    "plt.hist(data,bins=20,histtype='step')\n",
    "plt.show()"
   ]
  },
  {
   "cell_type": "markdown",
   "id": "36da3e98",
   "metadata": {},
   "source": [
    "Let's see how different values of the Gaussian parameters $\\mu$ and $\\sigma$ compare when plotted on top of the data, this timee as a histogram of the density."
   ]
  },
  {
   "cell_type": "code",
   "execution_count": 14,
   "id": "9212ccee",
   "metadata": {},
   "outputs": [
    {
     "data": {
      "application/vnd.jupyter.widget-view+json": {
       "model_id": "e4f22d055f3e4d7a95edb78008f54456",
       "version_major": 2,
       "version_minor": 0
      },
      "text/plain": [
       "interactive(children=(FloatSlider(value=2.0, description='mu', max=3.0, min=1.0), FloatSlider(value=1.70000000…"
      ]
     },
     "metadata": {},
     "output_type": "display_data"
    },
    {
     "data": {
      "text/plain": [
       "<function __main__.plot_gaussian(mu, sigma)>"
      ]
     },
     "execution_count": 14,
     "metadata": {},
     "output_type": "execute_result"
    }
   ],
   "source": [
    "from scipy.stats import norm \n",
    "xrange = numpy.linspace(-2,6,100)\n",
    "\n",
    "def plot_gaussian(mu,sigma):\n",
    "    \n",
    "    plt.hist(data,bins=20,histtype='step',density=True)\n",
    "    plt.plot(xrange,norm.pdf(xrange,mu,sigma),color='red')\n",
    "    plt.xlabel(\"$X$\")\n",
    "    plt.ylim(0,0.4)\n",
    "\n",
    "\n",
    "ipywidgets.interact(plot_gaussian,mu=(1,3,0.1),sigma=(0.5,3,0.1))"
   ]
  },
  {
   "cell_type": "markdown",
   "id": "8762c2f3",
   "metadata": {},
   "source": [
    "Next we can define the negative log-likelihood and plot it as a function of $\\mu$ and $\\sigma$. Remember, the likelihood is just the product over the Gaussian probability density for each value in our dataset. \n",
    "\n",
    "The negative log-likelihood in this case is going to be (it's easy to show it) a sum over terms for all 101 points in our dataset. \n",
    "\n",
    "$$\n",
    "q(\\mu,\\sigma) = -\\ln(L(\\mu,\\sigma)) = \\sum_{i=1}^{101} \\left[ \\ln(\\sigma\\sqrt{2\\pi}) + \\frac{1}{2}\\frac{\\left(X_{i}-\\mu\\right)^{2}}{\\sigma^{2}} \\right]\n",
    "$$\n",
    "\n",
    "I've also subtracted the smallest value of the negative log-likelihood so that the numbers we have to deal with are more reasonable (of course this won't change where the minimum is). "
   ]
  },
  {
   "cell_type": "code",
   "execution_count": 15,
   "id": "097d08a0",
   "metadata": {},
   "outputs": [
    {
     "data": {
      "text/plain": [
       "Text(0, 0.5, '$\\\\sigma$')"
      ]
     },
     "execution_count": 15,
     "metadata": {},
     "output_type": "execute_result"
    },
    {
     "data": {
      "image/png": "[encoded data removed]",
      "text/plain": [
       "<Figure size 432x288 with 1 Axes>"
      ]
     },
     "metadata": {
      "needs_background": "light"
     },
     "output_type": "display_data"
    }
   ],
   "source": [
    "sqrt2pi = (2*numpy.pi)**0.5 \n",
    "\n",
    "def neg_log_likelihood(point):\n",
    "    mean=point[0]\n",
    "    sigma=point[1]\n",
    "    return sum([numpy.log(sqrt2pi*sigma) + 0.5*(x-mean)*(x-mean)/(sigma*sigma) for x in data])\n",
    "    \n",
    "def sum_neg_log_likelihood(mean,sigma):\n",
    "    return neg_log_likelihood([mean,sigma])\n",
    "\n",
    "mu    = numpy.linspace(1, 3, 70)\n",
    "sigma = numpy.linspace(0.5, 3, 70)\n",
    "\n",
    "X,Y = numpy.meshgrid(mu,sigma)\n",
    "\n",
    "logL = sum_neg_log_likelihood(X,Y)\n",
    "# These are large numbers so subtract the smallest one \n",
    "logL = logL-logL.min()\n",
    "\n",
    "contours = plt.contour(X, Y, logL, colors='black',levels=[0.1,0.5,2,4,8,10,20,30,50])\n",
    "plt.clabel(contours, inline=True, fontsise=8)\n",
    "plt.xlabel(\"$\\mu$\")\n",
    "plt.ylabel(\"$\\sigma$\")"
   ]
  },
  {
   "cell_type": "markdown",
   "id": "c400b33b",
   "metadata": {},
   "source": [
    "Next we define the gradient and run through our optimisation. Each step is given by the function `gradient_optimise_step` and it returns a new point and the magnitude of the gradient at that point. "
   ]
  },
  {
   "cell_type": "code",
   "execution_count": 16,
   "id": "f6e73982",
   "metadata": {},
   "outputs": [
    {
     "name": "stdout",
     "output_type": "stream",
     "text": [
      "Minimum found at -  [1.96835639 1.56718272]\n"
     ]
    }
   ],
   "source": [
    "def grad_nll(point):\n",
    "    mean = point[0]\n",
    "    sigma = point[1]\n",
    "    ddmu    = sum([mean/(sigma*sigma) - x/(sigma*sigma) for x in data])\n",
    "    ddsigma = sum([1./sigma - (1./(sigma*sigma*sigma))*(x-mean)*(x-mean) for x in data])\n",
    "    return numpy.array([ddmu,ddsigma])\n",
    "\n",
    "def modulus(point):\n",
    "    return (point[0]**2+point[1]**2)**0.5\n",
    "\n",
    "# inititial point -> mu=1.25, sigma=2.5\n",
    "init = numpy.array([1.25,2.5])\n",
    "grad_sise = modulus(grad_nll(init))\n",
    "\n",
    "def gradient_optimise_step(init):\n",
    "\n",
    "  # 1. find the gradient at this point \n",
    "  vec = grad_nll(init)\n",
    "\n",
    "  # 2. Do a very quick line search to find where the minimum is along the line (pick step sise of 0.001)\n",
    "  min_nll = neg_log_likelihood(init)\n",
    "  start = init  \n",
    "\n",
    "  for i in range(10):\n",
    "    new_point = start-0.001*vec\n",
    "    new_nll   = neg_log_likelihood(new_point)\n",
    "    if new_nll < min_nll:\n",
    "      min_nll =  new_nll\n",
    "      start = new_point\n",
    "      #print(\" line search -> \", new_point,new_nll)\n",
    "    else: break      \n",
    "  return new_point, modulus(grad_nll(new_point))\n",
    "\n",
    "step = []\n",
    "step.append(init)\n",
    "while grad_sise > 1:\n",
    "  new,grad_sise = gradient_optimise_step(init)\n",
    "  init = new \n",
    "  step.append(init)\n",
    "\n",
    "print(\"Minimum found at - \",init)"
   ]
  },
  {
   "cell_type": "markdown",
   "id": "7ad8f92e",
   "metadata": {},
   "source": [
    "![Grad](grad.gif)"
   ]
  },
  {
   "cell_type": "markdown",
   "id": "01f43e36",
   "metadata": {},
   "source": [
    "Of course, we don't need to write optimisation routines ourselves since there's many good packages out there that have done this for us. For the rest of this course, we'll use the `scipy` and `iminuit` packages for optimisation problems. "
   ]
  },
  {
   "cell_type": "markdown",
   "id": "505f4baa",
   "metadata": {},
   "source": [
    "<div style=\"background-color: #FFFACD; padding: 10px;\">\n",
    "\n",
    "# Dimensionality Reduction\n",
    "</div>\n",
    "Dimension reduction is a fundamental step in many data analysis and machine learning tasks. It involves reducing the number of input variables in a dataset. When dealing with high dimensional data, you might want to reduce the dimensionality to simplify the model, reduce the computation time, or remove multicollinearity.\n",
    "\n",
    "One common technique for dimension reduction is Principal Component Analysis (`PCA`), `PCA` is a technique used to emphasise variation and bring out strong patterns in a dataset. It's often used to make data easy to explore and visualise.\n",
    "\n",
    "Here's a simple example of how to perform `PCA` using Python's Scikit-learn:\n"
   ]
  },
  {
   "cell_type": "code",
   "execution_count": 17,
   "id": "0142a8ae-b1c3-4e0f-8e37-87b339750fcc",
   "metadata": {},
   "outputs": [
    {
     "name": "stdout",
     "output_type": "stream",
     "text": [
      "Original number of features: 4\n",
      "Reduced number of features: 3\n"
     ]
    },
    {
     "data": {
      "image/png": "[encoded data removed]",
      "text/plain": [
       "<Figure size 432x288 with 1 Axes>"
      ]
     },
     "metadata": {
      "needs_background": "light"
     },
     "output_type": "display_data"
    }
   ],
   "source": [
    "from sklearn.decomposition import PCA\n",
    "from sklearn import datasets\n",
    "import matplotlib.pyplot as plt\n",
    "\n",
    "# Load the iris dataset\n",
    "iris = datasets.load_iris()\n",
    "X = iris.data\n",
    "y = iris.target\n",
    "\n",
    "# Create a PCA that will retain 99% of variance\n",
    "pca = PCA(n_components=0.99, whiten=True)\n",
    "\n",
    "# Conduct PCA\n",
    "X_pca = pca.fit_transform(X)\n",
    "\n",
    "# Show results\n",
    "print('Original number of features:', X.shape[1])\n",
    "print('Reduced number of features:', X_pca.shape[1])\n",
    "\n",
    "# Visualise the data in the two-dimensional space\n",
    "plt.figure(figsise=(6, 4))\n",
    "plt.scatter(X_pca[:, 0], X_pca[:, 1], c=y)\n",
    "plt.xlabel('First Principal Component')\n",
    "plt.ylabel('Second Principal Component')\n",
    "plt.show()\n"
   ]
  },
  {
   "cell_type": "markdown",
   "id": "20cc8a8b",
   "metadata": {},
   "source": [
    "In the code above, we first import the necessary libraries and load the iris dataset. We then create a PCA object that will retain **99% of the variance** (Remind yourself of why retaining variance is important in performing dimension reduction). We fit and transform the data using this PCA object. Finally, we print the original and reduced number of features and visualise the data in the two-dimensional space.\n",
    "\n",
    "For more information about PCA and other dimension reduction techniques, you can refer to the Scikit-learn documentation: Scikit-learn: [PCA](https://scikit-learn.org/stable/modules/generated/sklearn.decomposition.PCA.html).\n",
    "\n",
    "\n"
   ]
  },
  {
   "cell_type": "markdown",
   "id": "673f32ea",
   "metadata": {},
   "source": [
    "<div style=\"background-color: #FFFACD; padding: 10px;\">\n",
    "\n",
    "# SVD Visualisation\n",
    "</div>\n",
    "\n",
    "$A = USV^T$ is the original matrix\n",
    "\n",
    "\n",
    "$U$ is a matrix whose columns are the left singular vectors of $A$.\n",
    "$S$ (often depicted as $\\sum_{}$) is a diagonal matrix containing the singular values of $A$.\n",
    "$V^T$ is the transpose of a matrix whose columns are the right singular vectors of $A$.\n",
    "\n",
    "The singular values in $S$ are the square roots of the eigenvalues of the original matrix $A$. The singular vectors are a set of orthogonal vectors in the domain and range of the original matrix $A$.\n"
   ]
  },
  {
   "cell_type": "code",
   "execution_count": 18,
   "id": "80044923",
   "metadata": {},
   "outputs": [
    {
     "data": {
      "application/vnd.jupyter.widget-view+json": {
       "model_id": "3534222b0b3648ad80f4e1cea3bb57c5",
       "version_major": 2,
       "version_minor": 0
      },
      "text/plain": [
       "interactive(children=(IntSlider(value=5, description='num_singular_values', max=10, min=1), Output()), _dom_cl…"
      ]
     },
     "metadata": {},
     "output_type": "display_data"
    }
   ],
   "source": [
    "import numpy as np\n",
    "import matplotlib.pyplot as plt\n",
    "from ipywidgets import interact, IntSlider\n",
    "from scipy.linalg import svd\n",
    "\n",
    "np.random.seed(0)  # For reproducible results\n",
    "\n",
    "A = np.random.rand(10, 10)\n",
    "\n",
    "U, s, Vt = svd(A)\n",
    "\n",
    "\n",
    "def plot_svd(num_singular_values):\n",
    "    S = np.seros((10, 10))\n",
    "    S[:num_singular_values, :num_singular_values] = np.diag(s[:num_singular_values])\n",
    "    \n",
    "    A_approx = U @ S @ Vt  # Compute approximation of A using reduced singular values\n",
    "\n",
    "    fig, axs = plt.subplots(1, 2, figsise=(10, 5))\n",
    "\n",
    "    axs[0].imshow(A, cmap='viridis')\n",
    "    axs[0].set_title('Original Matrix')\n",
    "\n",
    "    axs[1].imshow(A_approx, cmap='viridis')\n",
    "    axs[1].set_title(f'Approximation using {num_singular_values} singular values')\n",
    "\n",
    "    for ax in axs:\n",
    "        ax.set_xticks([])\n",
    "        ax.set_yticks([])\n",
    "\n",
    "    plt.show()\n",
    "\n",
    "\n",
    "interact(plot_svd, num_singular_values=IntSlider(min=1, max=10, step=1, value=5));\n"
   ]
  },
  {
   "cell_type": "markdown",
   "id": "5b07bc0d",
   "metadata": {},
   "source": [
    "<div style=\"background-color: #FFFACD; padding: 10px;\">\n",
    "\n",
    "# K-Nearest Neighbours (k-NN)\n",
    "\n",
    "</div>\n",
    "\n",
    "The k-NN algorithm can be used for both classification and regression. It starts with calculating the distance of a new point $x$ to all other points in the data-set. It then finds the $k$ nearest points closest to $x$ and for:\n",
    "\n",
    "* **classification** we assign the new data point $x$ to the majority class of its $k$-nearest neighbours. For example, if our goal is to classify cats or dogs and the three nearest data-points ($k=3$) to $x$ are classified as cat, cat, dog, then our new point $x$ would be classified as cat. However, if look at the 10 nearest data points ($k=10$) to $x$ and we find now that 4 are cat and 6 are dog, $x$ would be classified as dog.\n",
    "\n",
    "* **regression** we see labels as continuous variables and assign the label of data point $x$ as the mean of the labels of its k-nearest neighbours.\n",
    "\n",
    "A commonly used distance is the (classic) Euclidean distance\n",
    "\\begin{equation}\n",
    "d(\\bold{p},\\bold{q})=\\sqrt{\\sum_{i=1}^{D}\\left(q_{i}-p_{i}\\right)^{2}},\n",
    "\\end{equation}\n",
    "where $\\bold{p}$ and $\\bold{q}$ are two points in our $D$-dimensional Euclidean space. Other distances can be chosen interchangably, depending on the problem at hand. \n",
    "\n",
    "A helpful resource for the different types of distances and situations where they are used can be found [here](https://www.ibm.com/topics/knn#:~:text=The%20k%2Dnearest%20neighbors%20algorithm%2C%20also%20known%20as%20KNN%20or,of%20an%20individual%20data%20point.)."
   ]
  },
  {
   "cell_type": "markdown",
   "id": "03f31876",
   "metadata": {},
   "source": [
    "<div style=\"background-color: #FFFACD; padding: 10px;\">\n",
    "\n",
    "# [Instance-Based Learning](https://vitalflux.com/instance-based-learning-model-based-learning-differences/#:~:text=Instance%2Dbased%20learning%20(also%20known,easy%20to%20implement%20and%20understand.))\n",
    "\n",
    "</div>\n",
    "\n",
    "**Instance-based learning** (also known as memory-based learning or lasy learning) involves memorising training data in order to make predictions about future data points. This approach doesn’t require any prior knowledge or assumptions about the data, which makes it easy to implement and understand. \n",
    "\n",
    "In instance-based learning, the system learns the training data by heart. At the time of making prediction, the system uses similarity measure and compare the new cases with the learned data. K-nearest neighbors (KNN) is an algorithm that belongs to the instance-based learning class of algorithms.\n",
    "\n",
    "![KNN - img from homl](instance-based.jpg)\n",
    "\n",
    "In addition to providing accurate predictions, one major advantage of using KNN over other forms of supervised learning algorithms is its versatility; KNN can be used with both numeric datasets – such as when predicting house prices – and categorical datasets – such as when predicting whether a website visitor will purchase a product or not.\n"
   ]
  },
  {
   "cell_type": "markdown",
   "id": "1f019978",
   "metadata": {},
   "source": [
    "<div style=\"background-color: #FFFACD; padding: 10px;\">\n",
    "\n",
    "# [Model-Based Learning](https://vitalflux.com/instance-based-learning-model-based-learning-differences/#:~:text=Instance%2Dbased%20learning%20(also%20known,easy%20to%20implement%20and%20understand.))\n",
    "</div>\n",
    "\n",
    "Model-based learning (also known as structure-based or eager learning) takes a different approach by constructing models from the training data that can generalise better than instance-based methods. This involves using algorithms like linear regression, logistic regression, random forest, etc. trees to create an underlying model from which predictions can be made for new data points. The picture below represents how the prediction about the class is decided based on boundary learned from training data rather than comparing with learned data set based on similarity measures.\n",
    "\n",
    "![model-based - img from homl](model-based.png)"
   ]
  },
  {
   "cell_type": "markdown",
   "id": "99fef956",
   "metadata": {},
   "source": [
    "<div style=\"background-color: #FFFACD; padding: 10px;\">\n",
    "\n",
    "# Activation Function\n",
    "</div>\n",
    "\n",
    "An activation function is a key component of artificial neural networks(ANN) that introduces non-linearity into the network's computations. It helps determine the output of a neural network node or neuron, based on the weighted sum of its inputs.\n",
    "\n",
    "The activation function introduces non-linear transformations to the input data, enabling neural networks to learn and model complex patterns and relationships in the data. Without activation functions, neural networks would essentially reduce to linear transformations, limiting their ability to represent and approximate non-linear functions."
   ]
  },
  {
   "cell_type": "markdown",
   "id": "05022233",
   "metadata": {},
   "source": [
    "<div style=\"background-color: #FFFACD; padding: 10px;\">\n",
    "\n",
    "## Activation Function Overview\n",
    "</div>\n",
    "\n",
    "### Sigmoid（Logistic)\n",
    "\n",
    "The sigmoid function has the form: $$f(x) = \\frac{1}{1+e^{-x}} = \\frac{e^x}{e^x + 1}$$\n",
    "\n",
    "\n",
    "### Tanh\n",
    "\n",
    "The $tanh$ function has the form: \n",
    "    \n",
    "$$ f(x) = \\tanh(x) = \\frac{e^x - e^{-x}}{e^x + e^{-x}}$$\n",
    "\n",
    "### ReLU\n",
    "\n",
    "ReLU stands for \"Rectified Linear Unit\", and has the form: \n",
    "    \n",
    "$$ f(x) = \\max(0,x) =  \\begin{cases}\n",
    "                                                                                    x, & x > 0 \\\\\n",
    "                                                                                    0, & x \\leq 0\n",
    "                                                                                   \\end{cases}$$\n",
    "\n",
    "                                                                     \n",
    "### Leaky ReLU\n",
    "\n",
    "The Leaky ReLU function had the form: \n",
    "\n",
    "$$ f(x) =  \\begin{cases}\n",
    "  x, & x > 0 \\\\\n",
    "  ax, & x \\leq 0\n",
    " \\end{cases}, \\textrm{ } (a<1).$$\n",
    " \n",
    " \n",
    "### ELU\n",
    "\n",
    "ELU stands for \"Exponential Linear Unit\". Notice that when $\\alpha=0$, it reduces to the ReLU function. ELU has the form:\n",
    "    \n",
    "$$ f(x) = \\begin{cases}\n",
    "  x, & x > 0 \\\\\n",
    "  \\alpha(e^x-1), & x \\leq 0\n",
    " \\end{cases}$$\n",
    " \n",
    " \n",
    "### Swish\n",
    "\n",
    "The Swish function is the sigmoid function multipied by $x$. It has the form:\n",
    "$$f(x) = \\frac{x}{1+e^{-x}}$$"
   ]
  },
  {
   "cell_type": "markdown",
   "id": "0202b3ab",
   "metadata": {},
   "source": [
    "<div style=\"background-color: #FFFACD; padding: 10px;\">\n",
    "\n",
    "## Activation Function Visualisation\n",
    "</div>"
   ]
  },
  {
   "cell_type": "code",
   "execution_count": null,
   "id": "54ab5f0d",
   "metadata": {},
   "outputs": [],
   "source": [
    "## Standard libraries\n",
    "import os\n",
    "import json\n",
    "import math\n",
    "import numpy as np \n",
    "\n",
    "## Imports for plotting\n",
    "import matplotlib.pyplot as plt\n",
    "%matplotlib inline \n",
    "from IPython.display import set_matplotlib_formats\n",
    "import seaborn as sns\n",
    "sns.set()\n",
    "\n",
    "## Progress bar\n",
    "from tqdm.notebook import tqdm\n",
    "\n",
    "## PyTorch\n",
    "import torch\n",
    "import torch.nn as nn\n",
    "import torch.nn.functional as F\n",
    "import torch.utils.data as data\n",
    "import torch.optim as optim\n",
    "\n",
    "def get_grads(act_fn, x):\n",
    "    \"\"\"\n",
    "    Computes the gradients of an activation function at specified positions.\n",
    "    \n",
    "    Inputs:\n",
    "        act_fn - An object of the class \"ActivationFunction\" with an implemented forward pass.\n",
    "        x - 1D input tensor. \n",
    "    Output:\n",
    "        A tensor with the same size of x containing the gradients of act_fn at x.\n",
    "    \"\"\"\n",
    "    x = x.clone().requires_grad_() # Mark the input as tensor for which we want to store gradients\n",
    "    out = act_fn(x)\n",
    "    out.sum().backward() # Summing results in an equal gradient flow to each element in x\n",
    "    \n",
    "    return x.grad # Accessing the gradients of x by \"x.grad\"\n",
    "\n",
    "class ActivationFunction(nn.Module):\n",
    "    \n",
    "    def __init__(self):\n",
    "        super().__init__()\n",
    "        self.name = self.__class__.__name__\n",
    "        self.config = {\"name\": self.name}\n",
    "\n",
    "##############################\n",
    "\n",
    "class Sigmoid(ActivationFunction):\n",
    "    \n",
    "    def forward(self, x):\n",
    "        return 1 / (1 + torch.exp(-x))\n",
    "\n",
    "##############################   \n",
    "    \n",
    "class Tanh(ActivationFunction):\n",
    "    \n",
    "    def forward(self, x):\n",
    "        x_exp, neg_x_exp = torch.exp(x), torch.exp(-x)\n",
    "        return (x_exp - neg_x_exp) / (x_exp + neg_x_exp)\n",
    "    \n",
    "##############################\n",
    "\n",
    "class ReLU(ActivationFunction):\n",
    "    \n",
    "    def forward(self, x):\n",
    "        return x * (x > 0).float()\n",
    "\n",
    "##############################\n",
    "\n",
    "class LeakyReLU(ActivationFunction):\n",
    "    \n",
    "    def __init__(self, alpha=0.1):\n",
    "        super().__init__()\n",
    "        self.config[\"alpha\"] = alpha\n",
    "        \n",
    "    def forward(self, x):\n",
    "        return torch.where(x > 0, x, self.config[\"alpha\"] * x)\n",
    "\n",
    "##############################\n",
    "    \n",
    "class ELU(ActivationFunction):\n",
    "    \n",
    "    def forward(self, x):\n",
    "        return torch.where(x > 0, x, torch.exp(x)-1)\n",
    "\n",
    "##############################\n",
    "    \n",
    "class Swish(ActivationFunction):\n",
    "    \n",
    "    def forward(self, x):\n",
    "        return x * torch.sigmoid(x)\n",
    "    \n",
    "##############################\n",
    "\n",
    "act_fn_by_name = {\n",
    "    \"sigmoid\": Sigmoid,\n",
    "    \"tanh\": Tanh,\n",
    "    \"relu\": ReLU,\n",
    "    \"leakyrelu\": LeakyReLU,\n",
    "    \"elu\": ELU,\n",
    "    \"swish\": Swish\n",
    "}"
   ]
  },
  {
   "cell_type": "code",
   "execution_count": 22,
   "id": "f2f3afa0",
   "metadata": {},
   "outputs": [
    {
     "data": {
      "image/png": "[encoded data removed]",
      "text/plain": [
       "<Figure size 576x864 with 6 Axes>"
      ]
     },
     "metadata": {},
     "output_type": "display_data"
    }
   ],
   "source": [
    "\n",
    "def vis_act_fn(act_fn, ax, x):\n",
    "    # Run activation function\n",
    "    y = act_fn(x)\n",
    "    y_grads = get_grads(act_fn, x)\n",
    "    # Push x, y and gradients back to cpu for plotting\n",
    "    x, y, y_grads = x.cpu().numpy(), y.cpu().numpy(), y_grads.cpu().numpy()\n",
    "    ## Plotting\n",
    "    ax.plot(x, y, linewidth=2, label=\"ActFn\")\n",
    "    ax.plot(x, y_grads, linewidth=2, label=\"Gradient\")\n",
    "    ax.set_title(act_fn.name)\n",
    "    ax.legend()\n",
    "    ax.set_ylim(-1.5, x.max())\n",
    "\n",
    "# Add activation functions if wanted\n",
    "act_fns = [act_fn() for act_fn in act_fn_by_name.values()]\n",
    "x = torch.linspace(-5, 5, 1000) # Range on which we want to visualize the activation functions\n",
    "## Plotting\n",
    "rows = math.ceil(len(act_fns)/2.0)\n",
    "fig, ax = plt.subplots(rows, 2, figsize=(8, rows*4))\n",
    "for i, act_fn in enumerate(act_fns):\n",
    "    vis_act_fn(act_fn, ax[divmod(i,2)], x)\n",
    "fig.subplots_adjust(hspace=0.3)\n",
    "plt.show()"
   ]
  },
  {
   "cell_type": "markdown",
   "id": "9b04eaa3",
   "metadata": {},
   "source": [
    "**Sigmoid**: This function is used to introduce non-linearity into the network. However, it suffers from the problem of gradient diffusion, which can slow down the learning process.\n",
    "\n",
    "**Tanh**: This function is an updated version of the sigmoid function, with a higher convergence rate. However, it also suffers from the problem of gradient diffusion.\n",
    "\n",
    "**ReLU (Rectified Linear Unit)**: This function is a piecewise function that forces the output to be zero if the input value is less than or equal to zero. Otherwise, it makes the output value equal to the input value. This function provides a much faster computing rate and doesn't suffer from the gradient diffusion problem. However, it can lead to neuronal necrosis when a neuron with a large gradient passes through the ReLU function, which can affect the final recognition result.\n",
    "\n",
    "**Leaky ReLU**: This function is a variant of ReLU that allows small negative values when the input is less than zero. This reduces the problem of neuronal death (dying ReLU problem) but has more computation than the ReLU function.\n",
    "\n",
    "**ELU (Exponential Linear Unit)**: This function is another variant of ReLU that also allows small negative values when the input is less than zero, reducing the problem of neuronal death. The paper does not provide specific details about the pros and cons of ELU.\n",
    "\n",
    "**Swish**: The paper does not provide specific details about the Swish function.\n",
    "\n",
    "<!-- [Sharma, O., \"A New Activation Function for Deep Neural Network,\" 2019 International Conference on Machine Learning, Big Data, Cloud and Parallel Computing (COMITCon), Faridabad, India, 2019, pp. 84-86, doi: 10.1109/COMITCon.2019.8862253] -->"
   ]
  },
  {
   "cell_type": "markdown",
   "id": "eed1f030",
   "metadata": {},
   "source": [
    "<div style=\"background-color: #FFFACD; padding: 10px;\">\n",
    "\n",
    "# Neural Network\n",
    "\n",
    "</div>\n",
    "\n",
    "A neural network is a type of machine learning model that is inspired by the human brain. It consists of interconnected layers of nodes, or \"neurons,\" which process information using dynamic state responses to external inputs.\n",
    "\n",
    "Neural networks are a subset of machine learning and are at the heart of deep learning algorithms. They are known for their ability to detect and use patterns in data to learn and improve their performance over time, making them highly effective for complex tasks such as image and speech recognition, natural language processing, and more. (Further explained [here](http://neuralnetworksanddeeplearning.com/chap1.html))\n",
    "\n",
    "Here's a basic overview of how a neural network works:\n",
    "\n",
    "**Input Layer**: This is where the network receives data for processing. Each node in this layer represents a single feature or attribute of the data.\n",
    "\n",
    "**Hidden Layers**: These are layers of nodes between the input and output layers. Each node in these layers performs calculations and transformations on the data received from the previous layer. The number of hidden layers and nodes in each layer can vary, and this is what makes the network \"deep\" in deep learning.\n",
    "\n",
    "**Output Layer**: This is where the final output is produced. The output can be a single node for binary classification problems, or multiple nodes for multi-class classification or regression problems.\n",
    "\n",
    "**Weights and Biases**: These are parameters within the network that are adjusted during the learning process. They determine the strength of the influence of one node on another.\n",
    "\n",
    "**Activation Function**: This is a function that is applied at each node. It determines whether and to what extent the information that node has received should be passed on to the next layer.\n",
    "\n",
    "**Backpropagation and Gradient Descent**: These are the processes by which the network learns. In backpropagation, the network calculates the error of its output in comparison to the expected output. It then uses gradient descent to adjust the weights and biases to minimise this error.\n",
    "\n",
    "Training, Validation, and Testing: These are stages in the model development process. In the training stage, the model learns from a dataset by adjusting its weights and biases. In the validation stage, the model's performance is evaluated and its hyperparameters are tuned. In the testing stage, the model's final performance is evaluated on a separate dataset."
   ]
  },
  {
   "cell_type": "markdown",
   "id": "b3c9419d",
   "metadata": {},
   "source": [
    "<div style=\"background-color: #FFFACD; padding: 10px;\">\n",
    "\n",
    "# Forward Propagation & Backward Propagation\n",
    "</div>\n",
    "\n",
    "**Forward Propagation:**\n",
    "Where input data is fed through a network, in a forward direction, to generate an output. The data is accepted by hidden layers and processed, as per the activation\n",
    "function, and moves to the successive layer. The forward flow of data is designed to avoid data moving in a circular motion, which does not generate an output. In the layers, the neural network makes a prediction (forward pass) using the current weights and biases. This prediction is compared with the actual output, and the difference is calculated as an error using a loss function.\n",
    "\n",
    "**Backward Propagation:**\n",
    "Backpropagation, short for \"backward propagation of errors,\" is a method used in artificial neural networks to calculate the gradient that is needed in the calculation of the weights to be used in the network. It is commonly used during the training process to optimise the weights of the neurons and minimise the error of the network's output compared to the expected output Backpropagation works by calculating the gradient of the loss function with respect to each weight in the network through the chain rule of calculus, which allows us to break down complex expressions into simpler ones. \n"
   ]
  },
  {
   "cell_type": "markdown",
   "id": "d555a403",
   "metadata": {},
   "source": [
    "<div style=\"background-color: #FFFACD; padding: 10px;\">\n",
    "\n",
    "# Weight\n",
    "</div>\n",
    "\n",
    "Neural nets are used in machine learning to analyse training examples and learn to perform tasks. They consist of interconnected processing nodes organised into layers. Each node assigns weights to its incoming connections, multiplies the data by the weights, and sums the products. If the sum exceeds a threshold, the node sends the output to the next layer. During training, the weights and thresholds are adjusted until consistent outputs are obtained for data with the same labels."
   ]
  },
  {
   "cell_type": "markdown",
   "id": "5e034d54",
   "metadata": {},
   "source": [
    "<div style=\"background-color: #FFFACD; padding: 10px;\">\n",
    "\n",
    "# Artificial Neural Networks(ANN)\n",
    "</div>\n",
    "\n",
    "The idea of ANN followed the architecture of the brain, which sparked the interest of building an intelligent machine."
   ]
  },
  {
   "cell_type": "markdown",
   "id": "2b5ccce5",
   "metadata": {},
   "source": [
    "<div style=\"background-color: #FFFACD; padding: 10px;\">\n",
    "\n",
    "# Convolutional Neural Networks(CNN)\n",
    "</div>\n",
    "\n",
    "Convolutional neural networks (CNNs) emerged from the study of the brain’s visual cortex, and they have been used in image recognition since the 1980s. \n",
    "\n",
    "\n",
    "The most important building block of a CNN is the convolutional layer:6 neurons in the first convolutional layer are not connected to every single pixel in the input image (like they were in previous chapters), but only to pixels in their receptive fields (see Figure below). In turn, each neuron in the second convolutional layer is connected only to neurons located within a small rectangle in the first layer. This architecture allows the network to concentrate on small low-level features in the first hidden layer, then assemble them into larger higher-level features in the next hidden layer, and so on. This hierarchical structure is common in real-world images, which is one of the reasons why CNNs work so well for image recognition.\n",
    "\n",
    "![Convolutional Layer](convolutional_layer.png)"
   ]
  },
  {
   "cell_type": "markdown",
   "id": "d4eaa7a6",
   "metadata": {},
   "source": [
    "A neuron located in row $i$, column $j$ of a given layer is connected to the outputs of the neurons in the previous layer located in rows $i$ to $i + f_h – 1$, columns $j$ to $j + f_w – 1$, where fh and fw are the height and width of the receptive field (see Figure below). In order for a layer to have the same height and width as the previous layer, it is mon to add zeros around the inputs, as shown in the diagram. This is called zero padding.\n",
    "\n",
    "![connections](connections.png)\n",
    "\n",
    "\n",
    "It is also possible to connect a large input layer to a much smaller layer by spacing out the receptive fields, as shown in Figure. The shift from one receptive field to the next is called the stride. In the diagram, a $5 × 7$ input layer (plus zero padding) is connected to a $3 × 4$ layer, using $3 × 3$ receptive fields and a stride of 2 (in this example the stride is the same in both directions, but it does not have to be so). A neuron located in row $i$, column $j$ in the upper layer is connected to the outputs of the neurons in the previous layer located in rows $i × s_h$ to $i × s_h + f_h – 1$, columns $j × s_w$ to $j × s_w + f_w – 1$, where $s_h$ and $s_w$ are the vertical and horizontal strides."
   ]
  },
  {
   "cell_type": "markdown",
   "id": "c68aa9e3",
   "metadata": {},
   "source": [
    "<div style=\"background-color: #FFFACD; padding: 10px;\">\n",
    "\n",
    "# Graph Neural Networks(GNN)*\n",
    "</div>\n"
   ]
  },
  {
   "cell_type": "markdown",
   "id": "24e0256c",
   "metadata": {},
   "source": [
    "<div style=\"background-color: #FFFACD; padding: 10px;\">\n",
    "\n",
    "# Recurrent Neural Networks(RNN)*\n",
    "</div>"
   ]
  },
  {
   "cell_type": "markdown",
   "id": "f2df999b",
   "metadata": {},
   "source": []
  }
 ],
 "metadata": {
  "kernelspec": {
   "display_name": "Python 3 (ipykernel)",
   "language": "python",
   "name": "python3"
  },
  "language_info": {
   "codemirror_mode": {
    "name": "ipython",
    "version": 3
   },
   "file_extension": ".py",
   "mimetype": "text/x-python",
   "name": "python",
   "nbconvert_exporter": "python",
   "pygments_lexer": "ipython3",
   "version": "3.9.16"
  },
  "vscode": {
   "interpreter": {
    "hash": "9df1b77b0caf646f19509570eac5ef5a3592ebd6cb99175979cb74b7b24a8bf8"
   }
  }
 },
 "nbformat": 4,
 "nbformat_minor": 5
}
