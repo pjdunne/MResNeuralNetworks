{
 "cells": [
  {
   "cell_type": "markdown",
   "id": "ba765654",
   "metadata": {},
   "source": [
    "# Week X - Title"
   ]
  },
  {
   "cell_type": "markdown",
   "id": "3dad832a",
   "metadata": {},
   "source": [
    "<hr style=\"border:2px solid gray\">\n",
    "\n",
    "## Index: <a id='index'></a>\n",
    "1. [Section 1 Title](#section-1)\n",
    "1. [Section 2 Title](#section-2)"
   ]
  },
  {
   "cell_type": "markdown",
   "id": "2022d35c",
   "metadata": {},
   "source": [
    "**Keywords:** a, b, c, "
   ]
  },
  {
   "cell_type": "markdown",
   "id": "897fc8e4",
   "metadata": {},
   "source": [
    "<hr style=\"border:2px solid gray\">\n",
    "\n",
    "## Section One: Section 1 Title [^](#index)\n",
    "<a id='section-1'></a>"
   ]
  },
  {
   "cell_type": "markdown",
   "id": "c60ed8c3",
   "metadata": {},
   "source": [
    "<div style=\"background-color:#FFCCCB\">\n",
    "\n",
    "### Mathematical Description \n",
    "\n",
    "    \n",
    "Extra mathematical details beyond the scope of the course should have this style"
   ]
  },
  {
   "cell_type": "markdown",
   "id": "fcde0362",
   "metadata": {},
   "source": [
    "<div style=\"background-color:#C2F5DD\">\n",
    "\n",
    "### Exercises\n",
    "\n",
    "Exercises should have this colour textbox\n",
    "</div> "
   ]
  },
  {
   "cell_type": "markdown",
   "id": "6b2451b3",
   "metadata": {},
   "source": [
    "<div style=\"background-color: #FFF8C6\">\n",
    "\n",
    "### Optional Exercises\n",
    "\n",
    "Optional exercises should have this colour textbox"
   ]
  },
  {
   "cell_type": "markdown",
   "id": "15c461aa",
   "metadata": {},
   "source": [
    "<hr style=\"border:2px solid gray\">\n",
    "\n",
    "## Section Two: Section 2 Title [^](#index)\n",
    "<a id='section-2'></a>"
   ]
  },
  {
   "cell_type": "markdown",
   "id": "6b035a08",
   "metadata": {},
   "source": [
    "**Key Topics** is how you write notes on a topic, where **important words and phrases** are written in bold.\n",
    "\n",
    "Short word of code should be displayed using the format: <span style=\"color:blue\">print</span>.\n",
    "\n",
    "Larger blocks of code should use\n",
    "```python \n",
    "\n",
    "print ('Hello World!')\n",
    "return True\n",
    "```\n"
   ]
  },
  {
   "cell_type": "code",
   "execution_count": null,
   "id": "7e7873ec",
   "metadata": {},
   "outputs": [],
   "source": []
  }
 ],
 "metadata": {
  "kernelspec": {
   "display_name": "Python 3 (ipykernel)",
   "language": "python",
   "name": "python3"
  },
  "language_info": {
   "codemirror_mode": {
    "name": "ipython",
    "version": 3
   },
   "file_extension": ".py",
   "mimetype": "text/x-python",
   "name": "python",
   "nbconvert_exporter": "python",
   "pygments_lexer": "ipython3",
   "version": "3.9.12"
  },
  "vscode": {
   "interpreter": {
    "hash": "9df1b77b0caf646f19509570eac5ef5a3592ebd6cb99175979cb74b7b24a8bf8"
   }
  }
 },
 "nbformat": 4,
 "nbformat_minor": 5
}
