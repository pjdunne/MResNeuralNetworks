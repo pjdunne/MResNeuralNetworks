{
 "cells": [
  {
   "cell_type": "markdown",
   "id": "ba765654",
   "metadata": {},
   "source": [
    "# Week X - Title"
   ]
  },
  {
   "cell_type": "markdown",
   "id": "3dad832a",
   "metadata": {},
   "source": [
    "<hr style=\"border:2px solid gray\">\n",
    "\n",
    "# Index: <a id='index'></a>\n",
    "1. [Section 1 Title](#section-1)\n",
    "1. [Section 2 Title](#section-2)\n",
    "1. [Appendix](#appendix)\n",
    "    1. [Appendix Section A](#sec_A)"
   ]
  },
  {
   "cell_type": "markdown",
   "id": "2022d35c",
   "metadata": {},
   "source": [
    "**Keywords:** a, b, c, "
   ]
  },
  {
   "cell_type": "markdown",
   "id": "897fc8e4",
   "metadata": {},
   "source": [
    "<hr style=\"border:2px solid gray\">\n",
    "\n",
    "# Section 1 Title [^](#index)\n",
    "<a id='section-1'></a>"
   ]
  },
  {
   "cell_type": "markdown",
   "id": "c60ed8c3",
   "metadata": {},
   "source": [
    "<div style=\"background-color:#FFCCCB\">\n",
    "\n",
    "### Mathematical Description \n",
    "\n",
    "    \n",
    "Extra mathematical details beyond the scope of the course should have this style"
   ]
  },
  {
   "cell_type": "markdown",
   "id": "fcde0362",
   "metadata": {},
   "source": [
    "<div style=\"background-color:#C2F5DD\">\n",
    "\n",
    "### Exercises\n",
    "\n",
    "Exercises should have this colour textbox\n",
    "</div> "
   ]
  },
  {
   "cell_type": "markdown",
   "id": "cbd2c471",
   "metadata": {},
   "source": [
    "<div style=\"background-color: #FFF8C6\">\n",
    "\n",
    "### Optional Exercises\n",
    "\n",
    "Optional exercises should have this colour textbox"
   ]
  },
  {
   "cell_type": "markdown",
   "id": "15c461aa",
   "metadata": {},
   "source": [
    "<hr style=\"border:2px solid gray\">\n",
    "\n",
    "# Section 2 Title [^](#index)\n",
    "<a id='section-2'></a>"
   ]
  },
  {
   "cell_type": "markdown",
   "id": "6b035a08",
   "metadata": {},
   "source": [
    "**Key Topics** is how you write notes on a topic, where **important words and phrases** are written in bold.\n",
    "\n",
    "Short word of code should be displayed using the format: <span style=\"color:blue\">print</span>.\n",
    "\n",
    "Larger blocks of code should use\n",
    "```python \n",
    "\n",
    "print ('Hello World!')\n",
    "return True\n",
    "```\n"
   ]
  },
  {
   "cell_type": "markdown",
   "id": "be6d9a6b",
   "metadata": {},
   "source": [
    "<hr style=\"border:2px solid gray\">\n",
    "<hr style=\"border:2px solid gray\">\n",
    "\n",
    "<div style=\"background-color:#efdff2\">\n",
    "\n",
    "# Appendix <a id='appendix'></a>\n",
    "\n",
    "[Return to Index](#index)\n",
    "\n",
    "In this section, you will find longer pieces of mathematics and code which are **non-examinable**. Please read at your own discretion\n",
    "\n",
    "A. [Section A Title](#sec_A)\n",
    "\n"
   ]
  },
  {
   "cell_type": "markdown",
   "id": "26fabb73",
   "metadata": {},
   "source": [
    "<hr style=\"border:2px solid gray\">\n",
    "\n",
    "<div style=\"background-color:#efdff2\">\n",
    "\n",
    "### Section A [^^](#appendix) <a id='sec_A'></a>\n",
    "\n",
    "[Return to relevant section in notes](#relevant) \n",
    "    \n",
    "Index Cells (if being used) should have this colour, to distinguish them from the rest of the notebook.\n",
    "</div> "
   ]
  }
 ],
 "metadata": {
  "kernelspec": {
   "display_name": "Python 3 (ipykernel)",
   "language": "python",
   "name": "python3"
  },
  "language_info": {
   "codemirror_mode": {
    "name": "ipython",
    "version": 3
   },
   "file_extension": ".py",
   "mimetype": "text/x-python",
   "name": "python",
   "nbconvert_exporter": "python",
   "pygments_lexer": "ipython3",
   "version": "3.10.4"
  },
  "vscode": {
   "interpreter": {
    "hash": "9df1b77b0caf646f19509570eac5ef5a3592ebd6cb99175979cb74b7b24a8bf8"
   }
  }
 },
 "nbformat": 4,
 "nbformat_minor": 5
}
