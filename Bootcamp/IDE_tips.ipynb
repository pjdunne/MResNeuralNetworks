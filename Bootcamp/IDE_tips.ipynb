{
 "cells": [
  {
   "cell_type": "markdown",
   "id": "eda79ce6",
   "metadata": {},
   "source": [
    "# Environments and IDEs "
   ]
  },
  {
   "cell_type": "markdown",
   "id": "030261ef",
   "metadata": {},
   "source": [
    "<hr style=\"border:2px solid gray\">\n",
    "\n",
    "## Introduction to IDEs\n",
    "\n",
    "Integrated Development Environments, IDEs, are very helpful to edit, format and debug code, amongst many other features. There is no requirement for this course to use any particular IDE, however this notebook will give an introduction to using Spyder through **Anaconda**. Spyder is an IDE designed for the physical sciences and is also fairly beginner friendly.\n",
    "\n",
    "If you are using a university machine, Anaconda will already be installed. If you want the program on your own machine, follow the easy instructions [here](https://www.anaconda.com/download)\n",
    "\n",
    "Anaconda is a Python (and R) distribution. It provides access to many useful programs, such as Jupyter Notebook, VSCode (an alternative IDE) and Spyder. To access these, you can either type the name of the program into the terminal or use Anaconda Navigator (Anaconda's GUI).\n",
    "\n",
    "Note: **conda** is a package and environment manager, **Anaconda** is the collection of packages.\n",
    "\n",
    "(If you would prefer to use VSCode, you will be able to edit Jupyter Notebook by first running `pip install ipykernel` in the terminal)"
   ]
  },
  {
   "cell_type": "markdown",
   "id": "7e22dbaf",
   "metadata": {},
   "source": [
    "<hr style=\"border:2px solid gray\">\n",
    "\n",
    "## Installing an Environment\n",
    "\n",
    "This course requires many Python packages with specific versions and dependencies. We suggest that you create a **new conda environment**. A conda environment is a directory containing a collection of python (and conda) packages. By creating a new environment, you will avoid changing any of the packages that have already been installed on your base environment. \n",
    "\n",
    "### `conda env` Method\n",
    "\n",
    "You may use any method that you are comfortable with, as long as the correct packages are installed. Below is one such method. The instructions for this method are also included at the top of the requirements.txt file:\n",
    "\n",
    "- Open Terminal (or power shell equivalent)\n",
    "- Run the command: `conda create -n ML_env python=3.9` - this will create a new conda environment called 'ML_env'\n",
    "- Run: `conda activate ML_env` - this will switch your environment to ML_env. \n",
    "- Run: `pip install -r requirements.txt` - in this line, all the required packages will be pip installed onto ML_env. If you renamed the requirements file or it is a different directory, enter the correct path instead.\n",
    "\n",
    "\n",
    "To list all your environments, run `conda env list`\n",
    "If you wish to switch between environments, you can either run the terminal command `conda activate {name of env}` or use the Environments tab in Anaconda Navigator\n"
   ]
  },
  {
   "cell_type": "markdown",
   "id": "eec9f508",
   "metadata": {},
   "source": [
    "<hr style=\"border:2px solid gray\">\n",
    "\n",
    "## Formatting Code (PEP 8)\n",
    "\n",
    "It is often important that your code layout stays consistent and remains readable on the screen. To achieve this, we can use formatting.\n",
    "\n",
    "One of the most standard way of formatting is PEP 8. A style guide can be found [here](https://peps.python.org/pep-0008/).\n",
    "\n",
    "- In Spyder, got to python, Preferences and then select Completion and Linting. You can then choose the autoformat on save option from Code style and formatting.\n",
    "- In VS Code, you can download formatters from extensions and select your autoformatter. More instructions can be found [here](https://code.visualstudio.com/docs/python/editing.)"
   ]
  }
 ],
 "metadata": {
  "kernelspec": {
   "display_name": "Python 3 (ipykernel)",
   "language": "python",
   "name": "python3"
  },
  "language_info": {
   "codemirror_mode": {
    "name": "ipython",
    "version": 3
   },
   "file_extension": ".py",
   "mimetype": "text/x-python",
   "name": "python",
   "nbconvert_exporter": "python",
   "pygments_lexer": "ipython3",
   "version": "3.8.13"
  }
 },
 "nbformat": 4,
 "nbformat_minor": 5
}
