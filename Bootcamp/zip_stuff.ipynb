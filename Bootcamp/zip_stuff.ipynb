{
 "cells": [
  {
   "cell_type": "markdown",
   "id": "f4d48f72",
   "metadata": {},
   "source": [
    "# The `zip` Built-In Function"
   ]
  },
  {
   "cell_type": "markdown",
   "id": "a455761c",
   "metadata": {},
   "source": [
    "The `zip` function in python takes iterables (lists, tuples, arrays etc.) as arguments, and returns a zip object. This is not a type of list or array, but an iterator. The object can easily be converted explicitly into a list, using `list()`.\n",
    "The structure of the iterator is: the first item of every iterable is grouped together in a tuple, then the second, then the third, etc. See below for examples"
   ]
  },
  {
   "cell_type": "markdown",
   "id": "11526e33",
   "metadata": {},
   "source": [
    "#### Creating the object\n",
    "\n",
    "Below is an example of zipping 3 lists together."
   ]
  },
  {
   "cell_type": "code",
   "execution_count": 1,
   "id": "1f3059e9",
   "metadata": {},
   "outputs": [],
   "source": [
    "a = [1, 2, 3]\n",
    "b = [4 ,5, 6]\n",
    "c = [7, 8, 9]\n",
    "zippedA = zip(a,b,c)"
   ]
  },
  {
   "cell_type": "markdown",
   "id": "7925df8e",
   "metadata": {},
   "source": [
    "#### Inspecting the object\n",
    "\n",
    "We have created our zip object in the above cell. Run the cell below to inspect this new object."
   ]
  },
  {
   "cell_type": "code",
   "execution_count": 2,
   "id": "0048008e",
   "metadata": {},
   "outputs": [
    {
     "name": "stdout",
     "output_type": "stream",
     "text": [
      "<zip object at 0x7fdddd77f200>\n"
     ]
    }
   ],
   "source": [
    "print(zippedA)"
   ]
  },
  {
   "cell_type": "markdown",
   "id": "140ca165",
   "metadata": {},
   "source": [
    "#### Using the Iterator\n",
    "\n",
    "We will use our object, and notice an important feature about it."
   ]
  },
  {
   "cell_type": "code",
   "execution_count": 5,
   "id": "23164140",
   "metadata": {},
   "outputs": [],
   "source": [
    "for i,j,k in zippedA:\n",
    "    print(i,j,k)"
   ]
  },
  {
   "cell_type": "markdown",
   "id": "aefd2da1",
   "metadata": {},
   "source": [
    "<div style=\"background-color:#C2F5DD\">\n",
    "\n",
    "## Exercise\n",
    "\n",
    "If you try to run the above cell more than once, what do you notice?"
   ]
  },
  {
   "cell_type": "markdown",
   "id": "045dbdd0",
   "metadata": {},
   "source": [
    "The nature of an iterator object is such that once we have iterated through, it is exhausted, after which it is essentially pointing to an empty collection."
   ]
  },
  {
   "cell_type": "markdown",
   "id": "03e7febc",
   "metadata": {},
   "source": [
    "We can also use our iterator in the following manner - notice the difference between the previous for loop and this one."
   ]
  },
  {
   "cell_type": "code",
   "execution_count": 8,
   "id": "aabbf8d3",
   "metadata": {},
   "outputs": [
    {
     "name": "stdout",
     "output_type": "stream",
     "text": [
      "(1, 4, 7)\n",
      "(2, 5, 8)\n",
      "(3, 6, 9)\n"
     ]
    }
   ],
   "source": [
    "a = [1, 2, 3]\n",
    "b = [4 ,5, 6]\n",
    "c = [7, 8, 9]\n",
    "zippedA = zip(a,b,c)\n",
    "\n",
    "for i in zippedA:\n",
    "    print(i)"
   ]
  },
  {
   "cell_type": "markdown",
   "id": "992ce5da",
   "metadata": {},
   "source": [
    "#### Converting the zip object to a list\n",
    "\n",
    "To permanently keep what we have zipped, we can convert out zip object into a list. "
   ]
  },
  {
   "cell_type": "code",
   "execution_count": 9,
   "id": "2b66527e",
   "metadata": {},
   "outputs": [
    {
     "name": "stdout",
     "output_type": "stream",
     "text": [
      "[(4, 8, 6), (9, 7, 5), (3, 2, 3)]\n"
     ]
    }
   ],
   "source": [
    "d = [4, 9, 3]\n",
    "e = [8, 7, 2]\n",
    "f = [6, 5, 3]\n",
    "\n",
    "zippedD = zip(d,e,f)\n",
    "listD = list(zippedD)\n",
    "\n",
    "print(listD)"
   ]
  },
  {
   "cell_type": "markdown",
   "id": "e9f99873",
   "metadata": {},
   "source": [
    "#### Converting to `numpy.array`\n",
    "\n",
    "Note that we cannot directly convert out `zip` object to an array."
   ]
  },
  {
   "cell_type": "code",
   "execution_count": 11,
   "id": "c53f9a13",
   "metadata": {},
   "outputs": [
    {
     "name": "stdout",
     "output_type": "stream",
     "text": [
      "<zip object at 0x7fdddd7ab0c0>\n"
     ]
    }
   ],
   "source": [
    "import numpy as np\n",
    "arrayD = np.array(zippedD)\n",
    "print(arrayD)"
   ]
  },
  {
   "cell_type": "markdown",
   "id": "5b1da75c",
   "metadata": {},
   "source": [
    "This is not what we want. You would have to convert from a zip object to a list, to an array. This is not advised. Numpy has its own functions for combining iterables, namely [vstack](https://numpy.org/doc/stable/reference/generated/numpy.vstack.html) and [hstack](https://numpy.org/doc/stable/reference/generated/numpy.hstack.html)."
   ]
  },
  {
   "cell_type": "markdown",
   "id": "912e817c",
   "metadata": {},
   "source": [
    "<div style=\"background-color: #FFF8C6\">\n",
    "\n",
    "## Exercise (Hard)\n",
    "\n",
    "Below are 3 lists of length $n$. For each iteration, sum the $n$th element of the `list1` and `list2` and multiply by the $n$th element of `list3`. Print the result after each iteration, accompanied by a little message. Finally, print the sum of all of the results.\n",
    "\n",
    "</div>\n",
    "\n",
    "#### Example Input/Output\n",
    "    \n",
    "\n",
    "\n",
    " ```python\n",
    "\n",
    "# input\n",
    "\n",
    "list1 = [2, 3, 1]\n",
    "list2 = [3, 1, 5]\n",
    "list3 = [2, 3, 3]\n",
    "\n",
    "# output\n",
    "\n",
    "'Iteration 1:' 10\n",
    "'Iteration 2:' 12\n",
    "'Iteration 3:' 18\n",
    "    \n",
    "'Final sum:' 40\n",
    "```"
   ]
  },
  {
   "cell_type": "markdown",
   "id": "64e661d7",
   "metadata": {},
   "source": [
    "## Solution (we can hide this block below)"
   ]
  },
  {
   "cell_type": "code",
   "execution_count": 14,
   "id": "14983de6",
   "metadata": {},
   "outputs": [
    {
     "name": "stdout",
     "output_type": "stream",
     "text": [
      "Iteration 1: 6\n",
      "Iteration 2: 72\n",
      "Iteration 3: 54\n",
      "Iteration 4: 91\n",
      "Iteration 5: 48\n",
      "\n",
      "Final sum: 271\n"
     ]
    }
   ],
   "source": [
    "list1 = [1,7,4,9,3]\n",
    "list2 = [2,2,2,4,5]\n",
    "list3 = [2,8,9,7,6]\n",
    "\n",
    "counter = 1\n",
    "final = 0\n",
    "for i,j,k in zip(list1, list2, list3):\n",
    "    num = (i+j)*k\n",
    "    print(f'Iteration {counter}: {num}')\n",
    "    counter += 1\n",
    "    final += num\n",
    "print(f'\\nFinal sum: {final}')"
   ]
  }
 ],
 "metadata": {
  "kernelspec": {
   "display_name": "Python 3 (ipykernel)",
   "language": "python",
   "name": "python3"
  },
  "language_info": {
   "codemirror_mode": {
    "name": "ipython",
    "version": 3
   },
   "file_extension": ".py",
   "mimetype": "text/x-python",
   "name": "python",
   "nbconvert_exporter": "python",
   "pygments_lexer": "ipython3",
   "version": "3.9.12"
  }
 },
 "nbformat": 4,
 "nbformat_minor": 5
}
