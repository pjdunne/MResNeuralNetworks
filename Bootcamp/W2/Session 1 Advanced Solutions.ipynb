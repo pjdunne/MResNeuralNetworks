{
 "cells": [
  {
   "cell_type": "markdown",
   "metadata": {},
   "source": [
    "# Non-Array Data Structures Solutions"
   ]
  },
  {
   "cell_type": "markdown",
   "metadata": {},
   "source": [
    "<div style=\"background-color: #00FF00\">\n",
    "\n",
    "**Exercise: the following data structures are either tuples,lists or arrays, query their data types. For each data structure, convert them to the other data structures: i.e. convert the array to a list and tuple, the list to an array and list, and the list to an array and tuple:**"
   ]
  },
  {
   "cell_type": "code",
   "execution_count": 8,
   "metadata": {},
   "outputs": [],
   "source": [
    "import numpy as np\n",
    "\n",
    "a=np.array([1,2,3])\n",
    "b=(4,5,6)\n",
    "c=[7,8,9]\n"
   ]
  },
  {
   "cell_type": "code",
   "execution_count": 4,
   "metadata": {},
   "outputs": [
    {
     "name": "stdout",
     "output_type": "stream",
     "text": [
      "<class 'numpy.ndarray'>\n",
      "<class 'tuple'>\n",
      "<class 'list'>\n"
     ]
    }
   ],
   "source": [
    "print(type(a))\n",
    "print(type(b))\n",
    "print(type(c))\n",
    "\n",
    "a_tuple=tuple(a)\n",
    "a_list=list(a)\n",
    "\n",
    "b_list=list(b)\n",
    "b_array=np.array(b)\n",
    "\n",
    "c_list=list(c)\n",
    "c_array=np.array(c)"
   ]
  },
  {
   "cell_type": "markdown",
   "metadata": {},
   "source": [
    "# Advanced Data Structures - The Pandas DataFrame"
   ]
  },
  {
   "cell_type": "markdown",
   "metadata": {},
   "source": [
    "## Opening and examing a file with Pandas\n",
    "\n",
    "<div style=\"background-color: #00FF00\">\n",
    "** Exercise: open the Resistivity2.csv data contained with the name df using the pd.read_csv command. Use the type command and print what data structure has been generated, and then print the data itself. What does this return? **"
   ]
  },
  {
   "cell_type": "code",
   "execution_count": 5,
   "metadata": {},
   "outputs": [
    {
     "name": "stdout",
     "output_type": "stream",
     "text": [
      "<class 'pandas.core.frame.DataFrame'>\n",
      "   Temperature (K)  Resistivity Cu (ohm/m)  Resistivity Al (ohm/m)\n",
      "0              200            1.120000e-08            1.760000e-08\n",
      "1              220            1.180000e-08            2.020000e-08\n",
      "2              240            1.370000e-08            2.180000e-08\n",
      "3              260            1.520000e-08            2.300000e-08\n",
      "4              280            1.550000e-08            2.680000e-08\n",
      "5              300            1.730000e-08            2.860000e-08\n",
      "6              320            1.920000e-08            3.050000e-08\n",
      "7              340            1.990000e-08            3.330000e-08\n",
      "8              360            2.160000e-08            3.490000e-08\n"
     ]
    }
   ],
   "source": [
    "import pandas as pd\n",
    "df=pd.read_csv('Data/Resistivity2.csv')\n",
    "print(type(df))\n",
    "print(df)"
   ]
  },
  {
   "cell_type": "markdown",
   "metadata": {},
   "source": [
    "## The DataFrame\n",
    "\n",
    "<div style=\"background-color: #00FF00\">\n",
    "** Exercise: using the set_index function, make a new DataFrame df2 that has the temperature column as the index. Then, create a new DataFrame df3 that sets the index column to temperature during read in. Print these two DataFrames to look at their structure. **"
   ]
  },
  {
   "cell_type": "code",
   "execution_count": 6,
   "metadata": {},
   "outputs": [
    {
     "name": "stdout",
     "output_type": "stream",
     "text": [
      "                 Resistivity Cu (ohm/m)  Resistivity Al (ohm/m)\n",
      "Temperature (K)                                                \n",
      "200                        1.120000e-08            1.760000e-08\n",
      "220                        1.180000e-08            2.020000e-08\n",
      "240                        1.370000e-08            2.180000e-08\n",
      "260                        1.520000e-08            2.300000e-08\n",
      "280                        1.550000e-08            2.680000e-08\n",
      "300                        1.730000e-08            2.860000e-08\n",
      "320                        1.920000e-08            3.050000e-08\n",
      "340                        1.990000e-08            3.330000e-08\n",
      "360                        2.160000e-08            3.490000e-08\n",
      "                 Resistivity Cu (ohm/m)  Resistivity Al (ohm/m)\n",
      "Temperature (K)                                                \n",
      "200                        1.120000e-08            1.760000e-08\n",
      "220                        1.180000e-08            2.020000e-08\n",
      "240                        1.370000e-08            2.180000e-08\n",
      "260                        1.520000e-08            2.300000e-08\n",
      "280                        1.550000e-08            2.680000e-08\n",
      "300                        1.730000e-08            2.860000e-08\n",
      "320                        1.920000e-08            3.050000e-08\n",
      "340                        1.990000e-08            3.330000e-08\n",
      "360                        2.160000e-08            3.490000e-08\n"
     ]
    }
   ],
   "source": [
    "df2=df.set_index('Temperature (K)')\n",
    "df3=pd.read_csv('Data/Resistivity2.csv',index_col=0)\n",
    "\n",
    "print(df2)\n",
    "print(df3)"
   ]
  },
  {
   "cell_type": "markdown",
   "metadata": {},
   "source": [
    "<div style=\"background-color: #00FF00\">\n",
    "** Exercise: use the .head() and .tail() functions to look at the select parts of the DataFrame df2. How many rows does it print out by default? How can you change that? Look at the documentation to help you. **"
   ]
  },
  {
   "cell_type": "code",
   "execution_count": 7,
   "metadata": {},
   "outputs": [
    {
     "name": "stdout",
     "output_type": "stream",
     "text": [
      "                 Resistivity Cu (ohm/m)  Resistivity Al (ohm/m)\n",
      "Temperature (K)                                                \n",
      "200                        1.120000e-08            1.760000e-08\n",
      "220                        1.180000e-08            2.020000e-08\n",
      "240                        1.370000e-08            2.180000e-08\n",
      "260                        1.520000e-08            2.300000e-08\n",
      "280                        1.550000e-08            2.680000e-08\n",
      "                 Resistivity Cu (ohm/m)  Resistivity Al (ohm/m)\n",
      "Temperature (K)                                                \n",
      "280                        1.550000e-08            2.680000e-08\n",
      "300                        1.730000e-08            2.860000e-08\n",
      "320                        1.920000e-08            3.050000e-08\n",
      "340                        1.990000e-08            3.330000e-08\n",
      "360                        2.160000e-08            3.490000e-08\n",
      "                 Resistivity Cu (ohm/m)  Resistivity Al (ohm/m)\n",
      "Temperature (K)                                                \n",
      "200                        1.120000e-08            1.760000e-08\n"
     ]
    }
   ],
   "source": [
    "print(df2.head())\n",
    "print(df2.tail())\n",
    "print(df2.head(1))"
   ]
  },
  {
   "cell_type": "markdown",
   "metadata": {},
   "source": [
    "<div style=\"background-color: #00FF00\">\n",
    "** Exercise: use the DataFrame.info() command to generate a top level summary of the DataFrames df2/df3. What do you see?**"
   ]
  },
  {
   "cell_type": "code",
   "execution_count": 16,
   "metadata": {},
   "outputs": [
    {
     "name": "stdout",
     "output_type": "stream",
     "text": [
      "<class 'pandas.core.frame.DataFrame'>\n",
      "Int64Index: 9 entries, 200 to 360\n",
      "Data columns (total 2 columns):\n",
      "Resistivity Cu (ohm/m)    9 non-null float64\n",
      "Resistivity Al (ohm/m)    9 non-null float64\n",
      "dtypes: float64(2)\n",
      "memory usage: 216.0 bytes\n",
      "None\n"
     ]
    }
   ],
   "source": [
    "print(df2.info())"
   ]
  },
  {
   "cell_type": "markdown",
   "metadata": {},
   "source": [
    "### Creating a DataFrame"
   ]
  },
  {
   "cell_type": "markdown",
   "metadata": {},
   "source": [
    "<div style=\"background-color: #00FF00\">\n",
    "** Exercise: create a DataFrame from the following array: **\n",
    "\n",
    "```python\n",
    "\n",
    "Array=[[1,2,3,4],[1,2,3,4],[1,2,3,4],[1,2,3,4],[1,2,3,4],[1,2,3,4],[1,2,3,4],[1,2,3,4]]\n",
    "\n",
    "```\n",
    "\n",
    "** with the following header: **\n",
    "\n",
    "```python\n",
    "header=['a','b','c','d']\n",
    "```\n",
    "<p>\n",
    ".\n"
   ]
  },
  {
   "cell_type": "code",
   "execution_count": 17,
   "metadata": {},
   "outputs": [
    {
     "name": "stdout",
     "output_type": "stream",
     "text": [
      "   a  b  c  d\n",
      "0  1  2  3  4\n",
      "1  1  2  3  4\n",
      "2  1  2  3  4\n",
      "3  1  2  3  4\n",
      "4  1  2  3  4\n",
      "5  1  2  3  4\n",
      "6  1  2  3  4\n",
      "7  1  2  3  4\n"
     ]
    }
   ],
   "source": [
    "Array=[[1,2,3,4],[1,2,3,4],[1,2,3,4],[1,2,3,4],[1,2,3,4],[1,2,3,4],[1,2,3,4],[1,2,3,4]]\n",
    "header=['a','b','c','d']\n",
    "\n",
    "df_create=pd.DataFrame(data=Array,columns=header)\n",
    "print(df_create)"
   ]
  },
  {
   "cell_type": "markdown",
   "metadata": {},
   "source": [
    "## Plotting with Pandas"
   ]
  },
  {
   "cell_type": "markdown",
   "metadata": {},
   "source": [
    "\n",
    "<div style=\"background-color: #00FF00\">\n",
    "\n",
    "** Exercise - Plot the Al resisitivty data using both styles of plotting. Be sure to include a title and y label in your plot **"
   ]
  },
  {
   "cell_type": "code",
   "execution_count": 20,
   "metadata": {},
   "outputs": [
    {
     "data": {
      "image/png": "[encoded data removed]",
      "text/plain": [
       "<matplotlib.figure.Figure at 0xa71a8d0>"
      ]
     },
     "metadata": {},
     "output_type": "display_data"
    }
   ],
   "source": [
    "import matplotlib.pyplot as plt\n",
    "df2['Resistivity Al (ohm/m)'].plot()\n",
    "plt.show()"
   ]
  },
  {
   "cell_type": "code",
   "execution_count": 21,
   "metadata": {},
   "outputs": [
    {
     "data": {
      "text/plain": [
       "<matplotlib.axes._subplots.AxesSubplot at 0xa70ff28>"
      ]
     },
     "execution_count": 21,
     "metadata": {},
     "output_type": "execute_result"
    },
    {
     "data": {
      "image/png": "[encoded data removed]",
      "text/plain": [
       "<matplotlib.figure.Figure at 0xa71a7b8>"
      ]
     },
     "metadata": {},
     "output_type": "display_data"
    }
   ],
   "source": [
    "df.plot('Temperature (K)','Resistivity Al (ohm/m)')"
   ]
  },
  {
   "cell_type": "markdown",
   "metadata": {},
   "source": [
    "## Filtering DataFrames"
   ]
  },
  {
   "cell_type": "markdown",
   "metadata": {},
   "source": [
    "<div style=\"background-color: #00FF00\">\n",
    "\n",
    "** Exercise: extract the data for each origin into a separate DataFrame, like the code snippet above. Then plot the weight vs mpg of each car region on the same graph in different colours to answer the question: which region produces cars with the worst mpg? **\n",
    "\n",
    "** Hint: To get each scatter plot on a common axis, you will need to use the ax keyword argument. Consult Google, the Pandas documentation, and Stack Overflow about how to go about this! **"
   ]
  },
  {
   "cell_type": "code",
   "execution_count": 25,
   "metadata": {},
   "outputs": [
    {
     "data": {
      "text/plain": [
       "<matplotlib.legend.Legend at 0xb1b2588>"
      ]
     },
     "execution_count": 25,
     "metadata": {},
     "output_type": "execute_result"
    },
    {
     "data": {
      "image/png": "[encoded data removed]",
      "text/plain": [
       "<matplotlib.figure.Figure at 0xb2861d0>"
      ]
     },
     "metadata": {},
     "output_type": "display_data"
    }
   ],
   "source": [
    "import pandas as pd\n",
    "\n",
    "car_df=pd.read_csv('Data/Car_Data.csv')\n",
    "\n",
    "car_df_US=car_df[car_df['origin'].str.contains('US')]\n",
    "car_df_Asia=car_df[car_df['origin'].str.contains('Asia')]\n",
    "car_df_Europe=car_df[car_df['origin'].str.contains('Europe')]\n",
    "ax=car_df_US.plot.scatter(x='weight',y='mpg',color='red',label='US')\n",
    "car_df_Asia.plot.scatter(x='weight',y='mpg',color='blue',ax=ax,label='Asia')\n",
    "car_df_Europe.plot.scatter(x='weight',y='mpg',color='black',ax=ax,label='Europe')\n",
    "plt.legend()"
   ]
  }
 ],
 "metadata": {
  "kernelspec": {
   "display_name": "Python 3",
   "language": "python",
   "name": "python3"
  },
  "language_info": {
   "codemirror_mode": {
    "name": "ipython",
    "version": 3
   },
   "file_extension": ".py",
   "mimetype": "text/x-python",
   "name": "python",
   "nbconvert_exporter": "python",
   "pygments_lexer": "ipython3",
   "version": "3.7.6"
  }
 },
 "nbformat": 4,
 "nbformat_minor": 2
}
