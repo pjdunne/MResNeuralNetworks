{
 "cells": [
  {
   "cell_type": "markdown",
   "metadata": {},
   "source": [
    "# Python Bootcamp Part 2 - Object-Orientated Programming"
   ]
  },
  {
   "cell_type": "markdown",
   "metadata": {},
   "source": [
    "<hr style=\"border:2px solid gray\">\n",
    "\n",
    "# Index: <a id='index'></a>\n",
    "0. [Introduction to Part 2](#intro)\n",
    "1. [Modules](#modules)\n",
    "1. [Namespaces and Scope](#name)\n",
    "    1. [locals() and globals()](#local)\n",
    "1. [Classes and Objects](#classes)\n",
    "    1. [Attributes](#attributes)\n",
    "    1. [Docstrings in Classes](#docstrings)\n",
    "    1. [Private Attribtues and Name Mangling](#private)\n",
    "    1. [Exceptions](#exceptions)\n",
    "1. [Inheritance](#inheritance)\n",
    "    1. [Composition vs. Inheritance](#comp)\n",
    "    1. [Initialization functions under Inheritance](#init)\n",
    "    1. [isinstance()](#instance)\n",
    "    1. [Class Variables](#class)\n"
   ]
  },
  {
   "cell_type": "markdown",
   "metadata": {},
   "source": [
    "<hr style=\"border:2px solid gray\">\n",
    "\n",
    "# Introduction to Part 2 [^](#index)  <a id=\"intro\"></a>\n",
    "\n",
    "The first notebook of this bootcamp provided an introduction to basic programming in Python. In this section, we will look at more challenging aspects of Python, focusing on **Object-Orientated Programming (OOP)**\n",
    "\n",
    "### Procedural Approach\n",
    "\n",
    "The code we have looked at so far took a **procedural approach** to programming. In procedural programming, there is a clear distinction between variables (and the data structures that hold them) and the procedures (functions, subroutines, blocks of code) that operate on the data. \n",
    "\n",
    "### Object-Orientated Programming\n",
    "\n",
    "In OOP, variables and data structures are **bundled together** with procedures into **objects**.  The OOP approach allows a complex programming task to be broken down into self-contained components that can be used by other parts of the program.\n",
    "\n",
    "All individual objects have three basic characteristics:\n",
    "- **Identity** (i.e. name, this must be unique and distinct)\n",
    "- **State** (describes the current properties of the specific object)\n",
    "- **Behaviour** (refers to actions the object can take)\n",
    "\n",
    "The Python programming language fully supports the object-oriented programming **paradigm**. Although it is possible to ignore the object-oriented aspects of Python and treat it as a procedural programming language, practically everything in Python is in fact an object. Data structures and variables are objects. Data types are objects. Imported modules are objects. In Python, even functions are actually objects.\n"
   ]
  },
  {
   "cell_type": "markdown",
   "metadata": {},
   "source": [
    "#### IPython Console Tips \n",
    "\n",
    "Commands can be directly entered into the cells of Jupyter notebooks - the Python cells within the notebook can function as a Bash terminal, allowing you to execute Bash commands alongside Python code.\n",
    "\n",
    "- reset -f clears all your variables/objects/functions/modules, so you can start afresh:\n",
    "\n",
    "- %run \\<script> runs the python code in the file script.py.\n",
    "\n",
    "- %time <statement> times how long it takes to execute the python statement or expression. (See also %timeit.):\n",
    "\n",
    "- %magic prints the (rather long) documentation on IPython magic commands to the console.\n",
    "\n",
    "- %lsmagic lists the magic commands."
   ]
  },
  {
   "cell_type": "markdown",
   "metadata": {},
   "source": [
    "# Modules [^](#index) <a id='modules'></a>\n",
    "\n",
    "In practice, Object-Oriented Programming (OOP) allows classes to be written in modules, which can be imported and utilised by other modules or scripts. By organising classes into modules, it is possible to encapsulate functionality and keep the implementation details hidden from the user.\n",
    "\n",
    "For example, a set of related classes can be defined in a module and imported as a cohesive unit into another script or module. This abstraction enables the user to interact with the classes and their methods without needing to know the underlying implementation details.\n",
    "\n",
    "A separate module can be created and saved as a file, such as mymodule.py. This module can then be imported as a custom module, allowing the user to access and utilise the classes, functions, or variables defined within it in their own code, through:\n"
   ]
  },
  {
   "cell_type": "markdown",
   "metadata": {},
   "source": [
    "<div style=\"background-color:#C2F5DD\">\n",
    "\n",
    "## Exercise\n",
    "\n",
    "Create a file called mymodule.py - in your file, paste this code. Make sure to save the python file in the same directory as this notebook. We will discuss the meaning of the underscores soon.\n",
    "\n",
    "</div>\n",
    "    \n",
    "```python\n",
    "\n",
    "import numpy as _np\n",
    "\n",
    "_sqrt5 = _np.sqrt(5.0)\n",
    "_phi = (1.0+_np.sqrt(5.0)) / 2.0\n",
    "\n",
    "\n",
    "def fibo1(n):\n",
    "    \"Implement method 1 to calculate a Fibonacci number\"\n",
    "    val = int(_phi**n/_sqrt5 + 0.5)\n",
    "    return val\n",
    "\n",
    "\n",
    "def fibo2(n):\n",
    "    \"Implement method 2 to calculate a Fibonacci number\"\n",
    "    val = (_phi**n - (-_phi)**(-n)) / _sqrt5\n",
    "    return val\n",
    "\n",
    "\n",
    "def fibo(n):\n",
    "    \"Calculate the nth Fibonacci number\"\n",
    "    return __fibo_impl(n)\n",
    "\n",
    "\n",
    "__fibo_impl = fibo1\n",
    "\n",
    "__all__ = ['fibo']\n",
    "\n",
    "```"
   ]
  },
  {
   "cell_type": "markdown",
   "metadata": {},
   "source": [
    "Now imagine we would like to use these functions in another Python file; we would need to **import** this module. There are a few ways to do this:"
   ]
  },
  {
   "cell_type": "code",
   "execution_count": 1,
   "metadata": {},
   "outputs": [
    {
     "name": "stdout",
     "output_type": "stream",
     "text": [
      "55\n"
     ]
    }
   ],
   "source": [
    "# methods of import\n",
    "\n",
    "import mymodule as mym\n",
    "\n",
    "print(mym.fibo(10))\n"
   ]
  },
  {
   "cell_type": "markdown",
   "metadata": {},
   "source": [
    "The next two methods import the specified names directly into the current **namespace** (more to come). \n",
    "\n",
    "The `*` form imports all available names into the namespace.\n",
    "\n",
    "If the module defines ```__all__```, it is used to determine which names get imported using\n",
    "the ```import * ``` form. \n",
    "\n",
    "```__all__``` must be a list of strings containing the names to be imported. This is a convenient way of limiting the names that get imported only to those that the user of the module might need. \n",
    "\n",
    "(Even if ```__all__``` is not defined, names beginning with an underscore do not get imported into the current namespace.)"
   ]
  },
  {
   "cell_type": "code",
   "execution_count": 8,
   "metadata": {},
   "outputs": [
    {
     "name": "stdout",
     "output_type": "stream",
     "text": [
      "6765\n"
     ]
    }
   ],
   "source": [
    "from mymodule import fibo1\n",
    "\n",
    "print(fibo1(20))"
   ]
  },
  {
   "cell_type": "code",
   "execution_count": 9,
   "metadata": {},
   "outputs": [],
   "source": [
    "from mymodule import *"
   ]
  },
  {
   "cell_type": "markdown",
   "metadata": {},
   "source": [
    "<div style=\"background-color:#C2F5DD\">\n",
    "\n",
    "### Exercise\n",
    "\n",
    "Try editing the mymodules.py file, and check you understand this import behaviour. "
   ]
  },
  {
   "cell_type": "markdown",
   "metadata": {},
   "source": [
    "# Namespaces and Scope [^](#index) <a id='name'></a>\n",
    "A **namespace** is a mapping from names to objects. At different points during the execution of a program there will be different namespaces available depending on the current **scope**. \n",
    "\n",
    "A scope is a section in the code over which a particular namespace is accessible, for example if the current point of execution is inside a function func(), then the scope is the section of code that makes up that function. At any given point during the execution there will be several namespaces present depending on the nested scopes:\n",
    "\n",
    "- the innermost namespace, or the local namespace — when inside the execution of a function, the function’s namespace is the innermost namespace.\n",
    "\n",
    "- the module namespace — this contains the current module’s global names, (by global we mean those not defined inside other functions or inside other objects in the module).\n",
    "\n",
    "- the outermost namespace — this contains the built-in functions.\n",
    "\n",
    "Namespaces are created at different points during the execution.\n",
    "\n",
    "- When the IPython console is started (or when a script is run) a pseudo-module called `__main__` is created. Variables defined in the console or the run script go into it’s namespace.\n",
    "\n",
    "- When a module is imported, all the variables/functions/classes that it defines are grouped into a namespace which is accessible by using the name of the module as a prefix, e.g. modulename.variable or modulename.function.\n",
    "\n",
    "- A function’s local namespace is created whenever the function is entered, and it is forgotten when the function returns. Each invocation of the function gets its own namespace.\n",
    "\n",
    "See the following example:"
   ]
  },
  {
   "cell_type": "code",
   "execution_count": 9,
   "metadata": {},
   "outputs": [
    {
     "name": "stdout",
     "output_type": "stream",
     "text": [
      "Loading my module.\n"
     ]
    }
   ],
   "source": [
    "\"\"\"\n",
    "Some Module.\n",
    "\"\"\"\n",
    "\n",
    "print(\"Loading my module.\")\n",
    "# This print function is not defined here but exists within the 'built-in' namespace.\n",
    "# we always have access to the 'built-in' namespace.\n",
    "\n",
    "my_global_var = 123\n",
    "# At module scope we have access to only the 'global' and 'built-in' namespace.\n",
    "# This namespace is created when we first load our module. Any variables that we\n",
    "# define here (like my_global_var) are called global variables.\n",
    "\n",
    "def funcA(a, b, c):\n",
    "    \"Some function.\"\n",
    "    my_local_var = a * b + c\n",
    "    # Inside this function scope we have access to the 'local', 'global' and 'built-in' namespaces.\n",
    "    # This namespace is recreated each time we enter the function and contains amongst\n",
    "    # other things the args a, b and c as well as any variables we define here\n",
    "    # (like my_local_var) which are hence called 'local' variables."
   ]
  },
  {
   "cell_type": "markdown",
   "metadata": {},
   "source": [
    "Now try to create a module to be imported.\n"
   ]
  },
  {
   "cell_type": "markdown",
   "metadata": {},
   "source": [
    "## locals() and globals() [^](#index) <a id='local'></a>"
   ]
  },
  {
   "cell_type": "markdown",
   "metadata": {},
   "source": [
    "You can access **and edit** all of the objects in the global namespace using `globals()`, which returns a dictionary.\n",
    "\n",
    "`locals()` can similarly be used to view all of the objects in your current namespace, however it **cannot** be used to edit objects."
   ]
  },
  {
   "cell_type": "code",
   "execution_count": 34,
   "metadata": {
    "scrolled": true
   },
   "outputs": [
    {
     "name": "stdout",
     "output_type": "stream",
     "text": [
      "Local variable y: 20\n",
      "Global variable x: 10\n",
      "20\n",
      "Modified global variable x: 30\n",
      "Modified local variable y: 20\n"
     ]
    }
   ],
   "source": [
    "x = 10  # Global variable\n",
    "\n",
    "def my_function():\n",
    "    y = 20  # Local variable\n",
    "    \n",
    "    # Accessing local variable\n",
    "    print(\"Local variable y:\", y)\n",
    "    \n",
    "    # Accessing global variable\n",
    "    print(\"Global variable x:\", globals()['x'])\n",
    "\n",
    "    # Modifying global variable using global()\n",
    "    global x\n",
    "    x = 30\n",
    "    \n",
    "    # try uncommenting the line below\n",
    "    #globals()['x'] = 50 \n",
    "    \n",
    "    # You cannot modify the local variable y using the dictionary locals()\n",
    "    print(locals()['y'])\n",
    "    locals()['y'] = 40\n",
    "    \n",
    "    # Printing the modified variables\n",
    "    print(\"Modified global variable x:\", x)\n",
    "    print(\"Modified local variable y:\", y)\n",
    "\n",
    "# Calling the function\n",
    "my_function()"
   ]
  },
  {
   "cell_type": "code",
   "execution_count": 22,
   "metadata": {},
   "outputs": [],
   "source": [
    "def func123():\n",
    "    x = 1\n",
    "    y = 2\n",
    "    print(locals())\n",
    "\n",
    "func123()"
   ]
  },
  {
   "cell_type": "markdown",
   "metadata": {},
   "source": [
    "# Classes and Objects [^](#index) <a id='classes'></a>\n",
    " \n",
    "The class is a template for making objects. In Python, we define a new class using the keyword `class`. A class definition creates a new scope: the class scope. Names declared in the class are available only inside the class scope."
   ]
  },
  {
   "cell_type": "markdown",
   "metadata": {},
   "source": [
    "## Attributes [^](#index) <a id='attributes'></a>"
   ]
  },
  {
   "cell_type": "markdown",
   "metadata": {},
   "source": [
    "### Data Attributes\n",
    "\n",
    "**Data** attributes are data that are held by the instance. In the case below, c.i is a data attribute of c. Each instance of the class Counter gets its own set of data attributes."
   ]
  },
  {
   "cell_type": "markdown",
   "metadata": {},
   "source": [
    "### Method Attributes\n",
    "\n",
    "The other type of attribute is a **method**. In the case below, `c.addone()` and `c.reset()` are method attributes.  Any function that is defined in the class gives rise to a corresponding method attribute in the object. The key difference between a method and a function is that methods are functions that **belong** to the object.\n",
    "\n",
    "A method attribute can be thought of as a reference to the function in the class. When one calls the method, the class function is called with the instance inserted into the parameter list as the first parameter. For example, `c.addone()` is equivalent to `Counter.addone(c)` This allows `addone()` to have access to the attributes of the instance object. Similarly, `c.reset(5)` is equivalent to `Counter.reset(c, 5)`.\n",
    "\n",
    "Notice that the first argument in the definitions of the methods of the class is called `self`. In fact this is only a convention: there is nothing special about the name self and you could use whatever you like. However, it is a VERY strong convention and if you want your code to be readable to other Python programmers you are strongly encouraged to stick to it. (Similarly, it is a good idea not to use the name self for anything other than the first argument in a class method function.)"
   ]
  },
  {
   "cell_type": "markdown",
   "metadata": {},
   "source": [
    "#### Initialisation: `__init__()`\n",
    "\n",
    "It is often useful to be able to perform initialisation on the newly created instance object. If the class contains a function `__init__()`, then this method is called automatically during the instantiation (when we create an instance of the class). This dictates the initial attributes of the object.\n",
    "\n",
    "Below is an example of creating and instantiating a class"
   ]
  },
  {
   "cell_type": "markdown",
   "metadata": {},
   "source": [
    "By convention, class names are capitalised."
   ]
  },
  {
   "cell_type": "code",
   "execution_count": 38,
   "metadata": {},
   "outputs": [],
   "source": [
    "class Counter:\n",
    "    def __init__(self):\n",
    "        self.i = 0\n",
    "    def addone(self):\n",
    "        self.i += 1\n",
    "    def reset(self, i=0):\n",
    "        self.i = i"
   ]
  },
  {
   "cell_type": "code",
   "execution_count": 12,
   "metadata": {},
   "outputs": [],
   "source": [
    "c = Counter()"
   ]
  },
  {
   "cell_type": "markdown",
   "metadata": {},
   "source": [
    "We have created a new instance of the class and assigned it to the name c. If the class has a method called `__init__()` it gets called during instantiation and can be used to initialise the object. In this case to create the attribute i.\n",
    "\n",
    "We can access the attributes of c using the dot notation:"
   ]
  },
  {
   "cell_type": "code",
   "execution_count": 14,
   "metadata": {},
   "outputs": [
    {
     "name": "stdout",
     "output_type": "stream",
     "text": [
      "0\n",
      "2\n",
      "5\n"
     ]
    }
   ],
   "source": [
    "print(c.i)\n",
    "\n",
    "c.addone()\n",
    "c.addone()\n",
    "print(c.i)\n",
    "\n",
    "c.reset(5)\n",
    "print(c.i)"
   ]
  },
  {
   "cell_type": "markdown",
   "metadata": {},
   "source": [
    "Now consider the following example class to implement a complex number (Note: in practice we would not actually write our own complex number class - Python already has perfectly good complex numbers built in!)"
   ]
  },
  {
   "cell_type": "markdown",
   "metadata": {},
   "source": [
    "Figure 1 shows a schematic of a general class (left) and the complex number class (right) that will be developed as an example below.\n",
    "\n",
    "\n",
    "\n",
    "![Classes by Composition](classes_by_composition.png)\n"
   ]
  },
  {
   "cell_type": "code",
   "execution_count": 44,
   "metadata": {},
   "outputs": [
    {
     "name": "stdout",
     "output_type": "stream",
     "text": [
      "42.0 24.0\n"
     ]
    }
   ],
   "source": [
    "class MyComplex:\n",
    "    def __init__(self, re=0.0, im=0.0):\n",
    "        self.real = re\n",
    "        self.imag = im\n",
    "\n",
    "c1 = MyComplex(42.0, 24.0)\n",
    "print(c1.real, c1.imag)"
   ]
  },
  {
   "cell_type": "code",
   "execution_count": 46,
   "metadata": {},
   "outputs": [
    {
     "data": {
      "text/plain": [
       "['__class__',\n",
       " '__delattr__',\n",
       " '__dict__',\n",
       " '__dir__',\n",
       " '__doc__',\n",
       " '__eq__',\n",
       " '__format__',\n",
       " '__ge__',\n",
       " '__getattribute__',\n",
       " '__gt__',\n",
       " '__hash__',\n",
       " '__init__',\n",
       " '__init_subclass__',\n",
       " '__le__',\n",
       " '__lt__',\n",
       " '__module__',\n",
       " '__ne__',\n",
       " '__new__',\n",
       " '__reduce__',\n",
       " '__reduce_ex__',\n",
       " '__repr__',\n",
       " '__setattr__',\n",
       " '__sizeof__',\n",
       " '__str__',\n",
       " '__subclasshook__',\n",
       " '__weakref__']"
      ]
     },
     "execution_count": 46,
     "metadata": {},
     "output_type": "execute_result"
    }
   ],
   "source": [
    "# use dir to inspect all the attributes of a given class.\n",
    "\n",
    "dir(MyComplex)"
   ]
  },
  {
   "cell_type": "code",
   "execution_count": 47,
   "metadata": {},
   "outputs": [
    {
     "data": {
      "text/plain": [
       "['__class__',\n",
       " '__delattr__',\n",
       " '__dict__',\n",
       " '__dir__',\n",
       " '__doc__',\n",
       " '__eq__',\n",
       " '__format__',\n",
       " '__ge__',\n",
       " '__getattribute__',\n",
       " '__gt__',\n",
       " '__hash__',\n",
       " '__init__',\n",
       " '__init_subclass__',\n",
       " '__le__',\n",
       " '__lt__',\n",
       " '__module__',\n",
       " '__ne__',\n",
       " '__new__',\n",
       " '__reduce__',\n",
       " '__reduce_ex__',\n",
       " '__repr__',\n",
       " '__setattr__',\n",
       " '__sizeof__',\n",
       " '__str__',\n",
       " '__subclasshook__',\n",
       " '__weakref__',\n",
       " 'imag',\n",
       " 'real']"
      ]
     },
     "execution_count": 47,
     "metadata": {},
     "output_type": "execute_result"
    }
   ],
   "source": [
    "# we can equally do this for an instance of a class, and we would get the same result.\n",
    "\n",
    "c = MyComplex()\n",
    "dir(c)"
   ]
  },
  {
   "cell_type": "markdown",
   "metadata": {},
   "source": []
  },
  {
   "cell_type": "markdown",
   "metadata": {},
   "source": [
    "## Docstrings in Classes [^](#index) <a id='docstrings'></a>\n",
    "\n",
    "Note that our class also has a couple of other attributes that we have not explicitly defined (`__doc__` and `__module__`). `__module__` is the name of the module in which the class was defined. `__doc__` can be used for documenting the class, in the same way we have seen previously for documenting functions. We can define `__doc__` explicitly if we wish:"
   ]
  },
  {
   "cell_type": "code",
   "execution_count": 19,
   "metadata": {},
   "outputs": [],
   "source": [
    "class MyComplex:\n",
    "    def __init__(self, re=0.0, im=0.0):\n",
    "        self.real = re\n",
    "        self.imag = im\n",
    "\n",
    "    __doc__ = \"\"\"\n",
    "    Another complex number class\n",
    "    (WARNING: you probably want to use Python's built-in complex instead)\n",
    "    \"\"\""
   ]
  },
  {
   "cell_type": "markdown",
   "metadata": {},
   "source": [
    "However, it is more usual (and more readable) to use a docstring immediately inside the class definition block:\n",
    "\n",
    "(Most modern IDEs have built-in functionality which can generate a docstring for you.)"
   ]
  },
  {
   "cell_type": "code",
   "execution_count": null,
   "metadata": {},
   "outputs": [],
   "source": [
    "class MyComplex:\n",
    "    \"\"\"\n",
    "    Another complex number class\n",
    "    (WARNING: you probably want to use Python's built-in complex instead)\n",
    "    \"\"\"\n",
    "\n",
    "    def __init__(self, re=0.0, im=0.0):\n",
    "        self.real = re\n",
    "        self.imag = im"
   ]
  },
  {
   "cell_type": "markdown",
   "metadata": {},
   "source": [
    "The `help()` function can be used to print all of the details about a class (or function), including the docstring."
   ]
  },
  {
   "cell_type": "code",
   "execution_count": 20,
   "metadata": {},
   "outputs": [
    {
     "name": "stdout",
     "output_type": "stream",
     "text": [
      "Help on class MyComplex in module __main__:\n",
      "\n",
      "class MyComplex(builtins.object)\n",
      " |  MyComplex(re=0.0, im=0.0)\n",
      " |  \n",
      " |  Another complex number class\n",
      " |  (WARNING: you probably want to use Python's built-in complex instead)\n",
      " |  \n",
      " |  Methods defined here:\n",
      " |  \n",
      " |  __init__(self, re=0.0, im=0.0)\n",
      " |      Initialize self.  See help(type(self)) for accurate signature.\n",
      " |  \n",
      " |  ----------------------------------------------------------------------\n",
      " |  Data descriptors defined here:\n",
      " |  \n",
      " |  __dict__\n",
      " |      dictionary for instance variables (if defined)\n",
      " |  \n",
      " |  __weakref__\n",
      " |      list of weak references to the object (if defined)\n",
      "\n"
     ]
    }
   ],
   "source": [
    "help(MyComplex)"
   ]
  },
  {
   "cell_type": "markdown",
   "metadata": {},
   "source": [
    "<div style=\"background-color:#C2F5DD\">\n",
    "\n",
    "### Exercise\n",
    "\n",
    "Write a class called FourVector. You should be able to initialize instances with space-like and time-like parameters. You will need to store the four components inside the object, in data attributes. For this example, store the three space-like components as a NumPy array in a with name r and the time-like component as a number in a with name ct.\n",
    "Make sure that your FourVector class allows the following ways of instantiation all to work for your FourVector:\n",
    "\n",
    "- P0 = FourVector()  #should initialize to zero\n",
    "\n",
    "- P1 = FourVector(ct=99.9, r=[1, 2, 3])\n",
    "    - Notice carefully that the initialization above is achieved with parameter r specified as a list rather than a NumPy array.\n",
    "\n",
    "Give your class a docstring.\n",
    "\n",
    "Put your class inside a new module called relativity.\n",
    "\n",
    "Check that you can correctly instantiate FourVector objects and that your instances are independent of each other.\n",
    "\n",
    "</div>"
   ]
  },
  {
   "cell_type": "markdown",
   "metadata": {},
   "source": [
    "### `__repr__()`  and  `__str__()` [^](#index)"
   ]
  },
  {
   "cell_type": "markdown",
   "metadata": {},
   "source": [
    "When we type an object name at the command line, what actually happens is that the built-in function repr() is called to produce a string representation of the object. We could call repr() on any object directly if we wish:"
   ]
  },
  {
   "cell_type": "code",
   "execution_count": 49,
   "metadata": {},
   "outputs": [
    {
     "name": "stdout",
     "output_type": "stream",
     "text": [
      "[0 1 2 3] {'name': 'Ignavus', 'feedback': 'Work harder.'}\n"
     ]
    }
   ],
   "source": [
    "import numpy\n",
    "r = numpy.arange(4)\n",
    "d = dict(name='Ignavus', feedback='Work harder.')\n",
    "print(r, d)\n"
   ]
  },
  {
   "cell_type": "code",
   "execution_count": 53,
   "metadata": {},
   "outputs": [
    {
     "data": {
      "text/plain": [
       "{'name': 'Ignavus', 'feedback': 'Work harder.'}"
      ]
     },
     "execution_count": 53,
     "metadata": {},
     "output_type": "execute_result"
    }
   ],
   "source": [
    "d"
   ]
  },
  {
   "cell_type": "code",
   "execution_count": 52,
   "metadata": {},
   "outputs": [
    {
     "data": {
      "text/plain": [
       "\"{'name': 'Ignavus', 'feedback': 'Work harder.'}\""
      ]
     },
     "execution_count": 52,
     "metadata": {},
     "output_type": "execute_result"
    }
   ],
   "source": [
    "repr(d)"
   ]
  },
  {
   "cell_type": "markdown",
   "metadata": {},
   "source": [
    "Let's consider an example using our complex number class:"
   ]
  },
  {
   "cell_type": "code",
   "execution_count": 23,
   "metadata": {},
   "outputs": [
    {
     "data": {
      "text/plain": [
       "<__main__.MyComplex at 0x7fd2085bcb80>"
      ]
     },
     "execution_count": 23,
     "metadata": {},
     "output_type": "execute_result"
    }
   ],
   "source": [
    "c = MyComplex(3, 4)\n",
    "c"
   ]
  },
  {
   "cell_type": "markdown",
   "metadata": {},
   "source": [
    "Although this tells us something about object c (that we have a MyComplex instance at a particular memory location), we would probably be more interested in seeing the real and imaginary components. Fortunately, in Python we can determine how our objects are represented as strings.\n"
   ]
  },
  {
   "cell_type": "markdown",
   "metadata": {},
   "source": [
    "The responsibility of producing its own string representation when called is delegated to the object. \n",
    "\n",
    "`repr()` checks whether the object has a method called `__repr__()` and calls that to get the string. \n",
    "\n",
    "This concept of delegating the responsibility to implement well defined behaviour to the object itself is a key advantage to the object-oriented approach to programming. In this case repr() does not need to know about the internals of the object. All it needs to know is that the object provides the required method.\n",
    "\n",
    "To make use of this we can provide our own class with the method function `__repr__()` which should return a string representation of the object.\n",
    "\n",
    "We shall define `__repr__()` method for MyComplex class:"
   ]
  },
  {
   "cell_type": "code",
   "execution_count": 54,
   "metadata": {},
   "outputs": [],
   "source": [
    "class MyComplex:\n",
    "    def __init__(self, real=0, imag=0):\n",
    "        self.real = real\n",
    "        self.imag = imag\n",
    "    \n",
    "    def __repr__(self):\n",
    "        return \"%s(re=%g, im=%g)\" % (\"MyComplex\", self.real, self.imag)\n"
   ]
  },
  {
   "cell_type": "code",
   "execution_count": 59,
   "metadata": {},
   "outputs": [
    {
     "data": {
      "text/plain": [
       "MyComplex(re=3, im=4)"
      ]
     },
     "execution_count": 59,
     "metadata": {},
     "output_type": "execute_result"
    }
   ],
   "source": [
    "c = MyComplex(3, 4)\n",
    "\n",
    "c"
   ]
  },
  {
   "cell_type": "markdown",
   "metadata": {},
   "source": [
    "As well as repr() we can also use `str()` to get a string from the object. `str()` calls the object’s method `__str__()` if it is defined, which should also return a string representation of the object.\n",
    "\n",
    "So, what is the difference between \\__repr__() and \\__str__()? Both should return a string representation of the object. However their purposes are slightly different:\n",
    "\n",
    "`__repr__()` provides the official representation of the object: the emphasis should be on a precise and unambiguous representation. It is used more during development and debugging. Ideally the string returned by `__repr__()` should be a valid Python expression that could be used to **re-create the object itself**. When you type a name at the IPython prompt you get the string returned by `__repr__()`.\n",
    "\n",
    "`__str__()` returns the informal representation of the object: the emphasis should be on a simple, easy-to-read (human-oriented) representation of the object. `__str__()` is called whenever you use print() (or more directly using the `str()` built-in).\n",
    "\n",
    "If `__str__()` is not defined, the calling the print function on the object prints the representation given by `__repr__()`."
   ]
  },
  {
   "cell_type": "code",
   "execution_count": 61,
   "metadata": {},
   "outputs": [],
   "source": [
    "class MyComplex:\n",
    "    def __init__(self, real=0, imag=0):\n",
    "        self.real = real\n",
    "        self.imag = imag\n",
    "    \n",
    "    def __repr__(self):\n",
    "        return \"%s(re=%g, im=%g)\" % (\"MyComplex\", self.real, self.imag)\n",
    "\n",
    "    def __str__(self):\n",
    "        return \"%g + %gi\" % (self.real, self.imag)"
   ]
  },
  {
   "cell_type": "code",
   "execution_count": 62,
   "metadata": {},
   "outputs": [
    {
     "data": {
      "text/plain": [
       "MyComplex(re=3, im=4)"
      ]
     },
     "execution_count": 62,
     "metadata": {},
     "output_type": "execute_result"
    }
   ],
   "source": [
    "c = MyComplex(3, 4)\n",
    "c"
   ]
  },
  {
   "cell_type": "code",
   "execution_count": 63,
   "metadata": {},
   "outputs": [
    {
     "name": "stdout",
     "output_type": "stream",
     "text": [
      "3 + 4i\n"
     ]
    }
   ],
   "source": [
    "MyComplex(real=3, imag=4)\n",
    "print(c)"
   ]
  },
  {
   "cell_type": "markdown",
   "metadata": {},
   "source": [
    "<div style=\"background-color:#C2F5DD\">\n",
    "\n",
    "### Exercise Continued...\n",
    "\n",
    "Write `__repr__()` and `__str__()` methods for your FourVector class.\n",
    "For example:\n",
    "    </div>\n",
    "```python\n",
    "v = FourVector(ct=99, r=[1.0, 2.0, 3.0])\n",
    "    \n",
    "FourVector(ct=99, r=array([ 1.,  2.,  3.]))\n",
    "    \n",
    "print(v)\n",
    "```\n"
   ]
  },
  {
   "cell_type": "markdown",
   "metadata": {},
   "source": [
    "### Private attributes and Name Mangling [^](#index) <a id='private'></a>\n",
    "\n",
    "When designing a class it is a good idea to make a clear distinction between the interface provided to users of the class and the internal workings of the class. To use the class it should not be necessary to know about the internal workings of the class.\n",
    "\n",
    "In fact if a user (inadvertently) accesses or changes some of the internal parts of an object, this may result in unintended behaviour. It is useful therefore if attributes of the class that are intended for internal use only marked as such and/or hidden from the user. \n",
    "\n",
    "In Python, we can do this giving such attributes names with a leading underscore. If we give an attribute a name of the form `_name` we are indicating that it is not intended for public use: it can be used from within the methods of the class to implement behaviour, but should not be used outside the class. (There is nothing actually stopping a user from accessing `_name` if they want to of course.)\n",
    "\n",
    "We can make the message stronger with two leading underscores. If we give an attribute a name with two leading underscores, `__name`, the name gets mangled and is not directly accessible outside of the class."
   ]
  },
  {
   "cell_type": "code",
   "execution_count": 70,
   "metadata": {},
   "outputs": [],
   "source": [
    "class MyClass:\n",
    "\n",
    "    def __init__(self):\n",
    "        self.public_variable = 123\n",
    "        self._hidden_variable = 'abc'\n",
    "        self.__mangled_variable = 'abc123'\n",
    "\n",
    "    def some_method(self):\n",
    "        # all can be accessed from within the class\n",
    "        print(self.public_variable)\n",
    "        print(self._hidden_variable)\n",
    "        print(self.__mangled_variable)\n",
    "\n",
    "# Then try these, comment sections out to experiment:\n",
    "\n",
    "C = MyClass()"
   ]
  },
  {
   "cell_type": "code",
   "execution_count": 71,
   "metadata": {},
   "outputs": [
    {
     "name": "stdout",
     "output_type": "stream",
     "text": [
      "123\n",
      "abc\n",
      "abc123\n"
     ]
    }
   ],
   "source": [
    "C.some_method()"
   ]
  },
  {
   "cell_type": "code",
   "execution_count": 72,
   "metadata": {},
   "outputs": [
    {
     "data": {
      "text/plain": [
       "123"
      ]
     },
     "execution_count": 72,
     "metadata": {},
     "output_type": "execute_result"
    }
   ],
   "source": [
    "C.public_variable"
   ]
  },
  {
   "cell_type": "code",
   "execution_count": 73,
   "metadata": {},
   "outputs": [
    {
     "data": {
      "text/plain": [
       "'abc'"
      ]
     },
     "execution_count": 73,
     "metadata": {},
     "output_type": "execute_result"
    }
   ],
   "source": [
    "C._hidden_variable  "
   ]
  },
  {
   "cell_type": "code",
   "execution_count": 74,
   "metadata": {},
   "outputs": [
    {
     "ename": "AttributeError",
     "evalue": "'MyClass' object has no attribute '__mangled_variable'",
     "output_type": "error",
     "traceback": [
      "\u001b[0;31m---------------------------------------------------------------------------\u001b[0m",
      "\u001b[0;31mAttributeError\u001b[0m                            Traceback (most recent call last)",
      "Cell \u001b[0;32mIn[74], line 1\u001b[0m\n\u001b[0;32m----> 1\u001b[0m \u001b[43mC\u001b[49m\u001b[38;5;241;43m.\u001b[39;49m\u001b[43m__mangled_variable\u001b[49m\n",
      "\u001b[0;31mAttributeError\u001b[0m: 'MyClass' object has no attribute '__mangled_variable'"
     ]
    }
   ],
   "source": [
    "C.__mangled_variable "
   ]
  },
  {
   "cell_type": "code",
   "execution_count": 75,
   "metadata": {
    "scrolled": false
   },
   "outputs": [
    {
     "data": {
      "text/plain": [
       "['_MyClass__mangled_variable',\n",
       " '__class__',\n",
       " '__delattr__',\n",
       " '__dict__',\n",
       " '__dir__',\n",
       " '__doc__',\n",
       " '__eq__',\n",
       " '__format__',\n",
       " '__ge__',\n",
       " '__getattribute__',\n",
       " '__gt__',\n",
       " '__hash__',\n",
       " '__init__',\n",
       " '__init_subclass__',\n",
       " '__le__',\n",
       " '__lt__',\n",
       " '__module__',\n",
       " '__ne__',\n",
       " '__new__',\n",
       " '__reduce__',\n",
       " '__reduce_ex__',\n",
       " '__repr__',\n",
       " '__setattr__',\n",
       " '__sizeof__',\n",
       " '__str__',\n",
       " '__subclasshook__',\n",
       " '__weakref__',\n",
       " '_hidden_variable',\n",
       " 'public_variable',\n",
       " 'some_method']"
      ]
     },
     "execution_count": 75,
     "metadata": {},
     "output_type": "execute_result"
    }
   ],
   "source": [
    "dir(C)"
   ]
  },
  {
   "cell_type": "markdown",
   "metadata": {},
   "source": [
    "If you wish to access the mangled variables of an instance of a class, you can use the statement below:"
   ]
  },
  {
   "cell_type": "code",
   "execution_count": 76,
   "metadata": {},
   "outputs": [
    {
     "data": {
      "text/plain": [
       "'abc123'"
      ]
     },
     "execution_count": 76,
     "metadata": {},
     "output_type": "execute_result"
    }
   ],
   "source": [
    "C._MyClass__mangled_variable"
   ]
  },
  {
   "cell_type": "markdown",
   "metadata": {},
   "source": [
    "<div style=\"background-color:#C2F5DD\">\n",
    "\n",
    "### Exercise Continued...\n",
    "\n",
    "\n",
    "Modify your FourVector class so that the data attributes are hidden.\n",
    "Provide instead methods `ct()` and `r()` to return the values of the time-like and space-like components. (In OOP such methods are categorised as **access methods**.)\n",
    "\n",
    "Also provide methods `setr(new_r)` and `setct(new_ct)` to modify the values of the data attributes. (In OOP such methods are categorised as **modifier methods**.)\n",
    "\n",
    "Write a copy() method for FourVector. Check that the returned instance has the same values but is independent of the original.\n",
    "\n",
    "</div>"
   ]
  },
  {
   "cell_type": "markdown",
   "metadata": {},
   "source": [
    "### Arithmetic\n",
    "\n",
    "Currently this is how we would add two complex numbers, in our MyComplex class:"
   ]
  },
  {
   "cell_type": "code",
   "execution_count": 42,
   "metadata": {},
   "outputs": [
    {
     "data": {
      "text/plain": [
       "MyComplex(re=5, im=3)"
      ]
     },
     "execution_count": 42,
     "metadata": {},
     "output_type": "execute_result"
    }
   ],
   "source": [
    "c1 = MyComplex(3, 4)\n",
    "c2 = MyComplex(2, -1)\n",
    "c3 = MyComplex(c1.real + c2.real, c1.imag + c2.imag)\n",
    "c3"
   ]
  },
  {
   "cell_type": "markdown",
   "metadata": {},
   "source": []
  },
  {
   "cell_type": "markdown",
   "metadata": {},
   "source": [
    "However it would be more natural to be able to write c3 = c1 + c2. We can achieve this using special method names. A class can implement operations that are invoked using such operator syntax.\n",
    "\n",
    "We do this by defining methods that have special names. So for example if we want to be able to use the addition operator + between two objects, we must provide the method `__add__()`. For the operator += addition we provide the method `__iadd__()`. Thus for MyComplex we would write:"
   ]
  },
  {
   "cell_type": "code",
   "execution_count": 80,
   "metadata": {},
   "outputs": [
    {
     "name": "stdout",
     "output_type": "stream",
     "text": [
      "13 + 14i\n",
      "15 + 13i\n"
     ]
    }
   ],
   "source": [
    "class MyComplex:\n",
    "    def __init__(self, real=0, imag=0):\n",
    "        self.real = real\n",
    "        self.imag = imag\n",
    "        \n",
    "    def __repr__(self):\n",
    "        return \"%s(re=%g, im=%g)\" % (\"MyComplex\", self.real, self.imag)\n",
    "\n",
    "    def __str__(self):\n",
    "        return \"%g + %gi\" % (self.real, self.imag)\n",
    "\n",
    "    def __add__(self, other): # implement +\n",
    "        return MyComplex(self.real + other.real, self.imag + other.imag)\n",
    "\n",
    "    def __iadd__(self, other): # implement +=\n",
    "        self.real += other.real\n",
    "        self.imag += other.imag\n",
    "        return self\n",
    "\n",
    "# try this class out\n",
    "c1 = MyComplex(3, 4)\n",
    "c2 = MyComplex(2, -1)\n",
    "c3 = MyComplex(10, 10)\n",
    "\n",
    "c1 += c3\n",
    "c4 = c1 + c2\n",
    "\n",
    "print(c1)\n",
    "print(c4)"
   ]
  },
  {
   "cell_type": "markdown",
   "metadata": {},
   "source": [
    "<div style=\"background-color:#C2F5DD\">\n",
    "\n",
    "### Exercise Continued...\n",
    "\n",
    "\n",
    "Write the methods to implement +, +=, -, -= for FourVector."
   ]
  },
  {
   "cell_type": "markdown",
   "metadata": {},
   "source": [
    "<div style=\"background-color:#C2F5DD\">\n",
    "\n",
    "The inner product between the two 4-vectors is represented by the equation:\n",
    "\n",
    "\\begin{equation} \n",
    "v_1 = (ct_1, r_1) \n",
    "\\end{equation}\n",
    "\n",
    "\\begin{equation} \n",
    "v_1·v_2 = ct_1·ct_2 - r_1·r_2\n",
    "\\end{equation}\n",
    "\n",
    "Then the square of a 4-vector is $v_1·v_1$\n",
    "\n",
    "</div>"
   ]
  },
  {
   "cell_type": "markdown",
   "metadata": {},
   "source": [
    "<div style=\"background-color:#C2F5DD\">\n",
    "Write methods inner() and magsquare() for FourVector to implement inner product and the square.\n",
    "\n",
    "</div>"
   ]
  },
  {
   "cell_type": "markdown",
   "metadata": {},
   "source": [
    "### Exceptions [^](#index)  <a id='exceptions'></a>\n",
    "\n",
    "You have already encountered Python exceptions - whenever something goes wrong in the code.\n",
    "\n",
    "Exceptions are class objects and there are many different types — in these examples, TypeError and ZeroDivisionError. Click [here](http://docs.python.org/3/library/exceptions.html#concrete-exceptions) for a list of the built-in exceptions and their uses.\n",
    "\n",
    "We can raise exceptions in our own code using the `raise` construct (which we saw in bootcamp 1). Try the following example:\n"
   ]
  },
  {
   "cell_type": "code",
   "execution_count": 82,
   "metadata": {},
   "outputs": [
    {
     "name": "stdout",
     "output_type": "stream",
     "text": [
      "0\n",
      "1\n",
      "2\n",
      "3\n",
      "4\n",
      "5\n"
     ]
    },
    {
     "ename": "Exception",
     "evalue": "too late",
     "output_type": "error",
     "traceback": [
      "\u001b[0;31m---------------------------------------------------------------------------\u001b[0m",
      "\u001b[0;31mException\u001b[0m                                 Traceback (most recent call last)",
      "Cell \u001b[0;32mIn[82], line 3\u001b[0m\n\u001b[1;32m      1\u001b[0m \u001b[38;5;28;01mfor\u001b[39;00m t \u001b[38;5;129;01min\u001b[39;00m \u001b[38;5;28mrange\u001b[39m(\u001b[38;5;241m20\u001b[39m):\n\u001b[1;32m      2\u001b[0m     \u001b[38;5;28;01mif\u001b[39;00m t \u001b[38;5;241m>\u001b[39m \u001b[38;5;241m5\u001b[39m:\n\u001b[0;32m----> 3\u001b[0m         \u001b[38;5;28;01mraise\u001b[39;00m \u001b[38;5;167;01mException\u001b[39;00m(\u001b[38;5;124m\"\u001b[39m\u001b[38;5;124mtoo late\u001b[39m\u001b[38;5;124m\"\u001b[39m)\n\u001b[1;32m      4\u001b[0m     \u001b[38;5;28mprint\u001b[39m(t)\n",
      "\u001b[0;31mException\u001b[0m: too late"
     ]
    }
   ],
   "source": [
    "for t in range(20):\n",
    "    if t > 5:\n",
    "        raise Exception(\"too late\")\n",
    "    print(t)"
   ]
  },
  {
   "cell_type": "markdown",
   "metadata": {},
   "source": [
    "Let’s return to the initialization function of the FourVector class."
   ]
  },
  {
   "cell_type": "code",
   "execution_count": 81,
   "metadata": {},
   "outputs": [
    {
     "ename": "NameError",
     "evalue": "name 'FourVector' is not defined",
     "output_type": "error",
     "traceback": [
      "\u001b[0;31m---------------------------------------------------------------------------\u001b[0m",
      "\u001b[0;31mNameError\u001b[0m                                 Traceback (most recent call last)",
      "Cell \u001b[0;32mIn[81], line 1\u001b[0m\n\u001b[0;32m----> 1\u001b[0m v \u001b[38;5;241m=\u001b[39m \u001b[43mFourVector\u001b[49m(ct\u001b[38;5;241m=\u001b[39m\u001b[38;5;241m99\u001b[39m, r\u001b[38;5;241m=\u001b[39m[\u001b[38;5;241m1.0\u001b[39m, \u001b[38;5;241m2.0\u001b[39m, \u001b[38;5;241m3.0\u001b[39m])\n\u001b[1;32m      3\u001b[0m \u001b[38;5;66;03m# However, what happens if you try this?\u001b[39;00m\n\u001b[1;32m      5\u001b[0m v \u001b[38;5;241m=\u001b[39m FourVector(ct\u001b[38;5;241m=\u001b[39m\u001b[38;5;241m99\u001b[39m, r\u001b[38;5;241m=\u001b[39m[\u001b[38;5;241m1.0\u001b[39m, \u001b[38;5;241m2.0\u001b[39m, \u001b[38;5;241m3.0\u001b[39m, \u001b[38;5;241m4.0\u001b[39m])\n",
      "\u001b[0;31mNameError\u001b[0m: name 'FourVector' is not defined"
     ]
    }
   ],
   "source": [
    "v = FourVector(ct=99, r=[1.0, 2.0, 3.0])\n",
    "\n",
    "# However, what happens if you try this?\n",
    "\n",
    "v = FourVector(ct=99, r=[1.0, 2.0, 3.0, 4.0])"
   ]
  },
  {
   "cell_type": "markdown",
   "metadata": {},
   "source": [
    "It is not obvious what this would represent, although it might not cause your code to complain, at least not initially. If later on we tried to use the resulting FourVector in a calculation, we might get an error — or worse: no error, just incorrect results. \n",
    "\n",
    "We could waste a lot of time trying to track down the problem. Instead of waiting for the problems to get worse, we can test for the length of parameter r and raise an exception if it is wrong."
   ]
  },
  {
   "cell_type": "markdown",
   "metadata": {},
   "source": [
    "<div style=\"background-color:#C2F5DD\">\n",
    "\n",
    "### Exercise Continued...\n",
    "    \n",
    "Modify your FourVector class so that if it is instantiated with a parameter r that is the wrong size, you code raises an appropriate exception.\n",
    "Test your code: it should produce something like this:\n",
    "    </div>\n",
    "```python\n",
    "x = FourVector(1.0, [1, 2, 3, 4])\n",
    "```    \n",
    "\n",
    "```    \n",
    "Traceback (most recent call last):\n",
    "  File \"<ipython-input-42-854051d2cd67>\", line 1, in <module>\n",
    "    x = FourVector(1.0, [1, 2, 3, 4])\n",
    "  File \"<ipython-input-41-406a3b739f9e>\", line 7, in __init__\n",
    "    raise Exception(\"FourVector parameter r has incorrect size\")\n",
    "Exception: FourVector parameter r has incorrect size\n",
    "```\n"
   ]
  },
  {
   "cell_type": "markdown",
   "metadata": {},
   "source": [
    "When an exception is raised using `raise MyException`, the program jumps out of the current point of execution to the nearest exception handler, which either deals with the exception or passes it on to the next exception handler, if it cannot deal with it.\n",
    "\n",
    "This process continues, ultimately leading to the program exiting if the exception cannot be dealt with. (Writing code to deal with exceptions is not difficult, but it is beyond the scope of this bootcamp. For a quick introduction see http://docs.python.org/3/tutorial/errors.html)\n",
    "\n",
    "Exceptions provide a convenient way of interrupting the current flow of the program - not only in the cases where something has gone wrong. For example, they are an essential part to how Python deals with iterations and for-loops.\n"
   ]
  },
  {
   "cell_type": "markdown",
   "metadata": {},
   "source": [
    "# Inheritance [^](#index) <a id='inheritance'></a>\n",
    "\n",
    "\n",
    "Inheritance is one of the important features of OOP. It allows you to build a new class (called a derived class) by extending an existing class (called a base class). \n",
    "\n",
    "The derived class automatically contains the methods and attributes of the base class, although these can be overwritten. This generally makes it easier to create and maintain your programs and allows you to utilise the code in a base class in several derived classes. It also means that by changing the code in your base class you change the behaviour of the derived classes in a common way.\n",
    "\n",
    "(Be aware that other terminology for base class exists in OOP: superclass and parent class. Similarly in OOP, derived classes are often also referred to as subclasses and child classes.)\n",
    "\n",
    "The syntax to create a derived class from a base class is:\n",
    "\n",
    "class MyDerivedClass(BaseClass):"
   ]
  },
  {
   "cell_type": "code",
   "execution_count": 83,
   "metadata": {},
   "outputs": [],
   "source": [
    "class Animal:\n",
    "    \"\"\"\n",
    "    A base class from which all animals are derived.\n",
    "    \"\"\"\n",
    "\n",
    "    def breathes(self):\n",
    "        return True\n",
    "\n",
    "    def likes_to_eat(self):\n",
    "        return \"food\"\n",
    "\n",
    "\n",
    "class Carnivore(Animal):\n",
    "    \"\"\"\n",
    "    A derived class which inherits from animal.\n",
    "    \"\"\"\n",
    "\n",
    "    def likes_to_eat(self):\n",
    "        return \"Meat!\"\n",
    "\n",
    "    def has_sharp_teeth(self):\n",
    "        return True\n",
    "\n",
    "class Herbivore(Animal):\n",
    "    \"\"\"\n",
    "    another derived class which inherits from animal.\n",
    "    \"\"\"\n",
    "\n",
    "    def likes_to_eat(self):\n",
    "        return \"plants\"\n",
    "\n",
    "    def has_flat_teeth(self):\n",
    "        return True"
   ]
  },
  {
   "cell_type": "markdown",
   "metadata": {},
   "source": [
    "![Inheritance Animals](inheritance_animals.png)\n",
    "Diagrams for the above example classes are shown in the figure above"
   ]
  },
  {
   "cell_type": "code",
   "execution_count": 84,
   "metadata": {},
   "outputs": [
    {
     "data": {
      "text/plain": [
       "'food'"
      ]
     },
     "execution_count": 84,
     "metadata": {},
     "output_type": "execute_result"
    }
   ],
   "source": [
    "# If we then try to create some object and interrogate we find:\n",
    "stuart = Animal()\n",
    "\n",
    "stuart.likes_to_eat()"
   ]
  },
  {
   "cell_type": "code",
   "execution_count": 85,
   "metadata": {},
   "outputs": [
    {
     "data": {
      "text/plain": [
       "True"
      ]
     },
     "execution_count": 85,
     "metadata": {},
     "output_type": "execute_result"
    }
   ],
   "source": [
    "stuart.breathes()"
   ]
  },
  {
   "cell_type": "code",
   "execution_count": 86,
   "metadata": {},
   "outputs": [
    {
     "data": {
      "text/plain": [
       "'Meat!'"
      ]
     },
     "execution_count": 86,
     "metadata": {},
     "output_type": "execute_result"
    }
   ],
   "source": [
    "# now create a carnivore and test it:\n",
    "lion = Carnivore()\n",
    "\n",
    "lion.likes_to_eat()"
   ]
  },
  {
   "cell_type": "code",
   "execution_count": 87,
   "metadata": {
    "scrolled": true
   },
   "outputs": [
    {
     "data": {
      "text/plain": [
       "True"
      ]
     },
     "execution_count": 87,
     "metadata": {},
     "output_type": "execute_result"
    }
   ],
   "source": [
    "lion.has_sharp_teeth()"
   ]
  },
  {
   "cell_type": "markdown",
   "metadata": {},
   "source": [
    "Important - Notice above that an object of the derived class (e.g. Carnivore) can use a method of its base class (e.g. Animal) in exactly the same way that an object of that base class does. \n",
    "This is illustrated below:"
   ]
  },
  {
   "cell_type": "code",
   "execution_count": 69,
   "metadata": {},
   "outputs": [
    {
     "data": {
      "text/plain": [
       "True"
      ]
     },
     "execution_count": 69,
     "metadata": {},
     "output_type": "execute_result"
    }
   ],
   "source": [
    "stuart.breathes()     # This works as expected ...\n",
    "lion.breathes()       # ... but so does this, thanks to 'inheritance'.\n"
   ]
  },
  {
   "cell_type": "markdown",
   "metadata": {},
   "source": [
    "Another important feature of OOP to note is that a derived class can itself act as a (immediate) \n",
    "base class for deriving a new class, and so on, thus creating an inheritance hierarchy. "
   ]
  },
  {
   "cell_type": "markdown",
   "metadata": {},
   "source": [
    "## Composition vs Inheritance [^](#index) <a id='comp'></a>"
   ]
  },
  {
   "cell_type": "markdown",
   "metadata": {},
   "source": [
    "You already used composition earlier, although it was not flagged up to you at that point. **Composition** is when an object contains other objects (i.e. the data attributes). Your FourVector class uses composition. Each FourVector object is composed of a float object storing ct and a numpy array that stores r. \n",
    "\n",
    "\n",
    "- With composition, object.method_of_a_data_attribute() does NOT work!\n",
    "\n",
    "- With inheritance, object.method_of_base_class() works, as seen already.\n",
    "\n",
    "To clarify: \n",
    "\n",
    "- In inheritance, you can access the methods of the object passed into your class definition. \n",
    "\n",
    "- With composition, you don't have access to the methods associated with the objects passed into your class definition. e.g., you cannot call the methods belonging to the int and list you used to create your fourvector on your fourvector object."
   ]
  },
  {
   "cell_type": "markdown",
   "metadata": {},
   "source": [
    "Let’s illustrate this using the FourVector class. Imagine you want to sum the space-like components. They are stored as a NumPy array, which conveniently has the method sum():\n",
    "</div>"
   ]
  },
  {
   "cell_type": "code",
   "execution_count": 89,
   "metadata": {},
   "outputs": [
    {
     "ename": "NameError",
     "evalue": "name 'FourVector' is not defined",
     "output_type": "error",
     "traceback": [
      "\u001b[0;31m---------------------------------------------------------------------------\u001b[0m",
      "\u001b[0;31mNameError\u001b[0m                                 Traceback (most recent call last)",
      "Cell \u001b[0;32mIn[89], line 1\u001b[0m\n\u001b[0;32m----> 1\u001b[0m f \u001b[38;5;241m=\u001b[39m \u001b[43mFourVector\u001b[49m(ct\u001b[38;5;241m=\u001b[39m\u001b[38;5;241m99\u001b[39m, r\u001b[38;5;241m=\u001b[39m[\u001b[38;5;241m1\u001b[39m, \u001b[38;5;241m2\u001b[39m, \u001b[38;5;241m3\u001b[39m])\n\u001b[1;32m      2\u001b[0m f\u001b[38;5;241m.\u001b[39msum()\n\u001b[1;32m      4\u001b[0m f\u001b[38;5;241m.\u001b[39m_FourVector__r\u001b[38;5;241m.\u001b[39msum()\n",
      "\u001b[0;31mNameError\u001b[0m: name 'FourVector' is not defined"
     ]
    }
   ],
   "source": [
    "f = FourVector(ct=99, r=[1, 2, 3])\n",
    "f.sum()"
   ]
  },
  {
   "cell_type": "code",
   "execution_count": 90,
   "metadata": {},
   "outputs": [
    {
     "ename": "NameError",
     "evalue": "name 'f' is not defined",
     "output_type": "error",
     "traceback": [
      "\u001b[0;31m---------------------------------------------------------------------------\u001b[0m",
      "\u001b[0;31mNameError\u001b[0m                                 Traceback (most recent call last)",
      "Cell \u001b[0;32mIn[90], line 1\u001b[0m\n\u001b[0;32m----> 1\u001b[0m \u001b[43mf\u001b[49m\u001b[38;5;241m.\u001b[39m_FourVector__r\u001b[38;5;241m.\u001b[39msum()\n",
      "\u001b[0;31mNameError\u001b[0m: name 'f' is not defined"
     ]
    }
   ],
   "source": [
    "f._FourVector__r.sum()    # Naughty!  Shouldn't be accessing hidden attributes"
   ]
  },
  {
   "cell_type": "markdown",
   "metadata": {},
   "source": [
    "f.sum() fails because a FourVector does not inherit any methods from its attributes ct and r, since FourVector is designed using composition. The second way achieves the desired goal by drilling down into the data attributes themselves. (Note how this is done by chaining attributes.) But accessing hidden attributes like this is considered bad practice and leads to fragile code!"
   ]
  },
  {
   "cell_type": "markdown",
   "metadata": {},
   "source": [
    "A good way to distinguish between inheritance and composition is:\n",
    "\n",
    "- **Inheritance** is when an **is a** relationship exists between the original type(s) and new type.\n",
    "\n",
    "- **Composition** is used when a **has a** relationship exists between the original type(s) and new type."
   ]
  },
  {
   "cell_type": "markdown",
   "metadata": {},
   "source": [
    "### Initialization functions under inheritance [^](#index) <a id='init'></a>\n",
    "\n",
    "If you want to add an `__init__()` method to your derived class, you have to explicitly call the ` __init__()` method of the base class. You can do this either by using the built-in function `super()` or by calling the constructor in a slightly unusual way. This is illustrated in the following example:\n"
   ]
  },
  {
   "cell_type": "markdown",
   "metadata": {},
   "source": [
    "### Insert information about super"
   ]
  },
  {
   "cell_type": "code",
   "execution_count": 119,
   "metadata": {},
   "outputs": [],
   "source": [
    "class Scientist:\n",
    "    def __init__(self,name,field):\n",
    "        self.__name = name\n",
    "        self.__field = field\n",
    "        print (name)\n",
    "\n",
    "    def name(self):\n",
    "        return self.__name\n",
    "\n",
    "    def field(self):\n",
    "        return self.__field\n",
    "\n",
    "\n",
    "#class Physicist(Scientist):\n",
    "#    def __init__(self,name):\n",
    "#        #Now the field is always \"Physics\"\n",
    "#        Scientist.__init__(self,name, \"Physics\") \n",
    "#        #explicitly calling the Scientist constructor"
   ]
  },
  {
   "cell_type": "code",
   "execution_count": 136,
   "metadata": {},
   "outputs": [],
   "source": [
    "class Physicist(Scientist):\n",
    "    def __init__(self, name):\n",
    "        print('i fucking love physics!! but not maths')\n",
    "        super().__init__(self, name, \"Physics\")\n",
    "        \n",
    "        \n",
    "class CoffeeDrinker(Scientist):\n",
    "    def __init__(self):\n",
    "        print('i fucking love coffee!!')\n",
    "        super().__init__(self, name, field)\n",
    "        \n",
    "class PartyAnimal(Physicist, CoffeeDrinker):\n",
    "    def __init__(self):\n",
    "        print('i fucking love partying!!')\n",
    "        super().__init__('David')"
   ]
  },
  {
   "cell_type": "code",
   "execution_count": 137,
   "metadata": {
    "scrolled": false
   },
   "outputs": [
    {
     "name": "stdout",
     "output_type": "stream",
     "text": [
      "i fucking love partying!!\n",
      "i fucking love physics!! but not maths\n"
     ]
    },
    {
     "ename": "TypeError",
     "evalue": "__init__() takes 1 positional argument but 4 were given",
     "output_type": "error",
     "traceback": [
      "\u001b[0;31m---------------------------------------------------------------------------\u001b[0m",
      "\u001b[0;31mTypeError\u001b[0m                                 Traceback (most recent call last)",
      "Cell \u001b[0;32mIn[137], line 1\u001b[0m\n\u001b[0;32m----> 1\u001b[0m a \u001b[38;5;241m=\u001b[39m \u001b[43mPartyAnimal\u001b[49m\u001b[43m(\u001b[49m\u001b[43m)\u001b[49m\n\u001b[1;32m      2\u001b[0m a\u001b[38;5;241m.\u001b[39mname()\n",
      "Cell \u001b[0;32mIn[136], line 15\u001b[0m, in \u001b[0;36mPartyAnimal.__init__\u001b[0;34m(self)\u001b[0m\n\u001b[1;32m     13\u001b[0m \u001b[38;5;28;01mdef\u001b[39;00m \u001b[38;5;21m__init__\u001b[39m(\u001b[38;5;28mself\u001b[39m):\n\u001b[1;32m     14\u001b[0m     \u001b[38;5;28mprint\u001b[39m(\u001b[38;5;124m'\u001b[39m\u001b[38;5;124mi fucking love partying!!\u001b[39m\u001b[38;5;124m'\u001b[39m)\n\u001b[0;32m---> 15\u001b[0m     \u001b[38;5;28;43msuper\u001b[39;49m\u001b[43m(\u001b[49m\u001b[43m)\u001b[49m\u001b[38;5;241;43m.\u001b[39;49m\u001b[38;5;21;43m__init__\u001b[39;49m\u001b[43m(\u001b[49m\u001b[38;5;124;43m'\u001b[39;49m\u001b[38;5;124;43mDavid\u001b[39;49m\u001b[38;5;124;43m'\u001b[39;49m\u001b[43m)\u001b[49m\n",
      "Cell \u001b[0;32mIn[136], line 4\u001b[0m, in \u001b[0;36mPhysicist.__init__\u001b[0;34m(self, name)\u001b[0m\n\u001b[1;32m      2\u001b[0m \u001b[38;5;28;01mdef\u001b[39;00m \u001b[38;5;21m__init__\u001b[39m(\u001b[38;5;28mself\u001b[39m, name):\n\u001b[1;32m      3\u001b[0m     \u001b[38;5;28mprint\u001b[39m(\u001b[38;5;124m'\u001b[39m\u001b[38;5;124mi fucking love physics!! but not maths\u001b[39m\u001b[38;5;124m'\u001b[39m)\n\u001b[0;32m----> 4\u001b[0m     \u001b[38;5;28;43msuper\u001b[39;49m\u001b[43m(\u001b[49m\u001b[43m)\u001b[49m\u001b[38;5;241;43m.\u001b[39;49m\u001b[38;5;21;43m__init__\u001b[39;49m\u001b[43m(\u001b[49m\u001b[38;5;28;43mself\u001b[39;49m\u001b[43m,\u001b[49m\u001b[43m \u001b[49m\u001b[43mname\u001b[49m\u001b[43m,\u001b[49m\u001b[43m \u001b[49m\u001b[38;5;124;43m\"\u001b[39;49m\u001b[38;5;124;43mPhysics\u001b[39;49m\u001b[38;5;124;43m\"\u001b[39;49m\u001b[43m)\u001b[49m\n",
      "\u001b[0;31mTypeError\u001b[0m: __init__() takes 1 positional argument but 4 were given"
     ]
    }
   ],
   "source": [
    "a = PartyAnimal()\n",
    "a.name()"
   ]
  },
  {
   "cell_type": "markdown",
   "metadata": {},
   "source": [
    "Diagram for this example is:\n",
    "![Inheritance Scientist](inheritance_scientist.png)\n"
   ]
  },
  {
   "cell_type": "code",
   "execution_count": 75,
   "metadata": {},
   "outputs": [
    {
     "data": {
      "text/plain": [
       "'John'"
      ]
     },
     "execution_count": 75,
     "metadata": {},
     "output_type": "execute_result"
    }
   ],
   "source": [
    "John = Physicist(\"John\")\n",
    "John.field()\n",
    "John.name()"
   ]
  },
  {
   "cell_type": "markdown",
   "metadata": {},
   "source": [
    "which would not work if we had not explicitly invoked the base class’ initialization function. (Note: This approach is more obvious than using super() when dealing with multiple inheritance. If you want to try the approach using super(), Google will provide lots of examples.)\n",
    "\n",
    "(Be aware that methods in a class that create and initialize new objects are known as constructors in general OOP terminology. Thus the __init__() method in Python is a constructor. Similarly, methods that deal with deleting objects (not covered in this course) are categorised as destructors in OOP.)\n"
   ]
  },
  {
   "cell_type": "markdown",
   "metadata": {},
   "source": [
    "### Misuse of Inheritance in OOP\n",
    "\n",
    "Inheritance is often misused in OOP. The important rule to remember is that it is an “is a” relationship and not a “has a” relationship. A Carnivore is an Animal. It would be quite wrong to have a class Face that inherited from class Nose because a Face has a Nose rather than is a Nose. This may sound obvious but you would be amazed how often people make this mistake.\n",
    "\n",
    "Composition is the appropriate OOP mechanism when a 'has a' relationship exists between the new and existing objects. Thinking back to the FourVector class, a fourvector has a threevector (r) and a scalar (t or ct). But a fourvector is not a threevector. For example, the length is obtained in a different way and vector operations like the cross-product do not make sense for a fourvector. Similarly for our hypothetical Face class, composition from a nose, eyes, etc., would be appropriate.\n",
    "\n",
    "\n",
    "If you think that the example above (and for that matter the task below) is rather contrived then you would be right. Inheritance is a very useful and powerful tool, however it is not always the right approach for solving a problem."
   ]
  },
  {
   "cell_type": "markdown",
   "metadata": {},
   "source": [
    "<div style=\"background-color:#C2F5DD\">\n",
    "\n",
    "### Exercise    \n",
    "    \n",
    "Consider that you are interested in coloured shapes on paper. Write a class Shape which has a hidden attribute of colour, an access method to get the colour (you may wish to have a default colour) and an modifier method to set the colour.\n",
    "\n",
    "Try and make it so that you can chain your methods, e.g.\n",
    "</div>    \n",
    "\n",
    "```python\n",
    "s = Shape()\n",
    "s.set('Red').color()\n",
    "s.set('Yellow').set('Blue').color()\n",
    "```"
   ]
  },
  {
   "cell_type": "code",
   "execution_count": null,
   "metadata": {},
   "outputs": [],
   "source": []
  },
  {
   "cell_type": "markdown",
   "metadata": {},
   "source": [
    "<div style=\"background-color:#C2F5DD\">\n",
    "\n",
    "### Continued    \n",
    "    \n",
    "Now create three classes `Square`, `Triangle` and `Circle` which inherit from `Shape`. Each should have an `__init__()` method that specifies parameters useful for calculating the area of that particular shape.\n",
    "Develop methods that return the area for each particular shape.\n",
    "\n",
    "Then write specific examples where you set (and get) the colour of a triangle, square and circle as well return their areas.\n",
    "</div>"
   ]
  },
  {
   "cell_type": "code",
   "execution_count": null,
   "metadata": {},
   "outputs": [],
   "source": []
  },
  {
   "cell_type": "markdown",
   "metadata": {},
   "source": [
    "This task demonstrates the important interface-like nature of the base class. Although your derived classes Square, Triangle and Circle did not themselves define a colour access method, they can utilise the one from their common base class Shape. In short, any class deriving from Shape will be able to set and get its own colour with no additional code necessary."
   ]
  },
  {
   "cell_type": "markdown",
   "metadata": {},
   "source": [
    "### isinstance() [^](#index) <a id='instance'></a>\n",
    "\n",
    "Sometimes you need to check what sort of an object you have. The way to do this is to use:\n",
    "\n",
    "`isinstance(variable, Class)`\n",
    "As a derived class has an is a relationship with the base class `isinstance()` will return true for a base class of a derived class.\n",
    "\n",
    "<div style=\"background-color:#C2F5DD\">\n",
    "\n",
    "### Exercise\n",
    "    \n",
    "Use Shape and its derived classes to investigate the use of isinstance. What happens for variables that are type int or float?\n",
    "One common use is to check that a function is being called with the correct objects. For example:\n",
    "</div>\n",
    "\n",
    "```python\n",
    "def func(a):\n",
    "    if not isinstance(a, MyClass):\n",
    "        raise TypeError(\"a needs to be an instance of MyClass\")\n",
    "```\n",
    "\n",
    "<div style=\"background-color:#C2F5DD\">\n",
    "Write a function that will turn any Shape or it’s derived classes “Red”, but will not try to turn an integer (or indeed any other type of variable) red.\n",
    "</div>"
   ]
  },
  {
   "cell_type": "markdown",
   "metadata": {},
   "source": [
    "### Class Variables [^](#index) <a id='class'></a>\n",
    "\n",
    "A class variable is a variable of the class, rather than a variable of the instance. \n",
    "\n",
    "The difference is that a class variable is intrinsic to the class itself, rather than any specific instance of the class. (if you use them). Another term for a class variable is class attribute. Consider the following:"
   ]
  },
  {
   "cell_type": "code",
   "execution_count": 153,
   "metadata": {},
   "outputs": [],
   "source": [
    "class MyClass:\n",
    "    # no need for dot notation\n",
    "    class_var = 0\n",
    "\n",
    "    def __init__(self, vv):\n",
    "        self.inst_var = vv       # now need the dot notation\n",
    "        MyClass.class_var += 1   # note that it is an attribute of MyClass not self"
   ]
  },
  {
   "cell_type": "markdown",
   "metadata": {},
   "source": [
    "You should be able to see that class_var is acting as a counter and will count how many instances of MyClass actually exist. So for example:"
   ]
  },
  {
   "cell_type": "code",
   "execution_count": 154,
   "metadata": {},
   "outputs": [
    {
     "data": {
      "text/plain": [
       "1"
      ]
     },
     "execution_count": 154,
     "metadata": {},
     "output_type": "execute_result"
    }
   ],
   "source": [
    "a=MyClass(4)\n",
    "\n",
    "# The instance variable should be 4\n",
    "a.inst_var\n",
    "\n",
    "# When the instance a was initialised the class variable was incremented.\n",
    "MyClass.class_var\n",
    "\n",
    "# Note we can access the class_var through instance a.\n",
    "# This is discouraged however as it could be overridden by an instance variable with the same name\n",
    "a.class_var"
   ]
  },
  {
   "cell_type": "markdown",
   "metadata": {},
   "source": [
    "In general, a class variable can be any type of variable and be used anywhere within the class. Therefore, we see that this also provides a mechanism to change the behaviour of all instances of a particular class.\n",
    "\n",
    "Another use for class variables is for properties that will be shared between different objects. For example, in your shapes class you may have wanted to have pi as class variable.\n",
    "\n",
    "<div style=\"background-color:#C2F5DD\">\n",
    "Modify your Shape class to count how many “Red” shapes that you have. Remember that if you have a “Red” shape that is set to be a different colour you have take this into account. Verify that this works and investigate what happens when you set the colours of the derived class. Is it what you would expect?\n",
    "</div>"
   ]
  }
 ],
 "metadata": {
  "kernelspec": {
   "display_name": "Python 3 (ipykernel)",
   "language": "python",
   "name": "python3"
  },
  "language_info": {
   "codemirror_mode": {
    "name": "ipython",
    "version": 3
   },
   "file_extension": ".py",
   "mimetype": "text/x-python",
   "name": "python",
   "nbconvert_exporter": "python",
   "pygments_lexer": "ipython3",
   "version": "3.9.12"
  },
  "vscode": {
   "interpreter": {
    "hash": "31f2aee4e71d21fbe5cf8b01ff0e069b9275f58929596ceb00d14d90e3e16cd6"
   }
  }
 },
 "nbformat": 4,
 "nbformat_minor": 2
}
