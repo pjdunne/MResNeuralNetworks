{
 "cells": [
  {
   "cell_type": "markdown",
   "id": "3221609d",
   "metadata": {},
   "source": [
    "# IDE Help and Extensions \n",
    "\n",
    "The laptops that you are using has Anaconda Navigators installed. You may opt to use Spyder, Jupyter Notebook, VS Code to complete further coding tasks (the Jupyter notebooks can be accessed in both Jupyter Notebook and VS Code but not Spyder).\n",
    "\n",
    "To access Jupyter Notebook in VS Code, you need to:"
   ]
  },
  {
   "cell_type": "code",
   "execution_count": null,
   "id": "841a879e",
   "metadata": {},
   "outputs": [],
   "source": [
    "pip install ipykernel"
   ]
  },
  {
   "cell_type": "markdown",
   "id": "f0d03bba",
   "metadata": {},
   "source": [
    "## IDEs\n",
    "\n",
    "All the notebooks in this course are written in Jupyter Notebooks. In the OOP boot camp, there is a requirement for you to write and import Python scripts as modules. This can be done using Jupyter Notebook (link on how [here](https://medium.com/@shouke.wei/awesome-features-of-jupyter-notebook-1-different-methods-to-create-python-files-949bf31c2c53#:~:text=This%20article%20introduces%20you%204,writefile%20and%20%25%25file%20magics.)), or you may opt to use a different IDE such as Spyder/VS Code to write a file and save it in the same directory.\n",
    "\n",
    "There is no recommendation on which IDE you should choose. If you are new to Python and coding, you may choose to download Anaconda Navigator onto your device, allowing you to use Jupyter Notebook and Spyder. However, in more professional settings, many software developers use VS Code instead.\n",
    "\n"
   ]
  },
  {
   "cell_type": "markdown",
   "id": "ead3a641",
   "metadata": {},
   "source": [
    "## Formatting Code ...\n",
    "\n",
    "It's important that your code layout stays consistent and remains readable on the screen.\n",
    "\n",
    "One of the most standard way of formatting is PEP 8. A style guide can be found [here](https://peps.python.org/pep-0008/).\n",
    "\n",
    "In both Spyder and VS Code autoformatters can be downloaded. You may choose to have the autoformatter format on save or use a keyboard shortcut.\n",
    "\n",
    "- In Spyder, [install](https://pypi.org/project/spyder.autopep8/) using:\n",
    "```python\n",
    "pip install spyder.autopep8\n",
    "```\n",
    "\n",
    "- In VS Code, you can download formatters from extensions and select your autoformatter. More instructions can be found [here](https://code.visualstudio.com/docs/python/editing.)\n",
    "\n"
   ]
  },
  {
   "cell_type": "markdown",
   "id": "10e1c7c1",
   "metadata": {},
   "source": [
    "## Doc Strings & Documentations\n",
    "\n",
    "There are instructions on how to write doc strings and documentations in the Bootcamp. It is important that your code is well documented so the examiner can access the exact content of sections of your code without going through them line by line.\n",
    "\n",
    "There are extensions that would write documentations for you, e.g. Mintlify.\n"
   ]
  }
 ],
 "metadata": {
  "kernelspec": {
   "display_name": "Python 3 (ipykernel)",
   "language": "python",
   "name": "python3"
  },
  "language_info": {
   "codemirror_mode": {
    "name": "ipython",
    "version": 3
   },
   "file_extension": ".py",
   "mimetype": "text/x-python",
   "name": "python",
   "nbconvert_exporter": "python",
   "pygments_lexer": "ipython3",
   "version": "3.9.12"
  }
 },
 "nbformat": 4,
 "nbformat_minor": 5
}
