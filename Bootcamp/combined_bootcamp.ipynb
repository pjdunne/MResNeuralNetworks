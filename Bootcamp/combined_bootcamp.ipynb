{
 "cells": [
  {
   "cell_type": "markdown",
   "metadata": {},
   "source": [
    "# Python Bootcamp 1"
   ]
  },
  {
   "cell_type": "markdown",
   "metadata": {},
   "source": [
    "<hr style=\"border:2px solid gray\">\n",
    "\n",
    "# Index <a id=\"index\"></a>\n",
    "\n",
    "0. [Introduction](#intro)\n",
    "1. [Using Jupyter Notebooks](#notebooks)\n",
    "2. [Literals and Operators](#operators)\n",
    "4. [Data Types](#data)\n",
    "1. [Variables](#variables)\n",
    "5. [NumPy and Arrays (with introduction to Time)](#arrays)\n",
    "7. [Reading and Writing files](#files)\n",
    "1. [Data Plotting Basics](#plotting)\n",
    "1. [Coding Practices](#codingpractices)\n",
    "1. [Non-Array Data Structures](#nonarray)\n",
    "1. [Functions](#functions)\n",
    "1. [For Loops](#forloops)\n",
    "1. [Mathematical Inequalities and Boolean Logic](#inequalities)\n",
    "1. [If Statements](#ifstatements)\n",
    "1. [While Loops](#whileloops)\n",
    "1. [Break and Continue Statements](#bandc)\n",
    "1. [Advanced Error Handling](#error)\n",
    "1. [Practice Problems](#problems)"
   ]
  },
  {
   "cell_type": "markdown",
   "metadata": {},
   "source": [
    "<hr style=\"border:2px solid gray\">\n",
    "\n",
    "# Introduction <a id=\"intro\"></a>\n",
    "\n",
    "The purpose of this bootcamp is to make sure your Python proficiency is up to the standard required by this course. Some of you may be a bit rusty with using Python, whilst others may have coded before in another language. Therefore every student will find **different** parts of these notebooks useful.\n",
    "\n",
    "### Python\n",
    "\n",
    "Python is an interpreted, high-level programming language, where ease of understanding has been prioritised. Blessedly, Python does not require semi-colons at the end of each line in order to be interpreted. However, as a higher-level language Python will run slower than a lower-level comparison\n",
    "\n",
    "### How to use these notebooks\n",
    "\n",
    "- Notebook 1 contains more basic content, and highlights how Python might differ from other language\n",
    "- Notebook 2 contains slightly more advanced topics and introduces Object Oriented Programming (OOP)\n",
    "\n",
    "Complete as much or as little of these notebooks as you'd find helpful. \n",
    "\n",
    "This notebook is easier to read in a lighter theme."
   ]
  },
  {
   "cell_type": "markdown",
   "metadata": {},
   "source": [
    "<hr style=\"border:2px solid gray\">\n",
    "\n",
    "\n",
    "# Using Jupyter Notebooks [^](#index)<a id=\"notebooks\"></a>\n",
    "We will be using Jupyter Notebooks as interactive lab scripts include both text and code. \n",
    "\n",
    "You can execute either by pressing **ctrl+enter** (sometimes **cmd+enter** on mac), **shift+enter** (jump to cell below), **alt+enter** (create new cell below, **option+enter** on mac) or by pressing the **'run cell'** button (play symbol) in the toolbar above. You can add more code cells by pressing the 'insert cell below' button (plus symbol). \n",
    "\n",
    "By default any new cells you add are code cells; however you can change these to Markdown  in the drop-down list in the toolbar to allow you to make your own notes in the lab scripts. For a cheat sheet on Markdown, see [here](http://assemble.io/docs/Cheatsheet-Markdown.html).\n",
    "\n",
    "Make sure you add new code cells every time you want to try out something new, instead of editing your previous code. This way you have a record of everything you have done, which both you can refer to. Save your work regularly - sometimes you may be forced to close and reopen your file, and you don't want to lose any of your work!\n",
    "\n",
    "If you double-click on a Markdown cell it will change into edit mode. Run the cell to turn it back into markdown.\n",
    "\n",
    "The notebooks will use colour-coded cells:"
   ]
  },
  {
   "cell_type": "markdown",
   "metadata": {},
   "source": [
    "<div style=\"background-color: #C2F5DD\">\n",
    "This is a core exercise cell. These are the most important exercises you will encounter in these notebooks and  cover all of the intended learning outcomes."
   ]
  },
  {
   "cell_type": "markdown",
   "metadata": {},
   "source": [
    "<div style=\"background-color: #FFF8C6\">\n",
    "\n",
    "This is a non-core cell, which includes additional information or extra exercises. You can complete these if you want extra practice.\n"
   ]
  },
  {
   "cell_type": "markdown",
   "metadata": {},
   "source": [
    "<hr style=\"border:2px solid gray\">\n",
    "\n",
    "# Literals, operators, and data types [^](#index) <a id=\"operators\"></a>\n"
   ]
  },
  {
   "cell_type": "markdown",
   "metadata": {},
   "source": [
    "On a very basic level, Python can be used as a calculator. \n",
    "<div style=\"background-color: #C2F5DD\"> \n",
    "\n",
    "### Exercise\n",
    "    \n",
    "In the cell below, type:\n",
    "\n",
    "<span style=\"color:blue\">8 + 2</span>\n",
    "\n",
    "**Now run the cell.**\n",
    "    \n"
   ]
  },
  {
   "cell_type": "code",
   "execution_count": null,
   "metadata": {},
   "outputs": [],
   "source": []
  },
  {
   "cell_type": "markdown",
   "metadata": {},
   "source": [
    "The numbers <span style=\"color:blue\">8</span> and <span style=\"color:blue\">2</span> you typed above are called literals. Literals are data inserted directly into your code. Here, we have used integer literals (e.g. 1, 2, -3, ... ), but more frequently we will use float literals (numbers with decimal points or given in scientific notation, even if they represent integers: 1.3, 10.0, 1e10, ...). These numbers are called “floating point” because of the manner in which they are encoded in the computer’s binary memory. "
   ]
  },
  {
   "cell_type": "markdown",
   "metadata": {},
   "source": [
    "The <span style=\"color:blue\">+</span> symbol in first code cell is called an *operator*. Operators operate on the code on either side of them (called the operands), and produce some sort of result (e.g. the integer 10 in your code above). Other examples of arithmetic operators are:\n",
    "\n",
    "- <span style=\"color:blue\">\\- </span>for subtraction\n",
    "- <span style=\"color:blue\">\\*</span> for multiplication\n",
    "- <span style=\"color:blue\">/</span> for division\n",
    "- <span style=\"color:blue\">\\*\\*</span> for exponent\n",
    "- <span style=\"color:blue\">%</span> for modulus (returns the remainder of a division)\n",
    "- <span style=\"color:blue\">//</span> for floor division (returns the result of the division rounded down to an integer). \n",
    "\n",
    "\n",
    "<div style=\"background-color: #C2F5DD\">\n",
    "    \n",
    "### Exercise\n",
    "    \n",
    "In the cells below, try out each of the operators given above. What happens if you mix the data types of the operands in your calculation, for example add an integer to a float?"
   ]
  },
  {
   "cell_type": "code",
   "execution_count": null,
   "metadata": {},
   "outputs": [],
   "source": []
  },
  {
   "cell_type": "markdown",
   "metadata": {},
   "source": [
    "The order of operations is as usual, i.e. multiplication and division before addition and subtraction. For operations on the same level, Python reads code from left to right, i.e. <span style=\"color:blue\">20/5\\*2</span> will give 8.0. To change the order, or make the order explicit (and hence code more readable) use round brackets, for example <span style=\"color:blue\">20/(5\\*2)</span> to give 2.0. The shorthand for scientific notation is  <span style=\"color:blue\">1.234e5</span>, which means $1.234\\times10^5$."
   ]
  },
  {
   "cell_type": "markdown",
   "metadata": {},
   "source": [
    "When you are coding, it is common to make errors, for example a typo or trying to do something that Python can't do. When this happens, Python will throw up an error message. Here are two hints to help you interpret error messages:\n",
    "1. Start at the bottom of the error message: it normally give a one-line summary of the problem. If you can't immediately solve it, read the text above it to find out where in your code the error occurred.\n",
    "2. If the one-line summary doesn't make sense, copy and paste it into Google. Chances are many people have encountered it before and will have asked a question about it!\n",
    "\n",
    "<div style=\"background-color: #C2F5DD\">\n",
    "    \n",
    "### Exercise \n",
    "In order to get used to error messages, run the following cell, and read the error message *before* correcting the code. The cell is supposed to output the number 20"
   ]
  },
  {
   "cell_type": "code",
   "execution_count": null,
   "metadata": {},
   "outputs": [],
   "source": [
    "10 + 1o"
   ]
  },
  {
   "cell_type": "markdown",
   "metadata": {},
   "source": [
    "The other main type of mistake is more pernicious: you may write some code that is perfectly valid, but doesn't do what you actually want it to do. The only way of catching this, is by paying very careful attention to the output at all times, and checking it makes sense. We will discuss this later - however it is important to foster the habit of checking your output from the very start of your coding career."
   ]
  },
  {
   "cell_type": "markdown",
   "metadata": {},
   "source": [
    "**A final important note**: it is expected that you will cause your system to grind down to a halt when you do calculations with extremely large numbers. This also occasionally happens due to coding errors. Don't worry - this is not a problem! If your system becomes unresponsive, restart your kernel by clicking 'Kernel'  --> 'Restart' in the menu bar at the top of the page. Make sure to change any offending code cells to markdown so that they won't be executed again, click on the next code cell, and choose 'Cell' --> 'Run all above' to re-run all your coding cells so far. \n",
    "\n",
    "Let's move on! Experiment with operators, brackets, scientific notation, and different data types in the code cell below. From now on, the notebook will only display one code cell when it is time for you to try your coding skills; it is up to you to add as many cells as you need. It is strongly recommended you don't delete any of your code but keep as many examples in different cells as possible so both you and your demonstrator can easily refer back to what you have tried.\n",
    "<p>\n",
    "<div style=\"background-color: #C2F5DD\">\n",
    "\n",
    "### Exercise \n",
    "Coding has many quirks that you will get used to with practice. Try and answer the following questions for yourself whilst experimenting with arithmetic operators:\n",
    "\n",
    "- Do all answers make sense?\n",
    "- Can you use numbers as big as you like? Is there an upper limit to the exponent in scientific notation?\n",
    "- Can you use numbers as small as you like? Is there a lower limit to the exponent?\n",
    "- Can numbers be as precise as you like? How many zeros do you need before 1.00000000000000000001 gets truncated?\n",
    "- What happens if you don’t balance your brackets?\n",
    "- Can you apply arithmetic operators to strings? If so, which, and what is the result?\n"
   ]
  },
  {
   "cell_type": "code",
   "execution_count": null,
   "metadata": {},
   "outputs": [],
   "source": []
  },
  {
   "cell_type": "markdown",
   "metadata": {},
   "source": [
    "You may have noticed floats do not have unlimited accuracy. This is an important feature of computer programming, not just a bug in Python. To read more about why this happens, have a look at [this tutorial.](https://docs.python.org/3/tutorial/floatingpoint.html) "
   ]
  },
  {
   "cell_type": "markdown",
   "metadata": {},
   "source": [
    "<hr style=\"border:2px solid gray\">\n",
    "\n",
    "# Data Types [^](#index) <a id=\"data\"></a>\n",
    "\n",
    "So far we have encountered integer and float data types. Another type of literal is a string literal, which is a piece of text that does not constitute any code. You specify a string literal by surrounding it in matched single or double quotation marks, e.g:"
   ]
  },
  {
   "cell_type": "code",
   "execution_count": null,
   "metadata": {},
   "outputs": [],
   "source": [
    "\"This is a string\""
   ]
  },
  {
   "cell_type": "markdown",
   "metadata": {},
   "source": [
    "You can find out the data type of any literal by using the <span style=\"color:blue\">type()</span> command. "
   ]
  },
  {
   "cell_type": "markdown",
   "metadata": {},
   "source": [
    "<div style=\"background-color: #C2F5DD\">\n",
    "\n",
    "### Exercise \n",
    "Run the examples in the following code cells:"
   ]
  },
  {
   "cell_type": "code",
   "execution_count": null,
   "metadata": {},
   "outputs": [],
   "source": [
    "type(1)"
   ]
  },
  {
   "cell_type": "code",
   "execution_count": null,
   "metadata": {},
   "outputs": [],
   "source": [
    "type(1.0)"
   ]
  },
  {
   "cell_type": "code",
   "execution_count": null,
   "metadata": {},
   "outputs": [],
   "source": [
    "type(\"1\")"
   ]
  },
  {
   "cell_type": "code",
   "execution_count": null,
   "metadata": {},
   "outputs": [],
   "source": [
    "type(1+1j)"
   ]
  },
  {
   "cell_type": "code",
   "execution_count": null,
   "metadata": {},
   "outputs": [],
   "source": [
    "type([1,2])"
   ]
  },
  {
   "cell_type": "markdown",
   "metadata": {},
   "source": [
    "### Converting between data types\n",
    "\n",
    "In the above we defined variables to be different types of data, whether that be an int, float or string. Unlike in other languages, in Python you do not have to pre-assign the data type of a variable before assigning the variable itself. Variables also don't have to remain the same type throughout the program. For example, below we convert an integer to a float, and a string consisting of a number to an integer."
   ]
  },
  {
   "cell_type": "code",
   "execution_count": null,
   "metadata": {},
   "outputs": [],
   "source": [
    "a = 2\n",
    "b = float(a)\n",
    "print(a,b)\n",
    "\n",
    "c = '69'\n",
    "d = int(c)\n",
    "print(c,d)"
   ]
  },
  {
   "cell_type": "markdown",
   "metadata": {},
   "source": [
    "\n",
    "Can you see the difference between the value of variable c and variable d when they are printed in the example above? How can you check which variable is of which type?\n",
    "<p>\n",
    "<div style=\"background-color: #FFF8C6\">\n",
    "    \n",
    "### Exercise \n",
    "Try converting different types of data below. Answer the following questions:\n",
    "- Can you turn a string of letters into a float or integer?\n",
    "- What happens when you convert a float with non-zero decimal points into an integer? Make sure to try different values of decimals!\n",
    "- Can you turn a complex number into a string, float, or integer?"
   ]
  },
  {
   "cell_type": "code",
   "execution_count": null,
   "metadata": {},
   "outputs": [],
   "source": []
  },
  {
   "cell_type": "markdown",
   "metadata": {},
   "source": [
    "<hr style=\"border:2px solid gray\">\n",
    "\n",
    "# Variables and keywords [^](#index)<a id=\"variables\"></a>"
   ]
  },
  {
   "cell_type": "markdown",
   "metadata": {},
   "source": [
    "The <span style=\"color:blue\">=</span> operator (sometimes called the assignment operator) allows you to store data in a *variable*. Variables are ubiquitous in computer programming, and are much like variables in maths. For example, if we want to create a variable x which has the value 4 we can simply write <span style=\"color:blue\">x = 4</span>. \n",
    "\n",
    "Unlike in algebra, the operator <span style=\"color:blue\">=</span> is **directional**: the variable on the left of the <span style=\"color:blue\">=</span> is always assigned the value of what is on the right of the <span style=\"color:blue\">=</span>, not the other way around.  \n",
    "\n",
    "<div style=\"background-color: #C2F5DD\">\n",
    "    \n",
    "### Exercise \n",
    "    \n",
    "Run the cells below and see what happens:"
   ]
  },
  {
   "cell_type": "code",
   "execution_count": null,
   "metadata": {},
   "outputs": [],
   "source": [
    "x = 4\n",
    "print(x)"
   ]
  },
  {
   "cell_type": "code",
   "execution_count": null,
   "metadata": {},
   "outputs": [],
   "source": [
    "x + 2"
   ]
  },
  {
   "cell_type": "code",
   "execution_count": null,
   "metadata": {},
   "outputs": [],
   "source": [
    "y = x + 2\n",
    "print(y)"
   ]
  },
  {
   "cell_type": "markdown",
   "metadata": {},
   "source": [
    "In the code above we used the <span style=\"color:blue\">print()</span> command to print the value of the variables to screen. In Python, you can also simply type the name of a variable to do this. However, this should be used with caution as this only works properly when a cell has only one output. \n",
    "\n",
    "<div style=\"background-color: #C2F5DD\">\n",
    "    \n",
    "### Exercise \n",
    "    \n",
    "To illustrate this, try running the  code cells below and pay careful attention to the output of each cell."
   ]
  },
  {
   "cell_type": "code",
   "execution_count": null,
   "metadata": {},
   "outputs": [],
   "source": [
    "a = 1\n",
    "b = 2\n",
    "a"
   ]
  },
  {
   "cell_type": "code",
   "execution_count": null,
   "metadata": {},
   "outputs": [],
   "source": [
    "a\n",
    "b"
   ]
  },
  {
   "cell_type": "code",
   "execution_count": null,
   "metadata": {},
   "outputs": [],
   "source": [
    "print(a)\n",
    "print(b)"
   ]
  },
  {
   "cell_type": "markdown",
   "metadata": {},
   "source": [
    "<p>\n",
    "<div style=\"background-color: #C2F5DD\">\n",
    "\n",
    "### Exercise \n",
    "    \n",
    "Below, assign variable names to data provided by literals, or to the results of computation using operators. Try and find out the answers to the following questions:\n",
    "\n",
    "- Can you identify the rules that govern the possible names? Some names to try: my_glorious_variable_3, True, 1value, my favourite value, A#B...\n",
    "- Are the values case sensitive, i.e., is 'name' the same as 'naMe'?\n",
    "- What happens when you give the same name to two different values?\n",
    "- What happens when you give two different names to the same value?\n",
    "- What happens if you store the result of a calculation involving a particular variable as that very variable?"
   ]
  },
  {
   "cell_type": "code",
   "execution_count": null,
   "metadata": {},
   "outputs": [],
   "source": []
  },
  {
   "cell_type": "markdown",
   "metadata": {},
   "source": [
    "The reason why <span style=\"color:blue\">A#B</span> didn’t work as a name was that <span style=\"color:blue\">#</span> is Python’s comment character, which means “Ignore everything after this character until the end of the line”. Comments are used to annotate  code to make it more human-readable, for example to describe in natural language what a complicated line of code does, to make it easier to understand.\n",
    "\n",
    "The reason why <span style=\"color:blue\">True</span> didn’t work as a variable name is because it is a Python keyword, one of the few words that has a special meaning to the language. A list of keywords is:\n",
    "```python \n",
    "and        def       for      is      return\n",
    "as         del       from     lambda  try\n",
    "assert     elif      global   not     while\n",
    "break      else      if       or      with\n",
    "class      except    import   pass    yield\n",
    "continue   finally   in       raise\n",
    "```\n",
    "\n",
    "Note that this list changes with different versions of Python. Jupyter Notebooks helpfully change the colour of a keyword to bold green, so you will immediately notice it if you use a keyword inadvertently. We will cover some of these keywords in this course, but not all of them."
   ]
  },
  {
   "cell_type": "markdown",
   "metadata": {},
   "source": [
    "<hr style=\"border:2px solid gray\">\n",
    "\n",
    "# NumPy and Arrays [^](#index)<a id=\"arrays\"></a>"
   ]
  },
  {
   "cell_type": "markdown",
   "metadata": {},
   "source": [
    "### Modules\n",
    "Everything we have covered so far has been part of the core Python programming language. However, you may require extra functuality, in which case you would need to import a **module**. In this section, we will use NumPy as an example of a common imported module. A more in-depth study of modules will be covered in **Notebook 2**\n",
    "\n",
    "### NumPy\n",
    "\n",
    "The core Python programming language does not include many mathematical functions that you might expect to use. For example, if you needed to use trigonometric functions such as sin, cos, etc, you would have to write your own code to implement these. \n",
    "\n",
    "NumPy is a large collection of open-source libraries and tools brought together to give a powerful high-level environment for mathematical and scientific computing. NumPy provides functions for basic mathematical operations (sin, cos, tan, etc.) as well as functions which handle arrays, vectors, matrices and operations upon them. To use NumPy, you first need to import the package as follows: "
   ]
  },
  {
   "cell_type": "code",
   "execution_count": null,
   "metadata": {},
   "outputs": [],
   "source": [
    "import numpy as np\n",
    "\n",
    "print (np.pi)"
   ]
  },
  {
   "cell_type": "markdown",
   "metadata": {},
   "source": [
    "Generally you will need to include this line at the top of your code or notebook (and make sure to run the cell). Be careful: when you reopen your notebook at a later time to continue or review your work, you will have to run the cell above again to be able to use NumPy's functions again. A good way of resuming work is to select the \"Run All Above\" option from the Cell menu, to ensure all previous cells have been executed before you carry on.  \n",
    "You can now use all of NumPy's routines by calling them by their name preceded by <span style=\"color:blue\">np.</span> "
   ]
  },
  {
   "cell_type": "markdown",
   "metadata": {},
   "source": [
    "### NumPy Arrays\n",
    "An extremely useful NumPy routine is **np.array**. In this example, we create an array, A, comprising of the numbers 10 to 100 in steps of 10:"
   ]
  },
  {
   "cell_type": "code",
   "execution_count": null,
   "metadata": {},
   "outputs": [],
   "source": [
    "A = np.array([10,20,30,40,50,60,70,80,90,100])"
   ]
  },
  {
   "cell_type": "markdown",
   "metadata": {},
   "source": [
    "As you can see, an array is a series of objects of the same type (integers in the example above). Each individual object in the array is called an element. You can access individual elements of an array by specifying the index of the element in the array within square brackets. For example, the cell below first prints the entire array A and subsequently only the element with index 1:"
   ]
  },
  {
   "cell_type": "code",
   "execution_count": null,
   "metadata": {},
   "outputs": [],
   "source": [
    "print(A)\n",
    "print(A[1])"
   ]
  },
  {
   "cell_type": "markdown",
   "metadata": {},
   "source": [
    "When you run the above cell, the second output line might not be what you expected! This is because indices start from **0**, so the first element has index 0, the second element index 1, and so forth. You can access any selection of elements from an array using indices; this is called slicing. \n",
    "\n",
    "<div style=\"background-color: #C2F5DD\">\n",
    "    \n",
    "### Exercise \n",
    "Look at the following list - can you predict what the result will be before running these statements? Pay careful attention to which elements are included in the slices.\n",
    "- <span style=\"color:blue\">A[9]</span>\n",
    "- <span style=\"color:blue\">A[10]</span>\n",
    "- <span style=\"color:blue\">A[-1]</span>\n",
    "- <span style=\"color:blue\">A[1:3]</span>\n",
    "- <span style=\"color:blue\">A[1:]</span>\n",
    "- <span style=\"color:blue\">A[:5]</span>\n",
    "- <span style=\"color:blue\">A[0:6:2]</span>\n",
    "- <span style=\"color:blue\">A[::2]</span>\n",
    "\n",
    "**Slicing is a very important concept in programming, so take some time experimenting with this in the cell below (again, add as many cells as you like in the notebook). Can you figure out the rules of slicing? Challenge: use slice notation to reverse array A in one line.**"
   ]
  },
  {
   "cell_type": "code",
   "execution_count": null,
   "metadata": {},
   "outputs": [],
   "source": []
  },
  {
   "cell_type": "markdown",
   "metadata": {},
   "source": [
    "You can even create 2D (or higher-dimensional) arrays, by nesting several 1D arrays within one array: one for each row. This is a very useful data structure - it can for example represent data tables or even images. Run the following cell to see an example:"
   ]
  },
  {
   "cell_type": "code",
   "execution_count": null,
   "metadata": {},
   "outputs": [],
   "source": [
    "twoDarray=np.array([[1,2],[10,20],[100,200]])\n",
    "print(twoDarray)"
   ]
  },
  {
   "cell_type": "markdown",
   "metadata": {},
   "source": [
    "We can now access individual cells by taking the slice [row_index,column_index]. For example, the command below will print the element that is in the third row and second column of the 2D array above:"
   ]
  },
  {
   "cell_type": "code",
   "execution_count": null,
   "metadata": {},
   "outputs": [],
   "source": [
    "print(twoDarray[2,1])"
   ]
  },
  {
   "cell_type": "markdown",
   "metadata": {},
   "source": [
    "<div style=\"background-color: #FFF8C6\">\n",
    "Arrays can be extended to an arbitrary number of dimensions. Implementing them in the above manner however would become very tedious, especially  trying to keep track of all of the square brackets you would need. Numpy has the np.zeros command, that allows you generate an arbitrary array of zeros in any dimensions:\n",
    "\n",
    "```python\n",
    "Arbitrary_array=np.zeros((dim1,dim2,dim3,.......,dimn))\n",
    "```\n",
    "\n",
    "Note the double set of brackets within the zeros, this is because for the zeros function, it is the first argument that sets the number of dimensions. "
   ]
  },
  {
   "cell_type": "markdown",
   "metadata": {},
   "source": [
    "<div style=\"background-color: #FFF8C6\">\n",
    "    \n",
    "### Exercise\n",
    "Experiment with taking slices out of a 2D array - these can be 2D arrays, 1D arrays, or single elements. Can you take it a step further and create a 3D array (i.e. a data cube) and take slices from it?"
   ]
  },
  {
   "cell_type": "markdown",
   "metadata": {},
   "source": [
    "The <span style=\"color:blue\">np.array()</span> method works fine for short arrays, or to input a small number of measurement data points by hand, but would become tedious for creating longer arrays. A quicker way of defining arrays with a fixed increment is using <span style=\"color:blue\">np.arange()</span> or <span style=\"color:blue\">np.linspace()</span>. \n",
    "\n",
    "<div style=\"background-color: #C2F5DD\">\n",
    "    \n",
    "### Exercise\n",
    "Use Google or the help documentation on these two functions (by running e.g. <span style=\"color:blue\">help(np.arange)</span>) to find out how they work. Subsequently create an array which includes the numbers 0 - 100 (make sure to store your array in a variable). Next, try and create an array consisting of the numbers 100 - 200 in steps of 0.01. What is the difference between using <span style=\"color:blue\">np.arange()</span> and <span style=\"color:blue\">np.linspace()</span>?"
   ]
  },
  {
   "cell_type": "code",
   "execution_count": null,
   "metadata": {},
   "outputs": [],
   "source": []
  },
  {
   "cell_type": "markdown",
   "metadata": {},
   "source": [
    "One reason arrays are so powerful within Python is because you can do arithmetic operations on them. For example, to multiply every element of array A by two, simply run the following:"
   ]
  },
  {
   "cell_type": "code",
   "execution_count": null,
   "metadata": {},
   "outputs": [],
   "source": [
    "2*A"
   ]
  },
  {
   "cell_type": "markdown",
   "metadata": {},
   "source": [
    "You can perform element-wise multiplication on two arrays, for example:"
   ]
  },
  {
   "cell_type": "code",
   "execution_count": null,
   "metadata": {},
   "outputs": [],
   "source": [
    "A*A"
   ]
  },
  {
   "cell_type": "markdown",
   "metadata": {},
   "source": [
    "### Using the time module\n",
    "\n",
    "Another reason to use arrays over lists is the much shorter computational time. To demonstrate this, we will make use of the `time` module. `time` is a useful and commonly used module in Python which can measure runtime of code."
   ]
  },
  {
   "cell_type": "code",
   "execution_count": null,
   "metadata": {},
   "outputs": [],
   "source": [
    "# being by importing the relevant modules\n",
    "import numpy as np\n",
    "import time"
   ]
  },
  {
   "cell_type": "code",
   "execution_count": null,
   "metadata": {},
   "outputs": [],
   "source": [
    "# define our list and our numpy array\n",
    "arr = np.linspace(1,1e8, int(1e8)) \n",
    "l = list(arr)"
   ]
  },
  {
   "cell_type": "markdown",
   "metadata": {},
   "source": [
    "**Trial Comparison**\n",
    "\n",
    "In the cell below we will increase the value of each integer in the two data structures by one, and measure the time taken for the code to run."
   ]
  },
  {
   "cell_type": "code",
   "execution_count": null,
   "metadata": {},
   "outputs": [],
   "source": [
    "# This will measure the current time before and after finishing each task\n",
    "\n",
    "print('Running using numpy array...')\n",
    "t1_arr = time.time()\n",
    "arr+=1\n",
    "t2_arr = time.time()\n",
    "\n",
    "print(f'Time taken using numpy array = {t2_arr - t1_arr}s\\n')\n",
    "print('Running using list...')\n",
    "t1_list = time.time()\n",
    "l = [i+1 for i in l]\n",
    "t2_list = time.time()\n",
    "\n",
    "print(f'Time taken using list        = {t2_list - t1_list}s')"
   ]
  },
  {
   "cell_type": "markdown",
   "metadata": {},
   "source": [
    "We can see a clear disparity in computation time.\n",
    "\n",
    "Below, we will plot runtime as a function of list/array length, to emphasise this more."
   ]
  },
  {
   "cell_type": "code",
   "execution_count": null,
   "metadata": {
    "scrolled": false
   },
   "outputs": [],
   "source": [
    "# This cell should take around 30s to run\n",
    "import matplotlib.pyplot as plt\n",
    "import matplotlib\n",
    "lengths = []\n",
    "arr_times = []\n",
    "list_times = []\n",
    "\n",
    "for i in range(7):\n",
    "\n",
    "    length = 10**i\n",
    "    lengths.append(length)\n",
    "    arr = np.linspace(1,length, int(length))\n",
    "    l = list(arr)\n",
    "    \n",
    "    t1_arr = time.time()\n",
    "    arr+=1\n",
    "    t2_arr = time.time()\n",
    "\n",
    "    t1_list = time.time()\n",
    "    l = [i+1 for i in l]\n",
    "    t2_list = time.time()  \n",
    "\n",
    "    arr_times.append(t2_arr - t1_arr)\n",
    "    list_times.append(t2_list - t1_list)\n",
    "    \n",
    "#Graph Formatting, this will be explained in depth later\n",
    "\n",
    "params={'figure.figsize': [11, 4]}\n",
    "plt.rcParams.update(params)\n",
    "\n",
    "plt.subplot(121)\n",
    "plt.semilogx(lengths[:5], arr_times[:5], label='Numpy array', lw=2)\n",
    "plt.semilogx(lengths[:5], list_times[:5], label ='list', lw=2)\n",
    "plt.xlabel('Length of Structure')\n",
    "plt.ylabel('Computation Time')\n",
    "plt.legend()\n",
    "plt.title('Up to Structure Length of $10^4$')\n",
    "plt.grid(True, 'both')\n",
    "\n",
    "\n",
    "plt.subplot(122)\n",
    "plt.semilogx(lengths[:], arr_times[:], label='Numpy array', lw=2)\n",
    "plt.semilogx(lengths[:], list_times[:], label ='list', lw=2)\n",
    "plt.xlabel('Length of Structure')\n",
    "plt.ylabel('Computation Time')\n",
    "plt.legend()\n",
    "plt.title('Up to Structure Length of $10^6$')\n",
    "plt.grid(True, 'both')\n",
    "\n",
    "plt.show()\n",
    "\n",
    "\n"
   ]
  },
  {
   "cell_type": "markdown",
   "metadata": {},
   "source": [
    "### Statistics with arrays"
   ]
  },
  {
   "cell_type": "markdown",
   "metadata": {},
   "source": [
    "These plots compare the performance of the 2 data structures on increasingly large computations, and clearly show the superiority of numpy arrays."
   ]
  },
  {
   "cell_type": "markdown",
   "metadata": {},
   "source": [
    "Here is a set of values obtained for the wave length of a sound wave.\n",
    "\n",
    "* 0.76 m\n",
    "* 0.79 m\n",
    "* 0.84 m\n",
    "* 0.75 m\n",
    "* 0.80 m\n",
    "* 0.79 m\n",
    "\n",
    "We can now calculate the mean of these data with a simple set of commands:"
   ]
  },
  {
   "cell_type": "code",
   "execution_count": null,
   "metadata": {},
   "outputs": [],
   "source": [
    "x=np.array([0.76,0.79,0.84,0.75,0.80,0.79])\n",
    "mean_value=np.mean(x)\n",
    "print('The mean value is:', mean_value, 'm')"
   ]
  },
  {
   "cell_type": "markdown",
   "metadata": {},
   "source": [
    "Similarly, we can calculate the standard deviation of the sample by calling the function <span style=\"color:blue\">np.std()</span>. This function calculates the sample standard deviation $s$ using the following formula:\n",
    "\n",
    "$$s^2 = \\frac{1}{n-1}\\sum_{i=1}^n(x_i-\\overline{x})^2$$ \n",
    "\n",
    "Here $x_i$ are the individual data points, $\\overline{x}$ is the mean value of the data set, and $n$ is the number of data points.\n",
    "\n",
    "<div style=\"background-color: #C2F5DD\">\n",
    "    \n",
    "### Exercise\n",
    "Calculate the standard deviation of our data set using the <span style=\"color:blue\">std()</span> function which is in the NumPy package - i.e. call the function by typing <span style=\"color:blue\">np.std()</span>. Once again, use the inbuilt help or Google to help you on your way. Help files are always a long read -  in this case focus on the keyword <span style=\"color:blue\">ddof</span> to ensure you use the *sample* standard deviation. You will need to set this to <span style=\"color:blue\">ddof=1</span> when you call the <span style=\"color:blue\">np.std()</span> function. This ensures the denominator in the equation above is set to $n-1$ rather than $n$."
   ]
  },
  {
   "cell_type": "code",
   "execution_count": null,
   "metadata": {},
   "outputs": [],
   "source": []
  },
  {
   "cell_type": "markdown",
   "metadata": {},
   "source": [
    "<hr style=\"border:2px solid gray\">\n",
    "\n",
    "# Reading and writing files [^](#index) <a id=\"files\"></a>"
   ]
  },
  {
   "cell_type": "markdown",
   "metadata": {},
   "source": [
    "There are numerous ways in Python to read in data from files, each with their own pros and cons. One method is to use the <span style=\"color:blue\">loadtxt()</span> function, which is included in the NumPy package. It offers a straightforward way of reading in data sets which consist of columns of measurement points. \n",
    "<div style=\"background-color: #C2F5DD\">\n",
    "    \n",
    "### Exercise \n",
    "To try this out, open the file [Resistivity.txt](https://cclewley.github.io/ComputingYr1/Data1/Resistivity.txt). Click on the link to inspect this data file within your browser: you will see it includes 3 columns, separated by spaces. The first column is temperature, the second the measured resistivity of copper, and the third that of aluminium. You may recognise these from your Measurements & Uncertainties tutorial if you have already done this! To read in this data file and print the data, run the following cell:"
   ]
  },
  {
   "cell_type": "code",
   "execution_count": null,
   "metadata": {},
   "outputs": [],
   "source": [
    "data=np.loadtxt(\"Data/Resistivity.txt\")\n",
    "print(data)"
   ]
  },
  {
   "cell_type": "markdown",
   "metadata": {},
   "source": [
    "To read the file, we have to include the subfolder name in the file name, i.e. <span style=\"color:blue\">\"Data/Resistivity.txt\"</span>. If we do not include the subfolder name, the computer would look for the file in the same folder as where the script for this code is stored (i.e. this Jupyter Notebook). Since usually you would have your data stored in a different place than your programming scripts, it is good to get used to specifiying folders (or 'path names') right from the start. <p>\n",
    "You will see that the data has been read into a 2D array. If we wish, we can now slice the 2D array to create three 1D arrays, each representing a separate physical quantity (T for temperature, R_Cu for the copper resistivity, and R_Al for the aluminum resistivity):"
   ]
  },
  {
   "cell_type": "code",
   "execution_count": null,
   "metadata": {},
   "outputs": [],
   "source": [
    "T = data[:,0]\n",
    "R_Cu = data[:,1]\n",
    "R_Al = data[:,2]\n",
    "print('Temperature:', T)\n",
    "print('Copper resistivity', R_Cu)\n",
    "print('Aluminium resistivity', R_Al)"
   ]
  },
  {
   "cell_type": "markdown",
   "metadata": {},
   "source": [
    "<div style=\"background-color: #FFF8C6\">\n",
    "    \n",
    "The <span style=\"color:blue\">loadtxt()</span> function incorporates more features: it can also skip header rows and deal with different types of delimiters (how the data is separated). As an example, look at the file\n",
    "[Resistivity.csv](https://cclewley.github.io/ComputingYr1/Data1/Resistivity.csv) , which is a csv (comma separated variable) file of the same data. You will need to download this file and open it in Excel to be able to inspect it. Note that now the data is delimited by commas, and includes two header rows. Now run the cell below:"
   ]
  },
  {
   "cell_type": "code",
   "execution_count": null,
   "metadata": {},
   "outputs": [],
   "source": [
    "T, R_Cu, R_Al = np.loadtxt(\"Data/Resistivity.csv\", skiprows=2, delimiter=',', unpack=True)\n",
    "print('Temperature:', T)\n",
    "print('Copper resistivity', R_Cu)\n",
    "print('Aluminium resistivity', R_Al)"
   ]
  },
  {
   "cell_type": "markdown",
   "metadata": {},
   "source": [
    "We have changed three things: we use the <span style=\"color:blue\">skiprows</span> keyword to skip the first two header rows, we use the <span style=\"color:blue\">delimiter</span> keyword to set the delimiter to comma (a tab would be <span style=\"color:blue\">delimiter='\\t'</span>), and we have used the <span style=\"color:blue\">unpack</span> keyword to store each column of the data in a separate array (T, R_Cu, and R_Al in this case).\n",
    "\n",
    "<div style=\"background-color: #FFF8C6\">\n",
    "\n",
    "### Exercise \n",
    "Try reading [Resistivity.txt](https://cclewley.github.io/ComputingYr1/Data1/Resistivity.txt) with the keyword <span style=\"color:blue\">delimiter=','</span> and see what happens. Next try it with  <span style=\"color:blue\">delimiter=' '</span>. Finally, try reading [Resistivity.csv](https://cclewley.github.io/ComputingYr1/Data1/Resistivity.csv) without the <span style=\"color:blue\">skiprows</span> keyword. Open up the .csv file in a text editor such as WordPad and look at how the data are stored.**\n",
    "\n",
    "When reading in more complex data, the function <span style=\"color:blue\">genfromtxt()</span> in the NumPy package can be more appropriate. It incorporates more flexibility, such as dealing with missing data."
   ]
  },
  {
   "cell_type": "markdown",
   "metadata": {},
   "source": [
    "Conversely, at some point you will want to write data to an output file. To do this, we can use the <span style=\"color:blue\">savetxt()</span> function included in NumPy. Below is a simple example of how to use this. \n"
   ]
  },
  {
   "cell_type": "markdown",
   "metadata": {},
   "source": [
    "<div style=\"background-color: #C2F5DD\">\n",
    "    \n",
    "### Exercise \n",
    "    \n",
    "Run the cell below and have a look at the resulting file.\n",
    "\n",
    "**Tip: to do this, you need to make an 'Output' folder in the folder where this worksheet is located, and click on the newly created file to see a preview in your browser window.**"
   ]
  },
  {
   "cell_type": "code",
   "execution_count": null,
   "metadata": {},
   "outputs": [],
   "source": [
    "np.savetxt('Output/Test_outputfile1.txt',data)"
   ]
  },
  {
   "cell_type": "markdown",
   "metadata": {},
   "source": [
    "<div style=\"background-color: #FFF8C6\">\n",
    "Note that <span style=\"color:blue\">savetxt()</span> only takes one argument for the data to be printed, so if you want to print various 1D arrays (instead of the single 2D array in the example above), you need to combine them into a single 2D array. To do this successfully, you will need to use the NumPy <span style=\"color:blue\">column_stack()</span> function. \n",
    "\n",
    "### Exercise the two examples below illustrate this - extend the code to print out the two arrays and have a look at the result.**"
   ]
  },
  {
   "cell_type": "code",
   "execution_count": null,
   "metadata": {},
   "outputs": [],
   "source": [
    "combined_1 = [T,R_Cu,R_Al]\n",
    "combined_2 = np.column_stack([T,R_Cu,R_Al])"
   ]
  },
  {
   "cell_type": "markdown",
   "metadata": {},
   "source": [
    "<div style=\"background-color: #C2F5DD\">\n",
    "    \n",
    "### Exercise \n",
    "Find the mean of the resistivity of copper and subtract it from the copper resistivity data set, so you are left with the residuals. Do the same for aluminium. Now save your new data set (which includes temperature, copper resistivity residuals, and aluminium resistivity residuals) to a file. Make sure to choose a sensible name for your output file! Use the <span style=\"color:blue\">help()</span> function to find out what arguments and keywords the <span style=\"color:blue\">savetxt()</span> function takes. Can you include a header line with the column names and space the columns with tabs?"
   ]
  },
  {
   "cell_type": "code",
   "execution_count": null,
   "metadata": {},
   "outputs": [],
   "source": []
  },
  {
   "cell_type": "markdown",
   "metadata": {},
   "source": [
    "<hr style=\"border:2px solid gray\">\n",
    "\n",
    "# Data Plotting Basics [^](#index) <a id=\"plotting\"></a>"
   ]
  },
  {
   "cell_type": "markdown",
   "metadata": {},
   "source": [
    "Python has a package that specialises in plotting: <span style=\"color:blue\">matplotlib</span>. To use the plotting routines of this package, we only need to import the <span style=\"color:blue\">pyplot</span> part of the matplotlib package. "
   ]
  },
  {
   "cell_type": "code",
   "execution_count": null,
   "metadata": {},
   "outputs": [],
   "source": [
    "import matplotlib.pyplot as plt"
   ]
  },
  {
   "cell_type": "markdown",
   "metadata": {},
   "source": [
    "Within Jupyter Notebooks the plots are created within the notebook itself. In most other environments (such as the Spyder IDE which you will use in Session 3) plots will be created in a separate window.\n",
    "\n",
    "We can now use the <span style=\"color:blue\">plot()</span> function to create a plot of our resistivity data:"
   ]
  },
  {
   "cell_type": "code",
   "execution_count": null,
   "metadata": {},
   "outputs": [],
   "source": [
    "plt.plot(T,R_Cu)\n",
    "plt.show()"
   ]
  },
  {
   "cell_type": "markdown",
   "metadata": {},
   "source": [
    "In essence the first line in the cell above creates a plot object, and the second line shows the plot (akin to creating a variable and printing it to screen with the the <span style=\"color:blue\">print()</span> command). To save the figure as an image or pdf file, use the <span style=\"color:blue\">plt.savefig()</span> command instead of the <span style=\"color:blue\">plt.show()</span> command.\n",
    "\n",
    "Looking at the plot above, you may guess that the resistivity increases linearly with time, but there is some scatter in the data. A line plot is therefore not the most suitable graph; instead we want to use a scatter plot. In fact, even if the data did follow a perfect line, we would still want to plot the data points themselves as well - otherwise we would not be able to tell if the graph is the result of two datapoints or two hundred! We can do that by specifying a plotting symbol as a third argument in the <span style=\"color:blue\">plot()</span> function. Below we plot the resistivity for both copper and aluminium using different plotting symbols. We also save the image as a png file in the subfolder 'Output' (check this for yourself!)."
   ]
  },
  {
   "cell_type": "code",
   "execution_count": null,
   "metadata": {},
   "outputs": [],
   "source": [
    "plt.plot(T,R_Cu,'x')\n",
    "plt.plot(T,R_Al,'+')\n",
    "plt.savefig(\"Output/Resistivity_plot.png\")\n",
    "plt.show()"
   ]
  },
  {
   "cell_type": "markdown",
   "metadata": {},
   "source": [
    "**Important note:** Make sure you put the <span style=\"color:blue\">plt.show()</span> command *after* the <span style=\"color:blue\">plt.savefig()</span> command. If you save the figure after showing it on screen, it will create an empty file!"
   ]
  },
  {
   "cell_type": "markdown",
   "metadata": {},
   "source": [
    "<div style=\"background-color: #FFF8C6\">\n",
    "There are many more features you can change if you have time to research them. For example, you may have noticed that the 'tick marks' on the x-axis (i.e. where the vertical grid lines are placed) in the example plot are different from the default values. \n",
    "<p>\n",
    "    \n",
    "### Exercise \n",
    "    \n",
    "Can you find out how to change your tick marks accordingly? Another thing to try is changing the font to Arial using the <span style=\"color:blue\">rcParams</span> data structure.**"
   ]
  },
  {
   "cell_type": "code",
   "execution_count": null,
   "metadata": {},
   "outputs": [],
   "source": [
    "plt.style.use(\"default\")"
   ]
  },
  {
   "cell_type": "markdown",
   "metadata": {},
   "source": [
    "The <span style=\"color:blue\">plt.style.use(\"default\")</span> function loads the default style sheet. There are other pre-defined style sheets that change the look of your plots. To list all available style sheets, run: \n",
    "\n",
    "```python\n",
    "print(plt.style.available)\n",
    "```\n",
    "<div style=\"background-color: #FFF8C6\">\n",
    "    \n",
    "### Exercise \n",
    "Experiment with a few different style sheets. You can even create your own style sheet and load it in this way!"
   ]
  },
  {
   "cell_type": "markdown",
   "metadata": {},
   "source": [
    "<hr style=\"border:2px solid gray\">\n",
    "\n",
    "# Coding Practices [^](#index)<a id=\"codingpractices\"></a>\n",
    "\n",
    "### Comments\n",
    "\n",
    "Comments use the following syntax:\n",
    "\n",
    "```python\n",
    "# This is a python comment\n",
    "```\n",
    "\n",
    "Any line that begins with the <span style=\"color:blue\">#</span> symbol is not executed as a piece of python code and is purely for human benefit. **You should *always* comment your code extensively**. Comments don't have to be incredibly detailed but should give a brief description of what you are doing. Consider a snippet of code that calculates the hypotenuse of a right-angled triangle:"
   ]
  },
  {
   "cell_type": "code",
   "execution_count": null,
   "metadata": {},
   "outputs": [],
   "source": [
    "#This snippet of code calculates the hypotenuse of a triangle, given the height and width\n",
    "a = 3 #Height in cm\n",
    "b = 4 #Width in cm\n",
    "c = np.sqrt(a**2 + b**2)\n",
    "print(c) #Print the result"
   ]
  },
  {
   "cell_type": "markdown",
   "metadata": {},
   "source": [
    "### Print statements and formatting\n",
    "\n",
    "Adding extra text to a print statement will make it easier to keep track of what is going on when you return to work at a later date. Consider the following example:"
   ]
  },
  {
   "cell_type": "code",
   "execution_count": null,
   "metadata": {},
   "outputs": [],
   "source": [
    "#This snippet of code calculates the hypotenuse of a triangle,given the height and width\n",
    "a=3 #Height in cm\n",
    "b=4 #Width in cm\n",
    "c=np.sqrt(a**2+b**2)\n",
    "print(c) #Just printing the number\n",
    "#Isn't the output of the statement below much more useful?\n",
    "print(\"The hypotenuse of a triangle with width \", a, \" cm and height \", b, \" cm is \", c, \" cm \") "
   ]
  },
  {
   "cell_type": "markdown",
   "metadata": {},
   "source": [
    "<div style=\"background-color: #FFF8C6\">\n",
    "We can also specify the number of significant figures displayed using use a format statement. Run the code cell below and look at the output of the revised print statement."
   ]
  },
  {
   "cell_type": "code",
   "execution_count": null,
   "metadata": {},
   "outputs": [],
   "source": [
    "print(\"The hypotenuse of a triangle with width %d cm and height %d cm is %.2f cm\" % (a,b,c))"
   ]
  },
  {
   "cell_type": "markdown",
   "metadata": {},
   "source": [
    "In between the print brackets we have replaced:\n",
    "```python \n",
    ", a,\n",
    ", b,\n",
    ", c,\n",
    "``` \n",
    "with the commands:\n",
    "```python\n",
    "\"%d\"\n",
    "\"%d\"\n",
    "\"%.2f\"\n",
    "```\n",
    "within the string itself. The % symbol here acts as a place holder: it reads as \"insert variable value here\". The 'd' means that the variable should be printed as an integer. The '.2f statement means that the variable should be printed as a float with two decimal point.\n",
    "\n",
    "Now we need to specify which variables should be printed. To do this, we add the command:\n",
    "\n",
    "```python\n",
    "% (a,b,c)\n",
    "```\n",
    "\n",
    "after the string. Note that the variables need to be given in the order of which they should appear in the text.\n",
    "\n",
    "<div style=\"background-color: #FFF8C6\">\n",
    "\n",
    "### Exercise \n",
    "Look at the code below that calculates the area and volume for a sphere for a variable radius which is in units of meters. Interpret this code, and make it code legible by including comments, string outputs and format statements."
   ]
  },
  {
   "cell_type": "code",
   "execution_count": null,
   "metadata": {},
   "outputs": [],
   "source": [
    "r=1\n",
    "a=4*np.pi*r**2\n",
    "v=4*np.pi/3*r**3\n",
    "print(r,a,v)"
   ]
  },
  {
   "cell_type": "markdown",
   "metadata": {},
   "source": [
    "<div style=\"background-color: #FFF8C6\">\n",
    "    \n",
    "#### Formatting file output\n",
    "Open the file you created in Exercise 17. You may notice that the formatting of your file may not be exactly to your liking. For example, the header names might not line up with your data columns, and the data may have too many decimal places. All this can be fixed by changing the formatting of the output that is written to file. For example, we can force the number of decimal places in the three columns of data by setting the following keyword in the <span style=\"color:blue\">savetxt()</span> function: <span style=\"color:blue\">fmt=\"%.d %.2e %.2e\"</span>.\n",
    "This ensures the first column is printed as an integer, and the other two columns are printed using scientific notation with two decimal places. If you have time, experiment with changing the format of the data in your output file. \n",
    "\n",
    "For a more comprehensive guide on formatting output, have a look at [this tutorial](https://www.python-course.eu/python3_formatted_output.php). Knowing how to format Python output appropriately will come in very handy in the future."
   ]
  },
  {
   "cell_type": "markdown",
   "metadata": {},
   "source": [
    "<hr style=\"border:2px solid gray\">\n",
    "\n",
    "# Non-Array Data Structures [^](#index) <a id=\"nonarray\"></a>"
   ]
  },
  {
   "cell_type": "markdown",
   "metadata": {},
   "source": [
    "Python offers multiple types of data structures that each serve a unique and useful purpose when programming."
   ]
  },
  {
   "cell_type": "markdown",
   "metadata": {},
   "source": [
    "### Lists\n",
    "\n",
    "Lists in Python are defined using square brackets surrounding zero or more comma separated literals: \n",
    "```python\n",
    "some_primes = [2,3,5,7,11,13]\n",
    "names_of_cats = [\"Ginger\", \"Princess\", \"Zorxo the Clawful\"]\n",
    "```\n",
    "\n",
    "Lists don't even have to be of the same type:\n",
    "\n",
    "```python\n",
    "Mixed_list = [2,\"Python\",16.5]\n",
    "```\n",
    "\n",
    "is an allowed list. Moreover lists don't need to contain any elements, they can be initalised as an empty list:\n",
    "\n",
    "```python\n",
    "Empty_list=[]\n",
    "```\n",
    "This is particularly useful when you will be adding elements to the list as your code progresses. To add elements you can use the <span style=\"color:blue\">.append</span> method to a list:\n",
    "\n",
    "```python\n",
    "Empty_list.append(2)\n",
    "```\n",
    "\n",
    "\n",
    "### Tuples\n",
    "Tuples behave very similarly to lists, but are immutable (i.e. they cannot be changed). Tuple literals are created by a writing a sequence of items separated by commas, optionally surrounded by parentheses. To get a tuple with only one element, you need to have a comma after the element.<br>\n",
    "```python\n",
    "my_tuple = 1,2,3\n",
    "my_tuple = (1,2,3)        # equivalent\n",
    "not_a_tuple = 1           # same as: not_a_tuple=1\n",
    "a_tuple = 1,\n",
    "a_tuple = (\"first!\",)     # here the first and only element of the tuple is \"first!\".\n",
    "```\n",
    "\n",
    "Many aspects of Python are implicit tuples. For instance, the assignment operator = will happily assign tuples of names to tuples of values:<br>\n",
    "```python\n",
    "A,B,C = 1,2,3\n",
    "```\n",
    "which is the same as:\n",
    "```python\n",
    "(A,B,C) = (1,2,3)\n",
    "```\n",
    "which is the same as:\n",
    "```python\n",
    "A = 1\n",
    "B = 2\n",
    "C = 3\n",
    "```\n",
    "\n",
    "This behaviour can be easily used to swap the names of data:<br>\n",
    "```python\n",
    "A,B = 1,2\n",
    "A,B = B,A\n",
    "print(A,B)   # prints 2,1\n",
    "```\n",
    "\n",
    "### Dictionaries\n",
    "The third most common collection type used in Python is the Dictionary, or dict, which store mappings from keys to values. For every key, there is a value, which can be almost any Python object. Keys are usually strings, but it is possible to use certain other objects as keys. Dictionary literals are written as a comma-separated list of key:value pairs, with a colon separating key from value, surrounded by (curly) braces. Dict items are accessed using the key within square brackets.<br>\n",
    "```python\n",
    "student_grades = {\"Simon\": 60, \"Jenny\":68, \"Laura\":112}\n",
    "student_grades[\"Laura\"] = 100 # Change Laura's grade.\n",
    "student_grades[\"Pug\"] = 58    # New student!\n",
    "print(student_grades[\"Jenny\"])\n",
    "68\n",
    "```\n",
    "<br>\n",
    "\n",
    "### When should you use each data type?\n",
    "\n",
    "An important question to ask yourself when first thinking about a problem is what data structure is the best for you to use? There is no universal answer for us and will really depend on the situation. When to use a dictionary is pretty straightforward, they are used when you want to link one set of values to another. A phonebook which links a person name to their number is a good use of a dictionary.\n",
    "\n",
    "When to use a list or tuple can be harder to understand. The key difference between between lists and tuple is that tuples are immutable, i.e once created they cannot be altered. Therefore a sequence of tuples can be used if you don't expect the sequence (or indeed) want them to change. However if you want to add or remove elements from a sequence during your code execution then lists are the data structure to go with.\n",
    "\n",
    "For most physics applications, we will be dealing with 2D, 3D or even higher dimensionality data that we need to operate on. This is best achieved using arrays contained within the numpy module."
   ]
  },
  {
   "cell_type": "markdown",
   "metadata": {},
   "source": [
    "### Converting data structures \n",
    "\n",
    "It was shown previously that variables can be converted from one data type to another. The exact same can be done with data structures, whether it is to change the data types of the structure, or change the actual structure itself. The first thing to consider is: What is my data structure type and what do I want it to be? For physicists the most common change will be to go between a list and an array. To find the type of a data structure, use the <span style=\"color:blue\">type</span> command."
   ]
  },
  {
   "cell_type": "code",
   "execution_count": null,
   "metadata": {},
   "outputs": [],
   "source": [
    "import numpy as np\n",
    "Array=np.array([1,2,3,4])\n",
    "print(type(Array))\n",
    "List=[1,2,3,4]\n",
    "print(type(List))"
   ]
  },
  {
   "cell_type": "markdown",
   "metadata": {},
   "source": [
    "Knowing the data structure is crucial to ensuring you handle your data in the most efficient way. For example the Numpy library is optimised to run operations on arrays. We can convert a list to an array but calling the <span style=\"color:blue\">np.array</span> function and passing it the list as an argument."
   ]
  },
  {
   "cell_type": "code",
   "execution_count": null,
   "metadata": {},
   "outputs": [],
   "source": [
    "Array_of_list=np.array(List)\n",
    "print(Array_of_list,type(Array_of_list))"
   ]
  },
  {
   "cell_type": "markdown",
   "metadata": {},
   "source": [
    "To go the other way, we use the <span style=\"color:blue\">np.ndarray.tolist</span> function"
   ]
  },
  {
   "cell_type": "code",
   "execution_count": null,
   "metadata": {},
   "outputs": [],
   "source": [
    "List_of_array=np.ndarray.tolist(Array)\n",
    "print(List_of_array,type(List_of_array))"
   ]
  },
  {
   "cell_type": "markdown",
   "metadata": {},
   "source": [
    "<hr style=\"border:2px solid gray\">\n",
    "\n",
    "# Functions [^](#index) <a id=\"functions\"></a>"
   ]
  },
  {
   "cell_type": "markdown",
   "metadata": {},
   "source": [
    "Functions are fundamental in producing a program and are where you will spend most of your time when coding in Python. Functions are pieces of code that accept one or more inputs and return an output.\n",
    "\n",
    "When you create a new function in Python, it should be laid out like this:"
   ]
  },
  {
   "cell_type": "markdown",
   "metadata": {
    "collapsed": true
   },
   "source": [
    "```python\n",
    "def function_name(input_arguments):\n",
    "    \"Your code here\"\n",
    "    return [expression] \n",
    "```"
   ]
  },
  {
   "cell_type": "markdown",
   "metadata": {},
   "source": [
    "The first line defines the function: it specifies the name and the input parameters the function will accept. Below that is any number of lines of code that 'do the work' of the function. The final line is the return statement: if your function needs to return information to the main program, these will be entered here after the <span style=\"color:green\">**return**</span>.\n",
    "\n",
    "Two important things of note when writing a function are the indentation of code that follows the <span style=\"color:blue\">def</span> keyword and the colon at the end of the def statement. Code written without indentations will not be part of the function. \n",
    "\n",
    "An example function is shown below:"
   ]
  },
  {
   "cell_type": "code",
   "execution_count": null,
   "metadata": {},
   "outputs": [],
   "source": [
    "# An example function, that takes two inputs variables x, y, adds them together and then\n",
    "# squares their sum. \n",
    "# Different ways the function can be called and how arguements are passed to it are shown.\n",
    "\n",
    "# Define the function here:\n",
    "def square_two_numbers(x,y):\n",
    "    z=(x+y)**2 # This is the arithmetic calculation\n",
    "    return z # The value of z is returned to the main program\n",
    "\n",
    "# Below this is the main program.\n",
    "\n",
    "# One way of calling the function is with two integers.\n",
    "# Note: the result of the function (i.e. the value of z) is stored in the variable result_ints.\n",
    "result_ints=square_two_numbers(1,1) \n",
    "print(result_ints)\n",
    "\n",
    "# Now we call the function with two floats. \n",
    "result_floats=square_two_numbers(4.2,2.3)\n",
    "print(result_floats)\n",
    "\n",
    "# This time we create two variables, one a float and the other an integer.\n",
    "num1=5.3\n",
    "num2=10\n",
    "# We call the function using the variables we created, instead of using literals. \n",
    "result_mixed=square_two_numbers(num1,num2)\n",
    "print(result_mixed)\n"
   ]
  },
  {
   "cell_type": "markdown",
   "metadata": {},
   "source": [
    "Although the function was defined using input variables x and y, you can put any variables or numerical data types within this function and it will perform the same operation. Pay particular attention to the variable types of the result when we call the function with integers, floats, or mixed variable types! \n",
    "\n",
    "We could have have also chosen any name for this function, <span style=\"color:blue\">square_two_numbers</span> is not a special name. \n",
    "<p>\n",
    "<div style=\"background-color: #C2F5DD\">\n",
    "\n",
    "### Exercise \n",
    "Copy the above function into the cell below, change the name of the function and execute it for different inputs. Is there any limitation as to what variables you can pass to the function?\n",
    "\n",
    "**Remember to also change the name of the function when calling it!**"
   ]
  },
  {
   "cell_type": "code",
   "execution_count": null,
   "metadata": {},
   "outputs": [],
   "source": []
  },
  {
   "cell_type": "markdown",
   "metadata": {},
   "source": [
    "Now that we have seen how functions work, let's start creating our own."
   ]
  },
  {
   "cell_type": "markdown",
   "metadata": {},
   "source": [
    "<div style=\"background-color: #C2F5DD\">\n",
    "\n",
    "### Exercise \n",
    "Newton's Law of Gravitation states that the force, $F$, felt between two objects is proportional to their masses, $m_1, m_2 $, and inversely proportional to the square of their displacement, $r$. In 1D, the magnitude of this force is written as (replacing r with $x_2 - x_1$):\n",
    "\n",
    "$$F=\\frac{Gm_1m_2}{(x_2 - x_1)^2}$$\n",
    "\n",
    "**Where $G=6.67x10^{-11}m^{3}kg^{-1}s^{-2}$ is the gravitational constant. Write a function that calculates and returns the force felt by masses of 1kg at arbitrary positions (i.e. $x_1$ and $x_2$ should be your input parameters). Remember to think about code layout with regards to constants, and in particular what type of variables (integers or floats) everything should be. Try this for different distances. What happens if the masses are in the same position? We will return to this later.**\n",
    "\n",
    "**Hint: You might want to change the value of $m_1$ or $m_2$, therefore these should be variables that are passed to the function.**\n",
    " \n"
   ]
  },
  {
   "cell_type": "code",
   "execution_count": null,
   "metadata": {},
   "outputs": [],
   "source": []
  },
  {
   "cell_type": "markdown",
   "metadata": {},
   "source": [
    "<div style=\"background-color: #FFF8C6\"> \n",
    "    \n",
    "#### Optional Keywords \n",
    "\n",
    "Functions in Python can be created with default arguments; this means that unless specified they will assume a value that is set in the function definition itself.In this case, the function would look like:\n",
    "\n",
    "```python\n",
    "def add_two_number(x,y=5):\n",
    "    z=x+y\n",
    "    return z\n",
    "```\n",
    "Try running this function with one and two inputs.\n",
    " "
   ]
  },
  {
   "cell_type": "code",
   "execution_count": null,
   "metadata": {},
   "outputs": [],
   "source": []
  },
  {
   "cell_type": "markdown",
   "metadata": {},
   "source": [
    "<hr style=\"border:2px solid gray\">\n",
    "\n",
    "# For loops  [^](#index) <a id=\"forloops\"></a>\n",
    "\n",
    "When writing programs, it is often required to repeat a code block multiple times within the execution of your Python script. The <span style=\"color:blue\">for</span> loop allows you to execute the same line of code a fixed number of times, and is laid out like this:"
   ]
  },
  {
   "cell_type": "markdown",
   "metadata": {
    "collapsed": true
   },
   "source": [
    "```python\n",
    "for [variable] in [range of variables]:\n",
    "    [Execute code]\n",
    "```"
   ]
  },
  {
   "cell_type": "markdown",
   "metadata": {},
   "source": [
    "Notice the similarities in layout between a <span style=\"color:blue\">for</span> loop and the functions we saw earlier, with the indents and the colon. Since we execute the for loop within the main body of code, there is no need for a return statement to return any results. The same rule for indents applies to loops as to functions: any code not indented is not part of the loop. Below you will find a simple example of a <span style=\"color:blue\">for</span> loop:"
   ]
  },
  {
   "cell_type": "code",
   "execution_count": null,
   "metadata": {},
   "outputs": [],
   "source": [
    "for i in range(0,5):\n",
    "    print(\"Hello World\")"
   ]
  },
  {
   "cell_type": "markdown",
   "metadata": {},
   "source": [
    "In practical applications involving a <span style=\"color:blue\">for</span> loop, you may be operating over an array of values. To accommodate this, Python allows multiple ways to interface <span style=\"color:blue\">for</span> loops with arrays in the following manner:"
   ]
  },
  {
   "cell_type": "code",
   "execution_count": null,
   "metadata": {},
   "outputs": [],
   "source": [
    "y=['One','Two','Three','Four','Five']\n",
    "\n",
    "#This for loop loops over the indices of elements of array y\n",
    "for i in range(0,5):\n",
    "    print (y[i])\n",
    "\n",
    "print ('') #Whitespace to separate code executions\n",
    "\n",
    "#This for loop queries array y directly\n",
    "for x in y:\n",
    "    print(x)\n"
   ]
  },
  {
   "cell_type": "markdown",
   "metadata": {},
   "source": [
    "In the first example we iterate over indices and then assign those indices to the array we want. Here i is a counter that starts off with value 0 and finishes at value 4, as defined by the range(0,5) command. The counter can then be used to specify which element of the array should be printed.\n",
    "\n",
    "In the second example we query the array directly. This means that x takes the value of each element of array y in turn.\n",
    "\n",
    "You should recognise that the square brackets are used both when creating the y array and when calling an index of y. \n",
    "\n",
    "Loops can also be nested one inside another as follows:"
   ]
  },
  {
   "cell_type": "code",
   "execution_count": null,
   "metadata": {},
   "outputs": [],
   "source": [
    "for i in range(0,2):\n",
    "    for j in range(0,2):\n",
    "        print(\"i index =\",i,\"j index =\",j,)"
   ]
  },
  {
   "cell_type": "markdown",
   "metadata": {},
   "source": [
    "<div style=\"background-color: #C2F5DD\">\n",
    "\n",
    "### Exercise \n",
    "The following array contains the names of the Fellowship of the Ring:\n",
    "```python\n",
    "Fellowship=[\"Gandalf\",\"Aragorn\",\"Boromir\",\"Legolas\",\"Gimli\",\"Merry\",\"Pippin\",\"Samwise\",\"Frodo\"]\n",
    "```\n",
    "Write a for loop that greets each member with the following message:\n",
    "```python\n",
    "Hello [Name], welcome to the Fellowship of the Ring!\n",
    "```\n",
    "Note: you can query the array itself directly or access the array using its index."
   ]
  },
  {
   "cell_type": "code",
   "execution_count": null,
   "metadata": {},
   "outputs": [],
   "source": []
  },
  {
   "cell_type": "markdown",
   "metadata": {},
   "source": [
    "### Enumerate\n",
    "When writing a for loop, you can access the elements of a list directly or using an index. There are situations when you want to do both. To accomplish this, Python has the enumerate keyword, which is included in a for loop as:\n",
    "\n",
    "```python\n",
    "for number,value in enumerate(list):\n",
    "    ---Write some code---\n",
    "```\n",
    "<div style=\"background-color: #FFF8C6\"> \n",
    "\n",
    "### Exercise\n",
    "Modify exercise 4 to print the following:\n",
    "\n",
    "```python\n",
    "Hello [value], you are Fellowship member number [number]!\n",
    "```\n",
    "\n",
    "Where 'value' is the name in the Fellowship list."
   ]
  },
  {
   "cell_type": "code",
   "execution_count": null,
   "metadata": {},
   "outputs": [],
   "source": []
  },
  {
   "cell_type": "markdown",
   "metadata": {},
   "source": [
    "<hr style=\"border:2px solid gray\">\n",
    "\n",
    "# Mathematical inequalities and Boolean logic [^](#index) <a id=\"inequalities\"></a>\n",
    "\n",
    "In the sections to follow, we will develop the methodology to execute code only if a certain criterion is met. This criterion is given as a condition which is either <span style=\"color:red\">TRUE</span> or <span style=\"color:red\">FALSE</span>. These <span style=\"color:red\">TRUE</span> or <span style=\"color:red\">FALSE</span> outcomes will usually be formed by comparing two quantities; this is done through mathematical inequalities. The types of mathematical inequality operators are:\n",
    "\n",
    "- ==      equal to\n",
    "- <       less then\n",
    "- \\>      greater than\n",
    "- <=      less than or equal to\n",
    "- \\>=      greater than or equal to\n",
    "- !=       not equal to"
   ]
  },
  {
   "cell_type": "markdown",
   "metadata": {},
   "source": [
    "Inequality statements are therefore formed by comparing quantities with these operators, such as:\n",
    "\n",
    "<span style=\"color:blue\">1 == 1</span>\n",
    "\n",
    "<span style=\"color:blue\">5 < 3</span>\n",
    "\n",
    "<span style=\"color:blue\">2 != 2</span>\n",
    "\n",
    "<div style=\"background-color: #C2F5DD\">\n",
    "    \n",
    "**Try each of these inequality operators.**\n",
    "\n"
   ]
  },
  {
   "cell_type": "code",
   "execution_count": null,
   "metadata": {},
   "outputs": [],
   "source": []
  },
  {
   "cell_type": "markdown",
   "metadata": {},
   "source": [
    "Try assigning them to variables and look at their type in the variable explorer window; these type of variables are known as <span style=\"color:blue\">Boolean</span> variables and are a critical part of program flow. Boolean operators can be formed out of more than one comparison of values if a more complex situation needs to be evaluated. This is done by using the boolean operators\n",
    "\n",
    "- <span style=\"color:blue\">and</span>\n",
    "- <span style=\"color:blue\">or</span>\n",
    "- <span style=\"color:blue\">not</span>"
   ]
  },
  {
   "cell_type": "markdown",
   "metadata": {},
   "source": [
    "An example of this would be:\n",
    "\n",
    "<span style=\"color:blue\">2 < 3 and 5 > 3</span>\n",
    "\n",
    "<span style=\"color:blue\">20 == 20 or 20 <= 25</span> \n",
    "\n",
    "Although these examples were done for numbers directly, they are exactly the same when comparing variable values. Try out more complex mathematical inequality statements. The <span style=\"color:blue\">not</span> command word is unique in that it reverses the condition that is to be satisfied, for example the following two are equivalent:\n",
    "\n",
    "- <span style=\"color:blue\">not 5 == 3 </span>  and <span style=\"color:blue\">5 !=3</span>\n",
    "\n",
    "<span style=\"color:red\">**IMPORTANT NOTE**</span>\n",
    "\n",
    "One very important point of note is the difference between = and ==. This is frequently the reason why codes do not work as intended. The first usage is merely a way to set a variable equal to a value, whereas the second usage compares two variables in a Boolean manner.\n"
   ]
  },
  {
   "cell_type": "markdown",
   "metadata": {},
   "source": [
    "<hr style=\"border:2px solid gray\">\n",
    "\n",
    "# 7. If Statements [^](#index) <a id=\"ifstatements\"></a>\n",
    "\n",
    "As seen above, you can form Boolean variables by comparing the values of numerical variables. These become useful when combined with a conditional clause to modify the behaviour of the code: the <span style=\"color:blue\">if</span> statement. An <span style=\"color:blue\">if</span> statement will only trigger when the argument it is evaluating returns <span style=\"color:red\">TRUE</span> (or <span style=\"color:red\">FALSE</span> if accompanied with a <span style=\"color:blue\">not</span> statement) and is written in a similar fashion to a <span style=\"color:blue\">for</span> loop:"
   ]
  },
  {
   "cell_type": "markdown",
   "metadata": {
    "collapsed": true
   },
   "source": [
    "```python \n",
    "if [STATEMENT RETURNS TRUE]:\n",
    "    Execute code\n",
    "```"
   ]
  },
  {
   "cell_type": "markdown",
   "metadata": {},
   "source": [
    "A simple example of an <span style=\"color:blue\">if</span> statement would look like:"
   ]
  },
  {
   "cell_type": "code",
   "execution_count": null,
   "metadata": {},
   "outputs": [],
   "source": [
    "x=5\n",
    "if x > 3:\n",
    "    print(x, \"is greater than 3\")"
   ]
  },
  {
   "cell_type": "markdown",
   "metadata": {},
   "source": [
    "Just like with <span style=\"color:blue\">for</span> loop, functions can be included as part of an <span style=\"color:blue\">if</span> statement.\n",
    "\n",
    "Related to the <span style=\"color:blue\">if</span> statements are the <span style=\"color:blue\">else</span> and <span style=\"color:blue\">elif</span> (short for else if) statements. These extend the original <span style=\"color:blue\">if</span> statement to return different results depending on whether the boolean being evaluated returns <span style=\"color:red\">TRUE</span> or <span style=\"color:red\">FALSE</span>. An extension of the above code to include these extra statements would be:"
   ]
  },
  {
   "cell_type": "code",
   "execution_count": null,
   "metadata": {},
   "outputs": [],
   "source": [
    "x=5\n",
    "if x > 3:\n",
    "    print(x, \"is greater than 3\")\n",
    "elif x < 3:\n",
    "    print(x, \"is less than 3\")\n",
    "else:\n",
    "    print(x, \"is equal to 3\")"
   ]
  },
  {
   "cell_type": "markdown",
   "metadata": {},
   "source": [
    "<div style=\"background-color: #C2F5DD\">\n",
    "    \n",
    "**Execute the above code for different values of x.**"
   ]
  },
  {
   "cell_type": "code",
   "execution_count": null,
   "metadata": {},
   "outputs": [],
   "source": []
  },
  {
   "cell_type": "markdown",
   "metadata": {},
   "source": [
    "\n",
    "Notice that the <span style=\"color:blue\">elif</span> statement requires an additional expression to evaluate whereas the <span style=\"color:blue\">else</span> statement does not. In the above we could have used the expressions <span style=\"color:blue\">elif x == 3</span>. It would then be good practice to use the <span style=\"color:blue\">else</span> statement for any other possibility we might not have thought of (e.g., what if x is a string instead of an integer?). These set of expressions can be powerful modifiers in the behaviour and flow of a code. Just as <span style=\"color:blue\">if</span> statements can be used in a block of standalone code, they can just as easily be integrated into functions and <span style=\"color:blue\">for</span> loops."
   ]
  },
  {
   "cell_type": "markdown",
   "metadata": {},
   "source": [
    "<div style=\"background-color: #C2F5DD\">\n",
    "    \n",
    "### Exercise \n",
    "The array from exercise 4 is extended to include other characters from the Lord of the Rings franchise. together with a 'yes' or 'no' indicating whether the character is part of the fellowship:\n",
    "\n",
    "```python\n",
    "Fellowship=[[\"Gandalf\",\"Yes\"],[\"Theoden\",\"No\"],[\"Aragorn\",\"Yes\"],[\"Boromir\",\"Yes\"],[\"Galadriel\",\"No\"],[\"Arwen\",\"No\"],[\"Legolas\",\"Yes\"],[\"Gimli\",\"Yes\"],[\"Merry\",\"Yes\"],[\"Pippin\",\"Yes\"],[\"Samwise\",\"Yes\"],[\"Frodo\",\"Yes\"]]\n",
    "```\n",
    "\n",
    "Once again use the for loop to print the hello statement as in exercise 4 for all characters that are part of the fellowship. For those that are *not* part of the fellowship, print the following statement for members not part of the fellowship:\n",
    "\n",
    "```python\n",
    "Sorry [Member], you are not part of the fellowship. Have a good day.\n",
    "```\n",
    "Note that in order to do this you will need to include an if statement in your for loop."
   ]
  },
  {
   "cell_type": "code",
   "execution_count": null,
   "metadata": {},
   "outputs": [],
   "source": []
  },
  {
   "cell_type": "markdown",
   "metadata": {},
   "source": [
    "Below are further exercises to practise for loops and if statements, together with the use of random number generators."
   ]
  },
  {
   "cell_type": "markdown",
   "metadata": {},
   "source": [
    "<div style=\"background-color: #FFF8C6\">\n",
    "    \n",
    "### Exercise \n",
    "The flip of a coin can have two results: heads or tails. If the coin was fair, then you would expect an equal number of heads and tails to appear over a large sample size. Test out whether or not a computer makes a fair coin tosser by writing a code block that flips a coin 10000 times.\n",
    "\n",
    "Hint: Assign heads a value of 1 and tails a value of 0. Then use the np.random.randint(2) function to get either a 0 or a 1 randomly"
   ]
  },
  {
   "cell_type": "code",
   "execution_count": null,
   "metadata": {},
   "outputs": [],
   "source": []
  },
  {
   "cell_type": "markdown",
   "metadata": {},
   "source": [
    "<div style=\"background-color: #FFF8C6\">\n",
    "\n",
    "### Exercise \n",
    "Write a function that compares your input to the roll of a six-sided dice, containing the integers 1-6, and tells you whether or not you guessed correctly.\n",
    "\n",
    "Hint: Use the np.random.randint(1,7) function to generate the integers 1-6 randomly"
   ]
  },
  {
   "cell_type": "code",
   "execution_count": null,
   "metadata": {},
   "outputs": [],
   "source": []
  },
  {
   "cell_type": "markdown",
   "metadata": {},
   "source": [
    "<div style=\"background-color: #FFF8C6\"> \n",
    "\n",
    "### Exercise \n",
    "Generate a 2D array of random integers between 1 - 3 using the command:\n",
    "\n",
    "```python\n",
    "np.random.randint(1,4,size=[n,m])\n",
    "```\n",
    "Here n and m are the dimensions of the array. Write a code block that will loop over this 2D array and count the number of distinct integers it contains. Separately, produce a histogram of the distribution of the numbers in the 2D array. What are some checks that can be included to ensure every value has been counted (are the number of counts in your histogram equal to the number of elements in your array)?"
   ]
  },
  {
   "cell_type": "code",
   "execution_count": null,
   "metadata": {},
   "outputs": [],
   "source": []
  },
  {
   "cell_type": "markdown",
   "metadata": {},
   "source": [
    "<div style=\"background-color: #FFF8C6\"> \n",
    "    \n",
    "### Exercise \n",
    "The Rydberg formula, which gives the wavelength of an atom's spectral lines is given as:\n",
    "\n",
    "$$\\frac{1}{\\lambda}=R_{D}\\big(\\frac{1}{n_{1}^2}-\\frac{1}{n_{2}^2})$$\n",
    "\n",
    "Where $\\lambda$ is the wavelength, $R_{D}=1.097$ x $10^7\\rm\\,m^{-1}$ is the Rydberg constant and $n_{1} < n_{2}$ are the integer energy levels that exist within an atom. Using the formula, calculate the wavelength of the first 5 transitions to the ground state of the atom (i.e. $n_2 = 2 \\rightarrow n_{1}=1$, $n_2 = 3 \\rightarrow n_{1}=1$ etc, known as the Lyman series) and the first 4 transitions to the 1st excited state $n_{1}=2$ (i.e. $n_2 = 3 \\rightarrow n_{1}=2$, $n_2 = 4 \\rightarrow n_{1}=2$ etc, known as the Balmer series). For the ground state, what happens as $n_{2}\\rightarrow\\infty$?"
   ]
  },
  {
   "cell_type": "code",
   "execution_count": null,
   "metadata": {},
   "outputs": [],
   "source": []
  },
  {
   "cell_type": "markdown",
   "metadata": {},
   "source": [
    "<hr style=\"border:2px solid gray\">\n",
    "\n",
    "# While loops [^](#index) <a id=\"whileloops\"></a>\n",
    "\n",
    "The final loop that will modify the flow of a code execution will be the <span style=\"color:blue\">while</span> loop. This will execute code as long as the prescribed condition returns <span style=\"color:red\">TRUE</span>. The <span style=\"color:blue\">while</span> loop follows the same nomenclature as the <span style=\"color:blue\">if</span> loop:"
   ]
  },
  {
   "cell_type": "markdown",
   "metadata": {},
   "source": [
    "```python\n",
    "while [STATEMENT RETURNS TRUE]:\n",
    "    Execute code\n",
    "```"
   ]
  },
  {
   "cell_type": "markdown",
   "metadata": {},
   "source": [
    "Two simple examples of this are below:"
   ]
  },
  {
   "cell_type": "code",
   "execution_count": null,
   "metadata": {},
   "outputs": [],
   "source": [
    "# Declare two variables\n",
    "x=1\n",
    "y=10\n",
    "# Start the while loop: compare the values of x and y\n",
    "while x < y:\n",
    "    print(x)# while x is smaller than y, print its value\n",
    "    x+=1# increment the value of x by 1 "
   ]
  },
  {
   "cell_type": "code",
   "execution_count": null,
   "metadata": {},
   "outputs": [],
   "source": [
    "x=6\n",
    "while x >= 0:\n",
    "    print(x)\n",
    "    x-=1"
   ]
  },
  {
   "cell_type": "markdown",
   "metadata": {},
   "source": [
    "Run the code blocks above for different values of x and y. Note that care must be taken when using a <span style=\"color:blue\">while</span> loop. There exists the possibility for your code to become locked if it is given a condition that can never be false. In the above example, remove the x+=1 statement and rerun the code. You will need to stop running the cell, using the stop button, or by restarting the kernel - otherwise it would run forever.\n",
    "Unlike the <span style=\"color:blue\">if</span> statement, there are no additional keywords associated with the <span style=\"color:blue\">while</span> loop. "
   ]
  },
  {
   "cell_type": "markdown",
   "metadata": {},
   "source": [
    "Notice in the above example the command <span style=\"color:blue\">x+=1</span>. In Python this is a shorthand representation of <span style=\"color:blue\">x = x + 1</span>. The full list of like-minded shorthand commands are:\n",
    "\n",
    " - x+=dx is equivalent to x=x+dx\n",
    " - x-=dx is equivalent to x=x-dx\n",
    " - x\\*=dx is equivalent to x=x\\*dx\n",
    " - x/=dx is equivalent to x=x/dx\n",
    " \n",
    "In a computer programme, the computer first evaluates the section of code on the right-hand side of the <span style=\"color:blue\">=</span> operator and then assigns it to the variable on the left-hand side. The fact that the same variable appears on both sides does not impact on its working."
   ]
  },
  {
   "cell_type": "markdown",
   "metadata": {},
   "source": [
    "With these tools at our disposal, we can use them to create more complicated functions."
   ]
  },
  {
   "cell_type": "markdown",
   "metadata": {},
   "source": [
    "<div style=\"background-color: #C2F5DD\">\n",
    "    \n",
    "### Exercise \n",
    "Create a function that calculates the factorial of a positive integer. The factorial function is defined as: \n",
    "\n",
    " $$n!=n*(n-1)! $$\n",
    " \n",
    "with the end conditions $1!=1$ and $0!=1$.\n",
    "\n",
    "Hint: Use a while loop with the condition that the integer n remains greater than 0."
   ]
  },
  {
   "cell_type": "code",
   "execution_count": null,
   "metadata": {},
   "outputs": [],
   "source": []
  },
  {
   "cell_type": "markdown",
   "metadata": {},
   "source": [
    "<div style=\"background-color: #FFF8C6\">\n",
    "    \n",
    "### Exercise\n",
    "Create a function that generates the first n fibonacci numbers. The fibonacci sequence is defined as:\n",
    "\n",
    "$$f(n)=f(n-1)+f(n-2)$$\n",
    "\n",
    "with the initial conditions $f(0)=0$ and $f(1)=1$.\n",
    "\n",
    "Hint: You will need if statements to catch special cases. What are they?\n",
    "\n",
    "Think carefully of the input and how to handle any exceptions that may arise, for example what if a negative number is used? For a greater challenge, try and calculate the fibonnaci sequence via recursion, which means that a function is called from within the function itself."
   ]
  },
  {
   "cell_type": "code",
   "execution_count": null,
   "metadata": {},
   "outputs": [],
   "source": []
  },
  {
   "cell_type": "markdown",
   "metadata": {},
   "source": [
    "<hr style=\"border:2px solid gray\">\n",
    "\n",
    "# Break and Continue Statements [^](#index) <a id=\"bandc\"></a>\n",
    "\n",
    "Sometimes when in a loop you may want to exit it prematurely. This is handled by using the <span style=\"color:blue\">break</span> statement. This exits the loop at that point and does not execute any further code that was indented with it. The cell below shows an example."
   ]
  },
  {
   "cell_type": "code",
   "execution_count": null,
   "metadata": {},
   "outputs": [],
   "source": [
    "numbers=np.array(np.arange(1,101))# create the array\n",
    "\n",
    "cumulative=0# This will be the cumulative value of the summed array\n",
    "for i in np.arange(1,len(numbers)): # start the for-loop\n",
    "    cumulative+=numbers[i]# calculate the cumulative value so far\n",
    "    if(cumulative > 100): break # stop the for loop when the cumulative value exceeds 100\n",
    "\n",
    "print(i)# print the index\n"
   ]
  },
  {
   "cell_type": "markdown",
   "metadata": {},
   "source": [
    "As you can see when you run the code cell above, the cumulative value is reached very soon. This means the for loop does not unnecessarily run over the entire array, using excessive computing power. The above example could have also been solved by using a while loop. \n",
    "\n",
    "The <span style=\"color:blue\">continue</span> statement serves a similar function to the break statement, in that when called whatever code is below in the loop is not executed. One major difference is that instead of breaking from the loop entirely, it returns to the top of loop and starts the next iteration.\n",
    "\n",
    "<div style=\"background-color: #C2F5DD\">\n",
    "    \n",
    "### Exercise\n",
    "Write a code block that uses a continue statement to only print the odd numbers from 1-30."
   ]
  },
  {
   "cell_type": "code",
   "execution_count": null,
   "metadata": {},
   "outputs": [],
   "source": []
  },
  {
   "cell_type": "markdown",
   "metadata": {},
   "source": [
    "<div style=\"background-color: #FFF8C6\"> \n",
    "    \n",
    "### Further example<a id=\"examples\"></a>\n",
    "\n",
    "Now that we are familiar with the basics of workflow in codes, the time has come to combine that knowledge towards building complete all-inclusive programs that accomplish a set task. These will incorporate aspects of all 3 sessions and will test your skills. \n",
    "\n",
    "### Exercise\n",
    "Imagine a circle of radius $r=1$ m enclosed within a square of length 2m such that the circle tangentially touches the square. The area of the circle is $\\pi r^2$ whereas the square has area $4r^2$. The ratio of these areas therefore give an estimate of $\\pi$. For $N_{\\rm tot}$ points evenly distributed within the square, $N_{\\rm inner}$ will fall within the circle, with the ratio of those quantities giving an approximation of the area and therefore pi:\n",
    " \n",
    " $$\\frac{N_{\\rm inner}}{N_{\\rm tot}}=\\frac{\\pi}{4}$$\n",
    " \n",
    "Write a program that will approximate $\\pi$ via this method.  How does the accuracy of your answer change as you increase the number of points? Represent this convergence graphically (i.e. plot your value of $\\pi$ as a function of $N_{\\rm tot}$).\n"
   ]
  },
  {
   "cell_type": "code",
   "execution_count": null,
   "metadata": {},
   "outputs": [],
   "source": []
  },
  {
   "cell_type": "markdown",
   "metadata": {},
   "source": [
    "<hr style=\"border:2px solid gray\">\n",
    "\n",
    "# Advanced Error Handling [^](#index) <a id=\"error\"></a>"
   ]
  },
  {
   "cell_type": "markdown",
   "metadata": {},
   "source": [
    "If you use a function from an imported module improperly (such as by using the wrong arguements or passing the wrong data type), the function can crash and raise an error, thereby letting you know something has gone wrong. The functions we have written so far do not have such a feature, and therefore may be used improperly without letting you know. \n",
    "\n",
    "The process of writing a function to be able to handle these types of errors is known an error handling or execption catching. There are 3 classes of errors that occur in python:\n",
    "\n",
    "- Syntax Error\n",
    "- Logic Error\n",
    "- Exceptions\n",
    "\n",
    "Syntax errors are the most basic errors and are the easist to detect. These occur when python cannot interpret a line of code, and are most likely down to human error. For example, run the following cell:"
   ]
  },
  {
   "cell_type": "code",
   "execution_count": null,
   "metadata": {},
   "outputs": [],
   "source": [
    "whille x >2:"
   ]
  },
  {
   "cell_type": "markdown",
   "metadata": {},
   "source": [
    "We have mispelled while, causing python to crash. Logic errors are when the program returns an erronous result owing to something unexpected happening in the code, which does not by itself create any explicit errors. These are the hardest to catch and will be covered later. For now we will focus on Exceptions, which occur when python encounters an error or an unusual condition."
   ]
  },
  {
   "cell_type": "markdown",
   "metadata": {},
   "source": [
    "### Exception Handling\n",
    "\n",
    " As an example, run this square root function and the cells below."
   ]
  },
  {
   "cell_type": "code",
   "execution_count": null,
   "metadata": {},
   "outputs": [],
   "source": [
    "def square_root(x):\n",
    "    return x ** 0.5"
   ]
  },
  {
   "cell_type": "code",
   "execution_count": null,
   "metadata": {},
   "outputs": [],
   "source": [
    "square_root(4)"
   ]
  },
  {
   "cell_type": "code",
   "execution_count": null,
   "metadata": {},
   "outputs": [],
   "source": [
    "square_root(9.0)"
   ]
  },
  {
   "cell_type": "code",
   "execution_count": null,
   "metadata": {},
   "outputs": [],
   "source": [
    "square_root('hello')"
   ]
  },
  {
   "cell_type": "markdown",
   "metadata": {},
   "source": [
    "When the function was passed a string, it crashed and gave a TypeError, which is related to the type of data that it recieved. In this case the ** operator works on floats and ints, but not on strings. We can rewrite our code to handle these sorts of errors by using the try-except framework. This works by first trying to execute the code block, and if it fails it will default to the except clause. To try this out, we can rewrite our code as:"
   ]
  },
  {
   "cell_type": "code",
   "execution_count": null,
   "metadata": {},
   "outputs": [],
   "source": [
    "def square_root_error(x):\n",
    "    try:\n",
    "        return x ** 0.5\n",
    "    except:\n",
    "        print(\"The value given must be an int or float\")"
   ]
  },
  {
   "cell_type": "code",
   "execution_count": null,
   "metadata": {},
   "outputs": [],
   "source": [
    "square_root_error(4)"
   ]
  },
  {
   "cell_type": "code",
   "execution_count": null,
   "metadata": {},
   "outputs": [],
   "source": [
    "square_root_error(9.0)"
   ]
  },
  {
   "cell_type": "code",
   "execution_count": null,
   "metadata": {},
   "outputs": [],
   "source": [
    "square_root_error(\"Hello\")"
   ]
  },
  {
   "cell_type": "markdown",
   "metadata": {},
   "source": [
    "Notice how instead of returning the TypeError exception, it instead printed the except statement. Having these except statements in our functions will allow us to catch these errors and then provide an error message that is informative."
   ]
  },
  {
   "cell_type": "markdown",
   "metadata": {},
   "source": [
    "<div style=\"background-color: #C2F5DD\">\n",
    "\n",
    "### Exercise \n",
    "Modify the gravitational force function in exercise X with the try-except statements to ensure that the function will only accept ints and floats as its inputs."
   ]
  },
  {
   "cell_type": "markdown",
   "metadata": {},
   "source": [
    "While the try-except clauses are useful for general error handling, there are some times where you want to catch a specific clause that will not necessarily raise an exception. For example, say that we want our square root function to only return a value if its an integer (ie the number is a perfect square). We can do this by using the raise command to tell python to stop execution and return an exception."
   ]
  },
  {
   "cell_type": "code",
   "execution_count": null,
   "metadata": {},
   "outputs": [],
   "source": [
    "def square_root_error_int(x):\n",
    "    try:\n",
    "        if((x ** 0.5)%1 != 0.0 ):\n",
    "            raise ValueError(\"Number provided must be a perfect square\")\n",
    "        return x ** 0.5\n",
    "    except:\n",
    "        raise TypeError(\"The value given must be an int or float\")"
   ]
  },
  {
   "cell_type": "code",
   "execution_count": null,
   "metadata": {},
   "outputs": [],
   "source": [
    "square_root_error_int(4.0)"
   ]
  },
  {
   "cell_type": "code",
   "execution_count": null,
   "metadata": {},
   "outputs": [],
   "source": [
    "square_root_error_int(5.0)"
   ]
  },
  {
   "cell_type": "markdown",
   "metadata": {},
   "source": [
    "<div style=\"background-color: #C2F5DD\">\n",
    "\n",
    "### Exercise \n",
    "Further modify your gravitational force function to raise an exception if that masses are at the same positions (this will stop your function from calculating infinity)."
   ]
  },
  {
   "cell_type": "code",
   "execution_count": null,
   "metadata": {},
   "outputs": [],
   "source": []
  },
  {
   "cell_type": "markdown",
   "metadata": {},
   "source": [
    "<hr style=\"border:2px solid gray\">\n",
    "\n",
    "# Practice Problems [^](#index) <a id=\"problems\"></a>\n",
    "\n",
    "\n",
    "This section contains two exercises that may help you colnsolidate what you have learnt so far. (In reality, this functuality is already present in Python)"
   ]
  },
  {
   "cell_type": "markdown",
   "metadata": {},
   "source": [
    "<div style=\"background-color: #C2F5DD\">\n",
    "    \n",
    "### Exercise \n",
    "One common matrix operation is to calculate its transpose. This works by replacing its row values with column values. Take the follow matrix:\n",
    "\n",
    "\\begin{equation}\n",
    "\\begin{bmatrix}\n",
    "    1 & 2 & 3 \\\\\n",
    "    4 & 5 & 6 \\\\\n",
    "    7 & 8 & 9\n",
    "\\end{bmatrix}\n",
    "\\end{equation}\n",
    "\n",
    "And calculate its transpose."
   ]
  },
  {
   "cell_type": "code",
   "execution_count": null,
   "metadata": {},
   "outputs": [],
   "source": []
  },
  {
   "cell_type": "markdown",
   "metadata": {},
   "source": [
    "<div style=\"background-color: #C2F5DD\">\n",
    "    \n",
    "### Exercise \n",
    "One common function of a Python list is the sort command, which takes an unordered sequence of numbers and returns an ordered list like:** \n",
    "\n",
    "$$ list1=[2,4,3,6,8,7,9,5] --> list2=[2,3,4,5,6,7,8,9] $$\n",
    "\n",
    "Take list1 and write an algorithm that will return the ordered list2. This is a non-trivial task and there are multiple ways that the problem can be attempted\n",
    "\n",
    "Hint: Ordering the list will involve comparing values, so a double for loop will be required. To start with, write a single loop that will go through the list and identify which elements need to be swapped. Remember, you can assign multiple variables in a single line of python with code like:\n",
    "\n",
    "$$b,a=a,b$$\n",
    "\n",
    "This will swap the values of b and a."
   ]
  },
  {
   "cell_type": "code",
   "execution_count": null,
   "metadata": {},
   "outputs": [],
   "source": []
  },
  {
   "cell_type": "markdown",
   "metadata": {},
   "source": [
    "This is the end of Bootcamp Notebook 1. Please continue on to Bootcamp Notebook 2 for more advanced Python features."
   ]
  }
 ],
 "metadata": {
  "kernelspec": {
   "display_name": "Python 3 (ipykernel)",
   "language": "python",
   "name": "python3"
  },
  "language_info": {
   "codemirror_mode": {
    "name": "ipython",
    "version": 3
   },
   "file_extension": ".py",
   "mimetype": "text/x-python",
   "name": "python",
   "nbconvert_exporter": "python",
   "pygments_lexer": "ipython3",
   "version": "3.9.16"
  },
  "vscode": {
   "interpreter": {
    "hash": "49b3433d3493769708e00fd2067cfff454459fc2d452479bca0a295e67221b41"
   }
  }
 },
 "nbformat": 4,
 "nbformat_minor": 2
}
