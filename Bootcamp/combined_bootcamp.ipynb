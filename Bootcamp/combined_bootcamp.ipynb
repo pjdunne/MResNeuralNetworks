{
 "cells": [
  {
   "cell_type": "markdown",
   "metadata": {},
   "source": [
    "## Index \n",
    "\n",
    "1. Intended learning outcomes\n",
    "2. Using Jupyter Notebooks\n",
    "3. Literals, operators, and data types\n",
    "4. Variables and keywords\n",
    "5. NumPy, SciPy and arrays\n",
    "6. Basic statistics with arrays\n",
    "7. Reading and writing files\n",
    "8. Matplotlib: plotting data\n",
    "9. Optional: Log plots\n",
    "10. Coding practices\n"
   ]
  },
  {
   "cell_type": "markdown",
   "metadata": {},
   "source": [
    "## 1. Using Jupyter Notebooks<a id=\"notebooks\"></a>\n",
    "We will be using Jupyter Notebooks as interactive lab scripts. These notebooks include both text and code. Once you have saved a copy on your own hard drive, you can type code in the code cells (the cells preceded by \"In [ ]:\". \n",
    "\n",
    "You can execute either by pressing **ctrl+enter** (sometimes **cmd+enter** on mac), **shift+enter** (jump to cell below), **alt+enter** (create new cell below, **option+enter** on mac) or by pressing the **'run cell'** button (play symbol) in the toolbar above. You can add more code cells by pressing the 'insert cell below' button (plus symbol). \n",
    "\n",
    "By default any new cells you add are code cells; however you can change these to Markdown  in the drop-down list in the toolbar to allow you to make your own notes in the lab scripts. For a cheat sheet on Markdown, see [here](http://assemble.io/docs/Cheatsheet-Markdown.html).\n",
    "\n",
    "Make sure you add new code cells every time you want to try out something new, instead of editing your previous code. This way you have a record of everything you have done, which both you can refer to. Save your work regularly - sometimes you may be forced to close and reopen your file, and you don't want to lose any of your work!\n",
    "\n",
    "If you double-click on a Markdown cell it will change into edit mode. Run the cell to turn it back into markdown.\n",
    "\n",
    "The notebooks will use colour-coded cells:"
   ]
  },
  {
   "cell_type": "markdown",
   "metadata": {},
   "source": [
    "<div style=\"background-color: #00FF00\">\n",
    "This is a core exercise cell. These are the most important exercises you will encounter in these notebooks and  cover all of the intended learning outcomes."
   ]
  },
  {
   "cell_type": "markdown",
   "metadata": {},
   "source": [
    "<div style=\"background-color: #FFF8C6\">\n",
    "\n",
    "This is a non-core cell, which includes additional information or extra exercises. You can complete these if you want extra practice."
   ]
  },
  {
   "cell_type": "markdown",
   "metadata": {},
   "source": [
    "## 3. Literals, operators, and data types<a id=\"operators\"></a>"
   ]
  },
  {
   "cell_type": "markdown",
   "metadata": {},
   "source": [
    "On a very basic level, Python can be used as a calculator. \n",
    "<div style=\"background-color: #00FF00\">\n",
    "    \n",
    "**Exercise 2: in the cell below, type:**\n",
    "\n",
    "<span style=\"color:blue\">8 + 2</span>\n",
    "\n",
    "**Now run the cell.**"
   ]
  },
  {
   "cell_type": "code",
   "execution_count": null,
   "metadata": {},
   "outputs": [],
   "source": []
  },
  {
   "cell_type": "markdown",
   "metadata": {},
   "source": [
    "The numbers <span style=\"color:blue\">8</span> and <span style=\"color:blue\">2</span> you typed above are called literals. Literals are data inserted directly into your code. Here, we have used integer literals (e.g. 1, 2, -3, ... ), but more frequently we will use float literals (numbers with decimal points or given in scientific notation, even if they represent integers: 1.3, 10.0, 1e10, ...). These numbers are called “floating point” because of the manner in which they are encoded in the computer’s binary memory. "
   ]
  },
  {
   "cell_type": "markdown",
   "metadata": {},
   "source": [
    "The <span style=\"color:blue\">+</span> symbol in first code cell is called an *operator*. Operators operate on the code on either side of them (called the operands), and produce some sort of result (e.g. the integer 10 in your code above). Other examples of arithmetic operators are:\n",
    "\n",
    "- <span style=\"color:blue\">\\- </span>for subtraction\n",
    "- <span style=\"color:blue\">\\*</span> for multiplication\n",
    "- <span style=\"color:blue\">/</span> for division\n",
    "- <span style=\"color:blue\">\\*\\*</span> for exponent\n",
    "- <span style=\"color:blue\">%</span> for modulus (returns the remainder of a division)\n",
    "- <span style=\"color:blue\">//</span> for floor division (returns the result of the division rounded down to an integer). \n",
    "\n",
    "<div style=\"background-color: #00FF00\">\n",
    "    \n",
    "**Exercise 3: in the cells below, try out each of the operators given above. What happens if you mix the data types of the operands in your calculation, for example add an integer to a float?**"
   ]
  },
  {
   "cell_type": "code",
   "execution_count": null,
   "metadata": {},
   "outputs": [],
   "source": []
  },
  {
   "cell_type": "markdown",
   "metadata": {},
   "source": [
    "The order of operations is as usual, i.e. multiplication and division before addition and subtraction. For operations on the same level, Python reads code from left to right, i.e. <span style=\"color:blue\">20/5\\*2</span> will give 8.0. To change the order, or make the order explicit (and hence code more readable) use round brackets, for example <span style=\"color:blue\">20/(5\\*2)</span> to give 2.0. The shorthand for scientific notation is  <span style=\"color:blue\">1.234e5</span>, which means $1.234\\times10^5$."
   ]
  },
  {
   "cell_type": "markdown",
   "metadata": {},
   "source": [
    "So far we have encountered integer and float data types - another type of literal is a string literal, which is a piece of text that does not constitute any code. You specify a string literal by surrounding it in matched single or double quotation marks, e.g:"
   ]
  },
  {
   "cell_type": "code",
   "execution_count": null,
   "metadata": {
    "collapsed": true
   },
   "outputs": [],
   "source": [
    "\"This is a string\""
   ]
  },
  {
   "cell_type": "markdown",
   "metadata": {},
   "source": [
    "You can find out the data type of any literal by using the <span style=\"color:blue\">type()</span> command. \n",
    "\n",
    "<div style=\"background-color: #00FF00\">\n",
    "    \n",
    "**Exercise 4: run the examples in the following code cells:**"
   ]
  },
  {
   "cell_type": "code",
   "execution_count": null,
   "metadata": {
    "collapsed": true
   },
   "outputs": [],
   "source": [
    "type(1)"
   ]
  },
  {
   "cell_type": "code",
   "execution_count": null,
   "metadata": {
    "collapsed": true
   },
   "outputs": [],
   "source": [
    "type(1.0)"
   ]
  },
  {
   "cell_type": "code",
   "execution_count": null,
   "metadata": {
    "collapsed": true
   },
   "outputs": [],
   "source": [
    "type(\"1\")"
   ]
  },
  {
   "cell_type": "code",
   "execution_count": null,
   "metadata": {
    "collapsed": true
   },
   "outputs": [],
   "source": [
    "type(1+1j)"
   ]
  },
  {
   "cell_type": "code",
   "execution_count": null,
   "metadata": {
    "collapsed": true
   },
   "outputs": [],
   "source": [
    "type([1,2])"
   ]
  },
  {
   "cell_type": "markdown",
   "metadata": {},
   "source": [
    "The cells above illustrate some of the most common data types in Python.\n",
    "\n",
    "When you are coding, it is common to make errors, for example a typo or trying to do something that Python can't do. When this happens, Python will throw up an error message. Here are two hints to help you interpret error messages:\n",
    "1. Start at the bottom of the error message: it normally give a one-line summary of the problem. If you can't immediately solve it, read the text above it to find out where in your code the error occurred.\n",
    "2. If the one-line summary doesn't make sense, copy and paste it into Google. Chances are many people have encountered it before and will have asked a question about it!\n",
    "\n",
    "<div style=\"background-color: #00FF00\">\n",
    "    \n",
    "**Exercise 5: In order to get used to error messages, run the following cell, and read the error message *before* correcting the code. The cell is supposed to output the number 20!**"
   ]
  },
  {
   "cell_type": "code",
   "execution_count": null,
   "metadata": {},
   "outputs": [],
   "source": [
    "10 + 1o"
   ]
  },
  {
   "cell_type": "markdown",
   "metadata": {},
   "source": [
    "The other main type of mistake is more pernicious: you may write some code that is perfectly valid, but doesn't do what you actually want it to do. The only way of catching this, is by paying very careful attention to the output at all times, and checking it makes sense. We will discuss this later - however it is important to foster the habit of checking your output from the very start of your coding career."
   ]
  },
  {
   "cell_type": "markdown",
   "metadata": {},
   "source": [
    "**A final important note**: it is expected that you will cause your system to grind down to a halt when you do calculations with extremely large numbers. This also occasionally happens due to coding errors. Don't worry - this is not a problem! If your system becomes unresponsive, restart your kernel by clicking 'Kernel'  --> 'Restart' in the menu bar at the top of the page. Make sure to change any offending code cells to markdown so that they won't be executed again, click on the next code cell, and choose 'Cell' --> 'Run all above' to re-run all your coding cells so far. \n",
    "\n",
    "Let's move on! Experiment with operators, brackets, scientific notation, and different data types in the code cell below. From now on, the notebook will only display one code cell when it is time for you to try your coding skills; it is up to you to add as many cells as you need. It is strongly recommended you don't delete any of your code but keep as many examples in different cells as possible so both you and your demonstrator can easily refer back to what you have tried.\n",
    "<p>\n",
    "<div style=\"background-color: #00FF00\">\n",
    "\n",
    "**Exercise 6: coding has many quirks that you will get used to with practice. Try and answer the following questions for yourself whilst experimenting with arithmetic operators:**\n",
    "\n",
    "- **Do all answers make sense?**\n",
    "- **Can you use numbers as big as you like? Is there an upper limit to the exponent in scientific notation?**\n",
    "- **Can you use numbers as small as you like? Is there a lower limit to the exponent?**\n",
    "- **Can numbers be as precise as you like? How many zeros do you need before 1.00000000000000000001 gets truncated?**\n",
    "- **What happens if you don’t balance your brackets?**\n",
    "- **Can you apply arithmetic operators to strings? If so, which, and what is the result?**\n"
   ]
  },
  {
   "cell_type": "code",
   "execution_count": null,
   "metadata": {
    "collapsed": true
   },
   "outputs": [],
   "source": []
  },
  {
   "cell_type": "markdown",
   "metadata": {},
   "source": [
    "<div style=\"background-color: #FFF8C6\">\n",
    "\n",
    "You may have noticed floats do not have unlimited accuracy. This is an important feature of computer programming, not just a bug in Python. To read more about why this happens, have a look at [this tutorial.](https://docs.python.org/3/tutorial/floatingpoint.html) \n",
    "\n",
    "#### Converting between data types\n",
    "\n",
    "In the above we defined variables to be different types of data, whether that be an int, float or string. Variables however don't have to remain the same type throughout, they can be changed. For example, below we convert an integer to a float, and a string consisting of a number to an integer."
   ]
  },
  {
   "cell_type": "code",
   "execution_count": null,
   "metadata": {
    "collapsed": true
   },
   "outputs": [],
   "source": [
    "a = 2\n",
    "b = float(a)\n",
    "print(a,b)\n",
    "\n",
    "c = '69'\n",
    "d = int(c)\n",
    "print(c,d)"
   ]
  },
  {
   "cell_type": "markdown",
   "metadata": {},
   "source": [
    "<div style=\"background-color: #FFF8C6\">\n",
    "Can you see the difference between the value of variable c and variable d when they are printed in the example above? How can you check which variable is of which type?\n",
    "<p>\n",
    "    \n",
    "**Exercise: try converting different types of data below. Answer the following questions:**\n",
    "- **Can you turn a string of letters into a float or integer?**\n",
    "- **What happens when you convert a float with non-zero decimal points into an integer? Make sure to try different values of decimals!**\n",
    "- **Can you turn a complex number into a string, float, or integer?**"
   ]
  },
  {
   "cell_type": "code",
   "execution_count": null,
   "metadata": {
    "collapsed": true
   },
   "outputs": [],
   "source": []
  },
  {
   "cell_type": "markdown",
   "metadata": {},
   "source": [
    "## 4. Variables and keywords<a id=\"variables\"></a>"
   ]
  },
  {
   "cell_type": "markdown",
   "metadata": {},
   "source": [
    "The <span style=\"color:blue\">=</span> operator (sometimes called the assignment operator) allows you to store data in a *variable*. Variables are ubiquitous in computer programming, and are much like variables in maths. For example, if we want to create a variable x which has the value 4 we can simply write <span style=\"color:blue\">x = 4</span>. Note that, unlike in algebra, the operator <span style=\"color:blue\">=</span> is directional: the variable on the left of the <span style=\"color:blue\">=</span> is always assigned the value of what is on the right of the <span style=\"color:blue\">=</span>, not the other way around.  \n",
    "\n",
    "<div style=\"background-color: #00FF00\">\n",
    "    \n",
    "**Exercise 7: run the cells below and see what happens:**"
   ]
  },
  {
   "cell_type": "code",
   "execution_count": null,
   "metadata": {
    "collapsed": true
   },
   "outputs": [],
   "source": [
    "x = 4\n",
    "print(x)"
   ]
  },
  {
   "cell_type": "code",
   "execution_count": null,
   "metadata": {
    "collapsed": true
   },
   "outputs": [],
   "source": [
    "x + 2"
   ]
  },
  {
   "cell_type": "code",
   "execution_count": null,
   "metadata": {
    "collapsed": true
   },
   "outputs": [],
   "source": [
    "y = x + 2\n",
    "print(y)"
   ]
  },
  {
   "cell_type": "markdown",
   "metadata": {},
   "source": [
    "Note that in the code above we used the <span style=\"color:blue\">print()</span> command to print the value of the variables to screen. In Python, you can also simply type the name of a variable to do this. However, this should be used with caution as this only works properly when a cell has only one output. \n",
    "\n",
    "<div style=\"background-color: #00FF00\">\n",
    "    \n",
    "**Exercise 8: to illustrate this, try running the  code cells below and pay careful attention to the output of each cell.**"
   ]
  },
  {
   "cell_type": "code",
   "execution_count": null,
   "metadata": {
    "collapsed": true
   },
   "outputs": [],
   "source": [
    "a = 1\n",
    "b = 2\n",
    "a"
   ]
  },
  {
   "cell_type": "code",
   "execution_count": null,
   "metadata": {
    "collapsed": true
   },
   "outputs": [],
   "source": [
    "a\n",
    "b"
   ]
  },
  {
   "cell_type": "code",
   "execution_count": null,
   "metadata": {
    "collapsed": true
   },
   "outputs": [],
   "source": [
    "print(a)\n",
    "print(b)"
   ]
  },
  {
   "cell_type": "markdown",
   "metadata": {},
   "source": [
    "So far, we have used single letters to name variables. This is usually not good practice - if you simply assigned every variable a letter of the alphabet, it would be very hard to decipher your code at a later date and understand what each variable stands for. It is therefore important to chose your variable names carefully. \n",
    "<p>\n",
    "<div style=\"background-color: #00FF00\">\n",
    "\n",
    "**Exercise 9: below, assign variable names to data provided by literals, or to the results of computation using operators. Try and find out the answers to the following questions:**\n",
    "\n",
    "- **Can you identify the rules that govern the possible names? Some names to try: my_glorious_variable_3, True, 1value, my favourite value, A#B...**\n",
    "- **Are the values case sensitive, i.e., is 'name' the same as 'naMe'?**\n",
    "- **What happens when you give the same name to two different values?**\n",
    "- **What happens when you give two different names to the same value?**\n",
    "- **What happens if you store the result of a calculation involving a particular variable as that very variable?**"
   ]
  },
  {
   "cell_type": "code",
   "execution_count": null,
   "metadata": {
    "collapsed": true
   },
   "outputs": [],
   "source": []
  },
  {
   "cell_type": "markdown",
   "metadata": {},
   "source": [
    "The reason why <span style=\"color:blue\">A#B</span> didn’t work as a name was that <span style=\"color:blue\">#</span> is Python’s comment character, which means “Ignore everything after this character until the end of the line”. Comments are used to annotate  code to make it more human-readable, for example to describe in natural language what a complicated line of code does, to make it easier to understand.\n",
    "\n",
    "The reason why <span style=\"color:blue\">True</span> didn’t work as a variable name is because it is a Python keyword, one of the few words that has a special meaning to the language. A list of keywords is:\n",
    "```python \n",
    "and        def       for      is      return\n",
    "as         del       from     lambda  try\n",
    "assert     elif      global   not     while\n",
    "break      else      if       or      with\n",
    "class      except    import   pass    yield\n",
    "continue   finally   in       raise\n",
    "```\n",
    "\n",
    "Note that this list changes with different versions of Python. Jupyter Notebooks helpfully change the colour of a keyword to bold green, so you will immediately notice it if you use a keyword inadvertently. We will cover some of these keywords in this course, but not all of them."
   ]
  },
  {
   "cell_type": "markdown",
   "metadata": {},
   "source": [
    "# 5. NumPy, SciPy and arrays<a id=\"arrays\"></a>"
   ]
  },
  {
   "cell_type": "markdown",
   "metadata": {},
   "source": [
    "Everything we have covered so far has been part of the core Python programming language. However, the core Python programming language does not include many mathematical functions that you might expect to use. So, for example, if you needed to use trigonometric functions such as sin, cos, etc, you would have to write your own code using to implement these. If you wanted to do numerical integration you would have to write the code. If you wanted to display results as plots, you would have to write (quite a lot of) code to do it, and so on. This would be tiresome and very time consuming. Fortunately, there are libraries of code that provide for most of these common requirements, and much more!\n",
    "\n",
    "NumPy and SciPy are large collections of open-source libraries and tools brought together to give a powerful high-level environment for mathematical and scientific computing. NumPy provides functions for basic mathematical operations (sin, cos, tan, etc.) as well as functions which handle arrays, vectors, matrices and operations upon them. SciPy provides more specialised functions that are useful for scientific programmings, such as special functions, integration, ordinary differential equation (ODE) solvers, gradient optimization, parallel programming tools, an expression-to-C++ compiler for fast execution, and others.\n",
    "\n",
    "In this session we will use functions from NumPy. To be able to use it, you first need to import the package as follows: "
   ]
  },
  {
   "cell_type": "code",
   "execution_count": 1,
   "metadata": {},
   "outputs": [],
   "source": [
    "import numpy as np"
   ]
  },
  {
   "cell_type": "markdown",
   "metadata": {},
   "source": [
    "Generally you will need to include this line at the top of your code or notebook (and make sure to run the cell). Be careful: when you reopen your notebook at a later time to continue or review your work, you will have to run the cell above again to be able to use NumPy's functions again. A good way of resuming work is to select the \"Run All Above\" option from the Cell menu, to ensure all previous cells have been executed before you carry on.  \n",
    "\n",
    "You can now use all of NumPy's routines by calling them by their name preceded by <span style=\"color:blue\">np.</span> - for example to create an array A comprising the numbers 10 to 100 in steps of 10:"
   ]
  },
  {
   "cell_type": "code",
   "execution_count": null,
   "metadata": {
    "collapsed": true
   },
   "outputs": [],
   "source": [
    "A = np.array([10,20,30,40,50,60,70,80,90,100])"
   ]
  },
  {
   "cell_type": "markdown",
   "metadata": {},
   "source": [
    "As you can see, an array is a series of objects of the same type (integers in the example above). Each individual object in the array is called an element. You can access individual elements of an array by specifying the index of the element in the array within square brackets. For example, the cell below first prints the entire array A and subsequently only the element with index 1:"
   ]
  },
  {
   "cell_type": "code",
   "execution_count": null,
   "metadata": {
    "collapsed": true
   },
   "outputs": [],
   "source": [
    "print(A)\n",
    "print(A[1])"
   ]
  },
  {
   "cell_type": "markdown",
   "metadata": {},
   "source": [
    "When you run the above cell, the second output line might not be what you expected! This is because indices start from 0, so the first element has index 0, the second element index 1, and so forth. You can access any selection of elements from an array using indices; this is called slicing. \n",
    "\n",
    "<div style=\"background-color: #00FF00\">\n",
    "    \n",
    "**Exercise 10: look at the following list - can you predict what the result will be before running these statements? Pay careful attention to which elements are included in the slices.**\n",
    "- <span style=\"color:blue\">A[9]</span>\n",
    "- <span style=\"color:blue\">A[10]</span>\n",
    "- <span style=\"color:blue\">A[-1]</span>\n",
    "- <span style=\"color:blue\">A[1:3]</span>\n",
    "- <span style=\"color:blue\">A[1:]</span>\n",
    "- <span style=\"color:blue\">A[:5]</span>\n",
    "- <span style=\"color:blue\">A[0:6:2]</span>\n",
    "- <span style=\"color:blue\">A[::2]</span>\n",
    "\n",
    "**Slicing is a very important concept in programming, so take some time experimenting with this in the cell below (again, add as many cells as you like in the notebook). Can you figure out the rules of slicing? Challenge: use slice notation to reverse array A in one line.**"
   ]
  },
  {
   "cell_type": "code",
   "execution_count": null,
   "metadata": {
    "collapsed": true
   },
   "outputs": [],
   "source": []
  },
  {
   "cell_type": "markdown",
   "metadata": {},
   "source": [
    "You can even create 2D (or higher-dimensional) arrays, by nesting several 1D arrays within one array: one for each row. This is a very useful data structure - it can for example represent data tables or even images. Run the following cell to see an example:"
   ]
  },
  {
   "cell_type": "code",
   "execution_count": null,
   "metadata": {
    "collapsed": true
   },
   "outputs": [],
   "source": [
    "twoDarray=np.array([[1,2],[10,20],[100,200]])\n",
    "print(twoDarray)"
   ]
  },
  {
   "cell_type": "markdown",
   "metadata": {},
   "source": [
    "We can now access individual cells by taking the slice [row_index,column_index]. For example, the command below will print the element that is in the third row and second column of the 2D array above:"
   ]
  },
  {
   "cell_type": "code",
   "execution_count": null,
   "metadata": {
    "collapsed": true
   },
   "outputs": [],
   "source": [
    "print(twoDarray[2,1])"
   ]
  },
  {
   "cell_type": "markdown",
   "metadata": {},
   "source": [
    "<div style=\"background-color: #FFF8C6\">\n",
    "Arrays can be extended to an arbitrary number of dimensions. Implementing them in the above manner however would become very tedious, especially  trying to keep track of all of the square brackets you would need. Numpy has the np.zeros command, that allows you generate an arbitrary array of zeros in any dimensions:\n",
    "\n",
    "```python\n",
    "Arbitrary_array=np.zeros((dim1,dim2,dim3,.......,dimn))\n",
    "```\n",
    "\n",
    "Note the double set of brackets within the zeros, this is because for the zeros function, it is the first argument that sets the number of dimensions. "
   ]
  },
  {
   "cell_type": "markdown",
   "metadata": {},
   "source": [
    "<div style=\"background-color: #FFF8C6\">\n",
    "**Exercise: experiment with taking slices out of a 2D array - these can be 2D arrays, 1D arrays, or single elements. Can you take it a step further and create a 3D array (i.e. a data cube) and take slices from it?**"
   ]
  },
  {
   "cell_type": "markdown",
   "metadata": {},
   "source": [
    "The <span style=\"color:blue\">np.array()</span> method works fine for short arrays, or to input a small number of measurement data points by hand, but would become tedious for creating longer arrays. A quicker way of defining arrays with a fixed increment is using <span style=\"color:blue\">np.arange()</span> or <span style=\"color:blue\">np.linspace()</span>. \n",
    "\n",
    "<div style=\"background-color: #00FF00\">\n",
    "    \n",
    "**Exercise 11: use Google or the help documentation on these two functions (by running e.g. <span style=\"color:blue\">help(np.arange)</span>) to find out how they work. Subsequently create an array which includes the numbers 0 - 100 (make sure to store your array in a variable). Next, try and create an array consisting of the numbers 100 - 200 in steps of 0.01. What is the difference between using <span style=\"color:blue\">np.arange()</span> and <span style=\"color:blue\">np.linspace()</span>?**"
   ]
  },
  {
   "cell_type": "code",
   "execution_count": null,
   "metadata": {
    "collapsed": true
   },
   "outputs": [],
   "source": []
  },
  {
   "cell_type": "markdown",
   "metadata": {},
   "source": [
    "Arrays are very useful data structures, which we will use throughout this course. When you analyse the data you take in lab with Python, you should always store your data in arrays. One reason arrays are so powerful within Python is because you can do arithmetic operations on them. For example, to multiply every element of array A by two, simply run the following:"
   ]
  },
  {
   "cell_type": "code",
   "execution_count": null,
   "metadata": {
    "collapsed": true
   },
   "outputs": [],
   "source": [
    "2*A"
   ]
  },
  {
   "cell_type": "markdown",
   "metadata": {},
   "source": [
    "You can perform element-wise multiplication on two arrays, for example:"
   ]
  },
  {
   "cell_type": "code",
   "execution_count": null,
   "metadata": {
    "collapsed": true
   },
   "outputs": [],
   "source": [
    "A*A"
   ]
  },
  {
   "cell_type": "markdown",
   "metadata": {},
   "source": [
    "## 6. Statistics with arrays<a id=\"stats\"></a>"
   ]
  },
  {
   "cell_type": "markdown",
   "metadata": {},
   "source": [
    "Here is a set of values obtained for the wave length of a sound wave.\n",
    "\n",
    "* 0.76 m\n",
    "* 0.79 m\n",
    "* 0.84 m\n",
    "* 0.75 m\n",
    "* 0.80 m\n",
    "* 0.79 m\n",
    "\n",
    "We can now calculate the mean of these data with a simple set of commands:"
   ]
  },
  {
   "cell_type": "code",
   "execution_count": null,
   "metadata": {
    "collapsed": true
   },
   "outputs": [],
   "source": [
    "x=np.array([0.76,0.79,0.84,0.75,0.80,0.79])\n",
    "mean_value=np.mean(x)\n",
    "print('The mean value is:', mean_value, 'm')"
   ]
  },
  {
   "cell_type": "markdown",
   "metadata": {},
   "source": [
    "Similarly, we can calculate the standard deviation of the sample by calling the function <span style=\"color:blue\">np.std()</span>. This function calculates the sample standard deviation $s$ using the following formula:\n",
    "\n",
    "$$s^2 = \\frac{1}{n-1}\\sum_{i=1}^n(x_i-\\overline{x})^2$$ \n",
    "\n",
    "Here $x_i$ are the individual data points, $\\overline{x}$ is the mean value of the data set, and $n$ is the number of data points.\n",
    "\n",
    "<div style=\"background-color: #00FF00\">\n",
    "    \n",
    "**Exercise 13: below, calculate the standard deviation of our data set using the <span style=\"color:blue\">std()</span> function which is in the NumPy package - i.e. call the function by typing <span style=\"color:blue\">np.std()</span>. Once again, use the inbuilt help or Google to help you on your way. Help files are always a long read -  in this case focus on the keyword <span style=\"color:blue\">ddof</span> to ensure you use the *sample* standard deviation. You will need to set this to <span style=\"color:blue\">ddof=1</span> when you call the <span style=\"color:blue\">np.std()</span> function. This ensures the denominator in the equation above is set to $n-1$ rather than $n$.**"
   ]
  },
  {
   "cell_type": "code",
   "execution_count": null,
   "metadata": {
    "collapsed": true
   },
   "outputs": [],
   "source": []
  },
  {
   "cell_type": "markdown",
   "metadata": {},
   "source": [
    "## 7. Reading and writing files<a id=\"files\"></a>"
   ]
  },
  {
   "cell_type": "markdown",
   "metadata": {},
   "source": [
    "In the previous section you have seen that Python is a powerful tool for statistics, once you have stored your measurement data in arrays - particularly because you can execute the same block of code to calculate the mean, standard deviation, and standard error of the mean on any data set you take in your different labs. However, you won't usually *record* your data directly in Python. Normally, you will save your data in a file, which you can read in using your Python code.\n",
    "\n",
    "There are numerous ways in Python to read in data from files, each with their own pros and cons. One method is to use the <span style=\"color:blue\">loadtxt()</span> function, which is included in the NumPy package. It offers a straightforward way of reading in data sets which consist of columns of measurement points. \n",
    "<div style=\"background-color: #00FF00\">\n",
    "    \n",
    "**Exercise 15: to try this out, open the file [Resistivity.txt]( \n",
    "https://cclewley.github.io/ComputingYr1/Data1/Resistivity.txt\n",
    ") . This file (as well as all other data files) are stored in the 'Data' folder that you have downloaded from Blackboard for this session. Click on the link to inspect this data file within your browser: you will see it includes 3 columns, separated by spaces. The first column is temperature, the second the measured resistivity of copper, and the third that of aluminium. You may recognise these from your Measurements & Uncertainties tutorial if you have already done this! To read in this data file and print the data, run the following cell:**"
   ]
  },
  {
   "cell_type": "code",
   "execution_count": null,
   "metadata": {
    "collapsed": true
   },
   "outputs": [],
   "source": [
    "data=np.loadtxt(\"Data/Resistivity.txt\")\n",
    "print(data)"
   ]
  },
  {
   "cell_type": "markdown",
   "metadata": {},
   "source": [
    "Note that to read the file, we have to include the subfolder name in the file name, i.e. <span style=\"color:blue\">\"Data/Resistivity.txt\"</span>. If we do not include the subfolder name, the computer would look for the file in the same folder as where the script for this code is stored (i.e. this Jupyter Notebook). Since usually you would have your data stored in a different place than your programming scripts, it is good to get used to specifiying folders (or 'path names') right from the start. <p>\n",
    "You will see that the data has been read into a 2D array. If we wish, we can now slice the 2D array to create three 1D arrays, each representing a separate physical quantity (T for temperature, R_Cu for the copper resistivity, and R_Al for the aluminum resistivity):"
   ]
  },
  {
   "cell_type": "code",
   "execution_count": null,
   "metadata": {
    "collapsed": true
   },
   "outputs": [],
   "source": [
    "T = data[:,0]\n",
    "R_Cu = data[:,1]\n",
    "R_Al = data[:,2]\n",
    "print('Temperature:', T)\n",
    "print('Copper resistivity', R_Cu)\n",
    "print('Aluminium resistivity', R_Al)"
   ]
  },
  {
   "cell_type": "markdown",
   "metadata": {},
   "source": [
    "<div style=\"background-color: #FFF8C6\">\n",
    "The <span style=\"color:blue\">loadtxt()</span> function incorporates more features: it can also skip header rows and deal with different types of delimiters (how the data is separated). As an example, look at the file [Resistivity.csv](https://cclewley.github.io/ComputingYr1/Data1/Resistivity.csv), which is a csv (comma separated variable) file of the same data. You will need to download this file and open it in Excel to be able to inspect it. Note that now the data is delimited by commas, and includes two header rows. Now run the cell below:"
   ]
  },
  {
   "cell_type": "code",
   "execution_count": null,
   "metadata": {
    "collapsed": true
   },
   "outputs": [],
   "source": [
    "T, R_Cu, R_Al = np.loadtxt(\"Data/Resistivity.csv\", skiprows=2, delimiter=',', unpack=True)\n",
    "print('Temperature:', T)\n",
    "print('Copper resistivity', R_Cu)\n",
    "print('Aluminium resistivity', R_Al)"
   ]
  },
  {
   "cell_type": "markdown",
   "metadata": {},
   "source": [
    "<div style=\"background-color: #FFF8C6\">\n",
    "We have changed three things: we use the <span style=\"color:blue\">skiprows</span> keyword to skip the first two header rows, we use the <span style=\"color:blue\">delimiter</span> keyword to set the delimiter to comma (a tab would be <span style=\"color:blue\">delimiter='\\t'</span>), and we have used the <span style=\"color:blue\">unpack</span> keyword to store each column of the data in a separate array (T, R_Cu, and R_Al in this case).\n",
    "\n",
    "**Exercise: try reading [Resistivity.txt](https://cclewley.github.io/ComputingYr1/Data1/Resistivity.txt) with the keyword <span style=\"color:blue\">delimiter=','</span> and see what happens. Next try it with  <span style=\"color:blue\">delimiter=' '</span>. Finally, try reading [Resistivity.csv](https://cclewley.github.io/ComputingYr1/Data1/Resistivity.csv) without the <span style=\"color:blue\">skiprows</span> keyword. Open up the .csv file in a text editor such as WordPad and look at how the data are stored.**\n",
    "\n",
    "When reading in more complex data, the function <span style=\"color:blue\">genfromtxt()</span> in the NumPy package can be more appropriate. It incorporates more flexibility, such as dealing with missing data."
   ]
  },
  {
   "cell_type": "markdown",
   "metadata": {},
   "source": [
    "Conversely, at some point you will want to write data to an output file. To do this, we can use the <span style=\"color:blue\">savetxt()</span> function included in NumPy. Below is a simple example of how to use this. \n",
    "\n",
    "<div style=\"background-color: #00FF00\">\n",
    "    \n",
    "**Exercise 16: run the cell below and have a look at the resulting file.**\n",
    "\n",
    "**Tip: to do this, you need to make an 'Output' folder in the folder where this worksheet is located, and click on the newly created file to see a preview in your browser window.**"
   ]
  },
  {
   "cell_type": "code",
   "execution_count": null,
   "metadata": {
    "collapsed": true
   },
   "outputs": [],
   "source": [
    "np.savetxt('Output/Test_outputfile1.txt',data)"
   ]
  },
  {
   "cell_type": "markdown",
   "metadata": {},
   "source": [
    "Note that this time we specified the output file to be saved to the subfolder 'Output', which is a pre-existing folder. It is good practice to keep your files organised in a sensible folder structure, instead of dumping all output in the same folder as your script."
   ]
  },
  {
   "cell_type": "markdown",
   "metadata": {},
   "source": [
    "<div style=\"background-color: #FFF8C6\">\n",
    "Note that <span style=\"color:blue\">savetxt()</span> only takes one argument for the data to be printed, so if you want to print various 1D arrays (instead of the single 2D array in the example above), you need to combine them into a single 2D array. To do this successfully, you will need to use the NumPy <span style=\"color:blue\">column_stack()</span> function. \n",
    "\n",
    "**Exercise: the two examples below illustrate this - extend the code to print out the two arrays and have a look at the result.**"
   ]
  },
  {
   "cell_type": "code",
   "execution_count": null,
   "metadata": {
    "collapsed": true
   },
   "outputs": [],
   "source": [
    "combined_1 = [T,R_Cu,R_Al]\n",
    "combined_2 = np.column_stack([T,R_Cu,R_Al])"
   ]
  },
  {
   "cell_type": "markdown",
   "metadata": {},
   "source": [
    "<div style=\"background-color: #00FF00\">\n",
    "    \n",
    "**Exercise 17: in the cell below, find the mean of the resistivity of copper and subtract it from the copper resistivity data set, so you are left with the residuals. Do the same for aluminium. Now save your new data set (which includes temperature, copper resistivity residuals, and aluminium resistivity residuals) to a file. Make sure to choose a sensible name for your output file! Use the <span style=\"color:blue\">help()</span> function to find out what arguments and keywords the <span style=\"color:blue\">savetxt()</span> function takes. Can you include a header line with the column names and space the columns with tabs?**"
   ]
  },
  {
   "cell_type": "code",
   "execution_count": null,
   "metadata": {
    "collapsed": true
   },
   "outputs": [],
   "source": []
  },
  {
   "cell_type": "markdown",
   "metadata": {},
   "source": [
    "## 8. Plotting data<a id=\"plotting\"></a>"
   ]
  },
  {
   "cell_type": "markdown",
   "metadata": {},
   "source": [
    "When you take measurements in lab, you will want to create a graph of your data. Python has a package that specialises in plotting: <span style=\"color:blue\">matplotlib</span>. To use the plotting routines of this package, we only need to import the <span style=\"color:blue\">pyplot</span> part of the matplotlib package. "
   ]
  },
  {
   "cell_type": "code",
   "execution_count": null,
   "metadata": {
    "collapsed": true
   },
   "outputs": [],
   "source": [
    "import matplotlib.pyplot as plt"
   ]
  },
  {
   "cell_type": "markdown",
   "metadata": {},
   "source": [
    "Within Jupyter Notebooks the plots are created within the notebook itself. In most other environments (such as the Spyder IDE which you will use in Session 3) plots will be created in a separate window.\n",
    "\n",
    "We can now use the <span style=\"color:blue\">plot()</span> function to create a plot of our resistivity data:"
   ]
  },
  {
   "cell_type": "code",
   "execution_count": null,
   "metadata": {
    "collapsed": true
   },
   "outputs": [],
   "source": [
    "plt.plot(T,R_Cu)\n",
    "plt.show()"
   ]
  },
  {
   "cell_type": "markdown",
   "metadata": {},
   "source": [
    "In essence the first line in the cell above creates a plot object, and the second line shows the plot (akin to creating a variable and printing it to screen with the the <span style=\"color:blue\">print()</span> command). To be able to use a figure in a report, you will want to save it as an image or pdf file. To do this, instead of the <span style=\"color:blue\">plt.show()</span> command, use the <span style=\"color:blue\">plt.savefig()</span> command.\n",
    "\n",
    "Looking at the plot above, you may guess that the resistivity increases linearly with time, but there is some scatter in the data. A line plot is therefore not the most suitable graph; instead we want to use a scatter plot. In fact, even if the data did follow a perfect line, we would still want to plot the data points themselves as well - otherwise we would not be able to tell if the graph is the result of two datapoints or two hundred! We can do that by specifying a plotting symbol as a third argument in the <span style=\"color:blue\">plot()</span> function. Below we plot the resistivity for both copper and aluminium using different plotting symbols. We also save the image as a png file in the subfolder 'Output' (check this for yourself!)."
   ]
  },
  {
   "cell_type": "code",
   "execution_count": null,
   "metadata": {
    "collapsed": true
   },
   "outputs": [],
   "source": [
    "plt.plot(T,R_Cu,'x')\n",
    "plt.plot(T,R_Al,'+')\n",
    "plt.savefig(\"Output/Resistivity_plot.png\")\n",
    "plt.show()"
   ]
  },
  {
   "cell_type": "markdown",
   "metadata": {},
   "source": [
    "**Important note:** Make sure you put the <span style=\"color:blue\">plt.show()</span> command *after* the <span style=\"color:blue\">plt.savefig()</span> command. If you save the figure after showing it on screen, it will create an empty file!"
   ]
  },
  {
   "cell_type": "markdown",
   "metadata": {},
   "source": [
    "<div style=\"background-color: #FFF8C6\">\n",
    "There are many more features you can change if you have time to research them. For example, you may have noticed that the 'tick marks' on the x-axis (i.e. where the vertical grid lines are placed) in the example plot are different from the default values. \n",
    "<p>\n",
    "    \n",
    "**Exercise: can you find out how to change your tick marks accordingly? Another thing to try is changing the font to Arial using the <span style=\"color:blue\">rcParams</span> data structure.**"
   ]
  },
  {
   "cell_type": "code",
   "execution_count": null,
   "metadata": {
    "collapsed": true
   },
   "outputs": [],
   "source": [
    "plt.style.use(\"default\")"
   ]
  },
  {
   "cell_type": "markdown",
   "metadata": {},
   "source": [
    "<div style=\"background-color: #FFF8C6\">\n",
    "The <span style=\"color:blue\">plt.style.use(\"default\")</span> function loads the default style sheet. There are other pre-defined style sheets that change the look of your plots. To list all available style sheets, run: \n",
    "\n",
    "```python\n",
    "print(plt.style.available)\n",
    "```\n",
    "\n",
    "**Exercise: experiment with a few different style sheets. You can even create your own style sheet and load it in this way!**"
   ]
  },
  {
   "cell_type": "markdown",
   "metadata": {},
   "source": [
    "## 10. Coding practices<a id=\"codingpractices\"></a>\n",
    "\n",
    "In the previous sections we have written brief snippets of Python code to achieve a specific task, i.e. defining a variable or data structure and printing out the values of these, or creating a plot from existing data. However from the next session we will start to write longer pieces of code, and there are some best practices that should be used to keep your code and results legible.\n",
    "\n",
    "#### Comments\n",
    "\n",
    "Comments use the following syntax:\n",
    "\n",
    "```python\n",
    "# This is a python comment\n",
    "```\n",
    "\n",
    "Any line that begins with the <span style=\"color:blue\">#</span> symbol is not executed as a piece of python code and is purely for human benefit. **You should *always* comment your code extensively**. Comments don't have to be incredibly detailed but should give a brief description of what you are doing. Consider a snippet of code that calculates the hypotenuse of a right-angled triangle:"
   ]
  },
  {
   "cell_type": "code",
   "execution_count": null,
   "metadata": {
    "collapsed": true
   },
   "outputs": [],
   "source": [
    "#This snippet of code calculates the hypotenuse of a triangle, given the height and width\n",
    "a = 3 #Height in cm\n",
    "b = 4 #Width in cm\n",
    "c = np.sqrt(a**2 + b**2)\n",
    "print(c) #Print the result"
   ]
  },
  {
   "cell_type": "markdown",
   "metadata": {},
   "source": [
    "The comments are short but clearly describe what is happening in the code. As your work becomes more complicated, the use of comments will save a lot of hassle in the future. When you write full programmes, you may want to include comments at the top with your name and data, to act as a fossil record of when work was implemented, and what the purpose is of your programme.\n",
    "\n",
    "\n",
    "#### Print statements and formatting\n",
    "\n",
    "When printing variables to the screen thus far, we  sometimes only printed the variables themselves, with no further information about what they are respresenting physically. Like the idea of comments above, adding extra text will make it easier to keep track of what is going on when you return to work at a later date. Consider the following example:"
   ]
  },
  {
   "cell_type": "code",
   "execution_count": null,
   "metadata": {
    "collapsed": true
   },
   "outputs": [],
   "source": [
    "#This snippet of code calculates the hypotenuse of a triangle,given the height and width\n",
    "a=3 #Height in cm\n",
    "b=4 #Width in cm\n",
    "c=np.sqrt(a**2+b**2)\n",
    "print(c) #Just printing the number\n",
    "#Isn't the output of the statement below much more useful?\n",
    "print(\"The hypotenuse of a triangle with width \", a, \" cm and height \", b, \" cm is \", c, \" cm \") "
   ]
  },
  {
   "cell_type": "markdown",
   "metadata": {},
   "source": [
    "Looking at the above outputs, which one is more descriptive and will be useful when you return to the code later on? Note the use of comments to help you understand what the code is trying to achieve. Also take note of including units in your print statement, this will help to improve legibility.\n",
    "\n",
    "<div style=\"background-color: #FFF8C6\">\n",
    "Having control of how you present your results is also very important. As scientists we should only quote results to the relevant number of significant figures. Look at the following code:"
   ]
  },
  {
   "cell_type": "code",
   "execution_count": null,
   "metadata": {
    "collapsed": true
   },
   "outputs": [],
   "source": [
    "#This snippet of code calculates the hypotenuse of a triangle,given the height and width\n",
    "a=1 #Height in cm\n",
    "b=2 #Width in cm\n",
    "c=np.sqrt(a**2+b**2)\n",
    "print(\"The hypotenuse of a triangle with width \", a, \"cm and height \", b, \" cm is \", c,\" cm \")"
   ]
  },
  {
   "cell_type": "markdown",
   "metadata": {},
   "source": [
    "<div style=\"background-color: #FFF8C6\">\n",
    "Here we have taken the the above hypotenuse code but this time given it inputs that do not give an integer output. As scientists when we take measurements, we are unlikely to be able to quote to the precision that Python gives us by default. When presenting our work we therefore need to put in an appropriate format that reflects our confidence in the result. To do this, when we print our results to an output, we can use format statements. Run the code cell below and look at the output of the revised print statement."
   ]
  },
  {
   "cell_type": "code",
   "execution_count": null,
   "metadata": {
    "collapsed": true
   },
   "outputs": [],
   "source": [
    "print(\"The hypotenuse of a triangle with width %d cm and height %d cm is %.2f cm\" % (a,b,c))"
   ]
  },
  {
   "cell_type": "markdown",
   "metadata": {},
   "source": [
    "<div style=\"background-color: #FFF8C6\">\n",
    "This method of creating a print statement may look more complicated, but it gives you greater control on your outputs. Let's break down what is used in this statement. Firstly, in between the print brackets we have replaced:\n",
    "```python \n",
    ", a,\n",
    ", b,\n",
    ", c,\n",
    "``` \n",
    "with the commands:\n",
    "```python\n",
    "\"%d\"\n",
    "\"%d\"\n",
    "\"%.2f\"\n",
    "```\n",
    "within the string itself. The % symbol here acts as a place holder: it reads as \"insert variable value here\". The 'd' means that the variable should be printed as an integer. The '.2f statement means that the variable should be printed as a float with two decimal point.\n",
    "\n",
    "Now we need to specify which variables should be printed. To do this, we add the command:\n",
    "\n",
    "```python\n",
    "% (a,b,c)\n",
    "```\n",
    "\n",
    "after the string. Note that the variables need to be given in the order of which they should appear in the text.\n",
    "\n",
    "**Exercise: look at the code below that calculates the area and volume for a sphere for a variable radius which is in units of meters. Interpret this code, and make it code legible by including comments, string outputs and format statements.**"
   ]
  },
  {
   "cell_type": "code",
   "execution_count": null,
   "metadata": {
    "collapsed": true
   },
   "outputs": [],
   "source": [
    "r=1\n",
    "a=4*np.pi*r**2\n",
    "v=4*np.pi/3*r**3\n",
    "print(r,a,v)"
   ]
  },
  {
   "cell_type": "markdown",
   "metadata": {},
   "source": [
    "<div style=\"background-color: #FFF8C6\">\n",
    "    \n",
    "#### Formatting file output\n",
    "Open the file you created in Exercise 17. You may notice that the formatting of your file may not be exactly to your liking. For example, the header names might not line up with your data columns, and the data may have too many decimal places. All this can be fixed by changing the formatting of the output that is written to file. For example, we can force the number of decimal places in the three columns of data by setting the following keyword in the <span style=\"color:blue\">savetxt()</span> function: <span style=\"color:blue\">fmt=\"%.d %.2e %.2e\"</span>.\n",
    "This ensures the first column is printed as an integer, and the other two columns are printed using scientific notation with two decimal places. If you have time, experiment with changing the format of the data in your output file. \n",
    "\n",
    "For a more comprehensive guide on formatting output, have a look at [this tutorial](https://www.python-course.eu/python3_formatted_output.php). Knowing how to format Python output appropriately will come in very handy in the future."
   ]
  },
  {
   "cell_type": "markdown",
   "metadata": {},
   "source": [
    "# Non-Array Data Structures"
   ]
  },
  {
   "cell_type": "markdown",
   "metadata": {},
   "source": [
    "Previously, we restricted ourselves to working with Numpy array data structures. As physicists this is natural; arrays are a n-dimensional structure that can hold integers or floats and allow statistics to be performed on them. Python however offered multiple types of data structures that each serve an unique and useful purpose when programming."
   ]
  },
  {
   "cell_type": "markdown",
   "metadata": {},
   "source": [
    "### Lists\n",
    "\n",
    "Lists in Python are defined using square brackets surrounding zero or more comma separated literals: \n",
    "```python\n",
    "some_primes = [2,3,5,7,11,13]\n",
    "names_of_cats = [\"Ginger\", \"Princess\", \"Zorxo the Clawful\"]\n",
    "```\n",
    "\n",
    "Lists don't even have to be of the same type:\n",
    "\n",
    "```python\n",
    "Mixed_list = [2,\"Python\",16.5]\n",
    "```\n",
    "\n",
    "is an allowed list. Moreover lists don't need to contain any elements, they can be initalised as an empty list:\n",
    "\n",
    "```python\n",
    "Empty_list=[]\n",
    "```\n",
    "This is particularly useful when you will be adding elements to the list as your code progresses. To add elements you can use the <span style=\"color:blue\">.append</span> method to a list:\n",
    "\n",
    "```python\n",
    "Empty_list.append(2)\n",
    "```\n",
    "\n",
    "\n",
    "### Tuples\n",
    "Tuples behave very similarly to lists, but are immutable (i.e. they cannot be changed). Tuple literals are created by a writing a sequence of items separated by commas, optionally surrounded by parentheses. To get a tuple with only one element, you need to have a comma after the element.<br>\n",
    "```python\n",
    "my_tuple = 1,2,3\n",
    "my_tuple = (1,2,3)        # equivalent\n",
    "not_a_tuple = 1           # same as: not_a_tuple=1\n",
    "a_tuple = 1,\n",
    "a_tuple = (\"first!\",)     # here the first and only element of the tuple is \"first!\".\n",
    "```\n",
    "\n",
    "Many aspects of Python are implicit tuples. For instance, the assignment operator = will happily assign tuples of names to tuples of values:<br>\n",
    "```python\n",
    "A,B,C = 1,2,3\n",
    "```\n",
    "which is the same as:\n",
    "```python\n",
    "(A,B,C) = (1,2,3)\n",
    "```\n",
    "which is the same as:\n",
    "```python\n",
    "A = 1\n",
    "B = 2\n",
    "C = 3\n",
    "```\n",
    "\n",
    "This behaviour can be easily used to swap the names of data:<br>\n",
    "```python\n",
    "A,B = 1,2\n",
    "A,B = B,A\n",
    "print(A,B)   # prints 2,1\n",
    "```\n",
    "\n",
    "### Dictionaries\n",
    "The third most common collection type used in Python is the Dictionary, or dict, which store mappings from keys to values. For every key, there is a value, which can be almost any Python object. Keys are usually strings, but it is possible to use certain other objects as keys. Dictionary literals are written as a comma-separated list of key:value pairs, with a colon separating key from value, surrounded by (curly) braces. Dict items are accessed using the key within square brackets.<br>\n",
    "```python\n",
    "student_grades = {\"Simon\": 60, \"Jenny\":68, \"Laura\":112}\n",
    "student_grades[\"Laura\"] = 100 # Change Laura's grade.\n",
    "student_grades[\"Pug\"] = 58    # New student!\n",
    "print(student_grades[\"Jenny\"])\n",
    "68\n",
    "```\n",
    "<br>\n",
    "\n",
    "### When should you use each data type?\n",
    "\n",
    "An important question to ask yourself when first thinking about a problem is what data structure is the best for you to use? There is no universal answer for us and will really depend on the situation. When to use a dictionary is pretty straightforward, they are used when you want to link one set of values to another. A phonebook which links a person name to their number is a good use of a dictionary.\n",
    "\n",
    "When to use a list or tuple can be harder to understand. The key difference between between lists and tuple is that tuples are immutable, i.e once created they cannot be altered. Therefore a sequence of tuples can be used if you don't expect the sequence (or indeed) want them to change. However if you want to add or remove elements from a sequence during your code execution then lists are the data structure to go with.\n",
    "\n",
    "For most physics applications, we will be dealing with 2D, 3D or even higher dimensionality data that we need to operate on. This is best achieved using arrays contained within the numpy module."
   ]
  },
  {
   "cell_type": "markdown",
   "metadata": {},
   "source": [
    "# Converting data types and data structures\n",
    "\n",
    "It was shown previously that variables can be converted from one data type to another. The exact same can be done with data structures, whether it is to change the data types of the structure, or change the actual structure itself. The first thing to consider is: What is my data structure type and what do I want it to be? For physicists the most common change will be to go between a list and an array. To find the type of a data structure, use the <span style=\"color:blue\">type</span> command."
   ]
  },
  {
   "cell_type": "code",
   "execution_count": 2,
   "metadata": {},
   "outputs": [
    {
     "name": "stdout",
     "output_type": "stream",
     "text": [
      "<class 'numpy.ndarray'>\n",
      "<class 'list'>\n"
     ]
    }
   ],
   "source": [
    "import numpy as np\n",
    "Array=np.array([1,2,3,4])\n",
    "print(type(Array))\n",
    "List=[1,2,3,4]\n",
    "print(type(List))"
   ]
  },
  {
   "cell_type": "markdown",
   "metadata": {},
   "source": [
    "Knowing the data structure is crucial to ensuring you handle your data in the most efficient way. For example the Numpy library is optimised to run operations on arrays. We can convert a list to an array but calling the <span style=\"color:blue\">np.array</span> function and passing it the list as an argument."
   ]
  },
  {
   "cell_type": "code",
   "execution_count": 3,
   "metadata": {},
   "outputs": [
    {
     "name": "stdout",
     "output_type": "stream",
     "text": [
      "[1 2 3 4] <class 'numpy.ndarray'>\n"
     ]
    }
   ],
   "source": [
    "Array_of_list=np.array(List)\n",
    "print(Array_of_list,type(Array_of_list))"
   ]
  },
  {
   "cell_type": "markdown",
   "metadata": {},
   "source": [
    "To go the other way, we use the <span style=\"color:blue\">np.ndarray.tolist</span> function"
   ]
  },
  {
   "cell_type": "code",
   "execution_count": 4,
   "metadata": {},
   "outputs": [
    {
     "name": "stdout",
     "output_type": "stream",
     "text": [
      "[1, 2, 3, 4] <class 'list'>\n"
     ]
    }
   ],
   "source": [
    "List_of_array=np.ndarray.tolist(Array)\n",
    "print(List_of_array,type(List_of_array))"
   ]
  },
  {
   "cell_type": "markdown",
   "metadata": {},
   "source": [
    "# Advanced Data Structures - The Pandas DataFrame"
   ]
  },
  {
   "cell_type": "markdown",
   "metadata": {},
   "source": [
    "## Opening and examing a file with Pandas\n",
    "\n",
    "The first thing to is to import the pandas library using:\n",
    "\n",
    "```python\n",
    "import pandas as pd\n",
    "```\n",
    "\n",
    "To open a file with pandas, the most common function is the read_csv command where csv stands for comma separated variable. To open the resistivity data used previously, we use:\n",
    "\n",
    "```python\n",
    "df=pd.read_csv('Data/Resistivity2.csv')\n",
    "```\n",
    "\n",
    "(Note that this is a slightly different .csv file)\n",
    "<div style=\"background-color: #00FF00\">\n",
    "    \n",
    "**Exercise: open the Resistivity2.csv data contained with the name df using the pd.read_csv command. Use the type command and print what data structure has been generated, and then print the data itself. What does this return?**"
   ]
  },
  {
   "cell_type": "markdown",
   "metadata": {},
   "source": [
    "In some cases, the data you are reading in might not be in a comma separated variable format, there may be whitespaces or semicolons. To ensure that the data is read in properly you will need to pass the delim_whitespace keyword to tell the function how the data is separated. Look at the read_csv documentation to learn about the other options available."
   ]
  },
  {
   "cell_type": "code",
   "execution_count": null,
   "metadata": {},
   "outputs": [],
   "source": []
  },
  {
   "cell_type": "markdown",
   "metadata": {},
   "source": [
    "## The DataFrame\n",
    "\n",
    "**(Note: for students taking the MRes in Machine Learning and Big Data in the Physical Sciences, Pandas will be covered on the course in week X.)**\n",
    "\n",
    "The data structure that has been generated by the read_csv is called a DataFrame, this is at the heart of how Pandas stores and manipulates data. A DataFrame is a 2D data structure that is composed of the following components:\n",
    "\n",
    "1) The data\n",
    "\n",
    "2) The index\n",
    "\n",
    "3) The columns\n",
    "\n",
    "Looking as the DataFrame printed above the data should be obvious, it is all of the numbers that was contained in the Resistivity2.csv file. The index, which is the row number of the DataFrame, defines all of the instances when data was taken. In this case data was taken every 20 K between 200-360 K. The columns contain the data that was taken at each index, which for this data was the resistivity of copper and aluminium.\n",
    "\n",
    "The top of the DataFrame contains what was in the top of the file that was loaded in, in this instance it was the labels of the resistivity data. These are known as headers, and will allow you to access your data without needing to use indices. You should be careful when loading in data that it has header data, or else Pandas will place your first data row into that slot. \n",
    "\n",
    "The first column of the DataFrame contains the numbers 0-9. These are the index labels that can be used to access rows of data. These indices were generated automatically because we did not tell it what to use. Looking at our data however, we can see a more convenient index to use: The temperature of our data! To set the indices of our DataFrame to be the temperature, we can use the index_col keyword argument when reading in our data or use the set_index function on our DataFrame. Look up these two methods to understand.\n",
    "\n",
    "<div style=\"background-color: #00FF00\">\n",
    "    \n",
    "**Exercise: using the set_index function, make a new DataFrame df2 that has the temperature column as the index. Then, create a new DataFrame df3 that sets the index column to temperature during read in. Print these two DataFrames to look at their structure.**"
   ]
  },
  {
   "cell_type": "code",
   "execution_count": null,
   "metadata": {},
   "outputs": [],
   "source": []
  },
  {
   "cell_type": "markdown",
   "metadata": {},
   "source": [
    "For larger data sets, it can be disadvantageous to print the whole DataFrame to the screen. We can look at only parts of the data using the .head() and .tail() functions on the DataFrames. Try it yourself, if you wish."
   ]
  },
  {
   "cell_type": "markdown",
   "metadata": {},
   "source": [
    "We sometimes don't need to look at the information in the DataFrame itself, we only want a top level summary of the data. This is achieved using the DataFrame.info() command."
   ]
  },
  {
   "cell_type": "markdown",
   "metadata": {},
   "source": [
    "### Creating a DataFrame\n",
    "Often, we are dealing with data that is not in a format that can immediately be turned into a DataFrame as it may be missing headers or an index. It is then down to the user to create the necessary information to turn the data into a DataFrame compatible format. To do this we use the pd.DataFrame function. For example:"
   ]
  },
  {
   "cell_type": "code",
   "execution_count": 15,
   "metadata": {},
   "outputs": [
    {
     "name": "stdout",
     "output_type": "stream",
     "text": [
      "   a  b  c  d\n",
      "0  2  3  e  5\n",
      "1  4  3  f  5\n",
      "2  5  3  g  4\n"
     ]
    }
   ],
   "source": [
    "import pandas as pd\n",
    "import numpy as sp\n",
    "\n",
    "d=[[2,3,'e',5],\n",
    "   [4,3,'f',5],\n",
    "   [5,3,'g',4]]\n",
    "Headers=['a','b','c','d']\n",
    "df=pd.DataFrame(data=d,columns=Headers)\n",
    "print(df)"
   ]
  },
  {
   "cell_type": "markdown",
   "metadata": {},
   "source": [
    "Notice that one of the column values are strings and not numbers; this is one of the big advantages of using a DataFrame to store your data."
   ]
  },
  {
   "cell_type": "markdown",
   "metadata": {},
   "source": [
    "## Plotting with Pandas\n",
    "\n",
    "Being able to store heterogeneous data in a single data structure is useful, but the real power of Pandas comes when it comes to plotting using a DataFrame. This is accomplished by the following line of code:\n",
    "\n",
    "```python\n",
    "df['column name'].plot()\n",
    "```\n",
    "\n",
    "Alternatively you can use:\n",
    "\n",
    "```python\n",
    "df.plot('x column name','y column name')\n",
    "```\n",
    "Note how we only reference the name of the column, we don't need to know its index. For the first method we didn't set an x-axis; with that plotting nomenclature Pandas will use whatever the index is as an x-axis. Let's look at these methods of plotting:"
   ]
  },
  {
   "cell_type": "code",
   "execution_count": null,
   "metadata": {},
   "outputs": [],
   "source": [
    "import matplotlib.pyplot as plt # this needs to be imported to show the plot\n",
    "\n",
    "df=pd.read_csv('Data/Resistivity2.csv')\n",
    "df['Resistivity Cu (ohm/m)'].plot()\n",
    "df.plot('Temperature (K)','Resistivity Cu (ohm/m)')\n",
    "plt.show()"
   ]
  },
  {
   "cell_type": "markdown",
   "metadata": {},
   "source": [
    "In the second case we had to use the DataFrame df, which didn't have temperature set as the index. In the first plotting style it has taken the DataFrame index, in this case temperature, and has set it to be the x-axis. Plotting data without having to reference column numbers is more intuitive and will make your code easier to understand.\n",
    "\n",
    "**It however relies on the programmer to be careful when making the column names into something sensible, so take care !!**"
   ]
  },
  {
   "cell_type": "markdown",
   "metadata": {},
   "source": [
    "On a more general note, we can access columns by querying their column name, for example:"
   ]
  },
  {
   "cell_type": "code",
   "execution_count": null,
   "metadata": {},
   "outputs": [],
   "source": [
    "print(df['Temperature (K)'])"
   ]
  },
  {
   "cell_type": "markdown",
   "metadata": {},
   "source": [
    "## Filtering DataFrames\n",
    "\n",
    "So far we have made use of the whole DataFrame. A powerful feature of the DataFrame is when you have a large amount of data and want to analyse only a small subset of it based on a condition that is already within the data. As an example, we can filter the above DataFrame df to only contain temperatures below 300 eV:"
   ]
  },
  {
   "cell_type": "code",
   "execution_count": null,
   "metadata": {},
   "outputs": [],
   "source": [
    "df3=df[df['Temperature (K)'] < 300]\n",
    "print(df3)"
   ]
  },
  {
   "cell_type": "markdown",
   "metadata": {},
   "source": [
    "Notice that compared to the original DataFrame, we have 4 fewer values. This becomes powerful when we have a large 2D DataFrame that contains lots of data that are grouped by the value contained in a certain column. Look at the following DataFrame:"
   ]
  },
  {
   "cell_type": "code",
   "execution_count": null,
   "metadata": {},
   "outputs": [],
   "source": [
    "car_df=pd.read_csv('Data/Car_Data.csv')\n",
    "print(car_df.info())\n",
    "print('')\n",
    "print(car_df.head())"
   ]
  },
  {
   "cell_type": "markdown",
   "metadata": {},
   "source": [
    "This DataFrame contains information about various aspects of 392 cars. There is a lot of information here, however we will focus only focus on a few columns to illustrate some key features of DataFrames. Let's plot the weight of the car versus the mpg, the miles per gallon it can achieve."
   ]
  },
  {
   "cell_type": "code",
   "execution_count": null,
   "metadata": {},
   "outputs": [],
   "source": [
    "car_df.plot.scatter(x='weight',y='mpg')\n",
    "plt.show()"
   ]
  },
  {
   "cell_type": "markdown",
   "metadata": {},
   "source": [
    "Note that we have used the scatter plot function and not just the plot function. This is because the DataFrame is not sorted in ascending weight. Looking at the plot, we can see a clear trend that is not suprising: heavier cars get worse mileage. Looking at the summary of the DataFrame, we see that there is an origin column that says where the car was made. To see all the different values contained in the origin column, we use the following command:"
   ]
  },
  {
   "cell_type": "code",
   "execution_count": null,
   "metadata": {},
   "outputs": [],
   "source": [
    "print(car_df.origin.unique())"
   ]
  },
  {
   "cell_type": "markdown",
   "metadata": {},
   "source": [
    "Note that using the command:\n",
    "\n",
    "```python\n",
    "print(car_df.mpg.unique())\n",
    "```\n",
    "\n",
    "would be a bad idea as there are lots of different values of mpg; we can see this from the graph we plotted! Just as we filtered our resistivity DataFrame based on temperature, we can filter our car data based on region. The syntax for this is a little different from above, and looks like:\n",
    "\n",
    "```python\n",
    "New_df=Old_df[old_df['column_name'].str.contains('condition')]\n",
    "```\n",
    "\n",
    "So to extract the US car data from the DataFrame, we would use:\n",
    "\n",
    "```python\n",
    "car_df_US=car_df[car_df['origin'].str.contains('US')]\n",
    "```\n"
   ]
  },
  {
   "cell_type": "markdown",
   "metadata": {},
   "source": [
    "<div style=\"background-color: #00FF00\">\n",
    "\n",
    "**Exercise: extract the data for each origin into a separate DataFrame, like the code snippet above. Then plot the weight vs mpg of each car region on the same graph in different colours to answer the question: which region produces cars with the worst mpg?**\n",
    "\n",
    "**Hint: To get each scatter plot on a common axis, you will need to use the ax keyword argument. Consult Google, the Pandas documentation, and Stack Overflow about how to go about this!**"
   ]
  },
  {
   "cell_type": "code",
   "execution_count": null,
   "metadata": {},
   "outputs": [],
   "source": []
  },
  {
   "cell_type": "code",
   "execution_count": null,
   "metadata": {},
   "outputs": [],
   "source": []
  },
  {
   "cell_type": "markdown",
   "metadata": {},
   "source": [
    "## Index\n",
    "\n",
    "1. Intended learning outcomes\n",
    "2. Histograms\n",
    "3. Plotting error bars\n",
    "4. Line fitting\n",
    "5. Optional: other fitting models"
   ]
  },
  {
   "cell_type": "markdown",
   "metadata": {},
   "source": [
    "## 2. Histograms<a id=\"histograms\"></a>\n",
    "In this section you will practise the array statistics you learnt last session, as well as learn to create histograms. Histograms are frequently used when displaying a set of repeated measurements, and are therefore an incredible useful tool to use for your labs."
   ]
  },
  {
   "cell_type": "markdown",
   "metadata": {},
   "source": [
    "With the matplotlib pyplot package it is straightforward to create a histogram of a data array. For the following example, we use the \"Dataset.txt\" file, which you can find in the 'Data' folder. This data file contains 20 measurements of the speed of light (in units of $10^8\\mathrm{ms}^{-1}$). The code below creates a histogram of the data. Inspect the code and subsequently run the code cell."
   ]
  },
  {
   "cell_type": "code",
   "execution_count": null,
   "metadata": {},
   "outputs": [],
   "source": [
    "data = np.loadtxt('Data/Dataset.txt')# read the data from file\n",
    "plt.ylabel(\"Number of measurements\")# set the y-label\n",
    "plt.xlabel(\"Speed (m/s)\")# set the x-label\n",
    "plt.hist(data)# create a histogram of the data\n",
    "plt.show()# show the plot"
   ]
  },
  {
   "cell_type": "markdown",
   "metadata": {},
   "source": [
    "We can use Python to make a new data sample without this data point using the NumPy <span style=\"color:blue\">delete()</span> function (remember that the elements in the array start counting at 0). Note however that we do not 'delete' the data point from our data set altogether - we still record the outlier and keep it in our data file (it would be terribly bad practice to simply altogether discard data that doesn't match our expectations!). We use the <span style=\"color:blue\">delete()</span> function to create a new array without the outlier, so we can do further statistics on this sample."
   ]
  },
  {
   "cell_type": "code",
   "execution_count": null,
   "metadata": {},
   "outputs": [],
   "source": [
    "clean_data=np.delete(data,5)\n",
    "clean_data"
   ]
  },
  {
   "cell_type": "markdown",
   "metadata": {},
   "source": [
    "<div style=\"background-color: #00FF00\">\n",
    "    \n",
    "**Display a histogram of the new data sample.**"
   ]
  },
  {
   "cell_type": "code",
   "execution_count": null,
   "metadata": {},
   "outputs": [],
   "source": []
  },
  {
   "cell_type": "markdown",
   "metadata": {},
   "source": [
    "<div style=\"background-color: #FFF8C6\">\n",
    "\n",
    "We often would like to compare two datasets or plots visually; for this purpose it is helpful to plot two (or more) graphs side by side. This can be done using the <span style=\"color:blue\">plt.subplot()</span> function to present them in a grid structure that contains $n \\times m$ plots, where $n$ is the number of rows and $m$ is the number of columns. You call the <span style=\"color:blue\">plt.subplot()</span> function like this:\n",
    "\n",
    "```python\n",
    "plt.subplot(n,m,k)\n",
    "```\n",
    "\n",
    "where n is the number of rows you want, m is the number of columns and k is the number of the plot you are creating at this moment in time.\n",
    "\n",
    "**Exercise: Use the <span style=\"color:blue\">plt.subplot()</span> function to plot the two histograms you created above side by side.**"
   ]
  },
  {
   "cell_type": "code",
   "execution_count": null,
   "metadata": {},
   "outputs": [],
   "source": []
  },
  {
   "cell_type": "code",
   "execution_count": null,
   "metadata": {},
   "outputs": [],
   "source": []
  },
  {
   "cell_type": "markdown",
   "metadata": {},
   "source": [
    "## 3. Plotting error bars<a id=\"errorbars\"></a>\n",
    "So far we have learnt to plot our data using linear plots, scatter plots, and histograms. However, normally all data we take will have errors associated with it. Our plots should include these errors in the form of error bars. Fortunately this is straightforward with matplotlib as it includes the function <span style=\"color:blue\">errorbar()</span> which creates a plot with error bars for us. \n",
    "\n",
    "<div style=\"background-color: #00FF00\">\n",
    "    \n",
    "**Exercise 4: have a look at the help for the <span style=\"color:blue\">errorbar()</span> function to see which input arguments it takes. Pay particular attention to the keywords <span style=\"color:blue\">yerr</span>, which takes an array that includes the y-error bars, and <span style=\"color:blue\">fmt</span>, with which you specify the plotting symbol.**\n",
    "\n",
    "**Exercise 5: load the resistivity data we used last session (\"Resistivity.txt\" - included in this session's 'Data' folder), create an array containing 5% errors on the resistivity data, and plot a scatter plot of the data including error bars.**\n",
    "\n",
    "Note: the exercise above includes little guidance - this is to help you get used to finding programming solutions to problems you have not encountered before. Start by looking through the help file, and possibly googling example uses of the function. Also feel free to discuss with your fellow students! If you still find you have trouble getting started (don't worry - this is normal for novice coders), skip ahead to the blue box below and after showing your previous results ask your demonstrator to help you on your way."
   ]
  },
  {
   "cell_type": "code",
   "execution_count": null,
   "metadata": {},
   "outputs": [],
   "source": []
  },
  {
   "cell_type": "markdown",
   "metadata": {},
   "source": [
    "<div style=\"background-color: #FFF8C6\">\n",
    "You can customise many features on your error bar plot. For example, can you find out how to put caps on your error bars (so they are displayed as **T** rather than **I**)? Also, your independent variable may have error bars too, which you would need to add to your plot. \n",
    "\n",
    "**Exercise: add fixed temperature error bars of 2K to your plot. Check the <span style=\"color:blue\">errorbar()</span> documentation for this!**"
   ]
  },
  {
   "cell_type": "code",
   "execution_count": null,
   "metadata": {},
   "outputs": [],
   "source": []
  },
  {
   "cell_type": "markdown",
   "metadata": {},
   "source": [
    "## 4. Line fitting Speak to Prof Colling<a id=\"linefitting\"></a>\n",
    "Previously, we noticed that the resistivity data appears to show a linear relationship with temperature. In order to find this relationship, we want to fit a straight line to our data. We will do this by using the Numpy routine <span style=\"color:blue\">polyfit()</span>. This routine takes as arguments an array of the x values of the data, an array of the y values, and the *order* of the polynomial (what power of x) - in this case 1 for a straight line. We can then tell it to weight each data point by the inverse of its error with the <span style=\"color:blue\">w</span> keyword, and ask it to return the uncertainty of the fit parameters by setting <span style=\"color:blue\">cov=True</span>. Look at the documentation to see all of the available keyword arguments.\n",
    "\n",
    "The routine returns an array which contains the best fit values for the coefficients of the polynomial ($P[0]$ and $P[1]$) \n",
    "\n",
    "$$ f(x) = P[1] + P[0] x $$\n",
    "\n",
    "and a *covariance matrix* which contains the information on the uncertainties on the fit parameters *i.e.* how well we have measured the slope ($P[0]$) and intercept ($P[1]$).\n",
    "\n",
    "$$ \\left( \n",
    "\\begin{array}\n",
    "\\ C_{00} & C_{10} \\\\\n",
    " C_{01} & C_{11} \n",
    "\\end{array}\\right)$$\n",
    "\n",
    "We are interested in the diagonal elements of this matrix, where for instance the uncertainty on fit parameter P[1] (the intercept) :\n",
    "\n",
    "$$\\sigma_{P[1]}=\\sqrt{C_{11}}$$\n",
    "\n",
    "The other two elements of the covariance matrix describe the covariance between the two different parameters, which is something we do not need to use for our error analysis.\n",
    "\n",
    "The code below returns the linear fit to the Aluminium resistivity data. Carefully look through this code and make sure you understand it."
   ]
  },
  {
   "cell_type": "code",
   "execution_count": null,
   "metadata": {},
   "outputs": [],
   "source": [
    "import numpy as np\n",
    "import matplotlib.pyplot as plt\n",
    "\n",
    "T,R_Cu,R_Al = np.loadtxt('Data/Resistivity.txt',unpack=True)# Read in the data\n",
    "errors_Al = 0.05*R_Al# Calculate 5% errors\n",
    "errors_Cu = 0.05*R_Cu\n",
    "\n",
    "# The line below stores the fit coefficients in the fit_Al variable, and the covariance matrix in the cov_Al variable.\n",
    "# Note that the input arguments for polyfit() below are:\n",
    "# (1) the independent variable (T)\n",
    "# (2) the dependent variable (R_Al)\n",
    "# (3) the order of the polynomial to be fitted (1)\n",
    "# (4) the weights of each data point (w = 1/errors_Al)\n",
    "# (5) whether or not to return the covariance matrix (cov = True)\n",
    "fit_Al,cov_Al = np.polyfit(T,R_Al,1,w=1/errors_Al,cov=True)\n",
    "print('Aluminium fit coefficients')\n",
    "print(fit_Al)\n",
    "print('covariance matrix')\n",
    "print(cov_Al)\n",
    "\n",
    "sig_0 = np.sqrt(cov_Al[0,0]) #The uncertainty in the slope\n",
    "sig_1 = np.sqrt(cov_Al[1,1]) #The uncertainty in the intercept\n",
    "\n",
    "print('Slope = %.3e +/- %.3e' %(fit_Al[0],sig_0))# Note the %.3e forces the values to be printed in scientific notation with 3 decimal places.\n",
    "print('Intercept = %.3e +/- %.3e' %(fit_Al[1],sig_1))"
   ]
  },
  {
   "cell_type": "markdown",
   "metadata": {},
   "source": [
    "We can now use the convenient <span style=\"color:blue\">poly1d()</span> routine from the NumPy package, which takes the fit parameters returned by <span style=\"color:blue\">polyfit()</span> and returns a function which calculates the corresponding fit values at any given point. We then plot the linear fit on top of our data. "
   ]
  },
  {
   "cell_type": "code",
   "execution_count": null,
   "metadata": {},
   "outputs": [],
   "source": [
    "import numpy as np\n",
    "import matplotlib.pyplot as plt\n",
    "\n",
    "# Calculate the fit \n",
    "pAl=np.poly1d(fit_Al)\n",
    "print('Aluminium polynomial')\n",
    "print(pAl)\n",
    "\n",
    "# Create the original data figure with error bars\n",
    "plt.grid()\n",
    "plt.xlabel(\"Temperature (K)\") \n",
    "plt.ylabel(\"Resistivity (Ohm m)\") \n",
    "plt.title(\"Resistivity Plot\") \n",
    "plt.errorbar(T,R_Cu,yerr=errors_Cu, fmt='o', mew=2, ms=3, capsize=4)\n",
    "plt.errorbar(T,R_Al,yerr=errors_Al, fmt='o', mew=2, ms=3, capsize=4)\n",
    "plt.legend([\"Copper\", \"Aluminium\"], loc=2 ) \n",
    "plt.xticks(np.arange(200, 400, 50))\n",
    "\n",
    "# Overlay the linear fit\n",
    "# Note that we create the y-coordinates for the fit data points by calling pAl \n",
    "# (which was the return value of poly1Dfit), with the x-coordinates stored in T as the input argument.\n",
    "plt.plot(T,pAl(T))\n",
    "plt.show()"
   ]
  },
  {
   "cell_type": "markdown",
   "metadata": {},
   "source": [
    "The above is quite a complicated piece of code. It is therefore important to understand what exactly is going on. Answer the below questions to help you gain a better understanding - make sure to note the answers down in your Computing Notebook.\n",
    "\n",
    "<div style=\"background-color: #00FF00\">\n",
    "    \n",
    "**Exercise 6: To understand what exactly is returned by the function <span style=\"color:blue\">polyfit()</span>, find out the data types of <span style=\"color:blue\">fit_Al</span> and <span style=\"color:blue\">cov_Al.</span>**\n",
    "\n",
    "**Next, to check what the command <span style=\"color:blue\">pAl(T)</span>  does, plot the linear fit with crosses as symbols, rather than a line. In order to do this, edit the following line in the code cell above:**\n",
    "```python\n",
    "plt.plot(T,pAl(T))\n",
    "```\n",
    "**Use the <span style=\"color:blue\">pAl()</span> command to calculate the predicted value of the Resistivity at 250 K and 400 K. Check that your answer is sensible by inspecting the above plot of the fit together with the data.**\n",
    "\n",
    "**Now explain the <span style=\"color:blue\">pAl(T)</span> command to a neighbour and/or a demonstrator.**"
   ]
  },
  {
   "cell_type": "code",
   "execution_count": null,
   "metadata": {},
   "outputs": [],
   "source": []
  },
  {
   "cell_type": "markdown",
   "metadata": {},
   "source": [
    "<div style=\"background-color: #00FF00\">\n",
    "    \n",
    "**Exercise 7: now we have created and plotted the linear fit to the Aluminium resistivity data, can you do the same for the Copper resistivity data? Your final output should be a scatter plot of the data including error bars and both linear fits.**"
   ]
  },
  {
   "cell_type": "code",
   "execution_count": null,
   "metadata": {},
   "outputs": [],
   "source": []
  },
  {
   "cell_type": "markdown",
   "metadata": {},
   "source": [
    "### Practical example\n",
    "\n",
    "Let's consider an experiment where the resistance of a pair of identical resistors is to be found. In this experiment, a measurement is made of the voltage difference across the two resistors and the current running through them is also measured. The resistance of each resistor can be described by the equation:<p>\n",
    "$$R= \\frac{1}{2}\\frac{V_1 −V_2}{I}$$,<p>\n",
    "where $V_1$ and $V_2$ are the voltages at the two ends of the resistors and $I$ is the current through them.\n",
    "\n",
    "Consider two approaches to finding the value of $R$:\n",
    "\n",
    "1. We take one measurement of each of $V_1$, $V_2$ and $I$ and accept the equipment manufacturer’s error estimates giving the following values: $V_1 = 6.9 \\pm 0.5 \\rm\\, V$, $V_2 = 0.7 \\pm 0.1 \\rm \\,V$ and $I = 0.43 \\pm 0.03\\rm\\, A$. Find a value for $R$ and its error $\\sigma_R$ using the appropriate methods for combining errors. <p>\n",
    "\n",
    "2. We take a series of measurements of $V_1$, $V_2$ and $I$ with results as given in [Resistors.csv](https://cclewley.github.io/ComputingYr1/Data2/Resistors.csv). Plot $(V_1 − V_2)$ against $I$ and use a linear fit to find $R$ and $\\sigma_R$.\n",
    "\n",
    "<div style=\"background-color: #00FF00\">\n",
    "    \n",
    "**Exercise 8: use both methods to calculate the resistance $R$ and its associated error with Python. Do the two approaches give the same results?**"
   ]
  },
  {
   "cell_type": "code",
   "execution_count": null,
   "metadata": {},
   "outputs": [],
   "source": []
  },
  {
   "cell_type": "markdown",
   "metadata": {},
   "source": [
    "<div style=\"background-color: #FFF8C6\">\n",
    "    \n",
    "## 5. Optional: other fitting models Speak about this<a id=\"nonlinear\"></a>\n",
    "### Higher-order polynomial fits\n",
    "So far we have only considered fitting straight lines to a dataset. More complex relationships might require the relationship to be represented by e.g. a higher-order polynomial or an exponential function. In the following exercise we will try to fit a second-order polynomial to the atmospheric CO$_2$ concentration, which can be found in \"CO2_data.csv\" (in the 'Data' folder).\n",
    "\n",
    "**Exercise: read in the CO$_2$ data set and plot it.** "
   ]
  },
  {
   "cell_type": "code",
   "execution_count": null,
   "metadata": {},
   "outputs": [],
   "source": []
  },
  {
   "cell_type": "markdown",
   "metadata": {},
   "source": [
    "<div style=\"background-color: #FFF8C6\">\n",
    "The CO$_2$ concentration varies periodically; this is caused by the change in uptake of CO$_2$ by vegetation during the seasons. However, there is also a year-on-year increase in the CO$_2$ concentration. \n",
    "\n",
    "\n",
    "**Exercise: fit the trend with a straight line, and overplot the result.**"
   ]
  },
  {
   "cell_type": "code",
   "execution_count": null,
   "metadata": {},
   "outputs": [],
   "source": []
  },
  {
   "cell_type": "markdown",
   "metadata": {},
   "source": [
    "<div style=\"background-color: #FFF8C6\">\n",
    "It doesn't look like a straight line is the appropriate fit to the trend. This is even more clearly seen when a residuals plot is created, which shows the data minus the fit. \n",
    "\n",
    "**Exercise: below, subtract the fitted values from the measured data points and show the residuals plot. Important note: store your residuals in a variable called 'residuals', for further use later on.**"
   ]
  },
  {
   "cell_type": "code",
   "execution_count": null,
   "metadata": {},
   "outputs": [],
   "source": []
  },
  {
   "cell_type": "markdown",
   "metadata": {},
   "source": [
    "<div style=\"background-color: #FFF8C6\">\n",
    "This shows there is clearly further structure in the trend. We can use the <span style=\"color:blue\">polyfit()</span> function to fit a second order polynomial to the CO$_2$ concentration data. This will give a fit of the form:\n",
    "\n",
    "$$ f(x) = P[2] + P[1] x + P[0] x^2. $$\n",
    "\n",
    "Here $P[0]$, $P[1]$, and $P[2]$ are the fit parameters. A third order fit would give:\n",
    "\n",
    "$$ f(x) = P[3] + P[2] x + P[1] x^2 + p[0] x^3. $$\n",
    "\n",
    "The <span style=\"color:blue\">polyfit()</span> function can create arbitrarily high orders of polynomial fits; however it is best to use the lowest order of polynomial that gives a good fit in order to avoid 'overfitting'.\n",
    "\n",
    "**Exercise: fit a polynomial of a higher order to the data and recreate your data plot with the fit overplotted. Also recreate the residual plot. Which order of polynomial would you pick to fit the trend?**"
   ]
  },
  {
   "cell_type": "code",
   "execution_count": null,
   "metadata": {},
   "outputs": [],
   "source": []
  },
  {
   "cell_type": "markdown",
   "metadata": {},
   "source": [
    "<div style=\"background-color: #FFF8C6\">\n",
    "    \n",
    "### Non-linear fits\n",
    "\n",
    "If you plot your residuals as a line plot, you can see the periodic variability in the data. To test whether this really is a yearly cycle, we are going to fit a sine function to the residuals, of the form:\n",
    "\n",
    "$$ f(t) = A\\sin\\Big({\\frac{2\\pi}{T}t+\\phi}\\Big) $$\n",
    "\n",
    "Here $A$ is the amplitude, $T$ is the period, $t$ is time, and $\\phi$ is the phase offset of the sine function. This is an example of a non-linear function because one of the coefficients, in this case $T$, is within the sine function (see the Advanced worksheet for a full definition of linear vs non-linear functions). \n",
    "\n",
    "There is no pre-built routine that fits a sine function; instead we have to use the generic <span style=\"color:blue\">curve_fit()</span> function which is in the scipy.optimize package. The <span style=\"color:blue\">curve_fit()</span> function allows us to define our own fit function. Below is the example code to create our sine function fit. Carefully read through the code before running it; note how the fit function is defined in a function that we have called <span style=\"color:blue\">my_sin</span>, and we have to specify an initial guess for the fit parameters. We do this because the fit is non-linear; all non-linear fits have to be done via iteration, where an initial guess is refined until it convergences onto an answer."
   ]
  },
  {
   "cell_type": "code",
   "execution_count": null,
   "metadata": {},
   "outputs": [],
   "source": [
    "from scipy.optimize import curve_fit# Import the function curve_fit from the optimize package in Scipy\n",
    "\n",
    "year,CO2=np.loadtxt('Data/CO2_data.csv',skiprows=2, delimiter=',',unpack=True)# Load the data\n",
    "\n",
    "# This is the function we want to fit - you will learn how to create a function from scratch in the next session.\n",
    "def my_sin(t, period, amplitude, phase):\n",
    "    return amplitude*np.sin(t * 2*np.pi/period + phase)\n",
    "\n",
    "# Our initial guess for the parameters\n",
    "guess_period = 1# Period in years\n",
    "guess_amplitude = 2\n",
    "guess_phase = np.pi\n",
    "\n",
    "p0=[guess_period, guess_amplitude, guess_phase]# Array of initial parameter values\n",
    "\n",
    "# now do the fit\n",
    "# curve_fit arguments: \n",
    "# 1. the name of the function to fit (my_sin)\n",
    "# 2. the independent function values (year)\n",
    "# 3. the dependent function values to be fitted \n",
    "#    (note that here we are fitting to the data stored in a variable named 'residuals' which you evaluated earlier)\n",
    "# 4. an array with the initial parameter values (p0 = p0)\n",
    "fit = curve_fit(my_sin, year, residuals, p0=p0)\n",
    "# The fit variable contains the optimized parameters as its first element, and the covariance matrix as its second element.\n",
    "print('The fit parameters are: ',fit[0])\n",
    "\n",
    "# recreate the fitted curve using the optimized parameters\n",
    "# The *fit[0] notation 'unpacks' the first element of the fit. It is the same as saying: \n",
    "# fit[0][0], fit[0][1], fit[0][2] (each of which contains one of the optimized variables)\n",
    "data_fit = my_sin(year, *fit[0])\n",
    "\n",
    "# Create a plot of the fit with the residuals overlaid.\n",
    "plt.xlabel('Year')\n",
    "plt.ylabel('Residuals')\n",
    "plt.plot(year,data_fit)\n",
    "plt.plot(year,residuals)\n",
    "plt.show()\n"
   ]
  },
  {
   "cell_type": "markdown",
   "metadata": {},
   "source": [
    "<div style=\"background-color: #FFF8C6\">\n",
    "You can see that the peaks and troughs in the residuals are well matched by the fit (although our fit has a fixed amplitude whereas the residuals clearly are more variable). If you pay attention to the printed fit parameters, you will see that the fitted period is very close to 1, i.e. there is indeed a yearly cycle in the data. Our initial guess of a period of 1 year was very good, which allowed the fitting routine to find the optimized parameters rapidly and accurately. It is very important to have good starting values, otherwise the fit might make no sense at all. You often only notice this when you actually plot the fit on top of the data! \n",
    "<p>\n",
    "    \n",
    "**Exercise: our particular fit function is extremely sensitive to the starting value of the period: try and change the initial guess for the period in the code above and see what happens. What happens when you change the starting guess for the other fit parameters?**\n",
    "<p>\n",
    "We have now fitted the CO$_2$ concentration data with a sine function to represent the yearly variability and a polynomial to represent the overall trend. The two fits added together are our best fit for the data as a whole. \n",
    "<p>\n",
    "    \n",
    "**Exercise: plot a graph of the full CO$_2$ concentration data with the total fit overlaid.**"
   ]
  },
  {
   "cell_type": "code",
   "execution_count": null,
   "metadata": {},
   "outputs": [],
   "source": []
  },
  {
   "cell_type": "markdown",
   "metadata": {},
   "source": [
    "<div style=\"background-color: #FFF8C6\">\n",
    "Normally when we try and fit a function, we first decide what kind of function makes physical sense. When you expect a linear relationship, it is sensible to fit a straight line. In the data above however, we fitted a polynomial of arbitrary order to the trend, without a theoretical reason for it. In the case of the atmospheric CO$_2$ concentration, it is more common to fit an exponential curve (a good fit would then indicate \"exponential growth\"). \n",
    "<p>\n",
    "    \n",
    "**Exercise: create an exponential fit to the trend by using the <span style=\"color:blue\">curve_fit()</span> function. To do this, first copy the <span style=\"color:blue\">my_sin</span> function from the code cell above, change its name to <span style=\"color:blue\">my_exp</span> and alter it to return a function of the form:**\n",
    "\n",
    "$$f(t) = P[2] + P[1]e^{P[0]t}$$\n",
    "\n",
    "**Here $P[0]$, $P[1]$, and $P[2]$ are the fit parameters, and $t$ is the time in years. Make sure your <span style=\"color:blue\">curve_fit()</span> function calls your new <span style=\"color:blue\">my_exp</span> function instead of <span style=\"color:blue\">my_sin</span>!**\n",
    "\n",
    "Hint: subtract the starting year from your time array so that it starts at 1 instead of around 1960. Also, as you have seen when we tried to fit a sine function, the initial guess of the fit is very important. To make an educated guess of the initial parameters, first plot the data and your guess by hand so you can choose an offset and exponent that are at least of the right order of magnitude."
   ]
  },
  {
   "cell_type": "code",
   "execution_count": null,
   "metadata": {},
   "outputs": [],
   "source": []
  },
  {
   "cell_type": "markdown",
   "metadata": {},
   "source": [
    "## Index of Session 3\n",
    "\n",
    "1. Intended learning outcomes\n",
    "2. General coding practices\n",
    "3. Functions\n",
    "4. For loops\n",
    "5. Mathematical inequalities and Boolean logic\n",
    "6. If statements\n",
    "7. While loops\n",
    "8. Further examples"
   ]
  },
  {
   "cell_type": "markdown",
   "metadata": {},
   "source": [
    "## 2. The Spyder IDE environment<a id=\"spyder\"></a>"
   ]
  },
  {
   "cell_type": "markdown",
   "metadata": {},
   "source": [
    "Previously, all the coding was carried out within the Jupyter Notebook environment. Notebooks are useful when executing small blocks of code for quick analysis, and using them as a record of results is highly recommended. However a common method of handling larger coding projects is through using an Integrated Development Environment, or an IDE. An IDE provides a platform with which to develop and execute code, similar to Jupyter Notebooks. \n",
    "\n",
    "For using Python, Anaconda comes with its own IDE application, known as Spyder."
   ]
  },
  {
   "cell_type": "markdown",
   "metadata": {},
   "source": [
    "## 4. Functions <a id=\"functions\"></a>"
   ]
  },
  {
   "cell_type": "markdown",
   "metadata": {},
   "source": [
    "Functions are fundamental in producing a program and are where you will spend most of your time when coding in Python. Functions are pieces of code that accept one or more inputs and return an output. Some functions that you have already encountered include the trigonometric functions such as <span style=\"color:blue\">cos(x)</span> or the functions you had to create when using <span style=\"color:blue\">curve_fit</span>. \n",
    "\n",
    "When you create a new function in Python, it should be laid out like this:"
   ]
  },
  {
   "cell_type": "markdown",
   "metadata": {
    "collapsed": true
   },
   "source": [
    "```python\n",
    "def function_name(input_arguments):\n",
    "    \"Your code here\"\n",
    "    return [expression] \n",
    "    ```"
   ]
  },
  {
   "cell_type": "markdown",
   "metadata": {},
   "source": [
    "The first line defines the function: it specifies the name and the input parameters the function will accept. Below that is any number of lines of code that 'do the work' of the function. The final line is the return statement: if your function needs to return information to the main program, these will be entered here after the <span style=\"color:green\">**return**</span>.\n",
    "\n",
    "Two important things of note when writing a function are the indentation of code that follows the <span style=\"color:blue\">def</span> keyword and the colon at the end of the def statement. A common mistake of first-time programmers are to forget these key features. Code written without indentations will not be part of the function. \n",
    "\n",
    "An example function is shown below:"
   ]
  },
  {
   "cell_type": "code",
   "execution_count": 1,
   "metadata": {},
   "outputs": [
    {
     "name": "stdout",
     "output_type": "stream",
     "text": [
      "4\n",
      "42.25\n",
      "234.09000000000003\n"
     ]
    }
   ],
   "source": [
    "# An example function, that takes two inputs variables x, y, adds them together and then\n",
    "# squares their sum. \n",
    "# Different ways the function can be called and how arguements are passed to it are shown.\n",
    "\n",
    "# Define the function here:\n",
    "def square_two_numbers(x,y):\n",
    "    z=(x+y)**2 # This is the arithmetic calculation\n",
    "    return z # The value of z is returned to the main program\n",
    "\n",
    "# Below this is the main program.\n",
    "\n",
    "# One way of calling the function is with two integers.\n",
    "# Note: the result of the function (i.e. the value of z) is stored in the variable result_ints.\n",
    "result_ints=square_two_numbers(1,1) \n",
    "print(result_ints)\n",
    "\n",
    "# Now we call the function with two floats. \n",
    "result_floats=square_two_numbers(4.2,2.3)\n",
    "print(result_floats)\n",
    "\n",
    "# This time we create two variables, one a float and the other an integer.\n",
    "num1=5.3\n",
    "num2=10\n",
    "# We call the function using the variables we created, instead of using literals. \n",
    "result_mixed=square_two_numbers(num1,num2)\n",
    "print(result_mixed)\n"
   ]
  },
  {
   "cell_type": "markdown",
   "metadata": {},
   "source": [
    "Notice that although the function was defined using input variables x and y, you can put any variables or numerical data types within this function and it will perform the same operation. Pay particular attention to the variable types of the result when we call the function with integers, floats, or mixed variable types! \n",
    "\n",
    "We could have have also chosen any name for this function, <span style=\"color:blue\">square_two_numbers</span> is not a special name. \n",
    "<p>\n",
    "<div style=\"background-color: #00FF00\">\n",
    "\n",
    "**Exercise 1: copy the above function into the Spyder script environment, change the name of the function and execute it for different inputs. Is there any limitation as to what variables you can pass to the function?** \n",
    "\n",
    "**Remember to also change the name of the function when calling it!**"
   ]
  },
  {
   "cell_type": "markdown",
   "metadata": {},
   "source": [
    "Now that we have seen how functions work, let's start creating our own! Remember to use the Spyder IDE for these exercises (creating new code blocks for each exercise)."
   ]
  },
  {
   "cell_type": "markdown",
   "metadata": {},
   "source": [
    "<div style=\"background-color: #00FF00\">\n",
    "\n",
    "**Exercise 2: Newton's Law of Gravitation states that the force, $F$, felt between two objects is proportional to their masses, $m_1, m_2 $, and inversely proportional to the square of their displacement, $r$. In 1D, the magnitude of this force is written as (replacing r with $x_2 - x_1$):**\n",
    "\n",
    "$$F=\\frac{Gm_1m_2}{(x_2 - x_1)^2}$$\n",
    "\n",
    "**Where $G=6.67x10^{-11}m^{3}kg^{-1}s^{-2}$ is the gravitational constant. Write a function that calculates and returns the force felt by masses of 1kg at arbitrary positions (i.e. $x_1$ and $x_2$ should be your input parameters). Remember to think about code layout with regards to constants, and in particular what type of variables (integers or floats) everything should be. Try this for different distances. What happens if the masses are in the same position? We will return to this later.**\n",
    "\n",
    "**Hint: You might want to change the value of $m_1$ or $m_2$, therefore these should be variables that are passed to the function.**\n",
    " \n"
   ]
  },
  {
   "cell_type": "markdown",
   "metadata": {},
   "source": [
    "<div style=\"background-color: #FFF8C6\"> \n",
    "    \n",
    "#### Optional Keywords \n",
    "\n",
    "Functions in Python can be created with default arguments; this means that unless specified they will assume a value that is set in the function definition itself.In this case, the function would look like:\n",
    "\n",
    "```python\n",
    "def add_two_number(x,y=5):\n",
    "    z=x+y\n",
    "    return z\n",
    "```\n",
    "Copy this function into Spyder, and run it with one and two inputs. With this is mind, try the following:\n",
    " "
   ]
  },
  {
   "cell_type": "markdown",
   "metadata": {},
   "source": [
    "## 5. For loops <a id=\"forloops\"></a>\n",
    "\n",
    "When writing programs, it is often required to repeat a code block multiple times within the execution of your Python script. The <span style=\"color:blue\">for</span> loop allows you to execute the same line of code a fixed number of times, and is laid out like this:"
   ]
  },
  {
   "cell_type": "markdown",
   "metadata": {
    "collapsed": true
   },
   "source": [
    "```python\n",
    "for [variable] in [range of variables]:\n",
    "    [Execute code]\n",
    "    ```"
   ]
  },
  {
   "cell_type": "markdown",
   "metadata": {},
   "source": [
    "Notice the similarities in layout between a <span style=\"color:blue\">for</span> loop and the functions we saw earlier, with the indents and the colon. Since we execute the for loop within the main body of code, there is no need for a return statement to return any results. The same rule for indents applies to loops as to functions: any code not indented is not part of the loop. Below you will find a simple example of a <span style=\"color:blue\">for</span> loop:"
   ]
  },
  {
   "cell_type": "code",
   "execution_count": 128,
   "metadata": {},
   "outputs": [
    {
     "name": "stdout",
     "output_type": "stream",
     "text": [
      "Hello World\n",
      "Hello World\n",
      "Hello World\n",
      "Hello World\n",
      "Hello World\n"
     ]
    }
   ],
   "source": [
    "for i in range(0,5):\n",
    "    print(\"Hello World\")"
   ]
  },
  {
   "cell_type": "markdown",
   "metadata": {},
   "source": [
    "In practical applications involving a <span style=\"color:blue\">for</span> loop, you may be operating over an array of values. To accommodate this, Python allows multiple ways to interface <span style=\"color:blue\">for</span> loops with arrays in the following manner:"
   ]
  },
  {
   "cell_type": "code",
   "execution_count": 5,
   "metadata": {},
   "outputs": [
    {
     "name": "stdout",
     "output_type": "stream",
     "text": [
      "One\n",
      "Two\n",
      "Three\n",
      "Four\n",
      "Five\n",
      "\n",
      "One\n",
      "Two\n",
      "Three\n",
      "Four\n",
      "Five\n"
     ]
    }
   ],
   "source": [
    "y=['One','Two','Three','Four','Five']\n",
    "\n",
    "#This for loop loops over the indices of elements of array y\n",
    "for i in range(0,5):\n",
    "    print (y[i])\n",
    "\n",
    "print ('') #Whitespace to separate code executions\n",
    "\n",
    "#This for loop queries array y directly\n",
    "for x in y:\n",
    "    print(x)\n"
   ]
  },
  {
   "cell_type": "markdown",
   "metadata": {},
   "source": [
    "In the first example we iterate over indices and then assign those indices to the array we want. Here i is a counter that starts off with value 0 and finishes at value 4, as defined by the range(0,5) command. The counter can then be used to specify which element of the array should be printed.\n",
    "\n",
    "In the second example we query the array directly. This means that x takes the value of each element of array y in turn.\n",
    "\n",
    "You should recognise that the square brackets are used both when creating the y array and when calling an index of y. \n",
    "\n",
    "Loops can also be nested one inside another as follows:"
   ]
  },
  {
   "cell_type": "code",
   "execution_count": 130,
   "metadata": {},
   "outputs": [
    {
     "name": "stdout",
     "output_type": "stream",
     "text": [
      "i index = 0 j index = 0\n",
      "i index = 0 j index = 1\n",
      "i index = 1 j index = 0\n",
      "i index = 1 j index = 1\n"
     ]
    }
   ],
   "source": [
    "for i in range(0,2):\n",
    "    for j in range(0,2):\n",
    "        print(\"i index =\",i,\"j index =\",j,)"
   ]
  },
  {
   "cell_type": "markdown",
   "metadata": {},
   "source": [
    "Attempt the following examples:\n",
    "<p>\n",
    "<div style=\"background-color: #00FF00\">\n",
    "\n",
    "**Exercise 4: the following array contains the names of the Fellowship of the Ring:**\n",
    "```python\n",
    "Fellowship=[\"Gandalf\",\"Aragorn\",\"Boromir\",\"Legolas\",\"Gimli\",\"Merry\",\"Pippin\",\"Samwise\",\"Frodo\"]\n",
    "```\n",
    "**Write a for loop that greets each member with the following message:**\n",
    "```python\n",
    "Hello [Name], welcome to the Fellowship of the Ring!\n",
    "```\n",
    "**Note: you can query the array itself directly or access the array using its index.**"
   ]
  },
  {
   "cell_type": "markdown",
   "metadata": {},
   "source": [
    "Now onto a numerical example:"
   ]
  },
  {
   "cell_type": "markdown",
   "metadata": {},
   "source": [
    "<div style=\"background-color: #FFF8C6\"> \n",
    "\n",
    "#### Enumerate\n",
    "When writing a for loop, you can access the elements of a list directly or using an index. There are situations when you want to do both. To accomplish this, Python has the enumerate keyword, which is included in a for loop as:\n",
    "\n",
    "```python\n",
    "for number,value in enumerate(list):\n",
    "    ---Write some code---\n",
    "```\n",
    "\n",
    "**Exercise: modify exercise 4 to print the following:**\n",
    "\n",
    "```python\n",
    "Hello [value], you are Fellowship member number [number]!\n",
    "```\n",
    "\n",
    "**Where 'value' is the name in the Fellowship list.**"
   ]
  },
  {
   "cell_type": "code",
   "execution_count": null,
   "metadata": {},
   "outputs": [],
   "source": []
  },
  {
   "cell_type": "markdown",
   "metadata": {},
   "source": [
    "## 6. Mathematical inequalities and Boolean logic<a id=\"inequalities\"></a>\n",
    "\n",
    "In the sections to follow, we will develop the methodology to execute code only if a certain criterion is met. This criterion is given as a condition which is either <span style=\"color:red\">TRUE</span> or <span style=\"color:red\">FALSE</span>. These <span style=\"color:red\">TRUE</span> or <span style=\"color:red\">FALSE</span> outcomes will usually be formed by comparing two quantities; this is done through mathematical inequalities. The types of mathematical inequality operators are:\n",
    "\n",
    "- ==      equal to\n",
    "- <       less then\n",
    "- \\>      greater than\n",
    "- <=      less than or equal to\n",
    "- \\>=      greater than or equal to\n",
    "- !=       not equal to"
   ]
  },
  {
   "cell_type": "markdown",
   "metadata": {},
   "source": [
    "Inequality statements are therefore formed by comparing quantities with these operators, such as:\n",
    "\n",
    "<span style=\"color:blue\">1 == 1</span>\n",
    "\n",
    "<span style=\"color:blue\">5 < 3</span>\n",
    "\n",
    "<span style=\"color:blue\">2 != 2</span>\n",
    "\n",
    "<div style=\"background-color: #00FF00\">\n",
    "    \n",
    "**Try each of these inequality operators.**\n",
    "\n"
   ]
  },
  {
   "cell_type": "code",
   "execution_count": null,
   "metadata": {},
   "outputs": [],
   "source": []
  },
  {
   "cell_type": "markdown",
   "metadata": {},
   "source": [
    "Try assigning them to variables and look at their type in the variable explorer window; these type of variables are known as <span style=\"color:blue\">Boolean</span> variables and are a critical part of program flow. Boolean operators can be formed out of more than one comparison of values if a more complex situation needs to be evaluated. This is done by using the boolean operators\n",
    "\n",
    "- <span style=\"color:blue\">and</span>\n",
    "- <span style=\"color:blue\">or</span>\n",
    "- <span style=\"color:blue\">not</span>"
   ]
  },
  {
   "cell_type": "markdown",
   "metadata": {},
   "source": [
    "An example of this would be:\n",
    "\n",
    "<span style=\"color:blue\">2 < 3 and 5 > 3</span>\n",
    "\n",
    "<span style=\"color:blue\">20 == 20 or 20 <= 25</span> \n",
    "\n",
    "Although these examples were done for numbers directly, they are exactly the same when comparing variable values. Try out more complex mathematical inequality statements. The <span style=\"color:blue\">not</span> command word is unique in that it reverses the condition that is to be satisfied, for example the following two are equivalent:\n",
    "\n",
    "- <span style=\"color:blue\">not 5 == 3 </span>  and <span style=\"color:blue\">5 !=3</span>\n",
    "\n",
    "<span style=\"color:red\">**IMPORTANT NOTE**</span>\n",
    "\n",
    "One very important point of note is the difference between = and ==. This is a very common error first-time programmers make and is frequently the reason why codes do not work as intended. The first usage is merely a way to set a variable equal to a value, whereas the second usage compares two variables in a Boolean manner.\n",
    "\n"
   ]
  },
  {
   "cell_type": "code",
   "execution_count": null,
   "metadata": {},
   "outputs": [],
   "source": []
  },
  {
   "cell_type": "markdown",
   "metadata": {},
   "source": [
    "## 7. If statements<a id=\"ifstatements\"></a>\n",
    "\n",
    "In the mathematical inequalities section seen above, you can form Boolean variables by comparing the values of numerical variables. These become useful when combined with a conditional clause to modify the behaviour of the code: the <span style=\"color:blue\">if</span> statement. An <span style=\"color:blue\">if</span> statement will only trigger when the argument it is evaluating returns <span style=\"color:red\">TRUE</span> (or <span style=\"color:red\">FALSE</span> if accompanied with a <span style=\"color:blue\">not</span> statement) and is written in a similar fashion to a <span style=\"color:blue\">for</span> loop:"
   ]
  },
  {
   "cell_type": "markdown",
   "metadata": {
    "collapsed": true
   },
   "source": [
    "```python \n",
    "if [STATEMENT RETURNS TRUE]:\n",
    "    Execute code\n",
    "    ```"
   ]
  },
  {
   "cell_type": "markdown",
   "metadata": {},
   "source": [
    "A simple example of an <span style=\"color:blue\">if</span> statement would look like:"
   ]
  },
  {
   "cell_type": "code",
   "execution_count": 134,
   "metadata": {},
   "outputs": [
    {
     "name": "stdout",
     "output_type": "stream",
     "text": [
      "5 is greater than 3\n"
     ]
    }
   ],
   "source": [
    "x=5\n",
    "if x > 3:\n",
    "    print(x, \"is greater than 3\")"
   ]
  },
  {
   "cell_type": "markdown",
   "metadata": {},
   "source": [
    "Just like with <span style=\"color:blue\">for</span> loop, functions can be included as part of an <span style=\"color:blue\">if</span> statement.\n",
    "\n",
    "Related to the <span style=\"color:blue\">if</span> statements are the <span style=\"color:blue\">else</span> and <span style=\"color:blue\">elif</span> (short for else if) statements. These extend the original <span style=\"color:blue\">if</span> statement to return different results depending on whether the boolean being evaluated returns <span style=\"color:red\">TRUE</span> or <span style=\"color:red\">FALSE</span>. An extension of the above code to include these extra statements would be:"
   ]
  },
  {
   "cell_type": "code",
   "execution_count": null,
   "metadata": {},
   "outputs": [],
   "source": [
    "x=5\n",
    "if x > 3:\n",
    "    print(x, \"is greater than 3\")\n",
    "elif x < 3:\n",
    "    print(x, \"is less than 3\")\n",
    "else:\n",
    "    print(x, \"is equal to 3\")"
   ]
  },
  {
   "cell_type": "markdown",
   "metadata": {},
   "source": [
    "<div style=\"background-color: #00FF00\">\n",
    "    \n",
    "**Execute the above code for different values of x.** "
   ]
  },
  {
   "cell_type": "code",
   "execution_count": null,
   "metadata": {},
   "outputs": [],
   "source": []
  },
  {
   "cell_type": "markdown",
   "metadata": {},
   "source": [
    "\n",
    "Notice that the <span style=\"color:blue\">elif</span> statement requires an additional expression to evaluate whereas the <span style=\"color:blue\">else</span> statement does not. In the above we could have used the expressions <span style=\"color:blue\">elif x == 3</span>. It would then be good practice to use the <span style=\"color:blue\">else</span> statement for any other possibility we might not have thought of (e.g., what if x is a string instead of an integer?). These set of expressions can be powerful modifiers in the behaviour and flow of a code. Just as <span style=\"color:blue\">if</span> statements can be used in a block of standalone code, they can just as easily be integrated into functions and <span style=\"color:blue\">for</span> loops."
   ]
  },
  {
   "cell_type": "markdown",
   "metadata": {},
   "source": [
    "\n",
    "<div style=\"background-color: #00FF00\">\n",
    "    \n",
    "**Exercise 6: the array from exercise 4 is extended to include other characters from the Lord of the Rings franchise. together with a 'yes' or 'no' indicating whether the character is part of the fellowship:**\n",
    "\n",
    "```python\n",
    "Fellowship=[[\"Gandalf\",\"Yes\"],[\"Theoden\",\"No\"],[\"Aragorn\",\"Yes\"],[\"Boromir\",\"Yes\"],[\"Galadriel\",\"No\"],[\"Arwen\",\"No\"],[\"Legolas\",\"Yes\"],[\"Gimli\",\"Yes\"],[\"Merry\",\"Yes\"],[\"Pippin\",\"Yes\"],[\"Samwise\",\"Yes\"],[\"Frodo\",\"Yes\"]]\n",
    "```\n",
    "\n",
    "**Once again use the for loop to print the hello statement as in exercise 4 for all characters that are part of the fellowship. For those that are *not* part of the fellowship, print the following statement for members not part of the fellowship:**\n",
    "\n",
    "```python\n",
    "Sorry [Member], you are not part of the fellowship. Have a good day.\n",
    "```\n",
    "**Note that in order to do this you will need to include an if statement in your for loop.**"
   ]
  },
  {
   "cell_type": "markdown",
   "metadata": {},
   "source": [
    "Below are further exercises to practise for loops and if statements, together with the use of random number generators. Attempt these if you would like more practice."
   ]
  },
  {
   "cell_type": "markdown",
   "metadata": {},
   "source": [
    "<div style=\"background-color: #FFF8C6\">\n",
    "    \n",
    "**Exercise: the flip of a coin can have two results: heads or tails. If the coin was fair, then you would expect an equal number of heads and tails to appear over a large sample size. Test out whether or not a computer makes a fair coin tosser by writing a code block that flips a coin 10000 times.**\n",
    "\n",
    "**Hint: Assign heads a value of 1 and tails a value of 0. Then use the np.random.randint(2) function to get either a 0 or a 1 randomly**"
   ]
  },
  {
   "cell_type": "code",
   "execution_count": null,
   "metadata": {},
   "outputs": [],
   "source": []
  },
  {
   "cell_type": "markdown",
   "metadata": {},
   "source": [
    "<div style=\"background-color: #FFF8C6\">\n",
    "\n",
    "**Exercise: write a function that compares your input to the roll of a six-sided dice, containing the integers 1-6, and tells you whether or not you guessed correctly.**\n",
    "\n",
    "**Hint: Use the np.random.randint(1,7) function to generate the integers 1-6 randomly**"
   ]
  },
  {
   "cell_type": "code",
   "execution_count": null,
   "metadata": {},
   "outputs": [],
   "source": []
  },
  {
   "cell_type": "markdown",
   "metadata": {},
   "source": [
    "<div style=\"background-color: #FFF8C6\"> \n",
    "\n",
    "**Exercise: generate a 2D array of random integers between 1 - 3 using the command:**\n",
    "\n",
    "```python\n",
    "np.random.randint(1,4,size=[n,m])\n",
    "```\n",
    "**Here n and m are the dimensions of the array. Write a code block that will loop over this 2D array and count the number of distinct integers it contains. Separately, produce a histogram of the distribution of the numbers in the 2D array. What are some checks that can be included to ensure every value has been counted (are the number of counts in your histogram equal to the number of elements in your array)?**"
   ]
  },
  {
   "cell_type": "code",
   "execution_count": null,
   "metadata": {},
   "outputs": [],
   "source": []
  },
  {
   "cell_type": "markdown",
   "metadata": {},
   "source": [
    "<div style=\"background-color: #FFF8C6\"> \n",
    "    \n",
    "**Exercise: the Rydberg formula, which gives the wavelength of an atom's spectral lines is given as:**\n",
    "\n",
    "$$\\frac{1}{\\lambda}=R_{D}\\big(\\frac{1}{n_{1}^2}-\\frac{1}{n_{2}^2})$$\n",
    "\n",
    "**Where $\\lambda$ is the wavelength, $R_{D}=1.097$ x $10^7\\rm\\,m^{-1}$ is the Rydberg constant and $n_{1} < n_{2}$ are the integer energy levels that exist within an atom. Using the formula, calculate the wavelength of the first 5 transitions to the ground state of the atom (i.e. $n_2 = 2 \\rightarrow n_{1}=1$, $n_2 = 3 \\rightarrow n_{1}=1$ etc, known as the Lyman series) and the first 4 transitions to the 1st excited state $n_{1}=2$ (i.e. $n_2 = 3 \\rightarrow n_{1}=2$, $n_2 = 4 \\rightarrow n_{1}=2$ etc, known as the Balmer series). For the ground state, what happens as $n_{2}\\rightarrow\\infty$?**"
   ]
  },
  {
   "cell_type": "code",
   "execution_count": null,
   "metadata": {},
   "outputs": [],
   "source": []
  },
  {
   "cell_type": "markdown",
   "metadata": {},
   "source": [
    "## 8. While loops<a id=\"whileloops\"></a>\n",
    "\n",
    "The final loop that will modify the flow of a code execution will be the <span style=\"color:blue\">while</span> loop. This will execute code as long as the prescribed condition returns <span style=\"color:red\">TRUE</span>. The <span style=\"color:blue\">while</span> loop follows the same nomenclature as the <span style=\"color:blue\">if</span> loop:"
   ]
  },
  {
   "cell_type": "markdown",
   "metadata": {},
   "source": [
    "```python\n",
    "while [STATEMENT RETURNS TRUE]:\n",
    "    Execute code\n",
    "    ```"
   ]
  },
  {
   "cell_type": "markdown",
   "metadata": {},
   "source": [
    "Two simple examples of this are below:"
   ]
  },
  {
   "cell_type": "code",
   "execution_count": null,
   "metadata": {},
   "outputs": [],
   "source": [
    "# Declare two variables\n",
    "x=1\n",
    "y=10\n",
    "# Start the while loop: compare the values of x and y\n",
    "while x < y:\n",
    "    print(x)# while x is smaller than y, print its value\n",
    "    x+=1# increment the value of x by 1 "
   ]
  },
  {
   "cell_type": "code",
   "execution_count": null,
   "metadata": {},
   "outputs": [],
   "source": [
    "x=6\n",
    "while x >= 0:\n",
    "    print(x)\n",
    "    x-=1"
   ]
  },
  {
   "cell_type": "markdown",
   "metadata": {},
   "source": [
    "Run the code blocks above for different values of x and y. Note that care must be taken when using a <span style=\"color:blue\">while</span> loop. There exists the possibility for your code to become locked if it is given a condition that can never be false. In the above example remove the x+=1 statement and rerun the code. You will need to stop running the cell, using the stop button, or by restarting the kernel.\n",
    "Unlike the <span style=\"color:blue\">if</span> statement, there are no additional keywords associated with the <span style=\"color:blue\">while</span> loop. "
   ]
  },
  {
   "cell_type": "markdown",
   "metadata": {},
   "source": [
    "Notice in the above example the command <span style=\"color:blue\">x+=1</span>. In Python this is a shorthand representation of <span style=\"color:blue\">x = x + 1</span>. The full list of like-minded shorthand commands are:\n",
    "\n",
    " - x+=dx is equivalent to x=x+dx\n",
    " - x-=dx is equivalent to x=x-dx\n",
    " - x\\*=dx is equivalent to x=x\\*dx\n",
    " - x/=dx is equivalent to x=x/dx\n",
    " \n",
    "This type of statement  may seem confusing to first-time programmers; how can x be equal to itself plus an additional amount? In a computer programme, the computer first evaluates the section of code on the right-hand side of the <span style=\"color:blue\">=</span> operator and then assigns it to the variable on the left-hand side. The fact that the same variable appears on both sides does not impact on its working."
   ]
  },
  {
   "cell_type": "markdown",
   "metadata": {},
   "source": [
    "With these tools at our disposal, we can use them to create more complicated functions."
   ]
  },
  {
   "cell_type": "markdown",
   "metadata": {},
   "source": [
    "<div style=\"background-color: #00FF00\">\n",
    "    \n",
    "**Exercise 7: create a function that calculates the factorial of a positive integer. The factorial function is defined as:** \n",
    "\n",
    " $$n!=n*(n-1)! $$\n",
    " \n",
    "**with the end conditions $1!=1$ and $0!=1$.**\n",
    "\n",
    "**Hint: Use a while loop with the condition that the integer n remains greater than 0.**"
   ]
  },
  {
   "cell_type": "code",
   "execution_count": null,
   "metadata": {},
   "outputs": [],
   "source": []
  },
  {
   "cell_type": "markdown",
   "metadata": {},
   "source": [
    "<div style=\"background-color: #FFF8C6\">\n",
    "    \n",
    "**Example: create a function that generates the first n fibonacci numbers. The fibonacci sequence is defined as:**\n",
    "\n",
    "$$f(n)=f(n-1)+f(n-2)$$\n",
    "\n",
    "**with the initial conditions $f(0)=0$ and $f(1)=1$.**\n",
    "\n",
    "**Hint: You will need if statements to catch special cases. What are they?**\n",
    "\n",
    "Think carefully of the input and how to handle any exceptions that may arise, for example what if a negative number is used? For a greater challenge, try and calculate the fibonnaci sequence via recursion, which means that a function is called from within the function itself."
   ]
  },
  {
   "cell_type": "code",
   "execution_count": null,
   "metadata": {},
   "outputs": [],
   "source": []
  },
  {
   "cell_type": "markdown",
   "metadata": {},
   "source": [
    "\n",
    "### Break and Continue Statements\n",
    "\n",
    "Sometimes when in a loop you may want to exit it prematurely. This is handled by using the <span style=\"color:blue\">break</span> statement. This exits the loop at that point and does not execute any further code that was indented with it. The cell below shows an example."
   ]
  },
  {
   "cell_type": "code",
   "execution_count": 10,
   "metadata": {},
   "outputs": [
    {
     "ename": "NameError",
     "evalue": "name 'np' is not defined",
     "output_type": "error",
     "traceback": [
      "\u001b[0;31m---------------------------------------------------------------------------\u001b[0m",
      "\u001b[0;31mNameError\u001b[0m                                 Traceback (most recent call last)",
      "Cell \u001b[0;32mIn[10], line 1\u001b[0m\n\u001b[0;32m----> 1\u001b[0m numbers\u001b[38;5;241m=\u001b[39m\u001b[43mnp\u001b[49m\u001b[38;5;241m.\u001b[39marray(np\u001b[38;5;241m.\u001b[39marange(\u001b[38;5;241m1\u001b[39m,\u001b[38;5;241m101\u001b[39m))\u001b[38;5;66;03m# create the array\u001b[39;00m\n\u001b[1;32m      3\u001b[0m cumulative\u001b[38;5;241m=\u001b[39m\u001b[38;5;241m0\u001b[39m\u001b[38;5;66;03m# This will be the cumulative value of the summed array\u001b[39;00m\n\u001b[1;32m      4\u001b[0m \u001b[38;5;28;01mfor\u001b[39;00m i \u001b[38;5;129;01min\u001b[39;00m np\u001b[38;5;241m.\u001b[39marange(\u001b[38;5;241m1\u001b[39m,\u001b[38;5;28mlen\u001b[39m(numbers)): \u001b[38;5;66;03m# start the for-loop\u001b[39;00m\n",
      "\u001b[0;31mNameError\u001b[0m: name 'np' is not defined"
     ]
    }
   ],
   "source": [
    "numbers=np.array(np.arange(1,101))# create the array\n",
    "\n",
    "cumulative=0# This will be the cumulative value of the summed array\n",
    "for i in np.arange(1,len(numbers)): # start the for-loop\n",
    "    cumulative+=numbers[i]# calculate the cumulative value so far\n",
    "    if(cumulative > 100): break # stop the for loop when the cumulative value exceeds 100\n",
    "\n",
    "print(i)# print the index\n"
   ]
  },
  {
   "cell_type": "markdown",
   "metadata": {},
   "source": [
    "As you can see when you run the code cell above, the cumulative value is reached very soon. This means the for loop does not unnecessarily run over the entire array, using excessive computing power. Note that the above example could have also been solved by using a while loop. This highlights there are multiple ways to achieve the same result when coding up problems, and the implementation depends on the problem at hand.\n",
    "\n",
    "The <span style=\"color:blue\">continue</span> statement serves a similar function to the break statement, in that when called whatever code is below in the loop is not executed. One major difference is that instead of breaking from the loop entirely, it returns to the top of loop and starts the next iteration.\n",
    "<div style=\"background-color: #00FF00\">\n",
    "    \n",
    "**Exercise 8: write a code block that uses a continue statement to only print the odd numbers from 1-30.**"
   ]
  },
  {
   "cell_type": "code",
   "execution_count": null,
   "metadata": {},
   "outputs": [],
   "source": []
  },
  {
   "cell_type": "markdown",
   "metadata": {},
   "source": [
    "<div style=\"background-color: #FFF8C6\"> \n",
    "    \n",
    "## 10. Further examples<a id=\"examples\"></a>\n",
    "\n",
    "Now that we are familiar with the basics of workflow in codes, the time has come to combine that knowledge towards building complete all-inclusive programs that accomplish a set task. These will incorporate aspects of all 3 sessions and will test your skills. \n",
    "\n",
    "**Exercise: imagine a circle of radius $r=1$ m enclosed within a square of length 2m such that the circle tangentially touches the square. The area of the circle is $\\pi r^2$ whereas the square has area $4r^2$. The ratio of these areas therefore give an estimate of $\\pi$. For $N_{\\rm tot}$ points evenly distributed within the square, $N_{\\rm inner}$ will fall within the circle, with the ratio of those quantities giving an approximation of the area and therefore pi:**\n",
    " \n",
    " $$\\frac{N_{\\rm inner}}{N_{\\rm tot}}=\\frac{\\pi}{4}$$\n",
    " \n",
    "**Write a program that will approximate $\\pi$ via this method.  How does the accuracy of your answer change as you increase the number of points? Represent this convergence graphically (i.e. plot your value of $\\pi$ as a function of $N_{\\rm tot}$).**\n"
   ]
  },
  {
   "cell_type": "code",
   "execution_count": null,
   "metadata": {},
   "outputs": [],
   "source": []
  },
  {
   "cell_type": "markdown",
   "metadata": {},
   "source": [
    "# Advanced Error Handling"
   ]
  },
  {
   "cell_type": "markdown",
   "metadata": {},
   "source": [
    "When using functions from the numpy, scipy and matplotlib libraries, if you use them improperly by using the wrong arguements or passing it the wrong data type, they would crash and raise an error, letting you know that something has gone wrong. All of the functions we have written do not have such a feature, and therefore may be used improperly without letting you know. The process of writing your function to be able to handle these types of errors is known an error handling or execption catching. There are 3 classes of errors that occur in python:\n",
    "\n",
    "- Syntax Error\n",
    "- Logic Error\n",
    "- Exceptions\n",
    "\n",
    "Syntax errors are the most basic errors and are the easist to detect. These occur when python cannot interpret a line of code, and are most likely down to human error. For example, run the following cell:"
   ]
  },
  {
   "cell_type": "code",
   "execution_count": 2,
   "metadata": {},
   "outputs": [
    {
     "ename": "SyntaxError",
     "evalue": "invalid syntax (<ipython-input-2-dcf3d76a4e10>, line 1)",
     "output_type": "error",
     "traceback": [
      "\u001b[0;36m  File \u001b[0;32m\"<ipython-input-2-dcf3d76a4e10>\"\u001b[0;36m, line \u001b[0;32m1\u001b[0m\n\u001b[0;31m    whille x >2:\u001b[0m\n\u001b[0m           ^\u001b[0m\n\u001b[0;31mSyntaxError\u001b[0m\u001b[0;31m:\u001b[0m invalid syntax\n"
     ]
    }
   ],
   "source": [
    "whille x >2:"
   ]
  },
  {
   "cell_type": "markdown",
   "metadata": {},
   "source": [
    "We have mispelled while, causing python to crash. Logic errors are when the program returns an erronous result owing to something unexpected happening in the code, which does not by itself create any explicit errors. These are the hardest to catch and will be covered later. For now we will focus on Exceptions, which occur when python encounters an error or an unusual condition."
   ]
  },
  {
   "cell_type": "markdown",
   "metadata": {},
   "source": [
    "### Exception Handling\n",
    "\n",
    " As an example, run this square root function and the cells below."
   ]
  },
  {
   "cell_type": "code",
   "execution_count": 2,
   "metadata": {
    "collapsed": true
   },
   "outputs": [],
   "source": [
    "def square_root(x):\n",
    "    return x ** 0.5"
   ]
  },
  {
   "cell_type": "code",
   "execution_count": 3,
   "metadata": {},
   "outputs": [
    {
     "data": {
      "text/plain": [
       "2.0"
      ]
     },
     "execution_count": 3,
     "metadata": {},
     "output_type": "execute_result"
    }
   ],
   "source": [
    "square_root(4)"
   ]
  },
  {
   "cell_type": "code",
   "execution_count": 4,
   "metadata": {},
   "outputs": [
    {
     "data": {
      "text/plain": [
       "3.0"
      ]
     },
     "execution_count": 4,
     "metadata": {},
     "output_type": "execute_result"
    }
   ],
   "source": [
    "square_root(9.0)"
   ]
  },
  {
   "cell_type": "code",
   "execution_count": 5,
   "metadata": {},
   "outputs": [
    {
     "ename": "TypeError",
     "evalue": "unsupported operand type(s) for ** or pow(): 'str' and 'float'",
     "output_type": "error",
     "traceback": [
      "\u001b[0;31m---------------------------------------------------------------------------\u001b[0m",
      "\u001b[0;31mTypeError\u001b[0m                                 Traceback (most recent call last)",
      "\u001b[0;32m<ipython-input-5-5cd60780ef13>\u001b[0m in \u001b[0;36m<module>\u001b[0;34m()\u001b[0m\n\u001b[0;32m----> 1\u001b[0;31m \u001b[0msquare_root\u001b[0m\u001b[0;34m(\u001b[0m\u001b[0;34m'hello'\u001b[0m\u001b[0;34m)\u001b[0m\u001b[0;34m\u001b[0m\u001b[0m\n\u001b[0m",
      "\u001b[0;32m<ipython-input-2-c93c522f1345>\u001b[0m in \u001b[0;36msquare_root\u001b[0;34m(x)\u001b[0m\n\u001b[1;32m      1\u001b[0m \u001b[0;32mdef\u001b[0m \u001b[0msquare_root\u001b[0m\u001b[0;34m(\u001b[0m\u001b[0mx\u001b[0m\u001b[0;34m)\u001b[0m\u001b[0;34m:\u001b[0m\u001b[0;34m\u001b[0m\u001b[0m\n\u001b[0;32m----> 2\u001b[0;31m     \u001b[0;32mreturn\u001b[0m \u001b[0mx\u001b[0m \u001b[0;34m**\u001b[0m \u001b[0;36m0.5\u001b[0m\u001b[0;34m\u001b[0m\u001b[0m\n\u001b[0m",
      "\u001b[0;31mTypeError\u001b[0m: unsupported operand type(s) for ** or pow(): 'str' and 'float'"
     ]
    }
   ],
   "source": [
    "square_root('hello')"
   ]
  },
  {
   "cell_type": "markdown",
   "metadata": {},
   "source": [
    "When the function was passed a string, it crashed and gave a TypeError, which is related to the type of data that it recieved. In this case the ** operator works on floats and ints, but not on strings. We can rewrite our code to handle these sorts of errors by using the try-except framework. This works by first trying to execute the code block, and if it fails it will default to the except clause. To try this out, we can rewrite our code as:"
   ]
  },
  {
   "cell_type": "code",
   "execution_count": 1,
   "metadata": {
    "collapsed": true
   },
   "outputs": [],
   "source": [
    "def square_root_error(x):\n",
    "    try:\n",
    "        return x ** 0.5\n",
    "    except:\n",
    "        print(\"The value given must be an int or float\")"
   ]
  },
  {
   "cell_type": "code",
   "execution_count": 2,
   "metadata": {},
   "outputs": [
    {
     "data": {
      "text/plain": [
       "2.0"
      ]
     },
     "execution_count": 2,
     "metadata": {},
     "output_type": "execute_result"
    }
   ],
   "source": [
    "square_root_error(4)"
   ]
  },
  {
   "cell_type": "code",
   "execution_count": 8,
   "metadata": {},
   "outputs": [
    {
     "data": {
      "text/plain": [
       "3.0"
      ]
     },
     "execution_count": 8,
     "metadata": {},
     "output_type": "execute_result"
    }
   ],
   "source": [
    "square_root_error(9.0)"
   ]
  },
  {
   "cell_type": "code",
   "execution_count": 9,
   "metadata": {},
   "outputs": [
    {
     "name": "stdout",
     "output_type": "stream",
     "text": [
      "The value given must be an int or float\n"
     ]
    }
   ],
   "source": [
    "square_root_error(\"Hello\")"
   ]
  },
  {
   "cell_type": "markdown",
   "metadata": {},
   "source": [
    "Notice how instead of returning the TypeError exception, it instead printed the except statement. Having these except statements in our functions will allow us to catch these errors and then provide an error message that is informative."
   ]
  },
  {
   "cell_type": "markdown",
   "metadata": {},
   "source": [
    "<div style=\"background-color: #00FF00\">\n",
    "\n",
    "**Exercise - Modify the gravitational force function in exercise X with the try-except statements to ensure that the function will only accept ints and floats as its inputs.**"
   ]
  },
  {
   "cell_type": "markdown",
   "metadata": {},
   "source": [
    "While the try-except clauses are useful for general error handling, there are some times where you want to catch a specific clause that will not necessarily raise an exception. For example, say that we want our square root function to only return a value if its an integer (ie the number is a perfect square). We can do this by using the raise command to tell python to stop execution and return an exception."
   ]
  },
  {
   "cell_type": "code",
   "execution_count": 10,
   "metadata": {
    "collapsed": true
   },
   "outputs": [],
   "source": [
    "def square_root_error_int(x):\n",
    "    try:\n",
    "        if((x ** 0.5)%1 != 0.0 ):\n",
    "            raise ValueError(\"Number provided must be a perfect square\")\n",
    "        return x ** 0.5\n",
    "    except:\n",
    "        raise TypeError(\"The value given must be an int or float\")"
   ]
  },
  {
   "cell_type": "code",
   "execution_count": 11,
   "metadata": {},
   "outputs": [
    {
     "data": {
      "text/plain": [
       "2.0"
      ]
     },
     "execution_count": 11,
     "metadata": {},
     "output_type": "execute_result"
    }
   ],
   "source": [
    "square_root_error_int(4.0)"
   ]
  },
  {
   "cell_type": "code",
   "execution_count": 12,
   "metadata": {},
   "outputs": [
    {
     "ename": "TypeError",
     "evalue": "The value given must be an int or float",
     "output_type": "error",
     "traceback": [
      "\u001b[0;31m---------------------------------------------------------------------------\u001b[0m",
      "\u001b[0;31mValueError\u001b[0m                                Traceback (most recent call last)",
      "\u001b[0;32m<ipython-input-10-8564b854489a>\u001b[0m in \u001b[0;36msquare_root_error_int\u001b[0;34m(x)\u001b[0m\n\u001b[1;32m      3\u001b[0m         \u001b[0;32mif\u001b[0m\u001b[0;34m(\u001b[0m\u001b[0;34m(\u001b[0m\u001b[0mx\u001b[0m \u001b[0;34m**\u001b[0m \u001b[0;36m0.5\u001b[0m\u001b[0;34m)\u001b[0m\u001b[0;34m%\u001b[0m\u001b[0;36m1\u001b[0m \u001b[0;34m!=\u001b[0m \u001b[0;36m0.0\u001b[0m \u001b[0;34m)\u001b[0m\u001b[0;34m:\u001b[0m\u001b[0;34m\u001b[0m\u001b[0m\n\u001b[0;32m----> 4\u001b[0;31m             \u001b[0;32mraise\u001b[0m \u001b[0mValueError\u001b[0m\u001b[0;34m(\u001b[0m\u001b[0;34m\"Number provided must be a perfect square\"\u001b[0m\u001b[0;34m)\u001b[0m\u001b[0;34m\u001b[0m\u001b[0m\n\u001b[0m\u001b[1;32m      5\u001b[0m         \u001b[0;32mreturn\u001b[0m \u001b[0mx\u001b[0m \u001b[0;34m**\u001b[0m \u001b[0;36m0.5\u001b[0m\u001b[0;34m\u001b[0m\u001b[0m\n",
      "\u001b[0;31mValueError\u001b[0m: Number provided must be a perfect square",
      "\nDuring handling of the above exception, another exception occurred:\n",
      "\u001b[0;31mTypeError\u001b[0m                                 Traceback (most recent call last)",
      "\u001b[0;32m<ipython-input-12-a4412a6933e0>\u001b[0m in \u001b[0;36m<module>\u001b[0;34m()\u001b[0m\n\u001b[0;32m----> 1\u001b[0;31m \u001b[0msquare_root_error_int\u001b[0m\u001b[0;34m(\u001b[0m\u001b[0;36m5.0\u001b[0m\u001b[0;34m)\u001b[0m\u001b[0;34m\u001b[0m\u001b[0m\n\u001b[0m",
      "\u001b[0;32m<ipython-input-10-8564b854489a>\u001b[0m in \u001b[0;36msquare_root_error_int\u001b[0;34m(x)\u001b[0m\n\u001b[1;32m      5\u001b[0m         \u001b[0;32mreturn\u001b[0m \u001b[0mx\u001b[0m \u001b[0;34m**\u001b[0m \u001b[0;36m0.5\u001b[0m\u001b[0;34m\u001b[0m\u001b[0m\n\u001b[1;32m      6\u001b[0m     \u001b[0;32mexcept\u001b[0m\u001b[0;34m:\u001b[0m\u001b[0;34m\u001b[0m\u001b[0m\n\u001b[0;32m----> 7\u001b[0;31m         \u001b[0;32mraise\u001b[0m \u001b[0mTypeError\u001b[0m\u001b[0;34m(\u001b[0m\u001b[0;34m\"The value given must be an int or float\"\u001b[0m\u001b[0;34m)\u001b[0m\u001b[0;34m\u001b[0m\u001b[0m\n\u001b[0m",
      "\u001b[0;31mTypeError\u001b[0m: The value given must be an int or float"
     ]
    }
   ],
   "source": [
    "square_root_error_int(5.0)"
   ]
  },
  {
   "cell_type": "markdown",
   "metadata": {},
   "source": [
    "<div style=\"background-color: #00FF00\">\n",
    "\n",
    "**Exercise - Further modify your gravitational force function to raise an exception if that masses are at the same positions (this will stop your function from calculating infinity).**"
   ]
  },
  {
   "cell_type": "markdown",
   "metadata": {},
   "source": [
    "# Session 4"
   ]
  },
  {
   "cell_type": "markdown",
   "metadata": {
    "collapsed": true
   },
   "source": [
    "## Index \n",
    "1. Algorithms\n",
    "3. Roots of polynomials\n",
    "4. Numerical equation solving\n",
    "5. Optimisation\n",
    "6. Integration and differentiaton\n",
    "7. Optional: non-analytic integration and differentiation"
   ]
  },
  {
   "cell_type": "markdown",
   "metadata": {},
   "source": [
    "## 2. Algorithms<a id=\"critical\"></a>\n",
    "\n",
    "### Note: The exercises in section 2 are merely meant to make you think about how to tackle problems. There are easier in-built Python solutions that will accomplish the same task.\n",
    "\n",
    "Before we move onto using the numerical analysis techniques already present in Python, we will first attempt to code up some common functionality already present. Although this may feel redundant, the thought process and code structure required to solve these issues are an invaluable learning task."
   ]
  },
  {
   "cell_type": "markdown",
   "metadata": {},
   "source": [
    "<div style=\"background-color: #00FF00\">\n",
    "    \n",
    "**Exercise: One common matrix operation is to calculate its transpose. This works by replacing its row values with column values. Take the follow matrix:**\n",
    "\n",
    "\\begin{equation}\n",
    "\\begin{bmatrix}\n",
    "    1 & 2 & 3 \\\\\n",
    "    4 & 5 & 6 \\\\\n",
    "    7 & 8 & 9\n",
    "\\end{bmatrix}\n",
    "\\end{equation}\n",
    "\n",
    "**And calculate its transpose.**"
   ]
  },
  {
   "cell_type": "code",
   "execution_count": null,
   "metadata": {},
   "outputs": [],
   "source": []
  },
  {
   "cell_type": "markdown",
   "metadata": {},
   "source": [
    "<div style=\"background-color: #00FF00\">\n",
    "    \n",
    "**Exercise: One common function of a Python list is the sort command, which takes an unordered sequence of numbers and returns an ordered list like:** \n",
    "\n",
    "$$ list1=[2,4,3,6,8,7,9,5] --> list2=[2,3,4,5,6,7,8,9] $$\n",
    "\n",
    "**Take list1 and write an algorithm that will return the ordered list2. This is a non-trivial task and there are multiple ways that the problem can be attempted**\n",
    "\n",
    "**Hint: Ordering the list will involve comparing values, so a double for loop will be required. To start with, write a single loop that will go through the list and identify which elements need to be swapped. Remember, you can assign multiple variables in a single line of python with code like:**\n",
    "\n",
    "$$b,a=a,b$$\n",
    "\n",
    "**This will swap the values of b and a.**"
   ]
  },
  {
   "cell_type": "code",
   "execution_count": null,
   "metadata": {},
   "outputs": [],
   "source": []
  },
  {
   "cell_type": "markdown",
   "metadata": {},
   "source": [
    "## 3. Roots of polynomials<a id=\"polynomials\"></a>\n",
    "Previously, we worked with polynomial functions to fit data. In numerical modelling, we can encounter problems where we will need to solve polynomials. To this end, Numpy includes the function <span style=\"color:blue\">roots()</span> which finds solutions to polynomials very quickly. The only calling argument for <span style=\"color:blue\">roots()</span> is an array containing the coefficient in front of each polynomial term; e.g. array $P$ where the array elements represent the following:\n",
    "\n",
    "$$ f(x) = P[3] + P[2]x + P[1]x^2 + P[0]x^3$$\n",
    "\n",
    "The function uses the size of the list to know what order of polynomial you are using. The output is an array with the solutions.\n",
    "\n",
    "Below is an example to solve $x^2-2=0$:"
   ]
  },
  {
   "cell_type": "code",
   "execution_count": 3,
   "metadata": {},
   "outputs": [],
   "source": [
    "import numpy as np\n",
    "import matplotlib.pyplot as plt # For later use"
   ]
  },
  {
   "cell_type": "code",
   "execution_count": null,
   "metadata": {},
   "outputs": [],
   "source": [
    "a=[1,0,-2]\n",
    "result = np.roots(a)\n",
    "print(result)"
   ]
  },
  {
   "cell_type": "markdown",
   "metadata": {},
   "source": [
    "<div style=\"background-color: #00FF00\">\n",
    "    \n",
    "**Exercise 1: Find the roots of $2x^5+3x^2=1$. Check that the roots are valid solutions (i.e. the value of the polynomial is zero at these points). Can you plot the poynomial and include an <span style=\"color:blue\">if</span> statement that checks whether each solution is real, and if so overplot that solution on your graph? For this, the NumPy function <span style=\"color:blue\">isreal()</span> is useful to determine if a number is real or complex.**\n",
    "\n",
    "**Hint: the NumPy function <span style=\"color:blue\">polyval()</span> calculates the y-values of a polynomial with given coefficients and x-values - this can be helpful to check if the solutions are valid**.\n",
    "\n"
   ]
  },
  {
   "cell_type": "markdown",
   "metadata": {},
   "source": [
    "<div style=\"background-color: #FFF8C6\">\n",
    "Below is a more complicated example for you to attempt.\n",
    "<p>\n",
    "    \n",
    "**Exercise: use a random number generator to generate a 50th-order polynomial with integer coefficients between -5 and 5. Find the roots, print all valid solutions, and indicate them on a plot of the polynomial.**"
   ]
  },
  {
   "cell_type": "code",
   "execution_count": null,
   "metadata": {},
   "outputs": [],
   "source": []
  },
  {
   "cell_type": "markdown",
   "metadata": {},
   "source": [
    "## 4. Numerical equation solving<a id=\"solving\"></a>\n",
    "There are some equations which you cannot solve analytically. These include so called transcendental equations such as $x=\\cos{x}$. Fortunately there are graphical and numerical approaches to solving such equations."
   ]
  },
  {
   "cell_type": "markdown",
   "metadata": {},
   "source": [
    "<div style=\"background-color: #FFF8C6\">\n",
    "    \n",
    "### Solving functions of multiple variables\n",
    "The function <span style=\"color:blue\">fsolve()</span> can be used to solve sets of non-linear equations with multiple variables. So for example if you wished to solve the set of equations:</b>\n",
    "\n",
    "$$x+y=y\\cos{y} \\\\ x^2+y^2=3$$\n",
    "\n",
    "you can do so with the script below:"
   ]
  },
  {
   "cell_type": "code",
   "execution_count": 4,
   "metadata": {},
   "outputs": [],
   "source": [
    "import numpy as np\n",
    "from scipy import optimize as op"
   ]
  },
  {
   "cell_type": "code",
   "execution_count": 5,
   "metadata": {},
   "outputs": [
    {
     "name": "stdout",
     "output_type": "stream",
     "text": [
      "Solution: [-1.07364009  1.35915303]\n",
      "Checking the solution: [5.126177260450504e-12, 2.2531310150952777e-11]\n"
     ]
    }
   ],
   "source": [
    "# Define the function - note that there are now 2 variables, given in 1 array argument\n",
    "def two_equations(variables):\n",
    "    #print(variables)# If you print variables, you will see which values the algorithm tries for x and y\n",
    "    x,y = variables[0],variables[1]\n",
    "    output = [x+y-y*np.cos(y),x*x+y*y-3]# The function returns an array: 1 element per equation\n",
    "    return output\n",
    "\n",
    "initial_guess=[1,2]\n",
    "\n",
    "solution = op.fsolve(two_equations,initial_guess)\n",
    "print(\"Solution:\", solution)\n",
    "print(\"Checking the solution:\", two_equations(solution))\n"
   ]
  },
  {
   "cell_type": "markdown",
   "metadata": {},
   "source": [
    "<div style=\"background-color: #FFF8C6\">\n",
    "By printing the output of the function when called with the numerical solution you can see how close the numerical solution actually is to the true solution. If you uncomment the print statement in the function you can see how quickly the algorithm converges.\n",
    "<p>\n",
    "It is important to understand if the solution makes sense and if it is the only solution. The first solution to which <span style=\"color:blue\">fsolve()</span> iterates may be mathematically sound but might not be the solution that represents the physical situation you are modelling. Often graphing the solution can help (especially if you are only working in 2 variables). Below is a graph showing the two functions that we have been looking at and you can see that the solution found is only one of two possible solutions. \n",
    "\n",
    "![simultaneous_equations](https://cclewley.github.io/ComputingYr1/Images4/simultaneous_equations.png)\n",
    "<p>\n",
    "    \n",
    "**Exercise: can you alter the example code above to find the other solution?**"
   ]
  },
  {
   "cell_type": "markdown",
   "metadata": {},
   "source": [
    "## 5. Optimisation<a id=\"optimisation\"></a>\n",
    "\n",
    "You will often encounter complex systems that cannot be differentiated analytically. For these you need numerical techniques. Numerical techniques for optimization in practice (almost always) mean numerical techniques for minimisation. If your problem requires you to maximise a function then, in general, you redefine the problem so that you end up minimising something else. \n",
    "\n",
    "Numerical optimisation is an interesting and complicated area. SciPy has an optimize module that contains a plethora of different methods. However, until you become an expert, we suggest that you only use some of the main functions. A basic minimization function is <span style=\"color:blue\">fmin()</span>. It does not use derivatives so can be used in cases where you don’t know the analytical function or its derivate. The numerical optimization starts at an initial guess and then iterates to a minimum. A simple 1-dimensional example illustrates this. The code below minimises the function $f(x) = x^2 + x$. Run the code cell - does it give the answer you would expect?"
   ]
  },
  {
   "cell_type": "code",
   "execution_count": null,
   "metadata": {},
   "outputs": [],
   "source": [
    "#define the function to be minimised\n",
    "\n",
    "def func1(x):\n",
    "     return x**2+x\n",
    "\n",
    "#now minimise with a starting guess of 1\n",
    "initial_guess = 1\n",
    "x=op.fmin(func1, initial_guess)\n",
    "\n",
    "print(x)"
   ]
  },
  {
   "cell_type": "markdown",
   "metadata": {},
   "source": [
    "You may have noticed that the <span style=\"color:blue\">fmin()</span> works along similar lines as <span style=\"color:blue\">fsolve()</span>.\n",
    "<div style=\"background-color: #00FF00\">\n",
    "    \n",
    "**Exercise 5: modify <span style=\"color:blue\">func1</span> in the code above so that it also prints out the value x that it is called with and run the optimization again.** "
   ]
  },
  {
   "cell_type": "code",
   "execution_count": null,
   "metadata": {},
   "outputs": [],
   "source": []
  },
  {
   "cell_type": "markdown",
   "metadata": {},
   "source": [
    "The exercise above should give you insight into how <span style=\"color:blue\">fmin()</span> finds the minimum. For further details of how <span style=\"color:blue\">fmin()</span> works use <span style=\"color:blue\">help(op.fmin)</span>."
   ]
  },
  {
   "cell_type": "markdown",
   "metadata": {},
   "source": [
    "<div style=\"background-color: #00FF00\">\n",
    "    \n",
    "**Exercise 6: now write a programme to minimise the function  $x^4−5x^3−20x^2+50x$ with an initial guess of -4. Try the same process with an initial guess of 3. Plot the function and mark on it the initial guess and the minimum found in each case. Explain what has happened. What conclusions can you draw about how to use <span style=\"color:blue\">fmin()</span>?**"
   ]
  },
  {
   "cell_type": "markdown",
   "metadata": {},
   "source": [
    "<div style=\"background-color: #FFF8C6\">\n",
    "You can also minimise functions of multiple parameters by passing an array to <span style=\"color:blue\">fmin()</span>, just like we did for <span style=\"color:blue\">fsolve()</span>.  \n",
    "\n",
    "**Exercise: find the *maximum* of the 2-D function: $f(x,y) = \\sin(xy+y)\\,e^{−(x^2+y^2)}$**"
   ]
  },
  {
   "cell_type": "markdown",
   "metadata": {},
   "source": [
    "<div style=\"background-color: #FFF8C6\">\n",
    "So far we have used <span style=\"color:blue\">fmin()</span> only to minimise (or optionally, maximise) given functions. Let's now apply it to a hypothetical problem.\n",
    "\n",
    "**Exercise: a cyclist is biking along a path when she witnesses a child falling into the river. At this moment, the cyclist is at point $A$ and the child at point $B$, as shown in the picture below. The cyclist's maximum speed is 30 km/h on the path, but only 15 km/h on the grass separating the path from the river. At which point should the cyclist cross the grass to reach the child in the shortest time? How long does it take the cyclist to get to the child?**\n",
    "\n",
    "![cyclist](https://cclewley.github.io/ComputingYr1/Images4/cyclist.jpg)"
   ]
  },
  {
   "cell_type": "markdown",
   "metadata": {},
   "source": [
    "<div style=\"background-color: cyan\"> \n",
    "\n",
    "**Discuss your work on optimisation with a demonstrator.**"
   ]
  },
  {
   "cell_type": "markdown",
   "metadata": {},
   "source": [
    "## 6. Integration and Differentiation<a id=\"integration\"></a>\n",
    "You may be wondering how differentiation and integration work in Python. One of the most important tools in a physicist's toolkit is the ability to integrate and differentiate data, whether with analytic functions or with data that cannot be described by an equation. The SciPy package has a wealth of ways with which to accomplish this, but we will only focus on a select few to introduce you to important concepts.\n",
    "\n",
    "### Numerical integration of functions\n",
    "\n",
    "There are many integrals that turn out to be very difficult and tedious to integrate analytically and many that are simply impossible. For these SciPy has a range of numerical integrators; the default is a function called <span style=\"color:blue\">quad()</span> which is part of the <span style=\"color:blue\">scipy.integrate</span> set of functions (if you want to know how it works, do a web search for QUADPACK on which it is based). The first calling argument is the function to be integrated and the second and third arguments are the limits of integration. What is returned is a tuple which has the value of the integration as its first element and an upper bound on the error as the second. The example below calculates the integral $ \\int_0^{\\frac{\\pi}{2}}{\\sin{(x)}}dx $:"
   ]
  },
  {
   "cell_type": "code",
   "execution_count": null,
   "metadata": {},
   "outputs": [],
   "source": [
    "import scipy.integrate as spi\n",
    "\n",
    "results=spi.quad(np.sin,0.,0.5*np.pi)# Integrate sin(x) from 0 to 0.5 pi\n",
    "print(results)"
   ]
  },
  {
   "cell_type": "markdown",
   "metadata": {},
   "source": [
    "You can of course supply your own function to integrate. If the function you want to integrate takes more than one argument, it is integrated along the axis of the first argument. You should use the keyword argument <span style=\"color:blue\">args</span> to specify the values of the other arguments to the integrand. For example, the code below solves the following integral for $n = 2$ and $c = 3$:\n",
    "\n",
    "$$ \\int_0^1({-nx^2+c})dx $$"
   ]
  },
  {
   "cell_type": "code",
   "execution_count": null,
   "metadata": {},
   "outputs": [],
   "source": [
    "# Define the function to be integrated\n",
    "def my_func(x,n,c):\n",
    "   # print(x,n,c)\n",
    "   return -n*x*x+c\n",
    "\n",
    "result=spi.quad(my_func,0,1,args=(2,3))# Integrate the pre-defined function from 0 to 1 pi\n",
    "print(result)"
   ]
  },
  {
   "cell_type": "markdown",
   "metadata": {},
   "source": [
    "Note: if you add a print statement inside the function being integrated you can see the values with which it is being called. If you include the variable over which you are integrating you can begin to see how the algorithm actually works.\n",
    "<p>\n",
    "<div style=\"background-color: #00FF00\">\n",
    "\n",
    "**Exercise 7: use <span style=\"color:blue\">quad()</span> to integrate the following functions:**\n",
    "\n",
    "**1. $\\frac{1}{x}$, with different sets of integration limits [1,10], [0,1]**\n",
    "\n",
    "**2. $\\frac{1}{x^2}$, [1,$\\infty$], (Hint: read the help for <span style=\"color:blue\">quad()</span> to find out how to deal with the limit of $\\infty$; remember that NumPy routines are also present in the Scipy package)**\n",
    "\n",
    "**3. $\\frac{1}{x^2}$, [-1,1]**\n",
    "\n",
    "**4. $\\tan(x)$, with different limits: [0,1], [1, $\\pi \\over 2$], [0,$\\pi$]**\n",
    "\n",
    "**Compare your results with what you would expect. Do you encounter any problems with any of these integrals? What are your conclusions about how and when to use <span style=\"color:blue\">quad()</span>?**"
   ]
  },
  {
   "cell_type": "markdown",
   "metadata": {},
   "source": [
    "<div style=\"background-color: #FFF8C6\">\n",
    "\n",
    "To perform double integrals, we need to use the <span style=\"color:blue\">dblquad()</span> function in the SciPy Integrate package.\n",
    "\n",
    "**Exercise: use <span style=\"color:blue\">dblquad()</span> to perform the following double integral:**\n",
    "\n",
    "$$\\int_0^1 \\int_0^1 \\cos(x^2+y^3)dxdy$$\n",
    "\n",
    "**Hint: you may want to look up how to use lambda functions in Python.**"
   ]
  },
  {
   "cell_type": "markdown",
   "metadata": {},
   "source": [
    "### Numerical differentation: the finite difference method\n",
    "\n",
    "In contrast to integration, Scipy does not provide general functionality to compute derivatives. The simplest method to compute derivatives computationally is by employing a finite difference method. You may recall that the formal definition of the derivative of a function $f(x)$ is:\n",
    "\n",
    "$$f^\\prime(x) = \\lim_{h\\to 0} \\frac{f(x+h)-f(x)}{h}$$\n",
    "\n",
    "The forward finite difference method approximates the derivative at $f(x)$ by using the formula above with a suitably small value of $h$. The code below is an example of how to use this method to numerically differentiate $f(x) = x^3$.\n"
   ]
  },
  {
   "cell_type": "code",
   "execution_count": null,
   "metadata": {},
   "outputs": [],
   "source": [
    "# Function for the forward finite difference method which returns the derivative of an array \n",
    "# Input paramaters: fx, the array of function vallues; h, the step size\n",
    "def forward_finite(fx,h):\n",
    "    Delta_fx = fx[1:]-fx[0:-1]\n",
    "    return Delta_fx/h# Note that the returned array is 1 element shorter than the original array\n",
    "\n",
    "h = 0.1 # Define the step size\n",
    "x = np.arange(0,10,h) # create an array of x-values between x = 0 and x = 10\n",
    "\n",
    "# Calculate the function values (f(x) = x^3)\n",
    "y = x**3\n",
    "\n",
    "# Calculate the numerical derivative\n",
    "dy = forward_finite(y,h)\n",
    "\n",
    "# Plot the result (excluding the final element in x)\n",
    "plt.plot(x[:-1],dy,'.')\n",
    "plt.xlabel('x')\n",
    "plt.ylabel('df/dx')\n",
    "plt.show()"
   ]
  },
  {
   "cell_type": "markdown",
   "metadata": {},
   "source": [
    "<div style=\"background-color: #00FF00\">\n",
    "    \n",
    "**Exercise 8: run the code cell above and extend the code to calculate the analytic derivative of $f(x) = x^3$ and plot it in the same plot as the numerical derivative. Next, calculate the error in the numerical derivative (i.e. the difference between the analytic and numerical derivative) and plot it in a separate plot. What happens to the error when you change the value of the step size $h$?**"
   ]
  },
  {
   "cell_type": "markdown",
   "metadata": {},
   "source": [
    "<div style=\"background-color: #FFF8C6\">\n",
    "    \n",
    "Let's inspect how well our method works for a couple of other functions.\n",
    "<p>\n",
    "    \n",
    "**Exercise: use the forward finite difference method to calculate the derivative of:**\n",
    "\n",
    "**1. $f(x) = \\sin(x)$**\n",
    "\n",
    "**2. $f(x) = 1/x$**\n",
    "\n",
    "**on the interval $[0,10]$ with $h=0.01$.**\n",
    "\n",
    "**For both of these functions, create a plot of your numerical derivative and the analytic derivative, as well as a plot of the error in your numerical derivative. What happens to the error when you reduce $h$?**"
   ]
  },
  {
   "cell_type": "markdown",
   "metadata": {},
   "source": [
    "<div style=\"background-color: #FFF8C6\"> \n",
    "A somewhat more sophisticated version of the finite difference method is the central finite difference method. This is calculated using the function value on both sides of $x$:\n",
    "\n",
    "$$ f^\\prime(x) = \\lim_{h\\to 0}\\frac{f(x+\\frac{1}{2}h)-f(x-\\frac{1}{2}h)}{h}$$\n",
    "\n",
    "**Exercise: write a new function that calculates the numerical derivative according to the central finite difference method. Using this method, calculate the numerical derivative of the same three equations as above and compare its output with the forward finite difference method.**"
   ]
  },
  {
   "cell_type": "markdown",
   "metadata": {},
   "source": [
    "<div style=\"background-color: cyan\"> \n",
    "    \n",
    "**Discuss your work on integration and differentiation with a demonstrator.**"
   ]
  },
  {
   "cell_type": "markdown",
   "metadata": {},
   "source": [
    "<div style=\"background-color: #FFF8C6\">\n",
    "    \n",
    "## 7. Optional: non-analytic integration and differentiation. Maybe remove the integration bit<a id=\"non_analytic\"></a>\n",
    "\n",
    "Data you will work with as a physicist may not be well described by an analytic form. This may be due to noise  making the data very hard to fit or your data isn't represented by an equation. In these circumstances we need to return to the fundamentals of what an integral or derivative actually means if we want to calculate one.\n",
    "\n",
    "### Integration of non-analytic data\n",
    "\n",
    "When you integrate a function, you are calculating the area under some curve that the function defines. Calculating areas leads to some basic methods for non-analytic integration. As an example, we have collected data points that describe the velocity of a car driving on the motorway. These are shown in the graph below:\n",
    "\n",
    "![diff_example](https://cclewley.github.io/ComputingYr1/Images4/Car_velocity.png)\n",
    "\n",
    "\n",
    "We want to calculate the total distance that the car travelled. Looking at the data, we can see that it is not well described by an analytic function. We will therefore need to tackle this challenge using some numerical methods.\n",
    "\n",
    "#### Rectangle Rule\n",
    "\n",
    "One of the simplest approximations we can make with our data set is that the velocity is constant at the observed values and changes instantaneously at some point between the measurements. Intuitively this is a non-physical scenario, but the underlying maths provides a useful tool. Graphically, this approximation would look like:\n",
    "\n",
    "![rectangle_rule](https://cclewley.github.io/ComputingYr1/Images4/Rectangle_integration.png)\n",
    "\n",
    "Notice that we have centred our observations such that they are in the middle of our boxes. The integral of dataset therefore becomes\n",
    "\n",
    "\n",
    "$$\\int_a^b f(x)dx = \\sum_{x=c_i}^{c_n}f(x_i)dx_i=\\Delta x \\times \\sum_{x=c_i}^{c_n}f(x_i)$$\n",
    " \n",
    " \n",
    "under the assumption of constant spacing $\\Delta x$ between the data points. The integral is then approximated the sum of these rectangles. This method is therefore called the rectangle rule. With that in mind, let's integrate our data set.\n",
    "<p>\n",
    " \n",
    "**Exercise: load in the velocity data from the file [car_velocity.txt](https://cclewley.github.io/ComputingYr1/Data4/car_velocity.txt) (which is in this session's 'Data' folder). Plot the data and reproduce the figure shown above. Calculate the interval at which the measurements were taken and hence integrate the data.**\n",
    "\n",
    "**Note: The rectangle rule assumes constant spacing around a point, but we have a point that is defined at t=0 and t=end. How do you handle the boundaries?**\n"
   ]
  },
  {
   "cell_type": "markdown",
   "metadata": {},
   "source": [
    "<div style=\"background-color: #FFF8C6\">\n",
    "    \n",
    "#### Trapezoidal (or Trapezium) Rule \n",
    "\n",
    "Above we made the approximation that our data was constant in between observation points. This is a obviously a big approximation and as physicists we can do better! The next level of approximation we can make is a linear variation of the data in between observations. Graphically this looks like:\n",
    "\n",
    "![trap_int](https://cclewley.github.io/ComputingYr1/Images4/Trap_integration.png)\n",
    "\n",
    "Looking at the graph, this seems to be a much more accurate representation of our data. We are again calculating the area underneath the graph, now with the integral approximated by:\n",
    "\n",
    "$$\\int_a^b f(x)dx = 0.5\\times\\sum_{x=c_i}^{c_{n-1}} (c_{i+1}-c_i)\\times(f(c_{i+1})+f(c_{i})) $$\n",
    "\n",
    "**Exercise: using the data from [car_velocity.txt](https://cclewley.github.io/ComputingYr1/Data4/car_velocity.txt) (which is in this session's 'Data' folder), apply the trapezoidal rule to integrate the data and calculate the total distance travelled by the car.**\n",
    "\n",
    "Calculating the above integrals, we are left with a just a single number: the total area under the curve (in our case the total distance travelled). Sometimes however we want to know the running total of the integral as more points are integrated.\n",
    "\n",
    "**Exercise: use the trapezoidal rule to calculate the distance travelled as a function of time. At what time has the car travelled half the total distance?**"
   ]
  },
  {
   "cell_type": "markdown",
   "metadata": {},
   "source": [
    "<div style=\"background-color: #FFF8C6\">\n",
    "    \n",
    "### Differentiaton of non-analytic data\n",
    "\n",
    "In the above data set we recorded the speed of a car as it travelled along the motorway and calculated the distance it had travelled. This time we do the opposite: we have taken measurements of the distance travelled by a car and want to calculate the speed it was travelling. The data looks like:\n",
    "\n",
    "![distance2](https://cclewley.github.io/ComputingYr1/Images4/Car_distance2.png)\n",
    "\n",
    "We know that:\n",
    "\n",
    "$$v=\\frac{dx}{dt}$$\n",
    "\n",
    "for an infinitesimal change in position and time. However we have real data and can represent this exact differential as:\n",
    "\n",
    "$$v=\\frac{dx}{dt}=\\frac{\\Delta x}{\\Delta t} = \\frac{x_{i+1}-x_{i}}{t_{i+1}-t_{i}}$$\n",
    "\n",
    "for our data points $x_i$ and $t_i$. Note that when we represent the derivative this way, we are calculating a value that is defined in the centre of the time interval.\n",
    "\n",
    "**Exercise: load in the dataset [car_distance.txt](https://cclewley.github.io/ComputingYr1/Data4/car_distance.txt) (which is in this session's 'Data' folder). Plot the data, remembering to label to axes, and then differentiate this data. Plot the resulting velocity, remembering to create a new time array that is defined on the half intervals.**\n",
    "\n",
    "You may have noticed that if your data is spaced at regular intervals, $t_{i+1}-t_{i} = h$, the above method works in the same way as the finite difference method we used to differentiate analytic functions! The only difference is that here we are using data points instead of function values, and for our analytic function we can reduce the numerical error by making $h$ arbitrarily small, whereas here we are required to use the interval at which our measurements are taken."
   ]
  }
 ],
 "metadata": {
  "kernelspec": {
   "display_name": "Python 3 (ipykernel)",
   "language": "python",
   "name": "python3"
  },
  "language_info": {
   "codemirror_mode": {
    "name": "ipython",
    "version": 3
   },
   "file_extension": ".py",
   "mimetype": "text/x-python",
   "name": "python",
   "nbconvert_exporter": "python",
   "pygments_lexer": "ipython3",
   "version": "3.9.12"
  },
  "vscode": {
   "interpreter": {
    "hash": "49b3433d3493769708e00fd2067cfff454459fc2d452479bca0a295e67221b41"
   }
  }
 },
 "nbformat": 4,
 "nbformat_minor": 2
}
