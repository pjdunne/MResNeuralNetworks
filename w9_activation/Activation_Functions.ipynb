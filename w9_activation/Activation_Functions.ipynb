{
 "cells": [
  {
   "cell_type": "markdown",
   "metadata": {},
   "source": [
    "# Activation Functions, Gradient Flow and Dead Neurons"
   ]
  },
  {
   "cell_type": "markdown",
   "metadata": {},
   "source": [
    "<hr style=\"border:2px solid gray\">\n",
    "\n",
    "# Index: <a id='index'></a>\n",
    "0. [Introduction and Setup](#intro)\n",
    "1. [Common Activation Functions](#common-activation-functions)\n",
    "1. [Visualising Activation Functions](#visualising-activation-functions)\n",
    "1. [Worked Example - Fashion MNIST](#worked_example)\n",
    "1. [Gradient Flow](#gradient-flow)\n",
    "1. [Training a Model](#training-a-model)\n",
    "1. [Visualizing The Activation Distribution](#visualizing-the-activation-distribution)\n",
    "1. [Dead Neurons](#dead-neurons)\n",
    "\n",
    "This notebook is heavily based on one from Universitaet van Amsterdam's deep learning course written by Phillip Lippe.\n",
    "\n",
    "You can see his original filled notebook at:\n",
    "[![View on Github](https://img.shields.io/static/v1.svg?logo=github&label=Repo&message=View%20On%20Github&color=lightgrey)](https://github.com/phlippe/uvadlc_notebooks/blob/master/docs/tutorial_notebooks/tutorial3/Activation_Functions.ipynb)\n",
    "\n",
    "**Pre-trained models:** \n",
    "[![View files on Github](https://img.shields.io/static/v1.svg?logo=github&label=Repo&message=View%20On%20Github&color=lightgrey)](https://github.com/phlippe/saved_models/tree/main/tutorial3)\n",
    "[![GoogleDrive](https://img.shields.io/static/v1.svg?logo=google-drive&logoColor=yellow&label=GDrive&message=Download&color=yellow)](https://drive.google.com/drive/folders/1sFpZUpDJVjiYEvIqISqfkFizfsTnPf4s?usp=sharing)   \n"
   ]
  },
  {
   "cell_type": "markdown",
   "metadata": {},
   "source": [
    "<hr style=\"border:2px solid gray\">\n",
    "\n",
    "# Introduction and Setup [^](#index) <a id='intro'></a>\n",
    "\n",
    "Last week, you were introduced to the basics of neural networks. In this tutorial we will focus on the **activation function**, which characterises the response at each neuron. \n",
    "\n",
    "As discussed previously in the Single Neuron Notebook,  activation functions are a crucial part of deep learning models because they can add **non-linearity** to the network. Without non-linearity, increasing the number of layers will not effect our network's performance; the output would always be a linear combination of the input variables and so could have been achieved with just a single layer.\n",
    "\n",
    "There is a great variety of activation functions in the literature, and some are more beneficial than others.\n",
    "The goal of this tutorial is to show the importance of choosing a good activation function (and how to do so), and what problems might occur if we do not.\n",
    "\n",
    "Before we start, we should import our standard libraries and set up basic functions:"
   ]
  },
  {
   "cell_type": "code",
   "execution_count": 10,
   "metadata": {
    "scrolled": true
   },
   "outputs": [],
   "source": [
    "## Standard libraries\n",
    "import os\n",
    "import json\n",
    "import math\n",
    "import numpy as np \n",
    "\n",
    "## Imports for plotting\n",
    "import matplotlib.pyplot as plt\n",
    "%matplotlib inline \n",
    "from IPython.display import set_matplotlib_formats\n",
    "import seaborn as sns\n",
    "sns.set()\n",
    "\n",
    "## Progress bar\n",
    "from tqdm.notebook import tqdm\n",
    "\n",
    "## PyTorch\n",
    "import torch\n",
    "import torch.nn as nn\n",
    "import torch.nn.functional as F\n",
    "import torch.utils.data as data\n",
    "import torch.optim as optim"
   ]
  },
  {
   "cell_type": "markdown",
   "metadata": {},
   "source": [
    "To make our training reproducible, we will set a seed for the random numbers that we generate from Torch and numPy.\n",
    "\n",
    "If you are using a department provided laptop, or many other types of commercial machines, you will not have access to a GPU. GPUs can increase the speed of the training process and thus are very important when working with more complex models, however simply using a CPU in this course will be **sufficient**.\n",
    "\n",
    "_Unlike the CPU, the same seed on different GPU architectures can give different results. All the prebuilt models linked above here have been trained on an NVIDIA GTX1080Ti._\n",
    "\n",
    "The following cell also defines two file paths: DATASET_PATH and CHECKPOINT_PATH. The dataset path is the directory where we will download datasets used in the notebooks. It is recommended to store all datasets from PyTorch in one joined directory to prevent duplicate downloads. The checkpoint path is the directory where we will store the trained model weights and additional files. The files required will be automatically downloaded. "
   ]
  },
  {
   "cell_type": "code",
   "execution_count": 11,
   "metadata": {
    "scrolled": true
   },
   "outputs": [
    {
     "name": "stdout",
     "output_type": "stream",
     "text": [
      "Using device cpu\n"
     ]
    }
   ],
   "source": [
    "# Path to the folder where the datasets are/should be downloaded (e.g. MNIST)\n",
    "DATASET_PATH = \"../data\"\n",
    "\n",
    "# Path to the folder where the pretrained models are saved\n",
    "CHECKPOINT_PATH = \"../saved_models/tutorial3\"\n",
    "\n",
    "# Function for setting the seed\n",
    "def set_seed(seed):\n",
    "    np.random.seed(seed)\n",
    "    torch.manual_seed(seed)\n",
    "    if torch.cuda.is_available(): # GPU operation have separate seed\n",
    "        torch.cuda.manual_seed(seed)\n",
    "        torch.cuda.manual_seed_all(seed)\n",
    "set_seed(42)\n",
    "\n",
    "# Additionally, some operations on a GPU are implemented stochastic for efficiency\n",
    "# We want to ensure that all operations are deterministic on GPU (if used) for reproducibility\n",
    "torch.backends.cudnn.deterministic = True\n",
    "torch.backends.cudnn.benchmark = False\n",
    "\n",
    "# Fetching the device that will be used throughout this notebook\n",
    "device = torch.device(\"cpu\") if not torch.cuda.is_available() else torch.device(\"cuda:0\")\n",
    "print(\"Using device\", device)"
   ]
  },
  {
   "cell_type": "markdown",
   "metadata": {},
   "source": [
    "The following cell downloads all pretrained models we will use in this notebook. These are copies from Philip Lippe's course. The files are stored in a separate [repository](https://github.com/pjdunne/saved_models). Please let me (Patrick) know if an error occurs so it can be fixed for all students."
   ]
  },
  {
   "cell_type": "code",
   "execution_count": 12,
   "metadata": {},
   "outputs": [
    {
     "name": "stdout",
     "output_type": "stream",
     "text": [
      "Downloading https://raw.githubusercontent.com/pjdunne/saved_models/main/tutorial3/FashionMNIST_elu.config...\n",
      "Downloading https://raw.githubusercontent.com/pjdunne/saved_models/main/tutorial3/FashionMNIST_elu.tar...\n",
      "Downloading https://raw.githubusercontent.com/pjdunne/saved_models/main/tutorial3/FashionMNIST_leakyrelu.config...\n",
      "Downloading https://raw.githubusercontent.com/pjdunne/saved_models/main/tutorial3/FashionMNIST_leakyrelu.tar...\n",
      "Downloading https://raw.githubusercontent.com/pjdunne/saved_models/main/tutorial3/FashionMNIST_relu.config...\n",
      "Downloading https://raw.githubusercontent.com/pjdunne/saved_models/main/tutorial3/FashionMNIST_relu.tar...\n",
      "Downloading https://raw.githubusercontent.com/pjdunne/saved_models/main/tutorial3/FashionMNIST_sigmoid.config...\n",
      "Downloading https://raw.githubusercontent.com/pjdunne/saved_models/main/tutorial3/FashionMNIST_sigmoid.tar...\n",
      "Downloading https://raw.githubusercontent.com/pjdunne/saved_models/main/tutorial3/FashionMNIST_swish.config...\n",
      "Downloading https://raw.githubusercontent.com/pjdunne/saved_models/main/tutorial3/FashionMNIST_swish.tar...\n",
      "Downloading https://raw.githubusercontent.com/pjdunne/saved_models/main/tutorial3/FashionMNIST_tanh.config...\n",
      "Downloading https://raw.githubusercontent.com/pjdunne/saved_models/main/tutorial3/FashionMNIST_tanh.tar...\n"
     ]
    }
   ],
   "source": [
    "import urllib.request\n",
    "from urllib.error import HTTPError\n",
    "# Github URL where saved models are stored for this tutorial\n",
    "base_url = \"https://raw.githubusercontent.com/pjdunne/saved_models/main/tutorial3/\"\n",
    "# Files to download\n",
    "pretrained_files = [\"FashionMNIST_elu.config\", \"FashionMNIST_elu.tar\", \n",
    "                    \"FashionMNIST_leakyrelu.config\", \"FashionMNIST_leakyrelu.tar\",\n",
    "                    \"FashionMNIST_relu.config\", \"FashionMNIST_relu.tar\",\n",
    "                    \"FashionMNIST_sigmoid.config\", \"FashionMNIST_sigmoid.tar\",\n",
    "                    \"FashionMNIST_swish.config\", \"FashionMNIST_swish.tar\",\n",
    "                    \"FashionMNIST_tanh.config\", \"FashionMNIST_tanh.tar\"]\n",
    "# Create checkpoint path if it doesn't exist yet\n",
    "os.makedirs(CHECKPOINT_PATH, exist_ok=True)\n",
    "\n",
    "# For each file, check whether it already exists. If not, try downloading it.\n",
    "for file_name in pretrained_files:\n",
    "    file_path = os.path.join(CHECKPOINT_PATH, file_name)\n",
    "    if not os.path.isfile(file_path):\n",
    "        file_url = base_url + file_name\n",
    "        print(f\"Downloading {file_url}...\")\n",
    "        try:\n",
    "            urllib.request.urlretrieve(file_url, file_path)\n",
    "        except HTTPError as e:\n",
    "            print(\"Something went wrong. Please try to download the file from the GDrive folder, or contact the author with the full output including the following error:\\n\", e)"
   ]
  },
  {
   "cell_type": "markdown",
   "metadata": {},
   "source": [
    "<hr style=\"border:2px solid gray\">\n",
    "\n",
    "# Common Activation Functions [^](#index) <a id='common-activation-functions'></a>"
   ]
  },
  {
   "cell_type": "markdown",
   "metadata": {},
   "source": [
    "We will first implement some common activation functions, writing our own functions to gain a better understanding and insight into how they operate. Most of these functions can also be found in the `torch.nn` package (see the [documentation](https://pytorch.org/docs/stable/nn.html#non-linear-activations-weighted-sum-nonlinearity) for an overview).\n",
    "\n",
    "_The following code uses Object Orientated Programming (OOP). If you are unfamiliar or out of practice with OOP, you may wish to read the 2nd Bootcamp Notebook for some guidance._\n",
    "\n",
    "\n",
    "To make it easier to compare various activation functions, we will start by defining a base class from which all our future modules will inherit:"
   ]
  },
  {
   "cell_type": "code",
   "execution_count": 13,
   "metadata": {
    "scrolled": true
   },
   "outputs": [],
   "source": [
    "class ActivationFunction(nn.Module):\n",
    "    \n",
    "    def __init__(self):\n",
    "        super().__init__()\n",
    "        self.name = self.__class__.__name__\n",
    "        self.config = {\"name\": self.name}"
   ]
  },
  {
   "cell_type": "markdown",
   "metadata": {},
   "source": [
    "Every activation function will be an `nn.Module` so that we can integrate them nicely in a network. We will use the `config` dictionary to store adjustable parameters for some activation functions.\n",
    "\n",
    "Next, we will implement two of the \"oldest\" activation functions that are still commonly used for various tasks: sigmoid and tanh. Both the sigmoid and tanh activation can be also found as PyTorch functions (`torch.sigmoid`, `torch.tanh`) or as modules (`nn.Sigmoid`, `nn.Tanh`). "
   ]
  },
  {
   "cell_type": "markdown",
   "metadata": {},
   "source": [
    "<div style=\"background-color:#C2F5DD\">\n",
    "    \n",
    "### Exercise\n",
    "    \n",
    "Below, you should write the code for the `forward` function of two activation functions. \n",
    "     \n",
    "If you are unsure of the form of either of the two functions, feel free to look them up online."
   ]
  },
  {
   "cell_type": "code",
   "execution_count": 14,
   "metadata": {},
   "outputs": [
    {
     "ename": "SyntaxError",
     "evalue": "invalid syntax (2972185630.py, line 13)",
     "output_type": "error",
     "traceback": [
      "\u001b[0;36m  File \u001b[0;32m\"/var/folders/36/v4thfyh9649fpc6hvhqh04fc0000gn/T/ipykernel_8796/2972185630.py\"\u001b[0;36m, line \u001b[0;32m13\u001b[0m\n\u001b[0;31m    return !!!!!!!!!!!\u001b[0m\n\u001b[0m           ^\u001b[0m\n\u001b[0;31mSyntaxError\u001b[0m\u001b[0;31m:\u001b[0m invalid syntax\n"
     ]
    }
   ],
   "source": [
    "##############################\n",
    "\n",
    "class Sigmoid(ActivationFunction):\n",
    "    \n",
    "    def forward(self, x):\n",
    "        '''\n",
    "        This defines the flow of forward progression i.e. what the activation function will return.\n",
    "        In this instance, we want to return the sigmoid transformation\n",
    "        \n",
    "        Defining the function forward is useful for nn modules such as nn.sequential, where it allows outputs \n",
    "        from one function to become the input for the next\n",
    "        '''\n",
    "        return !!!!!!!!!!!\n",
    "    \n",
    "\n",
    "##############################   \n",
    "    \n",
    "class Tanh(ActivationFunction):\n",
    "    \n",
    "    def forward(self, x):\n",
    "        !!!!!!!\n",
    "        return !!!!!!!!!!\n",
    "    \n",
    "##############################"
   ]
  },
  {
   "cell_type": "markdown",
   "metadata": {},
   "source": [
    "### Alternative Activation Functions\n",
    "\n",
    "Another popular activation function that has allowed the training of deeper networks is the **Rectified Linear Unit (ReLU)**. This function returns the input for inputs greater than 0, and returns 0 for inputs less than or equal to 0. Despite its simplicity, ReLU has one major benefit compared to sigmoid and tanh: a strong, stable gradient for a large range of values.\n",
    "\n",
    "Based on this idea, many variations of ReLU have been proposed. We will implement the following three:\n",
    "\n",
    "**LeakyReLU:** In the negative region of the input space, LeakyReLU has the form of a linear function with a small gradient (alpha), rather than just being 0. This non-zero gradient means that gradients can also 'flow' in this part of the input. We'll see what this means later.\n",
    "\n",
    "**ELU:** This is similar to the leaky ReLU but replaces the function in the negative input space with an exponential decay.\n",
    "\n",
    "**Swish:** This is the most recently proposed of these activation functions, and is actually the result of a large experiment with the purpose of finding the \"optimal\" activation function. Swish returns the input multiplied by the sigmoid of the input.\n",
    "Compared to the other activation functions, Swish is both smooth and non-monotonic (i.e. Swish's gradient  has a change of sign). Swish is designed to solve a problem called 'dead neurons' which can occur with standard ReLU. We'll see what this is later, but it is a particular problem with deep networks.\n",
    "If interested, a more detailed discussion of the benefits of Swish can be found in [this paper](https://arxiv.org/abs/1710.05941) [1]."
   ]
  },
  {
   "cell_type": "markdown",
   "metadata": {},
   "source": [
    "<div style=\"background-color:#C2F5DD\">\n",
    "    \n",
    "### Exercise\n",
    "    \n",
    "Given the desciptions above, implement these four activation functions."
   ]
  },
  {
   "cell_type": "code",
   "execution_count": null,
   "metadata": {
    "scrolled": true
   },
   "outputs": [],
   "source": [
    "##############################\n",
    "\n",
    "class ReLU(ActivationFunction):\n",
    "    \n",
    "    def forward(self, x):\n",
    "        return !!!!!!!!!!!\n",
    "\n",
    "##############################\n",
    "\n",
    "class LeakyReLU(ActivationFunction):\n",
    "    \n",
    "    def __init__(self, alpha=0.1):\n",
    "        super().__init__()\n",
    "        self.config[\"alpha\"] = alpha\n",
    "        \n",
    "    def forward(self, x):\n",
    "        return !!!!!!!!!!!!!!!\n",
    "\n",
    "##############################\n",
    "    \n",
    "class ELU(ActivationFunction):\n",
    "    \n",
    "    def forward(self, x):\n",
    "        return !!!!!!!!!!!!!!!!!\n",
    "\n",
    "##############################\n",
    "    \n",
    "class Swish(ActivationFunction):\n",
    "    \n",
    "    def forward(self, x):\n",
    "        return !!!!!!!!!!!!!!!!!!!\n",
    "    \n",
    "##############################"
   ]
  },
  {
   "cell_type": "markdown",
   "metadata": {},
   "source": [
    "We can summarise all our activation functions in a dictionary, which maps the name of the function to the class object. If you wish to implement a new activation function, add it to this dictionary to include it in future comparisons."
   ]
  },
  {
   "cell_type": "code",
   "execution_count": null,
   "metadata": {
    "scrolled": true
   },
   "outputs": [],
   "source": [
    "act_fn_by_name = {\n",
    "    \"sigmoid\": Sigmoid,\n",
    "    \"tanh\": Tanh,\n",
    "    \"relu\": ReLU,\n",
    "    \"leakyrelu\": LeakyReLU,\n",
    "    \"elu\": ELU,\n",
    "    \"swish\": Swish\n",
    "}"
   ]
  },
  {
   "cell_type": "markdown",
   "metadata": {},
   "source": [
    "<hr style=\"border:2px solid gray\">\n",
    "\n",
    "# Visualising Activation Functions [^](#index) <a id='visualising-activation-functions'></a>\n",
    "\n",
    "To understand what each activation function actually does, it may be useful to visualise both the function and its **gradient**. The gradient of the activation function is an important aspect of the function as it is crucial for optimising the neural network. \n",
    "\n",
    "PyTorch allows us to compute the gradients simply by calling the `backward` function:"
   ]
  },
  {
   "cell_type": "markdown",
   "metadata": {},
   "source": [
    "<div style=\"background-color: #FFF8C6\">\n",
    "\n",
    "### PyTorch's backward() Function\n",
    "    \n",
    "By default, `backward()` is called on a scalar tensor. If the input is not of this form, the function assumes \n",
    "there must be some 'upstream gradient' (since it is unable to calculate non-scalar derivatives) and will use \n",
    "the chain rule to calculate the output. The upstream gradient, g, can be specified using `backward(g)`.\n",
    "Since we do not want our calculated value to be affected by g, we could set all the values as 1 (ones_like creates a tensor with the same shape as another tensor).\n",
    "\n",
    "```python     \n",
    "act_fn(x).backward(gradient=torch.ones_like(act_fn(x))\n",
    "```\n",
    "\n",
    "This is equivalent to our method of out.sum().backward(). We can consider the example in the code below.\n",
    "    \n",
    "    \n",
    "    \n",
    "    \n",
    "The derivative of Sigma(a_i**2) wrt a_i is 2*a_i, as required. backward() would then act on a scalar tensor.\n",
    "There is an 'equal gradient flow' since the sum is not weighted. \n",
    "    \n",
    "Compare the example below to the `get_grads` function to gain a better understanding of how the function performs.\n",
    "\n",
    "See: https://pytorch.org/docs/stable/generated/torch.Tensor.backward.html#torch.Tensor.backward\n",
    "Further explanation: https://stackoverflow.com/questions/57248777/backward-function-in-pytorch/57249287#57249287\n",
    "https://stackoverflow.com/questions/57320830/why-torch-sum-before-doing-backward\n"
   ]
  },
  {
   "cell_type": "code",
   "execution_count": 20,
   "metadata": {},
   "outputs": [
    {
     "name": "stdout",
     "output_type": "stream",
     "text": [
      "tensor([[1., 2., 3.],\n",
      "        [4., 5., 6.]], requires_grad=True)\n",
      "None\n",
      "\n",
      "tensor([[ 1.,  4.,  9.],\n",
      "        [16., 25., 36.]], grad_fn=<PowBackward0>)\n",
      "\n",
      "tensor(91., grad_fn=<SumBackward0>)\n",
      "tensor([[ 2.,  4.,  6.],\n",
      "        [ 8., 10., 12.]])\n"
     ]
    }
   ],
   "source": [
    "from torch.autograd import Variable\n",
    "\n",
    "x = Variable(torch.FloatTensor([[1,2,3],[4,5,6]]), requires_grad=True) \n",
    "print (x)\n",
    "print (x.grad)\n",
    "# This contains our input data\n",
    "# In get_grads, this will be a 1D input tensor\n",
    "print ()\n",
    "\n",
    "\n",
    "# Imaging that squaring our data is the activation function\n",
    "# This would means the gradient should be given by 2*x\n",
    "out = x**2 \n",
    "print (out)\n",
    "print()\n",
    "\n",
    "y = out.sum()\n",
    "print (y)\n",
    "\n",
    "y.backward()\n",
    "\n",
    "\n",
    "print (x.grad)"
   ]
  },
  {
   "cell_type": "code",
   "execution_count": null,
   "metadata": {
    "scrolled": true
   },
   "outputs": [],
   "source": [
    "def get_grads(act_fn, x):\n",
    "    \"\"\"\n",
    "    Computes the gradients of an activation function at specified positions.\n",
    "    \n",
    "    Inputs:\n",
    "        act_fn - An object of the class \"ActivationFunction\" with an implemented forward pass.\n",
    "        x - 1D input tensor. \n",
    "    Output:\n",
    "        A tensor with the same size of x containing the gradients of act_fn at x.\n",
    "    \"\"\"\n",
    "    x = x.clone().requires_grad_() # Mark the input as tensor for which we want to store gradients\n",
    "    out = act_fn(x)\n",
    "    out.sum().backward() # Summing results in an equal gradient flow to each element in x\n",
    "    return x.grad # Accessing the gradients of x by \"x.grad\""
   ]
  },
  {
   "cell_type": "markdown",
   "metadata": {},
   "source": [
    "We can now visualise all our activation functions including their gradients.\n",
    "\n",
    "<div style=\"background-color:#C2F5DD\">\n",
    "    \n",
    "### Exercise\n",
    "\n",
    "Complete the following functions in order to generate nice plots of the activation functions:"
   ]
  },
  {
   "cell_type": "code",
   "execution_count": 6,
   "metadata": {
    "scrolled": true
   },
   "outputs": [
    {
     "ename": "NameError",
     "evalue": "name 'act_fn_by_name' is not defined",
     "output_type": "error",
     "traceback": [
      "\u001b[0;31m---------------------------------------------------------------------------\u001b[0m",
      "\u001b[0;31mNameError\u001b[0m                                 Traceback (most recent call last)",
      "Input \u001b[0;32mIn [6]\u001b[0m, in \u001b[0;36m<cell line: 13>\u001b[0;34m()\u001b[0m\n\u001b[1;32m      8\u001b[0m     get_ipython()\u001b[38;5;241m.\u001b[39mgetoutput(\u001b[38;5;124m'\u001b[39m\u001b[38;5;124m!!!!!!!!!!!!!\u001b[39m\u001b[38;5;124m'\u001b[39m)\n\u001b[1;32m     12\u001b[0m \u001b[38;5;66;03m# Add activation functions if wanted\u001b[39;00m\n\u001b[0;32m---> 13\u001b[0m act_fns \u001b[38;5;241m=\u001b[39m [act_fn() \u001b[38;5;28;01mfor\u001b[39;00m act_fn \u001b[38;5;129;01min\u001b[39;00m \u001b[43mact_fn_by_name\u001b[49m\u001b[38;5;241m.\u001b[39mvalues()]\n\u001b[1;32m     14\u001b[0m x \u001b[38;5;241m=\u001b[39m torch\u001b[38;5;241m.\u001b[39mlinspace(\u001b[38;5;241m-\u001b[39m\u001b[38;5;241m5\u001b[39m, \u001b[38;5;241m5\u001b[39m, \u001b[38;5;241m1000\u001b[39m) \u001b[38;5;66;03m# Range on which we want to visualize the activation functions\u001b[39;00m\n\u001b[1;32m     15\u001b[0m \u001b[38;5;66;03m## Plotting\u001b[39;00m\n",
      "\u001b[0;31mNameError\u001b[0m: name 'act_fn_by_name' is not defined"
     ]
    }
   ],
   "source": [
    "def vis_act_fn(act_fn, ax, x):\n",
    "    # Run activation function and get gradients\n",
    "    !!!!!!!!!!!!!!!\n",
    "    \n",
    "    # Push x, y and gradients back to cpu for plotting\n",
    "    !!!!!!!!!!!!!!!\n",
    "    ## Plotting\n",
    "    !!!!!!!!!!!!!!!  \n",
    "    \n",
    "# Add activation functions if wanted\n",
    "act_fns = [act_fn() for act_fn in act_fn_by_name.values()]\n",
    "x = torch.linspace(-5, 5, 1000) # Range on which we want to visualize the activation functions\n",
    "\n",
    "## Plotting\n",
    "rows = math.ceil(len(act_fns)/2.0)\n",
    "fig, ax = plt.subplots(rows, 2, figsize=(8, rows*4))\n",
    "for i, act_fn in enumerate(act_fns):\n",
    "    vis_act_fn(act_fn, ax[divmod(i,2)], x)\n",
    "fig.subplots_adjust(hspace=0.3)\n",
    "plt.show()"
   ]
  },
  {
   "cell_type": "code",
   "execution_count": 5,
   "metadata": {},
   "outputs": [
    {
     "data": {
      "text/plain": [
       "torch.Size([1000])"
      ]
     },
     "execution_count": 5,
     "metadata": {},
     "output_type": "execute_result"
    }
   ],
   "source": [
    "import torch\n",
    "x = torch.linspace(-5, 5, 1000)\n",
    "x.shape"
   ]
  },
  {
   "cell_type": "markdown",
   "metadata": {},
   "source": [
    "<hr style=\"border:2px solid gray\">\n",
    "\n",
    "# Worked Example - Fashion MNIST [^](#index) <a id='worked_example'></a>"
   ]
  },
  {
   "cell_type": "markdown",
   "metadata": {},
   "source": [
    "To see the impact each activation function has on training our neural network, we will look at a simple example NN trained on [FashionMNIST](https://github.com/zalandoresearch/fashion-mnist).\n",
    "\n",
    "FashionMNIST is a more complex version of MNIST and contains black-and-white images of clothes instead of digits. The 10 classes include trousers, coats, shoes, bags and more. \n",
    "\n",
    "To load this dataset, we will make use of the PyTorch package `torchvision` ([documentation](https://pytorch.org/docs/stable/torchvision/index.html)). The `torchvision` package consists of popular datasets, model architectures, and common image transformations for computer vision. We will use the package for many of the notebooks in this course to simplify our dataset handling. \n",
    "\n",
    "FashionMNIST already has the training and test sets separated but we need to split the training and validation sets ourselves. Below we load in the dataset:"
   ]
  },
  {
   "cell_type": "code",
   "execution_count": 9,
   "metadata": {
    "scrolled": false
   },
   "outputs": [],
   "source": [
    "import torchvision\n",
    "from torchvision.datasets import FashionMNIST\n",
    "from torchvision import transforms\n",
    "\n",
    "# Transformations applied on each image => first make them a tensor, then normalize them in the range -1 to 1\n",
    "\n",
    "transform = transforms.Compose([transforms.ToTensor(), \n",
    "                                transforms.Normalize((0.5,), (0.5,))])\n",
    "\n",
    "# Loading the training dataset. We need to split it into a training and validation part\n",
    "train_dataset = FashionMNIST(root=DATASET_PATH, train=True, transform=transform, download=True)\n",
    "train_set, val_set = torch.utils.data.random_split(train_dataset, [50000, 10000])\n",
    "\n",
    "# Loading the test set\n",
    "test_set = FashionMNIST(root=DATASET_PATH, train=False, transform=transform, download=True)\n",
    "\n",
    "# We define a set of data loaders that we can use for various purposes later.\n",
    "# Note that for actually training a model, we will use different data loaders\n",
    "# with a lower batch size.\n",
    "train_loader = data.DataLoader(train_set, batch_size=1024, shuffle=True, drop_last=False)\n",
    "val_loader = data.DataLoader(val_set, batch_size=1024, shuffle=False, drop_last=False)\n",
    "test_loader = data.DataLoader(test_set, batch_size=1024, shuffle=False, drop_last=False)"
   ]
  },
  {
   "cell_type": "markdown",
   "metadata": {},
   "source": [
    "<div style=\"background-color:#C2F5DD\">\n",
    "\n",
    "### Exercise\n",
    "    \n",
    "Visualize a few of the MNIST images to get an impression of the data."
   ]
  },
  {
   "cell_type": "code",
   "execution_count": 10,
   "metadata": {},
   "outputs": [
    {
     "data": {
      "text/plain": [
       "['/bin/bash: !!!!!!!!!!!!!!!!!: command not found']"
      ]
     },
     "execution_count": 10,
     "metadata": {},
     "output_type": "execute_result"
    }
   ],
   "source": [
    "exmp_imgs = [train_set[i][0] for i in range(16)]\n",
    "# Organize the images into a grid for nicer visualization and plot them\n",
    "!!!!!!!!!!!!!!!!!!!"
   ]
  },
  {
   "cell_type": "markdown",
   "metadata": {},
   "source": [
    "### Neural Network Setup\n",
    "\n",
    "The code below contains the framework to implement the required network: we must view the Fashion MNIST images as 1D tensors and then push them through a sequence of linear layers and a specified activation function. \n",
    "\n",
    "I've given the function signature below. Feel free to experiment with other network architectures.\n",
    "\n",
    "<div style=\"background-color:#C2F5DD\">\n",
    "    \n",
    "### Exercise\n",
    "\n",
    "Complete the cell below by adding the code required to create the hidden layers.\n",
    "   "
   ]
  },
  {
   "cell_type": "code",
   "execution_count": 7,
   "metadata": {
    "scrolled": true
   },
   "outputs": [],
   "source": [
    "class BaseNetwork(nn.Module):\n",
    "    \n",
    "    def __init__(self, act_fn, input_size=784, num_classes=10, hidden_sizes=[512, 256, 256, 128]):\n",
    "        \"\"\"\n",
    "        Inputs:\n",
    "            act_fn - Object of the activation function that should be used as non-linearity in the network. \n",
    "            input_size - Size of the input images in pixels\n",
    "            num_classes - Number of classes we want to predict\n",
    "            hidden_sizes - A list of integers specifying the hidden layer sizes in the NN\n",
    "        \"\"\"\n",
    "        super().__init__()\n",
    "        \n",
    "        # Create the network based on the specified hidden sizes\n",
    "        !!!!!!!!!!!        \n",
    "        #Between each linear layer, we should also have a layer with the non-linear activation function act_fn\n",
    "        \n",
    "        \n",
    "        # We store all hyperparameters in a dictionary for saving and loading of the model\n",
    "        self.config = {\"act_fn\": act_fn.config, \"input_size\": input_size, \"num_classes\": num_classes, \"hidden_sizes\": hidden_sizes} \n",
    "        \n",
    "    def forward(self, x):\n",
    "        x = x.view(x.size(0), -1) # Reshape images to a flat vector\n",
    "        out = self.layers(x)\n",
    "        return out    "
   ]
  },
  {
   "cell_type": "markdown",
   "metadata": {},
   "source": [
    "We also add functions for loading and saving the model. The hyperparameters are stored in a configuration file (simple json file)."
   ]
  },
  {
   "cell_type": "code",
   "execution_count": 8,
   "metadata": {
    "scrolled": true
   },
   "outputs": [],
   "source": [
    "def _get_config_file(model_path, model_name):\n",
    "    # Name of the file for storing hyperparameter details\n",
    "    return os.path.join(model_path, model_name + \".config\")\n",
    "\n",
    "def _get_model_file(model_path, model_name):\n",
    "    # Name of the file for storing network parameters\n",
    "    return os.path.join(model_path, model_name + \".tar\")\n",
    "\n",
    "def load_model(model_path, model_name, net=None):\n",
    "    \"\"\"\n",
    "    Loads a saved model from disk.\n",
    "    \n",
    "    Inputs:\n",
    "        model_path - Path of the checkpoint directory\n",
    "        model_name - Name of the model (str)\n",
    "        net - (Optional) If given, the state dict is loaded into this model. Otherwise, a new model is created.\n",
    "    \"\"\"\n",
    "    config_file, model_file = _get_config_file(model_path, model_name), _get_model_file(model_path, model_name)\n",
    "    assert os.path.isfile(config_file), f\"Could not find the config file \\\"{config_file}\\\". Are you sure this is the correct path and you have your model config stored here?\"\n",
    "    assert os.path.isfile(model_file), f\"Could not find the model file \\\"{model_file}\\\". Are you sure this is the correct path and you have your model stored here?\"\n",
    "    with open(config_file, \"r\") as f:\n",
    "        config_dict = json.load(f)\n",
    "    if net is None:\n",
    "        act_fn_name = config_dict[\"act_fn\"].pop(\"name\").lower()\n",
    "        act_fn = act_fn_by_name[act_fn_name](**config_dict.pop(\"act_fn\"))\n",
    "        net = BaseNetwork(act_fn=act_fn, **config_dict)\n",
    "    net.load_state_dict(torch.load(model_file, map_location=device))\n",
    "    return net\n",
    "    \n",
    "def save_model(model, model_path, model_name):\n",
    "    \"\"\"\n",
    "    Given a model, we save the state_dict and hyperparameters.\n",
    "    \n",
    "    Inputs:\n",
    "        model - Network object to save parameters from\n",
    "        model_path - Path of the checkpoint directory\n",
    "        model_name - Name of the model (str)\n",
    "    \"\"\"\n",
    "    config_dict = model.config\n",
    "    os.makedirs(model_path, exist_ok=True)\n",
    "    config_file, model_file = _get_config_file(model_path, model_name), _get_model_file(model_path, model_name)\n",
    "    with open(config_file, \"w\") as f:\n",
    "        json.dump(config_dict, f)\n",
    "    torch.save(model.state_dict(), model_file)"
   ]
  },
  {
   "cell_type": "markdown",
   "metadata": {},
   "source": [
    "<hr style=\"border:2px solid gray\">\n",
    "\n",
    "# Gradient flow [^](#index)  <a id='gradient-flow'></a>\n",
    "\n",
    "# This may be a repeat of prev week\n",
    "\n",
    "**Gradient flow** describes how activation functions propagate the gradients of the loss function (referred to here as gradients) through the network. First, we should remind ourselves about how a multi-layered NN trains:\n",
    "\n",
    "1. **Forward Pass:** The input data is fed into the neural network and passes through the successive layers. \n",
    "1. **Loss Calculation:** Using a specified loss function, the error of our predicted values compared to the true values is calculated. By training our model, we want to minimise this error.\n",
    "1. **Backward Pass (Backpropogation):** This is the key concept in gradient flow, and was discussed in more detail in the Neural Networks notebook. \n",
    "- Just like in the linear models we considered in ML Basics, we can minimise the loss by moving in the direction of the negative gradient of the loss function. Unlike in linear models, the relationship between loss function and the weights and bias is often not direct (there may be many NN layers with activation function in between).\n",
    "- To solve this, we calculate the gradients by using the chain rule and moving **backwards** through our network. \n",
    "- Consider the image below, where $\\phi$ represents our activation function and the term in brackets is $z$ (z will have the same indexing notation as the other terms), as we saw before. From the chain rule, we can calculate the effects of weights in the final layer using:\n",
    "\n",
    "\n",
    "$$\\frac{\\partial L}{\\partial w^{(2)}_{11}} = \\frac{\\partial L}{\\partial \\phi  (z^{(2)} )}\n",
    "                                              \\frac{\\partial \\phi (z^{(2)})}{\\partial z^{(2)}}\n",
    "                                              \\frac{\\partial z^{(2)}}{\\partial w^{(2)}_{11}}\n",
    "                                              = \\frac{\\partial L}{\\partial y}\n",
    "                                              \\frac{\\partial y}{\\partial w^{(2)}_{11}}$$\n",
    "                                                                                           \n",
    "\n",
    "- Working backwards allows us to increase the efficiency of our model. Since we have already calculated $\\frac{\\partial L}{\\partial y}$, we can use the result in further chain rules. We can repeat this with $\\frac{\\partial L}{\\partial a_1}$, and so on. (For more complex networks, we would also have to sum the different partial differentials from each branch. [JeremyJordan](https://www.jeremyjordan.me/neural-networks-training/) includes these terms written out in full, as well as explaining how matrix calculations can decrease the complexity of the many derivatives required.)\n",
    "\n",
    "$$ \\frac{\\partial L}{\\partial w^{(1)}_{11}} = \\frac{\\partial L}{\\partial y}\n",
    "                                              \\frac{\\partial y}{\\partial \\phi  (z_1^{(1)} )}\n",
    "                                              \\frac{\\partial \\phi (z_1^{(1)} )}{\\partial z_1^{(1)}}\n",
    "                                              \\frac{\\partial z_1^{(1)}}{\\partial w^{(2)}_{11}} \n",
    "                                              = \\frac{\\partial L}{\\partial a_1}\n",
    "                                              \\frac{\\partial a_1}{\\partial w^{(2)}_{11}}$$\n",
    "                                            \n",
    "<img src=\"weight-and-bias.png\" width=\"600\" />\n",
    "\n",
    "4. **Update:** Using these gradient calculations, we can then update our weights and biases.\n",
    "5. **Repeat:** The process repeats until a stopping condition is met (such as maximum number of iterations reached).\n",
    "\n",
    "### Issues with Gradient Flow\n",
    "\n",
    "Imagine we have a very deep neural network with more than 50 layers. Each layer we move back through the network, we will introduce a further term of $\\frac{\\partial \\phi (z )}{\\partial z}$. So to calculate the effects of the weights from the input terms to the first nodes, our equation would have 50 multiples of this term.\n",
    "\n",
    "**Vanishing Gradient Problem** \n",
    "\n",
    "If the expectation of this gradient term is considerably smaller than 1, the multiplication effect will mean that $\\frac{\\partial L}{\\partial w}$ will become extremely close to 0 for any weights far from the output. The weights are updated in proportion to this gradient term, so a gradient close to 0 will mean that these earlier weights barely update as we repeat each iteration. This results in **slow** or **stalled** learning.\n",
    "\n",
    "Using an activation function that will not have a 0 gradient (such as ReLU) will help to resolve this problem\n",
    "\n",
    "**Exploding Gradient**\n",
    "\n",
    "The opposite effect is if the expectation of $\\frac{\\partial \\phi (z )}{\\partial z}$ is much greater than one. In this instance, backpropogation will cause $\\frac{\\partial L}{\\partial w}$ for earlier terms to be extremely large, and thus cause wild fluctuations in weights that make it difficult for the model to train effectively.\n",
    "\n",
    "How do you think gradient flow influences choosing a training rate for your network?\n",
    "\n",
    "To get a feeling of how every activation function influences the gradients, plot a freshly initialized network and measure the gradients for each parameter at the activation function layers of your model (which are these?) for a batch of 256 images:"
   ]
  },
  {
   "cell_type": "code",
   "execution_count": 11,
   "metadata": {
    "scrolled": true
   },
   "outputs": [],
   "source": [
    "def visualize_gradients(net, color=\"C0\"):\n",
    "    \"\"\"\n",
    "    Inputs:\n",
    "        net - Object of class BaseNetwork\n",
    "        color - Color in which we want to visualize the histogram (for easier separation of activation functions)\n",
    "    \"\"\"\n",
    "    net.eval()\n",
    "    small_loader = data.DataLoader(train_set, batch_size=256, shuffle=False)\n",
    "    imgs, labels = next(iter(small_loader))\n",
    "    imgs, labels = imgs.to(device), labels.to(device)\n",
    "    \n",
    "    # Pass one batch through the network, and calculate the gradients for the weights\n",
    "    # FS- For the loss function, use cross_entropy \n",
    "    #https://pytorch.org/docs/stable/generated/torch.nn.functional.cross_entropy.html\n",
    "    \n",
    "    !!!!!!!!!!!!!!!!!!!\n",
    "    \n",
    "    # We limit our visualization to the weight parameters and exclude the bias to reduce the number of plots\n",
    "    grads = {name: params.grad.data.view(-1).cpu().clone().numpy() for name, params in net.named_parameters() if \"weight\" in name}\n",
    "    net.zero_grad()\n",
    "    \n",
    "    ## Plotting\n",
    "    columns = len(grads)\n",
    "    fig, ax = plt.subplots(1, columns, figsize=(columns*3.5, 2.5))\n",
    "    fig_index = 0\n",
    "    for key in grads:\n",
    "        key_ax = ax[fig_index%columns]\n",
    "        sns.histplot(data=grads[key], bins=30, ax=key_ax, color=color, kde=True)\n",
    "        key_ax.set_title(str(key))\n",
    "        key_ax.set_xlabel(\"Grad magnitude\")\n",
    "        fig_index += 1\n",
    "    fig.suptitle(f\"Gradient magnitude distribution for activation function {net.config['act_fn']['name']}\", fontsize=14, y=1.05)\n",
    "    fig.subplots_adjust(wspace=0.45)\n",
    "    plt.show()\n",
    "    plt.close() "
   ]
  },
  {
   "cell_type": "code",
   "execution_count": 12,
   "metadata": {
    "scrolled": false
   },
   "outputs": [
    {
     "ename": "NameError",
     "evalue": "name 'act_fn_by_name' is not defined",
     "output_type": "error",
     "traceback": [
      "\u001b[0;31m---------------------------------------------------------------------------\u001b[0m",
      "\u001b[0;31mNameError\u001b[0m                                 Traceback (most recent call last)",
      "Input \u001b[0;32mIn [12]\u001b[0m, in \u001b[0;36m<cell line: 5>\u001b[0;34m()\u001b[0m\n\u001b[1;32m      3\u001b[0m warnings\u001b[38;5;241m.\u001b[39mfilterwarnings(\u001b[38;5;124m'\u001b[39m\u001b[38;5;124mignore\u001b[39m\u001b[38;5;124m'\u001b[39m)\n\u001b[1;32m      4\u001b[0m \u001b[38;5;66;03m## Create a plot for every activation function\u001b[39;00m\n\u001b[0;32m----> 5\u001b[0m \u001b[38;5;28;01mfor\u001b[39;00m i, act_fn_name \u001b[38;5;129;01min\u001b[39;00m \u001b[38;5;28menumerate\u001b[39m(\u001b[43mact_fn_by_name\u001b[49m):\n\u001b[1;32m      6\u001b[0m     set_seed(\u001b[38;5;241m42\u001b[39m) \u001b[38;5;66;03m# Setting the seed ensures that we have the same weight initialization for each activation function\u001b[39;00m\n\u001b[1;32m      7\u001b[0m     act_fn \u001b[38;5;241m=\u001b[39m act_fn_by_name[act_fn_name]()\n",
      "\u001b[0;31mNameError\u001b[0m: name 'act_fn_by_name' is not defined"
     ]
    }
   ],
   "source": [
    "# Seaborn prints warnings if histogram has small values. We can ignore them for now\n",
    "import warnings\n",
    "warnings.filterwarnings('ignore')\n",
    "## Create a plot for every activation function\n",
    "for i, act_fn_name in enumerate(act_fn_by_name):\n",
    "    set_seed(42) # Setting the seed ensures that we have the same weight initialization for each activation function\n",
    "    act_fn = act_fn_by_name[act_fn_name]()\n",
    "    net_actfn = BaseNetwork(act_fn=act_fn).to(device)\n",
    "    visualize_gradients(net_actfn, color=f\"C{i}\")\n",
    "    \n",
    "#N.b. The number indicating the number of layers refers to both the linear layers and those containing the \n",
    "#activation function"
   ]
  },
  {
   "cell_type": "markdown",
   "metadata": {},
   "source": [
    "The sigmoid activation function shows a clearly undesirable behavior. While the gradients for the output layer are very large with values up to 0.1, the input layer has the lowest gradient norm across all activation functions with only 1e-5. This is due to its small maximum gradient of 1/4, and finding a suitable learning rate across all layers is not possible in this setup.\n",
    "All the other activation functions show similar gradient norms across all layers. Interestingly, the ReLU activation has a spike around 0 which is caused by its zero-part on the left, and dead neurons (we will take a closer look at this later on).\n",
    "\n",
    "Note that in addition to the activation, the initialisation of the weight parameters can be crucial. By default, PyTorch uses the [Kaiming](https://pytorch.org/docs/stable/nn.init.html#torch.nn.init.kaiming_uniform_) initialisation for linear layers optimised for ReLU activations. We could do a whole extra class on initialisation, but assume for now that the Kaiming initialisation works for all activation functions reasonably well (the Universitet van Amsterdam course has more information on initialisation in lecture 4: https://github.com/phlippe/uvadlc_notebooks/tree/master/docs/tutorial_notebooks/tutorial4)."
   ]
  },
  {
   "cell_type": "markdown",
   "metadata": {},
   "source": [
    "<hr style=\"border:2px solid gray\">\n",
    "<div style=\"background-color:#C2F5DD\">\n",
    "\n",
    "### Training a model [^](#index) <a id='training-a-model'></a>\n",
    "\n",
    "Next, we want to train our model with different activation functions on FashionMNIST and compare the gained performance. All in all, our final goal is to achieve the best possible performance on a dataset of our choice. \n",
    "Therefore, you need to write a training loop in the next cell including a validation after every epoch and a final test on the best model:"
   ]
  },
  {
   "cell_type": "code",
   "execution_count": 13,
   "metadata": {
    "scrolled": true
   },
   "outputs": [],
   "source": [
    "def train_model(net, model_name, max_epochs=50, patience=7, batch_size=256, overwrite=False):\n",
    "    \"\"\"\n",
    "    Train a model on the training set of FashionMNIST\n",
    "    \n",
    "    Inputs:\n",
    "        net - Object of BaseNetwork\n",
    "        model_name - (str) Name of the model, used for creating the checkpoint names\n",
    "        max_epochs - Number of epochs we want to (maximally) train for\n",
    "        patience - If the performance on the validation set has not improved for #patience epochs, \n",
    "                    we stop training early\n",
    "        batch_size - Size of batches used in training\n",
    "        overwrite - Determines how to handle the case when there already exists a checkpoint.\n",
    "                    If True, it will be overwritten. Otherwise, we skip training.\n",
    "    \"\"\"\n",
    "    file_exists = os.path.isfile(_get_model_file(CHECKPOINT_PATH, model_name))\n",
    "    if file_exists and not overwrite:\n",
    "        print(\"Model file already exists. Skipping training...\")\n",
    "    else:\n",
    "        if file_exists:\n",
    "            print(\"Model file exists, but will be overwritten...\")\n",
    "            \n",
    "        # Defining optimizer, loss and data loader\n",
    "        optimizer = optim.SGD(net.parameters(), lr=1e-2, momentum=0.9) # Default parameters, feel free to change\n",
    "        loss_module = nn.CrossEntropyLoss() \n",
    "        train_loader_local = data.DataLoader(train_set, batch_size=batch_size, shuffle=True, drop_last=True, pin_memory=True)\n",
    "\n",
    "        val_scores = []\n",
    "        best_val_epoch = -1\n",
    "        for epoch in range(max_epochs):\n",
    "            ############\n",
    "            # Training #\n",
    "            ############\n",
    "            net.train()\n",
    "            true_preds, count = 0., 0\n",
    "            for imgs, labels in tqdm(train_loader_local, desc=f\"Epoch {epoch+1}\", leave=False):\n",
    "                imgs, labels = imgs.to(device), labels.to(device) # To GPU if we have one\n",
    "                optimizer.zero_grad() # Zero-grad can be placed anywhere before \"loss.backward()\"\n",
    "                \n",
    "                \n",
    "                !!!!!!!!FILL IN THE TRAINING LOOP\n",
    "                #See NeuralNetworks-Pytorch (link?) for a reminder\n",
    "                \n",
    "                # Record statistics during training\n",
    "                true_preds += (preds.argmax(dim=-1) == labels).sum()\n",
    "                count += labels.shape[0]\n",
    "            train_acc = true_preds / count\n",
    "\n",
    "            ##############\n",
    "            # Validation #\n",
    "            ##############\n",
    "            val_acc = test_model(net, val_loader)\n",
    "            val_scores.append(val_acc)\n",
    "            print(f\"[Epoch {epoch+1:2d}] Training accuracy: {train_acc*100.0:05.2f}%, Validation accuracy: {val_acc*100.0:05.2f}%\")\n",
    "\n",
    "            if len(val_scores) == 1 or val_acc > val_scores[best_val_epoch]:\n",
    "                print(\"\\t   (New best performance, saving model...)\")\n",
    "                save_model(net, CHECKPOINT_PATH, model_name)\n",
    "                best_val_epoch = epoch\n",
    "            elif best_val_epoch <= epoch - patience:\n",
    "                print(f\"Early stopping due to no improvement over the last {patience} epochs\")\n",
    "                break\n",
    "\n",
    "        # Plot a curve of the validation accuracy\n",
    "        !!!!!!!!!!!!!!!!!!!!!!!!!!!!!!!\n",
    "    \n",
    "    load_model(CHECKPOINT_PATH, model_name, net=net)\n",
    "    test_acc = test_model(net, test_loader)\n",
    "    print((f\" Test accuracy: {test_acc*100.0:4.2f}% \").center(50, \"=\")+\"\\n\")\n",
    "    return test_acc\n",
    "    \n",
    "\n",
    "def test_model(net, data_loader):\n",
    "    \"\"\"\n",
    "    Test a model on a specified dataset.\n",
    "    \n",
    "    Inputs:\n",
    "        net - Trained model of type BaseNetwork\n",
    "        data_loader - DataLoader object of the dataset to test on (validation or test)\n",
    "    \"\"\"\n",
    "    net.eval()\n",
    "    true_preds, count = 0., 0\n",
    "    for imgs, labels in data_loader:\n",
    "        imgs, labels = imgs.to(device), labels.to(device)\n",
    "        with torch.no_grad():\n",
    "            !!!!!!!!!!!!WRITE THE TEST FUNCTION\n",
    "    return test_acc "
   ]
  },
  {
   "cell_type": "markdown",
   "metadata": {},
   "source": [
    "We train one model for each activation function."
   ]
  },
  {
   "cell_type": "code",
   "execution_count": 14,
   "metadata": {
    "scrolled": false
   },
   "outputs": [
    {
     "ename": "NameError",
     "evalue": "name 'act_fn_by_name' is not defined",
     "output_type": "error",
     "traceback": [
      "\u001b[0;31m---------------------------------------------------------------------------\u001b[0m",
      "\u001b[0;31mNameError\u001b[0m                                 Traceback (most recent call last)",
      "Input \u001b[0;32mIn [14]\u001b[0m, in \u001b[0;36m<cell line: 1>\u001b[0;34m()\u001b[0m\n\u001b[0;32m----> 1\u001b[0m \u001b[38;5;28;01mfor\u001b[39;00m act_fn_name \u001b[38;5;129;01min\u001b[39;00m \u001b[43mact_fn_by_name\u001b[49m:\n\u001b[1;32m      2\u001b[0m     \u001b[38;5;28mprint\u001b[39m(\u001b[38;5;124mf\u001b[39m\u001b[38;5;124m\"\u001b[39m\u001b[38;5;124mTraining BaseNetwork with \u001b[39m\u001b[38;5;132;01m{\u001b[39;00mact_fn_name\u001b[38;5;132;01m}\u001b[39;00m\u001b[38;5;124m activation...\u001b[39m\u001b[38;5;124m\"\u001b[39m)\n\u001b[1;32m      3\u001b[0m     set_seed(\u001b[38;5;241m42\u001b[39m)\n",
      "\u001b[0;31mNameError\u001b[0m: name 'act_fn_by_name' is not defined"
     ]
    }
   ],
   "source": [
    "for act_fn_name in act_fn_by_name:\n",
    "    print(f\"Training BaseNetwork with {act_fn_name} activation...\")\n",
    "    set_seed(42)\n",
    "    act_fn = act_fn_by_name[act_fn_name]()\n",
    "    net_actfn = BaseNetwork(act_fn=act_fn).to(device)\n",
    "    train_model(net_actfn, f\"FashionMNIST_{act_fn_name}\", overwrite=True)\n",
    "    \n",
    "#This takes a while, >(13:47)"
   ]
  },
  {
   "cell_type": "markdown",
   "metadata": {},
   "source": [
    "Which activation functions perform well? Is this what you were expecting from their gradient flow properties?\n",
    "\n",
    "Not surprisingly, the model using the sigmoid activation function fails and does not improve upon random performance (10 classes => 1/10 for random chance). This is because the gradient of the input layer parameters on the loss function is negligible compared to the other layers.\n",
    "\n",
    "All the other activation functions gain similar performance.\n",
    "To have a more accurate conclusion, we would have to train the models for multiple seeds and look at the averages.\n",
    "All the other activation functions gain similar performance. To have a more accurate conclusion, we would have to train the models for multiple seeds and look at the averages. However, the \"optimal\" activation function also depends on many other factors (hidden sizes, number of layers, type of layers, task, dataset, optimizer, learning rate, etc.) so that a thorough grid search would not be useful in our case. \n",
    "In the literature, activation functions that have shown to work well with deep networks are all types of ReLU functions that we experimented with here, with small gains for specific activation functions in specific networks."
   ]
  },
  {
   "cell_type": "markdown",
   "metadata": {},
   "source": [
    "<hr style=\"border:2px solid gray\">\n",
    "<div style=\"background-color:#C2F5DD\">\n",
    "    \n",
    "### Visualizing the activation distribution [^](#index) <a id='visualizing-the-activation-distribution'></a>\n",
    "\n",
    "\n",
    "After we have trained the models, we can look at the actual activation values that are found inside the model. For instance, how many neurons are set to zero in ReLU? Where do we find most values in Tanh?\n",
    "To answer these questions, write a simple function which takes a trained model, applies it to a batch of images, and plots the histogram of the activations (activation function outputs?) inside the network:"
   ]
  },
  {
   "cell_type": "code",
   "execution_count": 1,
   "metadata": {
    "scrolled": true
   },
   "outputs": [],
   "source": [
    "def visualize_activations(net, color=\"C0\"):\n",
    "    activations = {}\n",
    "    \n",
    "    !!!!!!!!!!!!!!!!!!!!!\n",
    "    #FS- This is difficult\n",
    "    \n",
    "    ## Plotting\n",
    "    !!!!!!!!!!!!!!!!!!!!!"
   ]
  },
  {
   "cell_type": "code",
   "execution_count": 16,
   "metadata": {
    "scrolled": false
   },
   "outputs": [
    {
     "ename": "NameError",
     "evalue": "name 'act_fn_by_name' is not defined",
     "output_type": "error",
     "traceback": [
      "\u001b[0;31m---------------------------------------------------------------------------\u001b[0m",
      "\u001b[0;31mNameError\u001b[0m                                 Traceback (most recent call last)",
      "Input \u001b[0;32mIn [16]\u001b[0m, in \u001b[0;36m<cell line: 1>\u001b[0;34m()\u001b[0m\n\u001b[0;32m----> 1\u001b[0m \u001b[38;5;28;01mfor\u001b[39;00m i, act_fn_name \u001b[38;5;129;01min\u001b[39;00m \u001b[38;5;28menumerate\u001b[39m(\u001b[43mact_fn_by_name\u001b[49m):\n\u001b[1;32m      2\u001b[0m     net_actfn \u001b[38;5;241m=\u001b[39m load_model(model_path\u001b[38;5;241m=\u001b[39mCHECKPOINT_PATH, model_name\u001b[38;5;241m=\u001b[39m\u001b[38;5;124mf\u001b[39m\u001b[38;5;124m\"\u001b[39m\u001b[38;5;124mFashionMNIST_\u001b[39m\u001b[38;5;132;01m{\u001b[39;00mact_fn_name\u001b[38;5;132;01m}\u001b[39;00m\u001b[38;5;124m\"\u001b[39m)\u001b[38;5;241m.\u001b[39mto(device)\n\u001b[1;32m      3\u001b[0m     visualize_activations(net_actfn, color\u001b[38;5;241m=\u001b[39m\u001b[38;5;124mf\u001b[39m\u001b[38;5;124m\"\u001b[39m\u001b[38;5;124mC\u001b[39m\u001b[38;5;132;01m{\u001b[39;00mi\u001b[38;5;132;01m}\u001b[39;00m\u001b[38;5;124m\"\u001b[39m)\n",
      "\u001b[0;31mNameError\u001b[0m: name 'act_fn_by_name' is not defined"
     ]
    }
   ],
   "source": [
    "for i, act_fn_name in enumerate(act_fn_by_name):\n",
    "    net_actfn = load_model(model_path=CHECKPOINT_PATH, model_name=f\"FashionMNIST_{act_fn_name}\").to(device)\n",
    "    visualize_activations(net_actfn, color=f\"C{i}\")"
   ]
  },
  {
   "cell_type": "markdown",
   "metadata": {},
   "source": [
    "As the model with sigmoid activation was not able to train properly, the activations are also less informative and are all gathered around 0.5 (the activation at input 0).\n",
    "\n",
    "The tanh shows a more diverse behavior. While for the input layer we see a larger amount of neurons (neuron outputs?) to be close to -1 and 1 (where the gradients are close to zero), the values in the two consecutive layers are closer to zero. This is probably because the input layers look for specific features in the input image, and the consecutive layers combine those together. The activations for the last layer are again more biased to the extreme points because the classification layer can be seen as a weighted average of those values (the gradients push the activations to those extremes).\n",
    "\n",
    "The ReLU has a strong peak at 0, as we initially expected. The effect of having no gradients for negative values is that the network does not have a Gaussian-like distribution after the linear layers, but a longer tail towards the positive values. The LeakyReLU shows a very similar behavior, whereas ELU follows a more Gaussian-like distribution. The Swish activation seems to lie in between, although it is worth noting that Swish uses significantly higher values than other activation functions (up to 20).\n",
    "\n",
    "We see that all activation functions show slightly different behavior, although obtaining similar performances for our simple network. Thus it is apparent that the selection of the \"optimal\" activation function really depends on many factors, and is not the same for all possible networks."
   ]
  },
  {
   "cell_type": "markdown",
   "metadata": {},
   "source": [
    "<hr style=\"border:2px solid gray\">\n",
    "\n",
    "# Dead Neurons [^](#index) <a id='dead-neurons'></a>"
   ]
  },
  {
   "cell_type": "markdown",
   "metadata": {},
   "source": [
    "One known drawback of the ReLU activation is the occurrence of \"dead neurons\". These are neurons with **no gradient** for any training input.\n",
    "\n",
    "Given our training model is based on finding the gradient of the loss function with respect to each layer's parameters, dead neurons mean that we cannot train the parameters of this neuron in the previous layer to obtain output values besides zero.\n",
    "For dead neurons to happen, the output value of a specific neuron of the linear layer before the ReLU has to be negative for all input images.\n",
    "Considering the large number of neurons we have in a neural network, it is not unlikely for this to happen. "
   ]
  },
  {
   "cell_type": "markdown",
   "metadata": {},
   "source": [
    "<div style=\"background-color:#C2F5DD\">\n",
    "\n",
    "To get a better understanding of how much of a problem this is, and when we need to be careful, we will measure how many dead neurons different networks have. For this, you need to implement a function which runs the network on the whole training set and records whether a neuron is exactly 0 for all data points or not:"
   ]
  },
  {
   "cell_type": "code",
   "execution_count": 17,
   "metadata": {
    "scrolled": true
   },
   "outputs": [],
   "source": [
    "def measure_number_dead_neurons(net):\n",
    "\n",
    "    # For each neuron, we create a boolean variable initially set to 1. If it has an activation unequals 0 at any time,\n",
    "    # we set this variable to 0. After running through the whole training set, only dead neurons will have a 1.\n",
    "    neurons_dead = [\n",
    "        torch.ones(layer.weight.shape[0], device=device, dtype=torch.bool) for layer in net.layers[:-1] if isinstance(layer, nn.Linear)\n",
    "    ] # Same shapes as hidden size in BaseNetwork\n",
    "\n",
    "    net.eval()\n",
    "    with torch.no_grad():\n",
    "        for imgs, labels in tqdm(train_loader, leave=False): # Run through whole training set\n",
    "            !!!!!!!!!TEST TO SEE IF ALL ACTIVATIONS ARE ZERO\n",
    "    number_neurons_dead = [t.sum().item() for t in neurons_dead]\n",
    "    print(\"Number of dead neurons:\", number_neurons_dead)\n",
    "    print(\"In percentage:\", \", \".join([f\"{(100.0 * num_dead / tens.shape[0]):4.2f}%\" for tens, num_dead in zip(neurons_dead, number_neurons_dead)]))"
   ]
  },
  {
   "cell_type": "markdown",
   "metadata": {},
   "source": [
    "<div style=\"background-color:#C2F5DD\">\n",
    "\n",
    "Now use your function to measure the number of dead neurons in an untrained ReLU activation function network:"
   ]
  },
  {
   "cell_type": "code",
   "execution_count": 18,
   "metadata": {
    "scrolled": true
   },
   "outputs": [
    {
     "ename": "NameError",
     "evalue": "name 'ReLU' is not defined",
     "output_type": "error",
     "traceback": [
      "\u001b[0;31m---------------------------------------------------------------------------\u001b[0m",
      "\u001b[0;31mNameError\u001b[0m                                 Traceback (most recent call last)",
      "Input \u001b[0;32mIn [18]\u001b[0m, in \u001b[0;36m<cell line: 2>\u001b[0;34m()\u001b[0m\n\u001b[1;32m      1\u001b[0m set_seed(\u001b[38;5;241m42\u001b[39m)\n\u001b[0;32m----> 2\u001b[0m net_relu \u001b[38;5;241m=\u001b[39m BaseNetwork(act_fn\u001b[38;5;241m=\u001b[39m\u001b[43mReLU\u001b[49m())\u001b[38;5;241m.\u001b[39mto(device)\n\u001b[1;32m      3\u001b[0m measure_number_dead_neurons(net_relu)\n",
      "\u001b[0;31mNameError\u001b[0m: name 'ReLU' is not defined"
     ]
    }
   ],
   "source": [
    "set_seed(42)\n",
    "net_relu = BaseNetwork(act_fn=ReLU()).to(device)\n",
    "measure_number_dead_neurons(net_relu)"
   ]
  },
  {
   "cell_type": "markdown",
   "metadata": {},
   "source": [
    "We see that only a minor amount of neurons are dead, but that they increase with the depth of the layer.\n",
    "However, this is not a problem for the small number of dead neurons we have since the input to later layers is changed due to updates to the weights of previous layers. Therefore, dead neurons in later layers can potentially become \"alive\"/active again. "
   ]
  },
  {
   "cell_type": "markdown",
   "metadata": {},
   "source": [
    "<div style=\"background-color:#C2F5DD\">\n",
    "\n",
    "Try for a different activation function, what are you expecting?"
   ]
  },
  {
   "cell_type": "code",
   "execution_count": 19,
   "metadata": {},
   "outputs": [
    {
     "ename": "NameError",
     "evalue": "name 'ELU' is not defined",
     "output_type": "error",
     "traceback": [
      "\u001b[0;31m---------------------------------------------------------------------------\u001b[0m",
      "\u001b[0;31mNameError\u001b[0m                                 Traceback (most recent call last)",
      "Input \u001b[0;32mIn [19]\u001b[0m, in \u001b[0;36m<cell line: 2>\u001b[0;34m()\u001b[0m\n\u001b[1;32m      1\u001b[0m set_seed(\u001b[38;5;241m42\u001b[39m)\n\u001b[0;32m----> 2\u001b[0m net_elu \u001b[38;5;241m=\u001b[39m BaseNetwork(act_fn\u001b[38;5;241m=\u001b[39m\u001b[43mELU\u001b[49m())\u001b[38;5;241m.\u001b[39mto(device)\n\u001b[1;32m      3\u001b[0m measure_number_dead_neurons(net_elu)\n",
      "\u001b[0;31mNameError\u001b[0m: name 'ELU' is not defined"
     ]
    }
   ],
   "source": [
    "set_seed(42)\n",
    "net_elu = BaseNetwork(act_fn=ELU()).to(device)\n",
    "measure_number_dead_neurons(net_elu)"
   ]
  },
  {
   "cell_type": "markdown",
   "metadata": {},
   "source": [
    "Now let us look at this for a trained ReLU network (with the same initialization):"
   ]
  },
  {
   "cell_type": "code",
   "execution_count": 20,
   "metadata": {
    "scrolled": true
   },
   "outputs": [
    {
     "ename": "NameError",
     "evalue": "name 'act_fn_by_name' is not defined",
     "output_type": "error",
     "traceback": [
      "\u001b[0;31m---------------------------------------------------------------------------\u001b[0m",
      "\u001b[0;31mNameError\u001b[0m                                 Traceback (most recent call last)",
      "Input \u001b[0;32mIn [20]\u001b[0m, in \u001b[0;36m<cell line: 1>\u001b[0;34m()\u001b[0m\n\u001b[0;32m----> 1\u001b[0m net_relu \u001b[38;5;241m=\u001b[39m \u001b[43mload_model\u001b[49m\u001b[43m(\u001b[49m\u001b[43mmodel_path\u001b[49m\u001b[38;5;241;43m=\u001b[39;49m\u001b[43mCHECKPOINT_PATH\u001b[49m\u001b[43m,\u001b[49m\u001b[43m \u001b[49m\u001b[43mmodel_name\u001b[49m\u001b[38;5;241;43m=\u001b[39;49m\u001b[38;5;124;43m\"\u001b[39;49m\u001b[38;5;124;43mFashionMNIST_relu\u001b[39;49m\u001b[38;5;124;43m\"\u001b[39;49m\u001b[43m)\u001b[49m\u001b[38;5;241m.\u001b[39mto(device)\n\u001b[1;32m      2\u001b[0m measure_number_dead_neurons(net_relu)\n",
      "Input \u001b[0;32mIn [8]\u001b[0m, in \u001b[0;36mload_model\u001b[0;34m(model_path, model_name, net)\u001b[0m\n\u001b[1;32m     23\u001b[0m \u001b[38;5;28;01mif\u001b[39;00m net \u001b[38;5;129;01mis\u001b[39;00m \u001b[38;5;28;01mNone\u001b[39;00m:\n\u001b[1;32m     24\u001b[0m     act_fn_name \u001b[38;5;241m=\u001b[39m config_dict[\u001b[38;5;124m\"\u001b[39m\u001b[38;5;124mact_fn\u001b[39m\u001b[38;5;124m\"\u001b[39m]\u001b[38;5;241m.\u001b[39mpop(\u001b[38;5;124m\"\u001b[39m\u001b[38;5;124mname\u001b[39m\u001b[38;5;124m\"\u001b[39m)\u001b[38;5;241m.\u001b[39mlower()\n\u001b[0;32m---> 25\u001b[0m     act_fn \u001b[38;5;241m=\u001b[39m \u001b[43mact_fn_by_name\u001b[49m[act_fn_name](\u001b[38;5;241m*\u001b[39m\u001b[38;5;241m*\u001b[39mconfig_dict\u001b[38;5;241m.\u001b[39mpop(\u001b[38;5;124m\"\u001b[39m\u001b[38;5;124mact_fn\u001b[39m\u001b[38;5;124m\"\u001b[39m))\n\u001b[1;32m     26\u001b[0m     net \u001b[38;5;241m=\u001b[39m BaseNetwork(act_fn\u001b[38;5;241m=\u001b[39mact_fn, \u001b[38;5;241m*\u001b[39m\u001b[38;5;241m*\u001b[39mconfig_dict)\n\u001b[1;32m     27\u001b[0m net\u001b[38;5;241m.\u001b[39mload_state_dict(torch\u001b[38;5;241m.\u001b[39mload(model_file, map_location\u001b[38;5;241m=\u001b[39mdevice))\n",
      "\u001b[0;31mNameError\u001b[0m: name 'act_fn_by_name' is not defined"
     ]
    }
   ],
   "source": [
    "net_relu = load_model(model_path=CHECKPOINT_PATH, model_name=\"FashionMNIST_relu\").to(device)\n",
    "measure_number_dead_neurons(net_relu)"
   ]
  },
  {
   "cell_type": "markdown",
   "metadata": {},
   "source": [
    "The number of dead neurons has indeed decreased in the later layers. However, it should be noted that dead neurons are especially problematic in the input layer. As the input does not change over epochs (the training set is kept as it is), training the network cannot turn those neurons back active. Still, the input data has usually a sufficiently high standard deviation to reduce the risk of dead neurons.\n",
    "<div style=\"background-color:#C2F5DD\">\n",
    "Finally, check how the number of dead neurons behaves with increasing layer depth. For instance, try a 10-layer neural network with 256 nodes in the first 5 layers and 128 in the last 5:"
   ]
  },
  {
   "cell_type": "code",
   "execution_count": 21,
   "metadata": {
    "scrolled": false
   },
   "outputs": [
    {
     "ename": "AttributeError",
     "evalue": "'SList' object has no attribute 'layers'",
     "output_type": "error",
     "traceback": [
      "\u001b[0;31m---------------------------------------------------------------------------\u001b[0m",
      "\u001b[0;31mAttributeError\u001b[0m                            Traceback (most recent call last)",
      "Input \u001b[0;32mIn [21]\u001b[0m, in \u001b[0;36m<cell line: 3>\u001b[0;34m()\u001b[0m\n\u001b[1;32m      1\u001b[0m set_seed(\u001b[38;5;241m42\u001b[39m)\n\u001b[1;32m      2\u001b[0m net_relu \u001b[38;5;241m=\u001b[39m get_ipython()\u001b[38;5;241m.\u001b[39mgetoutput(\u001b[38;5;124m'\u001b[39m\u001b[38;5;124m!!!!!!!!!!!!!!!\u001b[39m\u001b[38;5;124m'\u001b[39m)\n\u001b[0;32m----> 3\u001b[0m \u001b[43mmeasure_number_dead_neurons\u001b[49m\u001b[43m(\u001b[49m\u001b[43mnet_relu\u001b[49m\u001b[43m)\u001b[49m\n",
      "Input \u001b[0;32mIn [17]\u001b[0m, in \u001b[0;36mmeasure_number_dead_neurons\u001b[0;34m(net)\u001b[0m\n\u001b[1;32m      1\u001b[0m \u001b[38;5;28;01mdef\u001b[39;00m \u001b[38;5;21mmeasure_number_dead_neurons\u001b[39m(net):\n\u001b[1;32m      2\u001b[0m \n\u001b[1;32m      3\u001b[0m     \u001b[38;5;66;03m# For each neuron, we create a boolean variable initially set to 1. If it has an activation unequals 0 at any time,\u001b[39;00m\n\u001b[1;32m      4\u001b[0m     \u001b[38;5;66;03m# we set this variable to 0. After running through the whole training set, only dead neurons will have a 1.\u001b[39;00m\n\u001b[1;32m      5\u001b[0m     neurons_dead \u001b[38;5;241m=\u001b[39m [\n\u001b[0;32m----> 6\u001b[0m         torch\u001b[38;5;241m.\u001b[39mones(layer\u001b[38;5;241m.\u001b[39mweight\u001b[38;5;241m.\u001b[39mshape[\u001b[38;5;241m0\u001b[39m], device\u001b[38;5;241m=\u001b[39mdevice, dtype\u001b[38;5;241m=\u001b[39mtorch\u001b[38;5;241m.\u001b[39mbool) \u001b[38;5;28;01mfor\u001b[39;00m layer \u001b[38;5;129;01min\u001b[39;00m \u001b[43mnet\u001b[49m\u001b[38;5;241;43m.\u001b[39;49m\u001b[43mlayers\u001b[49m[:\u001b[38;5;241m-\u001b[39m\u001b[38;5;241m1\u001b[39m] \u001b[38;5;28;01mif\u001b[39;00m \u001b[38;5;28misinstance\u001b[39m(layer, nn\u001b[38;5;241m.\u001b[39mLinear)\n\u001b[1;32m      7\u001b[0m     ] \u001b[38;5;66;03m# Same shapes as hidden size in BaseNetwork\u001b[39;00m\n\u001b[1;32m      9\u001b[0m     net\u001b[38;5;241m.\u001b[39meval()\n\u001b[1;32m     10\u001b[0m     \u001b[38;5;28;01mwith\u001b[39;00m torch\u001b[38;5;241m.\u001b[39mno_grad():\n",
      "\u001b[0;31mAttributeError\u001b[0m: 'SList' object has no attribute 'layers'"
     ]
    }
   ],
   "source": [
    "set_seed(42)\n",
    "net_relu = !!!!!!!!!!!!!!!!\n",
    "measure_number_dead_neurons(net_relu)"
   ]
  },
  {
   "cell_type": "markdown",
   "metadata": {},
   "source": [
    "The number of dead neurons is significantly higher than before which harms the gradient flow, especially in the first iterations. For instance, more than 56% of the neurons in the pre-last layer are dead which creates a considerable bottleneck.\n",
    "It is therefore advisible to use other nonlinear activation functions like Swish for very deep networks."
   ]
  },
  {
   "cell_type": "markdown",
   "metadata": {},
   "source": [
    "<hr style=\"border:2px solid gray\">\n",
    "\n",
    "## Conclusion\n",
    "\n",
    "In this notebook, we have reviewed a set of six activation functions (sigmoid, tanh, ReLU, LeakyReLU, ELU, and Swish) in neural networks, and discussed how they influence the gradient distribution across layers. Sigmoid tends to fail deep neural networks as the highest gradient it provides is 0.25 leading to vanishing gradients in early layers. All ReLU-based activation functions have performed well and, besides the original ReLU, do not have the issue of dead neurons. When implementing your own neural network, it is recommended to start with a ReLU-based network and select the specific activation function based on the properties of the network."
   ]
  },
  {
   "cell_type": "markdown",
   "metadata": {},
   "source": [
    "<div style=\"background-color:#efdff2\">\n",
    "\n",
    "# Appendix: Activation Functions Overview\n",
    "\n",
    " \n",
    "### Sigmoid\n",
    "\n",
    "The sigmoid function has the form: $$f(x) = \\frac{1}{1+e^{-x}} = \\frac{e^x}{e^x + 1}$$\n",
    "\n",
    "\n",
    "### Tanh\n",
    "\n",
    "The $tanh$ function has the form: \n",
    "    \n",
    "$$ f(x) = \\tanh(x) = \\frac{e^x - e^{-x}}{e^x + e^{-x}}$$\n",
    "\n",
    "### ReLU\n",
    "\n",
    "ReLU stands for \"Rectified Linear Unit\", and has the form: \n",
    "    \n",
    "$$ f(x) = \\max(0,x) =  \\begin{cases}\n",
    "x, & x > 0 \\\\\n",
    "0, & x \\leq 0\n",
    "\\end{cases}$$\n",
    "    \n",
    "### Leaky ReLU\n",
    "\n",
    "The Leaky ReLU function had the form: \n",
    "    \n",
    "$$ f(x) =  \\begin{cases}\n",
    "  x, & x > 0 \\\\\n",
    "  ax, & x \\leq 0\n",
    " \\end{cases}, \\textrm{ } (a<1).$$\n",
    " \n",
    " \n",
    "### ELU\n",
    "\n",
    "ELU stands for \"Exponential Linear Unit\". Notice that when $\\alpha=0$, it reduces to the ReLU function. ELU has the form:\n",
    "    \n",
    "$$ f(x) = \\begin{cases}\n",
    "  x, & x > 0 \\\\\n",
    "  \\alpha(e^x-1), & x \\leq 0\n",
    " \\end{cases}$$\n",
    "    \n",
    "\n",
    " \n",
    " \n",
    "### Swish\n",
    "\n",
    "The Swish function is the sigmoid function multipied by $x$. It has the form:\n",
    "$$f(x) = \\frac{x}{1+e^{-x}}$$"
   ]
  },
  {
   "cell_type": "code",
   "execution_count": null,
   "metadata": {},
   "outputs": [],
   "source": []
  },
  {
   "cell_type": "markdown",
   "metadata": {},
   "source": [
    "## References\n",
    "\n",
    "[1] Ramachandran, Prajit, Barret Zoph, and Quoc V. Le. \"Searching for activation functions.\" arXiv preprint arXiv:1710.05941 (2017). [Paper link](https://arxiv.org/abs/1710.05941) "
   ]
  }
 ],
 "metadata": {
  "kernelspec": {
   "display_name": "Python 3 (ipykernel)",
   "language": "python",
   "name": "python3"
  },
  "language_info": {
   "codemirror_mode": {
    "name": "ipython",
    "version": 3
   },
   "file_extension": ".py",
   "mimetype": "text/x-python",
   "name": "python",
   "nbconvert_exporter": "python",
   "pygments_lexer": "ipython3",
   "version": "3.8.13"
  }
 },
 "nbformat": 4,
 "nbformat_minor": 4
}
