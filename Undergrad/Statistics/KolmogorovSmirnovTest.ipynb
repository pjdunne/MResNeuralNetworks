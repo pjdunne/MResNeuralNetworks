{
 "cells": [
  {
   "cell_type": "markdown",
   "metadata": {},
   "source": [
    "# Kolmogorov-Smirnov Test\n",
    "\n",
    "The Komogorov-Smirnov (KS) test is desined to detect differences in observed distributions from a model. This test is typically used when you have lots of data available (which is of course the typical scenario you'll be working in). It's not always the most powerful test because its designed to catch all kinds of deviations from your model. It comes in two versions, the 1-sample and 2-sample versions, which we'll cover in this notebook. "
   ]
  },
  {
   "cell_type": "code",
   "execution_count": 1,
   "metadata": {},
   "outputs": [],
   "source": [
    "%matplotlib inline\n",
    "\n",
    "import numpy,pandas,random\n",
    "from scipy.stats import norm\n",
    "\n",
    "import matplotlib.pyplot as plt\n",
    "plt.rcParams.update({'font.size': 14})"
   ]
  },
  {
   "cell_type": "markdown",
   "metadata": {},
   "source": [
    "## 1-sample KS test"
   ]
  },
  {
   "cell_type": "markdown",
   "metadata": {},
   "source": [
    "I've put a file `data_ks.csv` which contains data represented by a random variable $X$. Each entry in the file is an independent random instance of the random variable $X$. "
   ]
  },
  {
   "cell_type": "code",
   "execution_count": 2,
   "metadata": {},
   "outputs": [
    {
     "data": {
      "text/html": [
       "<div>\n",
       "<style scoped>\n",
       "    .dataframe tbody tr th:only-of-type {\n",
       "        vertical-align: middle;\n",
       "    }\n",
       "\n",
       "    .dataframe tbody tr th {\n",
       "        vertical-align: top;\n",
       "    }\n",
       "\n",
       "    .dataframe thead th {\n",
       "        text-align: right;\n",
       "    }\n",
       "</style>\n",
       "<table border=\"1\" class=\"dataframe\">\n",
       "  <thead>\n",
       "    <tr style=\"text-align: right;\">\n",
       "      <th></th>\n",
       "      <th>data_x</th>\n",
       "    </tr>\n",
       "  </thead>\n",
       "  <tbody>\n",
       "    <tr>\n",
       "      <th>0</th>\n",
       "      <td>11.090667</td>\n",
       "    </tr>\n",
       "    <tr>\n",
       "      <th>1</th>\n",
       "      <td>4.846509</td>\n",
       "    </tr>\n",
       "    <tr>\n",
       "      <th>2</th>\n",
       "      <td>8.922837</td>\n",
       "    </tr>\n",
       "    <tr>\n",
       "      <th>3</th>\n",
       "      <td>7.235258</td>\n",
       "    </tr>\n",
       "    <tr>\n",
       "      <th>4</th>\n",
       "      <td>4.033250</td>\n",
       "    </tr>\n",
       "  </tbody>\n",
       "</table>\n",
       "</div>"
      ],
      "text/plain": [
       "      data_x\n",
       "0  11.090667\n",
       "1   4.846509\n",
       "2   8.922837\n",
       "3   7.235258\n",
       "4   4.033250"
      ]
     },
     "execution_count": 2,
     "metadata": {},
     "output_type": "execute_result"
    }
   ],
   "source": [
    "data_ks = pandas.read_csv(\"data_ks.csv\")\n",
    "data_ks.head()"
   ]
  },
  {
   "cell_type": "markdown",
   "metadata": {},
   "source": [
    "We can make a histogram of the data to see how the events are distributed. \n"
   ]
  },
  {
   "cell_type": "code",
   "execution_count": 3,
   "metadata": {},
   "outputs": [
    {
     "data": {
      "image/png": "[encoded data removed]",
      "text/plain": [
       "<Figure size 432x288 with 1 Axes>"
      ]
     },
     "metadata": {
      "needs_background": "light"
     },
     "output_type": "display_data"
    }
   ],
   "source": [
    "data_ks = data_ks[\"data_x\"].to_numpy()\n",
    "plt.hist(data_ks,bins=100)\n",
    "plt.xlabel(\"x\")\n",
    "plt.show()"
   ]
  },
  {
   "cell_type": "markdown",
   "metadata": {},
   "source": [
    "The distribution looks like it could be Gaussian. We can make a hypothesis that the correct probability distribution is a Gaussian distribution. How about we calculate the mean and standard deviation of the data as a good estimate of the parameters $\\mu$ and $\\sigma$ - remember the method of moments!"
   ]
  },
  {
   "cell_type": "code",
   "execution_count": 4,
   "metadata": {},
   "outputs": [
    {
     "name": "stdout",
     "output_type": "stream",
     "text": [
      "mu = 5.945319961951154 , sigma = 2.0638932385824162\n"
     ]
    }
   ],
   "source": [
    "mu    = numpy.mean(data_ks)\n",
    "sigma = numpy.std(data_ks)\n",
    "\n",
    "print(\"mu =\",mu,\", sigma =\",sigma)"
   ]
  },
  {
   "cell_type": "markdown",
   "metadata": {},
   "source": [
    "So we define our *null*  hypothesis $H_{0}$ as a Gaussian probability density with parameters equal to $\\mu=5.945, \\sigma=2.064$. \n",
    "\n",
    "Let's see how well a Gaussian with these parameter values agrees with the data "
   ]
  },
  {
   "cell_type": "code",
   "execution_count": 5,
   "metadata": {},
   "outputs": [
    {
     "data": {
      "image/png": "[encoded data removed]",
      "text/plain": [
       "<Figure size 432x288 with 1 Axes>"
      ]
     },
     "metadata": {
      "needs_background": "light"
     },
     "output_type": "display_data"
    }
   ],
   "source": [
    "xrange = numpy.linspace(-1,14,100)\n",
    "\n",
    "plt.hist(data_ks,bins=100,density=True)\n",
    "plt.plot(xrange,norm.pdf(xrange,mu,sigma),color='red')\n",
    "plt.show()"
   ]
  },
  {
   "cell_type": "markdown",
   "metadata": {},
   "source": [
    "We can test the hypothesis that the data are distributed according to a Gaussian distribution with those parameters using the 1-sample KS test. \n",
    "\n",
    "The KS test is based on the *cumulative distribution function* of the model vs the *empirical cumulative distribution* of the data. The empirical distribution $F_{data}(x)$ is given by, \n",
    "\n",
    "$$\n",
    "F_{data}(x) = \\frac{\\mathrm{number~of~data~values~} < x}{n}\n",
    "$$\n",
    "\n",
    "where $n$ is the number of entries in our data set. "
   ]
  },
  {
   "cell_type": "code",
   "execution_count": 6,
   "metadata": {},
   "outputs": [],
   "source": [
    "# We are passing the sigma as an argument as we'll use it later\n",
    "def cdf(sigma,x):\n",
    "    return norm.cdf(x,mu,sigma)\n",
    "\n",
    "def emp_cdf(data,x):\n",
    "    return float(len(data[data < x]))/len(data)"
   ]
  },
  {
   "cell_type": "markdown",
   "metadata": {},
   "source": [
    "Lets look at the comparison of these two CDFs "
   ]
  },
  {
   "cell_type": "code",
   "execution_count": 7,
   "metadata": {},
   "outputs": [
    {
     "data": {
      "image/png": "[encoded data removed]",
      "text/plain": [
       "<Figure size 432x288 with 1 Axes>"
      ]
     },
     "metadata": {
      "needs_background": "light"
     },
     "output_type": "display_data"
    }
   ],
   "source": [
    "plt.plot(xrange,[cdf(sigma,x) for x in xrange],color='red')\n",
    "plt.plot(xrange,[emp_cdf(data_ks,x) for x in xrange])\n",
    "plt.xlabel(\"$x$\")\n",
    "plt.ylabel(\"$F(x)$ or $F_{data}(x)$\")\n",
    "plt.show()"
   ]
  },
  {
   "cell_type": "markdown",
   "metadata": {},
   "source": [
    "You can see that the CDF plots look rather close to one-another. The 1-sample KS test looks for deviations in these two distributions. First, we define the KS test-statistic, \n",
    "\n",
    "$$\n",
    "D = \\mathrm{sup}_{x}\\left|F_{data}(x)-F(x)\\right|\n",
    "$$\n",
    "\n",
    "What this measures is the largest value over $x$ of the difference between the two CDFs. "
   ]
  },
  {
   "cell_type": "code",
   "execution_count": 8,
   "metadata": {},
   "outputs": [
    {
     "name": "stdout",
     "output_type": "stream",
     "text": [
      "KS test statistic in data D_data = 0.017551243425812824\n"
     ]
    }
   ],
   "source": [
    "def D(sigma,data):\n",
    "    diffs = [abs(cdf(sigma,x)-emp_cdf(data,x)) for x in xrange]\n",
    "    return max(diffs)\n",
    "\n",
    "D_data = D(sigma,data_ks)\n",
    "print(\"KS test statistic in data D_data =\", D_data)"
   ]
  },
  {
   "cell_type": "markdown",
   "metadata": {},
   "source": [
    "Now, remember, we are trying to see if we can reject our $H_0$ hypothesis, so we need to know the distribution of our test statistic $D$ under the null hypothesis. We can do that using pseudo data. We generate random values under our $H_0$ model and calculate the test-statistic. We should use the same number of events as we have in the real data. "
   ]
  },
  {
   "cell_type": "code",
   "execution_count": 9,
   "metadata": {},
   "outputs": [],
   "source": [
    "ntoys = 1000\n",
    "D_toys =  []\n",
    "for i in range(ntoys):\n",
    "    data_t = norm.rvs(mu,sigma,size=len(data_ks))\n",
    "    D_toys.append(D(sigma,data_t))"
   ]
  },
  {
   "cell_type": "code",
   "execution_count": 10,
   "metadata": {},
   "outputs": [
    {
     "data": {
      "image/png": "[encoded data removed]",
      "text/plain": [
       "<Figure size 432x288 with 1 Axes>"
      ]
     },
     "metadata": {
      "needs_background": "light"
     },
     "output_type": "display_data"
    }
   ],
   "source": [
    "plt.hist(D_toys,bins=50)\n",
    "plt.xlabel(\"$D$\")\n",
    "plt.ylabel(\"$p(D|H_{0})$\")\n",
    "plt.plot([D_data,D_data],[0,50],color='black')\n",
    "plt.show()"
   ]
  },
  {
   "cell_type": "markdown",
   "metadata": {},
   "source": [
    "Since larger values of $D$ would indicate worse agreement between the CDFs, our critical region should be constructed from large values of $D$. Suppose we want to set our type-1 error to be $\\alpha=0.05$, we can look at $1-F(D)$ to see at which value of $D=D_{c}$, we find  $1-F(D) = p(D > D_{c}|H_{0})=0.05$. "
   ]
  },
  {
   "cell_type": "code",
   "execution_count": 11,
   "metadata": {},
   "outputs": [
    {
     "data": {
      "text/plain": [
       "Text(0, 0.5, '1-F(D)')"
      ]
     },
     "execution_count": 11,
     "metadata": {},
     "output_type": "execute_result"
    },
    {
     "data": {
      "image/png": "[encoded data removed]",
      "text/plain": [
       "<Figure size 432x288 with 1 Axes>"
      ]
     },
     "metadata": {
      "needs_background": "light"
     },
     "output_type": "display_data"
    }
   ],
   "source": [
    "Drange = numpy.linspace(0,0.06,100)\n",
    "D_toys = numpy.array(D_toys)\n",
    "\n",
    "plt.plot(Drange,[1-float(len(D_toys[D_toys < x]))/len(D_toys) for x in Drange])\n",
    "plt.plot([0,0.06],[0.05,0.05],color='red')\n",
    "plt.xlabel(\"$D$\")\n",
    "plt.ylabel(\"1-F(D)\")"
   ]
  },
  {
   "cell_type": "markdown",
   "metadata": {},
   "source": [
    "You can see that the curve intersects the 0.05 line at around 0.038. This is much larger than our $D_{data}$ which means we cannot exclude the $H_{0}$ (null) hypothesis.\n",
    "\n",
    "Given a fixed value of $\\alpha=0.05$ we have a critical region of $D>0.038$. We might be interested in knowing what the *power* of this test is. Remember that we defined the power as the probability to reject $H_{0}$ given the alternate hypothesis $H_{1}$ is true. I.e, we would have,\n",
    "\n",
    "$p(D>0.038|H_{1}) = 1-\\beta = \\mathrm{power}$.\n",
    "\n",
    "But hold on, we don't have a $H_{1}$ yet so how can we calculate it? Well we have to try different $H_{1}$ and see how the power changes. Since we assumed a gaussian distribution with $\\mu$ and $\\sigma$, we can propose as alternative hypotheses, different values of the $\\sigma$ parameter. \n",
    "\n",
    "In order to check the power for different values of $\\sigma$, we can generate the distribution of $D$ under the hypothesis $H_{1}\\rvert_{\\sigma_{H_{1}}}$. Lets pick $\\sigma_{H_{1}} = 1.9$"
   ]
  },
  {
   "cell_type": "code",
   "execution_count": 12,
   "metadata": {},
   "outputs": [],
   "source": [
    "sigma_H1 = 1.9\n",
    "D_toys_H1 = []\n",
    "for i in range(ntoys):\n",
    "  data_t = norm.rvs(mu,sigma_H1,size=len(data_ks))\n",
    "  D_toys_H1.append(D(sigma_H1,data_t))\n"
   ]
  },
  {
   "cell_type": "code",
   "execution_count": 13,
   "metadata": {},
   "outputs": [
    {
     "data": {
      "image/png": "[encoded data removed]",
      "text/plain": [
       "<Figure size 432x288 with 1 Axes>"
      ]
     },
     "metadata": {
      "needs_background": "light"
     },
     "output_type": "display_data"
    }
   ],
   "source": [
    "plt.hist(D_toys,bins=50,histtype='step',label=\"$H_{0}$\")\n",
    "plt.hist(D_toys_H1,bins=50,histtype='step',color='red',label=\"$H_{1}$\")\n",
    "plt.xlabel(\"$D$\")\n",
    "plt.ylabel(\"$p(D|H_{0})$\")\n",
    "plt.plot([D_data,D_data],[0,50],color='black')\n",
    "plt.legend()\n",
    "plt.show()"
   ]
  },
  {
   "cell_type": "markdown",
   "metadata": {},
   "source": [
    "You can see that the distribution is quite similar between the two. In this case, the power would be quite small."
   ]
  },
  {
   "cell_type": "code",
   "execution_count": 14,
   "metadata": {},
   "outputs": [
    {
     "name": "stdout",
     "output_type": "stream",
     "text": [
      "Power at sigma_H1=1.9 0.057\n"
     ]
    }
   ],
   "source": [
    "D_toys_H1 = numpy.array(D_toys_H1)\n",
    "print(\"Power at sigma_H1=1.9\",float(len(D_toys_H1[D_toys_H1 > 0.038]))/len(D_toys_H1))"
   ]
  },
  {
   "cell_type": "markdown",
   "metadata": {},
   "source": [
    "We can see what this power looks like for other hypotheses $H_{1}$ (other values of $\\sigma_{H_{1}}$). The cell below takes a little while to run "
   ]
  },
  {
   "cell_type": "code",
   "execution_count": 15,
   "metadata": {},
   "outputs": [],
   "source": [
    "ntoys = 5000\n",
    "sigma_range = numpy.linspace(1,3,10)\n",
    "powers = []\n",
    "for sigma_H1 in sigma_range: \n",
    "    D_toys_H1 = []\n",
    "    for i in range(ntoys):\n",
    "      data_t = norm.rvs(mu,sigma_H1,size=len(data_ks))\n",
    "      D_toys_H1.append(D(sigma_H1,data_t))\n",
    "    D_toys_H1 = numpy.array(D_toys_H1)\n",
    "    powers.append(float(len(D_toys_H1[D_toys_H1 > 0.038]))/len(D_toys_H1))"
   ]
  },
  {
   "cell_type": "code",
   "execution_count": 16,
   "metadata": {},
   "outputs": [
    {
     "data": {
      "image/png": "[encoded data removed]",
      "text/plain": [
       "<Figure size 432x288 with 1 Axes>"
      ]
     },
     "metadata": {
      "needs_background": "light"
     },
     "output_type": "display_data"
    }
   ],
   "source": [
    "plt.plot(sigma_range,powers,marker='o')\n",
    "plt.xlabel(\"$\\sigma_{H_{1}}$\")\n",
    "plt.ylabel(\"$1-\\\\beta$\")\n",
    "plt.show()"
   ]
  },
  {
   "cell_type": "markdown",
   "metadata": {},
   "source": [
    "## 2-sample KS test\n",
    "\n",
    "The 2-sample KS test  is needed when you want to compare two distributions in data and do not have a model. In this case, we want to know if the two distributions in data come from the same underlying model or not. In this case our $H_{0}$ is the hypothesis that they are the *same* underlying distribution. \n",
    "\n",
    "We'll be looking at an example from particle physics where we've trained a Boosted Decision tree (BDT), designed to separate a new Higgs boson decaying to photons $H\\rightarrow \\gamma\\gamma$ from a very large background. \n",
    "\n",
    "I have some simulated events of $H\\rightarrow \\gamma\\gamma$ where for each event, I have evaluated the BDT and put the resulting values in a dataframe. When you come to work with classifiers (such as BDTs or neural-networks), you'll find that you often want to use some data to train the model, and some to test its performance. You'll learn that sometimes these models can be *over-trained* meaning that instead of learning the underlying model, the BDT or network has instead learned the particular features of the data used to train it. Comparing the distribution of the output of the BDT (or neural-network) from data used to train and an independent  data set is a great way to test if the model is overtrained.  "
   ]
  },
  {
   "cell_type": "code",
   "execution_count": 17,
   "metadata": {},
   "outputs": [
    {
     "data": {
      "image/png": "[encoded data removed]",
      "text/plain": [
       "<Figure size 432x288 with 1 Axes>"
      ]
     },
     "metadata": {
      "needs_background": "light"
     },
     "output_type": "display_data"
    }
   ],
   "source": [
    "data_train = pandas.read_csv(\"Hgg_VBF_BDT_train.csv\")\n",
    "data_train = data_train['train_scores'].to_numpy()\n",
    "\n",
    "data_test = pandas.read_csv(\"Hgg_VBF_BDT_test.csv\")\n",
    "data_test = data_test['test_scores'].to_numpy()\n",
    "\n",
    "plt.hist(data_test,color='blue',histtype='step',density=\"True\",bins=100,label='Test')\n",
    "plt.hist(data_train,color='red',histtype='step',density=\"True\",bins=100,label='Train')\n",
    "plt.xlabel(\"BDT output\")\n",
    "plt.legend()\n",
    "plt.show()"
   ]
  },
  {
   "cell_type": "markdown",
   "metadata": {},
   "source": [
    "And we can compare the emprical CDFs for both. "
   ]
  },
  {
   "cell_type": "code",
   "execution_count": 18,
   "metadata": {},
   "outputs": [
    {
     "data": {
      "text/plain": [
       "Text(0, 0.5, '$F(BDT)$')"
      ]
     },
     "execution_count": 18,
     "metadata": {},
     "output_type": "execute_result"
    },
    {
     "data": {
      "image/png": "[encoded data removed]",
      "text/plain": [
       "<Figure size 432x288 with 1 Axes>"
      ]
     },
     "metadata": {
      "needs_background": "light"
     },
     "output_type": "display_data"
    }
   ],
   "source": [
    "xrange = numpy.linspace(0,1,100)\n",
    "plt.plot(xrange,[emp_cdf(data_test,x) for x in xrange],color='blue',label='Test')\n",
    "plt.plot(xrange,[emp_cdf(data_train,x) for x in xrange],color='red',label='Train')\n",
    "plt.legend()\n",
    "plt.xlabel(\"BDT output\")\n",
    "plt.ylabel(\"$F(BDT)$\")"
   ]
  },
  {
   "cell_type": "markdown",
   "metadata": {},
   "source": [
    "In the 2-sample KS test, our test-statistic is based on the two empirical CDFs, one for each dataset. \n",
    "\n",
    "$$\n",
    "D_{2} = \\mathrm{sup}_{x}\\left|F_{test data}(x)-F_{train data}(x)\\right|\n",
    "$$\n"
   ]
  },
  {
   "cell_type": "code",
   "execution_count": 19,
   "metadata": {},
   "outputs": [
    {
     "name": "stdout",
     "output_type": "stream",
     "text": [
      "D2_data for 2-sample KS= 0.002559906481293006\n"
     ]
    }
   ],
   "source": [
    "def D2(data_test,data_train):\n",
    "    diffs = [abs(emp_cdf(data_test,x)-emp_cdf(data_train,x)) for x in xrange]\n",
    "    return max(diffs)\n",
    "\n",
    "D2_data = D2(data_test,data_train)\n",
    "print(\"D2_data for 2-sample KS=\",D2_data)"
   ]
  },
  {
   "cell_type": "markdown",
   "metadata": {},
   "source": [
    "But how do we know if this value in data is typical under the assumption that the two distributions originate from the same underlying distribution or not? Again we need to know the distribution of $D_{2}$ under $H_{0}$. \n",
    "\n",
    "We can assume that the most likely distribution that they are both distributed as is the average of the two distributions. So we make a new dataset combining the two, and use bootstrapping to estimate the distribution of $D_{2}$ (it might take a little while to run)"
   ]
  },
  {
   "cell_type": "code",
   "execution_count": 20,
   "metadata": {},
   "outputs": [],
   "source": [
    "data_all = numpy.append(data_test,data_train)\n",
    "\n",
    "D2bs = []\n",
    "nsamples  = 100\n",
    "\n",
    "for sample in range(nsamples):\n",
    " bootstrap_test  = numpy.array(random.choices(data_all,k=len(data_test)))\n",
    " bootstrap_train = numpy.array(random.choices(data_all,k=len(data_train)))\n",
    " D2bs.append(D2(bootstrap_test,bootstrap_train))"
   ]
  },
  {
   "cell_type": "code",
   "execution_count": 21,
   "metadata": {},
   "outputs": [
    {
     "data": {
      "image/png": "[encoded data removed]",
      "text/plain": [
       "<Figure size 432x288 with 1 Axes>"
      ]
     },
     "metadata": {
      "needs_background": "light"
     },
     "output_type": "display_data"
    }
   ],
   "source": [
    "plt.hist(D2bs,bins=10)\n",
    "plt.xlabel(\"$D_{2}$\")\n",
    "plt.plot([D2_data,D2_data],[0,20],color='black')\n",
    "plt.show()"
   ]
  },
  {
   "cell_type": "markdown",
   "metadata": {},
   "source": [
    "Again, the data value of $D_{2}$ is well inside the distribution (will not be in the critical region) so we cannot reject the $H_0$ hypothesis. "
   ]
  }
 ],
 "metadata": {
  "kernelspec": {
   "display_name": "Python 3",
   "language": "python",
   "name": "python3"
  },
  "language_info": {
   "codemirror_mode": {
    "name": "ipython",
    "version": 3
   },
   "file_extension": ".py",
   "mimetype": "text/x-python",
   "name": "python",
   "nbconvert_exporter": "python",
   "pygments_lexer": "ipython3",
   "version": "3.7.6"
  }
 },
 "nbformat": 4,
 "nbformat_minor": 5
}
