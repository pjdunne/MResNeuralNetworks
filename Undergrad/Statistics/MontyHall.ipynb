{
 "cells": [
  {
   "cell_type": "markdown",
   "metadata": {},
   "source": [
    "# Monty Hall gameshow \n",
    "\n",
    "From the lectures, we showed using Bayes' theorem that in the Monte Hall gameshow, the most successful strategy (counter-intuitively) is to swap, rather than stick. We'll confirm this in a simulation.\n",
    "\n",
    "Remember in the Monte Hall gameshow, we have three boxes A, B and C, one of which contains a prize. \n",
    "\n",
    "![MontyHall](MontyHall.png)\n",
    "\n",
    "The game goes as follows \n",
    "\n",
    "1. You pick a box but don't open it \n",
    "2. The host opens one of the other two boxes and opens it, revealing that it doesn't contain the prize\n",
    "3. You are offered the choice to swap boxes with the remaining unopened box or stick with your original choice \n",
    "\n",
    "Start with the usual imports. Numpy has a `random.choice` module that will be useful to simulate the games."
   ]
  },
  {
   "cell_type": "code",
   "execution_count": null,
   "metadata": {},
   "outputs": [],
   "source": [
    "%matplotlib notebook\n",
    "import numpy\n",
    "import matplotlib.pyplot as plt\n",
    "import matplotlib.animation as animation\n",
    "\n",
    "plt.rc('font', size=14) \n",
    "plt.rcParams['figure.figsize'] = (6, 6)"
   ]
  },
  {
   "cell_type": "markdown",
   "metadata": {},
   "source": [
    "Now, we play the game `ngames` times and fill a histogram with the results. In our games, the box that contains the prize is random, but actually that doesn't matter since our choice is also random. \n",
    "\n",
    "The module `random.choice` picks from a list at random. We need to use reduced lists based on the choices made by the player and which box has the prize so for that we use the list comprehension functionality in python ` [x for x in list if statement] `."
   ]
  },
  {
   "cell_type": "code",
   "execution_count": null,
   "metadata": {},
   "outputs": [],
   "source": [
    "prize_boxes = [\"A\",\"B\",\"C\"]\n",
    "\n",
    "def playmontehall(strategy,ngames=1):\n",
    "   games = []\n",
    "   for n in range(ngames) :\n",
    "    prize = numpy.random.choice(prize_boxes)\n",
    "\n",
    "    # player chooses a box\n",
    "    player_choice = numpy.random.choice(prize_boxes)\n",
    "\n",
    "    # host opens a box from remaning boxes.\n",
    "    remaining_choices = [c for c in prize_boxes if c not in [prize,player_choice]]\n",
    "    host_choice = numpy.random.choice(remaining_choices)\n",
    "    remaining_box = [c for c in prize_boxes if c not in [host_choice,player_choice]]\n",
    "\n",
    "    # now player can swap or stick\n",
    "    if strategy == \"swap\":\n",
    "     original_choice = player_choice\n",
    "     player_choice = remaining_box[0]\n",
    "     if ngames <=1 : print(\"Player chose box %s originally, host opened box %s, player swapped to box %s\"%(original_choice,host_choice,player_choice))\n",
    "    else:\n",
    "     if ngames <=1 : print(\"Player chose box %s, host opened box %s\"%(player_choice,host_choice))\n",
    "    if ngames <=1 :\n",
    "      print(\" .... prize was in box %s\"%(prize))\n",
    "      if player_choice==prize: print(\" -----> WIN!\")\n",
    "      else: print(\" -----> LOSE :(\")\n",
    "\n",
    "    if player_choice==prize: games.append(\"win\")\n",
    "    else : games.append(\"lose\")\n",
    "   return games"
   ]
  },
  {
   "cell_type": "code",
   "execution_count": null,
   "metadata": {},
   "outputs": [],
   "source": [
    "playmontehall(\"stick\")"
   ]
  },
  {
   "cell_type": "markdown",
   "metadata": {},
   "source": [
    "Now, we play the game ngames times and fill a histogram with the results. In our games, the box that contains the prize is random, but actually that doesn't matter since our choice is also random.\n",
    "\n",
    "We'll see how often each strategy wins."
   ]
  },
  {
   "cell_type": "code",
   "execution_count": null,
   "metadata": {},
   "outputs": [],
   "source": [
    "Ngames = 1000\n",
    "games_stick = playmontehall(\"stick\",ngames=Ngames)\n",
    "games_swap  = playmontehall(\"swap\" ,ngames=Ngames)\n",
    "\n",
    "def update(curr):\n",
    "    if curr==Ngames:\n",
    "        a.event_source.stop()\n",
    "    plt.cla()\n",
    "\n",
    "    plt.hist(games_stick[:curr], align='left',label=\"Stick\")\n",
    "    plt.hist(games_swap[:curr], align='right',label=\"Swap\")\n",
    "    plt.legend()\n",
    "\n",
    "fig =  plt.figure()\n",
    "a = animation.FuncAnimation(fig,update,interval=1)\n",
    "plt.show()"
   ]
  },
  {
   "cell_type": "code",
   "execution_count": null,
   "metadata": {},
   "outputs": [],
   "source": []
  }
 ],
 "metadata": {
  "kernelspec": {
   "display_name": "Python 3 (ipykernel)",
   "language": "python",
   "name": "python3"
  },
  "language_info": {
   "codemirror_mode": {
    "name": "ipython",
    "version": 3
   },
   "file_extension": ".py",
   "mimetype": "text/x-python",
   "name": "python",
   "nbconvert_exporter": "python",
   "pygments_lexer": "ipython3",
   "version": "3.8.5"
  }
 },
 "nbformat": 4,
 "nbformat_minor": 4
}
